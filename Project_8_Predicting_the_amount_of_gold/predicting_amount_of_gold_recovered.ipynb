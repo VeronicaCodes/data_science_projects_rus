{
 "cells": [
  {
   "cell_type": "markdown",
   "metadata": {
    "toc": true
   },
   "source": [
    "<h1>Содержание<span class=\"tocSkip\"></span></h1>\n",
    "<div class=\"toc\"><ul class=\"toc-item\"><li><span><a href=\"#Описание-данных\" data-toc-modified-id=\"Описание-данных-1\"><span class=\"toc-item-num\">1&nbsp;&nbsp;</span>Описание данных</a></span></li><li><span><a href=\"#Подготовка-данных\" data-toc-modified-id=\"Подготовка-данных-2\"><span class=\"toc-item-num\">2&nbsp;&nbsp;</span>Подготовка данных</a></span><ul class=\"toc-item\"><li><span><a href=\"#Первичная-обработка-файлов-данных\" data-toc-modified-id=\"Первичная-обработка-файлов-данных-2.1\"><span class=\"toc-item-num\">2.1&nbsp;&nbsp;</span>Первичная обработка файлов данных</a></span></li><li><span><a href=\"#Проверка-расчетов-эффективности-флотации\" data-toc-modified-id=\"Проверка-расчетов-эффективности-флотации-2.2\"><span class=\"toc-item-num\">2.2&nbsp;&nbsp;</span>Проверка расчетов эффективности флотации</a></span></li><li><span><a href=\"#Анализ-признаков-вне-тестовой-выборки\" data-toc-modified-id=\"Анализ-признаков-вне-тестовой-выборки-2.3\"><span class=\"toc-item-num\">2.3&nbsp;&nbsp;</span>Анализ признаков вне тестовой выборки</a></span></li><li><span><a href=\"#Вторичная-обработка-данных\" data-toc-modified-id=\"Вторичная-обработка-данных-2.4\"><span class=\"toc-item-num\">2.4&nbsp;&nbsp;</span>Вторичная обработка данных</a></span><ul class=\"toc-item\"><li><span><a href=\"#Обработка-df_train\" data-toc-modified-id=\"Обработка-df_train-2.4.1\"><span class=\"toc-item-num\">2.4.1&nbsp;&nbsp;</span>Обработка df_train</a></span></li><li><span><a href=\"#Обработка-df_test\" data-toc-modified-id=\"Обработка-df_test-2.4.2\"><span class=\"toc-item-num\">2.4.2&nbsp;&nbsp;</span>Обработка df_test</a></span></li></ul></li></ul></li><li><span><a href=\"#Анализ-данных\" data-toc-modified-id=\"Анализ-данных-3\"><span class=\"toc-item-num\">3&nbsp;&nbsp;</span>Анализ данных</a></span><ul class=\"toc-item\"><li><span><a href=\"#Анализ-изменений-концентрации-металлов\" data-toc-modified-id=\"Анализ-изменений-концентрации-металлов-3.1\"><span class=\"toc-item-num\">3.1&nbsp;&nbsp;</span>Анализ изменений концентрации металлов</a></span></li><li><span><a href=\"#Сравнение-распределений-гранул-сырья\" data-toc-modified-id=\"Сравнение-распределений-гранул-сырья-3.2\"><span class=\"toc-item-num\">3.2&nbsp;&nbsp;</span>Сравнение распределений гранул сырья</a></span></li><li><span><a href=\"#Анализ-суммарной-концентрации-веществ\" data-toc-modified-id=\"Анализ-суммарной-концентрации-веществ-3.3\"><span class=\"toc-item-num\">3.3&nbsp;&nbsp;</span>Анализ суммарной концентрации веществ</a></span></li></ul></li><li><span><a href=\"#Обучение-и-тестирование-моделей\" data-toc-modified-id=\"Обучение-и-тестирование-моделей-4\"><span class=\"toc-item-num\">4&nbsp;&nbsp;</span>Обучение и тестирование моделей</a></span><ul class=\"toc-item\"><li><span><a href=\"#Модель:-Случайный-Лес\" data-toc-modified-id=\"Модель:-Случайный-Лес-4.1\"><span class=\"toc-item-num\">4.1&nbsp;&nbsp;</span>Модель: Случайный Лес</a></span></li><li><span><a href=\"#Модель:-Линейная-Регрессия\" data-toc-modified-id=\"Модель:-Линейная-Регрессия-4.2\"><span class=\"toc-item-num\">4.2&nbsp;&nbsp;</span>Модель: Линейная Регрессия</a></span></li><li><span><a href=\"#Проверка-на-тестовой-выборке-и-сравнение-с-константной-моделью\" data-toc-modified-id=\"Проверка-на-тестовой-выборке-и-сравнение-с-константной-моделью-4.3\"><span class=\"toc-item-num\">4.3&nbsp;&nbsp;</span>Проверка на тестовой выборке и сравнение с константной моделью</a></span></li></ul></li>"
   ]
  },
  {
   "cell_type": "markdown",
   "metadata": {},
   "source": [
    "# Восстановление золота из руды"
   ]
  },
  {
   "cell_type": "markdown",
   "metadata": {},
   "source": [
    "Подготовьте прототип модели машинного обучения для «Цифры». Компания разрабатывает решения для эффективной работы промышленных предприятий.\n",
    "\n",
    "Модель должна предсказать коэффициент восстановления золота из золотосодержащей руды. Используйте данные с параметрами добычи и очистки. \n",
    "\n",
    "Модель поможет оптимизировать производство, чтобы не запускать предприятие с убыточными характеристиками.\n",
    "\n",
    "Вам нужно:\n",
    "\n",
    "1. Подготовить данные;\n",
    "2. Провести исследовательский анализ данных;\n",
    "3. Построить и обучить модель.\n",
    "\n",
    "Чтобы выполнить проект, обращайтесь к библиотекам *pandas*, *matplotlib* и *sklearn.* Вам поможет их документация."
   ]
  },
  {
   "cell_type": "markdown",
   "metadata": {},
   "source": [
    "## Описание данных"
   ]
  },
  {
   "cell_type": "markdown",
   "metadata": {},
   "source": [
    "*Технологический процесс*\n",
    "<br>Rougher feed — исходное сырье\n",
    "<br>Rougher additions (или reagent additions) — флотационные реагенты: Xanthate, Sulphate, Depressant\n",
    "<br>Xanthate — ксантогенат (промотер, или активатор флотации);\n",
    "<br>Sulphate — сульфат (на данном производстве сульфид натрия);\n",
    "<br>Depressant — депрессант (силикат натрия).\n",
    "<br>Rougher process (англ. «грубый процесс») — флотация\n",
    "<br>Rougher tails — отвальные хвосты\n",
    "<br>Float banks — флотационная установка\n",
    "<br>Cleaner process — очистка\n",
    "<br>Rougher Au — черновой концентрат золота\n",
    "<br>Final Au — финальный концентрат золота\n",
    "\n",
    "*Параметры этапов*\n",
    "<br>air amount — объём воздуха\n",
    "<br>fluid levels — уровень жидкости\n",
    "<br>feed size — размер гранул сырья\n",
    "<br>feed rate — скорость подачи\n",
    "\n",
    "*Наименование признаков*\n",
    "<br>[этап].[тип_параметра].[название_параметра]\n",
    "<br>Пример: rougher.input.feed_ag\n",
    "\n",
    "1. Возможные значения для блока [этап]:\n",
    "<br>rougher — флотация\n",
    "<br>primary_cleaner — первичная очистка\n",
    "<br>secondary_cleaner — вторичная очистка\n",
    "<br>final — финальные характеристики\n",
    "\n",
    "2. Возможные значения для блока [тип_параметра]:\n",
    "<br>input — параметры сырья\n",
    "<br>output — параметры продукта\n",
    "<br>state — параметры, характеризующие текущее состояние этапа\n",
    "<br>calculation — расчётные характеристики"
   ]
  },
  {
   "cell_type": "markdown",
   "metadata": {},
   "source": [
    "## Подготовка данных"
   ]
  },
  {
   "cell_type": "code",
   "execution_count": 256,
   "metadata": {},
   "outputs": [],
   "source": [
    "# импорт библиотек\n",
    "import pandas as pd\n",
    "import numpy as np\n",
    "import matplotlib.pyplot as plt\n",
    "from sklearn.model_selection import train_test_split\n",
    "from sklearn.linear_model import LinearRegression\n",
    "from sklearn.ensemble import RandomForestRegressor\n",
    "from sklearn.preprocessing import StandardScaler\n",
    "from sklearn.metrics import mean_absolute_error\n",
    "from scipy import stats as st\n",
    "from scipy.stats import ks_2samp\n",
    "from sklearn.tree import DecisionTreeClassifier\n",
    "from sklearn.model_selection import cross_val_score\n",
    "from statsmodels.stats.outliers_influence import variance_inflation_factor\n",
    "from sklearn.metrics import fbeta_score, make_scorer\n",
    "from sklearn.dummy import DummyRegressor\n",
    "import warnings\n",
    "warnings.filterwarnings('ignore') "
   ]
  },
  {
   "cell_type": "markdown",
   "metadata": {},
   "source": [
    "### Первичная обработка файлов данных"
   ]
  },
  {
   "cell_type": "code",
   "execution_count": 257,
   "metadata": {},
   "outputs": [],
   "source": [
    "df_train = pd.read_csv('/datasets/gold_recovery_train_new.csv', index_col='date', parse_dates=True)\n",
    "df_test = pd.read_csv('/datasets/gold_recovery_test_new.csv', index_col='date', parse_dates=True)\n",
    "df_full = pd.read_csv('/datasets/gold_recovery_full_new.csv', index_col='date', parse_dates=True)"
   ]
  },
  {
   "cell_type": "code",
   "execution_count": 258,
   "metadata": {},
   "outputs": [
    {
     "name": "stdout",
     "output_type": "stream",
     "text": [
      "Duplicates:\n",
      "df_train: 0\n",
      "df_test: 0\n",
      "df_full: 0\n"
     ]
    },
    {
     "data": {
      "text/html": [
       "<div>\n",
       "<style scoped>\n",
       "    .dataframe tbody tr th:only-of-type {\n",
       "        vertical-align: middle;\n",
       "    }\n",
       "\n",
       "    .dataframe tbody tr th {\n",
       "        vertical-align: top;\n",
       "    }\n",
       "\n",
       "    .dataframe thead th {\n",
       "        text-align: right;\n",
       "    }\n",
       "</style>\n",
       "<table border=\"1\" class=\"dataframe\">\n",
       "  <thead>\n",
       "    <tr style=\"text-align: right;\">\n",
       "      <th></th>\n",
       "      <th>final.output.concentrate_ag</th>\n",
       "      <th>final.output.concentrate_pb</th>\n",
       "      <th>final.output.concentrate_sol</th>\n",
       "      <th>final.output.concentrate_au</th>\n",
       "      <th>final.output.recovery</th>\n",
       "      <th>final.output.tail_ag</th>\n",
       "      <th>final.output.tail_pb</th>\n",
       "      <th>final.output.tail_sol</th>\n",
       "      <th>final.output.tail_au</th>\n",
       "      <th>primary_cleaner.input.sulfate</th>\n",
       "      <th>...</th>\n",
       "      <th>secondary_cleaner.state.floatbank4_a_air</th>\n",
       "      <th>secondary_cleaner.state.floatbank4_a_level</th>\n",
       "      <th>secondary_cleaner.state.floatbank4_b_air</th>\n",
       "      <th>secondary_cleaner.state.floatbank4_b_level</th>\n",
       "      <th>secondary_cleaner.state.floatbank5_a_air</th>\n",
       "      <th>secondary_cleaner.state.floatbank5_a_level</th>\n",
       "      <th>secondary_cleaner.state.floatbank5_b_air</th>\n",
       "      <th>secondary_cleaner.state.floatbank5_b_level</th>\n",
       "      <th>secondary_cleaner.state.floatbank6_a_air</th>\n",
       "      <th>secondary_cleaner.state.floatbank6_a_level</th>\n",
       "    </tr>\n",
       "    <tr>\n",
       "      <th>date</th>\n",
       "      <th></th>\n",
       "      <th></th>\n",
       "      <th></th>\n",
       "      <th></th>\n",
       "      <th></th>\n",
       "      <th></th>\n",
       "      <th></th>\n",
       "      <th></th>\n",
       "      <th></th>\n",
       "      <th></th>\n",
       "      <th></th>\n",
       "      <th></th>\n",
       "      <th></th>\n",
       "      <th></th>\n",
       "      <th></th>\n",
       "      <th></th>\n",
       "      <th></th>\n",
       "      <th></th>\n",
       "      <th></th>\n",
       "      <th></th>\n",
       "      <th></th>\n",
       "    </tr>\n",
       "  </thead>\n",
       "  <tbody>\n",
       "    <tr>\n",
       "      <td>2016-01-15 00:00:00</td>\n",
       "      <td>6.055403</td>\n",
       "      <td>9.889648</td>\n",
       "      <td>5.507324</td>\n",
       "      <td>42.192020</td>\n",
       "      <td>70.541216</td>\n",
       "      <td>10.411962</td>\n",
       "      <td>0.895447</td>\n",
       "      <td>16.904297</td>\n",
       "      <td>2.143149</td>\n",
       "      <td>127.092003</td>\n",
       "      <td>...</td>\n",
       "      <td>14.016835</td>\n",
       "      <td>-502.488007</td>\n",
       "      <td>12.099931</td>\n",
       "      <td>-504.715942</td>\n",
       "      <td>9.925633</td>\n",
       "      <td>-498.310211</td>\n",
       "      <td>8.079666</td>\n",
       "      <td>-500.470978</td>\n",
       "      <td>14.151341</td>\n",
       "      <td>-605.841980</td>\n",
       "    </tr>\n",
       "    <tr>\n",
       "      <td>2016-01-15 01:00:00</td>\n",
       "      <td>6.029369</td>\n",
       "      <td>9.968944</td>\n",
       "      <td>5.257781</td>\n",
       "      <td>42.701629</td>\n",
       "      <td>69.266198</td>\n",
       "      <td>10.462676</td>\n",
       "      <td>0.927452</td>\n",
       "      <td>16.634514</td>\n",
       "      <td>2.224930</td>\n",
       "      <td>125.629232</td>\n",
       "      <td>...</td>\n",
       "      <td>13.992281</td>\n",
       "      <td>-505.503262</td>\n",
       "      <td>11.950531</td>\n",
       "      <td>-501.331529</td>\n",
       "      <td>10.039245</td>\n",
       "      <td>-500.169983</td>\n",
       "      <td>7.984757</td>\n",
       "      <td>-500.582168</td>\n",
       "      <td>13.998353</td>\n",
       "      <td>-599.787184</td>\n",
       "    </tr>\n",
       "    <tr>\n",
       "      <td>2016-01-15 02:00:00</td>\n",
       "      <td>6.055926</td>\n",
       "      <td>10.213995</td>\n",
       "      <td>5.383759</td>\n",
       "      <td>42.657501</td>\n",
       "      <td>68.116445</td>\n",
       "      <td>10.507046</td>\n",
       "      <td>0.953716</td>\n",
       "      <td>16.208849</td>\n",
       "      <td>2.257889</td>\n",
       "      <td>123.819808</td>\n",
       "      <td>...</td>\n",
       "      <td>14.015015</td>\n",
       "      <td>-502.520901</td>\n",
       "      <td>11.912783</td>\n",
       "      <td>-501.133383</td>\n",
       "      <td>10.070913</td>\n",
       "      <td>-500.129135</td>\n",
       "      <td>8.013877</td>\n",
       "      <td>-500.517572</td>\n",
       "      <td>14.028663</td>\n",
       "      <td>-601.427363</td>\n",
       "    </tr>\n",
       "    <tr>\n",
       "      <td>2016-01-15 03:00:00</td>\n",
       "      <td>6.047977</td>\n",
       "      <td>9.977019</td>\n",
       "      <td>4.858634</td>\n",
       "      <td>42.689819</td>\n",
       "      <td>68.347543</td>\n",
       "      <td>10.422762</td>\n",
       "      <td>0.883763</td>\n",
       "      <td>16.532835</td>\n",
       "      <td>2.146849</td>\n",
       "      <td>122.270188</td>\n",
       "      <td>...</td>\n",
       "      <td>14.036510</td>\n",
       "      <td>-500.857308</td>\n",
       "      <td>11.999550</td>\n",
       "      <td>-501.193686</td>\n",
       "      <td>9.970366</td>\n",
       "      <td>-499.201640</td>\n",
       "      <td>7.977324</td>\n",
       "      <td>-500.255908</td>\n",
       "      <td>14.005551</td>\n",
       "      <td>-599.996129</td>\n",
       "    </tr>\n",
       "    <tr>\n",
       "      <td>2016-01-15 04:00:00</td>\n",
       "      <td>6.148599</td>\n",
       "      <td>10.142511</td>\n",
       "      <td>4.939416</td>\n",
       "      <td>42.774141</td>\n",
       "      <td>66.927016</td>\n",
       "      <td>10.360302</td>\n",
       "      <td>0.792826</td>\n",
       "      <td>16.525686</td>\n",
       "      <td>2.055292</td>\n",
       "      <td>117.988169</td>\n",
       "      <td>...</td>\n",
       "      <td>14.027298</td>\n",
       "      <td>-499.838632</td>\n",
       "      <td>11.953070</td>\n",
       "      <td>-501.053894</td>\n",
       "      <td>9.925709</td>\n",
       "      <td>-501.686727</td>\n",
       "      <td>7.894242</td>\n",
       "      <td>-500.356035</td>\n",
       "      <td>13.996647</td>\n",
       "      <td>-601.496691</td>\n",
       "    </tr>\n",
       "  </tbody>\n",
       "</table>\n",
       "<p>5 rows × 86 columns</p>\n",
       "</div>"
      ],
      "text/plain": [
       "                     final.output.concentrate_ag  final.output.concentrate_pb  \\\n",
       "date                                                                            \n",
       "2016-01-15 00:00:00                     6.055403                     9.889648   \n",
       "2016-01-15 01:00:00                     6.029369                     9.968944   \n",
       "2016-01-15 02:00:00                     6.055926                    10.213995   \n",
       "2016-01-15 03:00:00                     6.047977                     9.977019   \n",
       "2016-01-15 04:00:00                     6.148599                    10.142511   \n",
       "\n",
       "                     final.output.concentrate_sol  \\\n",
       "date                                                \n",
       "2016-01-15 00:00:00                      5.507324   \n",
       "2016-01-15 01:00:00                      5.257781   \n",
       "2016-01-15 02:00:00                      5.383759   \n",
       "2016-01-15 03:00:00                      4.858634   \n",
       "2016-01-15 04:00:00                      4.939416   \n",
       "\n",
       "                     final.output.concentrate_au  final.output.recovery  \\\n",
       "date                                                                      \n",
       "2016-01-15 00:00:00                    42.192020              70.541216   \n",
       "2016-01-15 01:00:00                    42.701629              69.266198   \n",
       "2016-01-15 02:00:00                    42.657501              68.116445   \n",
       "2016-01-15 03:00:00                    42.689819              68.347543   \n",
       "2016-01-15 04:00:00                    42.774141              66.927016   \n",
       "\n",
       "                     final.output.tail_ag  final.output.tail_pb  \\\n",
       "date                                                              \n",
       "2016-01-15 00:00:00             10.411962              0.895447   \n",
       "2016-01-15 01:00:00             10.462676              0.927452   \n",
       "2016-01-15 02:00:00             10.507046              0.953716   \n",
       "2016-01-15 03:00:00             10.422762              0.883763   \n",
       "2016-01-15 04:00:00             10.360302              0.792826   \n",
       "\n",
       "                     final.output.tail_sol  final.output.tail_au  \\\n",
       "date                                                               \n",
       "2016-01-15 00:00:00              16.904297              2.143149   \n",
       "2016-01-15 01:00:00              16.634514              2.224930   \n",
       "2016-01-15 02:00:00              16.208849              2.257889   \n",
       "2016-01-15 03:00:00              16.532835              2.146849   \n",
       "2016-01-15 04:00:00              16.525686              2.055292   \n",
       "\n",
       "                     primary_cleaner.input.sulfate  ...  \\\n",
       "date                                                ...   \n",
       "2016-01-15 00:00:00                     127.092003  ...   \n",
       "2016-01-15 01:00:00                     125.629232  ...   \n",
       "2016-01-15 02:00:00                     123.819808  ...   \n",
       "2016-01-15 03:00:00                     122.270188  ...   \n",
       "2016-01-15 04:00:00                     117.988169  ...   \n",
       "\n",
       "                     secondary_cleaner.state.floatbank4_a_air  \\\n",
       "date                                                            \n",
       "2016-01-15 00:00:00                                 14.016835   \n",
       "2016-01-15 01:00:00                                 13.992281   \n",
       "2016-01-15 02:00:00                                 14.015015   \n",
       "2016-01-15 03:00:00                                 14.036510   \n",
       "2016-01-15 04:00:00                                 14.027298   \n",
       "\n",
       "                     secondary_cleaner.state.floatbank4_a_level  \\\n",
       "date                                                              \n",
       "2016-01-15 00:00:00                                 -502.488007   \n",
       "2016-01-15 01:00:00                                 -505.503262   \n",
       "2016-01-15 02:00:00                                 -502.520901   \n",
       "2016-01-15 03:00:00                                 -500.857308   \n",
       "2016-01-15 04:00:00                                 -499.838632   \n",
       "\n",
       "                     secondary_cleaner.state.floatbank4_b_air  \\\n",
       "date                                                            \n",
       "2016-01-15 00:00:00                                 12.099931   \n",
       "2016-01-15 01:00:00                                 11.950531   \n",
       "2016-01-15 02:00:00                                 11.912783   \n",
       "2016-01-15 03:00:00                                 11.999550   \n",
       "2016-01-15 04:00:00                                 11.953070   \n",
       "\n",
       "                     secondary_cleaner.state.floatbank4_b_level  \\\n",
       "date                                                              \n",
       "2016-01-15 00:00:00                                 -504.715942   \n",
       "2016-01-15 01:00:00                                 -501.331529   \n",
       "2016-01-15 02:00:00                                 -501.133383   \n",
       "2016-01-15 03:00:00                                 -501.193686   \n",
       "2016-01-15 04:00:00                                 -501.053894   \n",
       "\n",
       "                     secondary_cleaner.state.floatbank5_a_air  \\\n",
       "date                                                            \n",
       "2016-01-15 00:00:00                                  9.925633   \n",
       "2016-01-15 01:00:00                                 10.039245   \n",
       "2016-01-15 02:00:00                                 10.070913   \n",
       "2016-01-15 03:00:00                                  9.970366   \n",
       "2016-01-15 04:00:00                                  9.925709   \n",
       "\n",
       "                     secondary_cleaner.state.floatbank5_a_level  \\\n",
       "date                                                              \n",
       "2016-01-15 00:00:00                                 -498.310211   \n",
       "2016-01-15 01:00:00                                 -500.169983   \n",
       "2016-01-15 02:00:00                                 -500.129135   \n",
       "2016-01-15 03:00:00                                 -499.201640   \n",
       "2016-01-15 04:00:00                                 -501.686727   \n",
       "\n",
       "                     secondary_cleaner.state.floatbank5_b_air  \\\n",
       "date                                                            \n",
       "2016-01-15 00:00:00                                  8.079666   \n",
       "2016-01-15 01:00:00                                  7.984757   \n",
       "2016-01-15 02:00:00                                  8.013877   \n",
       "2016-01-15 03:00:00                                  7.977324   \n",
       "2016-01-15 04:00:00                                  7.894242   \n",
       "\n",
       "                     secondary_cleaner.state.floatbank5_b_level  \\\n",
       "date                                                              \n",
       "2016-01-15 00:00:00                                 -500.470978   \n",
       "2016-01-15 01:00:00                                 -500.582168   \n",
       "2016-01-15 02:00:00                                 -500.517572   \n",
       "2016-01-15 03:00:00                                 -500.255908   \n",
       "2016-01-15 04:00:00                                 -500.356035   \n",
       "\n",
       "                     secondary_cleaner.state.floatbank6_a_air  \\\n",
       "date                                                            \n",
       "2016-01-15 00:00:00                                 14.151341   \n",
       "2016-01-15 01:00:00                                 13.998353   \n",
       "2016-01-15 02:00:00                                 14.028663   \n",
       "2016-01-15 03:00:00                                 14.005551   \n",
       "2016-01-15 04:00:00                                 13.996647   \n",
       "\n",
       "                     secondary_cleaner.state.floatbank6_a_level  \n",
       "date                                                             \n",
       "2016-01-15 00:00:00                                 -605.841980  \n",
       "2016-01-15 01:00:00                                 -599.787184  \n",
       "2016-01-15 02:00:00                                 -601.427363  \n",
       "2016-01-15 03:00:00                                 -599.996129  \n",
       "2016-01-15 04:00:00                                 -601.496691  \n",
       "\n",
       "[5 rows x 86 columns]"
      ]
     },
     "metadata": {},
     "output_type": "display_data"
    }
   ],
   "source": [
    "# 1 Found missing values\n",
    "\n",
    "# 1 Found missing values\n",
    "# Filling missing values in each of datasets\n",
    "df_train = df_train.fillna(method='ffill')#.reset_index(drop=True)#.fillna(method='ffill')\n",
    "df_test = df_test.fillna(method='ffill')\n",
    "df_full = df_full.fillna(method='ffill')\n",
    "        \n",
    "# Checking for duplicates\n",
    "print('Duplicates:')\n",
    "print('df_train:',df_train.duplicated().sum())\n",
    "print('df_test:',df_test.duplicated().sum())\n",
    "print('df_full:',df_full.duplicated().sum())\n",
    "\n",
    "display(df_full.head(5))\n",
    "\n",
    "target = df_full[['rougher.output.recovery','final.output.recovery']]\n",
    "features = df_full.drop(['rougher.output.recovery','final.output.recovery'], axis=1)                         "
   ]
  },
  {
   "cell_type": "code",
   "execution_count": 259,
   "metadata": {},
   "outputs": [],
   "source": [
    "features_1 = df_test.columns.values\n",
    "targets_1 = ['rougher.output.recovery', 'final.output.recovery']\n",
    "\n",
    "features_df_train = df_train[features_1].reset_index(drop=True)\n",
    "target_df_train = df_train[targets_1].reset_index(drop=True)\n",
    "features_df_test = df_test[features_1].reset_index(drop=True)\n",
    "target_df_test = df_full[targets_1].loc[df_test.index].reset_index(drop=True)"
   ]
  },
  {
   "cell_type": "markdown",
   "metadata": {},
   "source": [
    "**Выводы:** \n",
    "1. С помощью метода .info() было найдено большое количество пропущенных значений в каждом из данных файлов. Т.к. мы рассматриваем химико-технологические процессы, то все пропуски были заполнены предыдущим не-нулевым значением до пропуска с помощью .fillna(method='ffill').\n",
    "2. Дубликаты в данных не найдены."
   ]
  },
  {
   "cell_type": "markdown",
   "metadata": {},
   "source": [
    "### Проверка расчетов эффективности флотации"
   ]
  },
  {
   "cell_type": "markdown",
   "metadata": {},
   "source": [
    "C — доля золота в концентрате после флотации/очистки - 'rougher.output.concentrate_au',\n",
    "<br>F — доля золота в сырье/концентрате до флотации/очистки - 'rougher.input.feed_au',\n",
    "<br>T — доля золота в отвальных хвостах после флотации/очистки – 'rougher.output.tail_au'."
   ]
  },
  {
   "cell_type": "code",
   "execution_count": 260,
   "metadata": {},
   "outputs": [
    {
     "name": "stdout",
     "output_type": "stream",
     "text": [
      "Estimated recovery: 82.705 %\n",
      "Given recovery: 82.705 %\n",
      "MAE: 9.682896147825551e-15\n"
     ]
    }
   ],
   "source": [
    "#  Checking the efficiency of flotation\n",
    "\n",
    "#df_train['rougher.output.recovery'].describe()\n",
    "recovery = (df_train['rougher.output.concentrate_au'] \n",
    "            * (df_train['rougher.input.feed_au'] \n",
    "               - df_train['rougher.output.tail_au']))/(df_train['rougher.input.feed_au'] \n",
    "                                                       * (df_train['rougher.output.concentrate_au'] \n",
    "                                                          - df_train['rougher.output.tail_au']))*100\n",
    "\n",
    "# Comparing the mean of the calculated recovery with in the original data\n",
    "\n",
    "print('Estimated recovery:', round(recovery.mean(),3),'%')\n",
    "print('Given recovery:',round(df_train['rougher.output.recovery'].mean(),3),'%')\n",
    "\n",
    "# Calculating MAE\n",
    "\n",
    "print('MAE:',mean_absolute_error(df_train['rougher.output.recovery'], recovery ))"
   ]
  },
  {
   "cell_type": "markdown",
   "metadata": {},
   "source": [
    "**Выводы:** \n",
    "1. С помощью заранее известной формулы (Recovery = (C*(F-T)/(F*(C-T))*100%) рассчитана recovery (эффективность обогащения). Recovery = 82.7%\n",
    "2. Рассчитанное Recovery было сравнено со средним значением в столбце 'rougher.output.recovery'. Итоговый процент идентичен, ошибки в формуле нет.\n",
    "3. Рассчитали Mean Absolute Error (MAE) для рассчитанной эффективности обогащения по формуле и данной в данных. Коэффициент ошибки равен ~$9.6*10^{-15}$, что означает, что между рассчитанными и данными значениями очень маленькая средняя ошибка между значениями."
   ]
  },
  {
   "cell_type": "markdown",
   "metadata": {},
   "source": [
    "### Анализ признаков вне тестовой выборки"
   ]
  },
  {
   "cell_type": "code",
   "execution_count": 261,
   "metadata": {},
   "outputs": [
    {
     "name": "stdout",
     "output_type": "stream",
     "text": [
      "Columns not in df_test:\n",
      "\n",
      "final.output.concentrate_ag\n",
      "final.output.concentrate_pb\n",
      "final.output.concentrate_sol\n",
      "final.output.concentrate_au\n",
      "final.output.recovery\n",
      "final.output.tail_ag\n",
      "final.output.tail_pb\n",
      "final.output.tail_sol\n",
      "final.output.tail_au\n",
      "primary_cleaner.output.concentrate_ag\n",
      "primary_cleaner.output.concentrate_pb\n",
      "primary_cleaner.output.concentrate_sol\n",
      "primary_cleaner.output.concentrate_au\n",
      "primary_cleaner.output.tail_ag\n",
      "primary_cleaner.output.tail_pb\n",
      "primary_cleaner.output.tail_sol\n",
      "primary_cleaner.output.tail_au\n",
      "rougher.calculation.sulfate_to_au_concentrate\n",
      "rougher.calculation.floatbank10_sulfate_to_au_feed\n",
      "rougher.calculation.floatbank11_sulfate_to_au_feed\n",
      "rougher.calculation.au_pb_ratio\n",
      "rougher.output.concentrate_ag\n",
      "rougher.output.concentrate_pb\n",
      "rougher.output.concentrate_sol\n",
      "rougher.output.concentrate_au\n",
      "rougher.output.recovery\n",
      "rougher.output.tail_ag\n",
      "rougher.output.tail_pb\n",
      "rougher.output.tail_sol\n",
      "rougher.output.tail_au\n",
      "secondary_cleaner.output.tail_ag\n",
      "secondary_cleaner.output.tail_pb\n",
      "secondary_cleaner.output.tail_sol\n",
      "secondary_cleaner.output.tail_au\n",
      "\n"
     ]
    }
   ],
   "source": [
    "print('Columns not in df_test:')\n",
    "print()\n",
    "for i in df_full:\n",
    "    if i not in df_test:\n",
    "        print(i)\n",
    "        pass\n",
    "print()\n",
    "#df_full.info()"
   ]
  },
  {
   "cell_type": "markdown",
   "metadata": {},
   "source": [
    "**Выводы:**  Изначально нам известно, что из-за того, что некоторые параметры замеряются и/или рассчитываются значительно позже,в тестовой выборке отсутствуют некоторые признаки.\n",
    "1. С помощью цикла были отобраны те названия столбцов в df_full, которых нет в df_test. Можно сделать вывод, что в тестовой выборке отсутствуют такие типы параметров, как output(параметры продукта) и calculation (расчетные характеристики). Т.е. в df_test присутствуют только input (параметры сырья) и state(параметры, характеризующие текущее состояние этапа) и данная выборка не поможет предсказать насколько эффективно было обогащение."
   ]
  },
  {
   "cell_type": "markdown",
   "metadata": {},
   "source": [
    "### Вторичная обработка данных"
   ]
  },
  {
   "cell_type": "markdown",
   "metadata": {},
   "source": [
    "#### Обработка df_train"
   ]
  },
  {
   "cell_type": "code",
   "execution_count": 262,
   "metadata": {},
   "outputs": [],
   "source": [
    "corr_matrix_train = features_df_train.corr().abs()\n",
    "\n",
    "# Selecting upper triangle of correlation matrix\n",
    "upper_train = corr_matrix_train.where(np.triu(np.ones(corr_matrix_train.shape), k=1).astype(np.bool))\n",
    "\n",
    "# Finding features with correlation greater than 0.95\n",
    "highly_correlated_vars_train = [column for column in upper_train.columns if any(upper_train[column] > 0.90)]\n",
    "\n",
    "features_df_train = features_df_train.drop(highly_correlated_vars_train, axis=1) \n",
    "features_df_train = features_df_train.loc[:,['feed_size' not in i for i in features_df_train.columns]]\n",
    "features_df_train = features_df_train.loc[:,['feed_rate' not in i for i in features_df_train.columns]]"
   ]
  },
  {
   "cell_type": "markdown",
   "metadata": {},
   "source": [
    "#### Обработка df_test"
   ]
  },
  {
   "cell_type": "code",
   "execution_count": 263,
   "metadata": {},
   "outputs": [],
   "source": [
    "corr_matrix_test = features_df_test.corr().abs()\n",
    "\n",
    "# Selecting upper triangle of correlation matrix\n",
    "upper_test = corr_matrix_test.where(np.triu(np.ones(corr_matrix_test.shape), k=1).astype(np.bool))\n",
    "\n",
    "# Finding features with correlation greater than 0.95\n",
    "highly_correlated_vars_test = [column for column in upper_test.columns if any(upper_test[column] > 0.90)]\n",
    "\n",
    "features_df_test = features_df_test.drop(highly_correlated_vars_test, axis=1) \n",
    "features_df_test = features_df_test.loc[:,['feed_rate' not in i for i in features_df_test.columns]]"
   ]
  },
  {
   "cell_type": "markdown",
   "metadata": {},
   "source": [
    "**Выводы:** \n",
    "1. Отобраны целевые признаки: 'rougher.output.recovery','final.output.recovery'\n",
    "2. Найдена высокая корреляция в столбцах с типами параметров state и calculation - они были удалены из датасета, чтобы избежать ошибок при обучении модели.\n",
    "3. В описании данных говорится, что feed size, feed rate - параметры, которые объединяют в себе остальные элементы, поэтому они тоже были удалены из таблицы\n",
    "\n",
    "В итоге, из изначальных 85 столбцов с данными, для дальнейшей работы нам потребуются только 42 (с целевыми признаками, включительно)."
   ]
  },
  {
   "cell_type": "markdown",
   "metadata": {},
   "source": [
    "## Анализ данных"
   ]
  },
  {
   "cell_type": "markdown",
   "metadata": {},
   "source": [
    "### Анализ изменений концентрации металлов"
   ]
  },
  {
   "cell_type": "code",
   "execution_count": 264,
   "metadata": {},
   "outputs": [
    {
     "data": {
      "text/plain": [
       "'3 stages of Ag:'"
      ]
     },
     "metadata": {},
     "output_type": "display_data"
    },
    {
     "data": {
      "text/html": [
       "<div>\n",
       "<style scoped>\n",
       "    .dataframe tbody tr th:only-of-type {\n",
       "        vertical-align: middle;\n",
       "    }\n",
       "\n",
       "    .dataframe tbody tr th {\n",
       "        vertical-align: top;\n",
       "    }\n",
       "\n",
       "    .dataframe thead th {\n",
       "        text-align: right;\n",
       "    }\n",
       "</style>\n",
       "<table border=\"1\" class=\"dataframe\">\n",
       "  <thead>\n",
       "    <tr style=\"text-align: right;\">\n",
       "      <th></th>\n",
       "      <th>rougher.output.concentrate_ag</th>\n",
       "      <th>primary_cleaner.output.concentrate_ag</th>\n",
       "      <th>final.output.concentrate_ag</th>\n",
       "    </tr>\n",
       "  </thead>\n",
       "  <tbody>\n",
       "    <tr>\n",
       "      <td>count</td>\n",
       "      <td>19439.000000</td>\n",
       "      <td>19439.000000</td>\n",
       "      <td>19439.000000</td>\n",
       "    </tr>\n",
       "    <tr>\n",
       "      <td>mean</td>\n",
       "      <td>11.994759</td>\n",
       "      <td>8.442408</td>\n",
       "      <td>5.168387</td>\n",
       "    </tr>\n",
       "    <tr>\n",
       "      <td>std</td>\n",
       "      <td>2.733862</td>\n",
       "      <td>2.054465</td>\n",
       "      <td>1.372362</td>\n",
       "    </tr>\n",
       "    <tr>\n",
       "      <td>min</td>\n",
       "      <td>0.000000</td>\n",
       "      <td>0.000000</td>\n",
       "      <td>0.000000</td>\n",
       "    </tr>\n",
       "    <tr>\n",
       "      <td>25%</td>\n",
       "      <td>10.628337</td>\n",
       "      <td>7.263288</td>\n",
       "      <td>4.251000</td>\n",
       "    </tr>\n",
       "    <tr>\n",
       "      <td>50%</td>\n",
       "      <td>12.098115</td>\n",
       "      <td>8.507298</td>\n",
       "      <td>5.066039</td>\n",
       "    </tr>\n",
       "    <tr>\n",
       "      <td>75%</td>\n",
       "      <td>13.736996</td>\n",
       "      <td>9.809001</td>\n",
       "      <td>5.895401</td>\n",
       "    </tr>\n",
       "    <tr>\n",
       "      <td>max</td>\n",
       "      <td>24.480271</td>\n",
       "      <td>16.081632</td>\n",
       "      <td>16.001945</td>\n",
       "    </tr>\n",
       "  </tbody>\n",
       "</table>\n",
       "</div>"
      ],
      "text/plain": [
       "       rougher.output.concentrate_ag  primary_cleaner.output.concentrate_ag  \\\n",
       "count                   19439.000000                           19439.000000   \n",
       "mean                       11.994759                               8.442408   \n",
       "std                         2.733862                               2.054465   \n",
       "min                         0.000000                               0.000000   \n",
       "25%                        10.628337                               7.263288   \n",
       "50%                        12.098115                               8.507298   \n",
       "75%                        13.736996                               9.809001   \n",
       "max                        24.480271                              16.081632   \n",
       "\n",
       "       final.output.concentrate_ag  \n",
       "count                 19439.000000  \n",
       "mean                      5.168387  \n",
       "std                       1.372362  \n",
       "min                       0.000000  \n",
       "25%                       4.251000  \n",
       "50%                       5.066039  \n",
       "75%                       5.895401  \n",
       "max                      16.001945  "
      ]
     },
     "metadata": {},
     "output_type": "display_data"
    },
    {
     "name": "stdout",
     "output_type": "stream",
     "text": [
      "\n"
     ]
    },
    {
     "data": {
      "text/plain": [
       "'3 stages of Pb:'"
      ]
     },
     "metadata": {},
     "output_type": "display_data"
    },
    {
     "data": {
      "text/html": [
       "<div>\n",
       "<style scoped>\n",
       "    .dataframe tbody tr th:only-of-type {\n",
       "        vertical-align: middle;\n",
       "    }\n",
       "\n",
       "    .dataframe tbody tr th {\n",
       "        vertical-align: top;\n",
       "    }\n",
       "\n",
       "    .dataframe thead th {\n",
       "        text-align: right;\n",
       "    }\n",
       "</style>\n",
       "<table border=\"1\" class=\"dataframe\">\n",
       "  <thead>\n",
       "    <tr style=\"text-align: right;\">\n",
       "      <th></th>\n",
       "      <th>rougher.output.concentrate_pb</th>\n",
       "      <th>primary_cleaner.output.concentrate_pb</th>\n",
       "      <th>final.output.concentrate_pb</th>\n",
       "    </tr>\n",
       "  </thead>\n",
       "  <tbody>\n",
       "    <tr>\n",
       "      <td>count</td>\n",
       "      <td>19439.000000</td>\n",
       "      <td>19439.000000</td>\n",
       "      <td>19439.000000</td>\n",
       "    </tr>\n",
       "    <tr>\n",
       "      <td>mean</td>\n",
       "      <td>7.606272</td>\n",
       "      <td>9.810317</td>\n",
       "      <td>9.978821</td>\n",
       "    </tr>\n",
       "    <tr>\n",
       "      <td>std</td>\n",
       "      <td>1.796757</td>\n",
       "      <td>2.572253</td>\n",
       "      <td>1.669228</td>\n",
       "    </tr>\n",
       "    <tr>\n",
       "      <td>min</td>\n",
       "      <td>0.000000</td>\n",
       "      <td>0.000000</td>\n",
       "      <td>0.000000</td>\n",
       "    </tr>\n",
       "    <tr>\n",
       "      <td>25%</td>\n",
       "      <td>6.725987</td>\n",
       "      <td>8.676500</td>\n",
       "      <td>9.137225</td>\n",
       "    </tr>\n",
       "    <tr>\n",
       "      <td>50%</td>\n",
       "      <td>7.742580</td>\n",
       "      <td>10.142270</td>\n",
       "      <td>10.102264</td>\n",
       "    </tr>\n",
       "    <tr>\n",
       "      <td>75%</td>\n",
       "      <td>8.565199</td>\n",
       "      <td>11.416298</td>\n",
       "      <td>11.035644</td>\n",
       "    </tr>\n",
       "    <tr>\n",
       "      <td>max</td>\n",
       "      <td>13.617072</td>\n",
       "      <td>17.081278</td>\n",
       "      <td>17.031899</td>\n",
       "    </tr>\n",
       "  </tbody>\n",
       "</table>\n",
       "</div>"
      ],
      "text/plain": [
       "       rougher.output.concentrate_pb  primary_cleaner.output.concentrate_pb  \\\n",
       "count                   19439.000000                           19439.000000   \n",
       "mean                        7.606272                               9.810317   \n",
       "std                         1.796757                               2.572253   \n",
       "min                         0.000000                               0.000000   \n",
       "25%                         6.725987                               8.676500   \n",
       "50%                         7.742580                              10.142270   \n",
       "75%                         8.565199                              11.416298   \n",
       "max                        13.617072                              17.081278   \n",
       "\n",
       "       final.output.concentrate_pb  \n",
       "count                 19439.000000  \n",
       "mean                      9.978821  \n",
       "std                       1.669228  \n",
       "min                       0.000000  \n",
       "25%                       9.137225  \n",
       "50%                      10.102264  \n",
       "75%                      11.035644  \n",
       "max                      17.031899  "
      ]
     },
     "metadata": {},
     "output_type": "display_data"
    },
    {
     "name": "stdout",
     "output_type": "stream",
     "text": [
      "\n"
     ]
    },
    {
     "data": {
      "text/plain": [
       "'3 stages of Au:'"
      ]
     },
     "metadata": {},
     "output_type": "display_data"
    },
    {
     "data": {
      "text/html": [
       "<div>\n",
       "<style scoped>\n",
       "    .dataframe tbody tr th:only-of-type {\n",
       "        vertical-align: middle;\n",
       "    }\n",
       "\n",
       "    .dataframe tbody tr th {\n",
       "        vertical-align: top;\n",
       "    }\n",
       "\n",
       "    .dataframe thead th {\n",
       "        text-align: right;\n",
       "    }\n",
       "</style>\n",
       "<table border=\"1\" class=\"dataframe\">\n",
       "  <thead>\n",
       "    <tr style=\"text-align: right;\">\n",
       "      <th></th>\n",
       "      <th>rougher.output.concentrate_au</th>\n",
       "      <th>primary_cleaner.output.concentrate_au</th>\n",
       "      <th>final.output.concentrate_au</th>\n",
       "    </tr>\n",
       "  </thead>\n",
       "  <tbody>\n",
       "    <tr>\n",
       "      <td>count</td>\n",
       "      <td>19439.000000</td>\n",
       "      <td>19439.000000</td>\n",
       "      <td>19439.000000</td>\n",
       "    </tr>\n",
       "    <tr>\n",
       "      <td>mean</td>\n",
       "      <td>19.772000</td>\n",
       "      <td>32.119400</td>\n",
       "      <td>44.076513</td>\n",
       "    </tr>\n",
       "    <tr>\n",
       "      <td>std</td>\n",
       "      <td>3.753600</td>\n",
       "      <td>5.627611</td>\n",
       "      <td>5.129784</td>\n",
       "    </tr>\n",
       "    <tr>\n",
       "      <td>min</td>\n",
       "      <td>0.000000</td>\n",
       "      <td>0.000000</td>\n",
       "      <td>0.000000</td>\n",
       "    </tr>\n",
       "    <tr>\n",
       "      <td>25%</td>\n",
       "      <td>18.802523</td>\n",
       "      <td>30.463140</td>\n",
       "      <td>43.402215</td>\n",
       "    </tr>\n",
       "    <tr>\n",
       "      <td>50%</td>\n",
       "      <td>20.280214</td>\n",
       "      <td>32.841295</td>\n",
       "      <td>45.011244</td>\n",
       "    </tr>\n",
       "    <tr>\n",
       "      <td>75%</td>\n",
       "      <td>21.717843</td>\n",
       "      <td>35.048006</td>\n",
       "      <td>46.275313</td>\n",
       "    </tr>\n",
       "    <tr>\n",
       "      <td>max</td>\n",
       "      <td>28.824507</td>\n",
       "      <td>45.933934</td>\n",
       "      <td>52.756638</td>\n",
       "    </tr>\n",
       "  </tbody>\n",
       "</table>\n",
       "</div>"
      ],
      "text/plain": [
       "       rougher.output.concentrate_au  primary_cleaner.output.concentrate_au  \\\n",
       "count                   19439.000000                           19439.000000   \n",
       "mean                       19.772000                              32.119400   \n",
       "std                         3.753600                               5.627611   \n",
       "min                         0.000000                               0.000000   \n",
       "25%                        18.802523                              30.463140   \n",
       "50%                        20.280214                              32.841295   \n",
       "75%                        21.717843                              35.048006   \n",
       "max                        28.824507                              45.933934   \n",
       "\n",
       "       final.output.concentrate_au  \n",
       "count                 19439.000000  \n",
       "mean                     44.076513  \n",
       "std                       5.129784  \n",
       "min                       0.000000  \n",
       "25%                      43.402215  \n",
       "50%                      45.011244  \n",
       "75%                      46.275313  \n",
       "max                      52.756638  "
      ]
     },
     "metadata": {},
     "output_type": "display_data"
    }
   ],
   "source": [
    "# Analysing the changes in metals' (Au, Ag, Pb) concentration during each of the production stages \n",
    "stages_ag = features[['rougher.output.concentrate_ag','primary_cleaner.output.concentrate_ag','final.output.concentrate_ag']]\n",
    "stages_pb = features[['rougher.output.concentrate_pb','primary_cleaner.output.concentrate_pb','final.output.concentrate_pb']]\n",
    "stages_au = features[['rougher.output.concentrate_au','primary_cleaner.output.concentrate_au','final.output.concentrate_au']]\n",
    "\n",
    "display('3 stages of Ag:',stages_ag.describe())\n",
    "print()\n",
    "display('3 stages of Pb:',stages_pb.describe())\n",
    "print()\n",
    "display('3 stages of Au:',stages_au.describe())"
   ]
  },
  {
   "cell_type": "markdown",
   "metadata": {},
   "source": [
    "Каждый вид металла был собран в отдельный датасет с учетом каждого из этапов обогащения. С помощью метода .describe() получили информацию по каждому из металлов.\n",
    "<br>**Выводы:** \n",
    "<br>(Этапы анализировались от начального - rougher, до промежуточного - primary-cleaner, до финального - final.В этапе secondary_cleaner нет данных по металлам) \n",
    "1. Ag (серебро): в процессе прохождения этапов от rougher do final, среднее кол-во серебра (mean) уменьшилось на 6.8%, максимальное количество (max) уменьшилось на 8.4%.\n",
    "2. Pb (свинец): в процессе прохождения этапов от rougher do final, среднее кол-во свинца (mean) увеличилось на 2.2%, максимальное количество (max) увеличилось на 3.4%.\n",
    "3. Au (золото): в процессе прохождения этапов от rougher do final, среднее кол-во золота (mean) увеличилось на 24.3%, максимальное количество (max) увеличилось на 23.2%."
   ]
  },
  {
   "cell_type": "markdown",
   "metadata": {},
   "source": [
    "### Сравнение распределений гранул сырья"
   ]
  },
  {
   "cell_type": "code",
   "execution_count": 265,
   "metadata": {},
   "outputs": [
    {
     "data": {
      "image/png": "[encoded data removed]",
      "text/plain": [
       "<Figure size 720x720 with 1 Axes>"
      ]
     },
     "metadata": {
      "needs_background": "light"
     },
     "output_type": "display_data"
    },
    {
     "name": "stdout",
     "output_type": "stream",
     "text": [
      "df_train_size_mean: 60.23985599255732\n",
      "df_test_size_mean: 55.95275402889513\n"
     ]
    }
   ],
   "source": [
    "x = df_train['rougher.input.feed_size']\n",
    "y = df_test['rougher.input.feed_size']\n",
    "\n",
    "# Creating a function to build histograms to analyze data\n",
    "def outlier(df1,df2):\n",
    "    q_min1 = df1.quantile(0.25) - (df1.quantile(0.75) - df1.quantile(0.25))*3\n",
    "    q_max1 = df1.quantile(0.75) + (df1.quantile(0.75) - df1.quantile(0.25))*3\n",
    "    q_min2 = df2.quantile(0.25) - (df2.quantile(0.75) - df2.quantile(0.25))*3\n",
    "    q_max2 = df2.quantile(0.75) + (df2.quantile(0.75) - df2.quantile(0.25))*3\n",
    "    df1.plot(kind='hist',bins='fd',figsize=(10,10), grid=True, xlim=(q_min1,q_max1),alpha=0.7)\n",
    "    df2.plot(kind='hist',bins='fd',figsize=(10,10), grid=True, xlim=(q_min2,q_max2),alpha=0.5)\n",
    "outlier(x,y)\n",
    "plt.show()\n",
    "\n",
    "print('df_train_size_mean:',x.mean())\n",
    "print('df_test_size_mean:',y.mean())"
   ]
  },
  {
   "cell_type": "markdown",
   "metadata": {},
   "source": [
    "**Выводы:** \n",
    "1. Основное количество значений в одном и том же столбце в двух разных выборках распределено в пределах 40-85, максимальное количество значений находятся в пределах от 40-60. \n",
    "2. Оба распределения стремятся к нормальному(распределение Пуассона), но с небольшим скосом вправо.\n",
    "3. На гистограммах максимальные значения близки к среднему. По теории ЦПР это означает, что в выборках достаточно наблюдений для анализа.\n",
    "4. В обеих выборках зафиксированы выбросы. В обучающей выборке выбросы находятся в пределах 50-55, в тестовой выборке - в пределах 40-45."
   ]
  },
  {
   "cell_type": "markdown",
   "metadata": {},
   "source": [
    "Проверим наличие выбросов на полной выборке (df_full):"
   ]
  },
  {
   "cell_type": "code",
   "execution_count": 266,
   "metadata": {},
   "outputs": [
    {
     "data": {
      "image/png": "[encoded data removed]",
      "text/plain": [
       "<Figure size 720x720 with 1 Axes>"
      ]
     },
     "metadata": {
      "needs_background": "light"
     },
     "output_type": "display_data"
    },
    {
     "name": "stdout",
     "output_type": "stream",
     "text": [
      "count    19439.000000\n",
      "mean        59.073193\n",
      "std         22.088720\n",
      "min          0.046369\n",
      "25%         47.485218\n",
      "50%         54.657268\n",
      "75%         64.996715\n",
      "max        484.967466\n",
      "Name: rougher.input.feed_size, dtype: float64\n"
     ]
    }
   ],
   "source": [
    "#print(df_full['rougher.input.feed_size'].head())\n",
    "\n",
    "#Writing similar function to analyse histogram for df_full\n",
    "\n",
    "def outlier2(dt):\n",
    "    q_min = dt.quantile(0.25) - (dt.quantile(0.75) - dt.quantile(0.25))*4\n",
    "    q_max = dt.quantile(0.75) + (dt.quantile(0.75) - dt.quantile(0.25))*4\n",
    "    dt.plot(kind='hist',bins='fd',figsize=(10,10), grid=True, xlim=(q_min,q_max), alpha=0.7)\n",
    "outlier2(df_full['rougher.input.feed_size'])\n",
    "plt.show()\n",
    "\n",
    "print(df_full['rougher.input.feed_size'].describe())"
   ]
  },
  {
   "cell_type": "markdown",
   "metadata": {},
   "source": [
    "**Выводы:** \n",
    "1. Основное количество значений распределено в пределах 40-100, максимальное количество значений находятся в пределах от 40-65. \n",
    "2. Распределение стремится к нормальному(распределение Пуассона).\n",
    "3. В выборке зафиксированы выбросы. В обучающей выборке выбросы находятся в пределах 40-55.\n",
    "4. Метод .describe() показал, что менее 25% значений выше 4го квантиля (выше 64), в то время как максимальное значение достигает 484.\n",
    "\n",
    "*Итог:* Не известно, какой именно элемент вызывает аномалию в данных, а feed_size - это совокупный признак с размерами всех элементов, поэтому еще при предобработке данных (шаг 2.4) этот столбец не был включен в данные features, с которыми мы будем работать далее."
   ]
  },
  {
   "cell_type": "markdown",
   "metadata": {},
   "source": [
    "### Анализ суммарной концентрации веществ"
   ]
  },
  {
   "cell_type": "code",
   "execution_count": 267,
   "metadata": {},
   "outputs": [
    {
     "name": "stdout",
     "output_type": "stream",
     "text": [
      "Blue: rougher_substance\n",
      "Orange: primary_cleaner_substance\n",
      "Green: final_substance\n"
     ]
    },
    {
     "data": {
      "image/png": "[encoded data removed]",
      "text/plain": [
       "<Figure size 720x720 with 1 Axes>"
      ]
     },
     "metadata": {
      "needs_background": "light"
     },
     "output_type": "display_data"
    }
   ],
   "source": [
    "# Exploring the total concentration of all substances at different stages\n",
    "\n",
    "final_substance = df_full['final.output.concentrate_ag']+df_full['final.output.concentrate_pb']+df_full['final.output.concentrate_sol']+df_full['final.output.concentrate_au']\n",
    "primary_cleaner_substance = df_full['primary_cleaner.output.concentrate_ag']+df_full['primary_cleaner.output.concentrate_pb']+df_full['primary_cleaner.output.concentrate_sol']+df_full['primary_cleaner.output.concentrate_au']\n",
    "rougher_substance = df_full['rougher.output.concentrate_ag']+df_full['rougher.output.concentrate_pb']+df_full['rougher.output.concentrate_sol']+df_full['rougher.output.concentrate_au']\n",
    "\n",
    "print('Blue: rougher_substance')\n",
    "print('Orange: primary_cleaner_substance')\n",
    "print('Green: final_substance')\n",
    "outlier2(rougher_substance)\n",
    "outlier2(primary_cleaner_substance)\n",
    "outlier2(final_substance)\n",
    "plt.show()"
   ]
  },
  {
   "cell_type": "code",
   "execution_count": 268,
   "metadata": {},
   "outputs": [
    {
     "data": {
      "text/plain": [
       "'Rougher:'"
      ]
     },
     "metadata": {},
     "output_type": "display_data"
    },
    {
     "data": {
      "text/plain": [
       "count    19439.000000\n",
       "mean        68.170865\n",
       "std         12.491279\n",
       "min          0.000000\n",
       "25%         66.012495\n",
       "50%         70.181495\n",
       "75%         74.356904\n",
       "max         88.140119\n",
       "dtype: float64"
      ]
     },
     "metadata": {},
     "output_type": "display_data"
    },
    {
     "data": {
      "text/plain": [
       "'Primary Cleaner:'"
      ]
     },
     "metadata": {},
     "output_type": "display_data"
    },
    {
     "data": {
      "text/plain": [
       "count    19439.000000\n",
       "mean        60.764731\n",
       "std         10.017271\n",
       "min          0.000000\n",
       "25%         58.929364\n",
       "50%         62.497674\n",
       "75%         65.667336\n",
       "max         80.749343\n",
       "dtype: float64"
      ]
     },
     "metadata": {},
     "output_type": "display_data"
    },
    {
     "data": {
      "text/plain": [
       "'Final:'"
      ]
     },
     "metadata": {},
     "output_type": "display_data"
    },
    {
     "data": {
      "text/plain": [
       "count    19439.000000\n",
       "mean        68.653624\n",
       "std          7.427536\n",
       "min          0.000000\n",
       "25%         67.932362\n",
       "50%         69.598444\n",
       "75%         71.368472\n",
       "max         80.210644\n",
       "dtype: float64"
      ]
     },
     "metadata": {},
     "output_type": "display_data"
    }
   ],
   "source": [
    "display('Rougher:',rougher_substance.describe(),'Primary Cleaner:',primary_cleaner_substance.describe(),'Final:',final_substance.describe())"
   ]
  },
  {
   "cell_type": "markdown",
   "metadata": {},
   "source": [
    "Каждый вид стадий обогащений был собран в отдельный датасет. С помощью метода .describe() получили информацию по каждому из металлов.\n",
    "<br>**Выводы:** \n",
    "<br>(Этапы анализировались от начального - rougher, до промежуточного - primary-cleaner, до финального - final.В этапе secondary_cleaner нет данных по металлам) \n",
    "1. Распределения стремятся к нормальному(распределение Пуассона).\n",
    "3. На всех гистограммах максимальные значения близки к их среднему. По теории ЦПР это означает, что в выборках достаточно наблюдений для анализа.\n",
    "4. Аномалий не обнаружено."
   ]
  },
  {
   "cell_type": "markdown",
   "metadata": {},
   "source": [
    "## Обучение и тестирование моделей"
   ]
  },
  {
   "cell_type": "code",
   "execution_count": 269,
   "metadata": {},
   "outputs": [],
   "source": [
    "# Writing a function for sMAPE - a required efficiency metric for this project\n",
    "\n",
    "def smape(y_true, y_pred):\n",
    "    error = abs(y_true - y_pred)\n",
    "    scale = (abs(y_true) + abs(y_pred)) / 2\n",
    "    result = (error / scale).mean()\n",
    "    return result \n",
    " \n",
    "\n",
    "def smape_weighted(y_true, y_pred):\n",
    "    y_true.reset_index(drop=True, inplace=True)\n",
    "    y_pred = pd.DataFrame(data=y_pred)\n",
    "    rougher = smape(y_true.iloc[:, 0], y_pred.iloc[:, 0])\n",
    "    final = smape(y_true.iloc[:, 1], y_pred.iloc[:, 1])\n",
    "    return 0.25 * rougher + 0.75 * final\n",
    "\n",
    "smape_score = make_scorer(smape_weighted, greater_is_better = False)"
   ]
  },
  {
   "cell_type": "markdown",
   "metadata": {},
   "source": [
    "### Модель: Случайный Лес"
   ]
  },
  {
   "cell_type": "code",
   "execution_count": 270,
   "metadata": {},
   "outputs": [
    {
     "name": "stdout",
     "output_type": "stream",
     "text": [
      "\u001b[1mModel: \u001b[0mRandomForestRegressor\n",
      "\u001b[1mBest sMAPE weighted: \u001b[0m 0.11449952116629172\n",
      "\n"
     ]
    }
   ],
   "source": [
    "best_smape_score = 5\n",
    "for depth in range(1,3):#21,1):\n",
    "    RandomForest_model = RandomForestRegressor(n_estimators=30, max_depth=depth, random_state=12345)\n",
    "    forest_mean_score = cross_val_score(RandomForest_model, features_df_train, target_df_train, cv=5,scoring=smape_score).mean()\n",
    "    if forest_mean_score < best_smape_score:\n",
    "        best_smape_score = forest_mean_score\n",
    "            \n",
    "            \n",
    "\n",
    "print('\\033[1m' + 'Model: ' + '\\033[0m' + type(RandomForest_model).__name__ )\n",
    "print('\\033[1m' + 'Best sMAPE weighted: ' + '\\033[0m', best_smape_score*(-1)) \n",
    "print()"
   ]
  },
  {
   "cell_type": "markdown",
   "metadata": {},
   "source": [
    "### Модель: Линейная Регрессия "
   ]
  },
  {
   "cell_type": "code",
   "execution_count": 271,
   "metadata": {},
   "outputs": [
    {
     "name": "stdout",
     "output_type": "stream",
     "text": [
      "\u001b[1mModel: \u001b[0mLinearRegression\n",
      "\u001b[1mBest sMAPE weighted: \u001b[0m 0.14596175831490296\n",
      "\n"
     ]
    }
   ],
   "source": [
    "Linear_model = LinearRegression()\n",
    "mean_scores = cross_val_score(Linear_model, features_df_train, target_df_train, cv=3, \\\n",
    "                                          scoring=smape_score).mean()\n",
    "print('\\033[1m' + 'Model: ' + '\\033[0m' + type(Linear_model).__name__ )\n",
    "print('\\033[1m' + 'Best sMAPE weighted: ' + '\\033[0m', mean_scores *(-1)) \n",
    "print()"
   ]
  },
  {
   "cell_type": "markdown",
   "metadata": {},
   "source": [
    "**Выводы после сравнения 2х моделей выше:** \n",
    "\n",
    " Лучшая модель - Случайный лес со значением sMAPE 0.11. Проверим результат на тестовой выборке и сравним с константной моделью:"
   ]
  },
  {
   "cell_type": "markdown",
   "metadata": {},
   "source": [
    "### Проверка на тестовой выборке и сравнение с константной моделью"
   ]
  },
  {
   "cell_type": "code",
   "execution_count": 272,
   "metadata": {},
   "outputs": [
    {
     "name": "stdout",
     "output_type": "stream",
     "text": [
      "\u001b[1mModel: \u001b[0mRandomForestRegressor\n",
      "\u001b[1mBest sMAPE weighted: \u001b[0m 0.09947318695624408\n",
      "\n"
     ]
    }
   ],
   "source": [
    "RandomForest_model_test = RandomForestRegressor(n_estimators=20, max_depth=3, random_state=12345)\n",
    "forest_mean_score = cross_val_score(RandomForest_model, features_df_test, target_df_test, cv=3,scoring=smape_score).mean()\n",
    "\n",
    "print('\\033[1m' + 'Model: ' + '\\033[0m' + type(RandomForest_model).__name__ )\n",
    "print('\\033[1m' + 'Best sMAPE weighted: ' + '\\033[0m', forest_mean_score*(-1)) \n",
    "print()"
   ]
  },
  {
   "cell_type": "code",
   "execution_count": 273,
   "metadata": {},
   "outputs": [
    {
     "name": "stdout",
     "output_type": "stream",
     "text": [
      "rougher.output.recovery    0.086277\n",
      "final.output.recovery      0.097640\n",
      "dtype: float64\n"
     ]
    }
   ],
   "source": [
    "# Сравнение с dummy\n",
    "dummy_regressor_rougher = DummyRegressor(strategy=\"median\")\n",
    "dummy_regressor_rougher.fit(features_df_train, target_df_train)\n",
    "dummy_rougher_pred = dummy_regressor_rougher.predict(features_df_test)\n",
    "smape_dummy_rougher = smape(target_df_test, dummy_rougher_pred)\n",
    "print(smape_dummy_rougher) "
   ]
  },
  {
   "cell_type": "markdown",
   "metadata": {},
   "source": [
    "<br>**Выводы:** \n",
    "\n",
    "Результат на тестовой выборке отличается от тренировочной модели и константы только на 2%, так что модель обучена достаточно и отклонения невелики.\n",
    "Идеальный результат sMAPE равен 0, и полученные нами предсказания значений близки к 0, что говорит о том, что эффективность обогащения золотом очень высокая."
   ]
  }
 ],
 "metadata": {
  "ExecuteTimeLog": [
   {
    "duration": 1581,
    "start_time": "2021-12-17T02:08:08.897Z"
   },
   {
    "duration": 4,
    "start_time": "2021-12-17T02:10:38.635Z"
   },
   {
    "duration": 1392,
    "start_time": "2021-12-17T02:10:38.642Z"
   },
   {
    "duration": 2776,
    "start_time": "2021-12-17T02:10:59.640Z"
   },
   {
    "duration": 9100,
    "start_time": "2021-12-17T02:13:15.158Z"
   },
   {
    "duration": 8341,
    "start_time": "2021-12-17T02:13:34.632Z"
   },
   {
    "duration": 910,
    "start_time": "2021-12-17T02:15:17.763Z"
   },
   {
    "duration": 908,
    "start_time": "2021-12-17T02:16:25.869Z"
   },
   {
    "duration": 907,
    "start_time": "2021-12-17T02:16:42.571Z"
   },
   {
    "duration": 886,
    "start_time": "2021-12-17T02:16:56.194Z"
   },
   {
    "duration": 971,
    "start_time": "2021-12-17T02:19:33.515Z"
   },
   {
    "duration": 1262,
    "start_time": "2021-12-17T12:42:15.778Z"
   },
   {
    "duration": 747,
    "start_time": "2021-12-17T12:42:17.042Z"
   },
   {
    "duration": 1179,
    "start_time": "2021-12-17T12:54:57.772Z"
   },
   {
    "duration": 1139,
    "start_time": "2021-12-17T12:55:09.535Z"
   },
   {
    "duration": 741,
    "start_time": "2021-12-17T12:55:28.013Z"
   },
   {
    "duration": 3,
    "start_time": "2021-12-17T14:25:25.787Z"
   },
   {
    "duration": 1283,
    "start_time": "2021-12-17T14:25:25.792Z"
   },
   {
    "duration": 3,
    "start_time": "2021-12-17T14:25:38.831Z"
   },
   {
    "duration": 785,
    "start_time": "2021-12-17T14:25:38.836Z"
   },
   {
    "duration": 690,
    "start_time": "2021-12-17T14:26:08.131Z"
   },
   {
    "duration": 4,
    "start_time": "2021-12-17T14:26:38.336Z"
   },
   {
    "duration": 687,
    "start_time": "2021-12-17T14:26:38.342Z"
   },
   {
    "duration": 1072,
    "start_time": "2021-12-17T14:26:51.587Z"
   },
   {
    "duration": 3,
    "start_time": "2021-12-17T14:28:10.052Z"
   },
   {
    "duration": 715,
    "start_time": "2021-12-17T14:28:10.057Z"
   },
   {
    "duration": 2,
    "start_time": "2021-12-17T14:28:10.774Z"
   },
   {
    "duration": 31,
    "start_time": "2021-12-17T14:28:10.778Z"
   },
   {
    "duration": 4,
    "start_time": "2021-12-17T14:43:47.343Z"
   },
   {
    "duration": 667,
    "start_time": "2021-12-17T14:43:47.349Z"
   },
   {
    "duration": 74,
    "start_time": "2021-12-17T14:43:48.018Z"
   },
   {
    "duration": 13,
    "start_time": "2021-12-17T14:43:48.094Z"
   },
   {
    "duration": 88,
    "start_time": "2021-12-17T14:44:25.298Z"
   },
   {
    "duration": 431,
    "start_time": "2021-12-17T14:44:41.874Z"
   },
   {
    "duration": 103,
    "start_time": "2021-12-17T14:44:49.219Z"
   },
   {
    "duration": 18,
    "start_time": "2021-12-17T14:46:08.055Z"
   },
   {
    "duration": 363,
    "start_time": "2021-12-17T14:48:23.829Z"
   },
   {
    "duration": 17,
    "start_time": "2021-12-17T14:49:00.391Z"
   },
   {
    "duration": 20,
    "start_time": "2021-12-17T14:49:05.895Z"
   },
   {
    "duration": 3,
    "start_time": "2021-12-17T14:49:13.445Z"
   },
   {
    "duration": 705,
    "start_time": "2021-12-17T14:49:13.451Z"
   },
   {
    "duration": 85,
    "start_time": "2021-12-17T14:49:14.158Z"
   },
   {
    "duration": 17,
    "start_time": "2021-12-17T14:49:14.245Z"
   },
   {
    "duration": 18,
    "start_time": "2021-12-17T14:49:35.955Z"
   },
   {
    "duration": 9,
    "start_time": "2021-12-17T14:52:16.807Z"
   },
   {
    "duration": 24,
    "start_time": "2021-12-17T14:53:11.492Z"
   },
   {
    "duration": 23,
    "start_time": "2021-12-17T15:02:20.494Z"
   },
   {
    "duration": 21,
    "start_time": "2021-12-17T15:02:35.276Z"
   },
   {
    "duration": 86,
    "start_time": "2021-12-17T15:03:38.067Z"
   },
   {
    "duration": 91,
    "start_time": "2021-12-17T15:03:49.665Z"
   },
   {
    "duration": 89,
    "start_time": "2021-12-17T15:04:01.594Z"
   },
   {
    "duration": 12,
    "start_time": "2021-12-17T15:14:04.203Z"
   },
   {
    "duration": 376,
    "start_time": "2021-12-17T15:40:17.049Z"
   },
   {
    "duration": 4,
    "start_time": "2021-12-17T15:40:25.711Z"
   },
   {
    "duration": 757,
    "start_time": "2021-12-17T15:40:25.717Z"
   },
   {
    "duration": 88,
    "start_time": "2021-12-17T15:40:26.476Z"
   },
   {
    "duration": 599,
    "start_time": "2021-12-17T15:40:26.566Z"
   },
   {
    "duration": -272,
    "start_time": "2021-12-17T15:40:27.439Z"
   },
   {
    "duration": 11,
    "start_time": "2021-12-17T15:42:33.768Z"
   },
   {
    "duration": 7,
    "start_time": "2021-12-17T15:42:53.337Z"
   },
   {
    "duration": 367,
    "start_time": "2021-12-17T15:43:23.929Z"
   },
   {
    "duration": 6,
    "start_time": "2021-12-17T15:43:38.319Z"
   },
   {
    "duration": 3,
    "start_time": "2021-12-17T15:54:39.464Z"
   },
   {
    "duration": 762,
    "start_time": "2021-12-17T15:54:39.470Z"
   },
   {
    "duration": 89,
    "start_time": "2021-12-17T15:54:40.234Z"
   },
   {
    "duration": 8,
    "start_time": "2021-12-17T15:54:40.325Z"
   },
   {
    "duration": 11,
    "start_time": "2021-12-17T15:54:40.335Z"
   },
   {
    "duration": 5,
    "start_time": "2021-12-17T16:10:46.651Z"
   },
   {
    "duration": 368,
    "start_time": "2021-12-17T16:11:03.404Z"
   },
   {
    "duration": 345,
    "start_time": "2021-12-17T16:11:33.056Z"
   },
   {
    "duration": 3,
    "start_time": "2021-12-17T16:11:39.366Z"
   },
   {
    "duration": 648,
    "start_time": "2021-12-17T16:11:39.371Z"
   },
   {
    "duration": 85,
    "start_time": "2021-12-17T16:11:40.021Z"
   },
   {
    "duration": 337,
    "start_time": "2021-12-17T16:11:40.108Z"
   },
   {
    "duration": -236,
    "start_time": "2021-12-17T16:11:40.684Z"
   },
   {
    "duration": 9,
    "start_time": "2021-12-17T16:11:52.868Z"
   },
   {
    "duration": 165,
    "start_time": "2021-12-17T16:13:40.345Z"
   },
   {
    "duration": 368,
    "start_time": "2021-12-17T16:14:16.918Z"
   },
   {
    "duration": 410,
    "start_time": "2021-12-17T16:14:28.465Z"
   },
   {
    "duration": 109,
    "start_time": "2021-12-17T16:19:53.880Z"
   },
   {
    "duration": 274,
    "start_time": "2021-12-17T16:20:16.734Z"
   },
   {
    "duration": 184,
    "start_time": "2021-12-17T16:46:29.995Z"
   },
   {
    "duration": 3,
    "start_time": "2021-12-17T16:47:50.729Z"
   },
   {
    "duration": 668,
    "start_time": "2021-12-17T16:47:50.734Z"
   },
   {
    "duration": 78,
    "start_time": "2021-12-17T16:47:51.404Z"
   },
   {
    "duration": 127,
    "start_time": "2021-12-17T16:47:51.484Z"
   },
   {
    "duration": -286,
    "start_time": "2021-12-17T16:47:51.899Z"
   },
   {
    "duration": 3,
    "start_time": "2021-12-17T16:48:09.470Z"
   },
   {
    "duration": 661,
    "start_time": "2021-12-17T16:48:09.475Z"
   },
   {
    "duration": 83,
    "start_time": "2021-12-17T16:48:10.139Z"
   },
   {
    "duration": 122,
    "start_time": "2021-12-17T16:48:10.224Z"
   },
   {
    "duration": -537,
    "start_time": "2021-12-17T16:48:10.884Z"
   },
   {
    "duration": 4,
    "start_time": "2021-12-17T16:48:38.104Z"
   },
   {
    "duration": 682,
    "start_time": "2021-12-17T16:48:38.110Z"
   },
   {
    "duration": 80,
    "start_time": "2021-12-17T16:48:38.794Z"
   },
   {
    "duration": 136,
    "start_time": "2021-12-17T16:48:38.876Z"
   },
   {
    "duration": -257,
    "start_time": "2021-12-17T16:48:39.270Z"
   },
   {
    "duration": 4,
    "start_time": "2021-12-17T16:48:55.710Z"
   },
   {
    "duration": 689,
    "start_time": "2021-12-17T16:48:55.715Z"
   },
   {
    "duration": 79,
    "start_time": "2021-12-17T16:48:56.406Z"
   },
   {
    "duration": 129,
    "start_time": "2021-12-17T16:48:56.487Z"
   },
   {
    "duration": -246,
    "start_time": "2021-12-17T16:48:56.864Z"
   },
   {
    "duration": 3,
    "start_time": "2021-12-17T16:49:05.801Z"
   },
   {
    "duration": 663,
    "start_time": "2021-12-17T16:49:05.806Z"
   },
   {
    "duration": 90,
    "start_time": "2021-12-17T16:49:06.471Z"
   },
   {
    "duration": 136,
    "start_time": "2021-12-17T16:49:06.563Z"
   },
   {
    "duration": -339,
    "start_time": "2021-12-17T16:49:07.040Z"
   },
   {
    "duration": 3,
    "start_time": "2021-12-17T16:56:18.204Z"
   },
   {
    "duration": 742,
    "start_time": "2021-12-17T16:56:18.209Z"
   },
   {
    "duration": 94,
    "start_time": "2021-12-17T16:56:18.953Z"
   },
   {
    "duration": 416,
    "start_time": "2021-12-17T16:56:19.050Z"
   },
   {
    "duration": -1264,
    "start_time": "2021-12-17T16:56:20.732Z"
   },
   {
    "duration": 532,
    "start_time": "2021-12-17T16:56:35.508Z"
   },
   {
    "duration": 4,
    "start_time": "2021-12-17T16:56:54.843Z"
   },
   {
    "duration": 623,
    "start_time": "2021-12-17T16:56:54.849Z"
   },
   {
    "duration": 78,
    "start_time": "2021-12-17T16:56:55.474Z"
   },
   {
    "duration": 400,
    "start_time": "2021-12-17T16:56:55.554Z"
   },
   {
    "duration": -298,
    "start_time": "2021-12-17T16:56:56.254Z"
   },
   {
    "duration": 8,
    "start_time": "2021-12-17T16:57:05.516Z"
   },
   {
    "duration": 729,
    "start_time": "2021-12-17T16:58:20.939Z"
   },
   {
    "duration": 708,
    "start_time": "2021-12-17T16:59:06.392Z"
   },
   {
    "duration": 365,
    "start_time": "2021-12-17T17:00:25.665Z"
   },
   {
    "duration": 255,
    "start_time": "2021-12-17T17:04:02.836Z"
   },
   {
    "duration": 44,
    "start_time": "2021-12-17T17:05:41.508Z"
   },
   {
    "duration": 409,
    "start_time": "2021-12-17T17:08:26.694Z"
   },
   {
    "duration": 3,
    "start_time": "2021-12-17T17:14:14.681Z"
   },
   {
    "duration": 3,
    "start_time": "2021-12-17T17:14:22.660Z"
   },
   {
    "duration": 785,
    "start_time": "2021-12-17T17:14:22.668Z"
   },
   {
    "duration": 85,
    "start_time": "2021-12-17T17:14:23.455Z"
   },
   {
    "duration": 8,
    "start_time": "2021-12-17T17:14:23.542Z"
   },
   {
    "duration": 8,
    "start_time": "2021-12-17T17:14:23.552Z"
   },
   {
    "duration": 8,
    "start_time": "2021-12-17T17:14:23.562Z"
   },
   {
    "duration": 4,
    "start_time": "2021-12-17T17:14:30.954Z"
   },
   {
    "duration": 338,
    "start_time": "2021-12-17T17:15:37.577Z"
   },
   {
    "duration": 3,
    "start_time": "2021-12-17T17:15:43.575Z"
   },
   {
    "duration": 3,
    "start_time": "2021-12-17T17:18:01.230Z"
   },
   {
    "duration": 3,
    "start_time": "2021-12-17T17:18:07.429Z"
   },
   {
    "duration": 694,
    "start_time": "2021-12-17T17:18:07.434Z"
   },
   {
    "duration": 86,
    "start_time": "2021-12-17T17:18:08.130Z"
   },
   {
    "duration": 8,
    "start_time": "2021-12-17T17:18:08.218Z"
   },
   {
    "duration": 10,
    "start_time": "2021-12-17T17:18:08.228Z"
   },
   {
    "duration": 5,
    "start_time": "2021-12-17T17:18:08.240Z"
   },
   {
    "duration": 7,
    "start_time": "2021-12-17T17:18:21.910Z"
   },
   {
    "duration": 19,
    "start_time": "2021-12-17T17:21:38.352Z"
   },
   {
    "duration": 17,
    "start_time": "2021-12-17T17:21:55.678Z"
   },
   {
    "duration": 18,
    "start_time": "2021-12-17T17:27:38.872Z"
   },
   {
    "duration": 21,
    "start_time": "2021-12-17T17:28:06.120Z"
   },
   {
    "duration": 20,
    "start_time": "2021-12-17T19:40:17.210Z"
   },
   {
    "duration": 38,
    "start_time": "2021-12-17T19:40:30.400Z"
   },
   {
    "duration": 82,
    "start_time": "2021-12-17T19:41:00.250Z"
   },
   {
    "duration": 832,
    "start_time": "2021-12-17T19:46:12.931Z"
   },
   {
    "duration": 34,
    "start_time": "2021-12-17T19:46:24.553Z"
   },
   {
    "duration": 643,
    "start_time": "2021-12-17T19:46:24.588Z"
   },
   {
    "duration": 81,
    "start_time": "2021-12-17T19:46:25.233Z"
   },
   {
    "duration": 7,
    "start_time": "2021-12-17T19:46:25.315Z"
   },
   {
    "duration": 21158,
    "start_time": "2021-12-17T19:46:25.324Z"
   },
   {
    "duration": 213,
    "start_time": "2021-12-17T19:46:46.271Z"
   },
   {
    "duration": 211,
    "start_time": "2021-12-17T19:46:46.274Z"
   },
   {
    "duration": 17675,
    "start_time": "2021-12-17T19:46:56.038Z"
   },
   {
    "duration": 4,
    "start_time": "2021-12-17T19:47:27.516Z"
   },
   {
    "duration": 688,
    "start_time": "2021-12-17T19:47:27.521Z"
   },
   {
    "duration": 77,
    "start_time": "2021-12-17T19:47:28.212Z"
   },
   {
    "duration": 20,
    "start_time": "2021-12-17T19:47:28.290Z"
   },
   {
    "duration": 783,
    "start_time": "2021-12-17T19:47:28.311Z"
   },
   {
    "duration": 366,
    "start_time": "2021-12-17T19:47:28.730Z"
   },
   {
    "duration": 364,
    "start_time": "2021-12-17T19:47:28.734Z"
   },
   {
    "duration": 709,
    "start_time": "2021-12-17T19:48:55.990Z"
   },
   {
    "duration": 3,
    "start_time": "2021-12-17T19:49:01.439Z"
   },
   {
    "duration": 651,
    "start_time": "2021-12-17T19:49:01.444Z"
   },
   {
    "duration": 78,
    "start_time": "2021-12-17T19:49:02.097Z"
   },
   {
    "duration": 6,
    "start_time": "2021-12-17T19:49:02.177Z"
   },
   {
    "duration": 738,
    "start_time": "2021-12-17T19:49:02.185Z"
   },
   {
    "duration": 357,
    "start_time": "2021-12-17T19:49:02.568Z"
   },
   {
    "duration": 352,
    "start_time": "2021-12-17T19:49:02.574Z"
   },
   {
    "duration": 3,
    "start_time": "2021-12-17T19:49:15.564Z"
   },
   {
    "duration": 727,
    "start_time": "2021-12-17T19:49:15.569Z"
   },
   {
    "duration": 87,
    "start_time": "2021-12-17T19:49:16.299Z"
   },
   {
    "duration": 18,
    "start_time": "2021-12-17T19:49:16.388Z"
   },
   {
    "duration": 17800,
    "start_time": "2021-12-17T19:49:16.408Z"
   },
   {
    "duration": 108,
    "start_time": "2021-12-17T19:49:34.210Z"
   },
   {
    "duration": 2,
    "start_time": "2021-12-17T19:49:34.319Z"
   },
   {
    "duration": 17396,
    "start_time": "2021-12-17T19:52:42.811Z"
   },
   {
    "duration": 4,
    "start_time": "2021-12-17T19:54:09.490Z"
   },
   {
    "duration": 677,
    "start_time": "2021-12-17T19:54:09.495Z"
   },
   {
    "duration": 84,
    "start_time": "2021-12-17T19:54:10.174Z"
   },
   {
    "duration": 8,
    "start_time": "2021-12-17T19:54:10.260Z"
   },
   {
    "duration": 9,
    "start_time": "2021-12-17T19:54:10.270Z"
   },
   {
    "duration": 37,
    "start_time": "2021-12-17T19:54:10.281Z"
   },
   {
    "duration": 2,
    "start_time": "2021-12-17T19:54:10.320Z"
   },
   {
    "duration": 4,
    "start_time": "2021-12-17T20:02:46.270Z"
   },
   {
    "duration": 651,
    "start_time": "2021-12-17T20:02:46.276Z"
   },
   {
    "duration": 76,
    "start_time": "2021-12-17T20:02:46.930Z"
   },
   {
    "duration": 8,
    "start_time": "2021-12-17T20:02:47.008Z"
   },
   {
    "duration": 13,
    "start_time": "2021-12-17T20:02:47.017Z"
   },
   {
    "duration": 20,
    "start_time": "2021-12-17T20:02:47.032Z"
   },
   {
    "duration": 2,
    "start_time": "2021-12-17T20:02:47.054Z"
   },
   {
    "duration": 109,
    "start_time": "2021-12-17T20:03:57.426Z"
   },
   {
    "duration": 6,
    "start_time": "2021-12-17T20:09:34.541Z"
   },
   {
    "duration": 5,
    "start_time": "2021-12-17T20:16:38.009Z"
   },
   {
    "duration": 16,
    "start_time": "2021-12-17T20:16:55.424Z"
   },
   {
    "duration": 14,
    "start_time": "2021-12-17T20:17:53.503Z"
   },
   {
    "duration": 3,
    "start_time": "2021-12-17T20:20:43.935Z"
   },
   {
    "duration": 682,
    "start_time": "2021-12-17T20:20:43.940Z"
   },
   {
    "duration": 87,
    "start_time": "2021-12-17T20:20:44.624Z"
   },
   {
    "duration": 9,
    "start_time": "2021-12-17T20:20:44.712Z"
   },
   {
    "duration": 14,
    "start_time": "2021-12-17T20:20:44.723Z"
   },
   {
    "duration": 20,
    "start_time": "2021-12-17T20:20:44.738Z"
   },
   {
    "duration": 676,
    "start_time": "2021-12-17T20:20:44.760Z"
   },
   {
    "duration": 601,
    "start_time": "2021-12-17T20:21:01.516Z"
   },
   {
    "duration": 3,
    "start_time": "2021-12-17T20:22:16.158Z"
   },
   {
    "duration": 662,
    "start_time": "2021-12-17T20:22:16.163Z"
   },
   {
    "duration": 93,
    "start_time": "2021-12-17T20:22:16.827Z"
   },
   {
    "duration": 8,
    "start_time": "2021-12-17T20:22:16.922Z"
   },
   {
    "duration": 14,
    "start_time": "2021-12-17T20:22:16.931Z"
   },
   {
    "duration": 16,
    "start_time": "2021-12-17T20:22:16.947Z"
   },
   {
    "duration": 8,
    "start_time": "2021-12-17T20:22:16.965Z"
   },
   {
    "duration": 10,
    "start_time": "2021-12-17T20:22:44.139Z"
   },
   {
    "duration": 10,
    "start_time": "2021-12-17T20:26:40.355Z"
   },
   {
    "duration": 357,
    "start_time": "2021-12-17T20:29:33.696Z"
   },
   {
    "duration": 373,
    "start_time": "2021-12-17T20:30:01.025Z"
   },
   {
    "duration": 352,
    "start_time": "2021-12-17T20:31:40.635Z"
   },
   {
    "duration": 353,
    "start_time": "2021-12-17T20:31:53.158Z"
   },
   {
    "duration": 3,
    "start_time": "2021-12-17T20:32:06.074Z"
   },
   {
    "duration": 665,
    "start_time": "2021-12-17T20:32:06.079Z"
   },
   {
    "duration": 84,
    "start_time": "2021-12-17T20:32:06.746Z"
   },
   {
    "duration": 8,
    "start_time": "2021-12-17T20:32:06.832Z"
   },
   {
    "duration": 13,
    "start_time": "2021-12-17T20:32:06.842Z"
   },
   {
    "duration": 20,
    "start_time": "2021-12-17T20:32:06.857Z"
   },
   {
    "duration": 376,
    "start_time": "2021-12-17T20:32:06.879Z"
   },
   {
    "duration": 9,
    "start_time": "2021-12-17T20:32:20.126Z"
   },
   {
    "duration": 3,
    "start_time": "2021-12-17T20:35:05.350Z"
   },
   {
    "duration": 640,
    "start_time": "2021-12-17T20:35:05.355Z"
   },
   {
    "duration": 109,
    "start_time": "2021-12-17T20:35:05.997Z"
   },
   {
    "duration": 9,
    "start_time": "2021-12-17T20:35:06.108Z"
   },
   {
    "duration": 14,
    "start_time": "2021-12-17T20:35:06.119Z"
   },
   {
    "duration": 22,
    "start_time": "2021-12-17T20:35:06.135Z"
   },
   {
    "duration": 17,
    "start_time": "2021-12-17T20:35:06.159Z"
   },
   {
    "duration": 3,
    "start_time": "2021-12-17T20:35:18.075Z"
   },
   {
    "duration": 643,
    "start_time": "2021-12-17T20:35:18.080Z"
   },
   {
    "duration": 85,
    "start_time": "2021-12-17T20:35:18.725Z"
   },
   {
    "duration": 6,
    "start_time": "2021-12-17T20:35:18.812Z"
   },
   {
    "duration": 12,
    "start_time": "2021-12-17T20:35:18.820Z"
   },
   {
    "duration": 18,
    "start_time": "2021-12-17T20:35:18.833Z"
   },
   {
    "duration": 12,
    "start_time": "2021-12-17T20:35:18.853Z"
   },
   {
    "duration": 391,
    "start_time": "2021-12-17T20:35:46.892Z"
   },
   {
    "duration": 13,
    "start_time": "2021-12-17T20:36:26.356Z"
   },
   {
    "duration": 11,
    "start_time": "2021-12-17T20:37:54.030Z"
   },
   {
    "duration": 3,
    "start_time": "2021-12-17T20:41:22.073Z"
   },
   {
    "duration": 618,
    "start_time": "2021-12-17T20:41:22.078Z"
   },
   {
    "duration": 72,
    "start_time": "2021-12-17T20:41:22.698Z"
   },
   {
    "duration": 7,
    "start_time": "2021-12-17T20:41:22.772Z"
   },
   {
    "duration": 25,
    "start_time": "2021-12-17T20:41:22.781Z"
   },
   {
    "duration": 15,
    "start_time": "2021-12-17T20:41:22.808Z"
   },
   {
    "duration": 13,
    "start_time": "2021-12-17T20:41:22.825Z"
   },
   {
    "duration": 13,
    "start_time": "2021-12-17T20:41:49.971Z"
   },
   {
    "duration": 3,
    "start_time": "2021-12-17T21:30:39.191Z"
   },
   {
    "duration": 627,
    "start_time": "2021-12-17T21:30:39.200Z"
   },
   {
    "duration": 89,
    "start_time": "2021-12-17T21:30:39.829Z"
   },
   {
    "duration": 9,
    "start_time": "2021-12-17T21:30:39.920Z"
   },
   {
    "duration": 14,
    "start_time": "2021-12-17T21:30:39.931Z"
   },
   {
    "duration": 18,
    "start_time": "2021-12-17T21:30:39.947Z"
   },
   {
    "duration": 340,
    "start_time": "2021-12-17T21:30:39.967Z"
   },
   {
    "duration": 10,
    "start_time": "2021-12-17T21:31:47.623Z"
   },
   {
    "duration": 12,
    "start_time": "2021-12-17T21:32:02.834Z"
   },
   {
    "duration": 12,
    "start_time": "2021-12-17T21:32:41.803Z"
   },
   {
    "duration": 12,
    "start_time": "2021-12-17T21:33:09.538Z"
   },
   {
    "duration": 12,
    "start_time": "2021-12-17T21:33:23.355Z"
   },
   {
    "duration": 14,
    "start_time": "2021-12-17T21:33:57.365Z"
   },
   {
    "duration": 25,
    "start_time": "2021-12-17T21:35:51.126Z"
   },
   {
    "duration": 3,
    "start_time": "2021-12-17T21:47:50.344Z"
   },
   {
    "duration": 628,
    "start_time": "2021-12-17T21:47:50.349Z"
   },
   {
    "duration": 107,
    "start_time": "2021-12-17T21:47:50.979Z"
   },
   {
    "duration": 10,
    "start_time": "2021-12-17T21:47:51.088Z"
   },
   {
    "duration": 15,
    "start_time": "2021-12-17T21:47:51.107Z"
   },
   {
    "duration": 23,
    "start_time": "2021-12-17T21:47:51.124Z"
   },
   {
    "duration": 524,
    "start_time": "2021-12-17T21:47:51.149Z"
   },
   {
    "duration": 350,
    "start_time": "2021-12-17T21:48:01.114Z"
   },
   {
    "duration": 3,
    "start_time": "2021-12-17T21:48:58.878Z"
   },
   {
    "duration": 630,
    "start_time": "2021-12-17T21:48:58.883Z"
   },
   {
    "duration": 75,
    "start_time": "2021-12-17T21:48:59.515Z"
   },
   {
    "duration": 20,
    "start_time": "2021-12-17T21:48:59.592Z"
   },
   {
    "duration": 13,
    "start_time": "2021-12-17T21:48:59.613Z"
   },
   {
    "duration": 18,
    "start_time": "2021-12-17T21:48:59.627Z"
   },
   {
    "duration": 110,
    "start_time": "2021-12-17T21:48:59.647Z"
   },
   {
    "duration": 3,
    "start_time": "2021-12-17T21:49:09.208Z"
   },
   {
    "duration": 743,
    "start_time": "2021-12-17T21:49:09.213Z"
   },
   {
    "duration": 88,
    "start_time": "2021-12-17T21:49:09.958Z"
   },
   {
    "duration": 9,
    "start_time": "2021-12-17T21:49:10.048Z"
   },
   {
    "duration": 14,
    "start_time": "2021-12-17T21:49:10.059Z"
   },
   {
    "duration": 40,
    "start_time": "2021-12-17T21:49:10.075Z"
   },
   {
    "duration": 392,
    "start_time": "2021-12-17T21:49:10.118Z"
   },
   {
    "duration": 256,
    "start_time": "2021-12-17T21:50:09.754Z"
   },
   {
    "duration": 249,
    "start_time": "2021-12-17T21:50:42.548Z"
   },
   {
    "duration": 245,
    "start_time": "2021-12-17T21:51:54.633Z"
   },
   {
    "duration": 4,
    "start_time": "2021-12-17T21:52:24.393Z"
   },
   {
    "duration": 620,
    "start_time": "2021-12-17T21:52:24.399Z"
   },
   {
    "duration": 85,
    "start_time": "2021-12-17T21:52:25.021Z"
   },
   {
    "duration": 7,
    "start_time": "2021-12-17T21:52:25.108Z"
   },
   {
    "duration": 11,
    "start_time": "2021-12-17T21:52:25.117Z"
   },
   {
    "duration": 15,
    "start_time": "2021-12-17T21:52:25.130Z"
   },
   {
    "duration": 274,
    "start_time": "2021-12-17T21:52:25.146Z"
   },
   {
    "duration": 12,
    "start_time": "2021-12-17T21:52:57.660Z"
   },
   {
    "duration": 15,
    "start_time": "2021-12-17T21:53:00.462Z"
   },
   {
    "duration": 14,
    "start_time": "2021-12-17T21:54:05.841Z"
   },
   {
    "duration": 16,
    "start_time": "2021-12-17T21:54:08.950Z"
   },
   {
    "duration": 4,
    "start_time": "2021-12-17T21:54:32.146Z"
   },
   {
    "duration": 635,
    "start_time": "2021-12-17T21:54:32.152Z"
   },
   {
    "duration": 78,
    "start_time": "2021-12-17T21:54:32.789Z"
   },
   {
    "duration": 7,
    "start_time": "2021-12-17T21:54:32.869Z"
   },
   {
    "duration": 13,
    "start_time": "2021-12-17T21:54:32.878Z"
   },
   {
    "duration": 16,
    "start_time": "2021-12-17T21:54:32.907Z"
   },
   {
    "duration": 416,
    "start_time": "2021-12-17T21:54:32.925Z"
   },
   {
    "duration": 25,
    "start_time": "2021-12-17T21:55:00.943Z"
   },
   {
    "duration": 25,
    "start_time": "2021-12-17T21:58:27.613Z"
   },
   {
    "duration": 25,
    "start_time": "2021-12-17T21:58:46.636Z"
   },
   {
    "duration": 24,
    "start_time": "2021-12-17T21:59:00.015Z"
   },
   {
    "duration": 499,
    "start_time": "2021-12-17T21:59:38.725Z"
   },
   {
    "duration": 353,
    "start_time": "2021-12-17T21:59:53.299Z"
   },
   {
    "duration": 27,
    "start_time": "2021-12-17T22:00:05.524Z"
   },
   {
    "duration": 242,
    "start_time": "2021-12-17T22:00:59.449Z"
   },
   {
    "duration": 452,
    "start_time": "2021-12-17T22:01:31.851Z"
   },
   {
    "duration": 238,
    "start_time": "2021-12-17T22:02:07.028Z"
   },
   {
    "duration": 120,
    "start_time": "2021-12-17T22:03:02.682Z"
   },
   {
    "duration": 4331,
    "start_time": "2021-12-17T22:03:07.815Z"
   },
   {
    "duration": 8379,
    "start_time": "2021-12-17T22:04:50.982Z"
   },
   {
    "duration": 425,
    "start_time": "2021-12-17T22:05:54.443Z"
   },
   {
    "duration": 4,
    "start_time": "2021-12-17T22:06:06.854Z"
   },
   {
    "duration": 673,
    "start_time": "2021-12-17T22:06:06.861Z"
   },
   {
    "duration": 81,
    "start_time": "2021-12-17T22:06:07.536Z"
   },
   {
    "duration": 6,
    "start_time": "2021-12-17T22:06:07.619Z"
   },
   {
    "duration": 25,
    "start_time": "2021-12-17T22:06:07.627Z"
   },
   {
    "duration": 14,
    "start_time": "2021-12-17T22:06:07.653Z"
   },
   {
    "duration": 342,
    "start_time": "2021-12-17T22:06:07.668Z"
   },
   {
    "duration": 9357,
    "start_time": "2021-12-17T22:07:07.063Z"
   },
   {
    "duration": 115,
    "start_time": "2021-12-17T22:07:51.876Z"
   },
   {
    "duration": 356,
    "start_time": "2021-12-17T22:07:56.821Z"
   },
   {
    "duration": 5,
    "start_time": "2021-12-17T22:08:07.487Z"
   },
   {
    "duration": 354,
    "start_time": "2021-12-17T22:08:26.961Z"
   },
   {
    "duration": 4,
    "start_time": "2021-12-17T22:09:05.654Z"
   },
   {
    "duration": 10,
    "start_time": "2021-12-17T22:10:00.854Z"
   },
   {
    "duration": 6,
    "start_time": "2021-12-17T22:12:22.152Z"
   },
   {
    "duration": 10,
    "start_time": "2021-12-17T22:12:38.099Z"
   },
   {
    "duration": 9,
    "start_time": "2021-12-17T22:12:46.844Z"
   },
   {
    "duration": 8,
    "start_time": "2021-12-17T22:22:27.187Z"
   },
   {
    "duration": 10,
    "start_time": "2021-12-17T22:22:40.408Z"
   },
   {
    "duration": 11,
    "start_time": "2021-12-17T22:23:20.491Z"
   },
   {
    "duration": 9,
    "start_time": "2021-12-17T22:23:27.768Z"
   },
   {
    "duration": 15,
    "start_time": "2021-12-17T22:24:38.570Z"
   },
   {
    "duration": 334,
    "start_time": "2021-12-17T22:24:59.707Z"
   },
   {
    "duration": 7,
    "start_time": "2021-12-17T22:25:21.539Z"
   },
   {
    "duration": 7,
    "start_time": "2021-12-17T22:28:26.423Z"
   },
   {
    "duration": 25,
    "start_time": "2021-12-17T22:29:06.158Z"
   },
   {
    "duration": 59,
    "start_time": "2021-12-17T22:30:24.642Z"
   },
   {
    "duration": 72,
    "start_time": "2021-12-17T22:30:42.680Z"
   },
   {
    "duration": 360,
    "start_time": "2021-12-17T22:31:33.056Z"
   },
   {
    "duration": 80,
    "start_time": "2021-12-17T22:31:38.731Z"
   },
   {
    "duration": 69,
    "start_time": "2021-12-17T22:31:45.607Z"
   },
   {
    "duration": 27,
    "start_time": "2021-12-17T22:32:23.086Z"
   },
   {
    "duration": 22,
    "start_time": "2021-12-17T22:33:09.442Z"
   },
   {
    "duration": 23,
    "start_time": "2021-12-17T22:33:16.392Z"
   },
   {
    "duration": 348,
    "start_time": "2021-12-17T22:33:55.719Z"
   },
   {
    "duration": 95,
    "start_time": "2021-12-17T22:34:09.815Z"
   },
   {
    "duration": 16,
    "start_time": "2021-12-17T22:50:12.813Z"
   },
   {
    "duration": 430,
    "start_time": "2021-12-17T22:52:20.902Z"
   },
   {
    "duration": 355,
    "start_time": "2021-12-17T22:52:47.275Z"
   },
   {
    "duration": 4,
    "start_time": "2021-12-17T22:54:03.994Z"
   },
   {
    "duration": 8,
    "start_time": "2021-12-17T22:54:14.320Z"
   },
   {
    "duration": 322,
    "start_time": "2021-12-17T22:58:29.014Z"
   },
   {
    "duration": 349,
    "start_time": "2021-12-17T22:59:15.503Z"
   },
   {
    "duration": 361,
    "start_time": "2021-12-17T22:59:23.095Z"
   },
   {
    "duration": 7,
    "start_time": "2021-12-17T23:00:33.212Z"
   },
   {
    "duration": 11,
    "start_time": "2021-12-17T23:00:46.575Z"
   },
   {
    "duration": 10,
    "start_time": "2021-12-17T23:00:58.127Z"
   },
   {
    "duration": 18,
    "start_time": "2021-12-17T23:01:22.763Z"
   },
   {
    "duration": 12,
    "start_time": "2021-12-17T23:01:35.828Z"
   },
   {
    "duration": 13,
    "start_time": "2021-12-17T23:01:40.514Z"
   },
   {
    "duration": 7,
    "start_time": "2021-12-17T23:05:09.461Z"
   },
   {
    "duration": 3,
    "start_time": "2021-12-17T23:10:21.609Z"
   },
   {
    "duration": 644,
    "start_time": "2021-12-17T23:10:21.614Z"
   },
   {
    "duration": 88,
    "start_time": "2021-12-17T23:10:22.260Z"
   },
   {
    "duration": 8,
    "start_time": "2021-12-17T23:10:22.350Z"
   },
   {
    "duration": 47,
    "start_time": "2021-12-17T23:10:22.360Z"
   },
   {
    "duration": 16,
    "start_time": "2021-12-17T23:10:22.409Z"
   },
   {
    "duration": 104,
    "start_time": "2021-12-17T23:10:22.427Z"
   },
   {
    "duration": 6,
    "start_time": "2021-12-17T23:10:22.533Z"
   },
   {
    "duration": 5,
    "start_time": "2021-12-17T23:11:19.009Z"
   },
   {
    "duration": 6,
    "start_time": "2021-12-17T23:12:37.176Z"
   },
   {
    "duration": 6,
    "start_time": "2021-12-17T23:14:52.099Z"
   },
   {
    "duration": 5,
    "start_time": "2021-12-17T23:14:56.949Z"
   },
   {
    "duration": 345,
    "start_time": "2021-12-17T23:22:23.304Z"
   },
   {
    "duration": 14,
    "start_time": "2021-12-17T23:22:50.179Z"
   },
   {
    "duration": 348,
    "start_time": "2021-12-17T23:23:22.569Z"
   },
   {
    "duration": 13,
    "start_time": "2021-12-17T23:23:40.321Z"
   },
   {
    "duration": 11,
    "start_time": "2021-12-17T23:23:51.875Z"
   },
   {
    "duration": 14,
    "start_time": "2021-12-17T23:24:24.940Z"
   },
   {
    "duration": 17,
    "start_time": "2021-12-17T23:24:51.911Z"
   },
   {
    "duration": 16,
    "start_time": "2021-12-17T23:26:21.911Z"
   },
   {
    "duration": 16,
    "start_time": "2021-12-17T23:26:35.044Z"
   },
   {
    "duration": 19,
    "start_time": "2021-12-17T23:28:54.441Z"
   },
   {
    "duration": 20,
    "start_time": "2021-12-17T23:29:13.871Z"
   },
   {
    "duration": 19,
    "start_time": "2021-12-17T23:37:47.894Z"
   },
   {
    "duration": 21,
    "start_time": "2021-12-17T23:38:00.562Z"
   },
   {
    "duration": 21,
    "start_time": "2021-12-17T23:38:31.876Z"
   },
   {
    "duration": 22,
    "start_time": "2021-12-17T23:38:47.269Z"
   },
   {
    "duration": 22,
    "start_time": "2021-12-17T23:39:20.530Z"
   },
   {
    "duration": 25,
    "start_time": "2021-12-17T23:40:02.383Z"
   },
   {
    "duration": 25,
    "start_time": "2021-12-17T23:40:28.760Z"
   },
   {
    "duration": 4,
    "start_time": "2021-12-18T00:33:54.953Z"
   },
   {
    "duration": 611,
    "start_time": "2021-12-18T00:33:54.958Z"
   },
   {
    "duration": 82,
    "start_time": "2021-12-18T00:33:55.571Z"
   },
   {
    "duration": 6,
    "start_time": "2021-12-18T00:33:55.655Z"
   },
   {
    "duration": 24,
    "start_time": "2021-12-18T00:33:55.663Z"
   },
   {
    "duration": 25,
    "start_time": "2021-12-18T00:33:55.689Z"
   },
   {
    "duration": 55,
    "start_time": "2021-12-18T00:33:55.715Z"
   },
   {
    "duration": 55,
    "start_time": "2021-12-18T00:33:55.773Z"
   },
   {
    "duration": 2,
    "start_time": "2021-12-18T00:33:55.830Z"
   },
   {
    "duration": 355,
    "start_time": "2021-12-18T00:40:03.173Z"
   },
   {
    "duration": 11,
    "start_time": "2021-12-18T00:41:13.350Z"
   },
   {
    "duration": 13,
    "start_time": "2021-12-18T00:43:22.711Z"
   },
   {
    "duration": 8,
    "start_time": "2021-12-18T00:46:50.252Z"
   },
   {
    "duration": 13,
    "start_time": "2021-12-18T00:47:25.033Z"
   },
   {
    "duration": 19,
    "start_time": "2021-12-18T00:48:12.498Z"
   },
   {
    "duration": 18,
    "start_time": "2021-12-18T00:49:00.517Z"
   },
   {
    "duration": 19,
    "start_time": "2021-12-18T01:38:26.949Z"
   },
   {
    "duration": 656,
    "start_time": "2021-12-18T01:38:26.970Z"
   },
   {
    "duration": 85,
    "start_time": "2021-12-18T01:38:27.628Z"
   },
   {
    "duration": 7,
    "start_time": "2021-12-18T01:38:27.715Z"
   },
   {
    "duration": 23,
    "start_time": "2021-12-18T01:38:27.724Z"
   },
   {
    "duration": 10,
    "start_time": "2021-12-18T01:38:27.749Z"
   },
   {
    "duration": 81,
    "start_time": "2021-12-18T01:38:27.760Z"
   },
   {
    "duration": 27,
    "start_time": "2021-12-18T01:38:27.842Z"
   },
   {
    "duration": 52,
    "start_time": "2021-12-18T01:38:27.872Z"
   },
   {
    "duration": 3,
    "start_time": "2021-12-18T01:38:27.926Z"
   },
   {
    "duration": 12,
    "start_time": "2021-12-18T01:39:32.896Z"
   },
   {
    "duration": 20,
    "start_time": "2021-12-18T01:39:39.657Z"
   },
   {
    "duration": 1240,
    "start_time": "2021-12-18T10:53:05.976Z"
   },
   {
    "duration": 901,
    "start_time": "2021-12-18T10:53:07.218Z"
   },
   {
    "duration": 347,
    "start_time": "2021-12-18T10:53:08.121Z"
   },
   {
    "duration": -921,
    "start_time": "2021-12-18T10:53:09.392Z"
   },
   {
    "duration": -936,
    "start_time": "2021-12-18T10:53:09.408Z"
   },
   {
    "duration": -956,
    "start_time": "2021-12-18T10:53:09.429Z"
   },
   {
    "duration": -967,
    "start_time": "2021-12-18T10:53:09.442Z"
   },
   {
    "duration": -980,
    "start_time": "2021-12-18T10:53:09.456Z"
   },
   {
    "duration": -1017,
    "start_time": "2021-12-18T10:53:09.495Z"
   },
   {
    "duration": -1030,
    "start_time": "2021-12-18T10:53:09.509Z"
   },
   {
    "duration": 97,
    "start_time": "2021-12-18T10:53:17.408Z"
   },
   {
    "duration": 91,
    "start_time": "2021-12-18T10:54:15.479Z"
   },
   {
    "duration": 91,
    "start_time": "2021-12-18T10:54:49.165Z"
   },
   {
    "duration": 90,
    "start_time": "2021-12-18T10:55:18.328Z"
   },
   {
    "duration": 67,
    "start_time": "2021-12-18T10:55:31.897Z"
   },
   {
    "duration": 16599,
    "start_time": "2021-12-18T11:03:25.877Z"
   },
   {
    "duration": 172,
    "start_time": "2021-12-18T11:03:48.865Z"
   },
   {
    "duration": 271,
    "start_time": "2021-12-18T11:04:36.320Z"
   },
   {
    "duration": 261,
    "start_time": "2021-12-18T11:05:14.768Z"
   },
   {
    "duration": 263,
    "start_time": "2021-12-18T11:05:31.663Z"
   },
   {
    "duration": 277,
    "start_time": "2021-12-18T11:19:29.651Z"
   },
   {
    "duration": 9,
    "start_time": "2021-12-18T11:27:04.923Z"
   },
   {
    "duration": 8,
    "start_time": "2021-12-18T11:28:26.067Z"
   },
   {
    "duration": 7,
    "start_time": "2021-12-18T11:30:42.716Z"
   },
   {
    "duration": 8,
    "start_time": "2021-12-18T11:31:25.831Z"
   },
   {
    "duration": 8,
    "start_time": "2021-12-18T11:31:43.659Z"
   },
   {
    "duration": 10,
    "start_time": "2021-12-18T11:32:07.212Z"
   },
   {
    "duration": 8,
    "start_time": "2021-12-18T11:34:03.747Z"
   },
   {
    "duration": 179,
    "start_time": "2021-12-18T11:38:50.345Z"
   },
   {
    "duration": 178,
    "start_time": "2021-12-18T11:39:07.420Z"
   },
   {
    "duration": 18,
    "start_time": "2021-12-18T11:39:17.244Z"
   },
   {
    "duration": 5,
    "start_time": "2021-12-18T11:39:58.726Z"
   },
   {
    "duration": 7,
    "start_time": "2021-12-18T11:40:27.939Z"
   },
   {
    "duration": 6,
    "start_time": "2021-12-18T11:40:38.264Z"
   },
   {
    "duration": 15,
    "start_time": "2021-12-18T12:09:34.987Z"
   },
   {
    "duration": 8,
    "start_time": "2021-12-18T12:09:52.237Z"
   },
   {
    "duration": 27,
    "start_time": "2021-12-18T12:16:15.943Z"
   },
   {
    "duration": 29,
    "start_time": "2021-12-18T12:17:22.891Z"
   },
   {
    "duration": 58,
    "start_time": "2021-12-18T12:20:03.611Z"
   },
   {
    "duration": 479,
    "start_time": "2021-12-18T12:20:09.367Z"
   },
   {
    "duration": 330,
    "start_time": "2021-12-18T12:20:20.338Z"
   },
   {
    "duration": 248,
    "start_time": "2021-12-18T12:21:14.593Z"
   },
   {
    "duration": 190,
    "start_time": "2021-12-18T12:22:39.516Z"
   },
   {
    "duration": 4,
    "start_time": "2021-12-18T12:23:05.524Z"
   },
   {
    "duration": 1524,
    "start_time": "2021-12-18T12:23:05.529Z"
   },
   {
    "duration": 322,
    "start_time": "2021-12-18T12:23:07.055Z"
   },
   {
    "duration": 16,
    "start_time": "2021-12-18T12:23:07.379Z"
   },
   {
    "duration": 13,
    "start_time": "2021-12-18T12:23:07.397Z"
   },
   {
    "duration": 285,
    "start_time": "2021-12-18T12:23:07.412Z"
   },
   {
    "duration": 53,
    "start_time": "2021-12-18T12:23:07.699Z"
   },
   {
    "duration": 55,
    "start_time": "2021-12-18T12:23:07.754Z"
   },
   {
    "duration": 17,
    "start_time": "2021-12-18T12:23:07.811Z"
   },
   {
    "duration": 2,
    "start_time": "2021-12-18T12:23:07.830Z"
   },
   {
    "duration": 270,
    "start_time": "2021-12-18T12:23:44.501Z"
   },
   {
    "duration": 96,
    "start_time": "2021-12-18T12:24:17.869Z"
   },
   {
    "duration": 261,
    "start_time": "2021-12-18T12:24:55.140Z"
   },
   {
    "duration": 267,
    "start_time": "2021-12-18T12:25:19.439Z"
   },
   {
    "duration": 268,
    "start_time": "2021-12-18T12:25:39.750Z"
   },
   {
    "duration": 240,
    "start_time": "2021-12-18T12:32:35.349Z"
   },
   {
    "duration": 4,
    "start_time": "2021-12-18T12:32:40.517Z"
   },
   {
    "duration": 673,
    "start_time": "2021-12-18T12:32:40.523Z"
   },
   {
    "duration": 285,
    "start_time": "2021-12-18T12:32:41.198Z"
   },
   {
    "duration": 7,
    "start_time": "2021-12-18T12:32:41.492Z"
   },
   {
    "duration": 11,
    "start_time": "2021-12-18T12:32:41.501Z"
   },
   {
    "duration": 277,
    "start_time": "2021-12-18T12:32:41.514Z"
   },
   {
    "duration": 188,
    "start_time": "2021-12-18T12:32:41.793Z"
   },
   {
    "duration": -680,
    "start_time": "2021-12-18T12:32:42.671Z"
   },
   {
    "duration": -679,
    "start_time": "2021-12-18T12:32:42.672Z"
   },
   {
    "duration": 56,
    "start_time": "2021-12-18T12:33:14.585Z"
   },
   {
    "duration": 85,
    "start_time": "2021-12-18T12:47:16.067Z"
   },
   {
    "duration": 859,
    "start_time": "2021-12-18T13:21:57.230Z"
   },
   {
    "duration": 160,
    "start_time": "2021-12-18T13:23:27.577Z"
   },
   {
    "duration": 176,
    "start_time": "2021-12-18T13:23:35.674Z"
   },
   {
    "duration": 524,
    "start_time": "2021-12-18T13:23:58.591Z"
   },
   {
    "duration": 3717,
    "start_time": "2021-12-18T13:24:14.221Z"
   },
   {
    "duration": 5,
    "start_time": "2021-12-18T13:30:18.059Z"
   },
   {
    "duration": 289,
    "start_time": "2021-12-18T13:33:34.037Z"
   },
   {
    "duration": 12188,
    "start_time": "2021-12-18T13:33:50.722Z"
   },
   {
    "duration": 1749,
    "start_time": "2021-12-18T13:39:47.099Z"
   },
   {
    "duration": 314,
    "start_time": "2021-12-18T13:40:43.310Z"
   },
   {
    "duration": 298,
    "start_time": "2021-12-18T13:40:57.642Z"
   },
   {
    "duration": 1767,
    "start_time": "2021-12-18T13:41:41.869Z"
   },
   {
    "duration": 1074,
    "start_time": "2021-12-18T13:42:55.825Z"
   },
   {
    "duration": 1241,
    "start_time": "2021-12-18T13:43:04.006Z"
   },
   {
    "duration": 1058,
    "start_time": "2021-12-18T13:43:58.503Z"
   },
   {
    "duration": 1198,
    "start_time": "2021-12-18T13:44:08.472Z"
   },
   {
    "duration": 305,
    "start_time": "2021-12-18T13:45:12.343Z"
   },
   {
    "duration": 1203,
    "start_time": "2021-12-18T13:45:20.353Z"
   },
   {
    "duration": 1093,
    "start_time": "2021-12-18T13:50:45.882Z"
   },
   {
    "duration": 1214,
    "start_time": "2021-12-18T13:50:55.957Z"
   },
   {
    "duration": 310,
    "start_time": "2021-12-18T13:55:22.546Z"
   },
   {
    "duration": 1080,
    "start_time": "2021-12-18T13:55:40.711Z"
   },
   {
    "duration": 1208,
    "start_time": "2021-12-18T13:57:53.450Z"
   },
   {
    "duration": 899,
    "start_time": "2021-12-18T13:58:41.670Z"
   },
   {
    "duration": 3,
    "start_time": "2021-12-18T13:59:45.572Z"
   },
   {
    "duration": 688,
    "start_time": "2021-12-18T13:59:45.577Z"
   },
   {
    "duration": 299,
    "start_time": "2021-12-18T13:59:46.268Z"
   },
   {
    "duration": 7,
    "start_time": "2021-12-18T13:59:46.569Z"
   },
   {
    "duration": 14,
    "start_time": "2021-12-18T13:59:46.577Z"
   },
   {
    "duration": 266,
    "start_time": "2021-12-18T13:59:46.593Z"
   },
   {
    "duration": 69,
    "start_time": "2021-12-18T13:59:46.861Z"
   },
   {
    "duration": 1100,
    "start_time": "2021-12-18T13:59:46.932Z"
   },
   {
    "duration": 359,
    "start_time": "2021-12-18T13:59:48.034Z"
   },
   {
    "duration": -713,
    "start_time": "2021-12-18T13:59:49.108Z"
   },
   {
    "duration": -715,
    "start_time": "2021-12-18T13:59:49.111Z"
   },
   {
    "duration": 59,
    "start_time": "2021-12-18T14:00:37.551Z"
   },
   {
    "duration": 71,
    "start_time": "2021-12-18T14:00:42.162Z"
   },
   {
    "duration": 174,
    "start_time": "2021-12-18T14:00:49.906Z"
   },
   {
    "duration": 731,
    "start_time": "2021-12-18T14:00:56.737Z"
   },
   {
    "duration": 4,
    "start_time": "2021-12-18T14:01:06.803Z"
   },
   {
    "duration": 4,
    "start_time": "2021-12-18T14:01:31.541Z"
   },
   {
    "duration": 4,
    "start_time": "2021-12-18T14:01:39.045Z"
   },
   {
    "duration": 363,
    "start_time": "2021-12-18T14:01:49.867Z"
   },
   {
    "duration": 310,
    "start_time": "2021-12-18T14:02:37.691Z"
   },
   {
    "duration": 61,
    "start_time": "2021-12-18T14:02:58.767Z"
   },
   {
    "duration": 306,
    "start_time": "2021-12-18T14:03:05.194Z"
   },
   {
    "duration": 988,
    "start_time": "2021-12-18T14:03:13.009Z"
   },
   {
    "duration": 856,
    "start_time": "2021-12-18T14:03:21.243Z"
   },
   {
    "duration": 1214,
    "start_time": "2021-12-18T14:04:07.992Z"
   },
   {
    "duration": 537,
    "start_time": "2021-12-18T14:05:40.332Z"
   },
   {
    "duration": 180,
    "start_time": "2021-12-18T14:06:35.101Z"
   },
   {
    "duration": 820,
    "start_time": "2021-12-18T14:06:43.019Z"
   },
   {
    "duration": 854,
    "start_time": "2021-12-18T14:06:58.497Z"
   },
   {
    "duration": 1245,
    "start_time": "2021-12-18T14:07:12.694Z"
   },
   {
    "duration": 855,
    "start_time": "2021-12-18T14:07:19.190Z"
   },
   {
    "duration": 1012,
    "start_time": "2021-12-18T14:08:22.399Z"
   },
   {
    "duration": 845,
    "start_time": "2021-12-18T14:11:17.803Z"
   },
   {
    "duration": 19,
    "start_time": "2021-12-18T14:21:56.486Z"
   },
   {
    "duration": 60,
    "start_time": "2021-12-18T14:22:51.913Z"
   },
   {
    "duration": 23,
    "start_time": "2021-12-18T14:23:02.016Z"
   },
   {
    "duration": 1290,
    "start_time": "2021-12-18T14:26:05.164Z"
   },
   {
    "duration": 1038,
    "start_time": "2021-12-18T14:26:39.623Z"
   },
   {
    "duration": 1316,
    "start_time": "2021-12-18T14:26:46.024Z"
   },
   {
    "duration": 1011,
    "start_time": "2021-12-18T14:27:00.513Z"
   },
   {
    "duration": 1288,
    "start_time": "2021-12-18T14:27:12.566Z"
   },
   {
    "duration": 1471,
    "start_time": "2021-12-18T14:27:26.333Z"
   },
   {
    "duration": 882,
    "start_time": "2021-12-18T14:27:48.811Z"
   },
   {
    "duration": 1432,
    "start_time": "2021-12-18T14:27:56.124Z"
   },
   {
    "duration": 835,
    "start_time": "2021-12-18T14:28:55.675Z"
   },
   {
    "duration": 1133,
    "start_time": "2021-12-18T14:28:58.252Z"
   },
   {
    "duration": 1289,
    "start_time": "2021-12-18T14:29:07.333Z"
   },
   {
    "duration": 1220,
    "start_time": "2021-12-18T14:29:15.799Z"
   },
   {
    "duration": 1258,
    "start_time": "2021-12-18T14:29:31.516Z"
   },
   {
    "duration": 1177,
    "start_time": "2021-12-18T14:29:43.137Z"
   },
   {
    "duration": 541,
    "start_time": "2021-12-18T14:29:50.050Z"
   },
   {
    "duration": 1190,
    "start_time": "2021-12-18T14:29:59.892Z"
   },
   {
    "duration": 756,
    "start_time": "2021-12-18T14:30:11.083Z"
   },
   {
    "duration": 1092,
    "start_time": "2021-12-18T14:30:19.163Z"
   },
   {
    "duration": 1459,
    "start_time": "2021-12-18T14:30:31.058Z"
   },
   {
    "duration": 1301,
    "start_time": "2021-12-18T14:31:55.700Z"
   },
   {
    "duration": 21,
    "start_time": "2021-12-18T14:33:05.709Z"
   },
   {
    "duration": 4,
    "start_time": "2021-12-18T14:48:22.042Z"
   },
   {
    "duration": 863,
    "start_time": "2021-12-18T14:48:22.048Z"
   },
   {
    "duration": 302,
    "start_time": "2021-12-18T14:48:22.914Z"
   },
   {
    "duration": 8,
    "start_time": "2021-12-18T14:48:23.218Z"
   },
   {
    "duration": 18,
    "start_time": "2021-12-18T14:48:23.227Z"
   },
   {
    "duration": 279,
    "start_time": "2021-12-18T14:48:23.246Z"
   },
   {
    "duration": 80,
    "start_time": "2021-12-18T14:48:23.527Z"
   },
   {
    "duration": 1125,
    "start_time": "2021-12-18T14:48:23.608Z"
   },
   {
    "duration": 894,
    "start_time": "2021-12-18T14:48:24.736Z"
   },
   {
    "duration": 1460,
    "start_time": "2021-12-18T14:48:25.632Z"
   },
   {
    "duration": 19,
    "start_time": "2021-12-18T14:48:27.094Z"
   },
   {
    "duration": 3,
    "start_time": "2021-12-18T14:48:27.114Z"
   },
   {
    "duration": 59,
    "start_time": "2021-12-18T14:48:54.320Z"
   },
   {
    "duration": 57,
    "start_time": "2021-12-18T14:49:03.220Z"
   },
   {
    "duration": 10,
    "start_time": "2021-12-18T14:49:31.498Z"
   },
   {
    "duration": 1075,
    "start_time": "2021-12-18T14:50:33.714Z"
   },
   {
    "duration": 4,
    "start_time": "2021-12-18T14:51:16.260Z"
   },
   {
    "duration": 3,
    "start_time": "2021-12-18T14:51:36.529Z"
   },
   {
    "duration": 1025,
    "start_time": "2021-12-18T14:52:04.286Z"
   },
   {
    "duration": 4,
    "start_time": "2021-12-18T14:52:06.734Z"
   },
   {
    "duration": 732,
    "start_time": "2021-12-18T14:52:06.740Z"
   },
   {
    "duration": 310,
    "start_time": "2021-12-18T14:52:07.474Z"
   },
   {
    "duration": 11,
    "start_time": "2021-12-18T14:52:07.786Z"
   },
   {
    "duration": 9,
    "start_time": "2021-12-18T14:52:07.799Z"
   },
   {
    "duration": 292,
    "start_time": "2021-12-18T14:52:07.810Z"
   },
   {
    "duration": 55,
    "start_time": "2021-12-18T14:52:08.103Z"
   },
   {
    "duration": 1107,
    "start_time": "2021-12-18T14:52:08.160Z"
   },
   {
    "duration": 1004,
    "start_time": "2021-12-18T14:52:09.270Z"
   },
   {
    "duration": 1303,
    "start_time": "2021-12-18T14:52:10.275Z"
   },
   {
    "duration": 26,
    "start_time": "2021-12-18T14:52:11.579Z"
   },
   {
    "duration": 3,
    "start_time": "2021-12-18T14:52:11.606Z"
   },
   {
    "duration": 9,
    "start_time": "2021-12-18T15:18:36.517Z"
   },
   {
    "duration": 4,
    "start_time": "2021-12-18T15:26:32.570Z"
   },
   {
    "duration": 690,
    "start_time": "2021-12-18T15:26:32.726Z"
   },
   {
    "duration": 297,
    "start_time": "2021-12-18T15:26:33.418Z"
   },
   {
    "duration": 7,
    "start_time": "2021-12-18T15:26:33.716Z"
   },
   {
    "duration": 6,
    "start_time": "2021-12-18T15:26:33.725Z"
   },
   {
    "duration": 274,
    "start_time": "2021-12-18T15:26:33.733Z"
   },
   {
    "duration": 84,
    "start_time": "2021-12-18T15:26:34.009Z"
   },
   {
    "duration": 1245,
    "start_time": "2021-12-18T15:26:34.095Z"
   },
   {
    "duration": 868,
    "start_time": "2021-12-18T15:26:35.343Z"
   },
   {
    "duration": 1480,
    "start_time": "2021-12-18T15:26:36.214Z"
   },
   {
    "duration": 22,
    "start_time": "2021-12-18T15:26:37.696Z"
   },
   {
    "duration": 4,
    "start_time": "2021-12-18T15:26:37.720Z"
   },
   {
    "duration": 220,
    "start_time": "2021-12-18T21:07:45.755Z"
   },
   {
    "duration": 342,
    "start_time": "2021-12-18T21:08:31.982Z"
   },
   {
    "duration": 1127,
    "start_time": "2021-12-18T21:09:11.564Z"
   },
   {
    "duration": 732,
    "start_time": "2021-12-18T21:09:12.693Z"
   },
   {
    "duration": 312,
    "start_time": "2021-12-18T21:09:13.427Z"
   },
   {
    "duration": 10,
    "start_time": "2021-12-18T21:09:13.741Z"
   },
   {
    "duration": 7,
    "start_time": "2021-12-18T21:09:13.753Z"
   },
   {
    "duration": 297,
    "start_time": "2021-12-18T21:09:13.762Z"
   },
   {
    "duration": 70,
    "start_time": "2021-12-18T21:09:14.060Z"
   },
   {
    "duration": 1185,
    "start_time": "2021-12-18T21:09:14.132Z"
   },
   {
    "duration": 1102,
    "start_time": "2021-12-18T21:09:15.319Z"
   },
   {
    "duration": 1307,
    "start_time": "2021-12-18T21:09:16.422Z"
   },
   {
    "duration": 20,
    "start_time": "2021-12-18T21:09:17.731Z"
   },
   {
    "duration": 3,
    "start_time": "2021-12-18T21:09:17.752Z"
   },
   {
    "duration": 38,
    "start_time": "2021-12-18T21:09:17.757Z"
   },
   {
    "duration": 234,
    "start_time": "2021-12-18T21:09:17.797Z"
   },
   {
    "duration": -928,
    "start_time": "2021-12-18T21:09:18.961Z"
   },
   {
    "duration": 167,
    "start_time": "2021-12-18T21:09:36.288Z"
   },
   {
    "duration": 6,
    "start_time": "2021-12-18T21:09:40.749Z"
   },
   {
    "duration": 774,
    "start_time": "2021-12-18T21:09:40.758Z"
   },
   {
    "duration": 309,
    "start_time": "2021-12-18T21:09:41.534Z"
   },
   {
    "duration": 7,
    "start_time": "2021-12-18T21:09:41.845Z"
   },
   {
    "duration": 9,
    "start_time": "2021-12-18T21:09:41.854Z"
   },
   {
    "duration": 284,
    "start_time": "2021-12-18T21:09:41.865Z"
   },
   {
    "duration": 77,
    "start_time": "2021-12-18T21:09:42.150Z"
   },
   {
    "duration": 1139,
    "start_time": "2021-12-18T21:09:42.229Z"
   },
   {
    "duration": 867,
    "start_time": "2021-12-18T21:09:43.370Z"
   },
   {
    "duration": 1667,
    "start_time": "2021-12-18T21:09:44.239Z"
   },
   {
    "duration": 20,
    "start_time": "2021-12-18T21:09:45.907Z"
   },
   {
    "duration": 3,
    "start_time": "2021-12-18T21:09:45.928Z"
   },
   {
    "duration": 15,
    "start_time": "2021-12-18T21:09:45.933Z"
   },
   {
    "duration": 230,
    "start_time": "2021-12-18T21:09:45.950Z"
   },
   {
    "duration": -1038,
    "start_time": "2021-12-18T21:09:47.220Z"
   },
   {
    "duration": 439,
    "start_time": "2021-12-18T21:13:05.115Z"
   },
   {
    "duration": 261,
    "start_time": "2021-12-18T21:14:57.097Z"
   },
   {
    "duration": 263,
    "start_time": "2021-12-18T21:15:08.538Z"
   },
   {
    "duration": 4,
    "start_time": "2021-12-18T21:15:59.385Z"
   },
   {
    "duration": 748,
    "start_time": "2021-12-18T21:15:59.431Z"
   },
   {
    "duration": 310,
    "start_time": "2021-12-18T21:16:00.181Z"
   },
   {
    "duration": 8,
    "start_time": "2021-12-18T21:16:00.493Z"
   },
   {
    "duration": 22,
    "start_time": "2021-12-18T21:16:00.503Z"
   },
   {
    "duration": 296,
    "start_time": "2021-12-18T21:16:00.526Z"
   },
   {
    "duration": 82,
    "start_time": "2021-12-18T21:16:00.823Z"
   },
   {
    "duration": 1498,
    "start_time": "2021-12-18T21:16:00.907Z"
   },
   {
    "duration": 869,
    "start_time": "2021-12-18T21:16:02.406Z"
   },
   {
    "duration": 1336,
    "start_time": "2021-12-18T21:16:03.278Z"
   },
   {
    "duration": 21,
    "start_time": "2021-12-18T21:16:04.616Z"
   },
   {
    "duration": 4,
    "start_time": "2021-12-18T21:16:04.638Z"
   },
   {
    "duration": 16,
    "start_time": "2021-12-18T21:16:04.643Z"
   },
   {
    "duration": 174316,
    "start_time": "2021-12-18T21:16:04.660Z"
   },
   {
    "duration": -3996,
    "start_time": "2021-12-18T21:19:02.974Z"
   },
   {
    "duration": 3260,
    "start_time": "2021-12-18T21:19:42.640Z"
   },
   {
    "duration": 3240,
    "start_time": "2021-12-18T21:23:26.245Z"
   },
   {
    "duration": 274,
    "start_time": "2021-12-18T21:25:56.828Z"
   },
   {
    "duration": 11,
    "start_time": "2021-12-18T21:31:31.733Z"
   },
   {
    "duration": 3258,
    "start_time": "2021-12-18T21:31:33.566Z"
   },
   {
    "duration": 3289,
    "start_time": "2021-12-18T21:41:03.081Z"
   },
   {
    "duration": 1585,
    "start_time": "2021-12-18T21:42:58.110Z"
   },
   {
    "duration": 1194,
    "start_time": "2021-12-18T21:43:26.304Z"
   },
   {
    "duration": 178,
    "start_time": "2021-12-18T21:44:42.296Z"
   },
   {
    "duration": 1407,
    "start_time": "2021-12-18T21:44:42.986Z"
   },
   {
    "duration": 200,
    "start_time": "2021-12-18T21:45:01.341Z"
   },
   {
    "duration": 1324,
    "start_time": "2021-12-18T21:45:02.672Z"
   },
   {
    "duration": 222,
    "start_time": "2021-12-18T21:45:27.471Z"
   },
   {
    "duration": 1214,
    "start_time": "2021-12-18T21:47:12.483Z"
   },
   {
    "duration": 5,
    "start_time": "2021-12-18T21:47:28.410Z"
   },
   {
    "duration": 771,
    "start_time": "2021-12-18T21:47:28.417Z"
   },
   {
    "duration": 305,
    "start_time": "2021-12-18T21:47:29.192Z"
   },
   {
    "duration": 7,
    "start_time": "2021-12-18T21:47:29.499Z"
   },
   {
    "duration": 10,
    "start_time": "2021-12-18T21:47:29.508Z"
   },
   {
    "duration": 310,
    "start_time": "2021-12-18T21:47:29.520Z"
   },
   {
    "duration": 79,
    "start_time": "2021-12-18T21:47:29.832Z"
   },
   {
    "duration": 1151,
    "start_time": "2021-12-18T21:47:29.912Z"
   },
   {
    "duration": 868,
    "start_time": "2021-12-18T21:47:31.066Z"
   },
   {
    "duration": 1418,
    "start_time": "2021-12-18T21:47:31.936Z"
   },
   {
    "duration": 20,
    "start_time": "2021-12-18T21:47:33.356Z"
   },
   {
    "duration": 3,
    "start_time": "2021-12-18T21:47:33.391Z"
   },
   {
    "duration": 13,
    "start_time": "2021-12-18T21:47:33.396Z"
   },
   {
    "duration": 3490,
    "start_time": "2021-12-18T21:47:33.411Z"
   },
   {
    "duration": -907,
    "start_time": "2021-12-18T21:47:37.810Z"
   },
   {
    "duration": -908,
    "start_time": "2021-12-18T21:47:37.812Z"
   },
   {
    "duration": -923,
    "start_time": "2021-12-18T21:47:37.828Z"
   },
   {
    "duration": 168,
    "start_time": "2021-12-18T21:47:47.826Z"
   },
   {
    "duration": 2770,
    "start_time": "2021-12-18T21:47:50.529Z"
   },
   {
    "duration": 4,
    "start_time": "2021-12-18T21:48:39.831Z"
   },
   {
    "duration": 816,
    "start_time": "2021-12-18T21:48:39.837Z"
   },
   {
    "duration": 312,
    "start_time": "2021-12-18T21:48:40.655Z"
   },
   {
    "duration": 24,
    "start_time": "2021-12-18T21:48:40.968Z"
   },
   {
    "duration": 8,
    "start_time": "2021-12-18T21:48:40.994Z"
   },
   {
    "duration": 408,
    "start_time": "2021-12-18T21:48:41.004Z"
   },
   {
    "duration": 178,
    "start_time": "2021-12-18T21:48:41.415Z"
   },
   {
    "duration": 1428,
    "start_time": "2021-12-18T21:48:41.595Z"
   },
   {
    "duration": 1120,
    "start_time": "2021-12-18T21:48:43.025Z"
   },
   {
    "duration": 1437,
    "start_time": "2021-12-18T21:48:44.147Z"
   },
   {
    "duration": 26,
    "start_time": "2021-12-18T21:48:45.586Z"
   },
   {
    "duration": 4,
    "start_time": "2021-12-18T21:48:45.614Z"
   },
   {
    "duration": 13,
    "start_time": "2021-12-18T21:48:45.619Z"
   },
   {
    "duration": 3550,
    "start_time": "2021-12-18T21:48:45.633Z"
   },
   {
    "duration": -876,
    "start_time": "2021-12-18T21:48:50.062Z"
   },
   {
    "duration": -900,
    "start_time": "2021-12-18T21:48:50.087Z"
   },
   {
    "duration": -901,
    "start_time": "2021-12-18T21:48:50.089Z"
   },
   {
    "duration": 147,
    "start_time": "2021-12-18T21:50:49.154Z"
   },
   {
    "duration": 1331,
    "start_time": "2021-12-18T21:50:50.466Z"
   },
   {
    "duration": 3304,
    "start_time": "2021-12-18T21:53:01.942Z"
   },
   {
    "duration": 8764,
    "start_time": "2021-12-18T21:53:27.244Z"
   },
   {
    "duration": 16252,
    "start_time": "2021-12-18T21:59:09.321Z"
   },
   {
    "duration": 34537,
    "start_time": "2021-12-18T22:00:01.463Z"
   },
   {
    "duration": -1830,
    "start_time": "2021-12-18T22:01:54.602Z"
   },
   {
    "duration": -1832,
    "start_time": "2021-12-18T22:01:54.605Z"
   },
   {
    "duration": -1849,
    "start_time": "2021-12-18T22:01:54.623Z"
   },
   {
    "duration": -1850,
    "start_time": "2021-12-18T22:01:54.625Z"
   },
   {
    "duration": -1852,
    "start_time": "2021-12-18T22:01:54.628Z"
   },
   {
    "duration": -1854,
    "start_time": "2021-12-18T22:01:54.631Z"
   },
   {
    "duration": -1855,
    "start_time": "2021-12-18T22:01:54.633Z"
   },
   {
    "duration": -1856,
    "start_time": "2021-12-18T22:01:54.635Z"
   },
   {
    "duration": -1859,
    "start_time": "2021-12-18T22:01:54.639Z"
   },
   {
    "duration": -1865,
    "start_time": "2021-12-18T22:01:54.646Z"
   },
   {
    "duration": -1887,
    "start_time": "2021-12-18T22:01:54.670Z"
   },
   {
    "duration": -1889,
    "start_time": "2021-12-18T22:01:54.673Z"
   },
   {
    "duration": -1890,
    "start_time": "2021-12-18T22:01:54.675Z"
   },
   {
    "duration": -1891,
    "start_time": "2021-12-18T22:01:54.677Z"
   },
   {
    "duration": -1893,
    "start_time": "2021-12-18T22:01:54.680Z"
   },
   {
    "duration": -1895,
    "start_time": "2021-12-18T22:01:54.683Z"
   },
   {
    "duration": -1896,
    "start_time": "2021-12-18T22:01:54.685Z"
   },
   {
    "duration": 4,
    "start_time": "2021-12-18T22:01:55.288Z"
   },
   {
    "duration": 720,
    "start_time": "2021-12-18T22:01:55.294Z"
   },
   {
    "duration": 309,
    "start_time": "2021-12-18T22:01:56.016Z"
   },
   {
    "duration": 8,
    "start_time": "2021-12-18T22:01:56.327Z"
   },
   {
    "duration": 8,
    "start_time": "2021-12-18T22:01:56.337Z"
   },
   {
    "duration": 302,
    "start_time": "2021-12-18T22:01:56.346Z"
   },
   {
    "duration": 70,
    "start_time": "2021-12-18T22:01:56.649Z"
   },
   {
    "duration": 1309,
    "start_time": "2021-12-18T22:01:56.721Z"
   },
   {
    "duration": 906,
    "start_time": "2021-12-18T22:01:58.032Z"
   },
   {
    "duration": 1423,
    "start_time": "2021-12-18T22:01:58.940Z"
   },
   {
    "duration": 30,
    "start_time": "2021-12-18T22:02:00.365Z"
   },
   {
    "duration": 3,
    "start_time": "2021-12-18T22:02:00.397Z"
   },
   {
    "duration": 14,
    "start_time": "2021-12-18T22:02:00.401Z"
   },
   {
    "duration": 34708,
    "start_time": "2021-12-18T22:02:00.417Z"
   },
   {
    "duration": 184700,
    "start_time": "2021-12-18T22:02:35.127Z"
   },
   {
    "duration": 71,
    "start_time": "2021-12-18T22:05:39.828Z"
   },
   {
    "duration": 1693,
    "start_time": "2021-12-18T22:05:39.902Z"
   },
   {
    "duration": -1068,
    "start_time": "2021-12-18T22:09:48.390Z"
   },
   {
    "duration": -1071,
    "start_time": "2021-12-18T22:09:48.393Z"
   },
   {
    "duration": 10840,
    "start_time": "2021-12-18T22:09:49.650Z"
   },
   {
    "duration": 4,
    "start_time": "2021-12-18T22:10:03.589Z"
   },
   {
    "duration": 785,
    "start_time": "2021-12-18T22:10:03.595Z"
   },
   {
    "duration": 326,
    "start_time": "2021-12-18T22:10:04.382Z"
   },
   {
    "duration": 8,
    "start_time": "2021-12-18T22:10:04.710Z"
   },
   {
    "duration": 6,
    "start_time": "2021-12-18T22:10:04.720Z"
   },
   {
    "duration": 466,
    "start_time": "2021-12-18T22:10:04.729Z"
   },
   {
    "duration": 114,
    "start_time": "2021-12-18T22:10:05.197Z"
   },
   {
    "duration": 1187,
    "start_time": "2021-12-18T22:10:05.313Z"
   },
   {
    "duration": 1016,
    "start_time": "2021-12-18T22:10:06.503Z"
   },
   {
    "duration": 1301,
    "start_time": "2021-12-18T22:10:07.521Z"
   },
   {
    "duration": 17,
    "start_time": "2021-12-18T22:10:08.824Z"
   },
   {
    "duration": 2,
    "start_time": "2021-12-18T22:10:08.843Z"
   },
   {
    "duration": 13,
    "start_time": "2021-12-18T22:10:08.847Z"
   },
   {
    "duration": 35103,
    "start_time": "2021-12-18T22:10:08.861Z"
   },
   {
    "duration": 182050,
    "start_time": "2021-12-18T22:10:43.966Z"
   },
   {
    "duration": 80,
    "start_time": "2021-12-18T22:13:46.017Z"
   },
   {
    "duration": 1502,
    "start_time": "2021-12-18T22:13:46.099Z"
   },
   {
    "duration": 4,
    "start_time": "2021-12-18T22:29:01.005Z"
   },
   {
    "duration": 745,
    "start_time": "2021-12-18T22:29:01.011Z"
   },
   {
    "duration": 317,
    "start_time": "2021-12-18T22:29:01.758Z"
   },
   {
    "duration": 20,
    "start_time": "2021-12-18T22:29:02.077Z"
   },
   {
    "duration": 21,
    "start_time": "2021-12-18T22:29:02.098Z"
   },
   {
    "duration": 297,
    "start_time": "2021-12-18T22:29:02.121Z"
   },
   {
    "duration": 88,
    "start_time": "2021-12-18T22:29:02.420Z"
   },
   {
    "duration": 1463,
    "start_time": "2021-12-18T22:29:02.510Z"
   },
   {
    "duration": 978,
    "start_time": "2021-12-18T22:29:03.976Z"
   },
   {
    "duration": 1562,
    "start_time": "2021-12-18T22:29:04.956Z"
   },
   {
    "duration": 21,
    "start_time": "2021-12-18T22:29:06.520Z"
   },
   {
    "duration": 3,
    "start_time": "2021-12-18T22:29:06.542Z"
   },
   {
    "duration": 15,
    "start_time": "2021-12-18T22:29:06.547Z"
   },
   {
    "duration": 194,
    "start_time": "2021-12-18T22:29:06.564Z"
   },
   {
    "duration": -848,
    "start_time": "2021-12-18T22:29:07.607Z"
   },
   {
    "duration": -927,
    "start_time": "2021-12-18T22:29:07.687Z"
   },
   {
    "duration": 3,
    "start_time": "2021-12-18T22:29:21.725Z"
   },
   {
    "duration": 751,
    "start_time": "2021-12-18T22:29:21.731Z"
   },
   {
    "duration": 304,
    "start_time": "2021-12-18T22:29:22.491Z"
   },
   {
    "duration": 8,
    "start_time": "2021-12-18T22:29:22.797Z"
   },
   {
    "duration": 7,
    "start_time": "2021-12-18T22:29:22.807Z"
   },
   {
    "duration": 298,
    "start_time": "2021-12-18T22:29:22.816Z"
   },
   {
    "duration": 80,
    "start_time": "2021-12-18T22:29:23.115Z"
   },
   {
    "duration": 1106,
    "start_time": "2021-12-18T22:29:23.197Z"
   },
   {
    "duration": 1008,
    "start_time": "2021-12-18T22:29:24.305Z"
   },
   {
    "duration": 1322,
    "start_time": "2021-12-18T22:29:25.315Z"
   },
   {
    "duration": 20,
    "start_time": "2021-12-18T22:29:26.639Z"
   },
   {
    "duration": 3,
    "start_time": "2021-12-18T22:29:26.660Z"
   },
   {
    "duration": 33,
    "start_time": "2021-12-18T22:29:26.665Z"
   },
   {
    "duration": 197,
    "start_time": "2021-12-18T22:29:26.699Z"
   },
   {
    "duration": -851,
    "start_time": "2021-12-18T22:29:27.749Z"
   },
   {
    "duration": -855,
    "start_time": "2021-12-18T22:29:27.755Z"
   },
   {
    "duration": 4,
    "start_time": "2021-12-18T22:32:59.421Z"
   },
   {
    "duration": 783,
    "start_time": "2021-12-18T22:32:59.428Z"
   },
   {
    "duration": 321,
    "start_time": "2021-12-18T22:33:00.214Z"
   },
   {
    "duration": 10,
    "start_time": "2021-12-18T22:33:00.537Z"
   },
   {
    "duration": 13,
    "start_time": "2021-12-18T22:33:00.549Z"
   },
   {
    "duration": 306,
    "start_time": "2021-12-18T22:33:00.564Z"
   },
   {
    "duration": 76,
    "start_time": "2021-12-18T22:33:00.872Z"
   },
   {
    "duration": 1469,
    "start_time": "2021-12-18T22:33:00.950Z"
   },
   {
    "duration": 864,
    "start_time": "2021-12-18T22:33:02.422Z"
   },
   {
    "duration": 1478,
    "start_time": "2021-12-18T22:33:03.292Z"
   },
   {
    "duration": 33,
    "start_time": "2021-12-18T22:33:04.773Z"
   },
   {
    "duration": 4,
    "start_time": "2021-12-18T22:33:04.807Z"
   },
   {
    "duration": 12,
    "start_time": "2021-12-18T22:33:04.813Z"
   },
   {
    "duration": 479,
    "start_time": "2021-12-18T22:33:04.827Z"
   },
   {
    "duration": -881,
    "start_time": "2021-12-18T22:33:06.188Z"
   },
   {
    "duration": -883,
    "start_time": "2021-12-18T22:33:06.191Z"
   },
   {
    "duration": 399,
    "start_time": "2021-12-18T22:34:53.804Z"
   },
   {
    "duration": 396,
    "start_time": "2021-12-18T22:34:59.315Z"
   },
   {
    "duration": 253,
    "start_time": "2021-12-18T22:35:32.220Z"
   },
   {
    "duration": 231,
    "start_time": "2021-12-18T22:36:04.798Z"
   },
   {
    "duration": 61,
    "start_time": "2021-12-18T22:37:08.927Z"
   },
   {
    "duration": 239,
    "start_time": "2021-12-18T22:37:33.407Z"
   },
   {
    "duration": 163,
    "start_time": "2021-12-18T22:38:17.532Z"
   },
   {
    "duration": 1371,
    "start_time": "2021-12-18T22:38:19.926Z"
   },
   {
    "duration": 270,
    "start_time": "2021-12-18T22:38:48.522Z"
   },
   {
    "duration": 65,
    "start_time": "2021-12-18T22:39:36.250Z"
   },
   {
    "duration": 444,
    "start_time": "2021-12-18T22:39:42.956Z"
   },
   {
    "duration": 34592,
    "start_time": "2021-12-18T22:40:05.629Z"
   },
   {
    "duration": 4,
    "start_time": "2021-12-18T22:41:11.020Z"
   },
   {
    "duration": 718,
    "start_time": "2021-12-18T22:41:11.026Z"
   },
   {
    "duration": 304,
    "start_time": "2021-12-18T22:41:11.746Z"
   },
   {
    "duration": 7,
    "start_time": "2021-12-18T22:41:12.052Z"
   },
   {
    "duration": 30,
    "start_time": "2021-12-18T22:41:12.061Z"
   },
   {
    "duration": 270,
    "start_time": "2021-12-18T22:41:12.093Z"
   },
   {
    "duration": 78,
    "start_time": "2021-12-18T22:41:12.365Z"
   },
   {
    "duration": 1496,
    "start_time": "2021-12-18T22:41:12.446Z"
   },
   {
    "duration": 867,
    "start_time": "2021-12-18T22:41:13.944Z"
   },
   {
    "duration": 1306,
    "start_time": "2021-12-18T22:41:14.813Z"
   },
   {
    "duration": 21,
    "start_time": "2021-12-18T22:41:16.121Z"
   },
   {
    "duration": 4,
    "start_time": "2021-12-18T22:41:16.143Z"
   },
   {
    "duration": 49,
    "start_time": "2021-12-18T22:41:16.149Z"
   },
   {
    "duration": 26722,
    "start_time": "2021-12-18T22:41:16.200Z"
   },
   {
    "duration": 135553,
    "start_time": "2021-12-18T22:41:42.924Z"
   },
   {
    "duration": -969,
    "start_time": "2021-12-18T22:43:59.448Z"
   },
   {
    "duration": -971,
    "start_time": "2021-12-18T22:43:59.452Z"
   },
   {
    "duration": 6,
    "start_time": "2021-12-18T22:44:01.596Z"
   },
   {
    "duration": 675,
    "start_time": "2021-12-18T22:44:01.607Z"
   },
   {
    "duration": 304,
    "start_time": "2021-12-18T22:44:02.291Z"
   },
   {
    "duration": 7,
    "start_time": "2021-12-18T22:44:02.597Z"
   },
   {
    "duration": 9,
    "start_time": "2021-12-18T22:44:02.606Z"
   },
   {
    "duration": 307,
    "start_time": "2021-12-18T22:44:02.617Z"
   },
   {
    "duration": 81,
    "start_time": "2021-12-18T22:44:02.926Z"
   },
   {
    "duration": 1312,
    "start_time": "2021-12-18T22:44:03.009Z"
   },
   {
    "duration": 926,
    "start_time": "2021-12-18T22:44:04.323Z"
   },
   {
    "duration": 1437,
    "start_time": "2021-12-18T22:44:05.251Z"
   },
   {
    "duration": 19,
    "start_time": "2021-12-18T22:44:06.691Z"
   },
   {
    "duration": 3,
    "start_time": "2021-12-18T22:44:06.712Z"
   },
   {
    "duration": 18,
    "start_time": "2021-12-18T22:44:06.717Z"
   },
   {
    "duration": 26637,
    "start_time": "2021-12-18T22:44:06.737Z"
   },
   {
    "duration": 42555,
    "start_time": "2021-12-18T22:44:33.376Z"
   },
   {
    "duration": -977,
    "start_time": "2021-12-18T22:45:16.910Z"
   },
   {
    "duration": -982,
    "start_time": "2021-12-18T22:45:16.916Z"
   },
   {
    "duration": -983,
    "start_time": "2021-12-18T22:45:16.918Z"
   },
   {
    "duration": 4,
    "start_time": "2021-12-18T22:45:19.171Z"
   },
   {
    "duration": 750,
    "start_time": "2021-12-18T22:45:19.177Z"
   },
   {
    "duration": 316,
    "start_time": "2021-12-18T22:45:19.929Z"
   },
   {
    "duration": 8,
    "start_time": "2021-12-18T22:45:20.247Z"
   },
   {
    "duration": 7,
    "start_time": "2021-12-18T22:45:20.257Z"
   },
   {
    "duration": 312,
    "start_time": "2021-12-18T22:45:20.265Z"
   },
   {
    "duration": 64,
    "start_time": "2021-12-18T22:45:20.579Z"
   },
   {
    "duration": 1157,
    "start_time": "2021-12-18T22:45:20.645Z"
   },
   {
    "duration": 1234,
    "start_time": "2021-12-18T22:45:21.804Z"
   },
   {
    "duration": 1270,
    "start_time": "2021-12-18T22:45:23.039Z"
   },
   {
    "duration": 18,
    "start_time": "2021-12-18T22:45:24.311Z"
   },
   {
    "duration": 3,
    "start_time": "2021-12-18T22:45:24.331Z"
   },
   {
    "duration": 18,
    "start_time": "2021-12-18T22:45:24.335Z"
   },
   {
    "duration": 26881,
    "start_time": "2021-12-18T22:45:24.355Z"
   },
   {
    "duration": 182668,
    "start_time": "2021-12-18T22:45:51.238Z"
   },
   {
    "duration": 292,
    "start_time": "2021-12-18T22:48:53.908Z"
   },
   {
    "duration": 1497,
    "start_time": "2021-12-18T22:48:54.203Z"
   },
   {
    "duration": 269,
    "start_time": "2021-12-18T22:55:55.632Z"
   },
   {
    "duration": 186,
    "start_time": "2021-12-18T22:57:17.235Z"
   },
   {
    "duration": 190,
    "start_time": "2021-12-18T22:57:47.239Z"
   },
   {
    "duration": 189,
    "start_time": "2021-12-18T23:00:25.041Z"
   },
   {
    "duration": 679,
    "start_time": "2021-12-18T23:00:36.005Z"
   },
   {
    "duration": 786,
    "start_time": "2021-12-18T23:00:53.798Z"
   },
   {
    "duration": 187,
    "start_time": "2021-12-18T23:01:17.770Z"
   },
   {
    "duration": 672,
    "start_time": "2021-12-18T23:01:53.282Z"
   },
   {
    "duration": 740,
    "start_time": "2021-12-18T23:02:01.461Z"
   },
   {
    "duration": 708,
    "start_time": "2021-12-18T23:02:16.098Z"
   },
   {
    "duration": 202,
    "start_time": "2021-12-18T23:03:14.828Z"
   },
   {
    "duration": 178,
    "start_time": "2021-12-18T23:03:34.963Z"
   },
   {
    "duration": 694,
    "start_time": "2021-12-18T23:03:41.941Z"
   },
   {
    "duration": 31,
    "start_time": "2021-12-18T23:04:39.911Z"
   },
   {
    "duration": 179,
    "start_time": "2021-12-18T23:06:54.546Z"
   },
   {
    "duration": 26,
    "start_time": "2021-12-18T23:07:47.305Z"
   },
   {
    "duration": 222,
    "start_time": "2021-12-18T23:08:51.396Z"
   },
   {
    "duration": 363,
    "start_time": "2021-12-18T23:09:15.707Z"
   },
   {
    "duration": 7799,
    "start_time": "2021-12-18T23:12:34.110Z"
   },
   {
    "duration": 1110,
    "start_time": "2021-12-19T18:14:24.651Z"
   },
   {
    "duration": 871,
    "start_time": "2021-12-19T18:14:25.763Z"
   },
   {
    "duration": 412,
    "start_time": "2021-12-19T18:14:26.636Z"
   },
   {
    "duration": 9,
    "start_time": "2021-12-19T18:14:27.050Z"
   },
   {
    "duration": 31,
    "start_time": "2021-12-19T18:14:27.061Z"
   },
   {
    "duration": 289,
    "start_time": "2021-12-19T18:14:27.093Z"
   },
   {
    "duration": 60,
    "start_time": "2021-12-19T18:14:27.384Z"
   },
   {
    "duration": 1202,
    "start_time": "2021-12-19T18:14:27.445Z"
   },
   {
    "duration": 908,
    "start_time": "2021-12-19T18:14:28.650Z"
   },
   {
    "duration": 1378,
    "start_time": "2021-12-19T18:14:29.560Z"
   },
   {
    "duration": 24,
    "start_time": "2021-12-19T18:14:30.940Z"
   },
   {
    "duration": 26,
    "start_time": "2021-12-19T18:14:30.967Z"
   },
   {
    "duration": 252,
    "start_time": "2021-12-19T18:14:30.995Z"
   },
   {
    "duration": 11145,
    "start_time": "2021-12-19T18:14:31.249Z"
   },
   {
    "duration": -1504,
    "start_time": "2021-12-19T18:14:43.901Z"
   },
   {
    "duration": -1513,
    "start_time": "2021-12-19T18:14:43.911Z"
   },
   {
    "duration": -1516,
    "start_time": "2021-12-19T18:14:43.915Z"
   },
   {
    "duration": -1521,
    "start_time": "2021-12-19T18:14:43.922Z"
   },
   {
    "duration": -1524,
    "start_time": "2021-12-19T18:14:43.926Z"
   },
   {
    "duration": 4,
    "start_time": "2021-12-19T18:14:45.801Z"
   },
   {
    "duration": 745,
    "start_time": "2021-12-19T18:14:47.130Z"
   },
   {
    "duration": 1246,
    "start_time": "2021-12-20T10:49:15.380Z"
   },
   {
    "duration": 741,
    "start_time": "2021-12-20T10:49:16.628Z"
   },
   {
    "duration": 544,
    "start_time": "2021-12-20T10:49:17.372Z"
   },
   {
    "duration": 13,
    "start_time": "2021-12-20T10:49:17.918Z"
   },
   {
    "duration": 20,
    "start_time": "2021-12-20T10:49:17.933Z"
   },
   {
    "duration": 426,
    "start_time": "2021-12-20T10:49:17.955Z"
   },
   {
    "duration": 73,
    "start_time": "2021-12-20T10:49:18.383Z"
   },
   {
    "duration": 1118,
    "start_time": "2021-12-20T10:49:18.459Z"
   },
   {
    "duration": 831,
    "start_time": "2021-12-20T10:49:19.578Z"
   },
   {
    "duration": 1247,
    "start_time": "2021-12-20T10:49:20.411Z"
   },
   {
    "duration": 18,
    "start_time": "2021-12-20T10:49:21.660Z"
   },
   {
    "duration": 3,
    "start_time": "2021-12-20T10:49:21.680Z"
   },
   {
    "duration": 172,
    "start_time": "2021-12-20T10:49:21.706Z"
   },
   {
    "duration": 28620,
    "start_time": "2021-12-20T10:49:21.880Z"
   },
   {
    "duration": 4824,
    "start_time": "2021-12-20T10:49:50.506Z"
   },
   {
    "duration": -2264,
    "start_time": "2021-12-20T10:49:57.596Z"
   },
   {
    "duration": -2268,
    "start_time": "2021-12-20T10:49:57.601Z"
   },
   {
    "duration": -2271,
    "start_time": "2021-12-20T10:49:57.605Z"
   },
   {
    "duration": 10,
    "start_time": "2021-12-20T10:51:13.697Z"
   },
   {
    "duration": 4,
    "start_time": "2021-12-20T11:02:14.177Z"
   },
   {
    "duration": 738,
    "start_time": "2021-12-20T11:02:14.183Z"
   },
   {
    "duration": 329,
    "start_time": "2021-12-20T11:02:14.923Z"
   },
   {
    "duration": 8,
    "start_time": "2021-12-20T11:02:15.254Z"
   },
   {
    "duration": 14,
    "start_time": "2021-12-20T11:02:15.263Z"
   },
   {
    "duration": 369,
    "start_time": "2021-12-20T11:02:15.279Z"
   },
   {
    "duration": 10273,
    "start_time": "2021-12-20T11:02:15.650Z"
   },
   {
    "duration": -2072,
    "start_time": "2021-12-20T11:02:27.997Z"
   },
   {
    "duration": -2074,
    "start_time": "2021-12-20T11:02:28.000Z"
   },
   {
    "duration": -2077,
    "start_time": "2021-12-20T11:02:28.004Z"
   },
   {
    "duration": -2080,
    "start_time": "2021-12-20T11:02:28.008Z"
   },
   {
    "duration": -2084,
    "start_time": "2021-12-20T11:02:28.013Z"
   },
   {
    "duration": -2086,
    "start_time": "2021-12-20T11:02:28.016Z"
   },
   {
    "duration": -2092,
    "start_time": "2021-12-20T11:02:28.023Z"
   },
   {
    "duration": -2101,
    "start_time": "2021-12-20T11:02:28.033Z"
   },
   {
    "duration": -2106,
    "start_time": "2021-12-20T11:02:28.039Z"
   },
   {
    "duration": -2110,
    "start_time": "2021-12-20T11:02:28.044Z"
   },
   {
    "duration": -2114,
    "start_time": "2021-12-20T11:02:28.048Z"
   },
   {
    "duration": -2116,
    "start_time": "2021-12-20T11:02:28.051Z"
   },
   {
    "duration": 53,
    "start_time": "2021-12-20T11:04:12.874Z"
   },
   {
    "duration": 60,
    "start_time": "2021-12-20T11:06:12.700Z"
   },
   {
    "duration": 52,
    "start_time": "2021-12-20T11:06:19.667Z"
   },
   {
    "duration": 54,
    "start_time": "2021-12-20T11:06:32.759Z"
   },
   {
    "duration": 54,
    "start_time": "2021-12-20T11:06:40.338Z"
   },
   {
    "duration": 128,
    "start_time": "2021-12-20T11:07:42.122Z"
   },
   {
    "duration": 55,
    "start_time": "2021-12-20T11:09:20.614Z"
   },
   {
    "duration": 425,
    "start_time": "2021-12-20T11:09:30.544Z"
   },
   {
    "duration": 110,
    "start_time": "2021-12-20T11:10:00.340Z"
   },
   {
    "duration": 56,
    "start_time": "2021-12-20T11:10:09.070Z"
   },
   {
    "duration": 61,
    "start_time": "2021-12-20T11:11:42.476Z"
   },
   {
    "duration": 57,
    "start_time": "2021-12-20T11:12:10.190Z"
   },
   {
    "duration": 55,
    "start_time": "2021-12-20T11:12:33.276Z"
   },
   {
    "duration": 5,
    "start_time": "2021-12-20T11:12:41.420Z"
   },
   {
    "duration": 772,
    "start_time": "2021-12-20T11:12:41.427Z"
   },
   {
    "duration": 323,
    "start_time": "2021-12-20T11:12:42.206Z"
   },
   {
    "duration": 8,
    "start_time": "2021-12-20T11:12:42.531Z"
   },
   {
    "duration": 9,
    "start_time": "2021-12-20T11:12:42.541Z"
   },
   {
    "duration": 316,
    "start_time": "2021-12-20T11:12:42.552Z"
   },
   {
    "duration": 73,
    "start_time": "2021-12-20T11:12:42.870Z"
   },
   {
    "duration": 79,
    "start_time": "2021-12-20T11:12:42.945Z"
   },
   {
    "duration": 1317,
    "start_time": "2021-12-20T11:12:43.026Z"
   },
   {
    "duration": 848,
    "start_time": "2021-12-20T11:12:44.346Z"
   },
   {
    "duration": 1468,
    "start_time": "2021-12-20T11:12:45.196Z"
   },
   {
    "duration": 18,
    "start_time": "2021-12-20T11:12:46.666Z"
   },
   {
    "duration": 3,
    "start_time": "2021-12-20T11:12:46.686Z"
   },
   {
    "duration": 51,
    "start_time": "2021-12-20T11:12:46.690Z"
   },
   {
    "duration": 29093,
    "start_time": "2021-12-20T11:12:46.743Z"
   },
   {
    "duration": 195103,
    "start_time": "2021-12-20T11:13:15.837Z"
   },
   {
    "duration": -2165,
    "start_time": "2021-12-20T11:16:33.107Z"
   },
   {
    "duration": -2178,
    "start_time": "2021-12-20T11:16:33.121Z"
   },
   {
    "duration": -2190,
    "start_time": "2021-12-20T11:16:33.134Z"
   },
   {
    "duration": -2204,
    "start_time": "2021-12-20T11:16:33.149Z"
   },
   {
    "duration": 4,
    "start_time": "2021-12-20T11:16:38.565Z"
   },
   {
    "duration": 805,
    "start_time": "2021-12-20T11:16:38.572Z"
   },
   {
    "duration": 352,
    "start_time": "2021-12-20T11:16:39.380Z"
   },
   {
    "duration": 9,
    "start_time": "2021-12-20T11:16:39.735Z"
   },
   {
    "duration": 8,
    "start_time": "2021-12-20T11:16:39.746Z"
   },
   {
    "duration": 351,
    "start_time": "2021-12-20T11:16:39.756Z"
   },
   {
    "duration": 428,
    "start_time": "2021-12-20T11:16:40.109Z"
   },
   {
    "duration": -2047,
    "start_time": "2021-12-20T11:16:42.586Z"
   },
   {
    "duration": -2057,
    "start_time": "2021-12-20T11:16:42.597Z"
   },
   {
    "duration": -2075,
    "start_time": "2021-12-20T11:16:42.616Z"
   },
   {
    "duration": -2101,
    "start_time": "2021-12-20T11:16:42.643Z"
   },
   {
    "duration": -2111,
    "start_time": "2021-12-20T11:16:42.654Z"
   },
   {
    "duration": -2121,
    "start_time": "2021-12-20T11:16:42.666Z"
   },
   {
    "duration": -2129,
    "start_time": "2021-12-20T11:16:42.675Z"
   },
   {
    "duration": -2139,
    "start_time": "2021-12-20T11:16:42.686Z"
   },
   {
    "duration": -2147,
    "start_time": "2021-12-20T11:16:42.694Z"
   },
   {
    "duration": -2156,
    "start_time": "2021-12-20T11:16:42.705Z"
   },
   {
    "duration": -2166,
    "start_time": "2021-12-20T11:16:42.716Z"
   },
   {
    "duration": -2175,
    "start_time": "2021-12-20T11:16:42.726Z"
   },
   {
    "duration": 47,
    "start_time": "2021-12-20T11:17:00.524Z"
   },
   {
    "duration": 46,
    "start_time": "2021-12-20T11:17:43.629Z"
   },
   {
    "duration": 44,
    "start_time": "2021-12-20T11:24:40.517Z"
   },
   {
    "duration": 45,
    "start_time": "2021-12-20T11:24:51.527Z"
   },
   {
    "duration": 476,
    "start_time": "2021-12-20T11:25:09.496Z"
   },
   {
    "duration": 46,
    "start_time": "2021-12-20T11:25:21.608Z"
   },
   {
    "duration": 44,
    "start_time": "2021-12-20T11:25:37.449Z"
   },
   {
    "duration": 46,
    "start_time": "2021-12-20T11:25:44.421Z"
   },
   {
    "duration": 74,
    "start_time": "2021-12-20T11:27:59.161Z"
   },
   {
    "duration": 55,
    "start_time": "2021-12-20T11:28:22.564Z"
   },
   {
    "duration": 393,
    "start_time": "2021-12-20T11:29:12.399Z"
   },
   {
    "duration": 395,
    "start_time": "2021-12-20T11:29:33.980Z"
   },
   {
    "duration": 51,
    "start_time": "2021-12-20T11:29:49.256Z"
   },
   {
    "duration": 364,
    "start_time": "2021-12-20T15:56:27.154Z"
   },
   {
    "duration": 4051,
    "start_time": "2021-12-20T15:56:32.784Z"
   },
   {
    "duration": 1011,
    "start_time": "2021-12-20T15:56:36.838Z"
   },
   {
    "duration": 620,
    "start_time": "2021-12-20T15:56:37.853Z"
   },
   {
    "duration": 35,
    "start_time": "2021-12-20T15:56:38.476Z"
   },
   {
    "duration": 365,
    "start_time": "2021-12-20T15:56:38.515Z"
   },
   {
    "duration": 740,
    "start_time": "2021-12-20T15:56:38.883Z"
   },
   {
    "duration": 161,
    "start_time": "2021-12-20T15:56:39.626Z"
   },
   {
    "duration": 279,
    "start_time": "2021-12-20T15:56:39.793Z"
   },
   {
    "duration": 2420,
    "start_time": "2021-12-20T15:56:40.076Z"
   },
   {
    "duration": 1643,
    "start_time": "2021-12-20T15:56:42.499Z"
   },
   {
    "duration": 2583,
    "start_time": "2021-12-20T15:56:44.145Z"
   },
   {
    "duration": 46,
    "start_time": "2021-12-20T15:56:46.731Z"
   },
   {
    "duration": 221,
    "start_time": "2021-12-20T15:56:46.780Z"
   },
   {
    "duration": 548,
    "start_time": "2021-12-20T15:56:47.003Z"
   },
   {
    "duration": 21605,
    "start_time": "2021-12-20T15:56:47.553Z"
   },
   {
    "duration": -925,
    "start_time": "2021-12-20T15:57:10.085Z"
   },
   {
    "duration": -930,
    "start_time": "2021-12-20T15:57:10.092Z"
   },
   {
    "duration": -936,
    "start_time": "2021-12-20T15:57:10.099Z"
   },
   {
    "duration": -938,
    "start_time": "2021-12-20T15:57:10.103Z"
   },
   {
    "duration": -940,
    "start_time": "2021-12-20T15:57:10.107Z"
   },
   {
    "duration": 66,
    "start_time": "2021-12-20T15:57:10.826Z"
   },
   {
    "duration": 103,
    "start_time": "2021-12-20T15:58:34.808Z"
   },
   {
    "duration": 91,
    "start_time": "2021-12-20T15:58:44.576Z"
   },
   {
    "duration": 7,
    "start_time": "2021-12-20T16:01:14.251Z"
   },
   {
    "duration": 1235,
    "start_time": "2021-12-20T16:01:14.261Z"
   },
   {
    "duration": 714,
    "start_time": "2021-12-20T16:01:15.500Z"
   },
   {
    "duration": 53,
    "start_time": "2021-12-20T16:01:16.217Z"
   },
   {
    "duration": 299,
    "start_time": "2021-12-20T16:01:16.273Z"
   },
   {
    "duration": 998,
    "start_time": "2021-12-20T16:01:16.575Z"
   },
   {
    "duration": -873,
    "start_time": "2021-12-20T16:01:18.449Z"
   },
   {
    "duration": -883,
    "start_time": "2021-12-20T16:01:18.460Z"
   },
   {
    "duration": -886,
    "start_time": "2021-12-20T16:01:18.465Z"
   },
   {
    "duration": -887,
    "start_time": "2021-12-20T16:01:18.467Z"
   },
   {
    "duration": -889,
    "start_time": "2021-12-20T16:01:18.471Z"
   },
   {
    "duration": -890,
    "start_time": "2021-12-20T16:01:18.473Z"
   },
   {
    "duration": -891,
    "start_time": "2021-12-20T16:01:18.476Z"
   },
   {
    "duration": -892,
    "start_time": "2021-12-20T16:01:18.478Z"
   },
   {
    "duration": -895,
    "start_time": "2021-12-20T16:01:18.482Z"
   },
   {
    "duration": -897,
    "start_time": "2021-12-20T16:01:18.485Z"
   },
   {
    "duration": -899,
    "start_time": "2021-12-20T16:01:18.488Z"
   },
   {
    "duration": -900,
    "start_time": "2021-12-20T16:01:18.491Z"
   },
   {
    "duration": -903,
    "start_time": "2021-12-20T16:01:18.495Z"
   },
   {
    "duration": 6,
    "start_time": "2021-12-20T16:02:00.228Z"
   },
   {
    "duration": 1173,
    "start_time": "2021-12-20T16:02:00.237Z"
   },
   {
    "duration": 578,
    "start_time": "2021-12-20T16:02:01.414Z"
   },
   {
    "duration": 13,
    "start_time": "2021-12-20T16:02:01.996Z"
   },
   {
    "duration": 288,
    "start_time": "2021-12-20T16:02:02.012Z"
   },
   {
    "duration": 593,
    "start_time": "2021-12-20T16:02:02.306Z"
   },
   {
    "duration": 99,
    "start_time": "2021-12-20T16:02:02.901Z"
   },
   {
    "duration": 366,
    "start_time": "2021-12-20T16:02:03.003Z"
   },
   {
    "duration": 2420,
    "start_time": "2021-12-20T16:02:03.372Z"
   },
   {
    "duration": 1591,
    "start_time": "2021-12-20T16:02:05.796Z"
   },
   {
    "duration": 2826,
    "start_time": "2021-12-20T16:02:07.389Z"
   },
   {
    "duration": 55,
    "start_time": "2021-12-20T16:02:10.218Z"
   },
   {
    "duration": 303,
    "start_time": "2021-12-20T16:02:10.276Z"
   },
   {
    "duration": 379,
    "start_time": "2021-12-20T16:02:10.582Z"
   },
   {
    "duration": 71624,
    "start_time": "2021-12-20T16:02:10.963Z"
   },
   {
    "duration": 501842,
    "start_time": "2021-12-20T16:03:22.589Z"
   },
   {
    "duration": 548,
    "start_time": "2021-12-20T16:11:44.434Z"
   },
   {
    "duration": 3807,
    "start_time": "2021-12-20T16:11:45.069Z"
   },
   {
    "duration": 20378,
    "start_time": "2021-12-20T16:11:48.880Z"
   },
   {
    "duration": 81,
    "start_time": "2021-12-20T18:30:46.308Z"
   },
   {
    "duration": 82,
    "start_time": "2021-12-20T18:33:00.314Z"
   },
   {
    "duration": 652,
    "start_time": "2021-12-20T18:33:01.546Z"
   },
   {
    "duration": 602,
    "start_time": "2021-12-20T18:34:13.944Z"
   },
   {
    "duration": 631,
    "start_time": "2021-12-20T18:34:40.161Z"
   },
   {
    "duration": 323,
    "start_time": "2021-12-20T18:35:54.666Z"
   },
   {
    "duration": 379,
    "start_time": "2021-12-20T18:43:37.894Z"
   },
   {
    "duration": 323,
    "start_time": "2021-12-20T18:43:50.280Z"
   },
   {
    "duration": 1607,
    "start_time": "2021-12-21T23:08:01.762Z"
   },
   {
    "duration": 937,
    "start_time": "2021-12-21T23:08:03.372Z"
   },
   {
    "duration": 562,
    "start_time": "2021-12-21T23:08:04.312Z"
   },
   {
    "duration": 18,
    "start_time": "2021-12-21T23:08:04.876Z"
   },
   {
    "duration": 10,
    "start_time": "2021-12-21T23:08:04.897Z"
   },
   {
    "duration": 453,
    "start_time": "2021-12-21T23:08:04.910Z"
   },
   {
    "duration": 100,
    "start_time": "2021-12-21T23:08:05.366Z"
   },
   {
    "duration": 326,
    "start_time": "2021-12-21T23:08:05.470Z"
   },
   {
    "duration": 112,
    "start_time": "2021-12-21T23:08:05.799Z"
   },
   {
    "duration": 2413,
    "start_time": "2021-12-21T23:08:05.914Z"
   },
   {
    "duration": 1453,
    "start_time": "2021-12-21T23:08:08.330Z"
   },
   {
    "duration": 2220,
    "start_time": "2021-12-21T23:08:09.786Z"
   },
   {
    "duration": 27,
    "start_time": "2021-12-21T23:08:12.009Z"
   },
   {
    "duration": 25,
    "start_time": "2021-12-21T23:08:12.038Z"
   },
   {
    "duration": 230,
    "start_time": "2021-12-21T23:08:12.065Z"
   },
   {
    "duration": 67040,
    "start_time": "2021-12-21T23:08:12.297Z"
   },
   {
    "duration": 95639,
    "start_time": "2021-12-21T23:09:19.339Z"
   },
   {
    "duration": -3885,
    "start_time": "2021-12-21T23:10:58.865Z"
   },
   {
    "duration": -3890,
    "start_time": "2021-12-21T23:10:58.872Z"
   },
   {
    "duration": -3894,
    "start_time": "2021-12-21T23:10:58.877Z"
   },
   {
    "duration": 94,
    "start_time": "2021-12-21T23:11:02.601Z"
   },
   {
    "duration": 127,
    "start_time": "2021-12-21T23:11:12.687Z"
   },
   {
    "duration": 706,
    "start_time": "2021-12-21T23:14:38.574Z"
   },
   {
    "duration": 301,
    "start_time": "2021-12-21T23:15:08.850Z"
   },
   {
    "duration": 289,
    "start_time": "2021-12-21T23:15:32.411Z"
   },
   {
    "duration": 920,
    "start_time": "2021-12-21T23:16:22.378Z"
   },
   {
    "duration": 518,
    "start_time": "2021-12-21T23:16:25.761Z"
   },
   {
    "duration": 11,
    "start_time": "2021-12-21T23:16:35.399Z"
   },
   {
    "duration": 27,
    "start_time": "2021-12-21T23:16:36.514Z"
   },
   {
    "duration": 404,
    "start_time": "2021-12-21T23:16:40.662Z"
   },
   {
    "duration": 79,
    "start_time": "2021-12-21T23:17:13.047Z"
   },
   {
    "duration": 84,
    "start_time": "2021-12-21T23:17:31.964Z"
   },
   {
    "duration": 90,
    "start_time": "2021-12-21T23:17:45.591Z"
   },
   {
    "duration": 132,
    "start_time": "2021-12-21T23:18:02.491Z"
   },
   {
    "duration": 84,
    "start_time": "2021-12-21T23:18:34.977Z"
   },
   {
    "duration": 89,
    "start_time": "2021-12-21T23:19:15.417Z"
   },
   {
    "duration": 320,
    "start_time": "2021-12-21T23:19:21.576Z"
   },
   {
    "duration": 6,
    "start_time": "2021-12-21T23:19:33.884Z"
   },
   {
    "duration": 894,
    "start_time": "2021-12-21T23:19:35.323Z"
   },
   {
    "duration": 536,
    "start_time": "2021-12-21T23:19:36.326Z"
   },
   {
    "duration": 13,
    "start_time": "2021-12-21T23:19:38.952Z"
   },
   {
    "duration": 12,
    "start_time": "2021-12-21T23:19:40.003Z"
   },
   {
    "duration": 389,
    "start_time": "2021-12-21T23:19:43.791Z"
   },
   {
    "duration": 93,
    "start_time": "2021-12-21T23:19:46.629Z"
   },
   {
    "duration": 512,
    "start_time": "2021-12-21T23:20:28.815Z"
   },
   {
    "duration": 5,
    "start_time": "2021-12-21T23:20:35.163Z"
   },
   {
    "duration": 911,
    "start_time": "2021-12-21T23:20:36.006Z"
   },
   {
    "duration": 547,
    "start_time": "2021-12-21T23:20:36.920Z"
   },
   {
    "duration": 13,
    "start_time": "2021-12-21T23:20:39.359Z"
   },
   {
    "duration": 12,
    "start_time": "2021-12-21T23:20:41.014Z"
   },
   {
    "duration": 718,
    "start_time": "2021-12-21T23:20:43.477Z"
   },
   {
    "duration": 151,
    "start_time": "2021-12-21T23:20:46.116Z"
   },
   {
    "duration": 302,
    "start_time": "2021-12-21T23:22:50.779Z"
   },
   {
    "duration": 288,
    "start_time": "2021-12-21T23:24:01.316Z"
   },
   {
    "duration": 8,
    "start_time": "2021-12-21T23:24:09.524Z"
   },
   {
    "duration": 873,
    "start_time": "2021-12-21T23:24:09.536Z"
   },
   {
    "duration": 542,
    "start_time": "2021-12-21T23:24:10.412Z"
   },
   {
    "duration": 12,
    "start_time": "2021-12-21T23:24:10.963Z"
   },
   {
    "duration": 13,
    "start_time": "2021-12-21T23:24:10.977Z"
   },
   {
    "duration": 430,
    "start_time": "2021-12-21T23:24:10.992Z"
   },
   {
    "duration": 254,
    "start_time": "2021-12-21T23:24:11.425Z"
   },
   {
    "duration": 603,
    "start_time": "2021-12-21T23:24:11.682Z"
   },
   {
    "duration": 1581,
    "start_time": "2021-12-22T01:44:35.820Z"
   },
   {
    "duration": 894,
    "start_time": "2021-12-22T01:44:37.404Z"
   },
   {
    "duration": 543,
    "start_time": "2021-12-22T01:44:38.301Z"
   },
   {
    "duration": 26,
    "start_time": "2021-12-22T01:44:38.847Z"
   },
   {
    "duration": 10,
    "start_time": "2021-12-22T01:44:38.875Z"
   },
   {
    "duration": 413,
    "start_time": "2021-12-22T01:44:38.887Z"
   },
   {
    "duration": 104,
    "start_time": "2021-12-22T01:44:39.302Z"
   },
   {
    "duration": 7,
    "start_time": "2021-12-22T01:46:31.953Z"
   },
   {
    "duration": 961,
    "start_time": "2021-12-22T01:46:31.962Z"
   },
   {
    "duration": 532,
    "start_time": "2021-12-22T01:46:32.927Z"
   },
   {
    "duration": 12,
    "start_time": "2021-12-22T01:46:33.462Z"
   },
   {
    "duration": 14,
    "start_time": "2021-12-22T01:46:33.477Z"
   },
   {
    "duration": 427,
    "start_time": "2021-12-22T01:46:33.493Z"
   },
   {
    "duration": 108,
    "start_time": "2021-12-22T01:46:33.923Z"
   },
   {
    "duration": 5,
    "start_time": "2021-12-22T01:48:51.934Z"
   },
   {
    "duration": 870,
    "start_time": "2021-12-22T01:48:51.942Z"
   },
   {
    "duration": 511,
    "start_time": "2021-12-22T01:48:52.815Z"
   },
   {
    "duration": 12,
    "start_time": "2021-12-22T01:48:53.329Z"
   },
   {
    "duration": 7,
    "start_time": "2021-12-22T01:48:53.359Z"
   },
   {
    "duration": 400,
    "start_time": "2021-12-22T01:48:53.371Z"
   },
   {
    "duration": 104,
    "start_time": "2021-12-22T01:48:53.773Z"
   },
   {
    "duration": 301,
    "start_time": "2021-12-22T01:48:53.879Z"
   },
   {
    "duration": 103,
    "start_time": "2021-12-22T01:48:54.184Z"
   },
   {
    "duration": 1898,
    "start_time": "2021-12-22T01:48:54.289Z"
   },
   {
    "duration": 1417,
    "start_time": "2021-12-22T01:48:56.190Z"
   },
   {
    "duration": 2610,
    "start_time": "2021-12-22T01:48:57.609Z"
   },
   {
    "duration": 42,
    "start_time": "2021-12-22T01:49:00.221Z"
   },
   {
    "duration": 4,
    "start_time": "2021-12-22T01:49:00.266Z"
   },
   {
    "duration": 61,
    "start_time": "2021-12-22T01:49:00.272Z"
   },
   {
    "duration": 63873,
    "start_time": "2021-12-22T01:49:00.360Z"
   },
   {
    "duration": 119,
    "start_time": "2021-12-22T01:50:17.192Z"
   },
   {
    "duration": 437126,
    "start_time": "2021-12-22T01:50:24.709Z"
   },
   {
    "duration": 15721,
    "start_time": "2021-12-22T02:03:42.547Z"
   },
   {
    "duration": 6,
    "start_time": "2021-12-22T02:04:01.991Z"
   },
   {
    "duration": 871,
    "start_time": "2021-12-22T02:04:02.004Z"
   },
   {
    "duration": 523,
    "start_time": "2021-12-22T02:04:02.878Z"
   },
   {
    "duration": 13,
    "start_time": "2021-12-22T02:04:03.406Z"
   },
   {
    "duration": 40,
    "start_time": "2021-12-22T02:04:03.423Z"
   },
   {
    "duration": 400,
    "start_time": "2021-12-22T02:04:03.466Z"
   },
   {
    "duration": 112,
    "start_time": "2021-12-22T02:04:03.868Z"
   },
   {
    "duration": 324,
    "start_time": "2021-12-22T02:04:03.983Z"
   },
   {
    "duration": 117,
    "start_time": "2021-12-22T02:04:04.310Z"
   },
   {
    "duration": 1814,
    "start_time": "2021-12-22T02:04:04.431Z"
   },
   {
    "duration": 1555,
    "start_time": "2021-12-22T02:04:06.247Z"
   },
   {
    "duration": 2232,
    "start_time": "2021-12-22T02:04:07.804Z"
   },
   {
    "duration": 32,
    "start_time": "2021-12-22T02:04:10.039Z"
   },
   {
    "duration": 5,
    "start_time": "2021-12-22T02:04:10.073Z"
   },
   {
    "duration": 131725,
    "start_time": "2021-12-22T02:04:29.060Z"
   },
   {
    "duration": 61,
    "start_time": "2021-12-22T02:08:16.134Z"
   },
   {
    "duration": 8,
    "start_time": "2021-12-22T02:10:04.125Z"
   },
   {
    "duration": 925,
    "start_time": "2021-12-22T02:10:04.135Z"
   },
   {
    "duration": 525,
    "start_time": "2021-12-22T02:10:05.063Z"
   },
   {
    "duration": 12,
    "start_time": "2021-12-22T02:10:05.591Z"
   },
   {
    "duration": 12,
    "start_time": "2021-12-22T02:10:05.606Z"
   },
   {
    "duration": 422,
    "start_time": "2021-12-22T02:10:05.621Z"
   },
   {
    "duration": 110,
    "start_time": "2021-12-22T02:10:06.060Z"
   },
   {
    "duration": 337,
    "start_time": "2021-12-22T02:10:06.175Z"
   },
   {
    "duration": 144,
    "start_time": "2021-12-22T02:10:06.516Z"
   },
   {
    "duration": 2745,
    "start_time": "2021-12-22T02:10:06.663Z"
   },
   {
    "duration": 1454,
    "start_time": "2021-12-22T02:10:09.411Z"
   },
   {
    "duration": 2569,
    "start_time": "2021-12-22T02:10:10.868Z"
   },
   {
    "duration": 46,
    "start_time": "2021-12-22T02:10:13.440Z"
   },
   {
    "duration": 5,
    "start_time": "2021-12-22T02:10:13.489Z"
   },
   {
    "duration": 80,
    "start_time": "2021-12-22T02:10:13.497Z"
   },
   {
    "duration": 26144,
    "start_time": "2021-12-22T02:10:13.581Z"
   },
   {
    "duration": 47226,
    "start_time": "2021-12-22T02:10:43.386Z"
   },
   {
    "duration": 314,
    "start_time": "2021-12-22T02:12:17.246Z"
   },
   {
    "duration": 18317,
    "start_time": "2021-12-22T02:12:26.102Z"
   },
   {
    "duration": 131241,
    "start_time": "2021-12-22T02:13:05.447Z"
   },
   {
    "duration": 369,
    "start_time": "2021-12-22T02:15:33.798Z"
   },
   {
    "duration": 6,
    "start_time": "2021-12-22T02:16:24.200Z"
   },
   {
    "duration": 949,
    "start_time": "2021-12-22T02:16:24.227Z"
   },
   {
    "duration": 538,
    "start_time": "2021-12-22T02:16:25.179Z"
   },
   {
    "duration": 11,
    "start_time": "2021-12-22T02:16:25.719Z"
   },
   {
    "duration": 35,
    "start_time": "2021-12-22T02:16:25.733Z"
   },
   {
    "duration": 411,
    "start_time": "2021-12-22T02:16:25.771Z"
   },
   {
    "duration": 108,
    "start_time": "2021-12-22T02:16:26.185Z"
   },
   {
    "duration": 884,
    "start_time": "2021-12-22T02:16:26.296Z"
   },
   {
    "duration": 274,
    "start_time": "2021-12-22T02:16:27.185Z"
   },
   {
    "duration": 1857,
    "start_time": "2021-12-22T02:16:27.464Z"
   },
   {
    "duration": 1597,
    "start_time": "2021-12-22T02:16:29.324Z"
   },
   {
    "duration": 2165,
    "start_time": "2021-12-22T02:16:30.924Z"
   },
   {
    "duration": 33,
    "start_time": "2021-12-22T02:16:33.092Z"
   },
   {
    "duration": 32,
    "start_time": "2021-12-22T02:16:33.127Z"
   },
   {
    "duration": 41,
    "start_time": "2021-12-22T02:16:33.163Z"
   },
   {
    "duration": 33200,
    "start_time": "2021-12-22T02:16:33.207Z"
   },
   {
    "duration": 21,
    "start_time": "2021-12-22T02:17:06.410Z"
   },
   {
    "duration": 235,
    "start_time": "2021-12-22T02:17:06.434Z"
   },
   {
    "duration": 130741,
    "start_time": "2021-12-22T02:17:06.761Z"
   },
   {
    "duration": 18,
    "start_time": "2021-12-22T02:19:17.505Z"
   },
   {
    "duration": 87370,
    "start_time": "2021-12-22T02:20:29.411Z"
   },
   {
    "duration": 15,
    "start_time": "2021-12-22T02:23:04.511Z"
   },
   {
    "duration": 921,
    "start_time": "2021-12-22T02:27:31.023Z"
   },
   {
    "duration": 955,
    "start_time": "2021-12-22T02:27:49.363Z"
   },
   {
    "duration": 381,
    "start_time": "2021-12-22T02:28:03.085Z"
   },
   {
    "duration": 105,
    "start_time": "2021-12-22T02:32:41.725Z"
   },
   {
    "duration": 789,
    "start_time": "2021-12-22T02:32:41.833Z"
   },
   {
    "duration": 534,
    "start_time": "2021-12-22T02:32:42.626Z"
   },
   {
    "duration": 12,
    "start_time": "2021-12-22T02:32:43.164Z"
   },
   {
    "duration": 13,
    "start_time": "2021-12-22T02:32:43.179Z"
   },
   {
    "duration": 405,
    "start_time": "2021-12-22T02:32:43.194Z"
   },
   {
    "duration": 106,
    "start_time": "2021-12-22T02:32:43.601Z"
   },
   {
    "duration": 391,
    "start_time": "2021-12-22T02:32:43.711Z"
   },
   {
    "duration": 136,
    "start_time": "2021-12-22T02:32:44.161Z"
   },
   {
    "duration": 2183,
    "start_time": "2021-12-22T02:32:44.299Z"
   },
   {
    "duration": 1431,
    "start_time": "2021-12-22T02:32:46.485Z"
   },
   {
    "duration": 2264,
    "start_time": "2021-12-22T02:32:47.918Z"
   },
   {
    "duration": 29,
    "start_time": "2021-12-22T02:32:50.185Z"
   },
   {
    "duration": 4,
    "start_time": "2021-12-22T02:32:50.216Z"
   },
   {
    "duration": 69,
    "start_time": "2021-12-22T02:32:50.223Z"
   },
   {
    "duration": 23879,
    "start_time": "2021-12-22T02:32:50.295Z"
   },
   {
    "duration": 463,
    "start_time": "2021-12-22T02:33:14.177Z"
   },
   {
    "duration": -540,
    "start_time": "2021-12-22T02:33:15.183Z"
   },
   {
    "duration": -542,
    "start_time": "2021-12-22T02:33:15.186Z"
   },
   {
    "duration": -545,
    "start_time": "2021-12-22T02:33:15.190Z"
   },
   {
    "duration": -547,
    "start_time": "2021-12-22T02:33:15.194Z"
   },
   {
    "duration": -548,
    "start_time": "2021-12-22T02:33:15.196Z"
   },
   {
    "duration": -553,
    "start_time": "2021-12-22T02:33:15.202Z"
   },
   {
    "duration": 6,
    "start_time": "2021-12-22T02:34:33.086Z"
   },
   {
    "duration": 833,
    "start_time": "2021-12-22T02:34:33.095Z"
   },
   {
    "duration": 536,
    "start_time": "2021-12-22T02:34:33.932Z"
   },
   {
    "duration": 13,
    "start_time": "2021-12-22T02:34:34.472Z"
   },
   {
    "duration": 12,
    "start_time": "2021-12-22T02:34:34.488Z"
   },
   {
    "duration": 688,
    "start_time": "2021-12-22T02:34:34.502Z"
   },
   {
    "duration": 196,
    "start_time": "2021-12-22T02:34:35.192Z"
   },
   {
    "duration": 340,
    "start_time": "2021-12-22T02:34:35.392Z"
   },
   {
    "duration": 96,
    "start_time": "2021-12-22T02:34:35.735Z"
   },
   {
    "duration": 1810,
    "start_time": "2021-12-22T02:34:35.859Z"
   },
   {
    "duration": 1552,
    "start_time": "2021-12-22T02:34:37.672Z"
   },
   {
    "duration": 2154,
    "start_time": "2021-12-22T02:34:39.226Z"
   },
   {
    "duration": 27,
    "start_time": "2021-12-22T02:34:41.382Z"
   },
   {
    "duration": 4,
    "start_time": "2021-12-22T02:34:41.411Z"
   },
   {
    "duration": 64,
    "start_time": "2021-12-22T02:34:41.417Z"
   },
   {
    "duration": 17147,
    "start_time": "2021-12-22T02:34:41.484Z"
   },
   {
    "duration": 88094,
    "start_time": "2021-12-22T02:34:58.634Z"
   },
   {
    "duration": -574,
    "start_time": "2021-12-22T02:36:27.305Z"
   },
   {
    "duration": -576,
    "start_time": "2021-12-22T02:36:27.309Z"
   },
   {
    "duration": -580,
    "start_time": "2021-12-22T02:36:27.314Z"
   },
   {
    "duration": -584,
    "start_time": "2021-12-22T02:36:27.320Z"
   },
   {
    "duration": -586,
    "start_time": "2021-12-22T02:36:27.323Z"
   },
   {
    "duration": -588,
    "start_time": "2021-12-22T02:36:27.326Z"
   },
   {
    "duration": 1544,
    "start_time": "2021-12-22T08:47:13.063Z"
   },
   {
    "duration": 842,
    "start_time": "2021-12-22T08:47:14.609Z"
   },
   {
    "duration": 365,
    "start_time": "2021-12-22T08:47:15.453Z"
   },
   {
    "duration": 15,
    "start_time": "2021-12-22T08:47:16.094Z"
   },
   {
    "duration": 9,
    "start_time": "2021-12-22T08:47:18.166Z"
   },
   {
    "duration": 316,
    "start_time": "2021-12-22T08:47:19.026Z"
   },
   {
    "duration": 65,
    "start_time": "2021-12-22T08:47:19.377Z"
   },
   {
    "duration": 239,
    "start_time": "2021-12-22T08:47:19.738Z"
   },
   {
    "duration": 60,
    "start_time": "2021-12-22T08:47:21.923Z"
   },
   {
    "duration": 1376,
    "start_time": "2021-12-22T08:47:22.780Z"
   },
   {
    "duration": 1012,
    "start_time": "2021-12-22T08:47:24.159Z"
   },
   {
    "duration": 1459,
    "start_time": "2021-12-22T08:47:25.174Z"
   },
   {
    "duration": 24,
    "start_time": "2021-12-22T08:47:26.635Z"
   },
   {
    "duration": 3,
    "start_time": "2021-12-22T08:47:26.662Z"
   },
   {
    "duration": 354,
    "start_time": "2021-12-22T08:47:27.334Z"
   },
   {
    "duration": 344,
    "start_time": "2021-12-22T08:47:28.236Z"
   },
   {
    "duration": 292,
    "start_time": "2021-12-22T08:48:36.849Z"
   },
   {
    "duration": 7189,
    "start_time": "2021-12-22T08:55:52.702Z"
   },
   {
    "duration": 805,
    "start_time": "2021-12-22T08:56:16.054Z"
   },
   {
    "duration": 6,
    "start_time": "2021-12-22T08:56:20.517Z"
   },
   {
    "duration": 451,
    "start_time": "2021-12-22T08:56:55.050Z"
   },
   {
    "duration": 439,
    "start_time": "2021-12-22T08:57:11.180Z"
   },
   {
    "duration": 6,
    "start_time": "2021-12-22T08:57:34.950Z"
   },
   {
    "duration": 500,
    "start_time": "2021-12-22T08:57:44.445Z"
   },
   {
    "duration": 17556,
    "start_time": "2021-12-22T08:57:53.630Z"
   },
   {
    "duration": 1176,
    "start_time": "2021-12-22T10:32:48.671Z"
   },
   {
    "duration": 736,
    "start_time": "2021-12-22T10:32:49.849Z"
   },
   {
    "duration": 464,
    "start_time": "2021-12-22T10:32:50.587Z"
   },
   {
    "duration": 14,
    "start_time": "2021-12-22T10:32:51.060Z"
   },
   {
    "duration": 7,
    "start_time": "2021-12-22T10:32:51.075Z"
   },
   {
    "duration": 306,
    "start_time": "2021-12-22T10:32:51.084Z"
   },
   {
    "duration": 50,
    "start_time": "2021-12-22T10:32:51.392Z"
   },
   {
    "duration": 238,
    "start_time": "2021-12-22T10:32:51.461Z"
   },
   {
    "duration": 84,
    "start_time": "2021-12-22T10:32:51.701Z"
   },
   {
    "duration": 1177,
    "start_time": "2021-12-22T10:32:51.787Z"
   },
   {
    "duration": 1398,
    "start_time": "2021-12-22T10:32:52.966Z"
   },
   {
    "duration": 1254,
    "start_time": "2021-12-22T10:32:54.366Z"
   },
   {
    "duration": 20,
    "start_time": "2021-12-22T10:32:55.621Z"
   },
   {
    "duration": 21,
    "start_time": "2021-12-22T10:32:55.642Z"
   },
   {
    "duration": 351,
    "start_time": "2021-12-22T10:32:55.665Z"
   },
   {
    "duration": -681,
    "start_time": "2021-12-22T10:32:56.699Z"
   },
   {
    "duration": 4,
    "start_time": "2021-12-22T10:33:49.645Z"
   },
   {
    "duration": 919,
    "start_time": "2021-12-22T10:33:49.651Z"
   },
   {
    "duration": 459,
    "start_time": "2021-12-22T10:33:50.572Z"
   },
   {
    "duration": 8,
    "start_time": "2021-12-22T10:33:51.033Z"
   },
   {
    "duration": 39,
    "start_time": "2021-12-22T10:33:51.043Z"
   },
   {
    "duration": 280,
    "start_time": "2021-12-22T10:33:51.084Z"
   },
   {
    "duration": 45,
    "start_time": "2021-12-22T10:33:51.365Z"
   },
   {
    "duration": 254,
    "start_time": "2021-12-22T10:33:51.411Z"
   },
   {
    "duration": 103,
    "start_time": "2021-12-22T10:33:51.668Z"
   },
   {
    "duration": 1251,
    "start_time": "2021-12-22T10:33:51.774Z"
   },
   {
    "duration": 836,
    "start_time": "2021-12-22T10:33:53.027Z"
   },
   {
    "duration": 1938,
    "start_time": "2021-12-22T10:33:53.865Z"
   },
   {
    "duration": 22,
    "start_time": "2021-12-22T10:33:55.805Z"
   },
   {
    "duration": 6,
    "start_time": "2021-12-22T10:33:55.829Z"
   },
   {
    "duration": 307,
    "start_time": "2021-12-22T10:33:55.862Z"
   },
   {
    "duration": -659,
    "start_time": "2021-12-22T10:33:56.830Z"
   },
   {
    "duration": 4,
    "start_time": "2021-12-22T10:34:24.305Z"
   },
   {
    "duration": 703,
    "start_time": "2021-12-22T10:34:24.311Z"
   },
   {
    "duration": 439,
    "start_time": "2021-12-22T10:34:25.017Z"
   },
   {
    "duration": 8,
    "start_time": "2021-12-22T10:34:25.461Z"
   },
   {
    "duration": 15,
    "start_time": "2021-12-22T10:34:25.470Z"
   },
   {
    "duration": 293,
    "start_time": "2021-12-22T10:34:25.486Z"
   },
   {
    "duration": 46,
    "start_time": "2021-12-22T10:34:25.781Z"
   },
   {
    "duration": 242,
    "start_time": "2021-12-22T10:34:25.829Z"
   },
   {
    "duration": 58,
    "start_time": "2021-12-22T10:34:26.074Z"
   },
   {
    "duration": 1107,
    "start_time": "2021-12-22T10:34:26.134Z"
   },
   {
    "duration": 997,
    "start_time": "2021-12-22T10:34:27.243Z"
   },
   {
    "duration": 1328,
    "start_time": "2021-12-22T10:34:28.242Z"
   },
   {
    "duration": 20,
    "start_time": "2021-12-22T10:34:29.572Z"
   },
   {
    "duration": 5,
    "start_time": "2021-12-22T10:34:29.593Z"
   },
   {
    "duration": 17,
    "start_time": "2021-12-22T10:34:29.600Z"
   },
   {
    "duration": 114,
    "start_time": "2021-12-22T10:34:29.618Z"
   },
   {
    "duration": 4,
    "start_time": "2021-12-22T10:34:43.780Z"
   },
   {
    "duration": 705,
    "start_time": "2021-12-22T10:34:43.786Z"
   },
   {
    "duration": 592,
    "start_time": "2021-12-22T10:34:44.493Z"
   },
   {
    "duration": 9,
    "start_time": "2021-12-22T10:34:45.087Z"
   },
   {
    "duration": 9,
    "start_time": "2021-12-22T10:34:45.097Z"
   },
   {
    "duration": 304,
    "start_time": "2021-12-22T10:34:45.107Z"
   },
   {
    "duration": 54,
    "start_time": "2021-12-22T10:34:45.413Z"
   },
   {
    "duration": 236,
    "start_time": "2021-12-22T10:34:45.469Z"
   },
   {
    "duration": 77,
    "start_time": "2021-12-22T10:34:45.707Z"
   },
   {
    "duration": 1075,
    "start_time": "2021-12-22T10:34:45.786Z"
   },
   {
    "duration": 827,
    "start_time": "2021-12-22T10:34:46.862Z"
   },
   {
    "duration": 1447,
    "start_time": "2021-12-22T10:34:47.690Z"
   },
   {
    "duration": 31,
    "start_time": "2021-12-22T10:34:49.139Z"
   },
   {
    "duration": 6,
    "start_time": "2021-12-22T10:34:49.172Z"
   },
   {
    "duration": 24,
    "start_time": "2021-12-22T10:34:49.180Z"
   },
   {
    "duration": 332,
    "start_time": "2021-12-22T10:34:49.206Z"
   },
   {
    "duration": 4,
    "start_time": "2021-12-22T10:36:06.136Z"
   },
   {
    "duration": 684,
    "start_time": "2021-12-22T10:36:06.142Z"
   },
   {
    "duration": 302,
    "start_time": "2021-12-22T10:36:06.828Z"
   },
   {
    "duration": -743,
    "start_time": "2021-12-22T10:36:07.876Z"
   },
   {
    "duration": -752,
    "start_time": "2021-12-22T10:36:07.886Z"
   },
   {
    "duration": -758,
    "start_time": "2021-12-22T10:36:07.892Z"
   },
   {
    "duration": -765,
    "start_time": "2021-12-22T10:36:07.900Z"
   },
   {
    "duration": -768,
    "start_time": "2021-12-22T10:36:07.904Z"
   },
   {
    "duration": -772,
    "start_time": "2021-12-22T10:36:07.909Z"
   },
   {
    "duration": -779,
    "start_time": "2021-12-22T10:36:07.917Z"
   },
   {
    "duration": -784,
    "start_time": "2021-12-22T10:36:07.923Z"
   },
   {
    "duration": -788,
    "start_time": "2021-12-22T10:36:07.928Z"
   },
   {
    "duration": -793,
    "start_time": "2021-12-22T10:36:07.934Z"
   },
   {
    "duration": -797,
    "start_time": "2021-12-22T10:36:07.939Z"
   },
   {
    "duration": -801,
    "start_time": "2021-12-22T10:36:07.944Z"
   },
   {
    "duration": -811,
    "start_time": "2021-12-22T10:36:07.955Z"
   },
   {
    "duration": 5,
    "start_time": "2021-12-22T10:36:35.939Z"
   },
   {
    "duration": 713,
    "start_time": "2021-12-22T10:36:35.947Z"
   },
   {
    "duration": 322,
    "start_time": "2021-12-22T10:36:36.663Z"
   },
   {
    "duration": 9,
    "start_time": "2021-12-22T10:36:36.987Z"
   },
   {
    "duration": 25,
    "start_time": "2021-12-22T10:36:36.997Z"
   },
   {
    "duration": 298,
    "start_time": "2021-12-22T10:36:37.025Z"
   },
   {
    "duration": 56,
    "start_time": "2021-12-22T10:36:37.325Z"
   },
   {
    "duration": 228,
    "start_time": "2021-12-22T10:36:37.383Z"
   },
   {
    "duration": 79,
    "start_time": "2021-12-22T10:36:37.612Z"
   },
   {
    "duration": 1069,
    "start_time": "2021-12-22T10:36:37.693Z"
   },
   {
    "duration": 1008,
    "start_time": "2021-12-22T10:36:38.764Z"
   },
   {
    "duration": 1392,
    "start_time": "2021-12-22T10:36:39.774Z"
   },
   {
    "duration": 20,
    "start_time": "2021-12-22T10:36:41.168Z"
   },
   {
    "duration": 5,
    "start_time": "2021-12-22T10:36:41.190Z"
   },
   {
    "duration": 17,
    "start_time": "2021-12-22T10:36:41.197Z"
   },
   {
    "duration": 266213,
    "start_time": "2021-12-22T10:36:41.216Z"
   },
   {
    "duration": 5,
    "start_time": "2021-12-22T10:48:03.198Z"
   },
   {
    "duration": 736,
    "start_time": "2021-12-22T10:48:03.205Z"
   },
   {
    "duration": 316,
    "start_time": "2021-12-22T10:48:03.943Z"
   },
   {
    "duration": 9,
    "start_time": "2021-12-22T10:48:04.262Z"
   },
   {
    "duration": 6,
    "start_time": "2021-12-22T10:48:04.273Z"
   },
   {
    "duration": 324,
    "start_time": "2021-12-22T10:48:04.281Z"
   },
   {
    "duration": 57,
    "start_time": "2021-12-22T10:48:04.607Z"
   },
   {
    "duration": 416,
    "start_time": "2021-12-22T10:48:04.666Z"
   },
   {
    "duration": 102,
    "start_time": "2021-12-22T10:48:05.086Z"
   },
   {
    "duration": 2099,
    "start_time": "2021-12-22T10:48:05.191Z"
   },
   {
    "duration": 1411,
    "start_time": "2021-12-22T10:48:07.293Z"
   },
   {
    "duration": 1496,
    "start_time": "2021-12-22T10:48:08.706Z"
   },
   {
    "duration": 21,
    "start_time": "2021-12-22T10:48:10.204Z"
   },
   {
    "duration": 5,
    "start_time": "2021-12-22T10:48:10.227Z"
   },
   {
    "duration": 39,
    "start_time": "2021-12-22T10:48:10.234Z"
   },
   {
    "duration": 15112,
    "start_time": "2021-12-22T10:48:10.275Z"
   },
   {
    "duration": 341,
    "start_time": "2021-12-22T10:52:23.152Z"
   },
   {
    "duration": 4,
    "start_time": "2021-12-22T10:52:48.520Z"
   },
   {
    "duration": 14,
    "start_time": "2021-12-22T10:52:49.992Z"
   },
   {
    "duration": 364,
    "start_time": "2021-12-22T10:52:55.057Z"
   },
   {
    "duration": 26964,
    "start_time": "2021-12-22T10:53:26.365Z"
   },
   {
    "duration": 355,
    "start_time": "2021-12-22T10:54:45.846Z"
   },
   {
    "duration": -813,
    "start_time": "2021-12-22T10:57:52.090Z"
   },
   {
    "duration": 4,
    "start_time": "2021-12-22T10:59:58.252Z"
   },
   {
    "duration": 718,
    "start_time": "2021-12-22T10:59:58.293Z"
   },
   {
    "duration": 466,
    "start_time": "2021-12-22T10:59:59.014Z"
   },
   {
    "duration": 11,
    "start_time": "2021-12-22T10:59:59.482Z"
   },
   {
    "duration": 18,
    "start_time": "2021-12-22T10:59:59.495Z"
   },
   {
    "duration": 332,
    "start_time": "2021-12-22T10:59:59.521Z"
   },
   {
    "duration": 49,
    "start_time": "2021-12-22T10:59:59.855Z"
   },
   {
    "duration": 242,
    "start_time": "2021-12-22T10:59:59.906Z"
   },
   {
    "duration": 77,
    "start_time": "2021-12-22T11:00:00.150Z"
   },
   {
    "duration": 1294,
    "start_time": "2021-12-22T11:00:00.230Z"
   },
   {
    "duration": 894,
    "start_time": "2021-12-22T11:00:01.527Z"
   },
   {
    "duration": 1488,
    "start_time": "2021-12-22T11:00:02.423Z"
   },
   {
    "duration": 18,
    "start_time": "2021-12-22T11:00:03.913Z"
   },
   {
    "duration": 4,
    "start_time": "2021-12-22T11:00:03.933Z"
   },
   {
    "duration": 33,
    "start_time": "2021-12-22T11:00:03.939Z"
   },
   {
    "duration": 27502,
    "start_time": "2021-12-22T11:00:03.974Z"
   },
   {
    "duration": -646,
    "start_time": "2021-12-22T11:00:32.124Z"
   },
   {
    "duration": -649,
    "start_time": "2021-12-22T11:00:32.128Z"
   },
   {
    "duration": -653,
    "start_time": "2021-12-22T11:00:32.133Z"
   },
   {
    "duration": -656,
    "start_time": "2021-12-22T11:00:32.137Z"
   },
   {
    "duration": -658,
    "start_time": "2021-12-22T11:00:32.140Z"
   },
   {
    "duration": 64115,
    "start_time": "2021-12-22T11:01:00.689Z"
   },
   {
    "duration": -628,
    "start_time": "2021-12-22T11:02:05.434Z"
   },
   {
    "duration": 19006,
    "start_time": "2021-12-22T11:02:07.565Z"
   },
   {
    "duration": 781,
    "start_time": "2021-12-22T11:02:51.426Z"
   },
   {
    "duration": 5,
    "start_time": "2021-12-22T11:02:52.211Z"
   },
   {
    "duration": 15845,
    "start_time": "2021-12-22T11:02:52.978Z"
   },
   {
    "duration": 713,
    "start_time": "2021-12-22T11:03:44.496Z"
   },
   {
    "duration": 5,
    "start_time": "2021-12-22T11:03:47.243Z"
   },
   {
    "duration": 16195,
    "start_time": "2021-12-22T11:03:49.660Z"
   },
   {
    "duration": 709,
    "start_time": "2021-12-22T11:05:24.190Z"
   },
   {
    "duration": 6,
    "start_time": "2021-12-22T11:05:31.736Z"
   },
   {
    "duration": 16541,
    "start_time": "2021-12-22T11:05:36.934Z"
   },
   {
    "duration": 133,
    "start_time": "2021-12-22T11:07:10.026Z"
   },
   {
    "duration": 4,
    "start_time": "2021-12-22T11:08:17.501Z"
   },
   {
    "duration": 714,
    "start_time": "2021-12-22T11:08:17.507Z"
   },
   {
    "duration": 315,
    "start_time": "2021-12-22T11:08:18.223Z"
   },
   {
    "duration": 21,
    "start_time": "2021-12-22T11:08:18.540Z"
   },
   {
    "duration": 7,
    "start_time": "2021-12-22T11:08:18.562Z"
   },
   {
    "duration": 316,
    "start_time": "2021-12-22T11:08:18.571Z"
   },
   {
    "duration": 49,
    "start_time": "2021-12-22T11:08:18.890Z"
   },
   {
    "duration": 241,
    "start_time": "2021-12-22T11:08:18.941Z"
   },
   {
    "duration": 84,
    "start_time": "2021-12-22T11:08:19.184Z"
   },
   {
    "duration": 1247,
    "start_time": "2021-12-22T11:08:19.269Z"
   },
   {
    "duration": 1421,
    "start_time": "2021-12-22T11:08:20.518Z"
   },
   {
    "duration": 1672,
    "start_time": "2021-12-22T11:08:21.942Z"
   },
   {
    "duration": 21,
    "start_time": "2021-12-22T11:08:23.615Z"
   },
   {
    "duration": 25,
    "start_time": "2021-12-22T11:08:23.638Z"
   },
   {
    "duration": 255745,
    "start_time": "2021-12-22T11:08:23.665Z"
   },
   {
    "duration": -584,
    "start_time": "2021-12-22T11:12:39.997Z"
   },
   {
    "duration": -590,
    "start_time": "2021-12-22T11:12:40.004Z"
   },
   {
    "duration": -593,
    "start_time": "2021-12-22T11:12:40.008Z"
   },
   {
    "duration": -596,
    "start_time": "2021-12-22T11:12:40.011Z"
   },
   {
    "duration": -600,
    "start_time": "2021-12-22T11:12:40.016Z"
   },
   {
    "duration": 4,
    "start_time": "2021-12-22T11:12:45.716Z"
   },
   {
    "duration": 674,
    "start_time": "2021-12-22T11:12:45.777Z"
   },
   {
    "duration": 311,
    "start_time": "2021-12-22T11:12:46.454Z"
   },
   {
    "duration": 8,
    "start_time": "2021-12-22T11:12:46.767Z"
   },
   {
    "duration": 12,
    "start_time": "2021-12-22T11:12:46.777Z"
   },
   {
    "duration": 289,
    "start_time": "2021-12-22T11:12:46.791Z"
   },
   {
    "duration": 46,
    "start_time": "2021-12-22T11:12:47.082Z"
   },
   {
    "duration": 242,
    "start_time": "2021-12-22T11:12:47.130Z"
   },
   {
    "duration": 58,
    "start_time": "2021-12-22T11:12:47.373Z"
   },
   {
    "duration": 1076,
    "start_time": "2021-12-22T11:12:47.433Z"
   },
   {
    "duration": 974,
    "start_time": "2021-12-22T11:12:48.511Z"
   },
   {
    "duration": 1287,
    "start_time": "2021-12-22T11:12:49.487Z"
   },
   {
    "duration": 19,
    "start_time": "2021-12-22T11:12:50.776Z"
   },
   {
    "duration": 14,
    "start_time": "2021-12-22T11:12:50.797Z"
   },
   {
    "duration": 414253,
    "start_time": "2021-12-22T11:12:50.813Z"
   },
   {
    "duration": -580,
    "start_time": "2021-12-22T11:19:45.648Z"
   },
   {
    "duration": -584,
    "start_time": "2021-12-22T11:19:45.653Z"
   },
   {
    "duration": -588,
    "start_time": "2021-12-22T11:19:45.658Z"
   },
   {
    "duration": -590,
    "start_time": "2021-12-22T11:19:45.661Z"
   },
   {
    "duration": -592,
    "start_time": "2021-12-22T11:19:45.664Z"
   },
   {
    "duration": 154560,
    "start_time": "2021-12-22T11:20:24.916Z"
   },
   {
    "duration": 5,
    "start_time": "2021-12-22T11:26:54.253Z"
   },
   {
    "duration": 153358,
    "start_time": "2021-12-22T11:27:22.314Z"
   },
   {
    "duration": 66361,
    "start_time": "2021-12-22T11:37:38.538Z"
   },
   {
    "duration": 5,
    "start_time": "2021-12-22T11:38:47.601Z"
   },
   {
    "duration": 817,
    "start_time": "2021-12-22T11:38:47.608Z"
   },
   {
    "duration": 314,
    "start_time": "2021-12-22T11:38:48.427Z"
   },
   {
    "duration": 18,
    "start_time": "2021-12-22T11:38:48.743Z"
   },
   {
    "duration": 13,
    "start_time": "2021-12-22T11:38:48.763Z"
   },
   {
    "duration": 297,
    "start_time": "2021-12-22T11:38:48.777Z"
   },
   {
    "duration": 47,
    "start_time": "2021-12-22T11:38:49.076Z"
   },
   {
    "duration": 258,
    "start_time": "2021-12-22T11:38:49.126Z"
   },
   {
    "duration": 84,
    "start_time": "2021-12-22T11:38:49.387Z"
   },
   {
    "duration": 1136,
    "start_time": "2021-12-22T11:38:49.474Z"
   },
   {
    "duration": 1211,
    "start_time": "2021-12-22T11:38:50.612Z"
   },
   {
    "duration": 1298,
    "start_time": "2021-12-22T11:38:51.825Z"
   },
   {
    "duration": 36,
    "start_time": "2021-12-22T11:38:53.125Z"
   },
   {
    "duration": 4,
    "start_time": "2021-12-22T11:38:53.163Z"
   },
   {
    "duration": 278788,
    "start_time": "2021-12-22T11:38:53.169Z"
   },
   {
    "duration": -600,
    "start_time": "2021-12-22T11:43:32.559Z"
   },
   {
    "duration": -608,
    "start_time": "2021-12-22T11:43:32.569Z"
   },
   {
    "duration": -610,
    "start_time": "2021-12-22T11:43:32.572Z"
   },
   {
    "duration": -613,
    "start_time": "2021-12-22T11:43:32.576Z"
   },
   {
    "duration": -617,
    "start_time": "2021-12-22T11:43:32.582Z"
   },
   {
    "duration": 4,
    "start_time": "2021-12-22T11:43:51.226Z"
   },
   {
    "duration": 846,
    "start_time": "2021-12-22T11:43:51.232Z"
   },
   {
    "duration": 325,
    "start_time": "2021-12-22T11:43:52.080Z"
   },
   {
    "duration": 10,
    "start_time": "2021-12-22T11:43:52.407Z"
   },
   {
    "duration": 14,
    "start_time": "2021-12-22T11:43:52.418Z"
   },
   {
    "duration": 333,
    "start_time": "2021-12-22T11:43:52.434Z"
   },
   {
    "duration": 49,
    "start_time": "2021-12-22T11:43:52.769Z"
   },
   {
    "duration": 245,
    "start_time": "2021-12-22T11:43:52.820Z"
   },
   {
    "duration": 60,
    "start_time": "2021-12-22T11:43:53.067Z"
   },
   {
    "duration": 1131,
    "start_time": "2021-12-22T11:43:53.129Z"
   },
   {
    "duration": 1330,
    "start_time": "2021-12-22T11:43:54.262Z"
   },
   {
    "duration": 1484,
    "start_time": "2021-12-22T11:43:55.594Z"
   },
   {
    "duration": 20,
    "start_time": "2021-12-22T11:43:57.080Z"
   },
   {
    "duration": 5,
    "start_time": "2021-12-22T11:43:57.101Z"
   },
   {
    "duration": 361810,
    "start_time": "2021-12-22T11:43:57.108Z"
   },
   {
    "duration": -599,
    "start_time": "2021-12-22T11:49:59.519Z"
   },
   {
    "duration": -606,
    "start_time": "2021-12-22T11:49:59.527Z"
   },
   {
    "duration": -608,
    "start_time": "2021-12-22T11:49:59.530Z"
   },
   {
    "duration": -612,
    "start_time": "2021-12-22T11:49:59.535Z"
   },
   {
    "duration": -615,
    "start_time": "2021-12-22T11:49:59.540Z"
   },
   {
    "duration": 256,
    "start_time": "2021-12-22T11:55:24.777Z"
   },
   {
    "duration": 5,
    "start_time": "2021-12-22T11:56:13.806Z"
   },
   {
    "duration": 683,
    "start_time": "2021-12-22T11:56:13.814Z"
   },
   {
    "duration": 301,
    "start_time": "2021-12-22T11:56:14.499Z"
   },
   {
    "duration": 8,
    "start_time": "2021-12-22T11:56:14.802Z"
   },
   {
    "duration": 17,
    "start_time": "2021-12-22T11:56:14.811Z"
   },
   {
    "duration": 294,
    "start_time": "2021-12-22T11:56:14.830Z"
   },
   {
    "duration": 59,
    "start_time": "2021-12-22T11:56:15.127Z"
   },
   {
    "duration": 211,
    "start_time": "2021-12-22T11:56:15.189Z"
   },
   {
    "duration": 98,
    "start_time": "2021-12-22T11:56:15.401Z"
   },
   {
    "duration": 1503,
    "start_time": "2021-12-22T11:56:15.501Z"
   },
   {
    "duration": 1004,
    "start_time": "2021-12-22T11:56:17.006Z"
   },
   {
    "duration": 1231,
    "start_time": "2021-12-22T11:56:18.012Z"
   },
   {
    "duration": 28,
    "start_time": "2021-12-22T11:56:19.245Z"
   },
   {
    "duration": 4,
    "start_time": "2021-12-22T11:56:19.274Z"
   },
   {
    "duration": 254,
    "start_time": "2021-12-22T11:56:19.280Z"
   },
   {
    "duration": -496,
    "start_time": "2021-12-22T11:56:20.032Z"
   },
   {
    "duration": -501,
    "start_time": "2021-12-22T11:56:20.038Z"
   },
   {
    "duration": -504,
    "start_time": "2021-12-22T11:56:20.042Z"
   },
   {
    "duration": -507,
    "start_time": "2021-12-22T11:56:20.046Z"
   },
   {
    "duration": -509,
    "start_time": "2021-12-22T11:56:20.049Z"
   },
   {
    "duration": -512,
    "start_time": "2021-12-22T11:56:20.053Z"
   },
   {
    "duration": -514,
    "start_time": "2021-12-22T11:56:20.056Z"
   },
   {
    "duration": 289,
    "start_time": "2021-12-22T11:57:52.280Z"
   },
   {
    "duration": 11,
    "start_time": "2021-12-22T11:57:54.729Z"
   },
   {
    "duration": 5,
    "start_time": "2021-12-22T11:59:03.082Z"
   },
   {
    "duration": 802,
    "start_time": "2021-12-22T11:59:03.089Z"
   },
   {
    "duration": 313,
    "start_time": "2021-12-22T11:59:03.893Z"
   },
   {
    "duration": 8,
    "start_time": "2021-12-22T11:59:04.208Z"
   },
   {
    "duration": 7,
    "start_time": "2021-12-22T11:59:04.218Z"
   },
   {
    "duration": 78,
    "start_time": "2021-12-22T11:59:04.227Z"
   },
   {
    "duration": 1198,
    "start_time": "2021-12-22T11:59:04.307Z"
   },
   {
    "duration": 887,
    "start_time": "2021-12-22T11:59:05.506Z"
   },
   {
    "duration": 1577,
    "start_time": "2021-12-22T11:59:06.395Z"
   },
   {
    "duration": 18,
    "start_time": "2021-12-22T11:59:07.974Z"
   },
   {
    "duration": 661,
    "start_time": "2021-12-22T11:59:07.993Z"
   },
   {
    "duration": 4,
    "start_time": "2021-12-22T11:59:08.656Z"
   },
   {
    "duration": 15514,
    "start_time": "2021-12-22T11:59:08.662Z"
   },
   {
    "duration": 5,
    "start_time": "2021-12-22T12:06:07.125Z"
   },
   {
    "duration": 708,
    "start_time": "2021-12-22T12:06:07.132Z"
   },
   {
    "duration": 313,
    "start_time": "2021-12-22T12:06:07.841Z"
   },
   {
    "duration": 8,
    "start_time": "2021-12-22T12:06:08.160Z"
   },
   {
    "duration": 6,
    "start_time": "2021-12-22T12:06:08.170Z"
   },
   {
    "duration": 51,
    "start_time": "2021-12-22T12:06:08.178Z"
   },
   {
    "duration": 236,
    "start_time": "2021-12-22T12:06:08.232Z"
   },
   {
    "duration": 58,
    "start_time": "2021-12-22T12:06:08.470Z"
   },
   {
    "duration": 1208,
    "start_time": "2021-12-22T12:06:08.530Z"
   },
   {
    "duration": 1125,
    "start_time": "2021-12-22T12:06:09.740Z"
   },
   {
    "duration": 1296,
    "start_time": "2021-12-22T12:06:10.866Z"
   },
   {
    "duration": 17,
    "start_time": "2021-12-22T12:06:12.164Z"
   },
   {
    "duration": 7411,
    "start_time": "2021-12-22T12:06:12.183Z"
   },
   {
    "duration": -489,
    "start_time": "2021-12-22T12:06:20.085Z"
   },
   {
    "duration": -494,
    "start_time": "2021-12-22T12:06:20.091Z"
   },
   {
    "duration": 406,
    "start_time": "2021-12-22T12:07:41.524Z"
   },
   {
    "duration": 5,
    "start_time": "2021-12-22T12:08:20.839Z"
   },
   {
    "duration": 716,
    "start_time": "2021-12-22T12:08:20.846Z"
   },
   {
    "duration": 326,
    "start_time": "2021-12-22T12:08:21.564Z"
   },
   {
    "duration": 9,
    "start_time": "2021-12-22T12:08:21.893Z"
   },
   {
    "duration": 44,
    "start_time": "2021-12-22T12:08:21.904Z"
   },
   {
    "duration": 59,
    "start_time": "2021-12-22T12:08:21.950Z"
   },
   {
    "duration": 231,
    "start_time": "2021-12-22T12:08:22.011Z"
   },
   {
    "duration": 73,
    "start_time": "2021-12-22T12:08:22.244Z"
   },
   {
    "duration": 1334,
    "start_time": "2021-12-22T12:08:22.319Z"
   },
   {
    "duration": 823,
    "start_time": "2021-12-22T12:08:23.655Z"
   },
   {
    "duration": 1404,
    "start_time": "2021-12-22T12:08:24.480Z"
   },
   {
    "duration": 17,
    "start_time": "2021-12-22T12:08:25.886Z"
   },
   {
    "duration": 28,
    "start_time": "2021-12-22T12:08:25.905Z"
   },
   {
    "duration": 33,
    "start_time": "2021-12-22T12:08:25.935Z"
   },
   {
    "duration": 11314,
    "start_time": "2021-12-22T12:08:25.970Z"
   },
   {
    "duration": 5,
    "start_time": "2021-12-22T12:11:20.267Z"
   },
   {
    "duration": 707,
    "start_time": "2021-12-22T12:11:20.274Z"
   },
   {
    "duration": 334,
    "start_time": "2021-12-22T12:11:20.983Z"
   },
   {
    "duration": 10,
    "start_time": "2021-12-22T12:11:21.318Z"
   },
   {
    "duration": 30,
    "start_time": "2021-12-22T12:11:21.330Z"
   },
   {
    "duration": 52,
    "start_time": "2021-12-22T12:11:21.362Z"
   },
   {
    "duration": 229,
    "start_time": "2021-12-22T12:11:21.416Z"
   },
   {
    "duration": 89,
    "start_time": "2021-12-22T12:11:21.647Z"
   },
   {
    "duration": 1330,
    "start_time": "2021-12-22T12:11:21.760Z"
   },
   {
    "duration": 1238,
    "start_time": "2021-12-22T12:11:23.091Z"
   },
   {
    "duration": 1384,
    "start_time": "2021-12-22T12:11:24.331Z"
   },
   {
    "duration": 19,
    "start_time": "2021-12-22T12:11:25.717Z"
   },
   {
    "duration": 27,
    "start_time": "2021-12-22T12:11:25.737Z"
   },
   {
    "duration": 22,
    "start_time": "2021-12-22T12:11:25.766Z"
   },
   {
    "duration": 6856,
    "start_time": "2021-12-22T12:11:25.789Z"
   },
   {
    "duration": 45655,
    "start_time": "2021-12-22T12:12:35.116Z"
   },
   {
    "duration": 216,
    "start_time": "2021-12-22T12:17:32.691Z"
   },
   {
    "duration": 4,
    "start_time": "2021-12-22T12:21:33.721Z"
   },
   {
    "duration": 696,
    "start_time": "2021-12-22T12:21:33.727Z"
   },
   {
    "duration": 376,
    "start_time": "2021-12-22T12:21:34.426Z"
   },
   {
    "duration": 9,
    "start_time": "2021-12-22T12:21:34.805Z"
   },
   {
    "duration": 26,
    "start_time": "2021-12-22T12:21:34.816Z"
   },
   {
    "duration": 127,
    "start_time": "2021-12-22T12:21:34.844Z"
   },
   {
    "duration": 385,
    "start_time": "2021-12-22T12:21:34.975Z"
   },
   {
    "duration": 60,
    "start_time": "2021-12-22T12:21:35.362Z"
   },
   {
    "duration": 1161,
    "start_time": "2021-12-22T12:21:35.424Z"
   },
   {
    "duration": 1422,
    "start_time": "2021-12-22T12:21:36.587Z"
   },
   {
    "duration": 1429,
    "start_time": "2021-12-22T12:21:38.011Z"
   },
   {
    "duration": 35,
    "start_time": "2021-12-22T12:21:39.443Z"
   },
   {
    "duration": 296,
    "start_time": "2021-12-22T12:21:39.480Z"
   },
   {
    "duration": -482,
    "start_time": "2021-12-22T12:21:40.260Z"
   },
   {
    "duration": -484,
    "start_time": "2021-12-22T12:21:40.263Z"
   },
   {
    "duration": 1318,
    "start_time": "2021-12-22T12:33:42.660Z"
   },
   {
    "duration": 718,
    "start_time": "2021-12-22T12:34:46.927Z"
   },
   {
    "duration": 1222,
    "start_time": "2021-12-22T12:35:19.557Z"
   },
   {
    "duration": 1172,
    "start_time": "2021-12-22T12:35:50.447Z"
   },
   {
    "duration": 1219,
    "start_time": "2021-12-22T12:36:18.901Z"
   },
   {
    "duration": 1196,
    "start_time": "2021-12-22T12:36:40.434Z"
   },
   {
    "duration": 718,
    "start_time": "2021-12-22T12:37:47.928Z"
   },
   {
    "duration": 1293,
    "start_time": "2021-12-22T12:38:35.992Z"
   },
   {
    "duration": 1289,
    "start_time": "2021-12-22T12:39:59.373Z"
   },
   {
    "duration": 1244,
    "start_time": "2021-12-22T12:40:57.221Z"
   },
   {
    "duration": 747,
    "start_time": "2021-12-22T12:41:39.880Z"
   },
   {
    "duration": 979,
    "start_time": "2021-12-22T12:42:03.020Z"
   },
   {
    "duration": 1016,
    "start_time": "2021-12-22T12:42:18.410Z"
   },
   {
    "duration": 719,
    "start_time": "2021-12-22T12:42:26.050Z"
   },
   {
    "duration": 773,
    "start_time": "2021-12-22T12:42:45.324Z"
   },
   {
    "duration": 763,
    "start_time": "2021-12-22T12:43:04.297Z"
   },
   {
    "duration": 1138,
    "start_time": "2021-12-22T12:43:27.141Z"
   },
   {
    "duration": 819,
    "start_time": "2021-12-22T12:43:40.708Z"
   },
   {
    "duration": 1215,
    "start_time": "2021-12-22T12:44:03.667Z"
   },
   {
    "duration": 1270,
    "start_time": "2021-12-22T12:44:16.632Z"
   },
   {
    "duration": 754,
    "start_time": "2021-12-22T12:44:44.901Z"
   },
   {
    "duration": 5,
    "start_time": "2021-12-22T12:48:34.741Z"
   },
   {
    "duration": 827,
    "start_time": "2021-12-22T12:48:34.748Z"
   },
   {
    "duration": 432,
    "start_time": "2021-12-22T12:48:35.578Z"
   },
   {
    "duration": 8,
    "start_time": "2021-12-22T12:48:36.013Z"
   },
   {
    "duration": 44,
    "start_time": "2021-12-22T12:48:36.022Z"
   },
   {
    "duration": 66,
    "start_time": "2021-12-22T12:48:36.068Z"
   },
   {
    "duration": 212,
    "start_time": "2021-12-22T12:48:36.135Z"
   },
   {
    "duration": 66,
    "start_time": "2021-12-22T12:48:36.349Z"
   },
   {
    "duration": 1115,
    "start_time": "2021-12-22T12:48:36.417Z"
   },
   {
    "duration": 853,
    "start_time": "2021-12-22T12:48:37.535Z"
   },
   {
    "duration": 1391,
    "start_time": "2021-12-22T12:48:38.390Z"
   },
   {
    "duration": 20,
    "start_time": "2021-12-22T12:48:39.783Z"
   },
   {
    "duration": 24,
    "start_time": "2021-12-22T12:56:11.942Z"
   },
   {
    "duration": 399,
    "start_time": "2021-12-22T12:56:11.968Z"
   },
   {
    "duration": 94,
    "start_time": "2021-12-22T12:56:12.370Z"
   },
   {
    "duration": 35931,
    "start_time": "2021-12-22T12:56:12.466Z"
   },
   {
    "duration": -493,
    "start_time": "2021-12-22T12:56:48.892Z"
   },
   {
    "duration": -498,
    "start_time": "2021-12-22T12:56:48.898Z"
   },
   {
    "duration": 4,
    "start_time": "2021-12-22T14:08:04.468Z"
   },
   {
    "duration": 707,
    "start_time": "2021-12-22T14:08:04.952Z"
   },
   {
    "duration": 282,
    "start_time": "2021-12-22T14:08:05.662Z"
   },
   {
    "duration": 8,
    "start_time": "2021-12-22T14:08:07.104Z"
   },
   {
    "duration": 6,
    "start_time": "2021-12-22T14:08:09.231Z"
   },
   {
    "duration": 44,
    "start_time": "2021-12-22T14:08:12.185Z"
   },
   {
    "duration": 193,
    "start_time": "2021-12-22T14:08:13.686Z"
   },
   {
    "duration": 52,
    "start_time": "2021-12-22T14:08:17.262Z"
   },
   {
    "duration": 963,
    "start_time": "2021-12-22T14:08:18.902Z"
   },
   {
    "duration": 815,
    "start_time": "2021-12-22T14:08:20.189Z"
   },
   {
    "duration": 1363,
    "start_time": "2021-12-22T14:08:21.358Z"
   },
   {
    "duration": 25,
    "start_time": "2021-12-22T14:08:22.723Z"
   },
   {
    "duration": 263,
    "start_time": "2021-12-22T14:09:25.851Z"
   },
   {
    "duration": 312,
    "start_time": "2021-12-22T14:11:08.071Z"
   },
   {
    "duration": 265,
    "start_time": "2021-12-22T14:11:58.957Z"
   },
   {
    "duration": 272,
    "start_time": "2021-12-22T14:11:59.912Z"
   },
   {
    "duration": 354,
    "start_time": "2021-12-22T14:35:14.893Z"
   },
   {
    "duration": 1893,
    "start_time": "2021-12-22T14:35:23.483Z"
   },
   {
    "duration": 8350,
    "start_time": "2021-12-22T14:35:25.379Z"
   },
   {
    "duration": 547,
    "start_time": "2021-12-22T14:35:33.733Z"
   },
   {
    "duration": 16,
    "start_time": "2021-12-22T14:35:34.284Z"
   },
   {
    "duration": 11,
    "start_time": "2021-12-22T14:35:34.303Z"
   },
   {
    "duration": 465,
    "start_time": "2021-12-22T14:35:34.317Z"
   },
   {
    "duration": -364,
    "start_time": "2021-12-22T14:35:35.149Z"
   },
   {
    "duration": 328,
    "start_time": "2021-12-22T14:35:37.556Z"
   },
   {
    "duration": 6,
    "start_time": "2021-12-22T14:35:57.598Z"
   },
   {
    "duration": 988,
    "start_time": "2021-12-22T14:35:57.607Z"
   },
   {
    "duration": 635,
    "start_time": "2021-12-22T14:35:58.597Z"
   },
   {
    "duration": 12,
    "start_time": "2021-12-22T14:35:59.234Z"
   },
   {
    "duration": 16,
    "start_time": "2021-12-22T14:35:59.270Z"
   },
   {
    "duration": 793,
    "start_time": "2021-12-22T14:35:59.288Z"
   },
   {
    "duration": 99,
    "start_time": "2021-12-22T14:36:00.085Z"
   },
   {
    "duration": 365,
    "start_time": "2021-12-22T14:36:00.188Z"
   },
   {
    "duration": 118,
    "start_time": "2021-12-22T14:36:15.147Z"
   },
   {
    "duration": 147,
    "start_time": "2021-12-22T14:37:33.321Z"
   },
   {
    "duration": 566,
    "start_time": "2021-12-22T14:37:37.989Z"
   },
   {
    "duration": 7,
    "start_time": "2021-12-22T14:38:36.922Z"
   },
   {
    "duration": 1327,
    "start_time": "2021-12-22T14:38:36.932Z"
   },
   {
    "duration": 686,
    "start_time": "2021-12-22T14:38:38.268Z"
   },
   {
    "duration": 23,
    "start_time": "2021-12-22T14:38:38.956Z"
   },
   {
    "duration": 14,
    "start_time": "2021-12-22T14:38:38.982Z"
   },
   {
    "duration": 501,
    "start_time": "2021-12-22T14:38:39.000Z"
   },
   {
    "duration": 114,
    "start_time": "2021-12-22T14:38:39.505Z"
   },
   {
    "duration": 362,
    "start_time": "2021-12-22T14:38:39.621Z"
   },
   {
    "duration": 135,
    "start_time": "2021-12-22T14:38:39.986Z"
   },
   {
    "duration": 2196,
    "start_time": "2021-12-22T14:38:40.123Z"
   },
   {
    "duration": 1596,
    "start_time": "2021-12-22T14:38:42.322Z"
   },
   {
    "duration": 2709,
    "start_time": "2021-12-22T14:38:43.921Z"
   },
   {
    "duration": 52,
    "start_time": "2021-12-22T14:38:46.633Z"
   },
   {
    "duration": 405,
    "start_time": "2021-12-22T14:38:46.688Z"
   },
   {
    "duration": 8,
    "start_time": "2021-12-22T14:39:04.438Z"
   },
   {
    "duration": 91463,
    "start_time": "2021-12-22T14:39:08.272Z"
   },
   {
    "duration": 92,
    "start_time": "2021-12-22T14:42:08.911Z"
   },
   {
    "duration": 816863,
    "start_time": "2021-12-22T14:42:15.335Z"
   },
   {
    "duration": -579,
    "start_time": "2021-12-22T14:55:52.781Z"
   },
   {
    "duration": 9,
    "start_time": "2021-12-22T14:55:55.192Z"
   },
   {
    "duration": 316,
    "start_time": "2021-12-22T14:55:55.631Z"
   },
   {
    "duration": -360,
    "start_time": "2021-12-22T14:55:56.311Z"
   },
   {
    "duration": -367,
    "start_time": "2021-12-22T14:55:56.320Z"
   },
   {
    "duration": -373,
    "start_time": "2021-12-22T14:55:56.328Z"
   },
   {
    "duration": -380,
    "start_time": "2021-12-22T14:55:56.337Z"
   },
   {
    "duration": -392,
    "start_time": "2021-12-22T14:55:56.351Z"
   },
   {
    "duration": -399,
    "start_time": "2021-12-22T14:55:56.360Z"
   },
   {
    "duration": -400,
    "start_time": "2021-12-22T14:55:56.363Z"
   },
   {
    "duration": -405,
    "start_time": "2021-12-22T14:55:56.370Z"
   },
   {
    "duration": -406,
    "start_time": "2021-12-22T14:55:56.373Z"
   },
   {
    "duration": -406,
    "start_time": "2021-12-22T14:55:56.377Z"
   },
   {
    "duration": -414,
    "start_time": "2021-12-22T14:55:56.387Z"
   },
   {
    "duration": 6,
    "start_time": "2021-12-22T14:56:36.255Z"
   },
   {
    "duration": 269,
    "start_time": "2021-12-22T14:56:36.701Z"
   },
   {
    "duration": -331,
    "start_time": "2021-12-22T14:56:37.305Z"
   },
   {
    "duration": -339,
    "start_time": "2021-12-22T14:56:37.315Z"
   },
   {
    "duration": -341,
    "start_time": "2021-12-22T14:56:37.319Z"
   },
   {
    "duration": -377,
    "start_time": "2021-12-22T14:56:37.356Z"
   },
   {
    "duration": -383,
    "start_time": "2021-12-22T14:56:37.364Z"
   },
   {
    "duration": -387,
    "start_time": "2021-12-22T14:56:37.370Z"
   },
   {
    "duration": 7,
    "start_time": "2021-12-22T14:57:12.193Z"
   },
   {
    "duration": 980,
    "start_time": "2021-12-22T14:57:12.203Z"
   },
   {
    "duration": 102,
    "start_time": "2021-12-22T14:57:13.186Z"
   },
   {
    "duration": 104,
    "start_time": "2021-12-22T14:57:13.291Z"
   },
   {
    "duration": 7,
    "start_time": "2021-12-22T14:57:13.397Z"
   },
   {
    "duration": 298272,
    "start_time": "2021-12-22T14:57:13.407Z"
   },
   {
    "duration": -533,
    "start_time": "2021-12-22T15:02:12.215Z"
   },
   {
    "duration": 78,
    "start_time": "2021-12-22T15:02:13.001Z"
   },
   {
    "duration": 79,
    "start_time": "2021-12-22T15:02:20.184Z"
   },
   {
    "duration": 71,
    "start_time": "2021-12-22T15:02:27.819Z"
   },
   {
    "duration": 82,
    "start_time": "2021-12-22T15:02:34.936Z"
   },
   {
    "duration": 639,
    "start_time": "2021-12-22T15:04:11.100Z"
   },
   {
    "duration": 326,
    "start_time": "2021-12-22T15:04:25.774Z"
   },
   {
    "duration": 23,
    "start_time": "2021-12-22T15:06:05.168Z"
   },
   {
    "duration": 57681,
    "start_time": "2021-12-22T15:08:13.115Z"
   },
   {
    "duration": 6,
    "start_time": "2021-12-22T15:10:15.999Z"
   },
   {
    "duration": 1211,
    "start_time": "2021-12-22T15:10:16.533Z"
   },
   {
    "duration": 79,
    "start_time": "2021-12-22T15:10:17.747Z"
   },
   {
    "duration": 89,
    "start_time": "2021-12-22T15:10:17.830Z"
   },
   {
    "duration": 8,
    "start_time": "2021-12-22T15:10:17.922Z"
   },
   {
    "duration": -725,
    "start_time": "2021-12-22T15:11:54.135Z"
   },
   {
    "duration": -729,
    "start_time": "2021-12-22T15:11:54.141Z"
   },
   {
    "duration": -732,
    "start_time": "2021-12-22T15:11:54.145Z"
   },
   {
    "duration": -734,
    "start_time": "2021-12-22T15:11:54.150Z"
   },
   {
    "duration": -736,
    "start_time": "2021-12-22T15:11:54.154Z"
   },
   {
    "duration": -739,
    "start_time": "2021-12-22T15:11:54.159Z"
   },
   {
    "duration": -742,
    "start_time": "2021-12-22T15:11:54.163Z"
   },
   {
    "duration": -744,
    "start_time": "2021-12-22T15:11:54.167Z"
   },
   {
    "duration": -747,
    "start_time": "2021-12-22T15:11:54.171Z"
   },
   {
    "duration": 10,
    "start_time": "2021-12-22T15:11:56.010Z"
   },
   {
    "duration": 1045,
    "start_time": "2021-12-22T15:11:56.523Z"
   },
   {
    "duration": 69,
    "start_time": "2021-12-22T15:11:57.571Z"
   },
   {
    "duration": 83,
    "start_time": "2021-12-22T15:11:57.644Z"
   },
   {
    "duration": 7,
    "start_time": "2021-12-22T15:11:57.729Z"
   },
   {
    "duration": 355775,
    "start_time": "2021-12-22T15:11:57.739Z"
   },
   {
    "duration": -839,
    "start_time": "2021-12-22T15:17:54.355Z"
   },
   {
    "duration": -849,
    "start_time": "2021-12-22T15:17:54.366Z"
   },
   {
    "duration": -851,
    "start_time": "2021-12-22T15:17:54.370Z"
   },
   {
    "duration": 815,
    "start_time": "2021-12-23T06:29:08.667Z"
   },
   {
    "duration": 1799,
    "start_time": "2021-12-23T06:29:18.674Z"
   },
   {
    "duration": 1035,
    "start_time": "2021-12-23T06:29:27.302Z"
   },
   {
    "duration": 685,
    "start_time": "2021-12-23T06:29:45.099Z"
   },
   {
    "duration": 20,
    "start_time": "2021-12-23T06:37:25.509Z"
   },
   {
    "duration": 7,
    "start_time": "2021-12-23T06:38:29.011Z"
   },
   {
    "duration": 127934,
    "start_time": "2021-12-23T06:38:30.803Z"
   },
   {
    "duration": 8178,
    "start_time": "2021-12-23T06:40:58.153Z"
   },
   {
    "duration": 1441,
    "start_time": "2021-12-23T06:41:19.622Z"
   },
   {
    "duration": 60735,
    "start_time": "2021-12-23T06:41:27.124Z"
   },
   {
    "duration": 67235,
    "start_time": "2021-12-23T06:43:26.388Z"
   },
   {
    "duration": 302,
    "start_time": "2021-12-23T06:44:41.988Z"
   },
   {
    "duration": 12,
    "start_time": "2021-12-23T06:44:53.596Z"
   },
   {
    "duration": 7,
    "start_time": "2021-12-23T06:45:33.943Z"
   },
   {
    "duration": 7551,
    "start_time": "2021-12-23T06:45:38.767Z"
   },
   {
    "duration": 871,
    "start_time": "2021-12-23T06:45:49.696Z"
   },
   {
    "duration": 59949,
    "start_time": "2021-12-23T06:45:55.322Z"
   },
   {
    "duration": 12,
    "start_time": "2021-12-23T06:48:03.709Z"
   },
   {
    "duration": 1279,
    "start_time": "2021-12-23T10:28:50.621Z"
   },
   {
    "duration": 4704,
    "start_time": "2021-12-23T10:28:51.902Z"
   },
   {
    "duration": 51,
    "start_time": "2021-12-23T10:28:56.608Z"
   },
   {
    "duration": 44,
    "start_time": "2021-12-23T10:28:56.661Z"
   },
   {
    "duration": 82,
    "start_time": "2021-12-23T10:28:56.707Z"
   },
   {
    "duration": -2589,
    "start_time": "2021-12-23T10:28:59.381Z"
   },
   {
    "duration": -2598,
    "start_time": "2021-12-23T10:28:59.391Z"
   },
   {
    "duration": -2605,
    "start_time": "2021-12-23T10:28:59.399Z"
   },
   {
    "duration": -2614,
    "start_time": "2021-12-23T10:28:59.409Z"
   },
   {
    "duration": -2621,
    "start_time": "2021-12-23T10:28:59.417Z"
   },
   {
    "duration": -2628,
    "start_time": "2021-12-23T10:28:59.425Z"
   },
   {
    "duration": -2635,
    "start_time": "2021-12-23T10:28:59.432Z"
   },
   {
    "duration": -2642,
    "start_time": "2021-12-23T10:28:59.440Z"
   },
   {
    "duration": -2647,
    "start_time": "2021-12-23T10:28:59.446Z"
   },
   {
    "duration": 4,
    "start_time": "2021-12-23T10:29:55.611Z"
   },
   {
    "duration": 768,
    "start_time": "2021-12-23T10:29:56.613Z"
   },
   {
    "duration": 46,
    "start_time": "2021-12-23T10:29:57.383Z"
   },
   {
    "duration": 53,
    "start_time": "2021-12-23T10:29:57.431Z"
   },
   {
    "duration": 4,
    "start_time": "2021-12-23T10:29:57.486Z"
   },
   {
    "duration": 391,
    "start_time": "2021-12-23T10:29:57.491Z"
   },
   {
    "duration": -2613,
    "start_time": "2021-12-23T10:30:00.497Z"
   },
   {
    "duration": -2629,
    "start_time": "2021-12-23T10:30:00.514Z"
   },
   {
    "duration": -2680,
    "start_time": "2021-12-23T10:30:00.566Z"
   },
   {
    "duration": 4,
    "start_time": "2021-12-23T10:31:13.250Z"
   },
   {
    "duration": 775,
    "start_time": "2021-12-23T10:31:14.243Z"
   },
   {
    "duration": 61,
    "start_time": "2021-12-23T10:31:15.020Z"
   },
   {
    "duration": 209,
    "start_time": "2021-12-23T10:31:15.084Z"
   },
   {
    "duration": 48,
    "start_time": "2021-12-23T10:31:15.295Z"
   },
   {
    "duration": 17,
    "start_time": "2021-12-23T10:31:15.345Z"
   },
   {
    "duration": 5397,
    "start_time": "2021-12-23T10:31:15.364Z"
   },
   {
    "duration": 805,
    "start_time": "2021-12-23T10:31:20.763Z"
   },
   {
    "duration": 40577,
    "start_time": "2021-12-23T10:31:21.571Z"
   },
   {
    "duration": 20,
    "start_time": "2021-12-23T10:32:02.150Z"
   },
   {
    "duration": 812,
    "start_time": "2021-12-23T10:35:32.925Z"
   },
   {
    "duration": 54,
    "start_time": "2021-12-23T10:35:33.738Z"
   },
   {
    "duration": 199,
    "start_time": "2021-12-23T10:35:35.282Z"
   },
   {
    "duration": 16,
    "start_time": "2021-12-23T10:35:54.466Z"
   },
   {
    "duration": 6215,
    "start_time": "2021-12-23T10:36:00.357Z"
   },
   {
    "duration": 22554,
    "start_time": "2021-12-23T10:36:28.501Z"
   },
   {
    "duration": 5,
    "start_time": "2021-12-23T10:47:15.680Z"
   },
   {
    "duration": 804,
    "start_time": "2021-12-23T10:47:16.747Z"
   },
   {
    "duration": 51,
    "start_time": "2021-12-23T10:47:17.553Z"
   },
   {
    "duration": 203,
    "start_time": "2021-12-23T10:47:17.606Z"
   },
   {
    "duration": 4,
    "start_time": "2021-12-23T10:47:17.811Z"
   },
   {
    "duration": 9617,
    "start_time": "2021-12-23T10:47:17.817Z"
   },
   {
    "duration": 836,
    "start_time": "2021-12-23T10:47:27.435Z"
   },
   {
    "duration": 68716,
    "start_time": "2021-12-23T10:47:28.361Z"
   },
   {
    "duration": -2211,
    "start_time": "2021-12-23T10:48:39.290Z"
   },
   {
    "duration": 214,
    "start_time": "2021-12-23T10:50:48.271Z"
   },
   {
    "duration": 226,
    "start_time": "2021-12-23T10:51:21.845Z"
   },
   {
    "duration": 316,
    "start_time": "2021-12-23T10:53:27.712Z"
   },
   {
    "duration": 4,
    "start_time": "2021-12-23T10:57:18.393Z"
   },
   {
    "duration": 869,
    "start_time": "2021-12-23T10:57:19.448Z"
   },
   {
    "duration": 53,
    "start_time": "2021-12-23T10:57:20.320Z"
   },
   {
    "duration": 203,
    "start_time": "2021-12-23T10:57:20.375Z"
   },
   {
    "duration": 271,
    "start_time": "2021-12-23T10:57:20.580Z"
   },
   {
    "duration": -2246,
    "start_time": "2021-12-23T10:57:23.099Z"
   },
   {
    "duration": -2261,
    "start_time": "2021-12-23T10:57:23.115Z"
   },
   {
    "duration": -2321,
    "start_time": "2021-12-23T10:57:23.176Z"
   },
   {
    "duration": -2336,
    "start_time": "2021-12-23T10:57:23.192Z"
   },
   {
    "duration": -2355,
    "start_time": "2021-12-23T10:57:23.212Z"
   },
   {
    "duration": 369,
    "start_time": "2021-12-23T10:57:36.401Z"
   },
   {
    "duration": 700,
    "start_time": "2021-12-23T11:01:24.187Z"
   },
   {
    "duration": 12,
    "start_time": "2021-12-23T11:01:24.889Z"
   },
   {
    "duration": 82,
    "start_time": "2021-12-23T11:01:25.277Z"
   },
   {
    "duration": 41,
    "start_time": "2021-12-23T11:01:26.458Z"
   },
   {
    "duration": 71,
    "start_time": "2021-12-23T11:01:53.121Z"
   },
   {
    "duration": 40,
    "start_time": "2021-12-23T11:01:58.021Z"
   },
   {
    "duration": 42,
    "start_time": "2021-12-23T11:02:17.434Z"
   },
   {
    "duration": 72,
    "start_time": "2021-12-23T11:02:37.450Z"
   },
   {
    "duration": 70,
    "start_time": "2021-12-23T11:03:18.437Z"
   },
   {
    "duration": 85,
    "start_time": "2021-12-23T11:03:34.804Z"
   },
   {
    "duration": 77,
    "start_time": "2021-12-23T11:03:57.394Z"
   },
   {
    "duration": 37,
    "start_time": "2021-12-23T11:04:14.887Z"
   },
   {
    "duration": 41,
    "start_time": "2021-12-23T11:04:21.340Z"
   },
   {
    "duration": 63,
    "start_time": "2021-12-23T11:06:45.868Z"
   },
   {
    "duration": 334,
    "start_time": "2021-12-23T11:07:00.143Z"
   },
   {
    "duration": 63,
    "start_time": "2021-12-23T11:07:07.165Z"
   },
   {
    "duration": 58,
    "start_time": "2021-12-23T11:07:16.484Z"
   },
   {
    "duration": 37,
    "start_time": "2021-12-23T11:08:15.519Z"
   },
   {
    "duration": 52,
    "start_time": "2021-12-23T11:08:40.182Z"
   },
   {
    "duration": 4,
    "start_time": "2021-12-23T11:08:54.049Z"
   },
   {
    "duration": 805,
    "start_time": "2021-12-23T11:08:54.935Z"
   },
   {
    "duration": 20,
    "start_time": "2021-12-23T11:08:55.742Z"
   },
   {
    "duration": 86,
    "start_time": "2021-12-23T11:08:55.764Z"
   },
   {
    "duration": 53,
    "start_time": "2021-12-23T11:08:55.852Z"
   },
   {
    "duration": 5,
    "start_time": "2021-12-23T11:08:55.906Z"
   },
   {
    "duration": 4842,
    "start_time": "2021-12-23T11:08:55.912Z"
   },
   {
    "duration": 505,
    "start_time": "2021-12-23T11:09:00.756Z"
   },
   {
    "duration": 34557,
    "start_time": "2021-12-23T11:09:01.263Z"
   },
   {
    "duration": -3459,
    "start_time": "2021-12-23T11:09:39.281Z"
   },
   {
    "duration": 144100,
    "start_time": "2021-12-23T11:11:08.292Z"
   },
   {
    "duration": 4,
    "start_time": "2021-12-23T11:14:14.705Z"
   },
   {
    "duration": 784,
    "start_time": "2021-12-23T11:14:22.977Z"
   },
   {
    "duration": 13,
    "start_time": "2021-12-23T11:14:23.763Z"
   },
   {
    "duration": 99,
    "start_time": "2021-12-23T11:14:23.778Z"
   },
   {
    "duration": 56,
    "start_time": "2021-12-23T11:14:23.879Z"
   },
   {
    "duration": 5,
    "start_time": "2021-12-23T11:14:27.121Z"
   },
   {
    "duration": 139680,
    "start_time": "2021-12-23T11:14:29.376Z"
   },
   {
    "duration": 7563,
    "start_time": "2021-12-23T11:19:05.826Z"
   },
   {
    "duration": 4,
    "start_time": "2021-12-23T11:19:52.456Z"
   },
   {
    "duration": 719,
    "start_time": "2021-12-23T11:19:53.024Z"
   },
   {
    "duration": 16,
    "start_time": "2021-12-23T11:19:53.745Z"
   },
   {
    "duration": 4,
    "start_time": "2021-12-23T11:19:53.763Z"
   },
   {
    "duration": 190500,
    "start_time": "2021-12-23T11:19:53.768Z"
   },
   {
    "duration": 693,
    "start_time": "2021-12-23T11:23:04.269Z"
   },
   {
    "duration": 8145,
    "start_time": "2021-12-23T11:23:04.965Z"
   },
   {
    "duration": 11,
    "start_time": "2021-12-23T11:23:13.111Z"
   },
   {
    "duration": 910,
    "start_time": "2021-12-23T11:26:19.060Z"
   },
   {
    "duration": 14,
    "start_time": "2021-12-23T11:26:21.262Z"
   },
   {
    "duration": 5,
    "start_time": "2021-12-23T11:26:27.611Z"
   },
   {
    "duration": 283,
    "start_time": "2021-12-23T11:26:30.097Z"
   },
   {
    "duration": 692,
    "start_time": "2021-12-23T11:29:58.617Z"
   },
   {
    "duration": 14,
    "start_time": "2021-12-23T11:30:00.968Z"
   },
   {
    "duration": 4,
    "start_time": "2021-12-23T11:30:03.651Z"
   },
   {
    "duration": 281,
    "start_time": "2021-12-23T11:30:04.809Z"
   },
   {
    "duration": 4,
    "start_time": "2021-12-23T11:33:15.961Z"
   },
   {
    "duration": 704,
    "start_time": "2021-12-23T11:33:17.085Z"
   },
   {
    "duration": 12,
    "start_time": "2021-12-23T11:33:17.790Z"
   },
   {
    "duration": 28,
    "start_time": "2021-12-23T11:33:17.803Z"
   },
   {
    "duration": 289,
    "start_time": "2021-12-23T11:33:17.833Z"
   },
   {
    "duration": -2743,
    "start_time": "2021-12-23T11:33:20.867Z"
   },
   {
    "duration": -2757,
    "start_time": "2021-12-23T11:33:20.883Z"
   },
   {
    "duration": -2769,
    "start_time": "2021-12-23T11:33:20.896Z"
   },
   {
    "duration": 702,
    "start_time": "2021-12-23T11:35:17.142Z"
   },
   {
    "duration": 13,
    "start_time": "2021-12-23T11:35:18.565Z"
   },
   {
    "duration": 5,
    "start_time": "2021-12-23T11:35:21.832Z"
   },
   {
    "duration": 781,
    "start_time": "2021-12-23T11:35:22.919Z"
   },
   {
    "duration": 14,
    "start_time": "2021-12-23T11:35:23.702Z"
   },
   {
    "duration": 5,
    "start_time": "2021-12-23T11:35:23.718Z"
   },
   {
    "duration": 310,
    "start_time": "2021-12-23T11:35:23.725Z"
   },
   {
    "duration": -2248,
    "start_time": "2021-12-23T11:35:26.285Z"
   },
   {
    "duration": -2266,
    "start_time": "2021-12-23T11:35:26.305Z"
   },
   {
    "duration": -2272,
    "start_time": "2021-12-23T11:35:26.313Z"
   },
   {
    "duration": 4,
    "start_time": "2021-12-23T12:00:58.750Z"
   },
   {
    "duration": 753,
    "start_time": "2021-12-23T12:00:59.334Z"
   },
   {
    "duration": 13,
    "start_time": "2021-12-23T12:01:00.088Z"
   },
   {
    "duration": 4,
    "start_time": "2021-12-23T12:01:00.103Z"
   },
   {
    "duration": 330,
    "start_time": "2021-12-23T12:01:00.109Z"
   },
   {
    "duration": -2132,
    "start_time": "2021-12-23T12:01:02.573Z"
   },
   {
    "duration": -2135,
    "start_time": "2021-12-23T12:01:02.577Z"
   },
   {
    "duration": -2139,
    "start_time": "2021-12-23T12:01:02.582Z"
   },
   {
    "duration": 724,
    "start_time": "2021-12-23T12:02:31.216Z"
   },
   {
    "duration": 12,
    "start_time": "2021-12-23T12:02:33.502Z"
   },
   {
    "duration": 5,
    "start_time": "2021-12-23T12:02:37.302Z"
   },
   {
    "duration": 134095,
    "start_time": "2021-12-23T12:02:37.545Z"
   },
   {
    "duration": 4,
    "start_time": "2021-12-23T12:05:10.255Z"
   },
   {
    "duration": 690,
    "start_time": "2021-12-23T12:05:10.835Z"
   },
   {
    "duration": 13,
    "start_time": "2021-12-23T12:05:11.527Z"
   },
   {
    "duration": 4,
    "start_time": "2021-12-23T12:05:11.542Z"
   },
   {
    "duration": 4686,
    "start_time": "2021-12-23T12:05:11.548Z"
   },
   {
    "duration": 826,
    "start_time": "2021-12-23T12:05:16.236Z"
   },
   {
    "duration": 253,
    "start_time": "2021-12-23T12:05:17.064Z"
   },
   {
    "duration": -1940,
    "start_time": "2021-12-23T12:05:19.259Z"
   },
   {
    "duration": 21000,
    "start_time": "2021-12-23T12:05:35.072Z"
   },
   {
    "duration": 59617,
    "start_time": "2021-12-23T12:06:29.778Z"
   },
   {
    "duration": 150,
    "start_time": "2021-12-23T12:10:11.207Z"
   },
   {
    "duration": 4,
    "start_time": "2021-12-23T12:10:32.308Z"
   },
   {
    "duration": 790,
    "start_time": "2021-12-23T12:10:32.898Z"
   },
   {
    "duration": 12,
    "start_time": "2021-12-23T12:10:33.690Z"
   },
   {
    "duration": 4,
    "start_time": "2021-12-23T12:10:33.704Z"
   },
   {
    "duration": 60539,
    "start_time": "2021-12-23T12:10:33.710Z"
   },
   {
    "duration": 616,
    "start_time": "2021-12-23T12:11:34.250Z"
   },
   {
    "duration": 394,
    "start_time": "2021-12-23T12:11:34.868Z"
   },
   {
    "duration": -1891,
    "start_time": "2021-12-23T12:11:37.156Z"
   },
   {
    "duration": 4,
    "start_time": "2021-12-23T12:11:56.149Z"
   },
   {
    "duration": 59484,
    "start_time": "2021-12-23T12:12:02.403Z"
   },
   {
    "duration": 782,
    "start_time": "2021-12-23T12:13:50.585Z"
   },
   {
    "duration": 270,
    "start_time": "2021-12-23T12:13:55.576Z"
   },
   {
    "duration": 4,
    "start_time": "2021-12-23T12:16:15.435Z"
   },
   {
    "duration": 924,
    "start_time": "2021-12-23T12:16:16.009Z"
   },
   {
    "duration": -3370,
    "start_time": "2021-12-23T12:16:20.305Z"
   },
   {
    "duration": -3373,
    "start_time": "2021-12-23T12:16:20.308Z"
   },
   {
    "duration": -3378,
    "start_time": "2021-12-23T12:16:20.314Z"
   },
   {
    "duration": -3402,
    "start_time": "2021-12-23T12:16:20.339Z"
   },
   {
    "duration": -3405,
    "start_time": "2021-12-23T12:16:20.343Z"
   },
   {
    "duration": -3409,
    "start_time": "2021-12-23T12:16:20.348Z"
   },
   {
    "duration": 4,
    "start_time": "2021-12-23T12:16:45.103Z"
   },
   {
    "duration": 707,
    "start_time": "2021-12-23T12:16:45.642Z"
   },
   {
    "duration": 257,
    "start_time": "2021-12-23T12:16:46.351Z"
   },
   {
    "duration": -2381,
    "start_time": "2021-12-23T12:16:48.991Z"
   },
   {
    "duration": -2386,
    "start_time": "2021-12-23T12:16:48.997Z"
   },
   {
    "duration": -2390,
    "start_time": "2021-12-23T12:16:49.002Z"
   },
   {
    "duration": -2408,
    "start_time": "2021-12-23T12:16:49.021Z"
   },
   {
    "duration": -2412,
    "start_time": "2021-12-23T12:16:49.026Z"
   },
   {
    "duration": 997,
    "start_time": "2021-12-23T12:17:19.313Z"
   },
   {
    "duration": 688,
    "start_time": "2021-12-23T12:18:13.668Z"
   },
   {
    "duration": 5,
    "start_time": "2021-12-23T12:18:52.889Z"
   },
   {
    "duration": 84,
    "start_time": "2021-12-23T12:18:53.496Z"
   },
   {
    "duration": -1795,
    "start_time": "2021-12-23T12:18:55.377Z"
   },
   {
    "duration": -1801,
    "start_time": "2021-12-23T12:18:55.384Z"
   },
   {
    "duration": -1838,
    "start_time": "2021-12-23T12:18:55.422Z"
   },
   {
    "duration": -1841,
    "start_time": "2021-12-23T12:18:55.426Z"
   },
   {
    "duration": -1844,
    "start_time": "2021-12-23T12:18:55.430Z"
   },
   {
    "duration": -1848,
    "start_time": "2021-12-23T12:18:55.435Z"
   },
   {
    "duration": 4,
    "start_time": "2021-12-23T12:19:02.373Z"
   },
   {
    "duration": 695,
    "start_time": "2021-12-23T12:19:02.938Z"
   },
   {
    "duration": 12,
    "start_time": "2021-12-23T12:19:03.634Z"
   },
   {
    "duration": 14,
    "start_time": "2021-12-23T12:19:03.648Z"
   },
   {
    "duration": 5929,
    "start_time": "2021-12-23T12:19:03.663Z"
   },
   {
    "duration": 673,
    "start_time": "2021-12-23T12:19:09.593Z"
   },
   {
    "duration": 1408,
    "start_time": "2021-12-23T12:19:10.268Z"
   },
   {
    "duration": 10,
    "start_time": "2021-12-23T12:19:11.677Z"
   },
   {
    "duration": 4,
    "start_time": "2021-12-23T12:25:54.361Z"
   },
   {
    "duration": 724,
    "start_time": "2021-12-23T12:25:54.945Z"
   },
   {
    "duration": 12,
    "start_time": "2021-12-23T12:25:55.672Z"
   },
   {
    "duration": 11,
    "start_time": "2021-12-23T12:25:55.686Z"
   },
   {
    "duration": 6207,
    "start_time": "2021-12-23T12:25:55.699Z"
   },
   {
    "duration": 1057,
    "start_time": "2021-12-23T12:26:01.908Z"
   },
   {
    "duration": 1675,
    "start_time": "2021-12-23T12:26:02.968Z"
   },
   {
    "duration": 17,
    "start_time": "2021-12-23T12:26:04.644Z"
   },
   {
    "duration": 5,
    "start_time": "2021-12-23T12:26:10.268Z"
   },
   {
    "duration": 5921,
    "start_time": "2021-12-23T12:26:12.189Z"
   },
   {
    "duration": 5,
    "start_time": "2021-12-23T12:26:28.267Z"
   },
   {
    "duration": 90,
    "start_time": "2021-12-23T12:27:07.305Z"
   },
   {
    "duration": 83,
    "start_time": "2021-12-23T12:27:17.510Z"
   },
   {
    "duration": 60,
    "start_time": "2021-12-23T12:27:50.338Z"
   },
   {
    "duration": 56,
    "start_time": "2021-12-23T12:28:41.946Z"
   },
   {
    "duration": 56,
    "start_time": "2021-12-23T12:29:06.033Z"
   },
   {
    "duration": 35,
    "start_time": "2021-12-23T12:29:11.565Z"
   },
   {
    "duration": 6,
    "start_time": "2021-12-23T12:29:14.681Z"
   },
   {
    "duration": 4128,
    "start_time": "2021-12-23T12:29:15.963Z"
   },
   {
    "duration": 751,
    "start_time": "2021-12-23T12:30:06.760Z"
   },
   {
    "duration": 15,
    "start_time": "2021-12-23T12:30:07.513Z"
   },
   {
    "duration": 86,
    "start_time": "2021-12-23T12:30:07.571Z"
   },
   {
    "duration": 43,
    "start_time": "2021-12-23T12:30:08.077Z"
   },
   {
    "duration": 4,
    "start_time": "2021-12-23T12:30:11.184Z"
   },
   {
    "duration": 31179,
    "start_time": "2021-12-23T12:30:39.283Z"
   },
   {
    "duration": 807,
    "start_time": "2021-12-23T12:31:18.257Z"
   },
   {
    "duration": 3545,
    "start_time": "2021-12-23T12:31:21.116Z"
   },
   {
    "duration": 3603,
    "start_time": "2021-12-23T12:31:41.745Z"
   },
   {
    "duration": 251232,
    "start_time": "2021-12-23T12:32:12.091Z"
   },
   {
    "duration": 7,
    "start_time": "2021-12-23T12:37:13.331Z"
   },
   {
    "duration": 5,
    "start_time": "2021-12-23T12:37:21.747Z"
   },
   {
    "duration": 5,
    "start_time": "2021-12-23T12:37:32.594Z"
   },
   {
    "duration": 85180,
    "start_time": "2021-12-23T12:37:52.627Z"
   },
   {
    "duration": 6338,
    "start_time": "2021-12-23T12:40:50.363Z"
   },
   {
    "duration": 1458,
    "start_time": "2021-12-23T12:42:19.635Z"
   },
   {
    "duration": 3538,
    "start_time": "2021-12-23T12:42:49.748Z"
   },
   {
    "duration": 12768,
    "start_time": "2021-12-23T12:43:09.841Z"
   },
   {
    "duration": 15913,
    "start_time": "2021-12-23T12:44:09.104Z"
   },
   {
    "duration": 16026,
    "start_time": "2021-12-23T12:44:34.378Z"
   },
   {
    "duration": 10,
    "start_time": "2021-12-23T12:46:39.102Z"
   },
   {
    "duration": 10,
    "start_time": "2021-12-23T12:47:08.116Z"
   },
   {
    "duration": 682,
    "start_time": "2021-12-23T12:55:35.402Z"
   },
   {
    "duration": 258,
    "start_time": "2021-12-23T12:55:36.299Z"
   },
   {
    "duration": 51,
    "start_time": "2021-12-23T12:55:36.997Z"
   },
   {
    "duration": 83,
    "start_time": "2021-12-23T12:59:04.531Z"
   },
   {
    "duration": 689,
    "start_time": "2021-12-23T12:59:17.153Z"
   },
   {
    "duration": 13,
    "start_time": "2021-12-23T12:59:18.020Z"
   },
   {
    "duration": 80,
    "start_time": "2021-12-23T12:59:20.338Z"
   },
   {
    "duration": 42,
    "start_time": "2021-12-23T12:59:21.338Z"
   },
   {
    "duration": 5,
    "start_time": "2021-12-23T12:59:23.966Z"
   },
   {
    "duration": 261,
    "start_time": "2021-12-23T12:59:24.918Z"
   },
   {
    "duration": 1120,
    "start_time": "2021-12-23T13:22:04.527Z"
   },
   {
    "duration": 281,
    "start_time": "2021-12-23T13:22:05.775Z"
   },
   {
    "duration": 5,
    "start_time": "2021-12-23T13:23:02.388Z"
   },
   {
    "duration": 723,
    "start_time": "2021-12-23T13:23:02.940Z"
   },
   {
    "duration": 13,
    "start_time": "2021-12-23T13:23:03.665Z"
   },
   {
    "duration": 94,
    "start_time": "2021-12-23T13:23:03.680Z"
   },
   {
    "duration": 39,
    "start_time": "2021-12-23T13:23:03.776Z"
   },
   {
    "duration": 4,
    "start_time": "2021-12-23T13:23:03.817Z"
   },
   {
    "duration": 12538,
    "start_time": "2021-12-23T13:23:03.823Z"
   },
   {
    "duration": 599,
    "start_time": "2021-12-23T13:23:16.363Z"
   },
   {
    "duration": 1515,
    "start_time": "2021-12-23T13:23:16.964Z"
   },
   {
    "duration": 11,
    "start_time": "2021-12-23T13:23:18.481Z"
   },
   {
    "duration": 5,
    "start_time": "2021-12-23T13:26:07.765Z"
   },
   {
    "duration": 695,
    "start_time": "2021-12-23T13:26:08.542Z"
   },
   {
    "duration": 20,
    "start_time": "2021-12-23T13:26:09.240Z"
   },
   {
    "duration": 82,
    "start_time": "2021-12-23T13:26:09.262Z"
   },
   {
    "duration": 49,
    "start_time": "2021-12-23T13:26:09.347Z"
   },
   {
    "duration": 4,
    "start_time": "2021-12-23T13:26:09.398Z"
   },
   {
    "duration": 91,
    "start_time": "2021-12-23T13:26:09.404Z"
   },
   {
    "duration": -1741,
    "start_time": "2021-12-23T13:26:11.238Z"
   },
   {
    "duration": -1746,
    "start_time": "2021-12-23T13:26:11.244Z"
   },
   {
    "duration": -1750,
    "start_time": "2021-12-23T13:26:11.248Z"
   },
   {
    "duration": 5,
    "start_time": "2021-12-23T13:26:37.610Z"
   },
   {
    "duration": 797,
    "start_time": "2021-12-23T13:26:38.193Z"
   },
   {
    "duration": 11,
    "start_time": "2021-12-23T13:26:38.992Z"
   },
   {
    "duration": 89,
    "start_time": "2021-12-23T13:26:39.005Z"
   },
   {
    "duration": 38,
    "start_time": "2021-12-23T13:26:39.096Z"
   },
   {
    "duration": 4,
    "start_time": "2021-12-23T13:26:39.136Z"
   },
   {
    "duration": 12862,
    "start_time": "2021-12-23T13:26:39.141Z"
   },
   {
    "duration": -1758,
    "start_time": "2021-12-23T13:26:53.763Z"
   },
   {
    "duration": -1763,
    "start_time": "2021-12-23T13:26:53.769Z"
   },
   {
    "duration": -1772,
    "start_time": "2021-12-23T13:26:53.779Z"
   },
   {
    "duration": 4,
    "start_time": "2021-12-23T13:27:21.678Z"
   },
   {
    "duration": 681,
    "start_time": "2021-12-23T13:27:22.213Z"
   },
   {
    "duration": 12,
    "start_time": "2021-12-23T13:27:22.896Z"
   },
   {
    "duration": 106,
    "start_time": "2021-12-23T13:27:22.910Z"
   },
   {
    "duration": 44,
    "start_time": "2021-12-23T13:27:23.018Z"
   },
   {
    "duration": 5,
    "start_time": "2021-12-23T13:27:23.064Z"
   },
   {
    "duration": 13129,
    "start_time": "2021-12-23T13:27:23.071Z"
   },
   {
    "duration": 771,
    "start_time": "2021-12-23T13:27:36.201Z"
   },
   {
    "duration": 1525,
    "start_time": "2021-12-23T13:27:36.976Z"
   },
   {
    "duration": 10,
    "start_time": "2021-12-23T13:27:38.502Z"
   },
   {
    "duration": 4,
    "start_time": "2021-12-23T16:03:33.248Z"
   },
   {
    "duration": 717,
    "start_time": "2021-12-23T16:03:33.253Z"
   },
   {
    "duration": 107,
    "start_time": "2021-12-23T16:03:33.972Z"
   },
   {
    "duration": -1768,
    "start_time": "2021-12-23T16:03:35.849Z"
   },
   {
    "duration": -1775,
    "start_time": "2021-12-23T16:03:35.857Z"
   },
   {
    "duration": -1778,
    "start_time": "2021-12-23T16:03:35.861Z"
   },
   {
    "duration": -1782,
    "start_time": "2021-12-23T16:03:35.866Z"
   },
   {
    "duration": -1791,
    "start_time": "2021-12-23T16:03:35.876Z"
   },
   {
    "duration": -1794,
    "start_time": "2021-12-23T16:03:35.880Z"
   },
   {
    "duration": -1800,
    "start_time": "2021-12-23T16:03:35.886Z"
   },
   {
    "duration": -1803,
    "start_time": "2021-12-23T16:03:35.890Z"
   },
   {
    "duration": -1806,
    "start_time": "2021-12-23T16:03:35.894Z"
   },
   {
    "duration": -1810,
    "start_time": "2021-12-23T16:03:35.899Z"
   },
   {
    "duration": -1816,
    "start_time": "2021-12-23T16:03:35.906Z"
   },
   {
    "duration": -1819,
    "start_time": "2021-12-23T16:03:35.910Z"
   },
   {
    "duration": -1821,
    "start_time": "2021-12-23T16:03:35.913Z"
   },
   {
    "duration": -1826,
    "start_time": "2021-12-23T16:03:35.919Z"
   },
   {
    "duration": -1828,
    "start_time": "2021-12-23T16:03:35.922Z"
   },
   {
    "duration": -1831,
    "start_time": "2021-12-23T16:03:35.926Z"
   },
   {
    "duration": 6,
    "start_time": "2021-12-23T16:03:47.156Z"
   },
   {
    "duration": 739,
    "start_time": "2021-12-23T16:03:47.166Z"
   },
   {
    "duration": 260,
    "start_time": "2021-12-23T16:03:47.907Z"
   },
   {
    "duration": 12,
    "start_time": "2021-12-23T16:03:48.169Z"
   },
   {
    "duration": 9,
    "start_time": "2021-12-23T16:03:48.183Z"
   },
   {
    "duration": 7,
    "start_time": "2021-12-23T16:03:48.194Z"
   },
   {
    "duration": 117,
    "start_time": "2021-12-23T16:03:48.203Z"
   },
   {
    "duration": 47,
    "start_time": "2021-12-23T16:03:48.322Z"
   },
   {
    "duration": 269,
    "start_time": "2021-12-23T16:03:48.375Z"
   },
   {
    "duration": -1744,
    "start_time": "2021-12-23T16:03:50.390Z"
   },
   {
    "duration": -1755,
    "start_time": "2021-12-23T16:03:50.402Z"
   },
   {
    "duration": -1759,
    "start_time": "2021-12-23T16:03:50.407Z"
   },
   {
    "duration": -1762,
    "start_time": "2021-12-23T16:03:50.411Z"
   },
   {
    "duration": -1771,
    "start_time": "2021-12-23T16:03:50.421Z"
   },
   {
    "duration": -1774,
    "start_time": "2021-12-23T16:03:50.425Z"
   },
   {
    "duration": -1777,
    "start_time": "2021-12-23T16:03:50.429Z"
   },
   {
    "duration": -1781,
    "start_time": "2021-12-23T16:03:50.435Z"
   },
   {
    "duration": -1784,
    "start_time": "2021-12-23T16:03:50.439Z"
   },
   {
    "duration": -1787,
    "start_time": "2021-12-23T16:03:50.443Z"
   },
   {
    "duration": 5,
    "start_time": "2021-12-23T16:04:17.003Z"
   },
   {
    "duration": 726,
    "start_time": "2021-12-23T16:04:17.010Z"
   },
   {
    "duration": 247,
    "start_time": "2021-12-23T16:04:17.738Z"
   },
   {
    "duration": 14,
    "start_time": "2021-12-23T16:04:17.988Z"
   },
   {
    "duration": 16,
    "start_time": "2021-12-23T16:04:18.003Z"
   },
   {
    "duration": 34,
    "start_time": "2021-12-23T16:04:18.021Z"
   },
   {
    "duration": 105,
    "start_time": "2021-12-23T16:04:18.058Z"
   },
   {
    "duration": 45,
    "start_time": "2021-12-23T16:04:18.166Z"
   },
   {
    "duration": 79,
    "start_time": "2021-12-23T16:04:18.213Z"
   },
   {
    "duration": 1052,
    "start_time": "2021-12-23T16:04:18.294Z"
   },
   {
    "duration": 926,
    "start_time": "2021-12-23T16:04:19.348Z"
   },
   {
    "duration": 1227,
    "start_time": "2021-12-23T16:04:20.275Z"
   },
   {
    "duration": 19,
    "start_time": "2021-12-23T16:04:21.504Z"
   },
   {
    "duration": 4,
    "start_time": "2021-12-23T16:04:21.524Z"
   },
   {
    "duration": 13672,
    "start_time": "2021-12-23T16:04:21.530Z"
   },
   {
    "duration": 1257,
    "start_time": "2021-12-23T16:04:35.204Z"
   },
   {
    "duration": 1784,
    "start_time": "2021-12-23T16:04:36.464Z"
   },
   {
    "duration": 19,
    "start_time": "2021-12-23T16:04:38.250Z"
   }
  ],
  "kernelspec": {
   "display_name": "Python 3 (ipykernel)",
   "language": "python",
   "name": "python3"
  },
  "language_info": {
   "codemirror_mode": {
    "name": "ipython",
    "version": 3
   },
   "file_extension": ".py",
   "mimetype": "text/x-python",
   "name": "python",
   "nbconvert_exporter": "python",
   "pygments_lexer": "ipython3",
   "version": "3.9.5"
  },
  "toc": {
   "base_numbering": 1,
   "nav_menu": {},
   "number_sections": true,
   "sideBar": true,
   "skip_h1_title": true,
   "title_cell": "Содержание",
   "title_sidebar": "Contents",
   "toc_cell": true,
   "toc_position": {
    "height": "calc(100% - 180px)",
    "left": "10px",
    "top": "150px",
    "width": "323.688px"
   },
   "toc_section_display": true,
   "toc_window_display": true
  }
 },
 "nbformat": 4,
 "nbformat_minor": 2
}
