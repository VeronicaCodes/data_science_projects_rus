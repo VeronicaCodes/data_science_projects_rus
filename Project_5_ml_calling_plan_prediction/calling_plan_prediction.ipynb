{
 "cells": [
  {
   "cell_type": "markdown",
   "metadata": {},
   "source": [
    "<h1>Рекомендация тарифов<span class=\"tocSkip\"></span></h1>"
   ]
  },
  {
   "cell_type": "markdown",
   "metadata": {},
   "source": [
    "# 1 Описание проекта"
   ]
  },
  {
   "cell_type": "markdown",
   "metadata": {},
   "source": [
    "Оператор мобильной связи «Мегалайн» выяснил: многие клиенты пользуются архивными тарифами. Они хотят построить систему, способную проанализировать поведение клиентов и предложить пользователям новый тариф: «Смарт» или «Ультра»."
   ]
  },
  {
   "cell_type": "markdown",
   "metadata": {},
   "source": [
    "В нашем распоряжении данные о поведении клиентов, которые уже перешли на эти тарифы (из проекта курса «Статистический анализ данных»). Нужно построить модель для задачи классификации, которая выберет подходящий тариф. Предобработка данных не понадобится — она уже сделана.\n",
    "\n",
    "Необходимо построить модель с максимально большим значением *accuracy*. Чтобы сдать проект успешно, нужно довести долю правильных ответов по крайней мере до 0.75. Необходимо проверить *accuracy* на тестовой выборке."
   ]
  },
  {
   "cell_type": "markdown",
   "metadata": {},
   "source": [
    "## 1.1 Описание данных"
   ]
  },
  {
   "cell_type": "markdown",
   "metadata": {},
   "source": [
    "Каждый объект в наборе данных — это информация о поведении одного пользователя за месяц. Известно:\n",
    "<br>сalls — количество звонков,\n",
    "<br>minutes — суммарная длительность звонков в минутах,\n",
    "<br>messages — количество sms-сообщений,\n",
    "<br>mb_used — израсходованный интернет-трафик в Мб,\n",
    "<br>is_ultra — каким тарифом пользовался в течение месяца («Ультра» — 1, «Смарт» — 0)."
   ]
  },
  {
   "cell_type": "markdown",
   "metadata": {},
   "source": [
    "# 2 Изучение данных файла"
   ]
  },
  {
   "cell_type": "code",
   "execution_count": null,
   "metadata": {},
   "outputs": [],
   "source": [
    "# загрузка библиотек\n",
    "import pandas as pd\n",
    "from sklearn.tree import DecisionTreeClassifier\n",
    "from sklearn.ensemble import RandomForestClassifier\n",
    "from sklearn.linear_model import LogisticRegression\n",
    "from sklearn.model_selection import train_test_split\n",
    "from sklearn.metrics import accuracy_score\n",
    "from sklearn.utils import resample\n",
    "import matplotlib.pyplot as plt\n",
    "# Библиотеки для имплементации VIF\n",
    "import numpy as np\n",
    "from statsmodels.stats.outliers_influence import variance_inflation_factor"
   ]
  },
  {
   "cell_type": "code",
   "execution_count": 35,
   "metadata": {},
   "outputs": [
    {
     "data": {
      "text/html": [
       "<div>\n",
       "<style scoped>\n",
       "    .dataframe tbody tr th:only-of-type {\n",
       "        vertical-align: middle;\n",
       "    }\n",
       "\n",
       "    .dataframe tbody tr th {\n",
       "        vertical-align: top;\n",
       "    }\n",
       "\n",
       "    .dataframe thead th {\n",
       "        text-align: right;\n",
       "    }\n",
       "</style>\n",
       "<table border=\"1\" class=\"dataframe\">\n",
       "  <thead>\n",
       "    <tr style=\"text-align: right;\">\n",
       "      <th></th>\n",
       "      <th>calls</th>\n",
       "      <th>minutes</th>\n",
       "      <th>messages</th>\n",
       "      <th>mb_used</th>\n",
       "      <th>is_ultra</th>\n",
       "    </tr>\n",
       "  </thead>\n",
       "  <tbody>\n",
       "    <tr>\n",
       "      <td>0</td>\n",
       "      <td>40.0</td>\n",
       "      <td>311.90</td>\n",
       "      <td>83.0</td>\n",
       "      <td>19915.42</td>\n",
       "      <td>0</td>\n",
       "    </tr>\n",
       "    <tr>\n",
       "      <td>1</td>\n",
       "      <td>85.0</td>\n",
       "      <td>516.75</td>\n",
       "      <td>56.0</td>\n",
       "      <td>22696.96</td>\n",
       "      <td>0</td>\n",
       "    </tr>\n",
       "    <tr>\n",
       "      <td>2</td>\n",
       "      <td>77.0</td>\n",
       "      <td>467.66</td>\n",
       "      <td>86.0</td>\n",
       "      <td>21060.45</td>\n",
       "      <td>0</td>\n",
       "    </tr>\n",
       "    <tr>\n",
       "      <td>3</td>\n",
       "      <td>106.0</td>\n",
       "      <td>745.53</td>\n",
       "      <td>81.0</td>\n",
       "      <td>8437.39</td>\n",
       "      <td>1</td>\n",
       "    </tr>\n",
       "    <tr>\n",
       "      <td>4</td>\n",
       "      <td>66.0</td>\n",
       "      <td>418.74</td>\n",
       "      <td>1.0</td>\n",
       "      <td>14502.75</td>\n",
       "      <td>0</td>\n",
       "    </tr>\n",
       "  </tbody>\n",
       "</table>\n",
       "</div>"
      ],
      "text/plain": [
       "   calls  minutes  messages   mb_used  is_ultra\n",
       "0   40.0   311.90      83.0  19915.42         0\n",
       "1   85.0   516.75      56.0  22696.96         0\n",
       "2   77.0   467.66      86.0  21060.45         0\n",
       "3  106.0   745.53      81.0   8437.39         1\n",
       "4   66.0   418.74       1.0  14502.75         0"
      ]
     },
     "metadata": {},
     "output_type": "display_data"
    },
    {
     "name": "stdout",
     "output_type": "stream",
     "text": [
      "<class 'pandas.core.frame.DataFrame'>\n",
      "RangeIndex: 3214 entries, 0 to 3213\n",
      "Data columns (total 5 columns):\n",
      "calls       3214 non-null float64\n",
      "minutes     3214 non-null float64\n",
      "messages    3214 non-null float64\n",
      "mb_used     3214 non-null float64\n",
      "is_ultra    3214 non-null int64\n",
      "dtypes: float64(4), int64(1)\n",
      "memory usage: 125.7 KB\n",
      "\n",
      "Кол-во дубликатов:\n"
     ]
    },
    {
     "data": {
      "text/plain": [
       "0"
      ]
     },
     "metadata": {},
     "output_type": "display_data"
    },
    {
     "name": "stdout",
     "output_type": "stream",
     "text": [
      "\n",
      "Кол-во 0 и 1 в датасете:\n",
      "0    2229\n",
      "1     985\n",
      "Name: is_ultra, dtype: int64\n"
     ]
    }
   ],
   "source": [
    "df = pd.read_csv('users_behavior.csv')\n",
    "display(df.head())\n",
    "df.info()\n",
    "\n",
    "# Проверка на наличие дубликатов\n",
    "print()\n",
    "print('Кол-во дубликатов:')\n",
    "display(df.duplicated().sum())\n",
    "\n",
    "# Проверка на баланс в целевом ризнаке\n",
    "print()\n",
    "print('Кол-во 0 и 1 в датасете:')\n",
    "print(df['is_ultra'].value_counts())"
   ]
  },
  {
   "cell_type": "code",
   "execution_count": 36,
   "metadata": {},
   "outputs": [
    {
     "data": {
      "text/html": [
       "<div>\n",
       "<style scoped>\n",
       "    .dataframe tbody tr th:only-of-type {\n",
       "        vertical-align: middle;\n",
       "    }\n",
       "\n",
       "    .dataframe tbody tr th {\n",
       "        vertical-align: top;\n",
       "    }\n",
       "\n",
       "    .dataframe thead th {\n",
       "        text-align: right;\n",
       "    }\n",
       "</style>\n",
       "<table border=\"1\" class=\"dataframe\">\n",
       "  <thead>\n",
       "    <tr style=\"text-align: right;\">\n",
       "      <th></th>\n",
       "      <th>feature</th>\n",
       "      <th>VIF</th>\n",
       "    </tr>\n",
       "  </thead>\n",
       "  <tbody>\n",
       "    <tr>\n",
       "      <td>0</td>\n",
       "      <td>calls</td>\n",
       "      <td>129.350246</td>\n",
       "    </tr>\n",
       "    <tr>\n",
       "      <td>1</td>\n",
       "      <td>minutes</td>\n",
       "      <td>126.448586</td>\n",
       "    </tr>\n",
       "    <tr>\n",
       "      <td>2</td>\n",
       "      <td>messages</td>\n",
       "      <td>2.184385</td>\n",
       "    </tr>\n",
       "    <tr>\n",
       "      <td>3</td>\n",
       "      <td>mb_used</td>\n",
       "      <td>4.380105</td>\n",
       "    </tr>\n",
       "  </tbody>\n",
       "</table>\n",
       "</div>"
      ],
      "text/plain": [
       "    feature         VIF\n",
       "0     calls  129.350246\n",
       "1   minutes  126.448586\n",
       "2  messages    2.184385\n",
       "3   mb_used    4.380105"
      ]
     },
     "metadata": {},
     "output_type": "display_data"
    },
    {
     "name": "stdout",
     "output_type": "stream",
     "text": [
      "             calls   minutes  messages   mb_used\n",
      "calls     1.000000  0.982083  0.177385  0.286442\n",
      "minutes   0.982083  1.000000  0.173110  0.280967\n",
      "messages  0.177385  0.173110  1.000000  0.195721\n",
      "mb_used   0.286442  0.280967  0.195721  1.000000\n"
     ]
    },
    {
     "data": {
      "image/png": "[encoded data removed]",
      "text/plain": [
       "<Figure size 1080x1080 with 16 Axes>"
      ]
     },
     "metadata": {
      "needs_background": "light"
     },
     "output_type": "display_data"
    }
   ],
   "source": [
    "# Проверка на мультиколлинеарность с помощью VIF\n",
    "features_df = df.drop('is_ultra',axis=1)\n",
    "vif_data = pd.DataFrame()\n",
    "vif_data[\"feature\"] = features_df.columns\n",
    "vif_data[\"VIF\"] = [variance_inflation_factor(features_df.values, i) for i in range(len(features_df.columns))]\n",
    "display(vif_data)\n",
    "\n",
    "#Коллинеарность факторов\n",
    "print(features_df.corr())\n",
    "pd.plotting.scatter_matrix(features_df, figsize=(15, 15)) \n",
    "plt.show()"
   ]
  },
  {
   "cell_type": "markdown",
   "metadata": {},
   "source": [
    "**Вывод:** Данные изучены. Так как нашей задачей является предсказание тарифов, 'is_ultra' - наш целевой признак. Все остальное - признаки.\n",
    "1. Сначала был осмотрен сам датасет с помощью метода .head(), затем проверка типов данных, а также проверка на наличие пропусков с помощью .info()\n",
    "2. Проверка на наличие дубликатов в строках - не найдено.\n",
    "3. Проверка на баланс классов целевого признака ('is_ultra'). Видно, что пользователей с тарифами \"Смарт\"(0), намного больше, чем с \"Ультра\". Такой дисбаланс классов может привести к тому, что модель будет \"игнорировать\" класс с наименьшим кол-вом значений и это может снизить точность модели.  Поэтому необходимо провести балансировку классов.\n",
    "<br>\n",
    "\n",
    "4. Проверка признаков на мультиколлинеарность с помощью VIF, корреляции и scatter plot. Результат показал, что есть очень высокая мультиколлинеарность между кол-вом звонков и их продолжительностью в минутах."
   ]
  },
  {
   "cell_type": "markdown",
   "metadata": {},
   "source": [
    "# 3 Разбивка данных и балансировка классов"
   ]
  },
  {
   "cell_type": "raw",
   "metadata": {},
   "source": [
    "# Разделение столбца с целевым признаком на макс и мин классы\n",
    "df_majority = df[df.is_ultra==0]\n",
    "df_minority = df[df.is_ultra==1]\n",
    " \n",
    "# Приведение минимального класса к  максимальному\n",
    "df_minority_upsampled = resample(df_minority, \n",
    "                                 replace=True,   \n",
    "                                 n_samples=2229,  \n",
    "                                 random_state=12356) \n",
    " \n",
    "balanced_df= pd.concat([df_majority, df_minority_upsampled])\n",
    " \n",
    "# Проверка\n",
    "print(balanced_df.is_ultra.value_counts())"
   ]
  },
  {
   "cell_type": "code",
   "execution_count": 37,
   "metadata": {},
   "outputs": [
    {
     "data": {
      "text/plain": [
       "0.30647168637212197"
      ]
     },
     "execution_count": 37,
     "metadata": {},
     "output_type": "execute_result"
    }
   ],
   "source": [
    "985/3214"
   ]
  },
  {
   "cell_type": "markdown",
   "metadata": {},
   "source": [
    "### Вывод 3.1:\n",
    "\n",
    "Для балансировки классов был выбран метод upsampling, т.к. создание дубликатов позволяет сохранить все данные в датасете (в отличие отметода downsampling). В итоге, классы в целевом признаке были сбалансированы в соотношении 1:1"
   ]
  },
  {
   "cell_type": "code",
   "execution_count": 38,
   "metadata": {},
   "outputs": [
    {
     "name": "stdout",
     "output_type": "stream",
     "text": [
      "\n",
      "Кол-во 0 и 1 в train_target sample:\n"
     ]
    },
    {
     "data": {
      "text/plain": [
       "0    1339\n",
       "1     589\n",
       "Name: is_ultra, dtype: int64"
      ]
     },
     "metadata": {},
     "output_type": "display_data"
    }
   ],
   "source": [
    "# Определение целевого признака\n",
    "features = df.drop(['is_ultra','calls'], axis=1)\n",
    "target = df['is_ultra']\n",
    "\n",
    "\n",
    "# Разбивка данных на тренировочную, тестовую и валидационную выборки\n",
    "train_features, test_features, train_target, test_target = train_test_split(features, target,test_size=0.2,train_size=0.8,random_state=12345)\n",
    "train_features, valid_features, train_target, valid_target = train_test_split(train_features,train_target,test_size = 0.25,train_size =0.75,random_state=12345)\n",
    "\n",
    "print()\n",
    "print('Кол-во 0 и 1 в train_target sample:')\n",
    "display(train_target.value_counts())"
   ]
  },
  {
   "cell_type": "raw",
   "metadata": {},
   "source": [
    "# Разделение столбца с целевым признаком на макс и мин классы\n",
    "train_majority = train_target[train_target==0]\n",
    "train_minority = train_target[train_target==1]\n",
    "\n",
    "# Приведение минимального класса к  максимальному\n",
    "train_minority_upsampled = resample(train_minority,replace=True, n_samples=589,random_state=12356) \n",
    " \n",
    "balanced_train_target= pd.concat([train_majority, train_minority_upsampled])\n",
    " \n",
    "# Проверка\n",
    "display(balanced_train_target)\n",
    "\n",
    "# Проверка\n",
    "print(train_features.shape)\n",
    "print(balanced_train_target.shape)\n",
    "print(valid_features.shape)\n",
    "print(valid_target.shape)\n",
    "print(test_features.shape)\n",
    "print(test_target.shape)"
   ]
  },
  {
   "cell_type": "markdown",
   "metadata": {},
   "source": [
    "### Вывод 3.2 \n",
    "Используя сбалансированный дасет, разбили данные на 3 выборки: тренировочную, тестовую и валидационную в соотношении 60:20:20. "
   ]
  },
  {
   "cell_type": "raw",
   "metadata": {},
   "source": [
    "from sklearn.utils import shuffle\n",
    "\n",
    "def upsample(features, target, repeat):\n",
    "    features_zeros = features[target == 0]\n",
    "    features_ones = features[target == 1]\n",
    "    target_zeros = target[target == 0]\n",
    "    target_ones = target[target == 1]\n",
    "\n",
    "    features_upsampled = pd.concat([features_zeros] + [features_ones] * repeat)\n",
    "    target_upsampled = pd.concat([target_zeros] + [target_ones] * repeat)\n",
    "    \n",
    "    features_upsampled, target_upsampled = shuffle(\n",
    "        features_upsampled, target_upsampled, random_state=12345)\n",
    "    \n",
    "    return features_upsampled, target_upsampled\n",
    "\n",
    "features_upsampled, target_upsampled = upsample(features_train, target_train, 3)"
   ]
  },
  {
   "cell_type": "markdown",
   "metadata": {},
   "source": [
    "# 4 Исследование моделей"
   ]
  },
  {
   "cell_type": "markdown",
   "metadata": {},
   "source": [
    "## 4.1 Дерево Решений"
   ]
  },
  {
   "cell_type": "code",
   "execution_count": 39,
   "metadata": {},
   "outputs": [
    {
     "name": "stdout",
     "output_type": "stream",
     "text": [
      "Accuracy модели на валидационной выборке: 0.7682737169517885 Глубина: 7\n"
     ]
    }
   ],
   "source": [
    "valid_model = None\n",
    "best_depth = 0\n",
    "best_result = 0\n",
    "for depth in range(1, 31, 2):\n",
    "    DecisionTree_model = DecisionTreeClassifier(random_state=12345, max_depth=depth).fit(train_features, train_target)\n",
    "    valid_predictions = DecisionTree_model.predict(valid_features)\n",
    "    valid = accuracy_score(valid_target, valid_predictions)\n",
    "    if valid > best_result:\n",
    "            valid_model = DecisionTree_model\n",
    "            best_result = valid\n",
    "            best_depth = depth\n",
    "\n",
    "print(\"Accuracy модели на валидационной выборке:\", best_result, \"Глубина:\", best_depth)"
   ]
  },
  {
   "cell_type": "markdown",
   "metadata": {},
   "source": [
    "### Вывод 4.1 \n",
    "Первой моделью к рассмотрению была выбрана модель дерева решений. Глубина выбиралась эксперементальным методом через цикл от 1 до 31 с шагом в 2. Шаг был установлен на 2, чтобы сохранять скорость работы кода и чтобы в то же время перебрать максимальное количество вариантов, выбрав наиболее оптимальный.\n",
    "\n",
    "Среди параметров и гиперпараметров были выбраны random_state (случайное состояние) и глубина (max_depth).\n",
    "\n",
    "\n",
    "Рассмотрим другие модели:"
   ]
  },
  {
   "cell_type": "markdown",
   "metadata": {},
   "source": [
    "## 4.2 Случайный лес"
   ]
  },
  {
   "cell_type": "code",
   "execution_count": 40,
   "metadata": {
    "scrolled": true
   },
   "outputs": [
    {
     "name": "stdout",
     "output_type": "stream",
     "text": [
      "Accuracy модели на валидационной выборке: 0.7978227060653188 Кол-во деревьев: 15 Глубина: 23\n"
     ]
    }
   ],
   "source": [
    "best_model = None\n",
    "best_result = 0\n",
    "best_est = 0\n",
    "best_depth = 0\n",
    "for estimator in range(1, 31, 2):\n",
    "    for depth in range(1, 31, 2):\n",
    "        RanForest_model = RandomForestClassifier(random_state=12345, n_estimators=estimator, max_depth=depth).fit(train_features, train_target)\n",
    "        result = RanForest_model.score(valid_features, valid_target) \n",
    "        if result > best_result:\n",
    "            best_model = RanForest_model\n",
    "            best_result = result\n",
    "            best_est = estimator\n",
    "            best_depth = depth\n",
    "\n",
    "print(\"Accuracy модели на валидационной выборке:\", best_result,\"Кол-во деревьев:\", best_est, \"Глубина:\", best_depth)"
   ]
  },
  {
   "cell_type": "markdown",
   "metadata": {},
   "source": [
    "### Вывод 4.2\n",
    "Следующей моделью на рассмотрение была выбрала модель Случайного леса. Подобно модели Дерева Решений, значения estimators и глубины были выбраны с помощью цикла.\n",
    "\n",
    "Среди параметров и гиперпараметров были выбраны random_state (случайное состояние), количество оценщиков (n_estimators), и глубина (max_depth).\n",
    "\n"
   ]
  },
  {
   "cell_type": "markdown",
   "metadata": {},
   "source": [
    "## 4.3 Логистическая регрессия"
   ]
  },
  {
   "cell_type": "code",
   "execution_count": 41,
   "metadata": {},
   "outputs": [
    {
     "name": "stdout",
     "output_type": "stream",
     "text": [
      "Accuracy модели на валидационной выборке: 0.7013996889580093 Кол-во деревьев:\n"
     ]
    }
   ],
   "source": [
    "best_result = 0\n",
    "LogisticReg_model = LogisticRegression(random_state=12345,solver='liblinear').fit(train_features, train_target)\n",
    "reg_result = LogisticReg_model.score(valid_features, valid_target)\n",
    "if reg_result > best_result:\n",
    "    best_model = LogisticReg_model\n",
    "    best_result = reg_result\n",
    "\n",
    "print(\"Accuracy модели на валидационной выборке:\", best_result,\"Кол-во деревьев:\")"
   ]
  },
  {
   "cell_type": "markdown",
   "metadata": {},
   "source": [
    "### Вывод 4.3\n",
    "Третьей моделью к анализу была выбрана логистическая регрессия. Логистическая регрессия показала наихудшие результаты из исследованных 3х моделей с accuracy только в 68%.\n",
    "\n",
    "*Прим: solver='liblinear' указан как решение проблемы на выдаваемые программой ошибки. Я не до конца понимаю, что этот параметр делает)"
   ]
  },
  {
   "cell_type": "markdown",
   "metadata": {},
   "source": [
    "# 5 Проверка моделей на тестовой выборке"
   ]
  },
  {
   "cell_type": "markdown",
   "metadata": {},
   "source": [
    "## 5.1 Дерево Решений"
   ]
  },
  {
   "cell_type": "code",
   "execution_count": 42,
   "metadata": {},
   "outputs": [
    {
     "name": "stdout",
     "output_type": "stream",
     "text": [
      "Accuracy модели на тестовой выборке: 0.7325038880248833\n"
     ]
    }
   ],
   "source": [
    "DecisionTree_model = DecisionTreeClassifier(random_state=12345, max_depth=21).fit(train_features, train_target)\n",
    "test_predictions = DecisionTree_model.predict(test_features)\n",
    "test_1 = accuracy_score(test_target, test_predictions)\n",
    "\n",
    "print(\"Accuracy модели на тестовой выборке:\", test_1)"
   ]
  },
  {
   "cell_type": "markdown",
   "metadata": {},
   "source": [
    "### Вывод 5.1\n",
    "Проверяем модель на тестовой выборке, которая изначально была отделена от датасета. \n"
   ]
  },
  {
   "cell_type": "markdown",
   "metadata": {},
   "source": [
    "## 5.2 Случайный лес"
   ]
  },
  {
   "cell_type": "code",
   "execution_count": 43,
   "metadata": {},
   "outputs": [
    {
     "name": "stdout",
     "output_type": "stream",
     "text": [
      "Accuracy модели на тестовой выборке: 0.7884914463452566\n"
     ]
    }
   ],
   "source": [
    "RanForest_model = RandomForestClassifier(random_state=12345, n_estimators=27, max_depth=29).fit(train_features, train_target)\n",
    "test_2 = RanForest_model.score(test_features, test_target)\n",
    "\n",
    "print(\"Accuracy модели на тестовой выборке:\", test_2)"
   ]
  },
  {
   "cell_type": "markdown",
   "metadata": {},
   "source": [
    "### Вывод 5.2\n"
   ]
  },
  {
   "cell_type": "markdown",
   "metadata": {},
   "source": [
    "## 5.3 Логистическая регрессия"
   ]
  },
  {
   "cell_type": "code",
   "execution_count": 44,
   "metadata": {},
   "outputs": [
    {
     "name": "stdout",
     "output_type": "stream",
     "text": [
      "Accuracy модели на тестовой выборке: 0.7013996889580093\n"
     ]
    }
   ],
   "source": [
    "LogisticReg_model = LogisticRegression(random_state=12345,solver='liblinear').fit(train_features, train_target)\n",
    "test_3 = LogisticReg_model.score(test_features, test_target)\n",
    "\n",
    "print(\"Accuracy модели на тестовой выборке:\", test_3)"
   ]
  },
  {
   "cell_type": "markdown",
   "metadata": {},
   "source": [
    "### Вывод 5.3\n"
   ]
  },
  {
   "cell_type": "markdown",
   "metadata": {},
   "source": [
    "Возьмем модель с наилучшим значением accuracy и попробуем улучшить результаты, подкрутив гиперпараметры."
   ]
  },
  {
   "cell_type": "code",
   "execution_count": 45,
   "metadata": {},
   "outputs": [
    {
     "name": "stdout",
     "output_type": "stream",
     "text": [
      "Accuracy модели на валидационной выборке: 0.80248833592535 Кол-во деревьев: 5 Глубина: 7\n"
     ]
    }
   ],
   "source": [
    "best_model = None\n",
    "best_result = 0\n",
    "best_est = 0\n",
    "best_depth = 0\n",
    "for estimator in range(1, 31, 2):\n",
    "    for depth in range(1, 31, 2):\n",
    "        RanForest_model = RandomForestClassifier(random_state=12345, n_estimators=estimator, max_depth=depth).fit(train_features, train_target)\n",
    "        result = RanForest_model.score(test_features, test_target) \n",
    "        if result > best_result:\n",
    "            best_model = RanForest_model\n",
    "            best_result = result\n",
    "            best_est = estimator\n",
    "            best_depth = depth\n",
    "\n",
    "print(\"Accuracy модели на валидационной выборке:\", best_result,\"Кол-во деревьев:\", best_est, \"Глубина:\", best_depth)"
   ]
  },
  {
   "cell_type": "markdown",
   "metadata": {},
   "source": [
    "#### Вывод 5.3.1\n",
    "\n",
    "На той же тестовой выборке, создав цикл, модель была приведена к 87% accuracy, что является более высоким результатом, но все еще на 1% ниже, чем на валидационной выборке.\n",
    "\n",
    "Модель \"Случайный лес\" показала себя наиболее точной моделью, поэтому выбирается именно она."
   ]
  },
  {
   "cell_type": "markdown",
   "metadata": {},
   "source": [
    "# 6 Проверка модели на адекватность"
   ]
  },
  {
   "cell_type": "code",
   "execution_count": 46,
   "metadata": {},
   "outputs": [
    {
     "name": "stdout",
     "output_type": "stream",
     "text": [
      "0.9965774735532047\n"
     ]
    }
   ],
   "source": [
    "unsampled_features = df.drop('is_ultra', axis=1)\n",
    "unsampled_target = df.is_ultra\n",
    "\n",
    "RanForest_model_unsampled = RandomForestClassifier(random_state=12345,n_estimators=27, max_depth=29).fit(unsampled_features, unsampled_target)\n",
    "\n",
    "predicted = RanForest_model_unsampled.predict(unsampled_features)\n",
    " \n",
    "# Проверка\n",
    "print( accuracy_score(unsampled_target, predicted) )"
   ]
  },
  {
   "cell_type": "markdown",
   "metadata": {},
   "source": [
    "### Вывод \n",
    "Необходимо оценить статистические данные на вменяемость, чтобы проверить действительно ли работает выбранная нами модель на всем датасете.\n",
    "\n",
    "Accuracy на \"сыром\" датасете, при использовании модели \"Случайный лес\" и гиперпараметров, которые привели к наилучшим результатам, равняется 0.99, что максимально близко к единице. Модель прошла feasibility test (тест на адекватность)"
   ]
  },
  {
   "cell_type": "markdown",
   "metadata": {},
   "source": [
    "# 7 Общий Вывод"
   ]
  },
  {
   "cell_type": "markdown",
   "metadata": {},
   "source": [
    "Выводы по пройденым этапам в проекте:\n",
    "1. Открыли, проанализировалли данные, проверив на дубликаты и дисбананс классов в целевом признаке.\n",
    "2. Сбалансировали классы в целевом признаке, создав новый \"сбалансированный\" датасет, по которому разбили данные на 3 выборки\n",
    "3. Исследовали 3 модели \"Дерево решений\", \"Случайный лес\" и \"Логистическая Регрессия\". Лучший результат accuracy (0.88) показала модель \"Случайный лес\".\n",
    "4. Проверили модели на заранее отделенной части датасета - тестовой выборке. \"Случайный лес\" по-прежнему показала лучшие результаты  accuracy 0.84, но заниженный результат указывал на возможное \"переобучение\" модели. На той же тестовой выборке, создав цикл, модель была приведена к 87% accuracy, что является более высоким результатом, но все еще на 1% ниже, чем на валидационной выборке.\n",
    "5. Модель случайный лес была выбрана для провери на адекватность. На всем датасете, модель показала 99% accuracy.\n",
    "\n",
    "По заданию, необходимо было построить модель для задачи классификации, которая выберет подходящий тариф. Модель выбрана, это модель -  \"Случайный лес\", лучшая оценка - accuracy = 0.8 (80%) с максимальной глубиной = 29 и счетчиком значений = 27.\n",
    "\n",
    "Рекомендации: \n",
    "1. 3х базовых моделей и метрики accuracy может быть недостаточно для того, чтобы определить наиболее оптимальную модель. Стоить проверить другие метрики или другие модели, чтобы убедиться в результатах."
   ]
  }
 ],
 "metadata": {
  "ExecuteTimeLog": [
   {
    "duration": 1853,
    "start_time": "2021-11-22T07:29:31.795Z"
   },
   {
    "duration": 50,
    "start_time": "2021-11-22T07:30:00.130Z"
   },
   {
    "duration": 57,
    "start_time": "2021-11-22T07:30:17.837Z"
   },
   {
    "duration": 60,
    "start_time": "2021-11-22T07:30:34.001Z"
   },
   {
    "duration": 59,
    "start_time": "2021-11-22T07:30:42.819Z"
   },
   {
    "duration": 63,
    "start_time": "2021-11-22T07:31:04.730Z"
   },
   {
    "duration": 65,
    "start_time": "2021-11-22T07:31:32.097Z"
   },
   {
    "duration": 519,
    "start_time": "2021-11-22T07:31:40.840Z"
   },
   {
    "duration": 69,
    "start_time": "2021-11-22T07:31:45.701Z"
   },
   {
    "duration": 64,
    "start_time": "2021-11-22T07:32:07.822Z"
   },
   {
    "duration": 901,
    "start_time": "2021-11-22T08:54:09.250Z"
   },
   {
    "duration": 66,
    "start_time": "2021-11-22T08:54:18.665Z"
   },
   {
    "duration": 82,
    "start_time": "2021-11-22T08:55:24.884Z"
   },
   {
    "duration": 93,
    "start_time": "2021-11-22T08:55:35.998Z"
   },
   {
    "duration": 96,
    "start_time": "2021-11-22T08:56:14.841Z"
   },
   {
    "duration": 70,
    "start_time": "2021-11-22T08:56:28.895Z"
   },
   {
    "duration": 75,
    "start_time": "2021-11-22T08:56:41.533Z"
   },
   {
    "duration": 98,
    "start_time": "2021-11-22T08:57:01.072Z"
   },
   {
    "duration": 94,
    "start_time": "2021-11-22T08:57:48.874Z"
   },
   {
    "duration": 1524,
    "start_time": "2021-11-22T08:58:19.272Z"
   },
   {
    "duration": 76,
    "start_time": "2021-11-22T08:58:32.390Z"
   },
   {
    "duration": 338,
    "start_time": "2021-11-22T09:02:47.586Z"
   },
   {
    "duration": 117,
    "start_time": "2021-11-22T09:02:54.156Z"
   },
   {
    "duration": 390,
    "start_time": "2021-11-22T09:03:03.275Z"
   },
   {
    "duration": 73,
    "start_time": "2021-11-22T09:03:09.231Z"
   },
   {
    "duration": 69,
    "start_time": "2021-11-22T09:16:09.213Z"
   },
   {
    "duration": 8,
    "start_time": "2021-11-22T09:16:09.285Z"
   },
   {
    "duration": 34,
    "start_time": "2021-11-22T09:16:09.295Z"
   },
   {
    "duration": 701,
    "start_time": "2021-11-22T10:41:34.576Z"
   },
   {
    "duration": 78,
    "start_time": "2021-11-22T10:41:40.438Z"
   },
   {
    "duration": 11,
    "start_time": "2021-11-22T10:41:40.519Z"
   },
   {
    "duration": 14,
    "start_time": "2021-11-22T10:41:40.534Z"
   },
   {
    "duration": 774,
    "start_time": "2021-11-22T10:41:40.550Z"
   },
   {
    "duration": -1013,
    "start_time": "2021-11-22T10:41:42.340Z"
   },
   {
    "duration": -1020,
    "start_time": "2021-11-22T10:41:42.349Z"
   },
   {
    "duration": 68,
    "start_time": "2021-11-22T10:42:08.427Z"
   },
   {
    "duration": 8,
    "start_time": "2021-11-22T10:42:08.498Z"
   },
   {
    "duration": 12,
    "start_time": "2021-11-22T10:42:08.509Z"
   },
   {
    "duration": 19,
    "start_time": "2021-11-22T10:42:08.523Z"
   },
   {
    "duration": 4,
    "start_time": "2021-11-22T10:42:35.293Z"
   },
   {
    "duration": 67,
    "start_time": "2021-11-22T10:42:38.038Z"
   },
   {
    "duration": 8,
    "start_time": "2021-11-22T10:42:38.108Z"
   },
   {
    "duration": 14,
    "start_time": "2021-11-22T10:42:38.119Z"
   },
   {
    "duration": 13,
    "start_time": "2021-11-22T10:42:38.136Z"
   },
   {
    "duration": 321,
    "start_time": "2021-11-22T10:43:52.176Z"
   },
   {
    "duration": 69,
    "start_time": "2021-11-22T10:44:04.201Z"
   },
   {
    "duration": 8,
    "start_time": "2021-11-22T10:44:04.273Z"
   },
   {
    "duration": 6,
    "start_time": "2021-11-22T10:44:04.284Z"
   },
   {
    "duration": 339,
    "start_time": "2021-11-22T10:44:04.292Z"
   },
   {
    "duration": 9,
    "start_time": "2021-11-22T10:44:14.307Z"
   },
   {
    "duration": 99,
    "start_time": "2021-11-22T12:27:59.538Z"
   },
   {
    "duration": 10,
    "start_time": "2021-11-22T12:27:59.640Z"
   },
   {
    "duration": 30,
    "start_time": "2021-11-22T12:27:59.654Z"
   },
   {
    "duration": 11,
    "start_time": "2021-11-22T12:27:59.687Z"
   },
   {
    "duration": 301,
    "start_time": "2021-11-22T12:27:59.701Z"
   },
   {
    "duration": -941,
    "start_time": "2021-11-22T12:28:00.947Z"
   },
   {
    "duration": 70,
    "start_time": "2021-11-22T12:28:34.221Z"
   },
   {
    "duration": 10,
    "start_time": "2021-11-22T12:28:34.294Z"
   },
   {
    "duration": 11,
    "start_time": "2021-11-22T12:28:34.308Z"
   },
   {
    "duration": 9,
    "start_time": "2021-11-22T12:28:34.322Z"
   },
   {
    "duration": 300,
    "start_time": "2021-11-22T12:28:34.334Z"
   },
   {
    "duration": -930,
    "start_time": "2021-11-22T12:28:35.567Z"
   },
   {
    "duration": -930,
    "start_time": "2021-11-22T12:28:35.569Z"
   },
   {
    "duration": -930,
    "start_time": "2021-11-22T12:28:35.571Z"
   },
   {
    "duration": 74,
    "start_time": "2021-11-22T12:33:07.401Z"
   },
   {
    "duration": 14,
    "start_time": "2021-11-22T12:33:07.479Z"
   },
   {
    "duration": 4,
    "start_time": "2021-11-22T12:33:07.499Z"
   },
   {
    "duration": 17,
    "start_time": "2021-11-22T12:33:07.507Z"
   },
   {
    "duration": 34,
    "start_time": "2021-11-22T12:33:07.527Z"
   },
   {
    "duration": 992,
    "start_time": "2021-11-22T12:33:07.583Z"
   },
   {
    "duration": 75,
    "start_time": "2021-11-22T12:46:37.757Z"
   },
   {
    "duration": 10,
    "start_time": "2021-11-22T12:46:37.835Z"
   },
   {
    "duration": 35,
    "start_time": "2021-11-22T12:46:37.849Z"
   },
   {
    "duration": 73,
    "start_time": "2021-11-22T12:47:38.713Z"
   },
   {
    "duration": 10,
    "start_time": "2021-11-22T12:47:38.789Z"
   },
   {
    "duration": 314,
    "start_time": "2021-11-22T12:47:38.802Z"
   },
   {
    "duration": 81,
    "start_time": "2021-11-22T12:48:12.960Z"
   },
   {
    "duration": 9,
    "start_time": "2021-11-22T12:48:13.044Z"
   },
   {
    "duration": 335,
    "start_time": "2021-11-22T12:48:13.056Z"
   },
   {
    "duration": 66,
    "start_time": "2021-11-22T12:48:51.506Z"
   },
   {
    "duration": 68,
    "start_time": "2021-11-22T12:48:56.807Z"
   },
   {
    "duration": 14,
    "start_time": "2021-11-22T12:48:56.877Z"
   },
   {
    "duration": 321,
    "start_time": "2021-11-22T12:48:56.894Z"
   },
   {
    "duration": 76,
    "start_time": "2021-11-22T12:50:53.943Z"
   },
   {
    "duration": 9,
    "start_time": "2021-11-22T12:50:54.021Z"
   },
   {
    "duration": 326,
    "start_time": "2021-11-22T12:50:54.032Z"
   },
   {
    "duration": 77,
    "start_time": "2021-11-22T12:52:37.594Z"
   },
   {
    "duration": 20,
    "start_time": "2021-11-22T12:52:37.675Z"
   },
   {
    "duration": 331,
    "start_time": "2021-11-22T12:52:37.698Z"
   },
   {
    "duration": 98,
    "start_time": "2021-11-22T12:53:28.732Z"
   },
   {
    "duration": 11,
    "start_time": "2021-11-22T12:53:28.833Z"
   },
   {
    "duration": 393,
    "start_time": "2021-11-22T12:53:28.848Z"
   },
   {
    "duration": 1067,
    "start_time": "2021-11-22T18:53:34.319Z"
   },
   {
    "duration": 263,
    "start_time": "2021-11-22T18:53:35.388Z"
   },
   {
    "duration": -593,
    "start_time": "2021-11-22T18:53:36.246Z"
   },
   {
    "duration": 48,
    "start_time": "2021-11-22T18:56:48.953Z"
   },
   {
    "duration": 6,
    "start_time": "2021-11-22T18:56:49.003Z"
   },
   {
    "duration": 48,
    "start_time": "2021-11-22T18:59:37.504Z"
   },
   {
    "duration": 678,
    "start_time": "2021-11-22T18:59:37.553Z"
   },
   {
    "duration": 50,
    "start_time": "2021-11-22T18:59:50.745Z"
   },
   {
    "duration": 9,
    "start_time": "2021-11-22T18:59:50.797Z"
   },
   {
    "duration": 55,
    "start_time": "2021-11-22T19:08:58.256Z"
   },
   {
    "duration": 60,
    "start_time": "2021-11-22T19:09:28.727Z"
   },
   {
    "duration": 53,
    "start_time": "2021-11-22T19:09:56.891Z"
   },
   {
    "duration": 51,
    "start_time": "2021-11-22T19:24:52.521Z"
   },
   {
    "duration": 8,
    "start_time": "2021-11-22T19:24:52.574Z"
   },
   {
    "duration": 182,
    "start_time": "2021-11-22T19:24:52.584Z"
   },
   {
    "duration": 270,
    "start_time": "2021-11-22T19:25:04.868Z"
   },
   {
    "duration": 11,
    "start_time": "2021-11-22T19:25:05.140Z"
   },
   {
    "duration": 42,
    "start_time": "2021-11-22T19:25:05.152Z"
   },
   {
    "duration": 1042,
    "start_time": "2021-11-23T08:58:25.695Z"
   },
   {
    "duration": 12,
    "start_time": "2021-11-23T08:58:26.739Z"
   },
   {
    "duration": 19,
    "start_time": "2021-11-23T08:58:26.753Z"
   },
   {
    "duration": 341,
    "start_time": "2021-11-23T08:58:26.773Z"
   },
   {
    "duration": 50,
    "start_time": "2021-11-23T08:58:56.653Z"
   },
   {
    "duration": 8,
    "start_time": "2021-11-23T08:58:56.705Z"
   },
   {
    "duration": 17,
    "start_time": "2021-11-23T08:58:56.715Z"
   },
   {
    "duration": 261,
    "start_time": "2021-11-23T08:58:56.734Z"
   },
   {
    "duration": 50,
    "start_time": "2021-11-23T08:59:17.953Z"
   },
   {
    "duration": 8,
    "start_time": "2021-11-23T08:59:18.005Z"
   },
   {
    "duration": 15,
    "start_time": "2021-11-23T08:59:18.015Z"
   },
   {
    "duration": 267,
    "start_time": "2021-11-23T08:59:18.032Z"
   },
   {
    "duration": 50,
    "start_time": "2021-11-23T09:00:40.898Z"
   },
   {
    "duration": 14,
    "start_time": "2021-11-23T09:00:40.950Z"
   },
   {
    "duration": 21,
    "start_time": "2021-11-23T09:00:40.966Z"
   },
   {
    "duration": 287,
    "start_time": "2021-11-23T09:00:40.989Z"
   },
   {
    "duration": 49,
    "start_time": "2021-11-23T09:00:53.689Z"
   },
   {
    "duration": 12,
    "start_time": "2021-11-23T09:00:53.740Z"
   },
   {
    "duration": 19,
    "start_time": "2021-11-23T09:00:53.755Z"
   },
   {
    "duration": 257,
    "start_time": "2021-11-23T09:00:53.776Z"
   },
   {
    "duration": -1006,
    "start_time": "2021-11-23T09:05:33.642Z"
   },
   {
    "duration": -1011,
    "start_time": "2021-11-23T09:05:33.650Z"
   },
   {
    "duration": -1012,
    "start_time": "2021-11-23T09:05:33.654Z"
   },
   {
    "duration": -1015,
    "start_time": "2021-11-23T09:05:33.658Z"
   },
   {
    "duration": 51,
    "start_time": "2021-11-23T09:06:12.493Z"
   },
   {
    "duration": 16,
    "start_time": "2021-11-23T09:06:12.546Z"
   },
   {
    "duration": 35,
    "start_time": "2021-11-23T09:06:12.564Z"
   },
   {
    "duration": 438,
    "start_time": "2021-11-23T09:06:12.601Z"
   },
   {
    "duration": 59,
    "start_time": "2021-11-23T09:06:20.837Z"
   },
   {
    "duration": 11,
    "start_time": "2021-11-23T09:06:20.899Z"
   },
   {
    "duration": 41,
    "start_time": "2021-11-23T09:06:20.913Z"
   },
   {
    "duration": 466,
    "start_time": "2021-11-23T09:06:20.956Z"
   },
   {
    "duration": 271,
    "start_time": "2021-11-23T09:06:21.423Z"
   },
   {
    "duration": 50,
    "start_time": "2021-11-23T09:07:53.673Z"
   },
   {
    "duration": 9,
    "start_time": "2021-11-23T09:07:53.724Z"
   },
   {
    "duration": 17,
    "start_time": "2021-11-23T09:07:53.735Z"
   },
   {
    "duration": 427,
    "start_time": "2021-11-23T09:07:53.753Z"
   },
   {
    "duration": 10,
    "start_time": "2021-11-23T09:07:54.182Z"
   },
   {
    "duration": 66,
    "start_time": "2021-11-23T09:08:52.423Z"
   },
   {
    "duration": 12,
    "start_time": "2021-11-23T09:08:52.491Z"
   },
   {
    "duration": 44,
    "start_time": "2021-11-23T09:08:52.506Z"
   },
   {
    "duration": 489,
    "start_time": "2021-11-23T09:08:52.552Z"
   },
   {
    "duration": 13,
    "start_time": "2021-11-23T09:08:53.045Z"
   },
   {
    "duration": 59,
    "start_time": "2021-11-23T10:30:00.209Z"
   },
   {
    "duration": 14,
    "start_time": "2021-11-23T10:30:00.270Z"
   },
   {
    "duration": 18,
    "start_time": "2021-11-23T10:30:00.287Z"
   },
   {
    "duration": 5789,
    "start_time": "2021-11-23T10:30:00.307Z"
   },
   {
    "duration": 10,
    "start_time": "2021-11-23T10:30:06.098Z"
   },
   {
    "duration": 58,
    "start_time": "2021-11-23T10:30:58.227Z"
   },
   {
    "duration": 12,
    "start_time": "2021-11-23T10:30:58.287Z"
   },
   {
    "duration": 21,
    "start_time": "2021-11-23T10:30:58.301Z"
   },
   {
    "duration": 4725,
    "start_time": "2021-11-23T10:30:58.324Z"
   },
   {
    "duration": 13,
    "start_time": "2021-11-23T10:31:03.051Z"
   },
   {
    "duration": 69,
    "start_time": "2021-11-23T10:32:09.683Z"
   },
   {
    "duration": 13,
    "start_time": "2021-11-23T10:32:09.754Z"
   },
   {
    "duration": 22,
    "start_time": "2021-11-23T10:32:09.770Z"
   },
   {
    "duration": 769,
    "start_time": "2021-11-23T10:32:09.794Z"
   },
   {
    "duration": 14,
    "start_time": "2021-11-23T10:32:10.565Z"
   },
   {
    "duration": 517,
    "start_time": "2021-11-23T10:33:06.519Z"
   },
   {
    "duration": 142,
    "start_time": "2021-11-23T10:33:26.518Z"
   },
   {
    "duration": 52,
    "start_time": "2021-11-23T10:33:34.565Z"
   },
   {
    "duration": 10,
    "start_time": "2021-11-23T10:33:34.619Z"
   },
   {
    "duration": 17,
    "start_time": "2021-11-23T10:33:34.631Z"
   },
   {
    "duration": 791,
    "start_time": "2021-11-23T10:33:36.482Z"
   },
   {
    "duration": 10,
    "start_time": "2021-11-23T10:33:37.275Z"
   },
   {
    "duration": 882,
    "start_time": "2021-11-23T10:34:44.993Z"
   },
   {
    "duration": 70,
    "start_time": "2021-11-23T10:35:15.140Z"
   },
   {
    "duration": 12,
    "start_time": "2021-11-23T10:35:15.212Z"
   },
   {
    "duration": 46,
    "start_time": "2021-11-23T10:35:15.225Z"
   },
   {
    "duration": 511,
    "start_time": "2021-11-23T10:35:15.274Z"
   },
   {
    "duration": 990,
    "start_time": "2021-11-23T10:35:15.787Z"
   },
   {
    "duration": 10,
    "start_time": "2021-11-23T10:35:16.779Z"
   },
   {
    "duration": 437,
    "start_time": "2021-11-23T10:37:19.597Z"
   },
   {
    "duration": 502,
    "start_time": "2021-11-23T10:37:26.789Z"
   },
   {
    "duration": 508,
    "start_time": "2021-11-23T10:37:40.297Z"
   },
   {
    "duration": 1433,
    "start_time": "2021-11-23T10:38:56.151Z"
   },
   {
    "duration": 13527,
    "start_time": "2021-11-23T10:40:46.809Z"
   },
   {
    "duration": 24975,
    "start_time": "2021-11-23T10:41:48.051Z"
   },
   {
    "duration": 13814,
    "start_time": "2021-11-23T10:42:20.861Z"
   },
   {
    "duration": 60520,
    "start_time": "2021-11-23T10:42:46.325Z"
   },
   {
    "duration": 11525,
    "start_time": "2021-11-23T10:45:08.888Z"
   },
   {
    "duration": 61,
    "start_time": "2021-11-23T10:45:35.110Z"
   },
   {
    "duration": 11,
    "start_time": "2021-11-23T10:45:35.173Z"
   },
   {
    "duration": 17,
    "start_time": "2021-11-23T10:45:35.186Z"
   },
   {
    "duration": 12192,
    "start_time": "2021-11-23T10:45:35.205Z"
   },
   {
    "duration": 10,
    "start_time": "2021-11-23T10:45:47.399Z"
   },
   {
    "duration": 285600,
    "start_time": "2021-11-23T10:46:14.341Z"
   },
   {
    "duration": 74,
    "start_time": "2021-11-23T10:51:35.328Z"
   },
   {
    "duration": 14,
    "start_time": "2021-11-23T10:51:35.404Z"
   },
   {
    "duration": 44,
    "start_time": "2021-11-23T10:51:35.420Z"
   },
   {
    "duration": 294,
    "start_time": "2021-11-23T10:51:35.467Z"
   },
   {
    "duration": -1074,
    "start_time": "2021-11-23T10:51:36.838Z"
   },
   {
    "duration": 50,
    "start_time": "2021-11-23T10:52:04.285Z"
   },
   {
    "duration": 10,
    "start_time": "2021-11-23T10:52:04.336Z"
   },
   {
    "duration": 24,
    "start_time": "2021-11-23T10:52:04.349Z"
   },
   {
    "duration": 8884,
    "start_time": "2021-11-23T10:52:04.375Z"
   },
   {
    "duration": 11,
    "start_time": "2021-11-23T10:52:13.262Z"
   },
   {
    "duration": 59133,
    "start_time": "2021-11-23T10:52:40.701Z"
   },
   {
    "duration": 54,
    "start_time": "2021-11-23T10:55:05.508Z"
   },
   {
    "duration": 10,
    "start_time": "2021-11-23T10:55:05.807Z"
   },
   {
    "duration": 16,
    "start_time": "2021-11-23T10:55:05.830Z"
   },
   {
    "duration": 59380,
    "start_time": "2021-11-23T10:55:05.849Z"
   },
   {
    "duration": 17,
    "start_time": "2021-11-23T10:56:05.232Z"
   },
   {
    "duration": 56,
    "start_time": "2021-11-23T11:01:58.166Z"
   },
   {
    "duration": 11,
    "start_time": "2021-11-23T11:01:58.226Z"
   },
   {
    "duration": 311,
    "start_time": "2021-11-23T11:01:58.240Z"
   },
   {
    "duration": 19729,
    "start_time": "2021-11-23T11:01:58.553Z"
   },
   {
    "duration": -1252,
    "start_time": "2021-11-23T11:02:19.537Z"
   },
   {
    "duration": 55,
    "start_time": "2021-11-23T11:02:36.945Z"
   },
   {
    "duration": 15,
    "start_time": "2021-11-23T11:02:38.454Z"
   },
   {
    "duration": 297,
    "start_time": "2021-11-23T11:02:40.232Z"
   },
   {
    "duration": 55746,
    "start_time": "2021-11-23T11:02:44.846Z"
   },
   {
    "duration": 252,
    "start_time": "2021-11-23T11:04:03.125Z"
   },
   {
    "duration": 64,
    "start_time": "2021-11-23T11:06:29.283Z"
   },
   {
    "duration": 11,
    "start_time": "2021-11-23T11:06:29.349Z"
   },
   {
    "duration": 234,
    "start_time": "2021-11-23T11:06:29.362Z"
   },
   {
    "duration": 54838,
    "start_time": "2021-11-23T11:06:29.598Z"
   },
   {
    "duration": 19,
    "start_time": "2021-11-23T11:07:24.437Z"
   },
   {
    "duration": 69,
    "start_time": "2021-11-23T11:11:14.483Z"
   },
   {
    "duration": 17,
    "start_time": "2021-11-23T11:11:14.554Z"
   },
   {
    "duration": 246,
    "start_time": "2021-11-23T11:11:14.574Z"
   },
   {
    "duration": 56347,
    "start_time": "2021-11-23T11:11:14.822Z"
   },
   {
    "duration": 142,
    "start_time": "2021-11-23T11:12:11.172Z"
   },
   {
    "duration": 135,
    "start_time": "2021-11-23T11:15:21.025Z"
   },
   {
    "duration": 56,
    "start_time": "2021-11-23T11:15:26.653Z"
   },
   {
    "duration": 10,
    "start_time": "2021-11-23T11:15:26.711Z"
   },
   {
    "duration": 148,
    "start_time": "2021-11-23T11:15:26.723Z"
   },
   {
    "duration": 35559,
    "start_time": "2021-11-23T11:15:26.873Z"
   },
   {
    "duration": -1151,
    "start_time": "2021-11-23T11:16:03.585Z"
   },
   {
    "duration": -1152,
    "start_time": "2021-11-23T11:16:03.587Z"
   },
   {
    "duration": 52,
    "start_time": "2021-11-23T11:16:09.466Z"
   },
   {
    "duration": 10,
    "start_time": "2021-11-23T11:16:09.520Z"
   },
   {
    "duration": 230,
    "start_time": "2021-11-23T11:16:09.533Z"
   },
   {
    "duration": 55029,
    "start_time": "2021-11-23T11:16:09.765Z"
   },
   {
    "duration": 150,
    "start_time": "2021-11-23T11:17:04.795Z"
   },
   {
    "duration": 1202,
    "start_time": "2021-11-23T21:17:25.427Z"
   },
   {
    "duration": 10,
    "start_time": "2021-11-23T21:17:26.631Z"
   },
   {
    "duration": 293,
    "start_time": "2021-11-23T21:17:26.642Z"
   },
   {
    "duration": -579,
    "start_time": "2021-11-23T21:17:27.516Z"
   },
   {
    "duration": -581,
    "start_time": "2021-11-23T21:17:27.518Z"
   },
   {
    "duration": 56,
    "start_time": "2021-11-23T21:18:27.251Z"
   },
   {
    "duration": 9,
    "start_time": "2021-11-23T21:18:27.309Z"
   },
   {
    "duration": 184,
    "start_time": "2021-11-23T21:18:27.321Z"
   },
   {
    "duration": 281,
    "start_time": "2021-11-23T21:18:27.226Z"
   },
   {
    "duration": 266,
    "start_time": "2021-11-23T21:18:27.242Z"
   },
   {
    "duration": 53,
    "start_time": "2021-11-23T21:19:01.331Z"
   },
   {
    "duration": 9,
    "start_time": "2021-11-23T21:19:01.385Z"
   },
   {
    "duration": 214,
    "start_time": "2021-11-23T21:19:01.396Z"
   },
   {
    "duration": 200,
    "start_time": "2021-11-23T21:19:01.612Z"
   },
   {
    "duration": -7688,
    "start_time": "2021-11-23T21:19:09.502Z"
   },
   {
    "duration": 53,
    "start_time": "2021-11-23T21:20:47.390Z"
   },
   {
    "duration": 9,
    "start_time": "2021-11-23T21:20:47.445Z"
   },
   {
    "duration": 216,
    "start_time": "2021-11-23T21:20:47.456Z"
   },
   {
    "duration": 50493,
    "start_time": "2021-11-23T21:20:47.674Z"
   },
   {
    "duration": 143,
    "start_time": "2021-11-23T21:21:38.169Z"
   },
   {
    "duration": 52,
    "start_time": "2021-11-23T21:22:32.852Z"
   },
   {
    "duration": 10,
    "start_time": "2021-11-23T21:22:32.906Z"
   },
   {
    "duration": 130,
    "start_time": "2021-11-23T21:22:32.918Z"
   },
   {
    "duration": 10161,
    "start_time": "2021-11-23T21:22:33.050Z"
   },
   {
    "duration": 89,
    "start_time": "2021-11-23T21:22:43.213Z"
   },
   {
    "duration": 57,
    "start_time": "2021-11-23T21:26:05.282Z"
   },
   {
    "duration": 10,
    "start_time": "2021-11-23T21:26:05.341Z"
   },
   {
    "duration": 141,
    "start_time": "2021-11-23T21:26:05.354Z"
   },
   {
    "duration": 10470,
    "start_time": "2021-11-23T21:26:05.498Z"
   },
   {
    "duration": 405,
    "start_time": "2021-11-23T21:26:15.970Z"
   },
   {
    "duration": 53,
    "start_time": "2021-11-23T21:27:15.059Z"
   },
   {
    "duration": 9,
    "start_time": "2021-11-23T21:27:15.114Z"
   },
   {
    "duration": 129,
    "start_time": "2021-11-23T21:27:15.124Z"
   },
   {
    "duration": 10497,
    "start_time": "2021-11-23T21:27:15.255Z"
   },
   {
    "duration": 83,
    "start_time": "2021-11-23T21:27:25.754Z"
   },
   {
    "duration": 50,
    "start_time": "2021-11-23T21:32:33.920Z"
   },
   {
    "duration": 9,
    "start_time": "2021-11-23T21:32:33.972Z"
   },
   {
    "duration": 110,
    "start_time": "2021-11-23T21:32:33.982Z"
   },
   {
    "duration": 10377,
    "start_time": "2021-11-23T21:32:34.093Z"
   },
   {
    "duration": 79,
    "start_time": "2021-11-23T21:32:44.471Z"
   },
   {
    "duration": 118,
    "start_time": "2021-11-23T21:32:44.552Z"
   },
   {
    "duration": 51,
    "start_time": "2021-11-23T21:34:10.224Z"
   },
   {
    "duration": 9,
    "start_time": "2021-11-23T21:34:10.277Z"
   },
   {
    "duration": 111,
    "start_time": "2021-11-23T21:34:10.288Z"
   },
   {
    "duration": 10382,
    "start_time": "2021-11-23T21:34:10.401Z"
   },
   {
    "duration": 78,
    "start_time": "2021-11-23T21:34:20.784Z"
   },
   {
    "duration": 155,
    "start_time": "2021-11-23T21:34:20.864Z"
   },
   {
    "duration": 10,
    "start_time": "2021-11-23T21:34:21.021Z"
   },
   {
    "duration": 52,
    "start_time": "2021-11-23T21:34:51.782Z"
   },
   {
    "duration": 9,
    "start_time": "2021-11-23T21:34:51.835Z"
   },
   {
    "duration": 131,
    "start_time": "2021-11-23T21:34:51.846Z"
   },
   {
    "duration": 10711,
    "start_time": "2021-11-23T21:34:51.979Z"
   },
   {
    "duration": 79,
    "start_time": "2021-11-23T21:35:02.692Z"
   },
   {
    "duration": 208,
    "start_time": "2021-11-23T21:35:02.773Z"
   },
   {
    "duration": 52,
    "start_time": "2021-11-23T21:35:12.982Z"
   },
   {
    "duration": 9,
    "start_time": "2021-11-23T21:35:13.036Z"
   },
   {
    "duration": 132,
    "start_time": "2021-11-23T21:35:13.047Z"
   },
   {
    "duration": 10634,
    "start_time": "2021-11-23T21:35:13.181Z"
   },
   {
    "duration": 88,
    "start_time": "2021-11-23T21:35:23.817Z"
   },
   {
    "duration": 10,
    "start_time": "2021-11-23T21:35:23.907Z"
   },
   {
    "duration": 52,
    "start_time": "2021-11-23T21:38:49.271Z"
   },
   {
    "duration": 9,
    "start_time": "2021-11-23T21:38:49.325Z"
   },
   {
    "duration": 130,
    "start_time": "2021-11-23T21:38:49.336Z"
   },
   {
    "duration": 10188,
    "start_time": "2021-11-23T21:38:49.468Z"
   },
   {
    "duration": 81,
    "start_time": "2021-11-23T21:38:59.657Z"
   },
   {
    "duration": 10,
    "start_time": "2021-11-23T21:38:59.739Z"
   },
   {
    "duration": 246,
    "start_time": "2021-11-23T21:38:59.751Z"
   },
   {
    "duration": 118,
    "start_time": "2021-11-23T21:38:59.880Z"
   },
   {
    "duration": 51,
    "start_time": "2021-11-23T21:41:13.561Z"
   },
   {
    "duration": 10,
    "start_time": "2021-11-23T21:41:13.614Z"
   },
   {
    "duration": 114,
    "start_time": "2021-11-23T21:41:13.891Z"
   },
   {
    "duration": 10328,
    "start_time": "2021-11-23T21:41:14.422Z"
   },
   {
    "duration": 83,
    "start_time": "2021-11-23T21:41:24.752Z"
   },
   {
    "duration": 10,
    "start_time": "2021-11-23T21:41:24.837Z"
   },
   {
    "duration": 248,
    "start_time": "2021-11-23T21:41:24.849Z"
   },
   {
    "duration": -41,
    "start_time": "2021-11-23T21:41:25.140Z"
   },
   {
    "duration": 58,
    "start_time": "2021-11-23T21:45:33.694Z"
   },
   {
    "duration": 10,
    "start_time": "2021-11-23T21:45:33.754Z"
   },
   {
    "duration": 138,
    "start_time": "2021-11-23T21:45:33.766Z"
   },
   {
    "duration": 10387,
    "start_time": "2021-11-23T21:45:33.906Z"
   },
   {
    "duration": 77,
    "start_time": "2021-11-23T21:45:44.294Z"
   },
   {
    "duration": 125,
    "start_time": "2021-11-23T21:45:44.373Z"
   },
   {
    "duration": 34,
    "start_time": "2021-11-23T21:45:44.499Z"
   },
   {
    "duration": 9,
    "start_time": "2021-11-23T21:45:44.535Z"
   },
   {
    "duration": 53,
    "start_time": "2021-11-23T21:46:10.270Z"
   },
   {
    "duration": 10,
    "start_time": "2021-11-23T21:46:10.324Z"
   },
   {
    "duration": 135,
    "start_time": "2021-11-23T21:46:10.336Z"
   },
   {
    "duration": 10086,
    "start_time": "2021-11-23T21:46:10.473Z"
   },
   {
    "duration": 81,
    "start_time": "2021-11-23T21:46:20.561Z"
   },
   {
    "duration": 10,
    "start_time": "2021-11-23T21:46:20.643Z"
   },
   {
    "duration": 50,
    "start_time": "2021-11-23T21:46:20.654Z"
   },
   {
    "duration": 9,
    "start_time": "2021-11-23T21:46:20.706Z"
   },
   {
    "duration": 67,
    "start_time": "2021-11-23T22:20:11.577Z"
   },
   {
    "duration": 10,
    "start_time": "2021-11-23T22:20:11.646Z"
   },
   {
    "duration": 39,
    "start_time": "2021-11-23T22:20:11.659Z"
   },
   {
    "duration": 156,
    "start_time": "2021-11-23T22:20:11.700Z"
   },
   {
    "duration": 12224,
    "start_time": "2021-11-23T22:20:11.858Z"
   },
   {
    "duration": 155,
    "start_time": "2021-11-23T22:20:24.084Z"
   },
   {
    "duration": 11,
    "start_time": "2021-11-23T22:20:24.241Z"
   },
   {
    "duration": 52,
    "start_time": "2021-11-23T22:20:24.253Z"
   },
   {
    "duration": 14,
    "start_time": "2021-11-23T22:20:24.307Z"
   },
   {
    "duration": 56,
    "start_time": "2021-11-23T22:20:55.125Z"
   },
   {
    "duration": 9,
    "start_time": "2021-11-23T22:20:55.183Z"
   },
   {
    "duration": 11,
    "start_time": "2021-11-23T22:20:55.194Z"
   },
   {
    "duration": 265,
    "start_time": "2021-11-23T22:20:55.207Z"
   },
   {
    "duration": 59327,
    "start_time": "2021-11-23T22:20:55.474Z"
   },
   {
    "duration": 246,
    "start_time": "2021-11-23T22:21:54.802Z"
   },
   {
    "duration": 11,
    "start_time": "2021-11-23T22:21:55.050Z"
   },
   {
    "duration": 52,
    "start_time": "2021-11-23T22:21:55.062Z"
   },
   {
    "duration": 14,
    "start_time": "2021-11-23T22:21:55.116Z"
   },
   {
    "duration": 52,
    "start_time": "2021-11-23T22:22:53.706Z"
   },
   {
    "duration": 8,
    "start_time": "2021-11-23T22:22:53.760Z"
   },
   {
    "duration": 8,
    "start_time": "2021-11-23T22:22:53.770Z"
   },
   {
    "duration": 133,
    "start_time": "2021-11-23T22:22:53.780Z"
   },
   {
    "duration": 12271,
    "start_time": "2021-11-23T22:22:53.958Z"
   },
   {
    "duration": 155,
    "start_time": "2021-11-23T22:23:06.231Z"
   },
   {
    "duration": 14,
    "start_time": "2021-11-23T22:23:06.387Z"
   },
   {
    "duration": 41,
    "start_time": "2021-11-23T22:23:06.402Z"
   },
   {
    "duration": 14,
    "start_time": "2021-11-23T22:23:06.444Z"
   },
   {
    "duration": 53,
    "start_time": "2021-11-23T22:23:46.188Z"
   },
   {
    "duration": 8,
    "start_time": "2021-11-23T22:23:46.242Z"
   },
   {
    "duration": 10,
    "start_time": "2021-11-23T22:23:46.252Z"
   },
   {
    "duration": 151,
    "start_time": "2021-11-23T22:23:46.264Z"
   },
   {
    "duration": 12089,
    "start_time": "2021-11-23T22:23:46.417Z"
   },
   {
    "duration": 151,
    "start_time": "2021-11-23T22:23:58.508Z"
   },
   {
    "duration": 14,
    "start_time": "2021-11-23T22:23:58.661Z"
   },
   {
    "duration": 132,
    "start_time": "2021-11-23T22:23:58.677Z"
   },
   {
    "duration": 14,
    "start_time": "2021-11-23T22:23:58.810Z"
   },
   {
    "duration": 50,
    "start_time": "2021-11-23T22:28:21.369Z"
   },
   {
    "duration": 8,
    "start_time": "2021-11-23T22:28:21.421Z"
   },
   {
    "duration": 9,
    "start_time": "2021-11-23T22:28:21.431Z"
   },
   {
    "duration": 161,
    "start_time": "2021-11-23T22:28:21.442Z"
   },
   {
    "duration": 12407,
    "start_time": "2021-11-23T22:28:21.605Z"
   },
   {
    "duration": 153,
    "start_time": "2021-11-23T22:28:34.014Z"
   },
   {
    "duration": 22,
    "start_time": "2021-11-23T22:28:34.169Z"
   },
   {
    "duration": 125,
    "start_time": "2021-11-23T22:28:34.193Z"
   },
   {
    "duration": 15,
    "start_time": "2021-11-23T22:28:34.320Z"
   },
   {
    "duration": 391,
    "start_time": "2021-11-23T22:28:34.337Z"
   },
   {
    "duration": 58,
    "start_time": "2021-11-23T22:29:41.391Z"
   },
   {
    "duration": 9,
    "start_time": "2021-11-23T22:29:41.451Z"
   },
   {
    "duration": 35,
    "start_time": "2021-11-23T22:29:41.462Z"
   },
   {
    "duration": 145,
    "start_time": "2021-11-23T22:29:41.499Z"
   },
   {
    "duration": 12298,
    "start_time": "2021-11-23T22:29:41.645Z"
   },
   {
    "duration": 154,
    "start_time": "2021-11-23T22:29:53.945Z"
   },
   {
    "duration": 14,
    "start_time": "2021-11-23T22:29:54.101Z"
   },
   {
    "duration": 128,
    "start_time": "2021-11-23T22:29:54.117Z"
   },
   {
    "duration": 14,
    "start_time": "2021-11-23T22:29:54.247Z"
   },
   {
    "duration": 395,
    "start_time": "2021-11-23T22:29:54.262Z"
   },
   {
    "duration": 51,
    "start_time": "2021-11-23T22:30:29.790Z"
   },
   {
    "duration": 8,
    "start_time": "2021-11-23T22:30:29.843Z"
   },
   {
    "duration": 9,
    "start_time": "2021-11-23T22:30:29.853Z"
   },
   {
    "duration": 151,
    "start_time": "2021-11-23T22:30:29.863Z"
   },
   {
    "duration": 12238,
    "start_time": "2021-11-23T22:30:30.015Z"
   },
   {
    "duration": 150,
    "start_time": "2021-11-23T22:30:42.255Z"
   },
   {
    "duration": 15,
    "start_time": "2021-11-23T22:30:42.407Z"
   },
   {
    "duration": 134,
    "start_time": "2021-11-23T22:30:42.424Z"
   },
   {
    "duration": 14,
    "start_time": "2021-11-23T22:30:42.559Z"
   },
   {
    "duration": 366,
    "start_time": "2021-11-23T22:30:42.575Z"
   },
   {
    "duration": 338,
    "start_time": "2021-11-23T22:31:48.195Z"
   },
   {
    "duration": 51,
    "start_time": "2021-11-23T22:36:03.291Z"
   },
   {
    "duration": 8,
    "start_time": "2021-11-23T22:36:03.344Z"
   },
   {
    "duration": 9,
    "start_time": "2021-11-23T22:36:03.353Z"
   },
   {
    "duration": 149,
    "start_time": "2021-11-23T22:36:03.363Z"
   },
   {
    "duration": 12099,
    "start_time": "2021-11-23T22:36:03.513Z"
   },
   {
    "duration": 151,
    "start_time": "2021-11-23T22:36:15.614Z"
   },
   {
    "duration": 26,
    "start_time": "2021-11-23T22:36:15.766Z"
   },
   {
    "duration": 119,
    "start_time": "2021-11-23T22:36:15.794Z"
   },
   {
    "duration": 13,
    "start_time": "2021-11-23T22:36:15.914Z"
   },
   {
    "duration": 312,
    "start_time": "2021-11-23T22:36:15.929Z"
   },
   {
    "duration": 400,
    "start_time": "2021-11-23T22:37:39.834Z"
   },
   {
    "duration": 13,
    "start_time": "2021-11-23T22:37:51.576Z"
   },
   {
    "duration": 255,
    "start_time": "2021-11-23T22:40:49.098Z"
   },
   {
    "duration": 909,
    "start_time": "2021-11-23T22:41:10.159Z"
   },
   {
    "duration": 56,
    "start_time": "2021-11-23T22:53:26.881Z"
   },
   {
    "duration": 9,
    "start_time": "2021-11-23T22:53:26.939Z"
   },
   {
    "duration": 36,
    "start_time": "2021-11-23T22:53:26.950Z"
   },
   {
    "duration": 145,
    "start_time": "2021-11-23T22:53:26.987Z"
   },
   {
    "duration": 12267,
    "start_time": "2021-11-23T22:53:27.134Z"
   },
   {
    "duration": 150,
    "start_time": "2021-11-23T22:53:39.402Z"
   },
   {
    "duration": 14,
    "start_time": "2021-11-23T22:53:39.554Z"
   },
   {
    "duration": 133,
    "start_time": "2021-11-23T22:53:39.570Z"
   },
   {
    "duration": 14,
    "start_time": "2021-11-23T22:53:39.705Z"
   },
   {
    "duration": 245,
    "start_time": "2021-11-23T22:53:39.720Z"
   },
   {
    "duration": 838,
    "start_time": "2021-11-23T22:54:21.097Z"
   },
   {
    "duration": 54,
    "start_time": "2021-11-23T22:55:01.062Z"
   },
   {
    "duration": 9,
    "start_time": "2021-11-23T22:55:01.118Z"
   },
   {
    "duration": 13,
    "start_time": "2021-11-23T22:55:01.129Z"
   },
   {
    "duration": 157,
    "start_time": "2021-11-23T22:55:01.144Z"
   },
   {
    "duration": 12209,
    "start_time": "2021-11-23T22:55:01.302Z"
   },
   {
    "duration": 155,
    "start_time": "2021-11-23T22:55:13.513Z"
   },
   {
    "duration": 21,
    "start_time": "2021-11-23T22:55:13.670Z"
   },
   {
    "duration": 127,
    "start_time": "2021-11-23T22:55:13.693Z"
   },
   {
    "duration": 14,
    "start_time": "2021-11-23T22:55:13.821Z"
   },
   {
    "duration": 687,
    "start_time": "2021-11-23T22:55:13.837Z"
   },
   {
    "duration": 295,
    "start_time": "2021-11-23T22:56:12.755Z"
   },
   {
    "duration": 194,
    "start_time": "2021-11-23T22:58:20.370Z"
   },
   {
    "duration": 194,
    "start_time": "2021-11-23T22:58:34.012Z"
   },
   {
    "duration": 61,
    "start_time": "2021-11-23T22:58:41.176Z"
   },
   {
    "duration": 11,
    "start_time": "2021-11-23T22:58:41.239Z"
   },
   {
    "duration": 9,
    "start_time": "2021-11-23T22:58:41.252Z"
   },
   {
    "duration": 138,
    "start_time": "2021-11-23T22:58:41.292Z"
   },
   {
    "duration": 11985,
    "start_time": "2021-11-23T22:58:41.432Z"
   },
   {
    "duration": 150,
    "start_time": "2021-11-23T22:58:53.419Z"
   },
   {
    "duration": 23,
    "start_time": "2021-11-23T22:58:53.571Z"
   },
   {
    "duration": 168,
    "start_time": "2021-11-23T22:58:53.596Z"
   },
   {
    "duration": 32,
    "start_time": "2021-11-23T22:58:53.766Z"
   },
   {
    "duration": 293,
    "start_time": "2021-11-23T22:58:53.801Z"
   },
   {
    "duration": 245,
    "start_time": "2021-11-23T22:59:22.411Z"
   },
   {
    "duration": 254,
    "start_time": "2021-11-23T23:00:57.310Z"
   },
   {
    "duration": 66,
    "start_time": "2021-11-23T23:02:11.131Z"
   },
   {
    "duration": 9,
    "start_time": "2021-11-23T23:02:11.200Z"
   },
   {
    "duration": 10,
    "start_time": "2021-11-23T23:02:11.212Z"
   },
   {
    "duration": 158,
    "start_time": "2021-11-23T23:02:11.224Z"
   },
   {
    "duration": 12332,
    "start_time": "2021-11-23T23:02:11.401Z"
   },
   {
    "duration": 156,
    "start_time": "2021-11-23T23:02:23.735Z"
   },
   {
    "duration": 16,
    "start_time": "2021-11-23T23:02:23.893Z"
   },
   {
    "duration": 133,
    "start_time": "2021-11-23T23:02:23.911Z"
   },
   {
    "duration": 15,
    "start_time": "2021-11-23T23:02:24.045Z"
   },
   {
    "duration": 257,
    "start_time": "2021-11-23T23:02:24.062Z"
   },
   {
    "duration": 54,
    "start_time": "2021-11-23T23:03:05.939Z"
   },
   {
    "duration": 8,
    "start_time": "2021-11-23T23:03:05.994Z"
   },
   {
    "duration": 9,
    "start_time": "2021-11-23T23:03:06.004Z"
   },
   {
    "duration": 151,
    "start_time": "2021-11-23T23:03:06.015Z"
   },
   {
    "duration": 12141,
    "start_time": "2021-11-23T23:03:06.167Z"
   },
   {
    "duration": 154,
    "start_time": "2021-11-23T23:03:18.309Z"
   },
   {
    "duration": 15,
    "start_time": "2021-11-23T23:03:18.465Z"
   },
   {
    "duration": 130,
    "start_time": "2021-11-23T23:03:18.482Z"
   },
   {
    "duration": 15,
    "start_time": "2021-11-23T23:03:18.613Z"
   },
   {
    "duration": 338,
    "start_time": "2021-11-23T23:03:18.629Z"
   },
   {
    "duration": 52,
    "start_time": "2021-11-23T23:03:34.798Z"
   },
   {
    "duration": 9,
    "start_time": "2021-11-23T23:03:34.851Z"
   },
   {
    "duration": 9,
    "start_time": "2021-11-23T23:03:34.861Z"
   },
   {
    "duration": 136,
    "start_time": "2021-11-23T23:03:35.068Z"
   },
   {
    "duration": 12228,
    "start_time": "2021-11-23T23:03:35.692Z"
   },
   {
    "duration": 150,
    "start_time": "2021-11-23T23:03:47.922Z"
   },
   {
    "duration": 19,
    "start_time": "2021-11-23T23:03:48.074Z"
   },
   {
    "duration": 131,
    "start_time": "2021-11-23T23:03:48.094Z"
   },
   {
    "duration": 14,
    "start_time": "2021-11-23T23:03:48.226Z"
   },
   {
    "duration": 83,
    "start_time": "2021-11-23T23:03:48.242Z"
   },
   {
    "duration": 200,
    "start_time": "2021-11-23T23:04:31.635Z"
   },
   {
    "duration": 53,
    "start_time": "2021-11-23T23:04:44.245Z"
   },
   {
    "duration": 8,
    "start_time": "2021-11-23T23:04:44.300Z"
   },
   {
    "duration": 9,
    "start_time": "2021-11-23T23:04:44.310Z"
   },
   {
    "duration": 156,
    "start_time": "2021-11-23T23:04:44.320Z"
   },
   {
    "duration": 12323,
    "start_time": "2021-11-23T23:04:44.478Z"
   },
   {
    "duration": 168,
    "start_time": "2021-11-23T23:04:56.803Z"
   },
   {
    "duration": 20,
    "start_time": "2021-11-23T23:04:56.972Z"
   },
   {
    "duration": 130,
    "start_time": "2021-11-23T23:04:56.993Z"
   },
   {
    "duration": 16,
    "start_time": "2021-11-23T23:04:57.125Z"
   },
   {
    "duration": 192,
    "start_time": "2021-11-23T23:04:57.142Z"
   },
   {
    "duration": 161,
    "start_time": "2021-11-23T23:05:33.989Z"
   },
   {
    "duration": 57,
    "start_time": "2021-11-23T23:05:53.152Z"
   },
   {
    "duration": 9,
    "start_time": "2021-11-23T23:05:53.211Z"
   },
   {
    "duration": 9,
    "start_time": "2021-11-23T23:05:53.222Z"
   },
   {
    "duration": 162,
    "start_time": "2021-11-23T23:05:53.233Z"
   },
   {
    "duration": 12143,
    "start_time": "2021-11-23T23:05:53.397Z"
   },
   {
    "duration": 151,
    "start_time": "2021-11-23T23:06:05.542Z"
   },
   {
    "duration": 15,
    "start_time": "2021-11-23T23:06:05.695Z"
   },
   {
    "duration": 128,
    "start_time": "2021-11-23T23:06:05.711Z"
   },
   {
    "duration": 14,
    "start_time": "2021-11-23T23:06:05.841Z"
   },
   {
    "duration": 169,
    "start_time": "2021-11-23T23:06:05.856Z"
   },
   {
    "duration": 53,
    "start_time": "2021-11-23T23:07:22.810Z"
   },
   {
    "duration": 8,
    "start_time": "2021-11-23T23:07:22.865Z"
   },
   {
    "duration": 18,
    "start_time": "2021-11-23T23:07:22.876Z"
   },
   {
    "duration": 136,
    "start_time": "2021-11-23T23:07:22.896Z"
   },
   {
    "duration": 12421,
    "start_time": "2021-11-23T23:07:23.034Z"
   },
   {
    "duration": 151,
    "start_time": "2021-11-23T23:07:35.457Z"
   },
   {
    "duration": 15,
    "start_time": "2021-11-23T23:07:35.610Z"
   },
   {
    "duration": 132,
    "start_time": "2021-11-23T23:07:35.627Z"
   },
   {
    "duration": 14,
    "start_time": "2021-11-23T23:07:35.760Z"
   },
   {
    "duration": 341,
    "start_time": "2021-11-23T23:07:35.775Z"
   },
   {
    "duration": 51,
    "start_time": "2021-11-23T23:07:48.964Z"
   },
   {
    "duration": 8,
    "start_time": "2021-11-23T23:07:49.016Z"
   },
   {
    "duration": 9,
    "start_time": "2021-11-23T23:07:49.026Z"
   },
   {
    "duration": 156,
    "start_time": "2021-11-23T23:07:49.037Z"
   },
   {
    "duration": 11965,
    "start_time": "2021-11-23T23:07:49.195Z"
   },
   {
    "duration": 157,
    "start_time": "2021-11-23T23:08:01.162Z"
   },
   {
    "duration": 16,
    "start_time": "2021-11-23T23:08:01.320Z"
   },
   {
    "duration": 133,
    "start_time": "2021-11-23T23:08:01.337Z"
   },
   {
    "duration": 19,
    "start_time": "2021-11-23T23:08:01.472Z"
   },
   {
    "duration": 165,
    "start_time": "2021-11-23T23:08:01.493Z"
   },
   {
    "duration": 34,
    "start_time": "2021-11-23T23:15:40.596Z"
   },
   {
    "duration": 35,
    "start_time": "2021-11-23T23:44:03.317Z"
   },
   {
    "duration": 9,
    "start_time": "2021-11-23T23:44:03.470Z"
   },
   {
    "duration": 10,
    "start_time": "2021-11-23T23:44:03.481Z"
   },
   {
    "duration": 133,
    "start_time": "2021-11-23T23:44:03.643Z"
   },
   {
    "duration": 11887,
    "start_time": "2021-11-23T23:44:03.777Z"
   },
   {
    "duration": 152,
    "start_time": "2021-11-23T23:44:15.665Z"
   },
   {
    "duration": 15,
    "start_time": "2021-11-23T23:44:15.820Z"
   },
   {
    "duration": 133,
    "start_time": "2021-11-23T23:44:15.837Z"
   },
   {
    "duration": 23,
    "start_time": "2021-11-23T23:44:15.972Z"
   },
   {
    "duration": 168,
    "start_time": "2021-11-23T23:44:15.998Z"
   },
   {
    "duration": 38,
    "start_time": "2021-11-24T00:09:55.779Z"
   },
   {
    "duration": 9,
    "start_time": "2021-11-24T00:09:55.820Z"
   },
   {
    "duration": 10,
    "start_time": "2021-11-24T00:09:55.831Z"
   },
   {
    "duration": 156,
    "start_time": "2021-11-24T00:09:55.843Z"
   },
   {
    "duration": 12191,
    "start_time": "2021-11-24T00:09:56.001Z"
   },
   {
    "duration": 15,
    "start_time": "2021-11-24T00:10:08.194Z"
   },
   {
    "duration": 14,
    "start_time": "2021-11-24T00:10:08.211Z"
   },
   {
    "duration": 142,
    "start_time": "2021-11-24T00:10:08.227Z"
   },
   {
    "duration": 22,
    "start_time": "2021-11-24T00:10:08.371Z"
   },
   {
    "duration": 12123,
    "start_time": "2021-11-24T00:10:08.395Z"
   },
   {
    "duration": 167,
    "start_time": "2021-11-24T00:10:20.519Z"
   },
   {
    "duration": 1040,
    "start_time": "2021-11-24T02:37:03.658Z"
   },
   {
    "duration": 9,
    "start_time": "2021-11-24T02:37:42.366Z"
   },
   {
    "duration": 3,
    "start_time": "2021-11-24T02:40:23.795Z"
   },
   {
    "duration": 10,
    "start_time": "2021-11-24T02:44:12.953Z"
   },
   {
    "duration": 128,
    "start_time": "2021-11-24T02:46:37.110Z"
   },
   {
    "duration": 12054,
    "start_time": "2021-11-24T02:46:38.056Z"
   },
   {
    "duration": 15,
    "start_time": "2021-11-24T02:46:50.112Z"
   },
   {
    "duration": 28,
    "start_time": "2021-11-24T02:46:50.129Z"
   },
   {
    "duration": 125,
    "start_time": "2021-11-24T02:46:50.159Z"
   },
   {
    "duration": 14,
    "start_time": "2021-11-24T02:46:50.285Z"
   },
   {
    "duration": 11993,
    "start_time": "2021-11-24T02:46:50.300Z"
   },
   {
    "duration": 166,
    "start_time": "2021-11-24T02:47:02.294Z"
   },
   {
    "duration": 4,
    "start_time": "2021-11-24T15:23:32.246Z"
   },
   {
    "duration": 1527,
    "start_time": "2021-11-24T15:24:41.304Z"
   },
   {
    "duration": 18,
    "start_time": "2021-11-24T15:27:05.521Z"
   },
   {
    "duration": 44,
    "start_time": "2021-11-24T15:27:50.135Z"
   },
   {
    "duration": 3,
    "start_time": "2021-11-24T15:27:50.182Z"
   },
   {
    "duration": 182,
    "start_time": "2021-11-24T15:27:50.188Z"
   },
   {
    "duration": 103,
    "start_time": "2021-11-24T15:27:50.374Z"
   },
   {
    "duration": 5,
    "start_time": "2021-11-24T15:27:50.480Z"
   },
   {
    "duration": 17,
    "start_time": "2021-11-24T15:27:50.488Z"
   },
   {
    "duration": 237,
    "start_time": "2021-11-24T15:27:50.508Z"
   },
   {
    "duration": 19672,
    "start_time": "2021-11-24T15:27:50.748Z"
   },
   {
    "duration": 43,
    "start_time": "2021-11-24T15:28:10.423Z"
   },
   {
    "duration": 23,
    "start_time": "2021-11-24T15:28:10.469Z"
   },
   {
    "duration": 209,
    "start_time": "2021-11-24T15:28:10.495Z"
   },
   {
    "duration": 30,
    "start_time": "2021-11-24T15:28:10.707Z"
   },
   {
    "duration": 19535,
    "start_time": "2021-11-24T15:28:10.739Z"
   },
   {
    "duration": 274,
    "start_time": "2021-11-24T15:28:30.277Z"
   },
   {
    "duration": 1449,
    "start_time": "2021-11-24T21:47:49.975Z"
   },
   {
    "duration": 109,
    "start_time": "2021-11-24T21:47:51.426Z"
   },
   {
    "duration": 13,
    "start_time": "2021-11-24T21:47:51.539Z"
   },
   {
    "duration": 425,
    "start_time": "2021-11-24T21:47:51.630Z"
   },
   {
    "duration": -751,
    "start_time": "2021-11-24T21:47:52.810Z"
   },
   {
    "duration": -767,
    "start_time": "2021-11-24T21:47:52.828Z"
   },
   {
    "duration": -780,
    "start_time": "2021-11-24T21:47:52.843Z"
   },
   {
    "duration": -785,
    "start_time": "2021-11-24T21:47:52.850Z"
   },
   {
    "duration": -788,
    "start_time": "2021-11-24T21:47:52.855Z"
   },
   {
    "duration": -791,
    "start_time": "2021-11-24T21:47:52.860Z"
   },
   {
    "duration": -799,
    "start_time": "2021-11-24T21:47:52.870Z"
   },
   {
    "duration": -800,
    "start_time": "2021-11-24T21:47:52.873Z"
   },
   {
    "duration": 44,
    "start_time": "2021-11-24T21:48:25.519Z"
   },
   {
    "duration": 74,
    "start_time": "2021-11-24T21:48:25.566Z"
   },
   {
    "duration": 100,
    "start_time": "2021-11-24T21:48:25.643Z"
   },
   {
    "duration": 345,
    "start_time": "2021-11-24T21:48:25.746Z"
   },
   {
    "duration": -694,
    "start_time": "2021-11-24T21:48:26.787Z"
   },
   {
    "duration": -715,
    "start_time": "2021-11-24T21:48:26.810Z"
   },
   {
    "duration": -723,
    "start_time": "2021-11-24T21:48:26.819Z"
   },
   {
    "duration": -727,
    "start_time": "2021-11-24T21:48:26.824Z"
   },
   {
    "duration": -730,
    "start_time": "2021-11-24T21:48:26.829Z"
   },
   {
    "duration": -733,
    "start_time": "2021-11-24T21:48:26.834Z"
   },
   {
    "duration": -737,
    "start_time": "2021-11-24T21:48:26.839Z"
   },
   {
    "duration": -742,
    "start_time": "2021-11-24T21:48:26.845Z"
   },
   {
    "duration": 46,
    "start_time": "2021-11-24T21:48:48.719Z"
   },
   {
    "duration": 79,
    "start_time": "2021-11-24T21:48:48.767Z"
   },
   {
    "duration": 89,
    "start_time": "2021-11-24T21:48:48.849Z"
   },
   {
    "duration": 397,
    "start_time": "2021-11-24T21:48:48.942Z"
   },
   {
    "duration": -734,
    "start_time": "2021-11-24T21:48:50.077Z"
   },
   {
    "duration": -747,
    "start_time": "2021-11-24T21:48:50.092Z"
   },
   {
    "duration": -752,
    "start_time": "2021-11-24T21:48:50.099Z"
   },
   {
    "duration": -757,
    "start_time": "2021-11-24T21:48:50.105Z"
   },
   {
    "duration": -765,
    "start_time": "2021-11-24T21:48:50.115Z"
   },
   {
    "duration": -769,
    "start_time": "2021-11-24T21:48:50.121Z"
   },
   {
    "duration": -775,
    "start_time": "2021-11-24T21:48:50.129Z"
   },
   {
    "duration": -780,
    "start_time": "2021-11-24T21:48:50.135Z"
   },
   {
    "duration": 45,
    "start_time": "2021-11-24T21:51:02.573Z"
   },
   {
    "duration": 114,
    "start_time": "2021-11-24T21:51:02.620Z"
   },
   {
    "duration": 9,
    "start_time": "2021-11-24T21:51:02.738Z"
   },
   {
    "duration": 3436,
    "start_time": "2021-11-24T21:51:02.831Z"
   },
   {
    "duration": -804,
    "start_time": "2021-11-24T21:51:07.074Z"
   },
   {
    "duration": -823,
    "start_time": "2021-11-24T21:51:07.094Z"
   },
   {
    "duration": -827,
    "start_time": "2021-11-24T21:51:07.099Z"
   },
   {
    "duration": -829,
    "start_time": "2021-11-24T21:51:07.103Z"
   },
   {
    "duration": -834,
    "start_time": "2021-11-24T21:51:07.109Z"
   },
   {
    "duration": -836,
    "start_time": "2021-11-24T21:51:07.112Z"
   },
   {
    "duration": -837,
    "start_time": "2021-11-24T21:51:07.115Z"
   },
   {
    "duration": -839,
    "start_time": "2021-11-24T21:51:07.118Z"
   },
   {
    "duration": 46,
    "start_time": "2021-11-24T21:51:19.615Z"
   },
   {
    "duration": 79,
    "start_time": "2021-11-24T21:51:19.663Z"
   },
   {
    "duration": 85,
    "start_time": "2021-11-24T21:51:19.746Z"
   },
   {
    "duration": 3345,
    "start_time": "2021-11-24T21:51:19.834Z"
   },
   {
    "duration": -1193,
    "start_time": "2021-11-24T21:51:24.377Z"
   },
   {
    "duration": -1214,
    "start_time": "2021-11-24T21:51:24.399Z"
   },
   {
    "duration": -1229,
    "start_time": "2021-11-24T21:51:24.416Z"
   },
   {
    "duration": -1231,
    "start_time": "2021-11-24T21:51:24.420Z"
   },
   {
    "duration": -1233,
    "start_time": "2021-11-24T21:51:24.424Z"
   },
   {
    "duration": -1236,
    "start_time": "2021-11-24T21:51:24.429Z"
   },
   {
    "duration": -1238,
    "start_time": "2021-11-24T21:51:24.433Z"
   },
   {
    "duration": -1240,
    "start_time": "2021-11-24T21:51:24.437Z"
   },
   {
    "duration": 43,
    "start_time": "2021-11-24T21:52:19.276Z"
   },
   {
    "duration": 118,
    "start_time": "2021-11-24T21:52:19.322Z"
   },
   {
    "duration": 102,
    "start_time": "2021-11-24T21:52:19.443Z"
   },
   {
    "duration": 3622,
    "start_time": "2021-11-24T21:52:19.548Z"
   },
   {
    "duration": -737,
    "start_time": "2021-11-24T21:52:23.909Z"
   },
   {
    "duration": -759,
    "start_time": "2021-11-24T21:52:23.932Z"
   },
   {
    "duration": -778,
    "start_time": "2021-11-24T21:52:23.953Z"
   },
   {
    "duration": -784,
    "start_time": "2021-11-24T21:52:23.960Z"
   },
   {
    "duration": -791,
    "start_time": "2021-11-24T21:52:23.968Z"
   },
   {
    "duration": -794,
    "start_time": "2021-11-24T21:52:23.972Z"
   },
   {
    "duration": -796,
    "start_time": "2021-11-24T21:52:23.976Z"
   },
   {
    "duration": -804,
    "start_time": "2021-11-24T21:52:23.985Z"
   },
   {
    "duration": 45,
    "start_time": "2021-11-24T21:55:13.689Z"
   },
   {
    "duration": 198,
    "start_time": "2021-11-24T21:55:13.737Z"
   },
   {
    "duration": 5,
    "start_time": "2021-11-24T21:55:13.945Z"
   },
   {
    "duration": 140,
    "start_time": "2021-11-24T21:55:13.953Z"
   },
   {
    "duration": -770,
    "start_time": "2021-11-24T21:55:14.865Z"
   },
   {
    "duration": -772,
    "start_time": "2021-11-24T21:55:14.868Z"
   },
   {
    "duration": -775,
    "start_time": "2021-11-24T21:55:14.873Z"
   },
   {
    "duration": -778,
    "start_time": "2021-11-24T21:55:14.877Z"
   },
   {
    "duration": -780,
    "start_time": "2021-11-24T21:55:14.880Z"
   },
   {
    "duration": -782,
    "start_time": "2021-11-24T21:55:14.883Z"
   },
   {
    "duration": -787,
    "start_time": "2021-11-24T21:55:14.890Z"
   },
   {
    "duration": -790,
    "start_time": "2021-11-24T21:55:14.894Z"
   },
   {
    "duration": 49,
    "start_time": "2021-11-24T21:55:30.292Z"
   },
   {
    "duration": 98,
    "start_time": "2021-11-24T21:55:30.344Z"
   },
   {
    "duration": 87,
    "start_time": "2021-11-24T21:55:30.446Z"
   },
   {
    "duration": 20,
    "start_time": "2021-11-24T21:55:30.541Z"
   },
   {
    "duration": 197,
    "start_time": "2021-11-24T21:55:30.563Z"
   },
   {
    "duration": 16746,
    "start_time": "2021-11-24T21:55:30.763Z"
   },
   {
    "duration": 25,
    "start_time": "2021-11-24T21:55:47.511Z"
   },
   {
    "duration": 19,
    "start_time": "2021-11-24T21:55:47.540Z"
   },
   {
    "duration": 189,
    "start_time": "2021-11-24T21:55:47.562Z"
   },
   {
    "duration": 16,
    "start_time": "2021-11-24T21:55:47.754Z"
   },
   {
    "duration": 45,
    "start_time": "2021-11-24T21:56:05.235Z"
   },
   {
    "duration": 68,
    "start_time": "2021-11-24T21:56:05.282Z"
   },
   {
    "duration": 15,
    "start_time": "2021-11-24T21:56:05.437Z"
   },
   {
    "duration": 22,
    "start_time": "2021-11-24T21:56:05.531Z"
   },
   {
    "duration": 199,
    "start_time": "2021-11-24T21:56:05.555Z"
   },
   {
    "duration": 16381,
    "start_time": "2021-11-24T21:56:05.756Z"
   },
   {
    "duration": 19,
    "start_time": "2021-11-24T21:56:22.139Z"
   },
   {
    "duration": 20,
    "start_time": "2021-11-24T21:56:22.163Z"
   },
   {
    "duration": 194,
    "start_time": "2021-11-24T21:56:22.186Z"
   },
   {
    "duration": 17,
    "start_time": "2021-11-24T21:56:22.383Z"
   },
   {
    "duration": 16274,
    "start_time": "2021-11-24T21:56:22.403Z"
   },
   {
    "duration": 265,
    "start_time": "2021-11-24T21:56:38.680Z"
   },
   {
    "duration": 49,
    "start_time": "2021-11-24T21:56:43.498Z"
   },
   {
    "duration": 91,
    "start_time": "2021-11-24T21:56:43.550Z"
   },
   {
    "duration": 7,
    "start_time": "2021-11-24T21:56:43.646Z"
   },
   {
    "duration": 26,
    "start_time": "2021-11-24T21:56:43.734Z"
   },
   {
    "duration": 203,
    "start_time": "2021-11-24T21:56:43.762Z"
   },
   {
    "duration": 17292,
    "start_time": "2021-11-24T21:56:43.968Z"
   },
   {
    "duration": 19,
    "start_time": "2021-11-24T21:57:01.264Z"
   },
   {
    "duration": 54,
    "start_time": "2021-11-24T21:57:01.286Z"
   },
   {
    "duration": 174,
    "start_time": "2021-11-24T21:57:01.342Z"
   },
   {
    "duration": 18,
    "start_time": "2021-11-24T21:57:01.518Z"
   },
   {
    "duration": 16409,
    "start_time": "2021-11-24T21:57:01.538Z"
   },
   {
    "duration": 254,
    "start_time": "2021-11-24T21:57:17.949Z"
   },
   {
    "duration": 17,
    "start_time": "2021-11-24T21:58:12.083Z"
   },
   {
    "duration": 43,
    "start_time": "2021-11-24T21:58:49.449Z"
   },
   {
    "duration": 45,
    "start_time": "2021-11-24T21:58:49.494Z"
   },
   {
    "duration": 7,
    "start_time": "2021-11-24T21:58:49.542Z"
   },
   {
    "duration": 96,
    "start_time": "2021-11-24T21:58:49.551Z"
   },
   {
    "duration": 323,
    "start_time": "2021-11-24T21:58:49.650Z"
   },
   {
    "duration": -685,
    "start_time": "2021-11-24T21:58:50.660Z"
   },
   {
    "duration": -689,
    "start_time": "2021-11-24T21:58:50.665Z"
   },
   {
    "duration": -702,
    "start_time": "2021-11-24T21:58:50.680Z"
   },
   {
    "duration": -707,
    "start_time": "2021-11-24T21:58:50.686Z"
   },
   {
    "duration": -713,
    "start_time": "2021-11-24T21:58:50.693Z"
   },
   {
    "duration": -717,
    "start_time": "2021-11-24T21:58:50.698Z"
   },
   {
    "duration": -722,
    "start_time": "2021-11-24T21:58:50.705Z"
   },
   {
    "duration": -726,
    "start_time": "2021-11-24T21:58:50.710Z"
   },
   {
    "duration": 43,
    "start_time": "2021-11-24T21:59:06.824Z"
   },
   {
    "duration": 74,
    "start_time": "2021-11-24T21:59:06.870Z"
   },
   {
    "duration": 84,
    "start_time": "2021-11-24T21:59:06.947Z"
   },
   {
    "duration": 112,
    "start_time": "2021-11-24T21:59:07.033Z"
   },
   {
    "duration": 12,
    "start_time": "2021-11-24T21:59:07.147Z"
   },
   {
    "duration": 188,
    "start_time": "2021-11-24T21:59:07.161Z"
   },
   {
    "duration": 16943,
    "start_time": "2021-11-24T21:59:07.352Z"
   },
   {
    "duration": 35,
    "start_time": "2021-11-24T21:59:24.298Z"
   },
   {
    "duration": 20,
    "start_time": "2021-11-24T21:59:24.336Z"
   },
   {
    "duration": 177,
    "start_time": "2021-11-24T21:59:24.359Z"
   },
   {
    "duration": 16,
    "start_time": "2021-11-24T21:59:24.538Z"
   },
   {
    "duration": 16695,
    "start_time": "2021-11-24T21:59:24.557Z"
   },
   {
    "duration": 253,
    "start_time": "2021-11-24T21:59:41.254Z"
   },
   {
    "duration": 42,
    "start_time": "2021-11-24T22:01:28.957Z"
   },
   {
    "duration": 148,
    "start_time": "2021-11-24T22:01:29.002Z"
   },
   {
    "duration": 79,
    "start_time": "2021-11-24T22:01:29.153Z"
   },
   {
    "duration": 19,
    "start_time": "2021-11-24T22:01:29.236Z"
   },
   {
    "duration": 289,
    "start_time": "2021-11-24T22:01:29.257Z"
   },
   {
    "duration": -701,
    "start_time": "2021-11-24T22:01:30.250Z"
   },
   {
    "duration": -711,
    "start_time": "2021-11-24T22:01:30.261Z"
   },
   {
    "duration": -713,
    "start_time": "2021-11-24T22:01:30.264Z"
   },
   {
    "duration": -714,
    "start_time": "2021-11-24T22:01:30.267Z"
   },
   {
    "duration": -715,
    "start_time": "2021-11-24T22:01:30.269Z"
   },
   {
    "duration": -716,
    "start_time": "2021-11-24T22:01:30.272Z"
   },
   {
    "duration": -718,
    "start_time": "2021-11-24T22:01:30.275Z"
   },
   {
    "duration": -719,
    "start_time": "2021-11-24T22:01:30.278Z"
   },
   {
    "duration": 43,
    "start_time": "2021-11-24T22:03:01.149Z"
   },
   {
    "duration": 144,
    "start_time": "2021-11-24T22:03:01.195Z"
   },
   {
    "duration": 7,
    "start_time": "2021-11-24T22:03:01.343Z"
   },
   {
    "duration": 97,
    "start_time": "2021-11-24T22:03:01.353Z"
   },
   {
    "duration": 13,
    "start_time": "2021-11-24T22:03:01.453Z"
   },
   {
    "duration": 202,
    "start_time": "2021-11-24T22:03:01.469Z"
   },
   {
    "duration": 16987,
    "start_time": "2021-11-24T22:03:01.673Z"
   },
   {
    "duration": 18,
    "start_time": "2021-11-24T22:03:18.664Z"
   },
   {
    "duration": 51,
    "start_time": "2021-11-24T22:03:18.686Z"
   },
   {
    "duration": 163,
    "start_time": "2021-11-24T22:03:18.739Z"
   },
   {
    "duration": 27,
    "start_time": "2021-11-24T22:03:18.904Z"
   },
   {
    "duration": 16747,
    "start_time": "2021-11-24T22:03:18.941Z"
   },
   {
    "duration": 255,
    "start_time": "2021-11-24T22:03:35.691Z"
   },
   {
    "duration": 52,
    "start_time": "2021-11-24T22:04:55.002Z"
   },
   {
    "duration": 183,
    "start_time": "2021-11-24T22:04:55.057Z"
   },
   {
    "duration": 13,
    "start_time": "2021-11-24T22:04:55.329Z"
   },
   {
    "duration": 41,
    "start_time": "2021-11-24T22:04:55.345Z"
   },
   {
    "duration": 33,
    "start_time": "2021-11-24T22:04:55.388Z"
   },
   {
    "duration": 179,
    "start_time": "2021-11-24T22:04:55.423Z"
   },
   {
    "duration": 16919,
    "start_time": "2021-11-24T22:04:55.604Z"
   },
   {
    "duration": 19,
    "start_time": "2021-11-24T22:05:12.529Z"
   },
   {
    "duration": 19,
    "start_time": "2021-11-24T22:05:12.551Z"
   },
   {
    "duration": 197,
    "start_time": "2021-11-24T22:05:12.573Z"
   },
   {
    "duration": 16,
    "start_time": "2021-11-24T22:05:12.773Z"
   },
   {
    "duration": 16269,
    "start_time": "2021-11-24T22:05:12.791Z"
   },
   {
    "duration": 259,
    "start_time": "2021-11-24T22:05:29.063Z"
   },
   {
    "duration": 43,
    "start_time": "2021-11-24T22:05:42.144Z"
   },
   {
    "duration": 58,
    "start_time": "2021-11-24T22:05:42.190Z"
   },
   {
    "duration": 6,
    "start_time": "2021-11-24T22:05:42.330Z"
   },
   {
    "duration": 105,
    "start_time": "2021-11-24T22:05:42.340Z"
   },
   {
    "duration": 287,
    "start_time": "2021-11-24T22:05:42.447Z"
   },
   {
    "duration": -773,
    "start_time": "2021-11-24T22:05:43.510Z"
   },
   {
    "duration": -780,
    "start_time": "2021-11-24T22:05:43.519Z"
   },
   {
    "duration": -790,
    "start_time": "2021-11-24T22:05:43.531Z"
   },
   {
    "duration": -793,
    "start_time": "2021-11-24T22:05:43.535Z"
   },
   {
    "duration": -796,
    "start_time": "2021-11-24T22:05:43.540Z"
   },
   {
    "duration": -798,
    "start_time": "2021-11-24T22:05:43.543Z"
   },
   {
    "duration": -801,
    "start_time": "2021-11-24T22:05:43.548Z"
   },
   {
    "duration": -803,
    "start_time": "2021-11-24T22:05:43.551Z"
   },
   {
    "duration": 43,
    "start_time": "2021-11-24T22:06:07.952Z"
   },
   {
    "duration": 138,
    "start_time": "2021-11-24T22:06:07.998Z"
   },
   {
    "duration": 97,
    "start_time": "2021-11-24T22:06:08.139Z"
   },
   {
    "duration": 17,
    "start_time": "2021-11-24T22:06:08.239Z"
   },
   {
    "duration": 14,
    "start_time": "2021-11-24T22:06:08.258Z"
   },
   {
    "duration": 217,
    "start_time": "2021-11-24T22:06:08.274Z"
   },
   {
    "duration": 17642,
    "start_time": "2021-11-24T22:06:08.495Z"
   },
   {
    "duration": 17,
    "start_time": "2021-11-24T22:06:26.142Z"
   },
   {
    "duration": 20,
    "start_time": "2021-11-24T22:06:26.161Z"
   },
   {
    "duration": 194,
    "start_time": "2021-11-24T22:06:26.183Z"
   },
   {
    "duration": 16,
    "start_time": "2021-11-24T22:06:26.379Z"
   },
   {
    "duration": 16381,
    "start_time": "2021-11-24T22:06:26.397Z"
   },
   {
    "duration": 246,
    "start_time": "2021-11-24T22:06:42.780Z"
   },
   {
    "duration": 42,
    "start_time": "2021-11-24T22:09:21.377Z"
   },
   {
    "duration": 210,
    "start_time": "2021-11-24T22:09:21.426Z"
   },
   {
    "duration": 6,
    "start_time": "2021-11-24T22:09:21.642Z"
   },
   {
    "duration": 92,
    "start_time": "2021-11-24T22:09:21.652Z"
   },
   {
    "duration": 16,
    "start_time": "2021-11-24T22:09:21.748Z"
   },
   {
    "duration": 287,
    "start_time": "2021-11-24T22:09:21.767Z"
   },
   {
    "duration": -708,
    "start_time": "2021-11-24T22:09:22.764Z"
   },
   {
    "duration": -747,
    "start_time": "2021-11-24T22:09:22.805Z"
   },
   {
    "duration": -755,
    "start_time": "2021-11-24T22:09:22.814Z"
   },
   {
    "duration": -759,
    "start_time": "2021-11-24T22:09:22.819Z"
   },
   {
    "duration": -762,
    "start_time": "2021-11-24T22:09:22.824Z"
   },
   {
    "duration": -765,
    "start_time": "2021-11-24T22:09:22.828Z"
   },
   {
    "duration": -767,
    "start_time": "2021-11-24T22:09:22.832Z"
   },
   {
    "duration": 51,
    "start_time": "2021-11-24T22:12:37.309Z"
   },
   {
    "duration": 84,
    "start_time": "2021-11-24T22:12:37.362Z"
   },
   {
    "duration": 102,
    "start_time": "2021-11-24T22:12:37.449Z"
   },
   {
    "duration": 7,
    "start_time": "2021-11-24T22:12:37.629Z"
   },
   {
    "duration": 20,
    "start_time": "2021-11-24T22:12:37.641Z"
   },
   {
    "duration": 16,
    "start_time": "2021-11-24T22:12:37.664Z"
   },
   {
    "duration": 319,
    "start_time": "2021-11-24T22:12:37.683Z"
   },
   {
    "duration": -763,
    "start_time": "2021-11-24T22:12:38.769Z"
   },
   {
    "duration": -764,
    "start_time": "2021-11-24T22:12:38.773Z"
   },
   {
    "duration": -769,
    "start_time": "2021-11-24T22:12:38.780Z"
   },
   {
    "duration": -771,
    "start_time": "2021-11-24T22:12:38.784Z"
   },
   {
    "duration": -774,
    "start_time": "2021-11-24T22:12:38.789Z"
   },
   {
    "duration": -777,
    "start_time": "2021-11-24T22:12:38.794Z"
   },
   {
    "duration": -779,
    "start_time": "2021-11-24T22:12:38.798Z"
   },
   {
    "duration": 46,
    "start_time": "2021-11-24T22:14:18.339Z"
   },
   {
    "duration": 152,
    "start_time": "2021-11-24T22:14:18.387Z"
   },
   {
    "duration": 5,
    "start_time": "2021-11-24T22:14:18.542Z"
   },
   {
    "duration": 25,
    "start_time": "2021-11-24T22:14:18.629Z"
   },
   {
    "duration": 13,
    "start_time": "2021-11-24T22:14:18.657Z"
   },
   {
    "duration": 274,
    "start_time": "2021-11-24T22:14:18.672Z"
   },
   {
    "duration": -887,
    "start_time": "2021-11-24T22:14:19.835Z"
   },
   {
    "duration": -891,
    "start_time": "2021-11-24T22:14:19.841Z"
   },
   {
    "duration": -900,
    "start_time": "2021-11-24T22:14:19.851Z"
   },
   {
    "duration": -906,
    "start_time": "2021-11-24T22:14:19.859Z"
   },
   {
    "duration": -913,
    "start_time": "2021-11-24T22:14:19.867Z"
   },
   {
    "duration": -931,
    "start_time": "2021-11-24T22:14:19.886Z"
   },
   {
    "duration": -935,
    "start_time": "2021-11-24T22:14:19.892Z"
   },
   {
    "duration": 45,
    "start_time": "2021-11-24T22:15:02.058Z"
   },
   {
    "duration": 44,
    "start_time": "2021-11-24T22:15:02.105Z"
   },
   {
    "duration": 83,
    "start_time": "2021-11-24T22:15:02.251Z"
   },
   {
    "duration": 23,
    "start_time": "2021-11-24T22:15:02.338Z"
   },
   {
    "duration": 24,
    "start_time": "2021-11-24T22:15:02.363Z"
   },
   {
    "duration": 291,
    "start_time": "2021-11-24T22:15:02.390Z"
   },
   {
    "duration": -711,
    "start_time": "2021-11-24T22:15:03.395Z"
   },
   {
    "duration": -721,
    "start_time": "2021-11-24T22:15:03.406Z"
   },
   {
    "duration": -733,
    "start_time": "2021-11-24T22:15:03.419Z"
   },
   {
    "duration": -744,
    "start_time": "2021-11-24T22:15:03.431Z"
   },
   {
    "duration": -777,
    "start_time": "2021-11-24T22:15:03.465Z"
   },
   {
    "duration": -788,
    "start_time": "2021-11-24T22:15:03.478Z"
   },
   {
    "duration": -797,
    "start_time": "2021-11-24T22:15:03.488Z"
   },
   {
    "duration": 45,
    "start_time": "2021-11-24T22:17:02.536Z"
   },
   {
    "duration": 248,
    "start_time": "2021-11-24T22:17:02.584Z"
   },
   {
    "duration": 9,
    "start_time": "2021-11-24T22:17:02.835Z"
   },
   {
    "duration": 96,
    "start_time": "2021-11-24T22:17:02.847Z"
   },
   {
    "duration": 14,
    "start_time": "2021-11-24T22:17:02.946Z"
   },
   {
    "duration": 278,
    "start_time": "2021-11-24T22:17:02.962Z"
   },
   {
    "duration": -820,
    "start_time": "2021-11-24T22:17:04.063Z"
   },
   {
    "duration": -828,
    "start_time": "2021-11-24T22:17:04.073Z"
   },
   {
    "duration": -831,
    "start_time": "2021-11-24T22:17:04.077Z"
   },
   {
    "duration": -837,
    "start_time": "2021-11-24T22:17:04.085Z"
   },
   {
    "duration": -840,
    "start_time": "2021-11-24T22:17:04.089Z"
   },
   {
    "duration": -843,
    "start_time": "2021-11-24T22:17:04.094Z"
   },
   {
    "duration": -871,
    "start_time": "2021-11-24T22:17:04.123Z"
   },
   {
    "duration": 46,
    "start_time": "2021-11-24T22:17:26.534Z"
   },
   {
    "duration": 166,
    "start_time": "2021-11-24T22:17:26.582Z"
   },
   {
    "duration": 6,
    "start_time": "2021-11-24T22:17:26.829Z"
   },
   {
    "duration": 19,
    "start_time": "2021-11-24T22:17:26.842Z"
   },
   {
    "duration": 14,
    "start_time": "2021-11-24T22:17:26.863Z"
   },
   {
    "duration": 290,
    "start_time": "2021-11-24T22:17:26.879Z"
   },
   {
    "duration": -664,
    "start_time": "2021-11-24T22:17:27.835Z"
   },
   {
    "duration": -669,
    "start_time": "2021-11-24T22:17:27.842Z"
   },
   {
    "duration": -672,
    "start_time": "2021-11-24T22:17:27.846Z"
   },
   {
    "duration": -675,
    "start_time": "2021-11-24T22:17:27.850Z"
   },
   {
    "duration": -676,
    "start_time": "2021-11-24T22:17:27.853Z"
   },
   {
    "duration": -682,
    "start_time": "2021-11-24T22:17:27.861Z"
   },
   {
    "duration": -683,
    "start_time": "2021-11-24T22:17:27.863Z"
   },
   {
    "duration": 45,
    "start_time": "2021-11-24T22:17:50.768Z"
   },
   {
    "duration": 118,
    "start_time": "2021-11-24T22:17:50.816Z"
   },
   {
    "duration": 85,
    "start_time": "2021-11-24T22:17:50.950Z"
   },
   {
    "duration": 23,
    "start_time": "2021-11-24T22:17:51.044Z"
   },
   {
    "duration": 25,
    "start_time": "2021-11-24T22:17:51.070Z"
   },
   {
    "duration": 285,
    "start_time": "2021-11-24T22:17:51.098Z"
   },
   {
    "duration": -823,
    "start_time": "2021-11-24T22:17:52.208Z"
   },
   {
    "duration": -827,
    "start_time": "2021-11-24T22:17:52.214Z"
   },
   {
    "duration": -830,
    "start_time": "2021-11-24T22:17:52.220Z"
   },
   {
    "duration": -833,
    "start_time": "2021-11-24T22:17:52.224Z"
   },
   {
    "duration": -837,
    "start_time": "2021-11-24T22:17:52.230Z"
   },
   {
    "duration": -840,
    "start_time": "2021-11-24T22:17:52.234Z"
   },
   {
    "duration": -843,
    "start_time": "2021-11-24T22:17:52.239Z"
   },
   {
    "duration": 48,
    "start_time": "2021-11-24T22:18:07.815Z"
   },
   {
    "duration": 176,
    "start_time": "2021-11-24T22:18:07.866Z"
   },
   {
    "duration": 12,
    "start_time": "2021-11-24T22:18:08.130Z"
   },
   {
    "duration": 22,
    "start_time": "2021-11-24T22:18:08.145Z"
   },
   {
    "duration": 21,
    "start_time": "2021-11-24T22:18:08.169Z"
   },
   {
    "duration": 396,
    "start_time": "2021-11-24T22:18:08.193Z"
   },
   {
    "duration": -742,
    "start_time": "2021-11-24T22:18:09.333Z"
   },
   {
    "duration": -744,
    "start_time": "2021-11-24T22:18:09.337Z"
   },
   {
    "duration": -746,
    "start_time": "2021-11-24T22:18:09.340Z"
   },
   {
    "duration": -748,
    "start_time": "2021-11-24T22:18:09.344Z"
   },
   {
    "duration": -750,
    "start_time": "2021-11-24T22:18:09.347Z"
   },
   {
    "duration": -751,
    "start_time": "2021-11-24T22:18:09.350Z"
   },
   {
    "duration": -753,
    "start_time": "2021-11-24T22:18:09.353Z"
   },
   {
    "duration": 49,
    "start_time": "2021-11-24T22:20:01.590Z"
   },
   {
    "duration": 97,
    "start_time": "2021-11-24T22:20:01.642Z"
   },
   {
    "duration": 93,
    "start_time": "2021-11-24T22:20:01.742Z"
   },
   {
    "duration": 99,
    "start_time": "2021-11-24T22:20:01.841Z"
   },
   {
    "duration": 15,
    "start_time": "2021-11-24T22:20:01.943Z"
   },
   {
    "duration": 261,
    "start_time": "2021-11-24T22:20:01.961Z"
   },
   {
    "duration": -673,
    "start_time": "2021-11-24T22:20:02.898Z"
   },
   {
    "duration": -677,
    "start_time": "2021-11-24T22:20:02.903Z"
   },
   {
    "duration": -680,
    "start_time": "2021-11-24T22:20:02.907Z"
   },
   {
    "duration": -681,
    "start_time": "2021-11-24T22:20:02.912Z"
   },
   {
    "duration": -684,
    "start_time": "2021-11-24T22:20:02.917Z"
   },
   {
    "duration": -686,
    "start_time": "2021-11-24T22:20:02.922Z"
   },
   {
    "duration": -692,
    "start_time": "2021-11-24T22:20:02.931Z"
   },
   {
    "duration": 46,
    "start_time": "2021-11-24T22:20:36.105Z"
   },
   {
    "duration": 182,
    "start_time": "2021-11-24T22:20:36.154Z"
   },
   {
    "duration": 6,
    "start_time": "2021-11-24T22:20:36.339Z"
   },
   {
    "duration": 103,
    "start_time": "2021-11-24T22:20:36.348Z"
   },
   {
    "duration": 14,
    "start_time": "2021-11-24T22:20:36.453Z"
   },
   {
    "duration": 192,
    "start_time": "2021-11-24T22:20:36.469Z"
   },
   {
    "duration": 17473,
    "start_time": "2021-11-24T22:20:36.664Z"
   },
   {
    "duration": 20,
    "start_time": "2021-11-24T22:20:54.139Z"
   },
   {
    "duration": 22,
    "start_time": "2021-11-24T22:20:54.162Z"
   },
   {
    "duration": 194,
    "start_time": "2021-11-24T22:20:54.186Z"
   },
   {
    "duration": 16,
    "start_time": "2021-11-24T22:20:54.382Z"
   },
   {
    "duration": 16652,
    "start_time": "2021-11-24T22:20:54.400Z"
   },
   {
    "duration": 254,
    "start_time": "2021-11-24T22:21:11.055Z"
   },
   {
    "duration": 163,
    "start_time": "2021-11-24T22:26:56.149Z"
   },
   {
    "duration": 125,
    "start_time": "2021-11-24T22:26:56.315Z"
   },
   {
    "duration": 84,
    "start_time": "2021-11-24T22:26:56.446Z"
   },
   {
    "duration": 287,
    "start_time": "2021-11-24T22:26:56.534Z"
   },
   {
    "duration": -1155,
    "start_time": "2021-11-24T22:26:57.979Z"
   },
   {
    "duration": -1170,
    "start_time": "2021-11-24T22:26:57.995Z"
   },
   {
    "duration": -1184,
    "start_time": "2021-11-24T22:26:58.011Z"
   },
   {
    "duration": -1190,
    "start_time": "2021-11-24T22:26:58.018Z"
   },
   {
    "duration": -1196,
    "start_time": "2021-11-24T22:26:58.026Z"
   },
   {
    "duration": -1201,
    "start_time": "2021-11-24T22:26:58.033Z"
   },
   {
    "duration": -1206,
    "start_time": "2021-11-24T22:26:58.040Z"
   },
   {
    "duration": -1211,
    "start_time": "2021-11-24T22:26:58.046Z"
   },
   {
    "duration": -1215,
    "start_time": "2021-11-24T22:26:58.052Z"
   },
   {
    "duration": 43,
    "start_time": "2021-11-24T22:27:05.624Z"
   },
   {
    "duration": 168,
    "start_time": "2021-11-24T22:27:05.670Z"
   },
   {
    "duration": 96,
    "start_time": "2021-11-24T22:27:05.844Z"
   },
   {
    "duration": 23,
    "start_time": "2021-11-24T22:27:05.945Z"
   },
   {
    "duration": 34,
    "start_time": "2021-11-24T22:27:05.970Z"
   },
   {
    "duration": 164,
    "start_time": "2021-11-24T22:27:06.006Z"
   },
   {
    "duration": 14147,
    "start_time": "2021-11-24T22:27:06.172Z"
   },
   {
    "duration": 25,
    "start_time": "2021-11-24T22:27:20.322Z"
   },
   {
    "duration": 18,
    "start_time": "2021-11-24T22:27:20.350Z"
   },
   {
    "duration": 149,
    "start_time": "2021-11-24T22:27:20.371Z"
   },
   {
    "duration": 23,
    "start_time": "2021-11-24T22:27:20.523Z"
   },
   {
    "duration": 13314,
    "start_time": "2021-11-24T22:27:20.549Z"
   },
   {
    "duration": 256,
    "start_time": "2021-11-24T22:27:33.865Z"
   },
   {
    "duration": 1577,
    "start_time": "2021-11-27T19:49:16.134Z"
   },
   {
    "duration": 157,
    "start_time": "2021-11-27T19:49:17.713Z"
   },
   {
    "duration": 93,
    "start_time": "2021-11-27T19:49:17.874Z"
   },
   {
    "duration": 16,
    "start_time": "2021-11-27T19:49:17.971Z"
   },
   {
    "duration": 180,
    "start_time": "2021-11-27T19:49:17.990Z"
   },
   {
    "duration": 13162,
    "start_time": "2021-11-27T19:49:18.173Z"
   },
   {
    "duration": 30,
    "start_time": "2021-11-27T19:49:31.337Z"
   },
   {
    "duration": 18,
    "start_time": "2021-11-27T19:49:31.371Z"
   },
   {
    "duration": 146,
    "start_time": "2021-11-27T19:49:31.392Z"
   },
   {
    "duration": 420,
    "start_time": "2021-11-27T19:49:31.540Z"
   },
   {
    "duration": 588,
    "start_time": "2021-11-27T19:49:31.374Z"
   },
   {
    "duration": 578,
    "start_time": "2021-11-27T19:49:31.385Z"
   },
   {
    "duration": 42,
    "start_time": "2021-11-27T19:49:52.873Z"
   },
   {
    "duration": 152,
    "start_time": "2021-11-27T19:49:52.918Z"
   },
   {
    "duration": 96,
    "start_time": "2021-11-27T19:49:53.074Z"
   },
   {
    "duration": 18,
    "start_time": "2021-11-27T19:49:53.172Z"
   },
   {
    "duration": 182,
    "start_time": "2021-11-27T19:49:53.192Z"
   },
   {
    "duration": 13196,
    "start_time": "2021-11-27T19:49:53.376Z"
   },
   {
    "duration": 14,
    "start_time": "2021-11-27T19:50:06.574Z"
   },
   {
    "duration": 18,
    "start_time": "2021-11-27T19:50:06.592Z"
   },
   {
    "duration": 153,
    "start_time": "2021-11-27T19:50:06.612Z"
   },
   {
    "duration": 13,
    "start_time": "2021-11-27T19:50:06.767Z"
   },
   {
    "duration": 12726,
    "start_time": "2021-11-27T19:50:06.783Z"
   },
   {
    "duration": 258,
    "start_time": "2021-11-27T19:50:19.512Z"
   },
   {
    "duration": 48,
    "start_time": "2021-11-27T19:58:27.774Z"
   },
   {
    "duration": 4452,
    "start_time": "2021-11-27T19:58:27.825Z"
   },
   {
    "duration": 5,
    "start_time": "2021-11-27T19:58:32.280Z"
   },
   {
    "duration": 20,
    "start_time": "2021-11-27T19:58:32.288Z"
   },
   {
    "duration": 195,
    "start_time": "2021-11-27T19:58:32.311Z"
   },
   {
    "duration": 13154,
    "start_time": "2021-11-27T19:58:32.509Z"
   },
   {
    "duration": 13,
    "start_time": "2021-11-27T19:58:45.668Z"
   },
   {
    "duration": 20,
    "start_time": "2021-11-27T19:58:45.684Z"
   },
   {
    "duration": 149,
    "start_time": "2021-11-27T19:58:45.707Z"
   },
   {
    "duration": 17,
    "start_time": "2021-11-27T19:58:45.859Z"
   },
   {
    "duration": 13052,
    "start_time": "2021-11-27T19:58:45.878Z"
   },
   {
    "duration": 252,
    "start_time": "2021-11-27T19:58:58.932Z"
   },
   {
    "duration": 44,
    "start_time": "2021-11-27T20:00:36.028Z"
   },
   {
    "duration": 4239,
    "start_time": "2021-11-27T20:00:36.075Z"
   },
   {
    "duration": 5,
    "start_time": "2021-11-27T20:00:40.317Z"
   },
   {
    "duration": 48,
    "start_time": "2021-11-27T20:00:40.325Z"
   },
   {
    "duration": 171,
    "start_time": "2021-11-27T20:00:40.375Z"
   },
   {
    "duration": 13118,
    "start_time": "2021-11-27T20:00:40.548Z"
   },
   {
    "duration": 14,
    "start_time": "2021-11-27T20:00:53.668Z"
   },
   {
    "duration": 18,
    "start_time": "2021-11-27T20:00:53.685Z"
   },
   {
    "duration": 155,
    "start_time": "2021-11-27T20:00:53.706Z"
   },
   {
    "duration": 14,
    "start_time": "2021-11-27T20:00:53.863Z"
   },
   {
    "duration": 13441,
    "start_time": "2021-11-27T20:00:53.879Z"
   },
   {
    "duration": 264,
    "start_time": "2021-11-27T20:01:07.322Z"
   }
  ],
  "kernelspec": {
   "display_name": "Python 3",
   "language": "python",
   "name": "python3"
  },
  "language_info": {
   "codemirror_mode": {
    "name": "ipython",
    "version": 3
   },
   "file_extension": ".py",
   "mimetype": "text/x-python",
   "name": "python",
   "nbconvert_exporter": "python",
   "pygments_lexer": "ipython3",
   "version": "3.7.8"
  },
  "toc": {
   "base_numbering": 1,
   "nav_menu": {},
   "number_sections": false,
   "sideBar": true,
   "skip_h1_title": false,
   "title_cell": "Содержание",
   "title_sidebar": "Содержание",
   "toc_cell": true,
   "toc_position": {
    "height": "calc(100% - 180px)",
    "left": "10px",
    "top": "150px",
    "width": "325.556px"
   },
   "toc_section_display": true,
   "toc_window_display": false
  }
 },
 "nbformat": 4,
 "nbformat_minor": 2
}
