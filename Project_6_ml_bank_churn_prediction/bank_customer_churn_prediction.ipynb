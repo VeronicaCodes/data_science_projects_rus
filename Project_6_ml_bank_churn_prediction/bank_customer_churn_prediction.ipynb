{
 "cells": [
  {
   "cell_type": "markdown",
   "metadata": {
    "toc": true
   },
   "source": [
    "<h1>Содержание<span class=\"tocSkip\"></span></h1>\n",
    "<div class=\"toc\"><ul class=\"toc-item\"><li><span><a href=\"#Отток-клиентов\" data-toc-modified-id=\"Отток-клиентов-1\"><span class=\"toc-item-num\">1&nbsp;&nbsp;</span>Отток клиентов</a></span><ul class=\"toc-item\"><li><span><a href=\"#1.1-Описание-данных\" data-toc-modified-id=\"1.1-Описание-данных-1.1\"><span class=\"toc-item-num\">1.1&nbsp;&nbsp;</span>1.1 Описание данных</a></span></li></ul></li><li><span><a href=\"#Подготовка-данных\" data-toc-modified-id=\"Подготовка-данных-2\"><span class=\"toc-item-num\">2&nbsp;&nbsp;</span>Подготовка данных</a></span></li><li><span><a href=\"#Исследование-задачи\" data-toc-modified-id=\"Исследование-задачи-3\"><span class=\"toc-item-num\">3&nbsp;&nbsp;</span>Исследование задачи</a></span><ul class=\"toc-item\"><li><span><a href=\"#Дерево-Решений\" data-toc-modified-id=\"Дерево-Решений-3.1\"><span class=\"toc-item-num\">3.1&nbsp;&nbsp;</span>Дерево Решений</a></span></li><li><span><a href=\"#Случайный-лес\" data-toc-modified-id=\"Случайный-лес-3.2\"><span class=\"toc-item-num\">3.2&nbsp;&nbsp;</span>Случайный лес</a></span></li><li><span><a href=\"#Логистическая-Регрессия\" data-toc-modified-id=\"Логистическая-Регрессия-3.3\"><span class=\"toc-item-num\">3.3&nbsp;&nbsp;</span>Логистическая Регрессия</a></span></li></ul></li><li><span><a href=\"#Борьба-с-дисбалансом\" data-toc-modified-id=\"Борьба-с-дисбалансом-4\"><span class=\"toc-item-num\">4&nbsp;&nbsp;</span>Борьба с дисбалансом</a></span><ul class=\"toc-item\"><li><span><a href=\"#Upsampling\" data-toc-modified-id=\"Upsampling-4.1\"><span class=\"toc-item-num\">4.1&nbsp;&nbsp;</span>Upsampling</a></span></li><li><span><a href=\"#Downsampling\" data-toc-modified-id=\"Downsampling-4.2\"><span class=\"toc-item-num\">4.2&nbsp;&nbsp;</span>Downsampling</a></span></li><li><span><a href=\"#Дерево-Решений\" data-toc-modified-id=\"Дерево-Решений-4.3\"><span class=\"toc-item-num\">4.3&nbsp;&nbsp;</span>Дерево Решений</a></span></li><li><span><a href=\"#Случайный-лес\" data-toc-modified-id=\"Случайный-лес-4.4\"><span class=\"toc-item-num\">4.4&nbsp;&nbsp;</span>Случайный лес</a></span></li><li><span><a href=\"#Логистическая-Регрессия\" data-toc-modified-id=\"Логистическая-Регрессия-4.5\"><span class=\"toc-item-num\">4.5&nbsp;&nbsp;</span>Логистическая Регрессия</a></span></li></ul></li><li><span><a href=\"#Тестирование-модели\" data-toc-modified-id=\"Тестирование-модели-5\"><span class=\"toc-item-num\">5&nbsp;&nbsp;</span>Тестирование модели</a></span></li><li><span><a href=\"#Общий-вывод\" data-toc-modified-id=\"Общий-вывод-6\"><span class=\"toc-item-num\">6&nbsp;&nbsp;</span>Общий вывод</a></span></li></ul></div>"
   ]
  },
  {
   "cell_type": "markdown",
   "metadata": {},
   "source": [
    "# Отток клиентов"
   ]
  },
  {
   "cell_type": "markdown",
   "metadata": {},
   "source": [
    "Из «Бета-Банка» стали уходить клиенты. Каждый месяц. Немного, но заметно. Банковские маркетологи посчитали: сохранять текущих клиентов дешевле, чем привлекать новых.\n",
    "\n",
    "Нужно спрогнозировать, уйдёт клиент из банка в ближайшее время или нет. Вам предоставлены исторические данные о поведении клиентов и расторжении договоров с банком. \n",
    "\n",
    "Постройте модель с предельно большим значением *F1*-меры. Чтобы сдать проект успешно, нужно довести метрику до 0.59. Проверьте *F1*-меру на тестовой выборке самостоятельно.\n",
    "\n",
    "Дополнительно измеряйте *AUC-ROC*, сравнивайте её значение с *F1*-мерой.\n",
    "\n",
    "Источник данных: [https://www.kaggle.com/barelydedicated/bank-customer-churn-modeling](https://www.kaggle.com/barelydedicated/bank-customer-churn-modeling)"
   ]
  },
  {
   "cell_type": "markdown",
   "metadata": {},
   "source": [
    "## 1.1 Описание данных"
   ]
  },
  {
   "cell_type": "markdown",
   "metadata": {},
   "source": [
    "**Признаки**\n",
    "<br>RowNumber — индекс строки в данных\n",
    "<br>CustomerId — уникальный идентификатор клиента\n",
    "<br>Surname — фамилия\n",
    "<br>CreditScore — кредитный рейтинг\n",
    "<br>Geography — страна проживания\n",
    "<br>Gender — пол\n",
    "<br>Age — возраст\n",
    "<br>Tenure — сколько лет человек является клиентом банка\n",
    "<br>Balance — баланс на счёте\n",
    "<br>NumOfProducts — количество продуктов банка, используемых клиентом\n",
    "<br>HasCrCard — наличие кредитной карты\n",
    "<br>IsActiveMember — активность клиента\n",
    "<br>EstimatedSalary — предполагаемая зарплата\n",
    "\n",
    "**Целевой признак**\n",
    "<br>Exited — факт ухода клиента"
   ]
  },
  {
   "cell_type": "markdown",
   "metadata": {},
   "source": [
    "# Подготовка данных"
   ]
  },
  {
   "cell_type": "code",
   "execution_count": 201,
   "metadata": {},
   "outputs": [],
   "source": [
    "import pandas as pd\n",
    "import numpy as np\n",
    "import warnings\n",
    "from sklearn.tree import DecisionTreeClassifier\n",
    "from sklearn.ensemble import RandomForestClassifier\n",
    "from sklearn.linear_model import LogisticRegression\n",
    "from sklearn.model_selection import train_test_split\n",
    "from sklearn.metrics import f1_score\n",
    "import matplotlib.pyplot as plt\n",
    "from sklearn.preprocessing import OrdinalEncoder\n",
    "from sklearn.preprocessing import StandardScaler\n",
    "from sklearn.utils import resample\n",
    "from sklearn.utils import shuffle\n",
    "from sklearn.metrics import precision_score, recall_score\n",
    "from statsmodels.stats.outliers_influence import variance_inflation_factor\n",
    "from sklearn.metrics import roc_auc_score\n",
    "from sklearn.metrics import roc_curve "
   ]
  },
  {
   "cell_type": "code",
   "execution_count": 202,
   "metadata": {},
   "outputs": [
    {
     "data": {
      "text/html": [
       "<div>\n",
       "<style scoped>\n",
       "    .dataframe tbody tr th:only-of-type {\n",
       "        vertical-align: middle;\n",
       "    }\n",
       "\n",
       "    .dataframe tbody tr th {\n",
       "        vertical-align: top;\n",
       "    }\n",
       "\n",
       "    .dataframe thead th {\n",
       "        text-align: right;\n",
       "    }\n",
       "</style>\n",
       "<table border=\"1\" class=\"dataframe\">\n",
       "  <thead>\n",
       "    <tr style=\"text-align: right;\">\n",
       "      <th></th>\n",
       "      <th>RowNumber</th>\n",
       "      <th>CustomerId</th>\n",
       "      <th>Surname</th>\n",
       "      <th>CreditScore</th>\n",
       "      <th>Geography</th>\n",
       "      <th>Gender</th>\n",
       "      <th>Age</th>\n",
       "      <th>Tenure</th>\n",
       "      <th>Balance</th>\n",
       "      <th>NumOfProducts</th>\n",
       "      <th>HasCrCard</th>\n",
       "      <th>IsActiveMember</th>\n",
       "      <th>EstimatedSalary</th>\n",
       "      <th>Exited</th>\n",
       "    </tr>\n",
       "  </thead>\n",
       "  <tbody>\n",
       "    <tr>\n",
       "      <td>0</td>\n",
       "      <td>1</td>\n",
       "      <td>15634602</td>\n",
       "      <td>Hargrave</td>\n",
       "      <td>619</td>\n",
       "      <td>France</td>\n",
       "      <td>Female</td>\n",
       "      <td>42</td>\n",
       "      <td>2.0</td>\n",
       "      <td>0.00</td>\n",
       "      <td>1</td>\n",
       "      <td>1</td>\n",
       "      <td>1</td>\n",
       "      <td>101348.88</td>\n",
       "      <td>1</td>\n",
       "    </tr>\n",
       "    <tr>\n",
       "      <td>1</td>\n",
       "      <td>2</td>\n",
       "      <td>15647311</td>\n",
       "      <td>Hill</td>\n",
       "      <td>608</td>\n",
       "      <td>Spain</td>\n",
       "      <td>Female</td>\n",
       "      <td>41</td>\n",
       "      <td>1.0</td>\n",
       "      <td>83807.86</td>\n",
       "      <td>1</td>\n",
       "      <td>0</td>\n",
       "      <td>1</td>\n",
       "      <td>112542.58</td>\n",
       "      <td>0</td>\n",
       "    </tr>\n",
       "    <tr>\n",
       "      <td>2</td>\n",
       "      <td>3</td>\n",
       "      <td>15619304</td>\n",
       "      <td>Onio</td>\n",
       "      <td>502</td>\n",
       "      <td>France</td>\n",
       "      <td>Female</td>\n",
       "      <td>42</td>\n",
       "      <td>8.0</td>\n",
       "      <td>159660.80</td>\n",
       "      <td>3</td>\n",
       "      <td>1</td>\n",
       "      <td>0</td>\n",
       "      <td>113931.57</td>\n",
       "      <td>1</td>\n",
       "    </tr>\n",
       "    <tr>\n",
       "      <td>3</td>\n",
       "      <td>4</td>\n",
       "      <td>15701354</td>\n",
       "      <td>Boni</td>\n",
       "      <td>699</td>\n",
       "      <td>France</td>\n",
       "      <td>Female</td>\n",
       "      <td>39</td>\n",
       "      <td>1.0</td>\n",
       "      <td>0.00</td>\n",
       "      <td>2</td>\n",
       "      <td>0</td>\n",
       "      <td>0</td>\n",
       "      <td>93826.63</td>\n",
       "      <td>0</td>\n",
       "    </tr>\n",
       "    <tr>\n",
       "      <td>4</td>\n",
       "      <td>5</td>\n",
       "      <td>15737888</td>\n",
       "      <td>Mitchell</td>\n",
       "      <td>850</td>\n",
       "      <td>Spain</td>\n",
       "      <td>Female</td>\n",
       "      <td>43</td>\n",
       "      <td>2.0</td>\n",
       "      <td>125510.82</td>\n",
       "      <td>1</td>\n",
       "      <td>1</td>\n",
       "      <td>1</td>\n",
       "      <td>79084.10</td>\n",
       "      <td>0</td>\n",
       "    </tr>\n",
       "  </tbody>\n",
       "</table>\n",
       "</div>"
      ],
      "text/plain": [
       "   RowNumber  CustomerId   Surname  CreditScore Geography  Gender  Age  \\\n",
       "0          1    15634602  Hargrave          619    France  Female   42   \n",
       "1          2    15647311      Hill          608     Spain  Female   41   \n",
       "2          3    15619304      Onio          502    France  Female   42   \n",
       "3          4    15701354      Boni          699    France  Female   39   \n",
       "4          5    15737888  Mitchell          850     Spain  Female   43   \n",
       "\n",
       "   Tenure    Balance  NumOfProducts  HasCrCard  IsActiveMember  \\\n",
       "0     2.0       0.00              1          1               1   \n",
       "1     1.0   83807.86              1          0               1   \n",
       "2     8.0  159660.80              3          1               0   \n",
       "3     1.0       0.00              2          0               0   \n",
       "4     2.0  125510.82              1          1               1   \n",
       "\n",
       "   EstimatedSalary  Exited  \n",
       "0        101348.88       1  \n",
       "1        112542.58       0  \n",
       "2        113931.57       1  \n",
       "3         93826.63       0  \n",
       "4         79084.10       0  "
      ]
     },
     "metadata": {},
     "output_type": "display_data"
    },
    {
     "name": "stdout",
     "output_type": "stream",
     "text": [
      "<class 'pandas.core.frame.DataFrame'>\n",
      "RangeIndex: 10000 entries, 0 to 9999\n",
      "Data columns (total 14 columns):\n",
      "RowNumber          10000 non-null int64\n",
      "CustomerId         10000 non-null int64\n",
      "Surname            10000 non-null object\n",
      "CreditScore        10000 non-null int64\n",
      "Geography          10000 non-null object\n",
      "Gender             10000 non-null object\n",
      "Age                10000 non-null int64\n",
      "Tenure             9091 non-null float64\n",
      "Balance            10000 non-null float64\n",
      "NumOfProducts      10000 non-null int64\n",
      "HasCrCard          10000 non-null int64\n",
      "IsActiveMember     10000 non-null int64\n",
      "EstimatedSalary    10000 non-null float64\n",
      "Exited             10000 non-null int64\n",
      "dtypes: float64(3), int64(8), object(3)\n",
      "memory usage: 1.1+ MB\n",
      "\n",
      "Кол-во дубликатов:\n"
     ]
    },
    {
     "data": {
      "text/plain": [
       "0"
      ]
     },
     "metadata": {},
     "output_type": "display_data"
    },
    {
     "name": "stdout",
     "output_type": "stream",
     "text": [
      "France     5014\n",
      "Germany    2509\n",
      "Spain      2477\n",
      "Name: Geography, dtype: int64\n",
      "Male      5457\n",
      "Female    4543\n",
      "Name: Gender, dtype: int64\n"
     ]
    }
   ],
   "source": [
    "#Загрузим необходимые данные и проведем первичную оценку\n",
    "df = pd.read_csv('/datasets/Churn.csv')\n",
    "display(df.head())\n",
    "df.info()\n",
    "\n",
    "#Проверка на дубликаты\n",
    "print()\n",
    "print('Кол-во дубликатов:')\n",
    "display(df.duplicated().sum())\n",
    "\n",
    "#Проверка данных в столбцах, которые возможно подлежат порядковому кодированию\n",
    "print(df['Geography'].value_counts())\n",
    "print(df['Gender'].value_counts())"
   ]
  },
  {
   "cell_type": "code",
   "execution_count": 203,
   "metadata": {},
   "outputs": [],
   "source": [
    "#Заполнение пропусков в соответствующем столбце\n",
    "df['Tenure'] = df['Tenure'].fillna(df['Tenure'].median())\n",
    "#df.info()\n",
    "\n",
    "#Проведение прямогок кодирования в данных\n",
    "encoder = OrdinalEncoder()\n",
    "data = pd.DataFrame(encoder.fit_transform(df),columns=df.columns)\n",
    "\n",
    "# Определение целевого признака\n",
    "features = data.drop(['Exited','Surname','CustomerId','RowNumber'], axis=1)\n",
    "target = data['Exited']"
   ]
  },
  {
   "cell_type": "code",
   "execution_count": 204,
   "metadata": {},
   "outputs": [
    {
     "data": {
      "text/html": [
       "<div>\n",
       "<style scoped>\n",
       "    .dataframe tbody tr th:only-of-type {\n",
       "        vertical-align: middle;\n",
       "    }\n",
       "\n",
       "    .dataframe tbody tr th {\n",
       "        vertical-align: top;\n",
       "    }\n",
       "\n",
       "    .dataframe thead th {\n",
       "        text-align: right;\n",
       "    }\n",
       "</style>\n",
       "<table border=\"1\" class=\"dataframe\">\n",
       "  <thead>\n",
       "    <tr style=\"text-align: right;\">\n",
       "      <th></th>\n",
       "      <th>feature</th>\n",
       "      <th>VIF</th>\n",
       "    </tr>\n",
       "  </thead>\n",
       "  <tbody>\n",
       "    <tr>\n",
       "      <td>0</td>\n",
       "      <td>CreditScore</td>\n",
       "      <td>5.979355</td>\n",
       "    </tr>\n",
       "    <tr>\n",
       "      <td>1</td>\n",
       "      <td>Geography</td>\n",
       "      <td>1.777708</td>\n",
       "    </tr>\n",
       "    <tr>\n",
       "      <td>2</td>\n",
       "      <td>Gender</td>\n",
       "      <td>2.098057</td>\n",
       "    </tr>\n",
       "    <tr>\n",
       "      <td>3</td>\n",
       "      <td>Age</td>\n",
       "      <td>4.253670</td>\n",
       "    </tr>\n",
       "    <tr>\n",
       "      <td>4</td>\n",
       "      <td>Tenure</td>\n",
       "      <td>3.762418</td>\n",
       "    </tr>\n",
       "    <tr>\n",
       "      <td>5</td>\n",
       "      <td>Balance</td>\n",
       "      <td>1.944726</td>\n",
       "    </tr>\n",
       "    <tr>\n",
       "      <td>6</td>\n",
       "      <td>NumOfProducts</td>\n",
       "      <td>1.847354</td>\n",
       "    </tr>\n",
       "    <tr>\n",
       "      <td>7</td>\n",
       "      <td>HasCrCard</td>\n",
       "      <td>3.075955</td>\n",
       "    </tr>\n",
       "    <tr>\n",
       "      <td>8</td>\n",
       "      <td>IsActiveMember</td>\n",
       "      <td>2.024533</td>\n",
       "    </tr>\n",
       "    <tr>\n",
       "      <td>9</td>\n",
       "      <td>EstimatedSalary</td>\n",
       "      <td>3.533956</td>\n",
       "    </tr>\n",
       "  </tbody>\n",
       "</table>\n",
       "</div>"
      ],
      "text/plain": [
       "           feature       VIF\n",
       "0      CreditScore  5.979355\n",
       "1        Geography  1.777708\n",
       "2           Gender  2.098057\n",
       "3              Age  4.253670\n",
       "4           Tenure  3.762418\n",
       "5          Balance  1.944726\n",
       "6    NumOfProducts  1.847354\n",
       "7        HasCrCard  3.075955\n",
       "8   IsActiveMember  2.024533\n",
       "9  EstimatedSalary  3.533956"
      ]
     },
     "metadata": {},
     "output_type": "display_data"
    }
   ],
   "source": [
    "# Проверка на мультиколлинеарность с помощью VIF\n",
    "vif_data = pd.DataFrame()\n",
    "vif_data[\"feature\"] = features.columns\n",
    "vif_data[\"VIF\"] = [variance_inflation_factor(features.values, i) for i in range(len(features.columns))]\n",
    "display(vif_data)"
   ]
  },
  {
   "cell_type": "code",
   "execution_count": 205,
   "metadata": {},
   "outputs": [],
   "source": [
    "# Разбивка данных на тренировочную, тестовую и валидационную выборки\n",
    "features_train, features_test, target_train, target_test = train_test_split(features, target,test_size=0.2,random_state=12345)\n",
    "features_train,features_valid, target_train, target_valid = train_test_split(features_train,target_train,test_size = 0.25,random_state=12345)\n",
    "\n",
    "numeric = ['CreditScore', 'Age','EstimatedSalary']\n",
    "\n",
    "# Масштабирование признаков\n",
    "scaler = StandardScaler()\n",
    "scaler.fit(features_train[numeric])\n",
    "features_train[numeric] = scaler.transform(features_train[numeric])\n",
    "features_valid[numeric] = scaler.transform(features_valid[numeric])\n",
    "features_test[numeric] = scaler.transform(features_test[numeric])\n",
    "pd.options.mode.chained_assignment = None"
   ]
  },
  {
   "cell_type": "markdown",
   "metadata": {},
   "source": [
    "**Вывод для шага 2:** Данные изучены. \n",
    "1. Пропуски присутствоввали в столбце 'Tenure'(кол-во лет будучи клиентом банка) и были заполнены медианой.\n",
    "2. Проведели прямогое кодирования в данных, чтобы подогнать данные для работы с регрессией.\n",
    "3. Целевой признак в задаче -Exited, а признаки - все остальное. Фамилии, ID покупателей и Row_number будут только мешать обучению модели, поэтому они были удалены.\n",
    "4. Проверили модель на мультиколлинерность - не выявлено.\n",
    "5. Разбили модели на 3 выборки: тестовую, обучающую и валидационную\n",
    "6. Провели масштабирование признаков Credit_Scоre, Age и EstimatedSalary, так как при признаках с разными масштабами модель автоматически посчитает, что какой-то признак важнее других"
   ]
  },
  {
   "cell_type": "markdown",
   "metadata": {},
   "source": [
    "# Исследование задачи"
   ]
  },
  {
   "cell_type": "code",
   "execution_count": 206,
   "metadata": {
    "scrolled": false
   },
   "outputs": [
    {
     "name": "stdout",
     "output_type": "stream",
     "text": [
      "Кол-во 0 и 1 в датасете:\n",
      "0    7963\n",
      "1    2037\n",
      "Name: Exited, dtype: int64\n",
      "Баланс классов: 0.25580811252040686\n"
     ]
    }
   ],
   "source": [
    "#Оценка балансов классов в целевом признаке\n",
    "print('Кол-во 0 и 1 в датасете:')\n",
    "print(df['Exited'].value_counts())\n",
    "\n",
    "print('Баланс классов:',2037/7963) #Чаще всего границу принимают на уровне 0.25-0.30 , всё, что ниже - однозначно в балансировку)"
   ]
  },
  {
   "cell_type": "markdown",
   "metadata": {},
   "source": [
    "## Дерево Решений"
   ]
  },
  {
   "cell_type": "code",
   "execution_count": 207,
   "metadata": {},
   "outputs": [
    {
     "name": "stdout",
     "output_type": "stream",
     "text": [
      "Accuracy модели на валидационной выборке: 0.5257142857142857 Глубина: 12\n"
     ]
    }
   ],
   "source": [
    "#Обучение модели без балансировки - Дерево Решений\n",
    "warnings.filterwarnings('ignore')\n",
    "best_depth = 0\n",
    "best_result = 0\n",
    "for depth in range(1, 31, 1):\n",
    "    DecisionTree_model = DecisionTreeClassifier(random_state=12345, max_depth=depth).fit(features_train, target_train)\n",
    "    predicted_valid = DecisionTree_model.predict(features_valid)\n",
    "    f1 = f1_score(target_valid, predicted_valid)\n",
    "    if f1 > best_result:\n",
    "        best_result = f1\n",
    "        best_depth = depth\n",
    "\n",
    "\n",
    "print(\"Accuracy модели на валидационной выборке:\", best_result, \"Глубина:\", best_depth)"
   ]
  },
  {
   "cell_type": "markdown",
   "metadata": {},
   "source": [
    "## Случайный лес"
   ]
  },
  {
   "cell_type": "code",
   "execution_count": 208,
   "metadata": {},
   "outputs": [
    {
     "name": "stdout",
     "output_type": "stream",
     "text": [
      "Accuracy модели на валидационной выборке: 0.4836272040302267 Кол-во деревьев: 1 Глубина: 1\n"
     ]
    }
   ],
   "source": [
    "#Обучение модели без балансировки - Случайный лес\n",
    "best_result = 0\n",
    "best_est = 0\n",
    "best_depth = 0\n",
    "for estimator in range(1, 31, 1):\n",
    "    for depth in range(1, 31, 1):\n",
    "        RanForest_model = RandomForestClassifier(random_state=12345, n_estimators=estimator, max_depth=depth).fit(features_train, target_train)\n",
    "        f1 = f1_score(target_valid, predicted_valid)\n",
    "        if f1 > best_result:\n",
    "            best_result = f1\n",
    "            best_est = estimator\n",
    "            best_depth = depth\n",
    "\n",
    "print(\"Accuracy модели на валидационной выборке:\", best_result,\"Кол-во деревьев:\", best_est, \"Глубина:\", best_depth)"
   ]
  },
  {
   "cell_type": "markdown",
   "metadata": {},
   "source": [
    "## Логистическая Регрессия"
   ]
  },
  {
   "cell_type": "code",
   "execution_count": 209,
   "metadata": {},
   "outputs": [
    {
     "name": "stdout",
     "output_type": "stream",
     "text": [
      "F1-мера модели на валидационной выборке:\n"
     ]
    }
   ],
   "source": [
    "#Обучение модели без балансировки - Логистическая Регрессия\n",
    "best_result = 0\n",
    "LogisticReg_model = LogisticRegression(random_state=12345,solver='liblinear').fit(features_train, target_train)\n",
    "f1 = f1_score(target_valid, predicted_valid)\n",
    "if f1 > best_result:\n",
    "    best_result = f1\n",
    "\n",
    "print(\"F1-мера модели на валидационной выборке:\")"
   ]
  },
  {
   "cell_type": "markdown",
   "metadata": {},
   "source": [
    "**Вывод по шагу 3:** Без балансировки данных, показатели F1-меры неудовлетворительны ни в одной из моделей. Кроме того, модели считают, что так как 0-го признака намного больше, чем 1-го признака, то он важнее, хотя на самом деле оба признака важны в анализе. "
   ]
  },
  {
   "cell_type": "markdown",
   "metadata": {},
   "source": [
    "# Борьба с дисбалансом"
   ]
  },
  {
   "cell_type": "markdown",
   "metadata": {},
   "source": [
    "## Upsampling"
   ]
  },
  {
   "cell_type": "code",
   "execution_count": 210,
   "metadata": {},
   "outputs": [
    {
     "name": "stdout",
     "output_type": "stream",
     "text": [
      "Кол-во 0 и 1 в train_target sample:\n"
     ]
    },
    {
     "data": {
      "text/plain": [
       "0.0    4781\n",
       "1.0    1219\n",
       "Name: Exited, dtype: int64"
      ]
     },
     "metadata": {},
     "output_type": "display_data"
    },
    {
     "name": "stdout",
     "output_type": "stream",
     "text": [
      "F1: 0.46815834767642\n"
     ]
    }
   ],
   "source": [
    "# так как балансировать принятно на train sample, проверим балланс классов в данном сэмпле\n",
    "print('Кол-во 0 и 1 в train_target sample:')\n",
    "display(target_train.value_counts())\n",
    "\n",
    "def upsample(features, target, repeat):\n",
    "    features_zeros = features[target == 0]\n",
    "    features_ones = features[target == 1]\n",
    "    target_zeros = target[target == 0]\n",
    "    target_ones = target[target == 1]\n",
    "\n",
    "    features_upsampled = pd.concat([features_zeros] + [features_ones] * repeat)\n",
    "    target_upsampled = pd.concat([target_zeros] + [target_ones] * repeat)\n",
    "    \n",
    "    features_upsampled, target_upsampled = shuffle(\n",
    "        features_upsampled, target_upsampled, random_state=12345)\n",
    "    \n",
    "    return features_upsampled, target_upsampled\n",
    "\n",
    "features_upsampled, target_upsampled = upsample(features_train, target_train, 4)\n",
    "\n",
    "model = LogisticRegression(random_state=12345,solver='liblinear')\n",
    "model.fit(features_upsampled, target_upsampled)\n",
    "predicted_valid = model.predict(features_valid)\n",
    "print(\"F1:\", f1_score(target_valid, predicted_valid))"
   ]
  },
  {
   "cell_type": "markdown",
   "metadata": {},
   "source": [
    "## Downsampling"
   ]
  },
  {
   "cell_type": "code",
   "execution_count": 211,
   "metadata": {},
   "outputs": [
    {
     "name": "stdout",
     "output_type": "stream",
     "text": [
      "Кол-во 0 и 1 в train_target sample:\n"
     ]
    },
    {
     "data": {
      "text/plain": [
       "0.0    4781\n",
       "1.0    1219\n",
       "Name: Exited, dtype: int64"
      ]
     },
     "metadata": {},
     "output_type": "display_data"
    },
    {
     "name": "stdout",
     "output_type": "stream",
     "text": [
      "F1: 0.3989071038251366\n",
      "<class 'pandas.core.frame.DataFrame'>\n",
      "Int64Index: 1697 entries, 1534 to 7049\n",
      "Data columns (total 10 columns):\n",
      "CreditScore        1697 non-null float64\n",
      "Geography          1697 non-null float64\n",
      "Gender             1697 non-null float64\n",
      "Age                1697 non-null float64\n",
      "Tenure             1697 non-null float64\n",
      "Balance            1697 non-null float64\n",
      "NumOfProducts      1697 non-null float64\n",
      "HasCrCard          1697 non-null float64\n",
      "IsActiveMember     1697 non-null float64\n",
      "EstimatedSalary    1697 non-null float64\n",
      "dtypes: float64(10)\n",
      "memory usage: 145.8 KB\n",
      "None\n"
     ]
    }
   ],
   "source": [
    "# так как балансировать принятно на train sample, проверим балланс классов в данном сэмпле\n",
    "print('Кол-во 0 и 1 в train_target sample:')\n",
    "display(target_train.value_counts())\n",
    "\n",
    "def downsample(features, target, fraction):\n",
    "    features_zeros = features[target == 0]\n",
    "    features_ones = features[target == 1]\n",
    "    target_zeros = target[target == 0]\n",
    "    target_ones = target[target == 1]\n",
    "\n",
    "    features_downsampled = pd.concat(\n",
    "        [features_zeros.sample(frac=fraction, random_state=12345)] + [features_ones])\n",
    "    target_downsampled = pd.concat(\n",
    "        [target_zeros.sample(frac=fraction, random_state=12345)] + [target_ones])\n",
    "    \n",
    "    features_downsampled, target_downsampled = shuffle(\n",
    "        features_downsampled, target_downsampled, random_state=12345)\n",
    "    \n",
    "    return features_downsampled, target_downsampled\n",
    "\n",
    "\n",
    "features_downsampled, target_downsampled = downsample(features_train, target_train, 0.1)\n",
    "\n",
    "model = LogisticRegression(random_state=12345,solver='liblinear')\n",
    "model.fit(features_downsampled, target_downsampled)\n",
    "predicted_valid = model.predict(features_valid)\n",
    "\n",
    "\n",
    "print(\"F1:\", f1_score(target_valid, predicted_valid))\n",
    "print(features_downsampled.info())"
   ]
  },
  {
   "cell_type": "markdown",
   "metadata": {},
   "source": [
    "**Вывод:** \n",
    "1.  Было использовано два метода для борьбы с дисбалансом в данных: upsampling & downsampling. Из двух проведенных проверочных логистических регрессий и оценки меры F-1, наилучший результат показал метод Upsampling.\n",
    "2. Другой недостаток второго метода  - мы выкидываем довольно большое количество данных из массива, что не желательно в большинстве случаев, так как недостаточно данных, чтобы обучить модель."
   ]
  },
  {
   "cell_type": "markdown",
   "metadata": {},
   "source": [
    "## Дерево Решений"
   ]
  },
  {
   "cell_type": "code",
   "execution_count": 212,
   "metadata": {},
   "outputs": [
    {
     "name": "stdout",
     "output_type": "stream",
     "text": [
      "F1-мера модели на валидационной выборке: 0.42811906269791 Глубина: 1\n"
     ]
    }
   ],
   "source": [
    "# Обучение модели  - Дерево Решений\n",
    "warnings.filterwarnings('ignore')\n",
    "best_depth = 0\n",
    "best_result = 0\n",
    "for threshold in np.arange(0.3, 0.6, 0.02): \n",
    "    for depth in range(1, 16, 1):\n",
    "        DecisionTree_model = DecisionTreeClassifier(random_state=12345, max_depth=depth).fit(features_upsampled, target_upsampled)\n",
    "        probabilities_valid = model.predict_proba(features_valid)\n",
    "        probabilities_one_valid = probabilities_valid[:, 1]\n",
    "        \n",
    "        predicted_valid = probabilities_one_valid > threshold\n",
    "        precision = precision_score(target_valid, predicted_valid)\n",
    "        f1 = f1_score(target_valid, predicted_valid)\n",
    "        if f1 > best_result:\n",
    "            best_result = f1\n",
    "            best_depth = depth\n",
    "\n",
    "\n",
    "print(\"F1-мера модели на валидационной выборке:\", best_result, \"Глубина:\", best_depth)"
   ]
  },
  {
   "cell_type": "markdown",
   "metadata": {},
   "source": [
    "## Случайный лес"
   ]
  },
  {
   "cell_type": "code",
   "execution_count": 213,
   "metadata": {},
   "outputs": [
    {
     "name": "stdout",
     "output_type": "stream",
     "text": [
      "F1-мера модели на валидационной выборке: 0.5982142857142857 Кол-во деревьев: 15 Глубина: 10\n"
     ]
    }
   ],
   "source": [
    "# Обучение модели  - случайный лес\n",
    "best_result = 0\n",
    "best_est = 0\n",
    "best_depth = 0\n",
    "for estimator in range(1, 20, 1):\n",
    "    for depth in range(1, 31, 1):\n",
    "        RanForest_model = RandomForestClassifier(random_state=12345, n_estimators=estimator, max_depth=depth).fit(features_upsampled, target_upsampled)\n",
    "        predicted_valid = RanForest_model.predict(features_valid)\n",
    "        f1 = f1_score(target_valid, predicted_valid)\n",
    "        if f1 > best_result:\n",
    "            best_result = f1\n",
    "            best_depth = depth\n",
    "            best_est = estimator\n",
    "\n",
    "print(\"F1-мера модели на валидационной выборке:\", best_result,\"Кол-во деревьев:\", best_est, \"Глубина:\", best_depth)"
   ]
  },
  {
   "cell_type": "markdown",
   "metadata": {},
   "source": [
    "## Логистическая Регрессия"
   ]
  },
  {
   "cell_type": "code",
   "execution_count": 214,
   "metadata": {},
   "outputs": [
    {
     "name": "stdout",
     "output_type": "stream",
     "text": [
      "F1-мера модели на валидационной выборке: 0.4771573604060914\n"
     ]
    }
   ],
   "source": [
    "# Обучение модели  - Логистическая регрессия\n",
    "model = LogisticRegression(random_state=12345,solver='liblinear').fit(features_upsampled, target_upsampled)\n",
    "probabilities_valid = model.predict_proba(features_valid)\n",
    "probabilities_one_valid = probabilities_valid[:, 1]\n",
    "\n",
    "best_f1 = 0\n",
    "\n",
    "for threshold in np.arange(0.3, 0.6, 0.02):\n",
    "    predicted_valid = probabilities_one_valid > threshold\n",
    "    precision = precision_score(target_valid, predicted_valid)\n",
    "    recall = recall_score(target_valid, predicted_valid)\n",
    "    f1 = f1_score(target_valid, predicted_valid)\n",
    "    if f1 > best_f1:\n",
    "        best_f1 = f1\n",
    "\n",
    "print(\"F1-мера модели на валидационной выборке:\", best_f1)"
   ]
  },
  {
   "cell_type": "markdown",
   "metadata": {},
   "source": [
    "**Вывод по шагу 4:** Проведя балансировку данных и остановившись на методе upsampling провели анализ 3х различных моделей с подбором порога на валидационных выборках. Результат: из 3-х моделей, только модель Случайный тест показала результат выше желаемого 0.59 в f1-мере, поэтому выбираем эту модель."
   ]
  },
  {
   "cell_type": "markdown",
   "metadata": {},
   "source": [
    "# Тестирование модели"
   ]
  },
  {
   "cell_type": "code",
   "execution_count": 215,
   "metadata": {
    "scrolled": true
   },
   "outputs": [
    {
     "name": "stdout",
     "output_type": "stream",
     "text": [
      "F1-Мера модели на валидационной выборке: 0.6139240506329114\n",
      "Значение AUC-ROC =  0.7676407050475607\n"
     ]
    },
    {
     "data": {
      "image/png": "[encoded data removed]",
      "text/plain": [
       "<Figure size 432x288 with 1 Axes>"
      ]
     },
     "metadata": {
      "needs_background": "light"
     },
     "output_type": "display_data"
    },
    {
     "data": {
      "image/png": "[encoded data removed]",
      "text/plain": [
       "<Figure size 432x288 with 1 Axes>"
      ]
     },
     "metadata": {
      "needs_background": "light"
     },
     "output_type": "display_data"
    }
   ],
   "source": [
    "RanForest_model = RandomForestClassifier(random_state=12345, n_estimators=15, max_depth=10).fit(features_upsampled, target_upsampled)\n",
    "predicted_test = RanForest_model.predict(features_test)\n",
    "f1 = f1_score(target_test, predicted_test)\n",
    "\n",
    "\n",
    "print(\"F1-Мера модели на валидационной выборке:\", f1)\n",
    "\n",
    "probabilities_test = model.predict_proba(features_test)\n",
    "probabilities_one_valid = probabilities_test[:, 1]\n",
    "auc_roc = roc_auc_score(target_test, predicted_test)\n",
    "\n",
    "print('Значение AUC-ROC = ',auc_roc)\n",
    "\n",
    "fpr, tpr, thresholds = roc_curve(target_valid, probabilities_one_valid) \n",
    "\n",
    "plt.figure()\n",
    "plt.plot([0, 1], [0, 1], linestyle='--')\n",
    "plt.figure()\n",
    "plt.plot(fpr, tpr)\n",
    "plt.xlim([0.0, 1.0])\n",
    "plt.ylim([0.0, 1.0])\n",
    "plt.xlabel('False Positive Rate')\n",
    "plt.ylabel('True Positive Rate')\n",
    "plt.title('ROC-кривая')\n",
    "plt.show()"
   ]
  },
  {
   "cell_type": "markdown",
   "metadata": {},
   "source": [
    "<div class=\"alert alert-block alert-info\">\n",
    "<b>Совет (ревью 2): </b> ROC-AUC нужно измерять между настоящими значением и вероятностями класса 1, а не предсказаниями.\n",
    "</div>"
   ]
  },
  {
   "cell_type": "markdown",
   "metadata": {},
   "source": [
    "**Вывод по шагу 5:** Провели тестирование модели с наилучшими показателями (Случайный лес, f_1=0.59) на заранее отобранной тестовой выборке. Результат показал, что f1 мера приблизительно равна f1мере валидационной выборки, так что модель скорее всего не переобучается. Однако ROC-кривая по значениям очень близка к случайной модели и значение auc-roc (0.76) далеко от желаемой 1, что говорит о том, что модель далека от идеала\n"
   ]
  },
  {
   "cell_type": "markdown",
   "metadata": {},
   "source": [
    "# Общий вывод"
   ]
  },
  {
   "cell_type": "markdown",
   "metadata": {},
   "source": [
    "Выводы по пройденым этапам в проекте:\n",
    "1. Открыли, проанализировалли данные, проверив на дубликаты и дисбананс классов в целевом признаке.\n",
    "2. Сбалансировали классы в целевом признаке, создав новый \"сбалансированный\" датасет, по которому разбили данные на 3 выборки\n",
    "3. Исследовали 3 модели \"Дерево решений\", \"Случайный лес\" и \"Логистическая Регрессия\". Лучший результат f1 меры (0.59) показала модель \"Случайный лес\".\n",
    "4. Проверили модели на заранее отделенной части датасета - тестовой выборке. \"Случайный лес\" по-прежнему показала лучшие результаты  f1 меры 0.60 Модель обучена в меру. \n",
    "5. Значение f1 меры значительно ниже значения auc_roc.\n",
    "\n",
    "По заданию, необходимо было построить модель с предельно большим значением F1-меры. Полученная метрика Random Forest 0.61, при метрике auc-roc равной 0.76 \n",
    "Цель достигнута"
   ]
  }
 ],
 "metadata": {
  "ExecuteTimeLog": [
   {
    "duration": 1986,
    "start_time": "2021-12-12T04:43:16.494Z"
   },
   {
    "duration": 17226,
    "start_time": "2021-12-12T04:45:11.286Z"
   },
   {
    "duration": 48,
    "start_time": "2021-12-12T04:45:46.174Z"
   },
   {
    "duration": 4,
    "start_time": "2021-12-12T04:53:48.071Z"
   },
   {
    "duration": 4,
    "start_time": "2021-12-12T04:53:53.888Z"
   },
   {
    "duration": 252,
    "start_time": "2021-12-12T04:54:00.030Z"
   },
   {
    "duration": 4,
    "start_time": "2021-12-12T04:54:07.400Z"
   },
   {
    "duration": 49,
    "start_time": "2021-12-12T04:55:15.251Z"
   },
   {
    "duration": 116,
    "start_time": "2021-12-12T04:55:15.301Z"
   },
   {
    "duration": 50,
    "start_time": "2021-12-12T04:55:53.030Z"
   },
   {
    "duration": 1063,
    "start_time": "2021-12-12T04:55:53.081Z"
   },
   {
    "duration": 1076,
    "start_time": "2021-12-12T04:56:41.991Z"
   },
   {
    "duration": 1915,
    "start_time": "2021-12-12T20:32:17.298Z"
   },
   {
    "duration": 127,
    "start_time": "2021-12-12T20:32:19.216Z"
   },
   {
    "duration": 75,
    "start_time": "2021-12-12T20:32:26.579Z"
   },
   {
    "duration": 14,
    "start_time": "2021-12-12T20:32:26.657Z"
   },
   {
    "duration": 80,
    "start_time": "2021-12-12T20:41:21.390Z"
   },
   {
    "duration": 24,
    "start_time": "2021-12-12T20:41:21.472Z"
   },
   {
    "duration": 519,
    "start_time": "2021-12-12T20:41:21.499Z"
   },
   {
    "duration": 932,
    "start_time": "2021-12-12T20:42:29.621Z"
   },
   {
    "duration": 23,
    "start_time": "2021-12-12T20:42:30.556Z"
   },
   {
    "duration": 662,
    "start_time": "2021-12-12T20:42:30.582Z"
   },
   {
    "duration": 80,
    "start_time": "2021-12-12T20:44:43.311Z"
   },
   {
    "duration": 24,
    "start_time": "2021-12-12T20:44:43.393Z"
   },
   {
    "duration": 393,
    "start_time": "2021-12-12T20:44:43.420Z"
   },
   {
    "duration": 79,
    "start_time": "2021-12-12T20:49:04.531Z"
   },
   {
    "duration": 449,
    "start_time": "2021-12-12T20:49:04.612Z"
   },
   {
    "duration": -582,
    "start_time": "2021-12-12T20:49:05.646Z"
   },
   {
    "duration": 77,
    "start_time": "2021-12-12T20:49:14.299Z"
   },
   {
    "duration": 83,
    "start_time": "2021-12-12T20:49:14.379Z"
   },
   {
    "duration": 402,
    "start_time": "2021-12-12T20:49:14.465Z"
   },
   {
    "duration": 79,
    "start_time": "2021-12-12T20:51:01.679Z"
   },
   {
    "duration": 65,
    "start_time": "2021-12-12T20:51:01.761Z"
   },
   {
    "duration": 397,
    "start_time": "2021-12-12T20:51:01.829Z"
   },
   {
    "duration": 104,
    "start_time": "2021-12-12T20:55:09.257Z"
   },
   {
    "duration": 45,
    "start_time": "2021-12-12T20:55:09.364Z"
   },
   {
    "duration": 403,
    "start_time": "2021-12-12T20:55:09.412Z"
   },
   {
    "duration": 83,
    "start_time": "2021-12-12T20:55:59.083Z"
   },
   {
    "duration": 821,
    "start_time": "2021-12-12T20:55:59.169Z"
   },
   {
    "duration": -769,
    "start_time": "2021-12-12T20:56:00.762Z"
   },
   {
    "duration": 76,
    "start_time": "2021-12-12T20:56:40.499Z"
   },
   {
    "duration": 845,
    "start_time": "2021-12-12T20:56:40.577Z"
   },
   {
    "duration": -1294,
    "start_time": "2021-12-12T20:56:42.719Z"
   },
   {
    "duration": 88,
    "start_time": "2021-12-12T20:58:27.262Z"
   },
   {
    "duration": 877,
    "start_time": "2021-12-12T20:58:27.360Z"
   },
   {
    "duration": -609,
    "start_time": "2021-12-12T20:58:28.848Z"
   },
   {
    "duration": 79,
    "start_time": "2021-12-12T20:59:04.469Z"
   },
   {
    "duration": 783,
    "start_time": "2021-12-12T20:59:04.550Z"
   },
   {
    "duration": -613,
    "start_time": "2021-12-12T20:59:05.948Z"
   },
   {
    "duration": 82,
    "start_time": "2021-12-12T20:59:22.915Z"
   },
   {
    "duration": 591,
    "start_time": "2021-12-12T20:59:23.000Z"
   },
   {
    "duration": 529,
    "start_time": "2021-12-12T20:59:23.594Z"
   },
   {
    "duration": 77,
    "start_time": "2021-12-12T21:00:31.917Z"
   },
   {
    "duration": 4533,
    "start_time": "2021-12-12T21:00:31.997Z"
   },
   {
    "duration": 1765,
    "start_time": "2021-12-12T21:00:36.534Z"
   },
   {
    "duration": 81,
    "start_time": "2021-12-12T21:00:53.194Z"
   },
   {
    "duration": 8096,
    "start_time": "2021-12-12T21:00:53.278Z"
   },
   {
    "duration": 417,
    "start_time": "2021-12-12T21:01:01.377Z"
   },
   {
    "duration": 77,
    "start_time": "2021-12-12T21:01:55.505Z"
   },
   {
    "duration": 4330,
    "start_time": "2021-12-12T21:01:55.585Z"
   },
   {
    "duration": 416,
    "start_time": "2021-12-12T21:01:59.917Z"
   },
   {
    "duration": 77,
    "start_time": "2021-12-12T21:02:50.577Z"
   },
   {
    "duration": 4510,
    "start_time": "2021-12-12T21:02:50.656Z"
   },
   {
    "duration": 129,
    "start_time": "2021-12-12T21:02:55.169Z"
   },
   {
    "duration": 75,
    "start_time": "2021-12-12T21:03:01.881Z"
   },
   {
    "duration": 4643,
    "start_time": "2021-12-12T21:03:01.959Z"
   },
   {
    "duration": 389,
    "start_time": "2021-12-12T21:03:06.605Z"
   },
   {
    "duration": 75,
    "start_time": "2021-12-12T21:03:41.303Z"
   },
   {
    "duration": 25,
    "start_time": "2021-12-12T21:03:41.381Z"
   },
   {
    "duration": 378,
    "start_time": "2021-12-12T21:03:41.409Z"
   },
   {
    "duration": 620,
    "start_time": "2021-12-12T21:05:04.312Z"
   },
   {
    "duration": -628,
    "start_time": "2021-12-12T21:05:05.563Z"
   },
   {
    "duration": -628,
    "start_time": "2021-12-12T21:05:05.565Z"
   },
   {
    "duration": 77,
    "start_time": "2021-12-12T21:05:39.444Z"
   },
   {
    "duration": 84,
    "start_time": "2021-12-12T21:05:39.524Z"
   },
   {
    "duration": 415,
    "start_time": "2021-12-12T21:05:39.610Z"
   },
   {
    "duration": 74,
    "start_time": "2021-12-12T21:06:56.295Z"
   },
   {
    "duration": 489,
    "start_time": "2021-12-12T21:06:56.372Z"
   },
   {
    "duration": -605,
    "start_time": "2021-12-12T21:06:57.468Z"
   },
   {
    "duration": 77,
    "start_time": "2021-12-12T21:07:34.444Z"
   },
   {
    "duration": 11367,
    "start_time": "2021-12-12T21:07:34.523Z"
   },
   {
    "duration": -626,
    "start_time": "2021-12-12T21:07:46.519Z"
   },
   {
    "duration": 80,
    "start_time": "2021-12-12T21:07:59.960Z"
   },
   {
    "duration": 479,
    "start_time": "2021-12-12T21:08:00.043Z"
   },
   {
    "duration": -602,
    "start_time": "2021-12-12T21:08:01.126Z"
   },
   {
    "duration": 75,
    "start_time": "2021-12-12T21:08:29.740Z"
   },
   {
    "duration": 89,
    "start_time": "2021-12-12T21:08:29.818Z"
   },
   {
    "duration": 448,
    "start_time": "2021-12-12T21:08:29.910Z"
   },
   {
    "duration": 74,
    "start_time": "2021-12-12T21:11:10.433Z"
   },
   {
    "duration": 389,
    "start_time": "2021-12-12T21:11:10.510Z"
   },
   {
    "duration": -667,
    "start_time": "2021-12-12T21:11:11.569Z"
   },
   {
    "duration": 77,
    "start_time": "2021-12-12T21:11:29.231Z"
   },
   {
    "duration": 57,
    "start_time": "2021-12-12T21:11:29.310Z"
   },
   {
    "duration": 422,
    "start_time": "2021-12-12T21:11:29.370Z"
   },
   {
    "duration": 79,
    "start_time": "2021-12-12T21:13:55.338Z"
   },
   {
    "duration": 76,
    "start_time": "2021-12-12T21:13:55.419Z"
   },
   {
    "duration": 399,
    "start_time": "2021-12-12T21:13:55.498Z"
   },
   {
    "duration": 76,
    "start_time": "2021-12-12T21:14:20.887Z"
   },
   {
    "duration": 73,
    "start_time": "2021-12-12T21:14:20.966Z"
   },
   {
    "duration": 420,
    "start_time": "2021-12-12T21:14:21.042Z"
   },
   {
    "duration": 78,
    "start_time": "2021-12-12T21:16:17.612Z"
   },
   {
    "duration": 3127,
    "start_time": "2021-12-12T21:16:17.693Z"
   },
   {
    "duration": -594,
    "start_time": "2021-12-12T21:16:21.417Z"
   },
   {
    "duration": 78,
    "start_time": "2021-12-12T21:16:40.028Z"
   },
   {
    "duration": 157,
    "start_time": "2021-12-12T21:16:40.109Z"
   },
   {
    "duration": 552,
    "start_time": "2021-12-12T21:16:40.610Z"
   },
   {
    "duration": 75,
    "start_time": "2021-12-12T21:17:04.138Z"
   },
   {
    "duration": 2775,
    "start_time": "2021-12-12T21:17:04.216Z"
   },
   {
    "duration": -655,
    "start_time": "2021-12-12T21:17:07.649Z"
   },
   {
    "duration": 82,
    "start_time": "2021-12-12T21:18:14.207Z"
   },
   {
    "duration": 85,
    "start_time": "2021-12-12T21:18:14.292Z"
   },
   {
    "duration": 380,
    "start_time": "2021-12-12T21:18:14.380Z"
   },
   {
    "duration": 75,
    "start_time": "2021-12-12T21:19:15.544Z"
   },
   {
    "duration": 87,
    "start_time": "2021-12-12T21:19:15.621Z"
   },
   {
    "duration": 801,
    "start_time": "2021-12-12T21:19:15.711Z"
   },
   {
    "duration": 77,
    "start_time": "2021-12-12T21:19:39.065Z"
   },
   {
    "duration": 66,
    "start_time": "2021-12-12T21:19:39.144Z"
   },
   {
    "duration": 74,
    "start_time": "2021-12-12T21:20:04.185Z"
   },
   {
    "duration": 59,
    "start_time": "2021-12-12T21:20:04.262Z"
   },
   {
    "duration": 144,
    "start_time": "2021-12-12T21:20:47.763Z"
   },
   {
    "duration": 123,
    "start_time": "2021-12-12T21:20:47.911Z"
   },
   {
    "duration": 78,
    "start_time": "2021-12-12T21:21:03.252Z"
   },
   {
    "duration": 75,
    "start_time": "2021-12-12T21:21:03.332Z"
   },
   {
    "duration": 76,
    "start_time": "2021-12-12T21:21:34.237Z"
   },
   {
    "duration": 72,
    "start_time": "2021-12-12T21:21:34.316Z"
   },
   {
    "duration": 405,
    "start_time": "2021-12-12T21:21:34.390Z"
   },
   {
    "duration": 78,
    "start_time": "2021-12-12T21:22:07.114Z"
   },
   {
    "duration": 75,
    "start_time": "2021-12-12T21:22:07.195Z"
   },
   {
    "duration": 78,
    "start_time": "2021-12-12T21:25:18.767Z"
   },
   {
    "duration": 65,
    "start_time": "2021-12-12T21:25:18.848Z"
   },
   {
    "duration": 580,
    "start_time": "2021-12-12T21:25:18.915Z"
   },
   {
    "duration": 77,
    "start_time": "2021-12-12T21:26:00.316Z"
   },
   {
    "duration": 76,
    "start_time": "2021-12-12T21:26:00.396Z"
   },
   {
    "duration": 415,
    "start_time": "2021-12-12T21:26:00.475Z"
   },
   {
    "duration": 78,
    "start_time": "2021-12-12T21:27:19.553Z"
   },
   {
    "duration": 73,
    "start_time": "2021-12-12T21:27:19.634Z"
   },
   {
    "duration": 78,
    "start_time": "2021-12-12T21:27:19.710Z"
   },
   {
    "duration": 79,
    "start_time": "2021-12-12T21:47:05.351Z"
   },
   {
    "duration": 441,
    "start_time": "2021-12-12T21:47:05.432Z"
   },
   {
    "duration": -597,
    "start_time": "2021-12-12T21:47:06.472Z"
   },
   {
    "duration": 77,
    "start_time": "2021-12-12T21:51:17.829Z"
   },
   {
    "duration": 98,
    "start_time": "2021-12-12T21:51:17.909Z"
   },
   {
    "duration": 50,
    "start_time": "2021-12-12T21:51:18.011Z"
   },
   {
    "duration": 77,
    "start_time": "2021-12-12T21:52:07.066Z"
   },
   {
    "duration": 76,
    "start_time": "2021-12-12T21:52:07.145Z"
   },
   {
    "duration": 57,
    "start_time": "2021-12-12T21:52:07.224Z"
   },
   {
    "duration": 78,
    "start_time": "2021-12-12T21:52:25.172Z"
   },
   {
    "duration": 68,
    "start_time": "2021-12-12T21:52:25.254Z"
   },
   {
    "duration": 59,
    "start_time": "2021-12-12T21:52:25.325Z"
   },
   {
    "duration": 76,
    "start_time": "2021-12-12T22:17:09.163Z"
   },
   {
    "duration": 79,
    "start_time": "2021-12-12T22:17:09.241Z"
   },
   {
    "duration": 398,
    "start_time": "2021-12-12T22:17:09.324Z"
   },
   {
    "duration": 75,
    "start_time": "2021-12-12T22:17:25.201Z"
   },
   {
    "duration": 84,
    "start_time": "2021-12-12T22:17:25.279Z"
   },
   {
    "duration": 410,
    "start_time": "2021-12-12T22:17:25.366Z"
   },
   {
    "duration": 78,
    "start_time": "2021-12-12T22:17:40.921Z"
   },
   {
    "duration": 100,
    "start_time": "2021-12-12T22:17:41.002Z"
   },
   {
    "duration": 577,
    "start_time": "2021-12-12T22:17:41.105Z"
   },
   {
    "duration": 74,
    "start_time": "2021-12-12T22:17:52.079Z"
   },
   {
    "duration": 67,
    "start_time": "2021-12-12T22:17:52.156Z"
   },
   {
    "duration": 833,
    "start_time": "2021-12-12T22:17:52.226Z"
   },
   {
    "duration": 77,
    "start_time": "2021-12-12T22:18:01.304Z"
   },
   {
    "duration": 87,
    "start_time": "2021-12-12T22:18:01.383Z"
   },
   {
    "duration": 409,
    "start_time": "2021-12-12T22:18:01.473Z"
   },
   {
    "duration": 74,
    "start_time": "2021-12-12T22:19:22.781Z"
   },
   {
    "duration": 68,
    "start_time": "2021-12-12T22:19:22.857Z"
   },
   {
    "duration": 395,
    "start_time": "2021-12-12T22:19:22.928Z"
   },
   {
    "duration": 393,
    "start_time": "2021-12-12T22:19:23.325Z"
   },
   {
    "duration": 77,
    "start_time": "2021-12-12T22:19:49.118Z"
   },
   {
    "duration": 91,
    "start_time": "2021-12-12T22:19:49.198Z"
   },
   {
    "duration": 455,
    "start_time": "2021-12-12T22:19:49.292Z"
   },
   {
    "duration": 438,
    "start_time": "2021-12-12T22:19:49.749Z"
   },
   {
    "duration": 78,
    "start_time": "2021-12-12T22:20:28.511Z"
   },
   {
    "duration": 87,
    "start_time": "2021-12-12T22:20:28.592Z"
   },
   {
    "duration": 424,
    "start_time": "2021-12-12T22:20:28.683Z"
   },
   {
    "duration": 28010,
    "start_time": "2021-12-12T22:20:29.110Z"
   },
   {
    "duration": 75,
    "start_time": "2021-12-12T22:21:53.268Z"
   },
   {
    "duration": 74,
    "start_time": "2021-12-12T22:21:53.346Z"
   },
   {
    "duration": 567,
    "start_time": "2021-12-12T22:21:53.423Z"
   },
   {
    "duration": 28287,
    "start_time": "2021-12-12T22:21:53.993Z"
   },
   {
    "duration": 78,
    "start_time": "2021-12-12T22:51:32.801Z"
   },
   {
    "duration": 81,
    "start_time": "2021-12-12T22:51:32.881Z"
   },
   {
    "duration": 561,
    "start_time": "2021-12-12T22:51:32.966Z"
   },
   {
    "duration": 2356,
    "start_time": "2021-12-12T22:51:33.530Z"
   },
   {
    "duration": 76,
    "start_time": "2021-12-12T22:52:18.424Z"
   },
   {
    "duration": 88,
    "start_time": "2021-12-12T22:52:18.502Z"
   },
   {
    "duration": 555,
    "start_time": "2021-12-12T22:52:18.593Z"
   },
   {
    "duration": 200,
    "start_time": "2021-12-12T22:52:19.150Z"
   },
   {
    "duration": 78,
    "start_time": "2021-12-12T22:54:05.473Z"
   },
   {
    "duration": 79,
    "start_time": "2021-12-12T22:54:05.554Z"
   },
   {
    "duration": 570,
    "start_time": "2021-12-12T22:54:05.636Z"
   },
   {
    "duration": 137,
    "start_time": "2021-12-12T22:54:06.209Z"
   },
   {
    "duration": 74,
    "start_time": "2021-12-12T22:54:42.107Z"
   },
   {
    "duration": 77,
    "start_time": "2021-12-12T22:54:42.184Z"
   },
   {
    "duration": 543,
    "start_time": "2021-12-12T22:54:42.264Z"
   },
   {
    "duration": -595,
    "start_time": "2021-12-12T22:55:48.690Z"
   },
   {
    "duration": -599,
    "start_time": "2021-12-12T22:55:48.695Z"
   },
   {
    "duration": -600,
    "start_time": "2021-12-12T22:55:48.697Z"
   },
   {
    "duration": -599,
    "start_time": "2021-12-12T22:55:48.698Z"
   },
   {
    "duration": 78,
    "start_time": "2021-12-12T22:55:51.748Z"
   },
   {
    "duration": 90,
    "start_time": "2021-12-12T22:55:51.829Z"
   },
   {
    "duration": 560,
    "start_time": "2021-12-12T22:55:51.922Z"
   },
   {
    "duration": -566,
    "start_time": "2021-12-12T22:57:37.744Z"
   },
   {
    "duration": -570,
    "start_time": "2021-12-12T22:57:37.750Z"
   },
   {
    "duration": -570,
    "start_time": "2021-12-12T22:57:37.751Z"
   },
   {
    "duration": -570,
    "start_time": "2021-12-12T22:57:37.753Z"
   },
   {
    "duration": 76,
    "start_time": "2021-12-12T22:57:39.136Z"
   },
   {
    "duration": 83,
    "start_time": "2021-12-12T22:57:39.215Z"
   },
   {
    "duration": 1271,
    "start_time": "2021-12-12T22:57:39.301Z"
   },
   {
    "duration": -591,
    "start_time": "2021-12-12T22:59:20.393Z"
   },
   {
    "duration": -591,
    "start_time": "2021-12-12T22:59:20.395Z"
   },
   {
    "duration": -592,
    "start_time": "2021-12-12T22:59:20.397Z"
   },
   {
    "duration": -591,
    "start_time": "2021-12-12T22:59:20.398Z"
   },
   {
    "duration": 72,
    "start_time": "2021-12-12T22:59:25.530Z"
   },
   {
    "duration": 79,
    "start_time": "2021-12-12T22:59:25.605Z"
   },
   {
    "duration": 1008,
    "start_time": "2021-12-12T22:59:25.755Z"
   },
   {
    "duration": -543,
    "start_time": "2021-12-12T23:00:13.459Z"
   },
   {
    "duration": -542,
    "start_time": "2021-12-12T23:00:13.460Z"
   },
   {
    "duration": -558,
    "start_time": "2021-12-12T23:00:13.477Z"
   },
   {
    "duration": -557,
    "start_time": "2021-12-12T23:00:13.478Z"
   },
   {
    "duration": 77,
    "start_time": "2021-12-12T23:00:15.662Z"
   },
   {
    "duration": 75,
    "start_time": "2021-12-12T23:00:15.742Z"
   },
   {
    "duration": 1374,
    "start_time": "2021-12-12T23:00:15.820Z"
   },
   {
    "duration": 118921,
    "start_time": "2021-12-12T23:00:17.196Z"
   },
   {
    "duration": 84,
    "start_time": "2021-12-12T23:04:21.830Z"
   },
   {
    "duration": 92,
    "start_time": "2021-12-12T23:04:21.916Z"
   },
   {
    "duration": 978,
    "start_time": "2021-12-12T23:04:22.011Z"
   },
   {
    "duration": -635,
    "start_time": "2021-12-12T23:06:28.114Z"
   },
   {
    "duration": -636,
    "start_time": "2021-12-12T23:06:28.116Z"
   },
   {
    "duration": -636,
    "start_time": "2021-12-12T23:06:28.118Z"
   },
   {
    "duration": -636,
    "start_time": "2021-12-12T23:06:28.119Z"
   },
   {
    "duration": -636,
    "start_time": "2021-12-12T23:06:28.121Z"
   },
   {
    "duration": 85,
    "start_time": "2021-12-12T23:06:31.053Z"
   },
   {
    "duration": 88,
    "start_time": "2021-12-12T23:06:31.141Z"
   },
   {
    "duration": 1445,
    "start_time": "2021-12-12T23:06:31.233Z"
   },
   {
    "duration": -483,
    "start_time": "2021-12-12T23:06:33.163Z"
   },
   {
    "duration": -485,
    "start_time": "2021-12-12T23:06:33.167Z"
   },
   {
    "duration": 80,
    "start_time": "2021-12-12T23:08:10.550Z"
   },
   {
    "duration": 84,
    "start_time": "2021-12-12T23:08:10.633Z"
   },
   {
    "duration": 970,
    "start_time": "2021-12-12T23:08:10.720Z"
   },
   {
    "duration": -541,
    "start_time": "2021-12-12T23:08:29.144Z"
   },
   {
    "duration": -540,
    "start_time": "2021-12-12T23:08:29.145Z"
   },
   {
    "duration": -540,
    "start_time": "2021-12-12T23:08:29.147Z"
   },
   {
    "duration": -539,
    "start_time": "2021-12-12T23:08:29.148Z"
   },
   {
    "duration": -561,
    "start_time": "2021-12-12T23:08:29.172Z"
   },
   {
    "duration": 80,
    "start_time": "2021-12-12T23:08:31.317Z"
   },
   {
    "duration": 79,
    "start_time": "2021-12-12T23:08:31.399Z"
   },
   {
    "duration": 953,
    "start_time": "2021-12-12T23:08:31.481Z"
   },
   {
    "duration": 50,
    "start_time": "2021-12-12T23:10:30.281Z"
   },
   {
    "duration": 117511,
    "start_time": "2021-12-12T23:10:30.334Z"
   },
   {
    "duration": 79,
    "start_time": "2021-12-12T23:25:06.044Z"
   },
   {
    "duration": 98,
    "start_time": "2021-12-12T23:25:06.126Z"
   },
   {
    "duration": 134,
    "start_time": "2021-12-12T23:25:06.227Z"
   },
   {
    "duration": -562,
    "start_time": "2021-12-12T23:25:06.926Z"
   },
   {
    "duration": -570,
    "start_time": "2021-12-12T23:25:06.935Z"
   },
   {
    "duration": -576,
    "start_time": "2021-12-12T23:25:06.943Z"
   },
   {
    "duration": 75,
    "start_time": "2021-12-12T23:25:19.380Z"
   },
   {
    "duration": 69,
    "start_time": "2021-12-12T23:25:19.458Z"
   },
   {
    "duration": 277,
    "start_time": "2021-12-12T23:25:19.530Z"
   },
   {
    "duration": -508,
    "start_time": "2021-12-12T23:25:20.318Z"
   },
   {
    "duration": -531,
    "start_time": "2021-12-12T23:25:20.343Z"
   },
   {
    "duration": -554,
    "start_time": "2021-12-12T23:25:20.367Z"
   },
   {
    "duration": 74,
    "start_time": "2021-12-12T23:25:31.771Z"
   },
   {
    "duration": 72,
    "start_time": "2021-12-12T23:25:31.848Z"
   },
   {
    "duration": 10,
    "start_time": "2021-12-12T23:25:31.924Z"
   },
   {
    "duration": 1089,
    "start_time": "2021-12-12T23:25:31.936Z"
   },
   {
    "duration": 117913,
    "start_time": "2021-12-12T23:25:33.028Z"
   },
   {
    "duration": 59,
    "start_time": "2021-12-12T23:27:30.944Z"
   },
   {
    "duration": 76,
    "start_time": "2021-12-12T23:27:56.397Z"
   },
   {
    "duration": 83,
    "start_time": "2021-12-12T23:27:56.476Z"
   },
   {
    "duration": 8,
    "start_time": "2021-12-12T23:27:56.562Z"
   },
   {
    "duration": 968,
    "start_time": "2021-12-12T23:27:56.572Z"
   },
   {
    "duration": 24440,
    "start_time": "2021-12-12T23:27:57.543Z"
   },
   {
    "duration": -570,
    "start_time": "2021-12-12T23:28:22.556Z"
   },
   {
    "duration": -578,
    "start_time": "2021-12-12T23:28:22.565Z"
   },
   {
    "duration": 78,
    "start_time": "2021-12-12T23:28:28.420Z"
   },
   {
    "duration": 77,
    "start_time": "2021-12-12T23:28:28.501Z"
   },
   {
    "duration": 9,
    "start_time": "2021-12-12T23:28:28.581Z"
   },
   {
    "duration": 379,
    "start_time": "2021-12-12T23:28:28.592Z"
   },
   {
    "duration": 76,
    "start_time": "2021-12-12T23:29:05.626Z"
   },
   {
    "duration": 89,
    "start_time": "2021-12-12T23:29:05.704Z"
   },
   {
    "duration": 8,
    "start_time": "2021-12-12T23:29:05.796Z"
   },
   {
    "duration": 15,
    "start_time": "2021-12-12T23:29:05.807Z"
   },
   {
    "duration": 75,
    "start_time": "2021-12-12T23:29:56.351Z"
   },
   {
    "duration": 81,
    "start_time": "2021-12-12T23:29:56.428Z"
   },
   {
    "duration": 6,
    "start_time": "2021-12-12T23:29:56.512Z"
   },
   {
    "duration": 14,
    "start_time": "2021-12-12T23:29:56.521Z"
   },
   {
    "duration": 81,
    "start_time": "2021-12-12T23:31:07.723Z"
   },
   {
    "duration": 86,
    "start_time": "2021-12-12T23:31:07.808Z"
   },
   {
    "duration": 8,
    "start_time": "2021-12-12T23:31:07.897Z"
   },
   {
    "duration": 55,
    "start_time": "2021-12-12T23:31:07.909Z"
   },
   {
    "duration": 79,
    "start_time": "2021-12-12T23:31:25.104Z"
   },
   {
    "duration": 84,
    "start_time": "2021-12-12T23:31:25.186Z"
   },
   {
    "duration": 7,
    "start_time": "2021-12-12T23:31:25.272Z"
   },
   {
    "duration": 19,
    "start_time": "2021-12-12T23:31:25.282Z"
   },
   {
    "duration": 75,
    "start_time": "2021-12-12T23:32:11.747Z"
   },
   {
    "duration": 75,
    "start_time": "2021-12-12T23:32:11.836Z"
   },
   {
    "duration": 8,
    "start_time": "2021-12-12T23:32:11.914Z"
   },
   {
    "duration": 421,
    "start_time": "2021-12-12T23:32:11.925Z"
   },
   {
    "duration": 78,
    "start_time": "2021-12-12T23:32:22.627Z"
   },
   {
    "duration": 84,
    "start_time": "2021-12-12T23:32:22.708Z"
   },
   {
    "duration": 7,
    "start_time": "2021-12-12T23:32:22.795Z"
   },
   {
    "duration": 16,
    "start_time": "2021-12-12T23:32:22.805Z"
   },
   {
    "duration": 78,
    "start_time": "2021-12-12T23:38:51.051Z"
   },
   {
    "duration": 85,
    "start_time": "2021-12-12T23:38:51.132Z"
   },
   {
    "duration": 8,
    "start_time": "2021-12-12T23:38:51.220Z"
   },
   {
    "duration": 42,
    "start_time": "2021-12-12T23:38:51.230Z"
   },
   {
    "duration": 80,
    "start_time": "2021-12-12T23:39:09.715Z"
   },
   {
    "duration": 89,
    "start_time": "2021-12-12T23:39:09.798Z"
   },
   {
    "duration": 7,
    "start_time": "2021-12-12T23:39:09.890Z"
   },
   {
    "duration": 19,
    "start_time": "2021-12-12T23:39:09.899Z"
   },
   {
    "duration": 83,
    "start_time": "2021-12-12T23:39:39.774Z"
   },
   {
    "duration": 69,
    "start_time": "2021-12-12T23:39:39.859Z"
   },
   {
    "duration": 7,
    "start_time": "2021-12-12T23:39:39.931Z"
   },
   {
    "duration": 131,
    "start_time": "2021-12-12T23:39:39.940Z"
   },
   {
    "duration": 77,
    "start_time": "2021-12-12T23:40:40.856Z"
   },
   {
    "duration": 87,
    "start_time": "2021-12-12T23:40:40.936Z"
   },
   {
    "duration": 10,
    "start_time": "2021-12-12T23:40:41.027Z"
   },
   {
    "duration": 390,
    "start_time": "2021-12-12T23:40:41.059Z"
   },
   {
    "duration": 75,
    "start_time": "2021-12-12T23:41:12.140Z"
   },
   {
    "duration": 91,
    "start_time": "2021-12-12T23:41:12.218Z"
   },
   {
    "duration": 7,
    "start_time": "2021-12-12T23:41:12.312Z"
   },
   {
    "duration": 145,
    "start_time": "2021-12-12T23:41:12.322Z"
   },
   {
    "duration": 81,
    "start_time": "2021-12-12T23:41:30.318Z"
   },
   {
    "duration": 86,
    "start_time": "2021-12-12T23:41:30.402Z"
   },
   {
    "duration": 8,
    "start_time": "2021-12-12T23:41:30.491Z"
   },
   {
    "duration": 409,
    "start_time": "2021-12-12T23:41:30.502Z"
   },
   {
    "duration": 76,
    "start_time": "2021-12-12T23:41:57.780Z"
   },
   {
    "duration": 67,
    "start_time": "2021-12-12T23:41:57.859Z"
   },
   {
    "duration": 7,
    "start_time": "2021-12-12T23:41:57.930Z"
   },
   {
    "duration": 128,
    "start_time": "2021-12-12T23:41:57.939Z"
   },
   {
    "duration": 77,
    "start_time": "2021-12-12T23:42:31.240Z"
   },
   {
    "duration": 76,
    "start_time": "2021-12-12T23:42:31.319Z"
   },
   {
    "duration": 8,
    "start_time": "2021-12-12T23:42:31.397Z"
   },
   {
    "duration": 632,
    "start_time": "2021-12-12T23:42:31.408Z"
   },
   {
    "duration": 76,
    "start_time": "2021-12-12T23:42:39.022Z"
   },
   {
    "duration": 88,
    "start_time": "2021-12-12T23:42:39.100Z"
   },
   {
    "duration": 8,
    "start_time": "2021-12-12T23:42:39.191Z"
   },
   {
    "duration": 165,
    "start_time": "2021-12-12T23:42:39.202Z"
   },
   {
    "duration": 78,
    "start_time": "2021-12-12T23:43:06.792Z"
   },
   {
    "duration": 66,
    "start_time": "2021-12-12T23:43:06.872Z"
   },
   {
    "duration": 23,
    "start_time": "2021-12-12T23:43:06.941Z"
   },
   {
    "duration": 193,
    "start_time": "2021-12-12T23:43:06.966Z"
   },
   {
    "duration": 74,
    "start_time": "2021-12-12T23:47:16.653Z"
   },
   {
    "duration": 82,
    "start_time": "2021-12-12T23:47:16.730Z"
   },
   {
    "duration": 7,
    "start_time": "2021-12-12T23:47:16.815Z"
   },
   {
    "duration": 138,
    "start_time": "2021-12-12T23:47:16.824Z"
   },
   {
    "duration": 1851,
    "start_time": "2021-12-12T23:47:16.965Z"
   },
   {
    "duration": 144,
    "start_time": "2021-12-12T23:47:18.818Z"
   },
   {
    "duration": 77,
    "start_time": "2021-12-12T23:48:08.816Z"
   },
   {
    "duration": 91,
    "start_time": "2021-12-12T23:48:08.896Z"
   },
   {
    "duration": 7,
    "start_time": "2021-12-12T23:48:08.990Z"
   },
   {
    "duration": 165,
    "start_time": "2021-12-12T23:48:08.999Z"
   },
   {
    "duration": 1778,
    "start_time": "2021-12-12T23:48:09.168Z"
   },
   {
    "duration": 70735,
    "start_time": "2021-12-12T23:48:10.949Z"
   },
   {
    "duration": 83,
    "start_time": "2021-12-12T23:49:21.687Z"
   },
   {
    "duration": 78,
    "start_time": "2021-12-12T23:58:00.860Z"
   },
   {
    "duration": 80,
    "start_time": "2021-12-12T23:58:00.941Z"
   },
   {
    "duration": 7,
    "start_time": "2021-12-12T23:58:01.024Z"
   },
   {
    "duration": 228,
    "start_time": "2021-12-12T23:58:01.034Z"
   },
   {
    "duration": 1427,
    "start_time": "2021-12-12T23:58:01.266Z"
   },
   {
    "duration": 397,
    "start_time": "2021-12-12T23:58:02.696Z"
   },
   {
    "duration": -579,
    "start_time": "2021-12-12T23:58:03.674Z"
   },
   {
    "duration": 78,
    "start_time": "2021-12-13T00:00:02.280Z"
   },
   {
    "duration": 72,
    "start_time": "2021-12-13T00:00:02.360Z"
   },
   {
    "duration": 26,
    "start_time": "2021-12-13T00:00:02.436Z"
   },
   {
    "duration": 194,
    "start_time": "2021-12-13T00:00:02.465Z"
   },
   {
    "duration": 1769,
    "start_time": "2021-12-13T00:00:02.663Z"
   },
   {
    "duration": 4727,
    "start_time": "2021-12-13T00:00:04.435Z"
   },
   {
    "duration": 196,
    "start_time": "2021-12-13T00:00:09.165Z"
   },
   {
    "duration": 78,
    "start_time": "2021-12-13T00:00:55.389Z"
   },
   {
    "duration": 94,
    "start_time": "2021-12-13T00:00:55.471Z"
   },
   {
    "duration": 8,
    "start_time": "2021-12-13T00:00:55.568Z"
   },
   {
    "duration": 183,
    "start_time": "2021-12-13T00:00:55.578Z"
   },
   {
    "duration": 1509,
    "start_time": "2021-12-13T00:00:55.765Z"
   },
   {
    "duration": 4685,
    "start_time": "2021-12-13T00:00:57.277Z"
   },
   {
    "duration": 196,
    "start_time": "2021-12-13T00:01:01.965Z"
   },
   {
    "duration": 78,
    "start_time": "2021-12-13T00:01:39.913Z"
   },
   {
    "duration": 102,
    "start_time": "2021-12-13T00:01:39.994Z"
   },
   {
    "duration": 9,
    "start_time": "2021-12-13T00:01:40.099Z"
   },
   {
    "duration": 154,
    "start_time": "2021-12-13T00:01:40.111Z"
   },
   {
    "duration": 1742,
    "start_time": "2021-12-13T00:01:40.268Z"
   },
   {
    "duration": -781,
    "start_time": "2021-12-13T00:03:32.315Z"
   },
   {
    "duration": -790,
    "start_time": "2021-12-13T00:03:32.326Z"
   },
   {
    "duration": -799,
    "start_time": "2021-12-13T00:03:32.336Z"
   },
   {
    "duration": -834,
    "start_time": "2021-12-13T00:03:32.373Z"
   },
   {
    "duration": -868,
    "start_time": "2021-12-13T00:03:32.408Z"
   },
   {
    "duration": -882,
    "start_time": "2021-12-13T00:03:32.424Z"
   },
   {
    "duration": -887,
    "start_time": "2021-12-13T00:03:32.430Z"
   },
   {
    "duration": 79,
    "start_time": "2021-12-13T00:03:33.581Z"
   },
   {
    "duration": 68,
    "start_time": "2021-12-13T00:03:33.663Z"
   },
   {
    "duration": 26,
    "start_time": "2021-12-13T00:03:33.734Z"
   },
   {
    "duration": 197,
    "start_time": "2021-12-13T00:03:33.762Z"
   },
   {
    "duration": 1879,
    "start_time": "2021-12-13T00:03:33.963Z"
   },
   {
    "duration": -675,
    "start_time": "2021-12-13T00:06:00.657Z"
   },
   {
    "duration": -684,
    "start_time": "2021-12-13T00:06:00.667Z"
   },
   {
    "duration": -689,
    "start_time": "2021-12-13T00:06:00.673Z"
   },
   {
    "duration": -694,
    "start_time": "2021-12-13T00:06:00.680Z"
   },
   {
    "duration": -701,
    "start_time": "2021-12-13T00:06:00.688Z"
   },
   {
    "duration": -705,
    "start_time": "2021-12-13T00:06:00.693Z"
   },
   {
    "duration": -713,
    "start_time": "2021-12-13T00:06:00.703Z"
   },
   {
    "duration": 76,
    "start_time": "2021-12-13T00:06:04.844Z"
   },
   {
    "duration": 98,
    "start_time": "2021-12-13T00:06:04.923Z"
   },
   {
    "duration": 10,
    "start_time": "2021-12-13T00:06:05.025Z"
   },
   {
    "duration": 138,
    "start_time": "2021-12-13T00:06:05.039Z"
   },
   {
    "duration": 2825,
    "start_time": "2021-12-13T00:06:05.180Z"
   },
   {
    "duration": 39297,
    "start_time": "2021-12-13T00:06:08.007Z"
   },
   {
    "duration": -669,
    "start_time": "2021-12-13T00:06:47.975Z"
   },
   {
    "duration": 80,
    "start_time": "2021-12-13T00:06:48.430Z"
   },
   {
    "duration": 92,
    "start_time": "2021-12-13T00:06:48.512Z"
   },
   {
    "duration": 8,
    "start_time": "2021-12-13T00:06:48.607Z"
   },
   {
    "duration": 145,
    "start_time": "2021-12-13T00:06:48.618Z"
   },
   {
    "duration": 2732,
    "start_time": "2021-12-13T00:06:48.766Z"
   },
   {
    "duration": 71363,
    "start_time": "2021-12-13T00:06:51.501Z"
   },
   {
    "duration": 102,
    "start_time": "2021-12-13T00:08:02.959Z"
   },
   {
    "duration": 76,
    "start_time": "2021-12-13T00:14:19.909Z"
   },
   {
    "duration": 105,
    "start_time": "2021-12-13T00:14:19.988Z"
   },
   {
    "duration": 10,
    "start_time": "2021-12-13T00:14:20.097Z"
   },
   {
    "duration": 49,
    "start_time": "2021-12-13T00:14:20.111Z"
   },
   {
    "duration": 1672,
    "start_time": "2021-12-13T00:14:20.163Z"
   },
   {
    "duration": 77,
    "start_time": "2021-12-13T00:15:09.378Z"
   },
   {
    "duration": 70,
    "start_time": "2021-12-13T00:15:09.458Z"
   },
   {
    "duration": 8,
    "start_time": "2021-12-13T00:15:09.531Z"
   },
   {
    "duration": 108,
    "start_time": "2021-12-13T00:15:09.560Z"
   },
   {
    "duration": 1812,
    "start_time": "2021-12-13T00:15:09.762Z"
   },
   {
    "duration": 123,
    "start_time": "2021-12-13T00:18:01.372Z"
   },
   {
    "duration": 179,
    "start_time": "2021-12-13T00:18:01.498Z"
   },
   {
    "duration": 8,
    "start_time": "2021-12-13T00:18:01.680Z"
   },
   {
    "duration": 275,
    "start_time": "2021-12-13T00:18:01.690Z"
   },
   {
    "duration": 1305,
    "start_time": "2021-12-13T00:18:01.968Z"
   },
   {
    "duration": 8487,
    "start_time": "2021-12-13T00:18:03.275Z"
   },
   {
    "duration": 118,
    "start_time": "2021-12-13T00:18:17.275Z"
   },
   {
    "duration": 180,
    "start_time": "2021-12-13T00:18:17.396Z"
   },
   {
    "duration": 8,
    "start_time": "2021-12-13T00:18:17.579Z"
   },
   {
    "duration": 273,
    "start_time": "2021-12-13T00:18:17.589Z"
   },
   {
    "duration": 1397,
    "start_time": "2021-12-13T00:18:17.865Z"
   },
   {
    "duration": 8993,
    "start_time": "2021-12-13T00:18:19.265Z"
   },
   {
    "duration": 132,
    "start_time": "2021-12-13T00:18:46.638Z"
   },
   {
    "duration": 191,
    "start_time": "2021-12-13T00:18:46.774Z"
   },
   {
    "duration": 10,
    "start_time": "2021-12-13T00:18:46.968Z"
   },
   {
    "duration": 285,
    "start_time": "2021-12-13T00:18:46.981Z"
   },
   {
    "duration": 1903,
    "start_time": "2021-12-13T00:18:47.269Z"
   },
   {
    "duration": 19387,
    "start_time": "2021-12-13T00:18:49.175Z"
   },
   {
    "duration": 134,
    "start_time": "2021-12-13T00:19:23.351Z"
   },
   {
    "duration": 183,
    "start_time": "2021-12-13T00:19:23.488Z"
   },
   {
    "duration": 8,
    "start_time": "2021-12-13T00:19:23.674Z"
   },
   {
    "duration": 376,
    "start_time": "2021-12-13T00:19:23.685Z"
   },
   {
    "duration": 1106,
    "start_time": "2021-12-13T00:19:24.064Z"
   },
   {
    "duration": 30289,
    "start_time": "2021-12-13T00:19:25.173Z"
   },
   {
    "duration": 127,
    "start_time": "2021-12-13T00:20:26.960Z"
   },
   {
    "duration": 183,
    "start_time": "2021-12-13T00:20:27.090Z"
   },
   {
    "duration": 7,
    "start_time": "2021-12-13T00:20:27.276Z"
   },
   {
    "duration": 89,
    "start_time": "2021-12-13T00:20:27.286Z"
   },
   {
    "duration": 48894,
    "start_time": "2021-12-13T00:20:27.378Z"
   },
   {
    "duration": 150,
    "start_time": "2021-12-13T00:21:44.715Z"
   },
   {
    "duration": 132,
    "start_time": "2021-12-13T00:21:44.868Z"
   },
   {
    "duration": 62,
    "start_time": "2021-12-13T00:21:45.003Z"
   },
   {
    "duration": 18,
    "start_time": "2021-12-13T00:21:45.067Z"
   },
   {
    "duration": 483,
    "start_time": "2021-12-13T00:21:45.087Z"
   },
   {
    "duration": 77,
    "start_time": "2021-12-13T00:22:22.997Z"
   },
   {
    "duration": 67,
    "start_time": "2021-12-13T00:22:23.076Z"
   },
   {
    "duration": 8,
    "start_time": "2021-12-13T00:22:23.159Z"
   },
   {
    "duration": 18,
    "start_time": "2021-12-13T00:22:23.169Z"
   },
   {
    "duration": 1369,
    "start_time": "2021-12-13T00:22:23.190Z"
   },
   {
    "duration": 1188,
    "start_time": "2021-12-13T00:22:34.274Z"
   },
   {
    "duration": 75,
    "start_time": "2021-12-13T00:24:47.809Z"
   },
   {
    "duration": 90,
    "start_time": "2021-12-13T00:24:47.887Z"
   },
   {
    "duration": 7,
    "start_time": "2021-12-13T00:24:47.980Z"
   },
   {
    "duration": 15,
    "start_time": "2021-12-13T00:24:47.990Z"
   },
   {
    "duration": 571,
    "start_time": "2021-12-13T00:24:48.008Z"
   },
   {
    "duration": 172,
    "start_time": "2021-12-13T00:24:48.582Z"
   },
   {
    "duration": 75,
    "start_time": "2021-12-13T00:25:06.281Z"
   },
   {
    "duration": 68,
    "start_time": "2021-12-13T00:25:06.358Z"
   },
   {
    "duration": 7,
    "start_time": "2021-12-13T00:25:06.429Z"
   },
   {
    "duration": 39,
    "start_time": "2021-12-13T00:25:06.438Z"
   },
   {
    "duration": 640,
    "start_time": "2021-12-13T00:25:06.479Z"
   },
   {
    "duration": 71570,
    "start_time": "2021-12-13T00:25:07.122Z"
   },
   {
    "duration": 74,
    "start_time": "2021-12-13T00:27:05.849Z"
   },
   {
    "duration": 86,
    "start_time": "2021-12-13T00:27:05.926Z"
   },
   {
    "duration": 6,
    "start_time": "2021-12-13T00:27:06.015Z"
   },
   {
    "duration": 39,
    "start_time": "2021-12-13T00:27:06.024Z"
   },
   {
    "duration": 557,
    "start_time": "2021-12-13T00:27:06.066Z"
   },
   {
    "duration": 5956,
    "start_time": "2021-12-13T00:27:06.625Z"
   },
   {
    "duration": -3593,
    "start_time": "2021-12-13T00:27:16.177Z"
   },
   {
    "duration": 74,
    "start_time": "2021-12-13T00:27:17.470Z"
   },
   {
    "duration": 69,
    "start_time": "2021-12-13T00:27:17.547Z"
   },
   {
    "duration": 7,
    "start_time": "2021-12-13T00:27:17.619Z"
   },
   {
    "duration": 38,
    "start_time": "2021-12-13T00:27:17.628Z"
   },
   {
    "duration": 638,
    "start_time": "2021-12-13T00:27:17.669Z"
   },
   {
    "duration": 50,
    "start_time": "2021-12-13T00:27:18.309Z"
   },
   {
    "duration": 74,
    "start_time": "2021-12-13T00:28:25.965Z"
   },
   {
    "duration": 79,
    "start_time": "2021-12-13T00:28:26.041Z"
   },
   {
    "duration": 8,
    "start_time": "2021-12-13T00:28:26.124Z"
   },
   {
    "duration": 36,
    "start_time": "2021-12-13T00:28:26.134Z"
   },
   {
    "duration": 540,
    "start_time": "2021-12-13T00:28:26.173Z"
   },
   {
    "duration": 51,
    "start_time": "2021-12-13T00:28:26.716Z"
   },
   {
    "duration": 84,
    "start_time": "2021-12-13T00:32:41.013Z"
   },
   {
    "duration": 98,
    "start_time": "2021-12-13T00:32:41.101Z"
   },
   {
    "duration": 7,
    "start_time": "2021-12-13T00:32:41.203Z"
   },
   {
    "duration": 47,
    "start_time": "2021-12-13T00:32:41.214Z"
   },
   {
    "duration": 557,
    "start_time": "2021-12-13T00:32:41.264Z"
   },
   {
    "duration": 435,
    "start_time": "2021-12-13T00:32:41.824Z"
   },
   {
    "duration": 37,
    "start_time": "2021-12-13T00:32:42.261Z"
   },
   {
    "duration": 74,
    "start_time": "2021-12-13T00:34:28.223Z"
   },
   {
    "duration": 79,
    "start_time": "2021-12-13T00:34:28.300Z"
   },
   {
    "duration": 8,
    "start_time": "2021-12-13T00:34:28.382Z"
   },
   {
    "duration": 17,
    "start_time": "2021-12-13T00:34:28.392Z"
   },
   {
    "duration": 673,
    "start_time": "2021-12-13T00:34:28.412Z"
   },
   {
    "duration": 472,
    "start_time": "2021-12-13T00:34:29.088Z"
   },
   {
    "duration": 129,
    "start_time": "2021-12-13T00:34:29.565Z"
   },
   {
    "duration": 77,
    "start_time": "2021-12-13T00:35:22.284Z"
   },
   {
    "duration": 70,
    "start_time": "2021-12-13T00:35:22.363Z"
   },
   {
    "duration": 25,
    "start_time": "2021-12-13T00:35:22.436Z"
   },
   {
    "duration": 18,
    "start_time": "2021-12-13T00:35:22.464Z"
   },
   {
    "duration": 560,
    "start_time": "2021-12-13T00:35:22.484Z"
   },
   {
    "duration": 320,
    "start_time": "2021-12-13T00:35:23.047Z"
   },
   {
    "duration": 126,
    "start_time": "2021-12-13T00:35:23.459Z"
   },
   {
    "duration": 83,
    "start_time": "2021-12-13T00:38:49.454Z"
   },
   {
    "duration": 78,
    "start_time": "2021-12-13T00:38:49.540Z"
   },
   {
    "duration": 8,
    "start_time": "2021-12-13T00:38:49.621Z"
   },
   {
    "duration": 37,
    "start_time": "2021-12-13T00:38:49.631Z"
   },
   {
    "duration": 575,
    "start_time": "2021-12-13T00:38:49.670Z"
   },
   {
    "duration": 358,
    "start_time": "2021-12-13T00:38:50.248Z"
   },
   {
    "duration": 50,
    "start_time": "2021-12-13T00:38:50.609Z"
   },
   {
    "duration": 78,
    "start_time": "2021-12-13T00:39:15.970Z"
   },
   {
    "duration": 72,
    "start_time": "2021-12-13T00:39:16.051Z"
   },
   {
    "duration": 8,
    "start_time": "2021-12-13T00:39:16.126Z"
   },
   {
    "duration": 35,
    "start_time": "2021-12-13T00:39:16.137Z"
   },
   {
    "duration": 561,
    "start_time": "2021-12-13T00:39:16.174Z"
   },
   {
    "duration": 468,
    "start_time": "2021-12-13T00:39:16.737Z"
   },
   {
    "duration": 39,
    "start_time": "2021-12-13T00:39:17.260Z"
   },
   {
    "duration": 76,
    "start_time": "2021-12-13T00:39:32.146Z"
   },
   {
    "duration": 91,
    "start_time": "2021-12-13T00:39:32.225Z"
   },
   {
    "duration": 7,
    "start_time": "2021-12-13T00:39:32.319Z"
   },
   {
    "duration": 35,
    "start_time": "2021-12-13T00:39:32.329Z"
   },
   {
    "duration": 549,
    "start_time": "2021-12-13T00:39:32.367Z"
   },
   {
    "duration": 488,
    "start_time": "2021-12-13T00:39:32.918Z"
   },
   {
    "duration": 51,
    "start_time": "2021-12-13T00:39:33.408Z"
   },
   {
    "duration": 80,
    "start_time": "2021-12-13T00:40:00.671Z"
   },
   {
    "duration": 70,
    "start_time": "2021-12-13T00:40:00.754Z"
   },
   {
    "duration": 8,
    "start_time": "2021-12-13T00:40:00.827Z"
   },
   {
    "duration": 18,
    "start_time": "2021-12-13T00:40:00.860Z"
   },
   {
    "duration": 564,
    "start_time": "2021-12-13T00:40:00.881Z"
   },
   {
    "duration": 921,
    "start_time": "2021-12-13T00:40:01.447Z"
   },
   {
    "duration": 100,
    "start_time": "2021-12-13T00:40:02.371Z"
   },
   {
    "duration": 77,
    "start_time": "2021-12-13T00:40:36.321Z"
   },
   {
    "duration": 88,
    "start_time": "2021-12-13T00:40:36.400Z"
   },
   {
    "duration": 8,
    "start_time": "2021-12-13T00:40:36.490Z"
   },
   {
    "duration": 17,
    "start_time": "2021-12-13T00:40:36.501Z"
   },
   {
    "duration": 563,
    "start_time": "2021-12-13T00:40:36.520Z"
   },
   {
    "duration": 421,
    "start_time": "2021-12-13T00:40:37.085Z"
   },
   {
    "duration": 61,
    "start_time": "2021-12-13T00:40:37.509Z"
   },
   {
    "duration": 80,
    "start_time": "2021-12-13T00:46:46.046Z"
   },
   {
    "duration": 91,
    "start_time": "2021-12-13T00:46:46.128Z"
   },
   {
    "duration": 8,
    "start_time": "2021-12-13T00:46:46.221Z"
   },
   {
    "duration": 44,
    "start_time": "2021-12-13T00:46:46.232Z"
   },
   {
    "duration": 160,
    "start_time": "2021-12-13T00:46:46.279Z"
   },
   {
    "duration": -398,
    "start_time": "2021-12-13T00:46:46.840Z"
   },
   {
    "duration": -405,
    "start_time": "2021-12-13T00:46:46.850Z"
   },
   {
    "duration": 78,
    "start_time": "2021-12-13T00:47:06.028Z"
   },
   {
    "duration": 93,
    "start_time": "2021-12-13T00:47:06.108Z"
   },
   {
    "duration": 8,
    "start_time": "2021-12-13T00:47:06.203Z"
   },
   {
    "duration": 16,
    "start_time": "2021-12-13T00:47:06.213Z"
   },
   {
    "duration": 2594,
    "start_time": "2021-12-13T00:47:06.259Z"
   },
   {
    "duration": 300,
    "start_time": "2021-12-13T00:47:08.859Z"
   },
   {
    "duration": 38,
    "start_time": "2021-12-13T00:47:09.162Z"
   },
   {
    "duration": 78,
    "start_time": "2021-12-13T00:48:24.823Z"
   },
   {
    "duration": 93,
    "start_time": "2021-12-13T00:48:24.903Z"
   },
   {
    "duration": 7,
    "start_time": "2021-12-13T00:48:24.999Z"
   },
   {
    "duration": 18,
    "start_time": "2021-12-13T00:48:25.008Z"
   },
   {
    "duration": 580,
    "start_time": "2021-12-13T00:48:25.028Z"
   },
   {
    "duration": 358,
    "start_time": "2021-12-13T00:48:25.611Z"
   },
   {
    "duration": 40,
    "start_time": "2021-12-13T00:48:25.972Z"
   },
   {
    "duration": 79,
    "start_time": "2021-12-13T01:04:37.606Z"
   },
   {
    "duration": 49,
    "start_time": "2021-12-13T01:04:37.687Z"
   },
   {
    "duration": 1201,
    "start_time": "2021-12-13T01:04:37.740Z"
   },
   {
    "duration": -372,
    "start_time": "2021-12-13T01:04:39.316Z"
   },
   {
    "duration": -371,
    "start_time": "2021-12-13T01:04:39.317Z"
   },
   {
    "duration": -398,
    "start_time": "2021-12-13T01:04:39.345Z"
   },
   {
    "duration": -397,
    "start_time": "2021-12-13T01:04:39.347Z"
   },
   {
    "duration": -397,
    "start_time": "2021-12-13T01:04:39.349Z"
   },
   {
    "duration": -396,
    "start_time": "2021-12-13T01:04:39.351Z"
   },
   {
    "duration": -396,
    "start_time": "2021-12-13T01:04:39.353Z"
   },
   {
    "duration": -396,
    "start_time": "2021-12-13T01:04:39.355Z"
   },
   {
    "duration": -397,
    "start_time": "2021-12-13T01:04:39.358Z"
   },
   {
    "duration": -399,
    "start_time": "2021-12-13T01:04:39.362Z"
   },
   {
    "duration": 74,
    "start_time": "2021-12-13T01:06:15.898Z"
   },
   {
    "duration": 48,
    "start_time": "2021-12-13T01:06:15.975Z"
   },
   {
    "duration": 1218,
    "start_time": "2021-12-13T01:06:16.026Z"
   },
   {
    "duration": -382,
    "start_time": "2021-12-13T01:06:17.629Z"
   },
   {
    "duration": -396,
    "start_time": "2021-12-13T01:06:17.645Z"
   },
   {
    "duration": -404,
    "start_time": "2021-12-13T01:06:17.654Z"
   },
   {
    "duration": -405,
    "start_time": "2021-12-13T01:06:17.656Z"
   },
   {
    "duration": -405,
    "start_time": "2021-12-13T01:06:17.658Z"
   },
   {
    "duration": -406,
    "start_time": "2021-12-13T01:06:17.660Z"
   },
   {
    "duration": -407,
    "start_time": "2021-12-13T01:06:17.662Z"
   },
   {
    "duration": -409,
    "start_time": "2021-12-13T01:06:17.666Z"
   },
   {
    "duration": -410,
    "start_time": "2021-12-13T01:06:17.668Z"
   },
   {
    "duration": -411,
    "start_time": "2021-12-13T01:06:17.670Z"
   },
   {
    "duration": 74,
    "start_time": "2021-12-13T01:06:38.544Z"
   },
   {
    "duration": 78,
    "start_time": "2021-12-13T01:06:38.620Z"
   },
   {
    "duration": 1457,
    "start_time": "2021-12-13T01:06:38.701Z"
   },
   {
    "duration": -400,
    "start_time": "2021-12-13T01:06:40.561Z"
   },
   {
    "duration": -401,
    "start_time": "2021-12-13T01:06:40.563Z"
   },
   {
    "duration": -463,
    "start_time": "2021-12-13T01:06:40.626Z"
   },
   {
    "duration": -466,
    "start_time": "2021-12-13T01:06:40.631Z"
   },
   {
    "duration": -469,
    "start_time": "2021-12-13T01:06:40.635Z"
   },
   {
    "duration": -469,
    "start_time": "2021-12-13T01:06:40.637Z"
   },
   {
    "duration": -472,
    "start_time": "2021-12-13T01:06:40.641Z"
   },
   {
    "duration": -471,
    "start_time": "2021-12-13T01:06:40.642Z"
   },
   {
    "duration": -472,
    "start_time": "2021-12-13T01:06:40.644Z"
   },
   {
    "duration": -472,
    "start_time": "2021-12-13T01:06:40.646Z"
   },
   {
    "duration": 80,
    "start_time": "2021-12-13T01:06:49.705Z"
   },
   {
    "duration": 71,
    "start_time": "2021-12-13T01:06:49.789Z"
   },
   {
    "duration": 32216,
    "start_time": "2021-12-13T01:06:49.863Z"
   },
   {
    "duration": 26,
    "start_time": "2021-12-13T01:07:22.082Z"
   },
   {
    "duration": 8,
    "start_time": "2021-12-13T01:07:22.110Z"
   },
   {
    "duration": 978,
    "start_time": "2021-12-13T01:07:22.120Z"
   },
   {
    "duration": -404,
    "start_time": "2021-12-13T01:07:33.390Z"
   },
   {
    "duration": -433,
    "start_time": "2021-12-13T01:07:33.420Z"
   },
   {
    "duration": -434,
    "start_time": "2021-12-13T01:07:33.422Z"
   },
   {
    "duration": -433,
    "start_time": "2021-12-13T01:07:33.423Z"
   },
   {
    "duration": -434,
    "start_time": "2021-12-13T01:07:33.425Z"
   },
   {
    "duration": -435,
    "start_time": "2021-12-13T01:07:33.427Z"
   },
   {
    "duration": -436,
    "start_time": "2021-12-13T01:07:33.429Z"
   },
   {
    "duration": -438,
    "start_time": "2021-12-13T01:07:33.432Z"
   },
   {
    "duration": -448,
    "start_time": "2021-12-13T01:07:33.444Z"
   },
   {
    "duration": -463,
    "start_time": "2021-12-13T01:07:33.460Z"
   },
   {
    "duration": -466,
    "start_time": "2021-12-13T01:07:33.464Z"
   },
   {
    "duration": -472,
    "start_time": "2021-12-13T01:07:33.471Z"
   },
   {
    "duration": -470,
    "start_time": "2021-12-13T01:07:33.472Z"
   },
   {
    "duration": 71,
    "start_time": "2021-12-13T01:07:35.469Z"
   },
   {
    "duration": 54,
    "start_time": "2021-12-13T01:07:35.543Z"
   },
   {
    "duration": 761,
    "start_time": "2021-12-13T01:07:35.600Z"
   },
   {
    "duration": 115,
    "start_time": "2021-12-13T01:07:36.365Z"
   },
   {
    "duration": 10,
    "start_time": "2021-12-13T01:07:36.483Z"
   },
   {
    "duration": 1079,
    "start_time": "2021-12-13T01:07:36.496Z"
   },
   {
    "duration": 118596,
    "start_time": "2021-12-13T01:07:37.578Z"
   },
   {
    "duration": 43,
    "start_time": "2021-12-13T01:09:36.177Z"
   },
   {
    "duration": 138,
    "start_time": "2021-12-13T01:09:36.224Z"
   },
   {
    "duration": 625,
    "start_time": "2021-12-13T01:09:36.366Z"
   },
   {
    "duration": 70028,
    "start_time": "2021-12-13T01:09:36.993Z"
   },
   {
    "duration": 349,
    "start_time": "2021-12-13T01:10:47.023Z"
   },
   {
    "duration": 38,
    "start_time": "2021-12-13T01:10:47.374Z"
   },
   {
    "duration": 1085,
    "start_time": "2021-12-13T09:11:35.206Z"
   },
   {
    "duration": 61,
    "start_time": "2021-12-13T09:11:36.293Z"
   },
   {
    "duration": 44,
    "start_time": "2021-12-13T09:11:36.356Z"
   },
   {
    "duration": 404,
    "start_time": "2021-12-13T09:11:36.401Z"
   },
   {
    "duration": 597,
    "start_time": "2021-12-13T09:11:36.209Z"
   },
   {
    "duration": 595,
    "start_time": "2021-12-13T09:11:36.213Z"
   },
   {
    "duration": 579,
    "start_time": "2021-12-13T09:11:36.229Z"
   },
   {
    "duration": 578,
    "start_time": "2021-12-13T09:11:36.231Z"
   },
   {
    "duration": 576,
    "start_time": "2021-12-13T09:11:36.234Z"
   },
   {
    "duration": 574,
    "start_time": "2021-12-13T09:11:36.238Z"
   },
   {
    "duration": 573,
    "start_time": "2021-12-13T09:11:36.240Z"
   },
   {
    "duration": 570,
    "start_time": "2021-12-13T09:11:36.243Z"
   },
   {
    "duration": 569,
    "start_time": "2021-12-13T09:11:36.245Z"
   },
   {
    "duration": 565,
    "start_time": "2021-12-13T09:11:36.250Z"
   },
   {
    "duration": 1202,
    "start_time": "2021-12-13T12:35:56.030Z"
   },
   {
    "duration": 63,
    "start_time": "2021-12-13T12:35:57.234Z"
   },
   {
    "duration": 37,
    "start_time": "2021-12-13T12:35:57.299Z"
   },
   {
    "duration": 842,
    "start_time": "2021-12-13T12:35:57.338Z"
   },
   {
    "duration": -616,
    "start_time": "2021-12-13T12:35:58.798Z"
   },
   {
    "duration": -651,
    "start_time": "2021-12-13T12:35:58.834Z"
   },
   {
    "duration": -663,
    "start_time": "2021-12-13T12:35:58.847Z"
   },
   {
    "duration": -675,
    "start_time": "2021-12-13T12:35:58.860Z"
   },
   {
    "duration": -686,
    "start_time": "2021-12-13T12:35:58.873Z"
   },
   {
    "duration": -700,
    "start_time": "2021-12-13T12:35:58.887Z"
   },
   {
    "duration": -708,
    "start_time": "2021-12-13T12:35:58.896Z"
   },
   {
    "duration": -721,
    "start_time": "2021-12-13T12:35:58.910Z"
   },
   {
    "duration": -732,
    "start_time": "2021-12-13T12:35:58.923Z"
   },
   {
    "duration": -777,
    "start_time": "2021-12-13T12:35:58.969Z"
   },
   {
    "duration": -785,
    "start_time": "2021-12-13T12:35:58.977Z"
   },
   {
    "duration": 4,
    "start_time": "2021-12-13T12:37:31.621Z"
   },
   {
    "duration": 68,
    "start_time": "2021-12-13T12:37:31.627Z"
   },
   {
    "duration": 35,
    "start_time": "2021-12-13T12:37:31.697Z"
   },
   {
    "duration": 508,
    "start_time": "2021-12-13T12:37:31.734Z"
   },
   {
    "duration": -583,
    "start_time": "2021-12-13T12:37:32.828Z"
   },
   {
    "duration": -656,
    "start_time": "2021-12-13T12:37:32.902Z"
   },
   {
    "duration": -668,
    "start_time": "2021-12-13T12:37:32.915Z"
   },
   {
    "duration": -683,
    "start_time": "2021-12-13T12:37:32.932Z"
   },
   {
    "duration": -694,
    "start_time": "2021-12-13T12:37:32.944Z"
   },
   {
    "duration": -702,
    "start_time": "2021-12-13T12:37:32.953Z"
   },
   {
    "duration": -714,
    "start_time": "2021-12-13T12:37:32.967Z"
   },
   {
    "duration": -723,
    "start_time": "2021-12-13T12:37:32.977Z"
   },
   {
    "duration": -733,
    "start_time": "2021-12-13T12:37:32.989Z"
   },
   {
    "duration": -791,
    "start_time": "2021-12-13T12:37:33.048Z"
   },
   {
    "duration": -803,
    "start_time": "2021-12-13T12:37:33.061Z"
   },
   {
    "duration": 449,
    "start_time": "2021-12-13T12:40:01.245Z"
   },
   {
    "duration": 60,
    "start_time": "2021-12-13T12:40:01.696Z"
   },
   {
    "duration": 37,
    "start_time": "2021-12-13T12:40:01.758Z"
   },
   {
    "duration": 967,
    "start_time": "2021-12-13T12:40:01.797Z"
   },
   {
    "duration": 21,
    "start_time": "2021-12-13T12:40:02.766Z"
   },
   {
    "duration": 6,
    "start_time": "2021-12-13T12:40:02.789Z"
   },
   {
    "duration": 766,
    "start_time": "2021-12-13T12:40:02.797Z"
   },
   {
    "duration": 78217,
    "start_time": "2021-12-13T12:40:03.566Z"
   },
   {
    "duration": 29,
    "start_time": "2021-12-13T12:41:21.784Z"
   },
   {
    "duration": 77,
    "start_time": "2021-12-13T12:41:21.814Z"
   },
   {
    "duration": 685,
    "start_time": "2021-12-13T12:41:21.893Z"
   },
   {
    "duration": -512,
    "start_time": "2021-12-13T12:41:23.092Z"
   },
   {
    "duration": -520,
    "start_time": "2021-12-13T12:41:23.100Z"
   },
   {
    "duration": -528,
    "start_time": "2021-12-13T12:41:23.109Z"
   },
   {
    "duration": -534,
    "start_time": "2021-12-13T12:41:23.116Z"
   },
   {
    "duration": 4,
    "start_time": "2021-12-13T12:42:34.869Z"
   },
   {
    "duration": 61,
    "start_time": "2021-12-13T12:42:34.875Z"
   },
   {
    "duration": 40,
    "start_time": "2021-12-13T12:42:34.938Z"
   },
   {
    "duration": 585,
    "start_time": "2021-12-13T12:42:34.980Z"
   },
   {
    "duration": 109,
    "start_time": "2021-12-13T12:42:35.567Z"
   },
   {
    "duration": 5,
    "start_time": "2021-12-13T12:42:35.678Z"
   },
   {
    "duration": 28,
    "start_time": "2021-12-13T12:42:35.685Z"
   },
   {
    "duration": 148,
    "start_time": "2021-12-13T12:42:35.715Z"
   },
   {
    "duration": 116,
    "start_time": "2021-12-13T12:42:35.872Z"
   },
   {
    "duration": 458,
    "start_time": "2021-12-13T12:42:36.062Z"
   },
   {
    "duration": 29,
    "start_time": "2021-12-13T12:43:25.763Z"
   },
   {
    "duration": 455,
    "start_time": "2021-12-13T12:43:25.863Z"
   },
   {
    "duration": 50537,
    "start_time": "2021-12-13T12:43:26.320Z"
   },
   {
    "duration": 264,
    "start_time": "2021-12-13T12:44:16.859Z"
   },
   {
    "duration": 41,
    "start_time": "2021-12-13T12:44:17.125Z"
   },
   {
    "duration": 4,
    "start_time": "2021-12-13T12:48:28.597Z"
   },
   {
    "duration": 61,
    "start_time": "2021-12-13T12:48:28.603Z"
   },
   {
    "duration": 35,
    "start_time": "2021-12-13T12:48:28.666Z"
   },
   {
    "duration": 971,
    "start_time": "2021-12-13T12:48:28.703Z"
   },
   {
    "duration": 191,
    "start_time": "2021-12-13T12:48:29.677Z"
   },
   {
    "duration": 4,
    "start_time": "2021-12-13T12:48:29.870Z"
   },
   {
    "duration": 28,
    "start_time": "2021-12-13T12:48:29.877Z"
   },
   {
    "duration": 83,
    "start_time": "2021-12-13T12:48:29.908Z"
   },
   {
    "duration": 458,
    "start_time": "2021-12-13T12:48:29.993Z"
   },
   {
    "duration": -1619,
    "start_time": "2021-12-13T12:48:32.072Z"
   },
   {
    "duration": -1626,
    "start_time": "2021-12-13T12:48:32.080Z"
   },
   {
    "duration": -1636,
    "start_time": "2021-12-13T12:48:32.091Z"
   },
   {
    "duration": -1697,
    "start_time": "2021-12-13T12:48:32.153Z"
   },
   {
    "duration": 4,
    "start_time": "2021-12-13T12:48:44.583Z"
   },
   {
    "duration": 62,
    "start_time": "2021-12-13T12:48:44.589Z"
   },
   {
    "duration": 35,
    "start_time": "2021-12-13T12:48:44.653Z"
   },
   {
    "duration": 488,
    "start_time": "2021-12-13T12:48:44.690Z"
   },
   {
    "duration": 105,
    "start_time": "2021-12-13T12:48:45.264Z"
   },
   {
    "duration": 6,
    "start_time": "2021-12-13T12:48:45.371Z"
   },
   {
    "duration": 33,
    "start_time": "2021-12-13T12:48:45.379Z"
   },
   {
    "duration": 83,
    "start_time": "2021-12-13T12:48:45.415Z"
   },
   {
    "duration": 164,
    "start_time": "2021-12-13T12:48:45.501Z"
   },
   {
    "duration": -1357,
    "start_time": "2021-12-13T12:48:47.024Z"
   },
   {
    "duration": -1361,
    "start_time": "2021-12-13T12:48:47.029Z"
   },
   {
    "duration": -1368,
    "start_time": "2021-12-13T12:48:47.037Z"
   },
   {
    "duration": -1372,
    "start_time": "2021-12-13T12:48:47.042Z"
   },
   {
    "duration": 4,
    "start_time": "2021-12-13T12:48:53.861Z"
   },
   {
    "duration": 58,
    "start_time": "2021-12-13T12:48:53.869Z"
   },
   {
    "duration": 35,
    "start_time": "2021-12-13T12:48:53.929Z"
   },
   {
    "duration": 758,
    "start_time": "2021-12-13T12:48:57.919Z"
   },
   {
    "duration": 192,
    "start_time": "2021-12-13T12:48:58.679Z"
   },
   {
    "duration": 5,
    "start_time": "2021-12-13T12:48:58.873Z"
   },
   {
    "duration": 33,
    "start_time": "2021-12-13T12:48:58.880Z"
   },
   {
    "duration": 55,
    "start_time": "2021-12-13T12:48:58.914Z"
   },
   {
    "duration": 590,
    "start_time": "2021-12-13T12:48:58.971Z"
   },
   {
    "duration": -3026,
    "start_time": "2021-12-13T12:49:02.589Z"
   },
   {
    "duration": -3028,
    "start_time": "2021-12-13T12:49:02.592Z"
   },
   {
    "duration": -3031,
    "start_time": "2021-12-13T12:49:02.596Z"
   },
   {
    "duration": -3033,
    "start_time": "2021-12-13T12:49:02.599Z"
   },
   {
    "duration": 4,
    "start_time": "2021-12-13T12:49:33.787Z"
   },
   {
    "duration": 61,
    "start_time": "2021-12-13T12:49:33.796Z"
   },
   {
    "duration": 34,
    "start_time": "2021-12-13T12:49:33.859Z"
   },
   {
    "duration": 773,
    "start_time": "2021-12-13T12:49:33.896Z"
   },
   {
    "duration": 116,
    "start_time": "2021-12-13T12:49:34.671Z"
   },
   {
    "duration": 5,
    "start_time": "2021-12-13T12:49:34.789Z"
   },
   {
    "duration": 30,
    "start_time": "2021-12-13T12:49:34.795Z"
   },
   {
    "duration": 142,
    "start_time": "2021-12-13T12:49:34.827Z"
   },
   {
    "duration": 119,
    "start_time": "2021-12-13T12:49:34.972Z"
   },
   {
    "duration": 459,
    "start_time": "2021-12-13T12:49:35.169Z"
   },
   {
    "duration": 50498,
    "start_time": "2021-12-13T12:49:35.629Z"
   },
   {
    "duration": 300,
    "start_time": "2021-12-13T12:50:26.128Z"
   },
   {
    "duration": 44,
    "start_time": "2021-12-13T12:50:26.430Z"
   },
   {
    "duration": 4,
    "start_time": "2021-12-13T12:59:13.120Z"
   },
   {
    "duration": 59,
    "start_time": "2021-12-13T12:59:13.129Z"
   },
   {
    "duration": 37,
    "start_time": "2021-12-13T12:59:13.189Z"
   },
   {
    "duration": 1238,
    "start_time": "2021-12-13T12:59:13.228Z"
   },
   {
    "duration": 107,
    "start_time": "2021-12-13T12:59:14.468Z"
   },
   {
    "duration": 5,
    "start_time": "2021-12-13T12:59:14.585Z"
   },
   {
    "duration": 32,
    "start_time": "2021-12-13T12:59:14.592Z"
   },
   {
    "duration": 74,
    "start_time": "2021-12-13T12:59:14.626Z"
   },
   {
    "duration": 401,
    "start_time": "2021-12-13T12:59:14.765Z"
   },
   {
    "duration": -602,
    "start_time": "2021-12-13T12:59:15.770Z"
   },
   {
    "duration": -610,
    "start_time": "2021-12-13T12:59:15.779Z"
   },
   {
    "duration": -613,
    "start_time": "2021-12-13T12:59:15.783Z"
   },
   {
    "duration": -614,
    "start_time": "2021-12-13T12:59:15.786Z"
   },
   {
    "duration": 4,
    "start_time": "2021-12-13T12:59:40.055Z"
   },
   {
    "duration": 79,
    "start_time": "2021-12-13T12:59:40.061Z"
   },
   {
    "duration": 45,
    "start_time": "2021-12-13T12:59:40.143Z"
   },
   {
    "duration": 583,
    "start_time": "2021-12-13T12:59:40.190Z"
   },
   {
    "duration": 198,
    "start_time": "2021-12-13T12:59:40.775Z"
   },
   {
    "duration": 5,
    "start_time": "2021-12-13T12:59:40.975Z"
   },
   {
    "duration": 30,
    "start_time": "2021-12-13T12:59:40.982Z"
   },
   {
    "duration": 82,
    "start_time": "2021-12-13T12:59:41.013Z"
   },
   {
    "duration": 188,
    "start_time": "2021-12-13T12:59:41.098Z"
   },
   {
    "duration": 469,
    "start_time": "2021-12-13T12:59:41.365Z"
   },
   {
    "duration": 273,
    "start_time": "2021-12-13T12:59:41.836Z"
   },
   {
    "duration": -2349,
    "start_time": "2021-12-13T12:59:44.461Z"
   },
   {
    "duration": -2359,
    "start_time": "2021-12-13T12:59:44.472Z"
   },
   {
    "duration": 4,
    "start_time": "2021-12-13T13:00:00.207Z"
   },
   {
    "duration": 73,
    "start_time": "2021-12-13T13:00:00.215Z"
   },
   {
    "duration": 38,
    "start_time": "2021-12-13T13:00:00.290Z"
   },
   {
    "duration": 546,
    "start_time": "2021-12-13T13:00:00.330Z"
   },
   {
    "duration": 100,
    "start_time": "2021-12-13T13:00:00.878Z"
   },
   {
    "duration": 25,
    "start_time": "2021-12-13T13:00:00.980Z"
   },
   {
    "duration": 77,
    "start_time": "2021-12-13T13:00:01.007Z"
   },
   {
    "duration": 148,
    "start_time": "2021-12-13T13:00:01.915Z"
   },
   {
    "duration": 299,
    "start_time": "2021-12-13T13:00:02.066Z"
   },
   {
    "duration": 801,
    "start_time": "2021-12-13T13:00:02.368Z"
   },
   {
    "duration": 61050,
    "start_time": "2021-12-13T13:00:03.171Z"
   },
   {
    "duration": 310,
    "start_time": "2021-12-13T13:01:04.223Z"
   },
   {
    "duration": 43,
    "start_time": "2021-12-13T13:01:04.535Z"
   },
   {
    "duration": 4,
    "start_time": "2021-12-13T13:06:59.879Z"
   },
   {
    "duration": 66,
    "start_time": "2021-12-13T13:06:59.888Z"
   },
   {
    "duration": 37,
    "start_time": "2021-12-13T13:06:59.956Z"
   },
   {
    "duration": 782,
    "start_time": "2021-12-13T13:06:59.995Z"
   },
   {
    "duration": 99,
    "start_time": "2021-12-13T13:07:00.779Z"
   },
   {
    "duration": 7,
    "start_time": "2021-12-13T13:07:00.964Z"
   },
   {
    "duration": 45,
    "start_time": "2021-12-13T13:07:00.973Z"
   },
   {
    "duration": 76,
    "start_time": "2021-12-13T13:07:01.021Z"
   },
   {
    "duration": 264,
    "start_time": "2021-12-13T13:07:01.102Z"
   },
   {
    "duration": 42793,
    "start_time": "2021-12-13T13:07:01.370Z"
   },
   {
    "duration": 360,
    "start_time": "2021-12-13T13:07:44.166Z"
   },
   {
    "duration": 39,
    "start_time": "2021-12-13T13:07:44.528Z"
   },
   {
    "duration": 4,
    "start_time": "2021-12-13T13:09:12.547Z"
   },
   {
    "duration": 62,
    "start_time": "2021-12-13T13:09:12.554Z"
   },
   {
    "duration": 45,
    "start_time": "2021-12-13T13:09:12.617Z"
   },
   {
    "duration": 500,
    "start_time": "2021-12-13T13:09:12.665Z"
   },
   {
    "duration": 108,
    "start_time": "2021-12-13T13:09:13.168Z"
   },
   {
    "duration": 7,
    "start_time": "2021-12-13T13:09:13.277Z"
   },
   {
    "duration": 30,
    "start_time": "2021-12-13T13:09:13.285Z"
   },
   {
    "duration": 78,
    "start_time": "2021-12-13T13:09:13.740Z"
   },
   {
    "duration": 204,
    "start_time": "2021-12-13T13:09:13.865Z"
   },
   {
    "duration": 42692,
    "start_time": "2021-12-13T13:09:14.072Z"
   },
   {
    "duration": 263,
    "start_time": "2021-12-13T13:09:56.766Z"
   },
   {
    "duration": 38,
    "start_time": "2021-12-13T13:09:57.030Z"
   },
   {
    "duration": 4,
    "start_time": "2021-12-13T13:13:49.809Z"
   },
   {
    "duration": 95,
    "start_time": "2021-12-13T13:13:49.817Z"
   },
   {
    "duration": 37,
    "start_time": "2021-12-13T13:13:49.915Z"
   },
   {
    "duration": 917,
    "start_time": "2021-12-13T13:13:49.954Z"
   },
   {
    "duration": 89,
    "start_time": "2021-12-13T13:13:50.874Z"
   },
   {
    "duration": 6,
    "start_time": "2021-12-13T13:13:50.966Z"
   },
   {
    "duration": 32,
    "start_time": "2021-12-13T13:13:50.974Z"
   },
   {
    "duration": 79,
    "start_time": "2021-12-13T13:13:51.008Z"
   },
   {
    "duration": 275,
    "start_time": "2021-12-13T13:13:51.090Z"
   },
   {
    "duration": 42700,
    "start_time": "2021-12-13T13:13:51.368Z"
   },
   {
    "duration": 47854,
    "start_time": "2021-12-13T13:14:34.071Z"
   },
   {
    "duration": 289,
    "start_time": "2021-12-13T13:15:21.927Z"
   },
   {
    "duration": 207,
    "start_time": "2021-12-13T13:15:22.218Z"
   },
   {
    "duration": 125,
    "start_time": "2021-12-13T13:16:02.340Z"
   },
   {
    "duration": 3,
    "start_time": "2021-12-13T13:26:25.256Z"
   },
   {
    "duration": 58,
    "start_time": "2021-12-13T13:26:25.263Z"
   },
   {
    "duration": 45,
    "start_time": "2021-12-13T13:26:25.322Z"
   },
   {
    "duration": 896,
    "start_time": "2021-12-13T13:26:25.369Z"
   },
   {
    "duration": 105,
    "start_time": "2021-12-13T13:26:26.268Z"
   },
   {
    "duration": 6,
    "start_time": "2021-12-13T13:26:26.375Z"
   },
   {
    "duration": 33,
    "start_time": "2021-12-13T13:26:26.383Z"
   },
   {
    "duration": 83,
    "start_time": "2021-12-13T13:26:26.417Z"
   },
   {
    "duration": 190,
    "start_time": "2021-12-13T13:26:26.503Z"
   },
   {
    "duration": 41699,
    "start_time": "2021-12-13T13:26:26.766Z"
   },
   {
    "duration": 48988,
    "start_time": "2021-12-13T13:27:08.468Z"
   },
   {
    "duration": 252,
    "start_time": "2021-12-13T13:27:57.458Z"
   },
   {
    "duration": 434,
    "start_time": "2021-12-13T13:27:57.712Z"
   },
   {
    "duration": 4,
    "start_time": "2021-12-13T13:28:22.964Z"
   },
   {
    "duration": 61,
    "start_time": "2021-12-13T13:28:22.970Z"
   },
   {
    "duration": 44,
    "start_time": "2021-12-13T13:28:23.034Z"
   },
   {
    "duration": 690,
    "start_time": "2021-12-13T13:28:23.079Z"
   },
   {
    "duration": 108,
    "start_time": "2021-12-13T13:28:23.772Z"
   },
   {
    "duration": 12,
    "start_time": "2021-12-13T13:28:23.882Z"
   },
   {
    "duration": 34,
    "start_time": "2021-12-13T13:28:23.897Z"
   },
   {
    "duration": 80,
    "start_time": "2021-12-13T13:28:23.934Z"
   },
   {
    "duration": 204,
    "start_time": "2021-12-13T13:28:24.065Z"
   },
   {
    "duration": 42318,
    "start_time": "2021-12-13T13:28:24.271Z"
   },
   {
    "duration": 50738,
    "start_time": "2021-12-13T13:29:06.592Z"
   },
   {
    "duration": 288,
    "start_time": "2021-12-13T13:29:57.331Z"
   },
   {
    "duration": 445,
    "start_time": "2021-12-13T13:29:57.620Z"
   },
   {
    "duration": 134,
    "start_time": "2021-12-13T13:34:20.930Z"
   },
   {
    "duration": 82,
    "start_time": "2021-12-13T13:38:02.680Z"
   },
   {
    "duration": 433,
    "start_time": "2021-12-13T13:38:09.790Z"
   },
   {
    "duration": 5,
    "start_time": "2021-12-13T13:38:17.874Z"
   },
   {
    "duration": 61,
    "start_time": "2021-12-13T13:38:17.881Z"
   },
   {
    "duration": 36,
    "start_time": "2021-12-13T13:38:17.944Z"
   },
   {
    "duration": 882,
    "start_time": "2021-12-13T13:38:17.982Z"
   },
   {
    "duration": 109,
    "start_time": "2021-12-13T13:38:18.866Z"
   },
   {
    "duration": 6,
    "start_time": "2021-12-13T13:38:18.977Z"
   },
   {
    "duration": 36,
    "start_time": "2021-12-13T13:38:18.984Z"
   },
   {
    "duration": 80,
    "start_time": "2021-12-13T13:38:19.022Z"
   },
   {
    "duration": 197,
    "start_time": "2021-12-13T13:38:19.166Z"
   },
   {
    "duration": 16952,
    "start_time": "2021-12-13T13:38:19.366Z"
   },
   {
    "duration": -442,
    "start_time": "2021-12-13T13:38:36.762Z"
   },
   {
    "duration": -451,
    "start_time": "2021-12-13T13:38:36.772Z"
   },
   {
    "duration": -456,
    "start_time": "2021-12-13T13:38:36.778Z"
   },
   {
    "duration": 4,
    "start_time": "2021-12-13T13:38:53.679Z"
   },
   {
    "duration": 73,
    "start_time": "2021-12-13T13:38:53.687Z"
   },
   {
    "duration": 37,
    "start_time": "2021-12-13T13:38:53.763Z"
   },
   {
    "duration": 770,
    "start_time": "2021-12-13T13:38:53.802Z"
   },
   {
    "duration": 109,
    "start_time": "2021-12-13T13:38:54.665Z"
   },
   {
    "duration": 6,
    "start_time": "2021-12-13T13:38:54.775Z"
   },
   {
    "duration": 34,
    "start_time": "2021-12-13T13:38:54.783Z"
   },
   {
    "duration": 146,
    "start_time": "2021-12-13T13:38:54.819Z"
   },
   {
    "duration": 196,
    "start_time": "2021-12-13T13:38:54.967Z"
   },
   {
    "duration": 355,
    "start_time": "2021-12-13T13:38:55.167Z"
   },
   {
    "duration": 240,
    "start_time": "2021-12-13T13:38:55.524Z"
   },
   {
    "duration": 621,
    "start_time": "2021-12-13T13:39:32.532Z"
   },
   {
    "duration": 648,
    "start_time": "2021-12-13T13:39:45.611Z"
   },
   {
    "duration": 4,
    "start_time": "2021-12-13T14:00:56.758Z"
   },
   {
    "duration": 82,
    "start_time": "2021-12-13T14:00:56.764Z"
   },
   {
    "duration": 36,
    "start_time": "2021-12-13T14:00:56.849Z"
   },
   {
    "duration": 1378,
    "start_time": "2021-12-13T14:00:56.887Z"
   },
   {
    "duration": 110,
    "start_time": "2021-12-13T14:00:58.268Z"
   },
   {
    "duration": 5,
    "start_time": "2021-12-13T14:00:58.380Z"
   },
   {
    "duration": 1043,
    "start_time": "2021-12-13T14:00:58.387Z"
   },
   {
    "duration": 80803,
    "start_time": "2021-12-13T14:00:59.433Z"
   },
   {
    "duration": 39,
    "start_time": "2021-12-13T14:02:20.239Z"
   },
   {
    "duration": 84,
    "start_time": "2021-12-13T14:02:20.280Z"
   },
   {
    "duration": 121,
    "start_time": "2021-12-13T14:02:20.367Z"
   },
   {
    "duration": 41726,
    "start_time": "2021-12-13T14:02:20.565Z"
   },
   {
    "duration": 49185,
    "start_time": "2021-12-13T14:03:02.293Z"
   },
   {
    "duration": 240,
    "start_time": "2021-12-13T14:03:51.480Z"
   },
   {
    "duration": 616,
    "start_time": "2021-12-13T14:03:51.721Z"
   }
  ],
  "kernelspec": {
   "display_name": "Python 3 (ipykernel)",
   "language": "python",
   "name": "python3"
  },
  "language_info": {
   "codemirror_mode": {
    "name": "ipython",
    "version": 3
   },
   "file_extension": ".py",
   "mimetype": "text/x-python",
   "name": "python",
   "nbconvert_exporter": "python",
   "pygments_lexer": "ipython3",
   "version": "3.9.5"
  },
  "toc": {
   "base_numbering": 1,
   "nav_menu": {},
   "number_sections": true,
   "sideBar": true,
   "skip_h1_title": false,
   "title_cell": "Содержание",
   "title_sidebar": "Содержание",
   "toc_cell": true,
   "toc_position": {
    "height": "calc(100% - 180px)",
    "left": "10px",
    "top": "150px",
    "width": "366.391px"
   },
   "toc_section_display": true,
   "toc_window_display": true
  }
 },
 "nbformat": 4,
 "nbformat_minor": 2
}
