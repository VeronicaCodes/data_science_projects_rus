{
 "cells": [
  {
   "cell_type": "markdown",
   "metadata": {
    "toc": true
   },
   "source": [
    "<h1>Содержание<span class=\"tocSkip\"></span></h1>\n",
    "<div class=\"toc\"><ul class=\"toc-item\"><li><span><a href=\"#Описание-проекта\" data-toc-modified-id=\"Описание-проекта-1\"><span class=\"toc-item-num\">1&nbsp;&nbsp;</span>Описание проекта</a></span><ul class=\"toc-item\"><li><span><a href=\"#Описание-тарифов\" data-toc-modified-id=\"Описание-тарифов-1.1\"><span class=\"toc-item-num\">1.1&nbsp;&nbsp;</span>Описание тарифов</a></span></li><li><span><a href=\"#Описание-данных\" data-toc-modified-id=\"Описание-данных-1.2\"><span class=\"toc-item-num\">1.2&nbsp;&nbsp;</span>Описание данных</a></span></li></ul></li><li><span><a href=\"#Изучение-данных-из-файлов\" data-toc-modified-id=\"Изучение-данных-из-файлов-2\"><span class=\"toc-item-num\">2&nbsp;&nbsp;</span>Изучение данных из файлов</a></span></li><li><span><a href=\"#Предобработка-данных\" data-toc-modified-id=\"Предобработка-данных-3\"><span class=\"toc-item-num\">3&nbsp;&nbsp;</span>Предобработка данных</a></span><ul class=\"toc-item\"><li><span><a href=\"#Изменение-типов-данных-и-объединение\" data-toc-modified-id=\"Изменение-типов-данных-и-объединение-3.1\"><span class=\"toc-item-num\">3.1&nbsp;&nbsp;</span>Изменение типов данных и объединение</a></span></li><li><span><a href=\"#Выручка-с-каждого-пользователя-по-данным\" data-toc-modified-id=\"Выручка-с-каждого-пользователя-по-данным-3.2\"><span class=\"toc-item-num\">3.2&nbsp;&nbsp;</span>Выручка с каждого пользователя по данным</a></span></li></ul></li><li><span><a href=\"#Исследовательский-анализ-данных\" data-toc-modified-id=\"Исследовательский-анализ-данных-4\"><span class=\"toc-item-num\">4&nbsp;&nbsp;</span>Исследовательский анализ данных</a></span></li><li><span><a href=\"#Проверка-гипотез\" data-toc-modified-id=\"Проверка-гипотез-5\"><span class=\"toc-item-num\">5&nbsp;&nbsp;</span>Проверка гипотез</a></span><ul class=\"toc-item\"><li><span><a href=\"#Гипотеза-№1:-Различие-средней-выручки-с-тарифов\" data-toc-modified-id=\"Гипотеза-№1:-Различие-средней-выручки-с-тарифов-5.1\"><span class=\"toc-item-num\">5.1&nbsp;&nbsp;</span>Гипотеза №1: Различие средней выручки с тарифов</a></span></li><li><span><a href=\"#Гипотеза-№2:-Различие-средней-выручки-между-Москвой-и-другими-регионами\" data-toc-modified-id=\"Гипотеза-№2:-Различие-средней-выручки-между-Москвой-и-другими-регионами-5.2\"><span class=\"toc-item-num\">5.2&nbsp;&nbsp;</span>Гипотеза №2: Различие средней выручки между Москвой и другими регионами</a></span></li></ul></li><li><span><a href=\"#Общий-вывод\" data-toc-modified-id=\"Общий-вывод-6\"><span class=\"toc-item-num\">6&nbsp;&nbsp;</span>Общий вывод</a></span></li></ul></div>"
   ]
  },
  {
   "cell_type": "markdown",
   "metadata": {},
   "source": [
    "# Исследование наиболее выгодного тарифного плана"
   ]
  },
  {
   "cell_type": "markdown",
   "metadata": {},
   "source": [
    "## Описание проекта\n",
    "\n",
    "«Мегалайн» — федеральный оператор сотовой связи. Компания предлагает клиентам два тарифных плана: «Смарт» и «Ультра». Чтобы скорректировать рекламный бюджет, коммерческий департамент хочет понять, какой тариф приносит больше денег.\n",
    "\n",
    "Необходимо сделать предварительный анализ тарифов на небольшой выборке клиентов. Имеющиеся в распоряжении данные включают в себя 500 пользователей «Мегалайна»: кто они, откуда, каким тарифом пользуются, сколько звонков и сообщений каждый отправил за 2018 год. Нужно проанализировать поведение клиентов и сделать вывод — какой тариф лучше."
   ]
  },
  {
   "cell_type": "markdown",
   "metadata": {},
   "source": [
    "### Описание тарифов\n",
    "**Тариф «Смарт»**\n",
    "<br>*Ежемесячная плата*: 550 рублей. Включено 500 минут разговора, 50 сообщений и 15 Гб интернет-трафика\n",
    "<br>*Стоимость услуг сверх тарифного пакета*: 1. минута разговора: 3 рубля \n",
    "\n",
    "**Тариф «Ультра»**\n",
    "<br>*Ежемесячная плата*а: 1950 рублей. Включено 3000 минут разговора, 1000 сообщений и 30 Гб интернет-трафика\n",
    "<br>*Стоимость услуг сверх тарифного пакета*: 1. минута разговора: 1 рубль; 2. сообщение: 1 рубль; 3. 1 Гб интернет-трафика: 150 рублей.\n",
    "\n",
    "***Примечание***:«Мегалайн» всегда округляет вверх значения минут и мегабайтов. Если пользователь проговорил всего 1 секунду, в тарифе засчитывается целая минута); 2. сообщение: 3 рубля; 3. 1 Гб интернет-трафика: 200 рублей."
   ]
  },
  {
   "cell_type": "markdown",
   "metadata": {},
   "source": [
    "### Описание данных\n",
    "\n",
    "**Таблица users (информация о пользователях):**\n",
    "<br>user_id — уникальный идентификатор пользователя\n",
    "<br>first_name — имя пользователя\n",
    "<br>last_name — фамилия пользователя\n",
    "<br>age — возраст пользователя (годы)\n",
    "<br>reg_date — дата подключения тарифа (день, месяц, год)\n",
    "<br>churn_date — дата прекращения пользования тарифом (если значение пропущено, то тариф ещё действовал на момент выгрузки данных)\n",
    "<br>city — город проживания пользователя\n",
    "<br>tarif — название тарифного плана\n",
    "\n",
    "**Таблица calls (информация о звонках):**\n",
    "<br>id — уникальный номер звонка\n",
    "<br>call_date — дата звонка\n",
    "<br>duration — длительность звонка в минутах\n",
    "<br>user_id — идентификатор пользователя, сделавшего звонок\n",
    "\n",
    "**Таблица messages (информация о сообщениях):**\n",
    "<br>id — уникальный номер сообщения\n",
    "<br>message_date — дата сообщения\n",
    "<br>user_id — идентификатор пользователя, отправившего сообщение\n",
    "\n",
    "**Таблица internet (информация об интернет-сессиях):**\n",
    "<br>id — уникальный номер сессии\n",
    "<br>mb_used — объём потраченного за сессию интернет-трафика (в мегабайтах)\n",
    "<br>session_date — дата интернет-сессии\n",
    "<br>user_id — идентификатор пользователя\n",
    "\n",
    "**Таблица tariffs (информация о тарифах):**\n",
    "<br>tariff_name — название тарифа\n",
    "<br>rub_monthly_fee — ежемесячная абонентская плата в рублях\n",
    "<br>minutes_included — количество минут разговора в месяц, включённых в абонентскую плату\n",
    "<br>messages_included — количество сообщений в месяц, включённых в абонентскую плату\n",
    "<br>mb_per_month_included — объём интернет-трафика, включённого в абонентскую плату (в мегабайтах)\n",
    "<br>rub_per_minute — стоимость минуты разговора сверх тарифного пакета (например, если в тарифе 100 минут разговора в месяц, то со 101 минуты будет взиматься плата)\n",
    "<br>rub_per_message — стоимость отправки сообщения сверх тарифного пакета\n",
    "<br>rub_per_gb — стоимость дополнительного гигабайта интернет-трафика сверх тарифного пакета (1 гигабайт = 1024 мегабайта)"
   ]
  },
  {
   "cell_type": "markdown",
   "metadata": {},
   "source": [
    "## Изучение данных из файлов"
   ]
  },
  {
   "cell_type": "code",
   "execution_count": 1,
   "metadata": {},
   "outputs": [],
   "source": [
    "# загрузка библиотек\n",
    "import pandas as pd\n",
    "import matplotlib.pyplot as plt\n",
    "import numpy as np\n",
    "from scipy import stats as st"
   ]
  },
  {
   "cell_type": "code",
   "execution_count": 2,
   "metadata": {},
   "outputs": [
    {
     "name": "stdout",
     "output_type": "stream",
     "text": [
      "Users\n",
      "<class 'pandas.core.frame.DataFrame'>\n",
      "RangeIndex: 500 entries, 0 to 499\n",
      "Data columns (total 8 columns):\n",
      " #   Column      Non-Null Count  Dtype \n",
      "---  ------      --------------  ----- \n",
      " 0   user_id     500 non-null    int64 \n",
      " 1   age         500 non-null    int64 \n",
      " 2   churn_date  38 non-null     object\n",
      " 3   city        500 non-null    object\n",
      " 4   first_name  500 non-null    object\n",
      " 5   last_name   500 non-null    object\n",
      " 6   reg_date    500 non-null    object\n",
      " 7   tariff      500 non-null    object\n",
      "dtypes: int64(2), object(6)\n",
      "memory usage: 31.4+ KB\n",
      "\n",
      "Calls\n",
      "<class 'pandas.core.frame.DataFrame'>\n",
      "RangeIndex: 202607 entries, 0 to 202606\n",
      "Data columns (total 4 columns):\n",
      " #   Column     Non-Null Count   Dtype  \n",
      "---  ------     --------------   -----  \n",
      " 0   id         202607 non-null  object \n",
      " 1   call_date  202607 non-null  object \n",
      " 2   duration   202607 non-null  float64\n",
      " 3   user_id    202607 non-null  int64  \n",
      "dtypes: float64(1), int64(1), object(2)\n",
      "memory usage: 6.2+ MB\n",
      "\n",
      "Messages\n",
      "<class 'pandas.core.frame.DataFrame'>\n",
      "RangeIndex: 123036 entries, 0 to 123035\n",
      "Data columns (total 3 columns):\n",
      " #   Column        Non-Null Count   Dtype \n",
      "---  ------        --------------   ----- \n",
      " 0   id            123036 non-null  object\n",
      " 1   message_date  123036 non-null  object\n",
      " 2   user_id       123036 non-null  int64 \n",
      "dtypes: int64(1), object(2)\n",
      "memory usage: 2.8+ MB\n",
      "\n",
      "Internet\n",
      "<class 'pandas.core.frame.DataFrame'>\n",
      "RangeIndex: 149396 entries, 0 to 149395\n",
      "Data columns (total 5 columns):\n",
      " #   Column        Non-Null Count   Dtype  \n",
      "---  ------        --------------   -----  \n",
      " 0   Unnamed: 0    149396 non-null  int64  \n",
      " 1   id            149396 non-null  object \n",
      " 2   mb_used       149396 non-null  float64\n",
      " 3   session_date  149396 non-null  object \n",
      " 4   user_id       149396 non-null  int64  \n",
      "dtypes: float64(1), int64(2), object(2)\n",
      "memory usage: 5.7+ MB\n",
      "\n",
      "Tariffs\n",
      "<class 'pandas.core.frame.DataFrame'>\n",
      "RangeIndex: 2 entries, 0 to 1\n",
      "Data columns (total 8 columns):\n",
      " #   Column                 Non-Null Count  Dtype \n",
      "---  ------                 --------------  ----- \n",
      " 0   messages_included      2 non-null      int64 \n",
      " 1   mb_per_month_included  2 non-null      int64 \n",
      " 2   minutes_included       2 non-null      int64 \n",
      " 3   rub_monthly_fee        2 non-null      int64 \n",
      " 4   rub_per_gb             2 non-null      int64 \n",
      " 5   rub_per_message        2 non-null      int64 \n",
      " 6   rub_per_minute         2 non-null      int64 \n",
      " 7   tariff_name            2 non-null      object\n",
      "dtypes: int64(7), object(1)\n",
      "memory usage: 256.0+ bytes\n",
      "\n",
      "Cities\n",
      "['Краснодар' 'Москва' 'Стерлитамак' 'Новокузнецк' 'Набережные Челны'\n",
      " 'Ульяновск' 'Челябинск' 'Пермь' 'Тюмень' 'Самара' 'Санкт-Петербург'\n",
      " 'Иваново' 'Чебоксары' 'Омск' 'Уфа' 'Томск' 'Чита' 'Мурманск'\n",
      " 'Петрозаводск' 'Тверь' 'Екатеринбург' 'Махачкала' 'Вологда' 'Череповец'\n",
      " 'Ярославль' 'Сочи' 'Хабаровск' 'Ставрополь' 'Рязань' 'Улан-Удэ' 'Тула'\n",
      " 'Саратов' 'Ростов-на-Дону' 'Казань' 'Иркутск' 'Курск' 'Калуга' 'Якутск'\n",
      " 'Астрахань' 'Химки' 'Владикавказ' 'Волгоград' 'Саранск' 'Ижевск'\n",
      " 'Новосибирск' 'Брянск' 'Тольятти' 'Нижний Тагил' 'Орёл' 'Белгород'\n",
      " 'Воронеж' 'Волжский' 'Курган' 'Барнаул' 'Красноярск' 'Архангельск'\n",
      " 'Липецк' 'Кемерово' 'Киров' 'Сургут' 'Пенза' 'Магнитогорск'\n",
      " 'Нижний Новгород' 'Кострома' 'Владивосток' 'Тамбов' 'Балашиха'\n",
      " 'Севастополь' 'Калининград' 'Оренбург' 'Смоленск' 'Нижневартовск'\n",
      " 'Владимир' 'Новороссийск' 'Грозный' 'Подольск']\n"
     ]
    }
   ],
   "source": [
    "calls_df = pd.read_csv('calls.csv', sep=',', decimal='.')\n",
    "internet_df = pd.read_csv('internet.csv', sep=',', decimal='.')\n",
    "messages_df = pd.read_csv('messages.csv', sep=',', decimal='.')\n",
    "users_df = pd.read_csv('users.csv', sep=',', decimal='.')\n",
    "tariffs_df = pd.read_csv('tariffs.csv', sep=',', decimal='.')\n",
    "print(\"Users\")\n",
    "users_df.info()\n",
    "print()\n",
    "print(\"Calls\")\n",
    "calls_df.info()\n",
    "print()\n",
    "print(\"Messages\")\n",
    "messages_df.info()\n",
    "print()\n",
    "print(\"Internet\")\n",
    "internet_df.info()\n",
    "print()\n",
    "print(\"Tariffs\")\n",
    "tariffs_df.info()\n",
    "print()\n",
    "print('Cities')\n",
    "#Проверка на ошибки данных в городах\n",
    "print(users_df['city'].unique())"
   ]
  },
  {
   "cell_type": "code",
   "execution_count": 3,
   "metadata": {},
   "outputs": [
    {
     "name": "stdout",
     "output_type": "stream",
     "text": [
      "            duration        user_id\n",
      "count  202607.000000  202607.000000\n",
      "mean        6.755887    1253.940619\n",
      "std         5.843365     144.722751\n",
      "min         0.000000    1000.000000\n",
      "25%         1.300000    1126.000000\n",
      "50%         6.000000    1260.000000\n",
      "75%        10.700000    1379.000000\n",
      "max        38.000000    1499.000000\n",
      "           user_id        age\n",
      "count   500.000000  500.00000\n",
      "mean   1249.500000   46.58800\n",
      "std     144.481833   16.66763\n",
      "min    1000.000000   18.00000\n",
      "25%    1124.750000   32.00000\n",
      "50%    1249.500000   46.00000\n",
      "75%    1374.250000   62.00000\n",
      "max    1499.000000   75.00000\n",
      "             user_id\n",
      "count  123036.000000\n",
      "mean     1256.989410\n",
      "std       143.523967\n",
      "min      1000.000000\n",
      "25%      1134.000000\n",
      "50%      1271.000000\n",
      "75%      1381.000000\n",
      "max      1499.000000\n",
      "          Unnamed: 0        mb_used        user_id\n",
      "count  149396.000000  149396.000000  149396.000000\n",
      "mean    74697.500000     370.192426    1252.099842\n",
      "std     43127.054745     278.300951     144.050823\n",
      "min         0.000000       0.000000    1000.000000\n",
      "25%     37348.750000     138.187500    1130.000000\n",
      "50%     74697.500000     348.015000    1251.000000\n",
      "75%    112046.250000     559.552500    1380.000000\n",
      "max    149395.000000    1724.830000    1499.000000\n"
     ]
    }
   ],
   "source": [
    "list_of_files = [calls_df, users_df, messages_df, internet_df]\n",
    "\n",
    "for i in list_of_files:\n",
    "    print(i.describe())"
   ]
  },
  {
   "cell_type": "markdown",
   "metadata": {},
   "source": [
    "**Вывод:** Импортированы необходимые библиотеки, рассмотрены датасеты, найдены ошибки и составлен план для дальнейших действий\n",
    "1. Каждый из 5 датасетов были импортированы в датафрейм отдельно, с разделением по запятым между колонками и точкой в десятичных значениях\n",
    "2. Для первичного анализа был выбран метод .info() , который показывал типы данных, которые необходимо исправить и пропуски\n",
    "3. Отдельно были рассмотрены уникальные значения городов в датасете users_df, чтобы убедиться, что отсутствуют ошибки в данных. Ошибок не найдено.\n",
    "4. Проверив данные в каждом файле с помощью метода describe() можно увидеть, что данные распределены более-менее равномерно, без очевидных аномалий. В файле internet метод напечатал unnamed: 0 столбец. После проверки данных стало понятно, что этот столбец служит счетчиком для данных в конкретном файле (count, min & max совпадают с остальными столбцами). Этот столбец можно игнорировать и пользоваться индексами."
   ]
  },
  {
   "cell_type": "markdown",
   "metadata": {},
   "source": [
    "## Предобработка данных"
   ]
  },
  {
   "cell_type": "markdown",
   "metadata": {},
   "source": [
    "### Изменение типов данных и объединение"
   ]
  },
  {
   "cell_type": "code",
   "execution_count": 4,
   "metadata": {},
   "outputs": [],
   "source": [
    "# Users\n",
    "users_df['churn_date'] = pd.to_datetime(users_df['churn_date'], format='%Y-%m-%d')\n",
    "users_df['reg_date'] = pd.to_datetime(users_df['reg_date'], format='%Y-%m-%d')\n",
    "users_df['month'] = users_df['churn_date'].dt.to_period('M')\n",
    "users_df['reg_month'] = users_df['reg_date'].dt.to_period('M')\n",
    "\n",
    "# Сalls\n",
    "calls_df['call_date'] = pd.to_datetime(calls_df['call_date'], format='%Y-%m-%d')\n",
    "calls_df['month'] = calls_df['call_date'].dt.to_period('M')\n",
    "\n",
    "# Messages\n",
    "messages_df['message_date'] = pd.to_datetime(messages_df['message_date'], format='%Y-%m-%d')\n",
    "messages_df['month'] = messages_df['message_date'].dt.to_period('M')\n",
    "\n",
    "# Internet\n",
    "internet_df['session_date'] = pd.to_datetime(internet_df['session_date'], format='%Y-%m-%d')\n",
    "internet_df['month'] = internet_df['session_date'].dt.to_period('M')\n",
    "\n",
    "#users_df.head()"
   ]
  },
  {
   "cell_type": "code",
   "execution_count": 5,
   "metadata": {},
   "outputs": [
    {
     "name": "stdout",
     "output_type": "stream",
     "text": [
      "<class 'pandas.core.frame.DataFrame'>\n",
      "RangeIndex: 3214 entries, 0 to 3213\n",
      "Data columns (total 13 columns):\n",
      " #   Column                  Non-Null Count  Dtype         \n",
      "---  ------                  --------------  -----         \n",
      " 0   user_id                 3214 non-null   int64         \n",
      " 1   month                   3214 non-null   period[M]     \n",
      " 2   calls_count             3214 non-null   int32         \n",
      " 3   calls_duration_sum      3214 non-null   int32         \n",
      " 4   messages_sent_month     3214 non-null   int32         \n",
      " 5   internet_traffic_month  3214 non-null   int32         \n",
      " 6   tariff                  3214 non-null   object        \n",
      " 7   age                     3214 non-null   int64         \n",
      " 8   city                    3214 non-null   object        \n",
      " 9   first_name              3214 non-null   object        \n",
      " 10  last_name               3214 non-null   object        \n",
      " 11  reg_date                3214 non-null   datetime64[ns]\n",
      " 12  churn_date              187 non-null    datetime64[ns]\n",
      "dtypes: datetime64[ns](2), int32(4), int64(2), object(4), period[M](1)\n",
      "memory usage: 276.3+ KB\n"
     ]
    }
   ],
   "source": [
    "# Приведение нужных столбцов к pivot_table\n",
    "calls_piv = calls_df.pivot_table(index=['user_id', 'month'], values='duration', aggfunc=['count','sum'])\n",
    "calls_piv.columns = ['calls_count','calls_duration_sum']\n",
    "\n",
    "messages_piv = messages_df.pivot_table(index=['user_id', 'month'], values='id', aggfunc='count')\n",
    "messages_piv.columns = ['messages_sent_month']\n",
    "\n",
    "internet_piv = internet_df.pivot_table(index=['user_id', 'month'], values='mb_used', aggfunc='sum')\n",
    "internet_piv.columns = ['internet_traffic_month']\n",
    "\n",
    "\n",
    "# Объединение таблиц\n",
    "assembled_data = calls_piv.join(messages_piv,on = ['user_id','month'],how = 'outer')\n",
    "assembled_data = assembled_data.join(internet_piv,on = ['user_id','month'],how = 'outer')\n",
    "\n",
    "tariffs = users_df.set_index('user_id')\n",
    "assembled_data = assembled_data.join(tariffs[['tariff','age','city','first_name','last_name','reg_date','churn_date']], how='outer')\n",
    "assembled_data = assembled_data.reset_index()\n",
    "\n",
    "\n",
    "# Приведение нового датасета к нужным типам и заполнение пропусков\n",
    "columns = ['messages_sent_month','calls_duration_sum','calls_count','internet_traffic_month']\n",
    "for i in columns:\n",
    "    assembled_data[i] = assembled_data[i].fillna(0) #Осн. на предпол., что если NaN, то звонки/смс/трафик не тратились\n",
    "    assembled_data[i] = assembled_data[i].apply(np.ceil)\n",
    "    \n",
    "assembled_data = assembled_data.astype({'calls_count':'int','calls_duration_sum':'int',\n",
    "                                      'messages_sent_month':'int','internet_traffic_month':'int'})\n",
    "\n",
    "\n",
    "assembled_data.info()"
   ]
  },
  {
   "cell_type": "markdown",
   "metadata": {},
   "source": [
    "**Вывод:**  Типы данных в датасетах были изменены, где это необходимо, таблицы объеденины в одну и снова скорректированы\n",
    "1. Первым шагом было изменить тип данных, где отражены даты, с типа object на datetime64 с помощью метода to_datetime. Затем, так как в дальнейшем исследовании нам удобнее будет сгруппировать по месяцам, даты во всех датасетах были сконвертированы в формат year-month .\n",
    "2. Далее, данные во всех датасетах были сгруппированы по месяцам (month) и пользователям (user_id) с помощью метода pivot-table, а функция была выбрана с упором на задание, где нужно было расчитать суммарное количество минут/сообщений/мегабайт в каждом из датасетов.\n",
    "3. Далее, таблицы были объеденины в одну (assembled_data) с помощью метода join, где user_id был установлен как индекс для удобства накладывания данных\n",
    "4. После сборки датасетов в assembled_data было обнаружено, что требуется дополнительная конвертация типов данных. все типы данных float были округлены в большую сторону (по условию задачи) с помощью метода n_ceil и переведены в integer.\n",
    "\n",
    "***Примечание***: churn_date - данные о дате прекращения пользования тарифом. пропущенные в данном столбце значения (которые были заполнены 0) означают, что пользователь до сих пор пользуется данным тарифом"
   ]
  },
  {
   "cell_type": "markdown",
   "metadata": {},
   "source": [
    "### Выручка с каждого пользователя по данным"
   ]
  },
  {
   "cell_type": "code",
   "execution_count": 6,
   "metadata": {},
   "outputs": [],
   "source": [
    "# Расчеты выручки и добавление в таблицу\n",
    "sms_incl_smart = 50\n",
    "sms_incl_ultra = 1000\n",
    "mb_incl_smart = 15360\n",
    "mb_incl_ultra = 30720\n",
    "min_incl_smart = 500\n",
    "min_incl_ultra = 3000\n",
    "cost_smart = 550\n",
    "cost_ultra = 1950\n",
    "cost_gb_smart = 200\n",
    "cost_gb_ultra = 150\n",
    "cost_sms_smart = 3\n",
    "cost_sms_ultra = 1 \n",
    "cost_min_smart = 3\n",
    "cost_min_ultra = 1 \n",
    "\n",
    "def revenue_calc(row):\n",
    "    total_calls = 0\n",
    "    total_messages = 0\n",
    "    total_internet = 0\n",
    "    if 'smart' in row['tariff']:\n",
    "        if row['calls_duration_sum'] > min_incl_ultra:\n",
    "            total_calls = (row['calls_duration_sum'] - min_incl_smart) * cost_min_smart\n",
    "        elif row['messages_sent_month'] > sms_incl_ultra:\n",
    "            total_messages = (row['messages_sent_month']-sms_incl_smart) * cost_min_smart\n",
    "        elif row['internet_traffic_month'] > mb_incl_smart:\n",
    "            total_internet = np.ceil((row['internet_traffic_month'] - mb_incl_smart)/1024)*cost_gb_smart\n",
    "        return cost_smart + total_calls + total_messages + total_internet\n",
    "    if 'ultra' in row['tariff']:\n",
    "        if row['calls_duration_sum'] > min_incl_ultra:\n",
    "            total_calls = (row['calls_duration_sum'] - min_incl_ultra) * cost_min_ultra\n",
    "        elif row['messages_sent_month'] > sms_incl_ultra:\n",
    "            total_messages = (row['messages_sent_month']-sms_incl_ultra) * cost_min_ultra\n",
    "        elif row ['internet_traffic_month'] > mb_incl_ultra:\n",
    "            total_internet = np.ceil((row['internet_traffic_month'] - mb_incl_ultra)/1024) * cost_gb_ultra\n",
    "        return cost_ultra + total_calls + total_messages + total_internet\n",
    "assembled_data['revenue_sum'] = assembled_data.apply(revenue_calc, axis = 1)\n",
    "assembled_data['revenue_sum'] = assembled_data['revenue_sum'].astype('int')\n",
    "\n",
    "#display(assembled_data.sample(20))"
   ]
  },
  {
   "cell_type": "markdown",
   "metadata": {},
   "source": [
    "**Вывод:**  Для проведения дальнейшего анализа было необходимо было рассчитать выручку с каждого пользователя, чтобы в дальнейшем сделать вывод о том, какой тариф наиболее прибыльный для компании. *Так как в пред. шаге мы уже сгруппировали минуты, смс и мегабайты по месяцам, этот шаг здесь опущен.* Расчеты выручки проведены и добавлены в таблицу по тарифам и пользователям.\n",
    "1. Данные из tariffs_df были выписаны вручную и присвоены переменным с соответствующими названиями для удобства и легкости чтения кода.\n",
    "2. Т.к. цена трафика приведена в Гб, а в датасете данные в Мб, то при подсчете total_internet общее кол-во Мб было поделено на 1024, чтобы получить корректную выручку "
   ]
  },
  {
   "cell_type": "markdown",
   "metadata": {},
   "source": [
    "## Исследовательский анализ данных"
   ]
  },
  {
   "cell_type": "code",
   "execution_count": 7,
   "metadata": {},
   "outputs": [
    {
     "data": {
      "text/html": [
       "<div>\n",
       "<style scoped>\n",
       "    .dataframe tbody tr th:only-of-type {\n",
       "        vertical-align: middle;\n",
       "    }\n",
       "\n",
       "    .dataframe tbody tr th {\n",
       "        vertical-align: top;\n",
       "    }\n",
       "\n",
       "    .dataframe thead th {\n",
       "        text-align: right;\n",
       "    }\n",
       "</style>\n",
       "<table border=\"1\" class=\"dataframe\">\n",
       "  <thead>\n",
       "    <tr style=\"text-align: right;\">\n",
       "      <th></th>\n",
       "      <th>calls_duration_sum</th>\n",
       "      <th>internet_gb_month</th>\n",
       "      <th>messages_sent_month</th>\n",
       "      <th>revenue_sum</th>\n",
       "    </tr>\n",
       "    <tr>\n",
       "      <th>tariff</th>\n",
       "      <th></th>\n",
       "      <th></th>\n",
       "      <th></th>\n",
       "      <th></th>\n",
       "    </tr>\n",
       "  </thead>\n",
       "  <tbody>\n",
       "    <tr>\n",
       "      <th>smart</th>\n",
       "      <td>880275</td>\n",
       "      <td>36397</td>\n",
       "      <td>74413</td>\n",
       "      <td>2558350</td>\n",
       "    </tr>\n",
       "    <tr>\n",
       "      <th>ultra</th>\n",
       "      <td>490080</td>\n",
       "      <td>19202</td>\n",
       "      <td>48623</td>\n",
       "      <td>2039100</td>\n",
       "    </tr>\n",
       "    <tr>\n",
       "      <th>TOTAL</th>\n",
       "      <td>1370355</td>\n",
       "      <td>55599</td>\n",
       "      <td>123036</td>\n",
       "      <td>4597450</td>\n",
       "    </tr>\n",
       "  </tbody>\n",
       "</table>\n",
       "</div>"
      ],
      "text/plain": [
       "        calls_duration_sum  internet_gb_month  messages_sent_month  \\\n",
       "tariff                                                               \n",
       "smart               880275              36397                74413   \n",
       "ultra               490080              19202                48623   \n",
       "TOTAL              1370355              55599               123036   \n",
       "\n",
       "        revenue_sum  \n",
       "tariff               \n",
       "smart       2558350  \n",
       "ultra       2039100  \n",
       "TOTAL       4597450  "
      ]
     },
     "metadata": {},
     "output_type": "display_data"
    },
    {
     "name": "stdout",
     "output_type": "stream",
     "text": [
      "       calls_duration_sum  messages_sent_month  internet_gb_month  revenue_sum\n",
      "count         3214.000000          3214.000000        3214.000000  3214.000000\n",
      "mean           426.370566            38.281269          17.299004  1430.444928\n",
      "std            228.586441            36.148326           7.400584   774.880585\n",
      "min              0.000000             0.000000           0.000000   550.000000\n",
      "25%            268.000000             9.000000          13.000000   550.000000\n",
      "50%            418.000000            30.000000          17.000000  1550.000000\n",
      "75%            555.750000            57.000000          21.000000  1950.000000\n",
      "max           1579.000000           224.000000          49.000000  5150.000000\n",
      "\n",
      "Среднее calls_duration_sum = 426\n",
      "Дисперсия calls_duration_sum = 52236\n",
      "Среднее отклонение calls_duration_sum = 229 \n",
      "\n",
      "Среднее messages_sent_month = 38\n",
      "Дисперсия messages_sent_month = 1306\n",
      "Среднее отклонение messages_sent_month = 36 \n",
      "\n",
      "Среднее internet_gb_month = 17\n",
      "Дисперсия internet_gb_month = 55\n",
      "Среднее отклонение internet_gb_month = 7 \n",
      "\n",
      "Среднее revenue_sum = 1430\n",
      "Дисперсия revenue_sum = 600253\n",
      "Среднее отклонение revenue_sum = 775 \n",
      "\n"
     ]
    }
   ],
   "source": [
    "#Добавлен новый столбец с мегабайтами переведенными в гигабайты\n",
    "assembled_data['internet_gb_month'] = np.ceil(assembled_data['internet_traffic_month']/1024).astype('int')\n",
    "\n",
    "#Создание pivot_table по тарифам\n",
    "pivot_data = assembled_data.pivot_table(index=['tariff'], values=['calls_duration_sum','messages_sent_month','internet_gb_month','revenue_sum'], aggfunc='sum',margins = True, margins_name='TOTAL')\n",
    "display(pivot_data)\n",
    "\n",
    "#Оценка среднего, дисперии и стандартного отклонения\n",
    "print(assembled_data[['calls_duration_sum','messages_sent_month','internet_gb_month','revenue_sum']].describe())\n",
    "print()\n",
    "\n",
    "for col in assembled_data[['calls_duration_sum','messages_sent_month','internet_gb_month','revenue_sum']]:\n",
    "    print('Среднее {} = {:.0f}'.format(col,assembled_data[col].mean()))\n",
    "    print('Дисперсия {} = {:.0f}'.format(col,np.var(assembled_data[col])))\n",
    "    print('Среднее отклонение {} = {:.0f} \\n'.format(col, np.std(assembled_data[col])))"
   ]
  },
  {
   "cell_type": "markdown",
   "metadata": {},
   "source": [
    "**Вывод 4.1**: Для дальнейшего анализа нам необходимо понять дисперсию, среднее, и среднее отклонение по выборке. Каждое из необходимых значений было найдено и выведено на экран отдельно для наглядности.\n",
    "1. Сперва интересующие нас для анализа данные были собраны в pivot_table с двумя целями: посмотреть значения каждого столбца по тарифам отдельно и совместно  (TOTAL). Результат: smart приносит на 500тыс. больше прибыли.\n",
    "2. Далее, с помощью метода describe() были выведены данные по каждому столбцу, где сразу можно увидеть среднее и среднее отклонение, а также квартили. Однако, такая таблица не наглядная. Поэтому ниже все интересующие нас значения + подсчитанная дисперсия были выведены в более наглядном формате.\n",
    "<br>*Среднее* - показывает среднее арифметическое по выборке. по нему судится нормальное распределение выборки по теории ЦПР.\n",
    "<br>*Дисперсия* - средний квадрат расстояния между значениями датасета, относится к улучшенной метрике разброса, показывает насколько разбросаны данные по датасету. Чем дисперсия меньше, тем точнее будут результаты.\n",
    "<br>*Стандартное отклонение* показывает, как распределены значения относительно среднего в нашей выборке(насколько велик разброс)\n",
    "\n",
    "Дисперсия revenue_sum  и calls_duration_sum очень велика, что возможно указывает на недостаток данных или большую разницу в значениях данных. Убедимся ниже на гистограммах:"
   ]
  },
  {
   "cell_type": "code",
   "execution_count": 8,
   "metadata": {
    "scrolled": true
   },
   "outputs": [
    {
     "data": {
      "image/png": "[encoded data removed]",
      "text/plain": [
       "<Figure size 720x720 with 1 Axes>"
      ]
     },
     "metadata": {
      "needs_background": "light"
     },
     "output_type": "display_data"
    },
    {
     "data": {
      "image/png": "[encoded data removed]",
      "text/plain": [
       "<Figure size 720x720 with 1 Axes>"
      ]
     },
     "metadata": {
      "needs_background": "light"
     },
     "output_type": "display_data"
    },
    {
     "data": {
      "image/png": "[encoded data removed]",
      "text/plain": [
       "<Figure size 720x720 with 1 Axes>"
      ]
     },
     "metadata": {
      "needs_background": "light"
     },
     "output_type": "display_data"
    },
    {
     "data": {
      "image/png": "[encoded data removed]",
      "text/plain": [
       "<Figure size 720x720 with 1 Axes>"
      ]
     },
     "metadata": {
      "needs_background": "light"
     },
     "output_type": "display_data"
    }
   ],
   "source": [
    "def outlier(dt, col):\n",
    "    q_min = dt[col].quantile(0.25) - (dt[col].quantile(0.75) - dt[col].quantile(0.25))*2\n",
    "    q_max = dt[col].quantile(0.75) + (dt[col].quantile(0.75) - dt[col].quantile(0.25))*5\n",
    "    dt[col].plot(kind='hist',bins='fd',figsize=(10,10), grid=True,title=col, xlim=(q_min,q_max))\n",
    "\n",
    "columns=['calls_duration_sum','messages_sent_month','internet_gb_month','revenue_sum']\n",
    "for i in columns:\n",
    "    outlier(assembled_data,i)\n",
    "    plt.show()\n",
    "#outlier(pivot_data,'revenue_sum')"
   ]
  },
  {
   "cell_type": "raw",
   "metadata": {},
   "source": [
    "print(dict(assembled_data['internet_gb_month'].value_counts()))\n",
    "print()\n",
    "print(dict(assembled_data['messages_sent_month'].value_counts()))\n",
    "print()\n",
    "print(dict(assembled_data['revenue_sum'].value_counts()))"
   ]
  },
  {
   "cell_type": "markdown",
   "metadata": {},
   "source": [
    "**Вывод 4.2:** Построены гистограммы по методу межрквартильного размаха calls_duration_sum и internet_gb_month (имеется выброс на значении 17) обе стремятся к нормальному распределению. messages_sent_month и revenue_sum обе с выбросами и скошены вправо\n",
    "1. **calls_duration_sum:** гистограмма стремится к нормальному распределению (распределение пуассона).Среднее значение для этих данных - 426, и на гистограмме максимальное значение близко к среднему. По теории ЦПР это означает, что в выборке достаточно наблюдений для хорошего анализа. Данная гистограмма не различает тарифы.\n",
    "2. **messages_sent_month:** гистограмма скошена вправо с явно выраженным выбросом на значении 0. Однако, это значение логично - данные взяты в 2018 году, в эпоху развития цифр. технологий, так что большинство людей не отправляют смс, а обзаются через соц. сети или чаты. Второе самое высокое значение зафиксировано на примерно 20-30 сообщениях. Среднее выборки было определено в 38, что довольно близко к пику данных.\n",
    "3. **internet_gb_month:** гистограмма стремится к нормальному распределению (распределение пуассона). Наблюдается ярко выраженный выброс на 17 гигабайтах. Причина, почему именно 17 - неизвестна. (Лимит для тарифа \"Смарт\" - 15Гб, а \"Ультра\" - 30). Среднее значение для этих данных - 17, и на гистограмме максимальное значение равно среднему. По теории ЦПР это означает, что в выборке достаточно наблюдений для хорошего анализа. Данная гистограмма не различает тарифы.\n",
    "4. **revenue_sum:** гистограмма скошено вправо с явно выраженным выбросом на значениях около 920 и 2000 (при среднем 1430), что близко к ценам тарифам \"Смарт\"(550р) и \"Ультра\"(1950р). ***Это может означать, что большинство пользователей тарифа \"Смарт\" склонны превышать лимит в среднем на 400р, а \"Ультра\" - только на 50р.*** Это ценные данные для выводов."
   ]
  },
  {
   "cell_type": "markdown",
   "metadata": {},
   "source": [
    "## Проверка гипотез"
   ]
  },
  {
   "cell_type": "markdown",
   "metadata": {},
   "source": [
    "### Гипотеза №1: Различие средней выручки с тарифов"
   ]
  },
  {
   "cell_type": "markdown",
   "metadata": {},
   "source": [
    "H(0) - средняя выручка тарифов «Ультра» и «Смарт» равна\n",
    "<br>H(A) - средняя выручка тарифов «Ультра» и «Смарт» различается"
   ]
  },
  {
   "cell_type": "code",
   "execution_count": 9,
   "metadata": {
    "scrolled": true
   },
   "outputs": [
    {
     "name": "stdout",
     "output_type": "stream",
     "text": [
      "Результаты теста:\n",
      "p-значение:  2.347532507850447e-252\n",
      "H(0) гипотеза отвергнута, выбираем H(A)\n"
     ]
    }
   ],
   "source": [
    "sample_smart = assembled_data.query('tariff==\"smart\"') \n",
    "sample_ultra = assembled_data.query('tariff==\"ultra\"') \n",
    "\n",
    "alpha = 0.05\n",
    "results = st.ttest_ind(sample_smart['revenue_sum'], sample_ultra['revenue_sum'], equal_var = True)\n",
    "\n",
    "print('Результаты теста:')\n",
    "print('p-значение: ', results.pvalue)\n",
    "if results.pvalue < alpha:\n",
    "    print('H(0) гипотеза отвергнута, выбираем H(A)')\n",
    "else:\n",
    "    print('Невозможно отвергнуть гипотезу H(0), выбираем H(0)')"
   ]
  },
  {
   "cell_type": "markdown",
   "metadata": {},
   "source": [
    "**Вывод 5.1:** Нулевая и альтернативные гипотезы были сформулированы по задаче, фокусируясь на том, что h0 - равенство. Уровень значимости 5% является допустимым, для того, чтобы оценить выручку и выбрать наиболее прибыльный тариф.\n",
    "\n",
    "Значение p-value очень близко к нулю (примерное представление для 0.0000000000023), что ниже установленного порога alpha. Соответственно, мы отвергаем нулевую гипотезу H(0), которая утверждает, что средняя выручка тарифов «Ультра» и «Смарт» равна. "
   ]
  },
  {
   "cell_type": "markdown",
   "metadata": {},
   "source": [
    "### Гипотеза №2: Различие средней выручки между Москвой и другими регионами"
   ]
  },
  {
   "cell_type": "markdown",
   "metadata": {},
   "source": [
    "H(0) - средняя выручка пользователей из Москвы равна выручке пользователей из других регионов\n",
    "<br>H(A) - средняя выручка между Москвой и другими регионами различается"
   ]
  },
  {
   "cell_type": "code",
   "execution_count": 10,
   "metadata": {},
   "outputs": [
    {
     "name": "stdout",
     "output_type": "stream",
     "text": [
      "Результаты теста:\n",
      "p-значение:  0.22877078299118853\n",
      "Невозможно отвергнуть гипотезу H(0), выбираем H(0)\n"
     ]
    }
   ],
   "source": [
    "sample_MSK = assembled_data.query('city==\"Москва\"') \n",
    "sample_other = assembled_data.query('city!=\"Москва\"') \n",
    "\n",
    "alpha = 0.05\n",
    "results = st.ttest_ind(sample_MSK['revenue_sum'], sample_other['revenue_sum'], equal_var = True)\n",
    "\n",
    "print('Результаты теста:')\n",
    "print('p-значение: ', results.pvalue)\n",
    "if results.pvalue < alpha:\n",
    "    print('H(0) гипотеза отвергнута, выбираем H(A)')\n",
    "else:\n",
    "    print('Невозможно отвергнуть гипотезу H(0), выбираем H(0)')"
   ]
  },
  {
   "cell_type": "markdown",
   "metadata": {},
   "source": [
    "**Вывод 5.2:** Как и в прошлом шаге: нулевая и альтернативные гипотезы были сформулированы по задаче, фокусируясь на том, что h0 - равенство. Уровень значимости 5% является допустимым, для того, чтобы оценить выручку и выбрать наиболее прибыльный тариф.\n",
    "\n",
    "Значение p-value = 0.2 - значение выше установленного порога. Соответственно, мы не можем отвергнуть нулевую гипотезу, которая предполагает равенство в выручке по регионам."
   ]
  },
  {
   "cell_type": "markdown",
   "metadata": {},
   "source": [
    "## Общий вывод"
   ]
  },
  {
   "cell_type": "markdown",
   "metadata": {},
   "source": [
    "Разобъём итоги на несколько этапов: \n",
    "<br>*Шаг 2:* Проведена первичная оценка имеющихся данных, выявлены пропуски, неправильные типы данных, намечен план дальнейших действий по предобработке данных \n",
    "<br>*Шаг 3:* Обработан каждый файл с данными, типы данных приведены в соответствующий, заполнены пропуски, добавлены новые столбцы, данные все собраны вместе по пользователям и сгруппированы по месяцам, рассчитана выручка по тарифам.\n",
    "<br>*Шаг 4:* Интересующие нас параметры проанализированы, рассчитаны среднее, дисперсия и среднее отклонение, построены графики и сделаны выводы. *Главный вывод из проанализированных данных*: большинство пользователей тарифа \"Смарт\" склонны превышать лимит в среднем на 400р, а \"Ультра\" - только на 50р.\n",
    "<br>*Шаг 5.* На основе совершенного анализа данных были выдвинуты два предположения: 1) средняя выручка пользователей тарифов «Ультра» и «Смарт» различаются; 2) средняя выручка пользователей из Москвы не отличается от выручки пользователей из других регионов.\n",
    "\n",
    "\n",
    "**ИТОГ:** Наша цель - проанализировать данные по тарифам, чтобы компания могла скорректировать рекламный бюджет в сторону одного из тарифов. Проверка Гипотезы №1 показала, что велика вероятность, что оба тарифа приносят приблизительно одинаковую выручку. Однако в шаге 4 было выявлено, что *большинство пользователей тарифа \"Смарт\" склонны превышать лимит в среднем на 400р, а \"Ультра\" - только на 50р.* , что объясняется более строгими ограничениями в лимитах. А также, сделанная нами pivot_table явно показала, что тарифа \"Смарт\" приносит в среднем за год более чем на 500 000 рублей больше, чем \"Ультра."
   ]
  },
  {
   "cell_type": "code",
   "execution_count": 11,
   "metadata": {},
   "outputs": [
    {
     "data": {
      "text/html": [
       "<div>\n",
       "<style scoped>\n",
       "    .dataframe tbody tr th:only-of-type {\n",
       "        vertical-align: middle;\n",
       "    }\n",
       "\n",
       "    .dataframe tbody tr th {\n",
       "        vertical-align: top;\n",
       "    }\n",
       "\n",
       "    .dataframe thead th {\n",
       "        text-align: right;\n",
       "    }\n",
       "</style>\n",
       "<table border=\"1\" class=\"dataframe\">\n",
       "  <thead>\n",
       "    <tr style=\"text-align: right;\">\n",
       "      <th></th>\n",
       "      <th>calls_duration_sum</th>\n",
       "      <th>internet_gb_month</th>\n",
       "      <th>messages_sent_month</th>\n",
       "      <th>revenue_sum</th>\n",
       "    </tr>\n",
       "    <tr>\n",
       "      <th>tariff</th>\n",
       "      <th></th>\n",
       "      <th></th>\n",
       "      <th></th>\n",
       "      <th></th>\n",
       "    </tr>\n",
       "  </thead>\n",
       "  <tbody>\n",
       "    <tr>\n",
       "      <th>smart</th>\n",
       "      <td>880275</td>\n",
       "      <td>36397</td>\n",
       "      <td>74413</td>\n",
       "      <td>2558350</td>\n",
       "    </tr>\n",
       "    <tr>\n",
       "      <th>ultra</th>\n",
       "      <td>490080</td>\n",
       "      <td>19202</td>\n",
       "      <td>48623</td>\n",
       "      <td>2039100</td>\n",
       "    </tr>\n",
       "    <tr>\n",
       "      <th>TOTAL</th>\n",
       "      <td>1370355</td>\n",
       "      <td>55599</td>\n",
       "      <td>123036</td>\n",
       "      <td>4597450</td>\n",
       "    </tr>\n",
       "  </tbody>\n",
       "</table>\n",
       "</div>"
      ],
      "text/plain": [
       "        calls_duration_sum  internet_gb_month  messages_sent_month  \\\n",
       "tariff                                                               \n",
       "smart               880275              36397                74413   \n",
       "ultra               490080              19202                48623   \n",
       "TOTAL              1370355              55599               123036   \n",
       "\n",
       "        revenue_sum  \n",
       "tariff               \n",
       "smart       2558350  \n",
       "ultra       2039100  \n",
       "TOTAL       4597450  "
      ]
     },
     "metadata": {},
     "output_type": "display_data"
    }
   ],
   "source": [
    "pivot_data = assembled_data.pivot_table(index=['tariff'], values=['calls_duration_sum','messages_sent_month','internet_gb_month','revenue_sum'], aggfunc='sum',margins = True, margins_name='TOTAL')\n",
    "display(pivot_data)"
   ]
  },
  {
   "cell_type": "markdown",
   "metadata": {},
   "source": [
    "***Вывод:*** Компании \"Мегалайн\" следует отдать предпочтение тарифу \"Смарт\" для распределения рекламного бюджета."
   ]
  },
  {
   "cell_type": "markdown",
   "metadata": {},
   "source": [
    "*Рекоммендации:* Для того, чтобы реклама была наиболее эффективной, стоит собрать больше данных для \"таргетированной\" рекламы. Напр., данные пользователей с различием по полу, возрасту, сем. и проф. положению итд."
   ]
  },
  {
   "cell_type": "code",
   "execution_count": null,
   "metadata": {},
   "outputs": [],
   "source": []
  }
 ],
 "metadata": {
  "ExecuteTimeLog": [
   {
    "duration": 105,
    "start_time": "2021-10-19T22:14:48.148Z"
   },
   {
    "duration": 97,
    "start_time": "2021-10-19T22:59:13.561Z"
   },
   {
    "duration": 315,
    "start_time": "2021-10-19T23:26:58.672Z"
   },
   {
    "duration": 269,
    "start_time": "2021-10-19T23:27:05.506Z"
   },
   {
    "duration": 265,
    "start_time": "2021-10-20T00:10:36.110Z"
   },
   {
    "duration": 2672,
    "start_time": "2021-10-20T00:11:06.413Z"
   },
   {
    "duration": 499,
    "start_time": "2021-10-20T00:12:12.111Z"
   },
   {
    "duration": 633,
    "start_time": "2021-10-20T00:14:17.344Z"
   },
   {
    "duration": 547,
    "start_time": "2021-10-20T00:15:44.804Z"
   },
   {
    "duration": 558,
    "start_time": "2021-10-20T00:15:59.404Z"
   },
   {
    "duration": 573,
    "start_time": "2021-10-20T00:16:04.578Z"
   },
   {
    "duration": 548,
    "start_time": "2021-10-20T00:16:08.840Z"
   },
   {
    "duration": 552,
    "start_time": "2021-10-20T00:16:14.870Z"
   },
   {
    "duration": 551,
    "start_time": "2021-10-20T00:16:25.168Z"
   },
   {
    "duration": 553,
    "start_time": "2021-10-20T00:16:40.142Z"
   },
   {
    "duration": 532,
    "start_time": "2021-10-20T00:17:25.486Z"
   },
   {
    "duration": 566,
    "start_time": "2021-10-20T00:17:33.053Z"
   },
   {
    "duration": 539,
    "start_time": "2021-10-20T00:17:42.681Z"
   },
   {
    "duration": 559,
    "start_time": "2021-10-20T00:17:49.512Z"
   },
   {
    "duration": 644,
    "start_time": "2021-10-20T00:20:07.383Z"
   },
   {
    "duration": 543,
    "start_time": "2021-10-20T00:29:40.905Z"
   },
   {
    "duration": 285,
    "start_time": "2021-10-20T00:42:52.412Z"
   },
   {
    "duration": 51,
    "start_time": "2021-10-20T00:43:08.873Z"
   },
   {
    "duration": 25,
    "start_time": "2021-10-20T00:43:18.378Z"
   },
   {
    "duration": 21,
    "start_time": "2021-10-20T00:43:35.762Z"
   },
   {
    "duration": 22,
    "start_time": "2021-10-20T00:44:33.700Z"
   },
   {
    "duration": 20,
    "start_time": "2021-10-20T00:44:38.231Z"
   },
   {
    "duration": 19,
    "start_time": "2021-10-20T00:45:02.993Z"
   },
   {
    "duration": 19,
    "start_time": "2021-10-20T00:45:12.279Z"
   },
   {
    "duration": 17,
    "start_time": "2021-10-20T00:45:33.153Z"
   },
   {
    "duration": 19,
    "start_time": "2021-10-20T00:46:32.135Z"
   },
   {
    "duration": 18,
    "start_time": "2021-10-20T00:46:41.878Z"
   },
   {
    "duration": 546,
    "start_time": "2021-10-20T00:47:14.209Z"
   },
   {
    "duration": 60,
    "start_time": "2021-10-20T00:47:14.758Z"
   },
   {
    "duration": 20,
    "start_time": "2021-10-20T00:47:24.458Z"
   },
   {
    "duration": 21,
    "start_time": "2021-10-20T00:47:37.474Z"
   },
   {
    "duration": 561,
    "start_time": "2021-10-20T00:47:42.964Z"
   },
   {
    "duration": 50,
    "start_time": "2021-10-20T00:47:46.810Z"
   },
   {
    "duration": 29,
    "start_time": "2021-10-20T00:48:00.194Z"
   },
   {
    "duration": 11,
    "start_time": "2021-10-20T00:48:21.386Z"
   },
   {
    "duration": 19,
    "start_time": "2021-10-20T00:48:30.648Z"
   },
   {
    "duration": 549,
    "start_time": "2021-10-20T00:48:40.114Z"
   },
   {
    "duration": 55,
    "start_time": "2021-10-20T00:48:40.666Z"
   },
   {
    "duration": 23,
    "start_time": "2021-10-20T00:48:53.068Z"
   },
   {
    "duration": 574,
    "start_time": "2021-10-20T00:49:01.182Z"
   },
   {
    "duration": 50,
    "start_time": "2021-10-20T00:49:08.648Z"
   },
   {
    "duration": 109,
    "start_time": "2021-10-20T00:53:32.928Z"
   },
   {
    "duration": 322,
    "start_time": "2021-10-20T00:54:06.259Z"
   },
   {
    "duration": 18,
    "start_time": "2021-10-20T00:55:17.526Z"
   },
   {
    "duration": 28,
    "start_time": "2021-10-20T00:55:43.034Z"
   },
   {
    "duration": 23,
    "start_time": "2021-10-20T00:56:07.872Z"
   },
   {
    "duration": 23,
    "start_time": "2021-10-20T00:57:04.079Z"
   },
   {
    "duration": 270,
    "start_time": "2021-10-20T00:57:56.878Z"
   },
   {
    "duration": 23,
    "start_time": "2021-10-20T00:58:12.079Z"
   },
   {
    "duration": 35,
    "start_time": "2021-10-20T00:58:42.731Z"
   },
   {
    "duration": 49,
    "start_time": "2021-10-20T00:59:35.278Z"
   },
   {
    "duration": 45,
    "start_time": "2021-10-20T01:00:43.005Z"
   },
   {
    "duration": 62,
    "start_time": "2021-10-20T01:01:30.667Z"
   },
   {
    "duration": 35,
    "start_time": "2021-10-20T01:02:40.424Z"
   },
   {
    "duration": 557,
    "start_time": "2021-10-20T01:03:17.361Z"
   },
   {
    "duration": 99,
    "start_time": "2021-10-20T01:03:21.737Z"
   },
   {
    "duration": 36,
    "start_time": "2021-10-20T01:09:48.492Z"
   },
   {
    "duration": 131,
    "start_time": "2021-10-20T01:09:57.377Z"
   },
   {
    "duration": 72,
    "start_time": "2021-10-20T01:10:04.425Z"
   },
   {
    "duration": 86,
    "start_time": "2021-10-20T01:10:12.899Z"
   },
   {
    "duration": 28,
    "start_time": "2021-10-20T01:10:55.928Z"
   },
   {
    "duration": 549,
    "start_time": "2021-10-20T01:11:56.672Z"
   },
   {
    "duration": 116,
    "start_time": "2021-10-20T01:11:57.224Z"
   },
   {
    "duration": 548,
    "start_time": "2021-10-20T01:13:21.175Z"
   },
   {
    "duration": 577,
    "start_time": "2021-10-20T01:13:37.960Z"
   },
   {
    "duration": 547,
    "start_time": "2021-10-20T01:14:44.896Z"
   },
   {
    "duration": 100,
    "start_time": "2021-10-20T01:14:46.612Z"
   },
   {
    "duration": 91,
    "start_time": "2021-10-20T01:33:24.508Z"
   },
   {
    "duration": 103,
    "start_time": "2021-10-20T01:34:02.440Z"
   },
   {
    "duration": 305,
    "start_time": "2021-10-20T01:34:43.668Z"
   },
   {
    "duration": 9,
    "start_time": "2021-10-20T01:35:16.593Z"
   },
   {
    "duration": 27,
    "start_time": "2021-10-20T01:35:34.469Z"
   },
   {
    "duration": 88,
    "start_time": "2021-10-20T01:39:27.389Z"
   },
   {
    "duration": 344,
    "start_time": "2021-10-20T01:39:35.718Z"
   },
   {
    "duration": 1435,
    "start_time": "2021-10-20T01:39:47.086Z"
   },
   {
    "duration": 107,
    "start_time": "2021-10-20T01:39:49.999Z"
   },
   {
    "duration": 321,
    "start_time": "2021-10-20T01:39:51.231Z"
   },
   {
    "duration": 268,
    "start_time": "2021-10-20T01:40:08.428Z"
   },
   {
    "duration": 4,
    "start_time": "2021-10-20T01:40:54.565Z"
   },
   {
    "duration": 1391,
    "start_time": "2021-10-20T01:41:22.653Z"
   },
   {
    "duration": 111,
    "start_time": "2021-10-20T01:41:24.047Z"
   },
   {
    "duration": 3,
    "start_time": "2021-10-20T01:41:24.161Z"
   },
   {
    "duration": 81,
    "start_time": "2021-10-20T01:41:52.865Z"
   },
   {
    "duration": 323,
    "start_time": "2021-10-20T01:42:15.481Z"
   },
   {
    "duration": 1433,
    "start_time": "2021-10-20T01:42:27.102Z"
   },
   {
    "duration": 114,
    "start_time": "2021-10-20T01:42:28.538Z"
   },
   {
    "duration": 489,
    "start_time": "2021-10-20T01:42:28.655Z"
   },
   {
    "duration": 3,
    "start_time": "2021-10-20T01:47:35.552Z"
   },
   {
    "duration": 318,
    "start_time": "2021-10-20T02:00:17.599Z"
   },
   {
    "duration": 265,
    "start_time": "2021-10-20T02:00:27.987Z"
   },
   {
    "duration": 124,
    "start_time": "2021-10-20T02:01:06.661Z"
   },
   {
    "duration": 269,
    "start_time": "2021-10-20T02:05:02.318Z"
   },
   {
    "duration": 2027,
    "start_time": "2021-10-20T07:42:32.246Z"
   },
   {
    "duration": 379,
    "start_time": "2021-10-20T07:42:34.277Z"
   },
   {
    "duration": -1114,
    "start_time": "2021-10-20T07:42:35.773Z"
   },
   {
    "duration": 272,
    "start_time": "2021-10-20T07:42:55.686Z"
   },
   {
    "duration": 198,
    "start_time": "2021-10-20T07:43:02.630Z"
   },
   {
    "duration": 1075,
    "start_time": "2021-10-20T07:44:17.245Z"
   },
   {
    "duration": 300,
    "start_time": "2021-10-20T07:46:42.552Z"
   },
   {
    "duration": 118,
    "start_time": "2021-10-20T07:47:36.695Z"
   },
   {
    "duration": 33,
    "start_time": "2021-10-20T07:47:50.572Z"
   },
   {
    "duration": 684,
    "start_time": "2021-10-20T07:47:56.285Z"
   },
   {
    "duration": 129,
    "start_time": "2021-10-20T07:48:12.087Z"
   },
   {
    "duration": 145,
    "start_time": "2021-10-20T07:51:58.510Z"
   },
   {
    "duration": 675,
    "start_time": "2021-10-20T07:52:08.299Z"
   },
   {
    "duration": 206,
    "start_time": "2021-10-20T07:52:15.736Z"
   },
   {
    "duration": 78,
    "start_time": "2021-10-20T07:52:22.991Z"
   },
   {
    "duration": 120,
    "start_time": "2021-10-20T07:53:41.967Z"
   },
   {
    "duration": 816,
    "start_time": "2021-10-20T07:53:55.996Z"
   },
   {
    "duration": 286,
    "start_time": "2021-10-20T07:54:01.610Z"
   },
   {
    "duration": 620,
    "start_time": "2021-10-20T07:54:57.974Z"
   },
   {
    "duration": 203,
    "start_time": "2021-10-20T07:55:00.884Z"
   },
   {
    "duration": 121,
    "start_time": "2021-10-20T07:55:41.999Z"
   },
   {
    "duration": 84,
    "start_time": "2021-10-20T07:56:05.299Z"
   },
   {
    "duration": 88,
    "start_time": "2021-10-20T07:56:24.358Z"
   },
   {
    "duration": 87,
    "start_time": "2021-10-20T07:59:02.215Z"
   },
   {
    "duration": 100,
    "start_time": "2021-10-20T07:59:22.061Z"
   },
   {
    "duration": 99,
    "start_time": "2021-10-20T08:02:56.845Z"
   },
   {
    "duration": 379,
    "start_time": "2021-10-20T08:05:25.152Z"
   },
   {
    "duration": 132,
    "start_time": "2021-10-20T08:05:42.078Z"
   },
   {
    "duration": 433,
    "start_time": "2021-10-20T08:06:46.549Z"
   },
   {
    "duration": 133,
    "start_time": "2021-10-20T08:07:24.979Z"
   },
   {
    "duration": 405,
    "start_time": "2021-10-20T08:07:44.891Z"
   },
   {
    "duration": 145,
    "start_time": "2021-10-20T08:08:05.617Z"
   },
   {
    "duration": 169,
    "start_time": "2021-10-20T08:13:29.858Z"
   },
   {
    "duration": 172,
    "start_time": "2021-10-20T08:13:48.496Z"
   },
   {
    "duration": 310,
    "start_time": "2021-10-20T08:23:26.136Z"
   },
   {
    "duration": 901,
    "start_time": "2021-10-20T08:25:02.739Z"
   },
   {
    "duration": 623,
    "start_time": "2021-10-20T08:25:24.285Z"
   },
   {
    "duration": 101,
    "start_time": "2021-10-20T08:25:27.152Z"
   },
   {
    "duration": 192,
    "start_time": "2021-10-20T08:25:29.520Z"
   },
   {
    "duration": 209,
    "start_time": "2021-10-20T08:55:46.221Z"
   },
   {
    "duration": 1427,
    "start_time": "2021-10-20T08:56:24.826Z"
   },
   {
    "duration": 156,
    "start_time": "2021-10-20T08:56:36.580Z"
   },
   {
    "duration": 41,
    "start_time": "2021-10-20T08:57:05.752Z"
   },
   {
    "duration": 126,
    "start_time": "2021-10-20T08:59:43.106Z"
   },
   {
    "duration": 125,
    "start_time": "2021-10-20T09:00:09.160Z"
   },
   {
    "duration": 145,
    "start_time": "2021-10-20T09:02:43.485Z"
   },
   {
    "duration": 450,
    "start_time": "2021-10-20T09:05:20.769Z"
   },
   {
    "duration": 426,
    "start_time": "2021-10-20T09:05:30.153Z"
   },
   {
    "duration": 214,
    "start_time": "2021-10-20T09:06:43.079Z"
   },
   {
    "duration": 414,
    "start_time": "2021-10-20T09:06:55.060Z"
   },
   {
    "duration": 394,
    "start_time": "2021-10-20T09:10:21.660Z"
   },
   {
    "duration": 382,
    "start_time": "2021-10-20T09:10:46.963Z"
   },
   {
    "duration": 381,
    "start_time": "2021-10-20T09:11:02.383Z"
   },
   {
    "duration": 421,
    "start_time": "2021-10-20T09:11:03.411Z"
   },
   {
    "duration": 411,
    "start_time": "2021-10-20T09:11:28.387Z"
   },
   {
    "duration": 149,
    "start_time": "2021-10-20T09:11:41.055Z"
   },
   {
    "duration": 154,
    "start_time": "2021-10-20T09:11:52.844Z"
   },
   {
    "duration": 157,
    "start_time": "2021-10-20T09:12:09.416Z"
   },
   {
    "duration": 152,
    "start_time": "2021-10-20T09:12:54.170Z"
   },
   {
    "duration": 412,
    "start_time": "2021-10-20T09:15:26.846Z"
   },
   {
    "duration": 141,
    "start_time": "2021-10-20T09:15:39.694Z"
   },
   {
    "duration": 411,
    "start_time": "2021-10-20T09:16:06.805Z"
   },
   {
    "duration": 386,
    "start_time": "2021-10-20T09:16:23.861Z"
   },
   {
    "duration": 401,
    "start_time": "2021-10-20T09:16:33.840Z"
   },
   {
    "duration": 273,
    "start_time": "2021-10-20T09:16:45.494Z"
   },
   {
    "duration": 397,
    "start_time": "2021-10-20T09:17:46.299Z"
   },
   {
    "duration": 436,
    "start_time": "2021-10-20T09:18:28.405Z"
   },
   {
    "duration": 397,
    "start_time": "2021-10-20T09:19:09.086Z"
   },
   {
    "duration": 169,
    "start_time": "2021-10-20T09:19:30.045Z"
   },
   {
    "duration": 402,
    "start_time": "2021-10-20T09:20:59.372Z"
   },
   {
    "duration": 156,
    "start_time": "2021-10-20T09:21:24.574Z"
   },
   {
    "duration": 156,
    "start_time": "2021-10-20T09:21:44.060Z"
   },
   {
    "duration": 152,
    "start_time": "2021-10-20T09:22:07.520Z"
   },
   {
    "duration": 159,
    "start_time": "2021-10-20T09:22:19.529Z"
   },
   {
    "duration": 174,
    "start_time": "2021-10-20T09:23:04.569Z"
   },
   {
    "duration": 400,
    "start_time": "2021-10-20T09:24:00.675Z"
   },
   {
    "duration": 390,
    "start_time": "2021-10-20T09:24:26.280Z"
   },
   {
    "duration": 163,
    "start_time": "2021-10-20T09:26:37.423Z"
   },
   {
    "duration": 584,
    "start_time": "2021-10-20T09:26:46.974Z"
   },
   {
    "duration": 424,
    "start_time": "2021-10-20T09:26:50.002Z"
   },
   {
    "duration": 487,
    "start_time": "2021-10-20T09:27:14.637Z"
   },
   {
    "duration": 508,
    "start_time": "2021-10-20T09:28:10.266Z"
   },
   {
    "duration": 593,
    "start_time": "2021-10-20T09:28:41.672Z"
   },
   {
    "duration": 172,
    "start_time": "2021-10-20T09:28:45.036Z"
   },
   {
    "duration": 436,
    "start_time": "2021-10-20T09:28:53.711Z"
   },
   {
    "duration": 439,
    "start_time": "2021-10-20T09:30:18.599Z"
   },
   {
    "duration": 424,
    "start_time": "2021-10-20T09:30:50.724Z"
   },
   {
    "duration": 170,
    "start_time": "2021-10-20T09:31:40.175Z"
   },
   {
    "duration": 176,
    "start_time": "2021-10-20T09:32:39.595Z"
   },
   {
    "duration": 202,
    "start_time": "2021-10-20T09:33:01.131Z"
   },
   {
    "duration": 193,
    "start_time": "2021-10-20T09:34:02.469Z"
   },
   {
    "duration": 194,
    "start_time": "2021-10-20T09:34:14.924Z"
   },
   {
    "duration": 591,
    "start_time": "2021-10-20T09:35:29.581Z"
   },
   {
    "duration": 177,
    "start_time": "2021-10-20T09:35:33.434Z"
   },
   {
    "duration": 181,
    "start_time": "2021-10-20T09:35:36.095Z"
   },
   {
    "duration": 178,
    "start_time": "2021-10-20T09:39:07.011Z"
   },
   {
    "duration": 166,
    "start_time": "2021-10-20T09:39:16.539Z"
   },
   {
    "duration": 162,
    "start_time": "2021-10-20T09:39:56.366Z"
   },
   {
    "duration": 183,
    "start_time": "2021-10-20T09:40:10.519Z"
   },
   {
    "duration": 182,
    "start_time": "2021-10-20T09:40:22.108Z"
   },
   {
    "duration": 163,
    "start_time": "2021-10-20T09:41:40.617Z"
   },
   {
    "duration": 89,
    "start_time": "2021-10-20T09:45:42.400Z"
   },
   {
    "duration": 1572,
    "start_time": "2021-10-20T09:45:51.053Z"
   },
   {
    "duration": 234,
    "start_time": "2021-10-20T09:49:40.232Z"
   },
   {
    "duration": 140,
    "start_time": "2021-10-20T09:54:50.801Z"
   },
   {
    "duration": 369,
    "start_time": "2021-10-20T09:54:59.361Z"
   },
   {
    "duration": 165,
    "start_time": "2021-10-20T09:55:28.562Z"
   },
   {
    "duration": 164,
    "start_time": "2021-10-20T09:55:50.546Z"
   },
   {
    "duration": 166,
    "start_time": "2021-10-20T09:56:13.118Z"
   },
   {
    "duration": 169,
    "start_time": "2021-10-20T09:56:25.522Z"
   },
   {
    "duration": 519,
    "start_time": "2021-10-20T10:00:47.665Z"
   },
   {
    "duration": 1385,
    "start_time": "2021-10-20T10:01:36.000Z"
   },
   {
    "duration": 1586,
    "start_time": "2021-10-20T10:03:01.313Z"
   },
   {
    "duration": 1370,
    "start_time": "2021-10-20T10:03:19.359Z"
   },
   {
    "duration": 425,
    "start_time": "2021-10-20T10:05:38.180Z"
   },
   {
    "duration": 2114,
    "start_time": "2021-10-20T10:05:54.658Z"
   },
   {
    "duration": 427,
    "start_time": "2021-10-20T10:06:11.331Z"
   },
   {
    "duration": 98,
    "start_time": "2021-10-20T10:06:56.009Z"
   },
   {
    "duration": 434,
    "start_time": "2021-10-20T10:07:04.511Z"
   },
   {
    "duration": 466,
    "start_time": "2021-10-20T10:07:47.611Z"
   },
   {
    "duration": 103,
    "start_time": "2021-10-20T10:08:08.862Z"
   },
   {
    "duration": 180,
    "start_time": "2021-10-20T10:08:13.807Z"
   },
   {
    "duration": 179,
    "start_time": "2021-10-20T10:08:55.433Z"
   },
   {
    "duration": 171,
    "start_time": "2021-10-20T10:09:19.510Z"
   },
   {
    "duration": 96,
    "start_time": "2021-10-20T10:09:25.036Z"
   },
   {
    "duration": 249,
    "start_time": "2021-10-20T10:09:31.349Z"
   },
   {
    "duration": 624,
    "start_time": "2021-10-20T10:10:41.440Z"
   },
   {
    "duration": 166,
    "start_time": "2021-10-20T10:10:44.050Z"
   },
   {
    "duration": 193,
    "start_time": "2021-10-20T10:10:46.978Z"
   },
   {
    "duration": 181,
    "start_time": "2021-10-20T10:10:57.067Z"
   },
   {
    "duration": 181,
    "start_time": "2021-10-20T10:11:03.468Z"
   },
   {
    "duration": 179,
    "start_time": "2021-10-20T10:12:34.552Z"
   },
   {
    "duration": 618,
    "start_time": "2021-10-20T10:14:58.617Z"
   },
   {
    "duration": 234,
    "start_time": "2021-10-20T10:15:02.543Z"
   },
   {
    "duration": 270,
    "start_time": "2021-10-20T10:15:04.934Z"
   },
   {
    "duration": 178,
    "start_time": "2021-10-20T10:18:09.622Z"
   },
   {
    "duration": 174,
    "start_time": "2021-10-20T10:18:22.976Z"
   },
   {
    "duration": 7287,
    "start_time": "2021-10-20T10:20:20.583Z"
   },
   {
    "duration": 434,
    "start_time": "2021-10-20T10:20:46.608Z"
   },
   {
    "duration": 176,
    "start_time": "2021-10-20T10:21:47.237Z"
   },
   {
    "duration": 181,
    "start_time": "2021-10-20T10:23:24.988Z"
   },
   {
    "duration": 187,
    "start_time": "2021-10-20T10:24:11.051Z"
   },
   {
    "duration": 3,
    "start_time": "2021-10-20T10:25:30.708Z"
   },
   {
    "duration": 186,
    "start_time": "2021-10-20T10:29:51.528Z"
   },
   {
    "duration": 638,
    "start_time": "2021-10-20T10:29:57.757Z"
   },
   {
    "duration": 238,
    "start_time": "2021-10-20T10:29:58.399Z"
   },
   {
    "duration": 188,
    "start_time": "2021-10-20T10:29:58.640Z"
   },
   {
    "duration": 3,
    "start_time": "2021-10-20T10:29:58.830Z"
   },
   {
    "duration": 175,
    "start_time": "2021-10-20T10:40:37.639Z"
   },
   {
    "duration": 583,
    "start_time": "2021-10-20T10:40:58.562Z"
   },
   {
    "duration": 173,
    "start_time": "2021-10-20T10:41:00.497Z"
   },
   {
    "duration": 205,
    "start_time": "2021-10-20T10:41:02.253Z"
   },
   {
    "duration": 193,
    "start_time": "2021-10-20T10:41:20.039Z"
   },
   {
    "duration": 204,
    "start_time": "2021-10-20T10:41:31.169Z"
   },
   {
    "duration": 594,
    "start_time": "2021-10-20T10:41:40.203Z"
   },
   {
    "duration": 166,
    "start_time": "2021-10-20T10:41:45.262Z"
   },
   {
    "duration": 197,
    "start_time": "2021-10-20T10:41:48.295Z"
   },
   {
    "duration": 586,
    "start_time": "2021-10-20T10:42:03.164Z"
   },
   {
    "duration": 182,
    "start_time": "2021-10-20T10:42:03.753Z"
   },
   {
    "duration": 193,
    "start_time": "2021-10-20T10:42:03.938Z"
   },
   {
    "duration": 4,
    "start_time": "2021-10-20T10:42:04.133Z"
   },
   {
    "duration": 183,
    "start_time": "2021-10-20T10:42:23.311Z"
   },
   {
    "duration": 163,
    "start_time": "2021-10-20T10:42:40.311Z"
   },
   {
    "duration": 158,
    "start_time": "2021-10-20T10:42:55.404Z"
   },
   {
    "duration": 599,
    "start_time": "2021-10-20T10:43:02.635Z"
   },
   {
    "duration": 162,
    "start_time": "2021-10-20T10:43:17.335Z"
   },
   {
    "duration": 160,
    "start_time": "2021-10-20T10:43:19.618Z"
   },
   {
    "duration": 573,
    "start_time": "2021-10-20T10:44:35.013Z"
   },
   {
    "duration": 176,
    "start_time": "2021-10-20T10:44:35.589Z"
   },
   {
    "duration": 202,
    "start_time": "2021-10-20T10:44:35.769Z"
   },
   {
    "duration": 3,
    "start_time": "2021-10-20T10:44:35.975Z"
   },
   {
    "duration": 572,
    "start_time": "2021-10-20T10:46:50.430Z"
   },
   {
    "duration": 167,
    "start_time": "2021-10-20T10:46:51.005Z"
   },
   {
    "duration": 174,
    "start_time": "2021-10-20T10:46:51.175Z"
   },
   {
    "duration": 3,
    "start_time": "2021-10-20T10:46:51.352Z"
   },
   {
    "duration": 167,
    "start_time": "2021-10-20T10:47:14.727Z"
   },
   {
    "duration": 158,
    "start_time": "2021-10-20T10:47:34.391Z"
   },
   {
    "duration": 154,
    "start_time": "2021-10-20T10:47:42.852Z"
   },
   {
    "duration": 162,
    "start_time": "2021-10-20T10:47:58.569Z"
   },
   {
    "duration": 603,
    "start_time": "2021-10-20T10:48:04.935Z"
   },
   {
    "duration": 167,
    "start_time": "2021-10-20T10:48:11.419Z"
   },
   {
    "duration": 227,
    "start_time": "2021-10-20T10:48:12.549Z"
   },
   {
    "duration": 178,
    "start_time": "2021-10-20T10:48:27.065Z"
   },
   {
    "duration": 195,
    "start_time": "2021-10-20T10:52:07.276Z"
   },
   {
    "duration": 278,
    "start_time": "2021-10-20T10:53:11.976Z"
   },
   {
    "duration": 293,
    "start_time": "2021-10-20T10:53:20.446Z"
   },
   {
    "duration": 297,
    "start_time": "2021-10-20T10:53:39.290Z"
   },
   {
    "duration": 203,
    "start_time": "2021-10-20T10:53:53.666Z"
   },
   {
    "duration": 202,
    "start_time": "2021-10-20T10:54:34.888Z"
   },
   {
    "duration": 208,
    "start_time": "2021-10-20T10:55:02.271Z"
   },
   {
    "duration": 282,
    "start_time": "2021-10-20T10:55:44.158Z"
   },
   {
    "duration": 295,
    "start_time": "2021-10-20T10:55:52.054Z"
   },
   {
    "duration": 275,
    "start_time": "2021-10-20T11:20:51.304Z"
   },
   {
    "duration": 264,
    "start_time": "2021-10-20T11:21:05.491Z"
   },
   {
    "duration": 223,
    "start_time": "2021-10-20T12:24:24.060Z"
   },
   {
    "duration": 221,
    "start_time": "2021-10-20T12:26:08.770Z"
   },
   {
    "duration": 253,
    "start_time": "2021-10-20T12:26:31.018Z"
   },
   {
    "duration": 247,
    "start_time": "2021-10-20T12:29:19.435Z"
   },
   {
    "duration": 246,
    "start_time": "2021-10-20T12:30:59.758Z"
   },
   {
    "duration": 239,
    "start_time": "2021-10-20T12:31:40.074Z"
   },
   {
    "duration": 246,
    "start_time": "2021-10-20T12:32:15.490Z"
   },
   {
    "duration": 7618,
    "start_time": "2021-10-20T12:34:50.821Z"
   },
   {
    "duration": 293,
    "start_time": "2021-10-20T12:35:09.207Z"
   },
   {
    "duration": 101,
    "start_time": "2021-10-20T12:36:56.539Z"
   },
   {
    "duration": 99,
    "start_time": "2021-10-20T12:37:19.296Z"
   },
   {
    "duration": 561,
    "start_time": "2021-10-20T12:37:29.027Z"
   },
   {
    "duration": 599,
    "start_time": "2021-10-20T12:37:52.654Z"
   },
   {
    "duration": 500,
    "start_time": "2021-10-20T12:38:11.039Z"
   },
   {
    "duration": 480,
    "start_time": "2021-10-20T12:38:43.928Z"
   },
   {
    "duration": 251,
    "start_time": "2021-10-20T12:39:39.364Z"
   },
   {
    "duration": 261,
    "start_time": "2021-10-20T12:50:05.054Z"
   },
   {
    "duration": 267,
    "start_time": "2021-10-20T12:50:11.128Z"
   },
   {
    "duration": 42,
    "start_time": "2021-10-20T12:50:23.200Z"
   },
   {
    "duration": 589,
    "start_time": "2021-10-20T12:50:49.784Z"
   },
   {
    "duration": 183,
    "start_time": "2021-10-20T12:50:50.377Z"
   },
   {
    "duration": 204,
    "start_time": "2021-10-20T12:50:50.563Z"
   },
   {
    "duration": 55,
    "start_time": "2021-10-20T12:50:50.770Z"
   },
   {
    "duration": 42,
    "start_time": "2021-10-20T12:51:48.648Z"
   },
   {
    "duration": 40,
    "start_time": "2021-10-20T12:52:33.447Z"
   },
   {
    "duration": 51,
    "start_time": "2021-10-20T12:52:55.063Z"
   },
   {
    "duration": 58,
    "start_time": "2021-10-20T12:53:30.982Z"
   },
   {
    "duration": 105,
    "start_time": "2021-10-20T12:57:17.669Z"
   },
   {
    "duration": 269,
    "start_time": "2021-10-20T12:57:35.696Z"
   },
   {
    "duration": 285,
    "start_time": "2021-10-20T12:58:06.766Z"
   },
   {
    "duration": 585,
    "start_time": "2021-10-20T12:59:17.612Z"
   },
   {
    "duration": 173,
    "start_time": "2021-10-20T12:59:18.199Z"
   },
   {
    "duration": 186,
    "start_time": "2021-10-20T12:59:18.375Z"
   },
   {
    "duration": 298,
    "start_time": "2021-10-20T12:59:18.564Z"
   },
   {
    "duration": 281,
    "start_time": "2021-10-20T13:04:28.432Z"
   },
   {
    "duration": 556,
    "start_time": "2021-10-20T13:04:36.127Z"
   },
   {
    "duration": 168,
    "start_time": "2021-10-20T13:04:36.686Z"
   },
   {
    "duration": 207,
    "start_time": "2021-10-20T13:04:36.857Z"
   },
   {
    "duration": 302,
    "start_time": "2021-10-20T13:04:37.066Z"
   },
   {
    "duration": 294,
    "start_time": "2021-10-20T13:04:48.664Z"
   },
   {
    "duration": 307,
    "start_time": "2021-10-20T13:05:22.605Z"
   },
   {
    "duration": 307,
    "start_time": "2021-10-20T13:06:31.422Z"
   },
   {
    "duration": 363,
    "start_time": "2021-10-20T13:06:57.118Z"
   },
   {
    "duration": 484,
    "start_time": "2021-10-20T13:07:38.278Z"
   },
   {
    "duration": 2561,
    "start_time": "2021-10-20T13:08:26.861Z"
   },
   {
    "duration": 2572,
    "start_time": "2021-10-20T13:10:01.321Z"
   },
   {
    "duration": 678,
    "start_time": "2021-10-20T13:11:54.356Z"
   },
   {
    "duration": 2596,
    "start_time": "2021-10-20T13:12:26.294Z"
   },
   {
    "duration": 490,
    "start_time": "2021-10-20T13:19:15.141Z"
   },
   {
    "duration": 490,
    "start_time": "2021-10-20T13:20:12.501Z"
   },
   {
    "duration": 485,
    "start_time": "2021-10-20T13:20:30.079Z"
   },
   {
    "duration": 390,
    "start_time": "2021-10-20T13:20:59.425Z"
   },
   {
    "duration": 158,
    "start_time": "2021-10-20T13:21:11.964Z"
   },
   {
    "duration": 584,
    "start_time": "2021-10-20T13:21:39.311Z"
   },
   {
    "duration": 175,
    "start_time": "2021-10-20T13:21:39.897Z"
   },
   {
    "duration": 213,
    "start_time": "2021-10-20T13:21:40.075Z"
   },
   {
    "duration": 231,
    "start_time": "2021-10-20T13:21:40.291Z"
   },
   {
    "duration": 219,
    "start_time": "2021-10-20T13:22:55.344Z"
   },
   {
    "duration": 200,
    "start_time": "2021-10-20T13:23:39.082Z"
   },
   {
    "duration": 87,
    "start_time": "2021-10-20T13:24:12.856Z"
   },
   {
    "duration": 571,
    "start_time": "2021-10-20T13:24:58.842Z"
   },
   {
    "duration": 169,
    "start_time": "2021-10-20T13:24:59.416Z"
   },
   {
    "duration": 194,
    "start_time": "2021-10-20T13:24:59.588Z"
   },
   {
    "duration": 169,
    "start_time": "2021-10-20T13:24:59.785Z"
   },
   {
    "duration": 178,
    "start_time": "2021-10-20T13:26:09.048Z"
   },
   {
    "duration": 248,
    "start_time": "2021-10-20T13:36:30.427Z"
   },
   {
    "duration": 249,
    "start_time": "2021-10-20T13:46:51.989Z"
   },
   {
    "duration": 252,
    "start_time": "2021-10-20T14:10:03.357Z"
   },
   {
    "duration": 257,
    "start_time": "2021-10-20T14:11:13.393Z"
   },
   {
    "duration": 228,
    "start_time": "2021-10-20T14:12:04.436Z"
   },
   {
    "duration": 257,
    "start_time": "2021-10-20T14:12:10.102Z"
   },
   {
    "duration": 577,
    "start_time": "2021-10-20T14:13:10.306Z"
   },
   {
    "duration": 196,
    "start_time": "2021-10-20T14:13:10.886Z"
   },
   {
    "duration": 202,
    "start_time": "2021-10-20T14:13:11.085Z"
   },
   {
    "duration": 248,
    "start_time": "2021-10-20T14:13:11.289Z"
   },
   {
    "duration": 272,
    "start_time": "2021-10-20T14:16:58.325Z"
   },
   {
    "duration": 100,
    "start_time": "2021-10-20T14:45:43.191Z"
   },
   {
    "duration": 1158,
    "start_time": "2021-10-20T14:45:49.496Z"
   },
   {
    "duration": 34,
    "start_time": "2021-10-20T14:45:59.433Z"
   },
   {
    "duration": 38,
    "start_time": "2021-10-20T14:47:03.490Z"
   },
   {
    "duration": 38,
    "start_time": "2021-10-20T14:47:35.974Z"
   },
   {
    "duration": 35,
    "start_time": "2021-10-20T14:48:41.389Z"
   },
   {
    "duration": 34,
    "start_time": "2021-10-20T14:48:51.667Z"
   },
   {
    "duration": 37,
    "start_time": "2021-10-20T14:49:36.197Z"
   },
   {
    "duration": 36,
    "start_time": "2021-10-20T14:49:41.414Z"
   },
   {
    "duration": 35,
    "start_time": "2021-10-20T14:49:52.064Z"
   },
   {
    "duration": 35,
    "start_time": "2021-10-20T14:49:55.582Z"
   },
   {
    "duration": 6911,
    "start_time": "2021-10-20T14:53:14.518Z"
   },
   {
    "duration": 6466,
    "start_time": "2021-10-20T14:53:23.378Z"
   },
   {
    "duration": 592,
    "start_time": "2021-10-20T14:53:56.637Z"
   },
   {
    "duration": 173,
    "start_time": "2021-10-20T14:53:57.231Z"
   },
   {
    "duration": 179,
    "start_time": "2021-10-20T14:53:57.407Z"
   },
   {
    "duration": 235,
    "start_time": "2021-10-20T14:53:57.589Z"
   },
   {
    "duration": 6941,
    "start_time": "2021-10-20T14:53:57.826Z"
   },
   {
    "duration": 7727,
    "start_time": "2021-10-20T14:54:33.943Z"
   },
   {
    "duration": 6838,
    "start_time": "2021-10-20T14:55:21.228Z"
   },
   {
    "duration": 60,
    "start_time": "2021-10-20T14:55:35.348Z"
   },
   {
    "duration": 8724,
    "start_time": "2021-10-20T14:59:41.838Z"
   },
   {
    "duration": 62,
    "start_time": "2021-10-20T15:00:35.921Z"
   },
   {
    "duration": 39,
    "start_time": "2021-10-20T15:13:59.453Z"
   },
   {
    "duration": 66,
    "start_time": "2021-10-20T15:14:28.049Z"
   },
   {
    "duration": 64,
    "start_time": "2021-10-20T15:15:41.474Z"
   },
   {
    "duration": 63,
    "start_time": "2021-10-20T15:16:20.811Z"
   },
   {
    "duration": 62,
    "start_time": "2021-10-20T15:16:47.599Z"
   },
   {
    "duration": 57,
    "start_time": "2021-10-20T15:17:15.768Z"
   },
   {
    "duration": 69,
    "start_time": "2021-10-20T15:17:25.241Z"
   },
   {
    "duration": 589,
    "start_time": "2021-10-20T15:20:25.443Z"
   },
   {
    "duration": 178,
    "start_time": "2021-10-20T15:20:26.034Z"
   },
   {
    "duration": 483,
    "start_time": "2021-10-20T15:20:26.215Z"
   },
   {
    "duration": -321,
    "start_time": "2021-10-20T15:20:27.021Z"
   },
   {
    "duration": -324,
    "start_time": "2021-10-20T15:20:27.026Z"
   },
   {
    "duration": 54,
    "start_time": "2021-10-20T15:20:31.986Z"
   },
   {
    "duration": 459,
    "start_time": "2021-10-20T15:21:08.349Z"
   },
   {
    "duration": 182,
    "start_time": "2021-10-20T15:21:15.784Z"
   },
   {
    "duration": 665,
    "start_time": "2021-10-20T15:21:25.595Z"
   },
   {
    "duration": 298,
    "start_time": "2021-10-20T15:21:26.268Z"
   },
   {
    "duration": 182,
    "start_time": "2021-10-20T15:21:26.571Z"
   },
   {
    "duration": 227,
    "start_time": "2021-10-20T15:21:26.756Z"
   },
   {
    "duration": 53,
    "start_time": "2021-10-20T15:21:26.986Z"
   },
   {
    "duration": 190,
    "start_time": "2021-10-20T15:23:15.374Z"
   },
   {
    "duration": 179,
    "start_time": "2021-10-20T15:23:35.636Z"
   },
   {
    "duration": 195,
    "start_time": "2021-10-20T15:24:01.198Z"
   },
   {
    "duration": 183,
    "start_time": "2021-10-20T15:25:11.163Z"
   },
   {
    "duration": 183,
    "start_time": "2021-10-20T15:25:17.788Z"
   },
   {
    "duration": 188,
    "start_time": "2021-10-20T15:25:30.649Z"
   },
   {
    "duration": 197,
    "start_time": "2021-10-20T15:26:01.609Z"
   },
   {
    "duration": 187,
    "start_time": "2021-10-20T15:26:08.179Z"
   },
   {
    "duration": 576,
    "start_time": "2021-10-20T15:26:09.958Z"
   },
   {
    "duration": 168,
    "start_time": "2021-10-20T15:26:10.537Z"
   },
   {
    "duration": 186,
    "start_time": "2021-10-20T15:26:10.708Z"
   },
   {
    "duration": 260,
    "start_time": "2021-10-20T15:26:10.897Z"
   },
   {
    "duration": 46,
    "start_time": "2021-10-20T15:26:11.160Z"
   },
   {
    "duration": 70,
    "start_time": "2021-10-20T15:27:57.730Z"
   },
   {
    "duration": 52,
    "start_time": "2021-10-20T15:28:14.477Z"
   },
   {
    "duration": 45,
    "start_time": "2021-10-20T15:28:40.376Z"
   },
   {
    "duration": 46,
    "start_time": "2021-10-20T15:28:51.827Z"
   },
   {
    "duration": 47,
    "start_time": "2021-10-20T15:35:14.272Z"
   },
   {
    "duration": 3772,
    "start_time": "2021-10-20T15:35:40.609Z"
   },
   {
    "duration": 50,
    "start_time": "2021-10-20T15:44:15.186Z"
   },
   {
    "duration": 872,
    "start_time": "2021-10-20T15:57:28.914Z"
   },
   {
    "duration": 758,
    "start_time": "2021-10-20T15:58:14.760Z"
   },
   {
    "duration": 91,
    "start_time": "2021-10-20T16:03:32.926Z"
   },
   {
    "duration": 537,
    "start_time": "2021-10-20T16:04:49.539Z"
   },
   {
    "duration": 556,
    "start_time": "2021-10-20T16:05:04.242Z"
   },
   {
    "duration": 527,
    "start_time": "2021-10-20T16:05:15.717Z"
   },
   {
    "duration": 647,
    "start_time": "2021-10-20T16:05:31.083Z"
   },
   {
    "duration": 525,
    "start_time": "2021-10-20T16:05:41.401Z"
   },
   {
    "duration": 518,
    "start_time": "2021-10-20T16:05:50.794Z"
   },
   {
    "duration": 542,
    "start_time": "2021-10-20T16:06:01.303Z"
   },
   {
    "duration": 545,
    "start_time": "2021-10-20T16:06:13.800Z"
   },
   {
    "duration": 508,
    "start_time": "2021-10-20T16:07:02.221Z"
   },
   {
    "duration": 835,
    "start_time": "2021-10-20T16:07:36.615Z"
   },
   {
    "duration": 609,
    "start_time": "2021-10-20T16:07:52.905Z"
   },
   {
    "duration": 1338,
    "start_time": "2021-10-20T16:08:07.134Z"
   },
   {
    "duration": 938,
    "start_time": "2021-10-20T16:09:41.899Z"
   },
   {
    "duration": 1582,
    "start_time": "2021-10-20T16:10:02.216Z"
   },
   {
    "duration": 785,
    "start_time": "2021-10-20T16:10:27.305Z"
   },
   {
    "duration": 1613,
    "start_time": "2021-10-20T16:10:48.028Z"
   },
   {
    "duration": 1679,
    "start_time": "2021-10-20T16:28:35.088Z"
   },
   {
    "duration": 301,
    "start_time": "2021-10-20T16:31:57.394Z"
   },
   {
    "duration": 304,
    "start_time": "2021-10-20T16:32:18.072Z"
   },
   {
    "duration": 457,
    "start_time": "2021-10-20T16:32:44.307Z"
   },
   {
    "duration": 1562,
    "start_time": "2021-10-20T16:33:00.082Z"
   },
   {
    "duration": 1680,
    "start_time": "2021-10-20T16:34:47.169Z"
   },
   {
    "duration": 1437,
    "start_time": "2021-10-20T16:35:12.492Z"
   },
   {
    "duration": 1557,
    "start_time": "2021-10-20T16:35:26.520Z"
   },
   {
    "duration": 1531,
    "start_time": "2021-10-20T16:36:51.048Z"
   },
   {
    "duration": 1567,
    "start_time": "2021-10-20T16:37:29.348Z"
   },
   {
    "duration": 1636,
    "start_time": "2021-10-20T16:39:09.747Z"
   },
   {
    "duration": 36,
    "start_time": "2021-10-20T16:39:11.871Z"
   },
   {
    "duration": 1573,
    "start_time": "2021-10-20T16:39:31.898Z"
   },
   {
    "duration": 1501,
    "start_time": "2021-10-20T16:39:53.463Z"
   },
   {
    "duration": 53,
    "start_time": "2021-10-20T16:41:13.348Z"
   },
   {
    "duration": 54,
    "start_time": "2021-10-20T16:41:30.693Z"
   },
   {
    "duration": 66,
    "start_time": "2021-10-20T16:42:20.500Z"
   },
   {
    "duration": 66,
    "start_time": "2021-10-20T16:44:00.292Z"
   },
   {
    "duration": 249,
    "start_time": "2021-10-20T16:45:03.350Z"
   },
   {
    "duration": 218,
    "start_time": "2021-10-20T16:45:13.927Z"
   },
   {
    "duration": 2276,
    "start_time": "2021-10-20T16:45:51.996Z"
   },
   {
    "duration": 573,
    "start_time": "2021-10-20T16:46:21.817Z"
   },
   {
    "duration": 169,
    "start_time": "2021-10-20T16:46:22.393Z"
   },
   {
    "duration": 208,
    "start_time": "2021-10-20T16:46:22.565Z"
   },
   {
    "duration": 240,
    "start_time": "2021-10-20T16:46:22.775Z"
   },
   {
    "duration": 69,
    "start_time": "2021-10-20T16:46:23.018Z"
   },
   {
    "duration": 1955,
    "start_time": "2021-10-20T16:46:23.089Z"
   },
   {
    "duration": 2068,
    "start_time": "2021-10-20T16:48:17.156Z"
   },
   {
    "duration": 2060,
    "start_time": "2021-10-20T16:48:48.499Z"
   },
   {
    "duration": 12390,
    "start_time": "2021-10-20T16:51:32.675Z"
   },
   {
    "duration": 594,
    "start_time": "2021-10-20T17:04:01.568Z"
   },
   {
    "duration": 96,
    "start_time": "2021-10-20T17:04:14.293Z"
   },
   {
    "duration": 278,
    "start_time": "2021-10-20T17:04:38.943Z"
   },
   {
    "duration": 271,
    "start_time": "2021-10-20T17:04:56.414Z"
   },
   {
    "duration": 1044,
    "start_time": "2021-10-20T17:05:19.074Z"
   },
   {
    "duration": 163,
    "start_time": "2021-10-20T17:05:20.120Z"
   },
   {
    "duration": 213,
    "start_time": "2021-10-20T17:05:20.286Z"
   },
   {
    "duration": 228,
    "start_time": "2021-10-20T17:05:20.501Z"
   },
   {
    "duration": 68,
    "start_time": "2021-10-20T17:05:20.732Z"
   },
   {
    "duration": 1981,
    "start_time": "2021-10-20T17:05:20.802Z"
   },
   {
    "duration": 327,
    "start_time": "2021-10-20T17:05:22.786Z"
   },
   {
    "duration": 528,
    "start_time": "2021-10-20T17:05:35.417Z"
   },
   {
    "duration": 39,
    "start_time": "2021-10-20T17:06:19.645Z"
   },
   {
    "duration": 132,
    "start_time": "2021-10-20T17:07:19.458Z"
   },
   {
    "duration": 13,
    "start_time": "2021-10-20T17:18:44.964Z"
   },
   {
    "duration": 14,
    "start_time": "2021-10-20T17:18:53.510Z"
   },
   {
    "duration": 15,
    "start_time": "2021-10-20T17:26:44.923Z"
   },
   {
    "duration": 15,
    "start_time": "2021-10-20T17:27:17.427Z"
   },
   {
    "duration": 16,
    "start_time": "2021-10-20T17:27:22.172Z"
   },
   {
    "duration": 16,
    "start_time": "2021-10-20T17:27:33.678Z"
   },
   {
    "duration": 284,
    "start_time": "2021-10-20T17:28:01.743Z"
   },
   {
    "duration": 16,
    "start_time": "2021-10-20T17:28:09.775Z"
   },
   {
    "duration": 16,
    "start_time": "2021-10-20T17:29:52.884Z"
   },
   {
    "duration": 15,
    "start_time": "2021-10-20T17:31:15.436Z"
   },
   {
    "duration": 16,
    "start_time": "2021-10-20T17:31:24.463Z"
   },
   {
    "duration": 16,
    "start_time": "2021-10-20T17:31:49.866Z"
   },
   {
    "duration": 16,
    "start_time": "2021-10-20T17:32:16.652Z"
   },
   {
    "duration": 16,
    "start_time": "2021-10-20T17:32:30.077Z"
   },
   {
    "duration": 15,
    "start_time": "2021-10-20T17:45:54.188Z"
   },
   {
    "duration": 17,
    "start_time": "2021-10-20T17:46:33.179Z"
   },
   {
    "duration": 17,
    "start_time": "2021-10-20T17:47:42.880Z"
   },
   {
    "duration": 15,
    "start_time": "2021-10-20T17:48:26.270Z"
   },
   {
    "duration": 19,
    "start_time": "2021-10-20T17:48:42.736Z"
   },
   {
    "duration": 16,
    "start_time": "2021-10-20T17:49:01.924Z"
   },
   {
    "duration": 580,
    "start_time": "2021-10-20T17:50:06.736Z"
   },
   {
    "duration": 572,
    "start_time": "2021-10-20T17:50:21.609Z"
   },
   {
    "duration": 579,
    "start_time": "2021-10-20T17:50:33.995Z"
   },
   {
    "duration": 581,
    "start_time": "2021-10-20T17:50:49.400Z"
   },
   {
    "duration": 579,
    "start_time": "2021-10-20T17:51:32.962Z"
   },
   {
    "duration": 172,
    "start_time": "2021-10-20T17:51:33.544Z"
   },
   {
    "duration": 208,
    "start_time": "2021-10-20T17:51:33.719Z"
   },
   {
    "duration": 234,
    "start_time": "2021-10-20T17:51:33.931Z"
   },
   {
    "duration": 85,
    "start_time": "2021-10-20T17:51:34.168Z"
   },
   {
    "duration": 2132,
    "start_time": "2021-10-20T17:51:34.255Z"
   },
   {
    "duration": 33,
    "start_time": "2021-10-20T17:51:36.390Z"
   },
   {
    "duration": 14,
    "start_time": "2021-10-20T17:51:36.426Z"
   },
   {
    "duration": 193,
    "start_time": "2021-10-20T18:07:00.482Z"
   },
   {
    "duration": 619,
    "start_time": "2021-10-20T18:29:01.041Z"
   },
   {
    "duration": 174,
    "start_time": "2021-10-20T18:29:01.662Z"
   },
   {
    "duration": 182,
    "start_time": "2021-10-20T18:29:01.839Z"
   },
   {
    "duration": 529,
    "start_time": "2021-10-20T18:29:02.024Z"
   },
   {
    "duration": -259,
    "start_time": "2021-10-20T18:29:02.815Z"
   },
   {
    "duration": -261,
    "start_time": "2021-10-20T18:29:02.818Z"
   },
   {
    "duration": -261,
    "start_time": "2021-10-20T18:29:02.820Z"
   },
   {
    "duration": -261,
    "start_time": "2021-10-20T18:29:02.821Z"
   },
   {
    "duration": 219,
    "start_time": "2021-10-20T18:29:39.018Z"
   },
   {
    "duration": 576,
    "start_time": "2021-10-20T18:29:43.926Z"
   },
   {
    "duration": 160,
    "start_time": "2021-10-20T18:29:44.505Z"
   },
   {
    "duration": 192,
    "start_time": "2021-10-20T18:29:44.668Z"
   },
   {
    "duration": 230,
    "start_time": "2021-10-20T18:29:44.863Z"
   },
   {
    "duration": 76,
    "start_time": "2021-10-20T18:29:45.096Z"
   },
   {
    "duration": 1980,
    "start_time": "2021-10-20T18:29:45.174Z"
   },
   {
    "duration": 16,
    "start_time": "2021-10-20T18:29:47.157Z"
   },
   {
    "duration": 15,
    "start_time": "2021-10-20T18:29:47.175Z"
   },
   {
    "duration": 81,
    "start_time": "2021-10-20T18:34:07.421Z"
   },
   {
    "duration": 2246,
    "start_time": "2021-10-20T18:54:29.328Z"
   },
   {
    "duration": 1983,
    "start_time": "2021-10-20T18:54:48.720Z"
   },
   {
    "duration": 2183,
    "start_time": "2021-10-20T18:55:11.183Z"
   },
   {
    "duration": 7,
    "start_time": "2021-10-20T18:55:27.259Z"
   },
   {
    "duration": 8,
    "start_time": "2021-10-20T18:55:42.589Z"
   },
   {
    "duration": 14,
    "start_time": "2021-10-20T18:56:54.123Z"
   },
   {
    "duration": 14,
    "start_time": "2021-10-20T18:57:14.389Z"
   },
   {
    "duration": 18,
    "start_time": "2021-10-20T18:58:27.835Z"
   },
   {
    "duration": 7,
    "start_time": "2021-10-20T18:58:36.214Z"
   },
   {
    "duration": 346,
    "start_time": "2021-10-20T18:59:05.638Z"
   },
   {
    "duration": 16,
    "start_time": "2021-10-20T19:00:01.608Z"
   },
   {
    "duration": 370,
    "start_time": "2021-10-20T19:00:21.916Z"
   },
   {
    "duration": 333,
    "start_time": "2021-10-20T19:00:38.068Z"
   },
   {
    "duration": 15,
    "start_time": "2021-10-20T19:00:53.363Z"
   },
   {
    "duration": 15,
    "start_time": "2021-10-20T19:01:21.092Z"
   },
   {
    "duration": 14,
    "start_time": "2021-10-20T19:12:35.946Z"
   },
   {
    "duration": 18,
    "start_time": "2021-10-20T19:23:13.990Z"
   },
   {
    "duration": 16,
    "start_time": "2021-10-20T19:23:27.501Z"
   },
   {
    "duration": 17,
    "start_time": "2021-10-20T19:23:39.738Z"
   },
   {
    "duration": 337,
    "start_time": "2021-10-20T20:07:12.968Z"
   },
   {
    "duration": 83,
    "start_time": "2021-10-20T20:08:38.280Z"
   },
   {
    "duration": 75,
    "start_time": "2021-10-20T20:08:50.802Z"
   },
   {
    "duration": 35,
    "start_time": "2021-10-20T20:13:10.364Z"
   },
   {
    "duration": 2341,
    "start_time": "2021-10-21T18:18:45.506Z"
   },
   {
    "duration": 208,
    "start_time": "2021-10-21T18:18:47.850Z"
   },
   {
    "duration": 249,
    "start_time": "2021-10-21T18:18:48.063Z"
   },
   {
    "duration": 257,
    "start_time": "2021-10-21T18:18:48.316Z"
   },
   {
    "duration": 57,
    "start_time": "2021-10-21T18:18:48.575Z"
   },
   {
    "duration": 1766,
    "start_time": "2021-10-21T18:18:48.634Z"
   },
   {
    "duration": 15,
    "start_time": "2021-10-21T18:18:50.402Z"
   },
   {
    "duration": 45,
    "start_time": "2021-10-21T18:18:50.420Z"
   },
   {
    "duration": 25,
    "start_time": "2021-10-21T18:18:50.468Z"
   },
   {
    "duration": 330,
    "start_time": "2021-10-21T19:11:30.625Z"
   },
   {
    "duration": 1849,
    "start_time": "2021-10-21T19:14:43.481Z"
   },
   {
    "duration": 331,
    "start_time": "2021-10-21T19:15:12.463Z"
   },
   {
    "duration": 321,
    "start_time": "2021-10-21T19:15:17.280Z"
   },
   {
    "duration": 254,
    "start_time": "2021-10-21T19:15:54.694Z"
   },
   {
    "duration": 249,
    "start_time": "2021-10-21T19:16:05.897Z"
   },
   {
    "duration": 258,
    "start_time": "2021-10-21T19:16:23.492Z"
   },
   {
    "duration": 267,
    "start_time": "2021-10-21T19:16:44.160Z"
   },
   {
    "duration": 79,
    "start_time": "2021-10-21T19:17:44.259Z"
   },
   {
    "duration": 74,
    "start_time": "2021-10-21T19:18:13.768Z"
   },
   {
    "duration": 89,
    "start_time": "2021-10-21T19:18:39.330Z"
   },
   {
    "duration": 68,
    "start_time": "2021-10-21T19:19:13.880Z"
   }
  ],
  "kernelspec": {
   "display_name": "Python 3",
   "language": "python",
   "name": "python3"
  },
  "language_info": {
   "codemirror_mode": {
    "name": "ipython",
    "version": 3
   },
   "file_extension": ".py",
   "mimetype": "text/x-python",
   "name": "python",
   "nbconvert_exporter": "python",
   "pygments_lexer": "ipython3",
   "version": "3.9.7"
  },
  "toc": {
   "base_numbering": 1,
   "nav_menu": {},
   "number_sections": true,
   "sideBar": true,
   "skip_h1_title": true,
   "title_cell": "Содержание",
   "title_sidebar": "Содержание",
   "toc_cell": true,
   "toc_position": {
    "height": "calc(100% - 180px)",
    "left": "10px",
    "top": "150px",
    "width": "319.389px"
   },
   "toc_section_display": true,
   "toc_window_display": true
  }
 },
 "nbformat": 4,
 "nbformat_minor": 2
}
