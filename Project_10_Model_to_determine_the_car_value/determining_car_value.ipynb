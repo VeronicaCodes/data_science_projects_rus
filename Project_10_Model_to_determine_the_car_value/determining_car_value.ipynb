{
 "cells": [
  {
   "cell_type": "markdown",
   "metadata": {
    "toc": true
   },
   "source": [
    "<h1>Содержание<span class=\"tocSkip\"></span></h1>\n",
    "<div class=\"toc\"><ul class=\"toc-item\"><li><ul class=\"toc-item\"><li><span><a href=\"#Подготовка-данных\" data-toc-modified-id=\"Подготовка-данных-1\"><span class=\"toc-item-num\">1&nbsp;&nbsp;</span>Подготовка данных</a></span><ul class=\"toc-item\"><li><span><a href=\"#Оценка-качества-данных\" data-toc-modified-id=\"Оценка-качества-данных-1.1\"><span class=\"toc-item-num\">1.1&nbsp;&nbsp;</span>Оценка качества данных</a></span></li><li><span><a href=\"#Предобработка-данных\" data-toc-modified-id=\"Предобработка-данных-1.2\"><span class=\"toc-item-num\">1.2&nbsp;&nbsp;</span>Предобработка данных</a></span><ul class=\"toc-item\"><li><span><a href=\"#Обработка-столбцов-'VehicleType',-'Gearbox',-'Model',-'FuelType'-и-'NotRepaired'\" data-toc-modified-id=\"Обработка-столбцов-'VehicleType',-'Gearbox',-'Model',-'FuelType'-и-'NotRepaired'-1.2.1\"><span class=\"toc-item-num\">1.2.1&nbsp;&nbsp;</span>Обработка столбцов 'VehicleType', 'Gearbox', 'Model', 'FuelType' и 'NotRepaired'</a></span></li><li><span><a href=\"#Обработка-столбцa-'RegistrationYear'\" data-toc-modified-id=\"Обработка-столбцa-'RegistrationYear'-1.2.2\"><span class=\"toc-item-num\">1.2.2&nbsp;&nbsp;</span>Обработка столбцa 'RegistrationYear'</a></span></li><li><span><a href=\"#Обработка-столбцa-'RegistrationMonth\" data-toc-modified-id=\"Обработка-столбцa-'RegistrationMonth-1.2.3\"><span class=\"toc-item-num\">1.2.3&nbsp;&nbsp;</span>Обработка столбцa 'RegistrationMonth</a></span></li><li><span><a href=\"#Обработка-оставшихся-столбцов\" data-toc-modified-id=\"Обработка-оставшихся-столбцов-1.2.4\"><span class=\"toc-item-num\">1.2.4&nbsp;&nbsp;</span>Обработка оставшихся столбцов</a></span></li></ul></li><li><span><a href=\"#Разделение-на-выборки-и-OHE\" data-toc-modified-id=\"Разделение-на-выборки-и-OHE-1.3\"><span class=\"toc-item-num\">1.3&nbsp;&nbsp;</span>Разделение на выборки и OHE</a></span></li></ul></li><li><span><a href=\"#Обучение-моделей\" data-toc-modified-id=\"Обучение-моделей-2\"><span class=\"toc-item-num\">2&nbsp;&nbsp;</span>Обучение моделей</a></span><ul class=\"toc-item\"><li><span><a href=\"#Линейная-Регрессия\" data-toc-modified-id=\"Линейная-Регрессия-2.1\"><span class=\"toc-item-num\">2.1&nbsp;&nbsp;</span>Линейная Регрессия</a></span></li><li><span><a href=\"#Gradient-Boosting\" data-toc-modified-id=\"Gradient-Boosting-2.2\"><span class=\"toc-item-num\">2.2&nbsp;&nbsp;</span>Gradient Boosting</a></span></li><li><span><a href=\"#XGBoost\" data-toc-modified-id=\"XGBoost-2.3\"><span class=\"toc-item-num\">2.3&nbsp;&nbsp;</span>XGBoost</a></span></li><li><span><a href=\"#LightGBM\" data-toc-modified-id=\"LightGBM-2.4\"><span class=\"toc-item-num\">2.4&nbsp;&nbsp;</span>LightGBM</a></span></li><li><span><a href=\"#CatBoost\" data-toc-modified-id=\"CatBoost-2.5\"><span class=\"toc-item-num\">2.5&nbsp;&nbsp;</span>CatBoost</a></span></li></ul></li><li><span><a href=\"#Анализ-моделей\" data-toc-modified-id=\"Анализ-моделей-3\"><span class=\"toc-item-num\">3&nbsp;&nbsp;</span>Анализ моделей</a></span></li>"
   ]
  },
  {
   "cell_type": "markdown",
   "metadata": {},
   "source": [
    "# Определение стоимости автомобилей"
   ]
  },
  {
   "cell_type": "markdown",
   "metadata": {},
   "source": [
    "Сервис по продаже автомобилей с пробегом «Не бит, не крашен» разрабатывает приложение для привлечения новых клиентов. В нём можно быстро узнать рыночную стоимость своего автомобиля. В вашем распоряжении исторические данные: технические характеристики, комплектации и цены автомобилей. Вам нужно построить модель для определения стоимости. \n",
    "\n",
    "Заказчику важны:\n",
    "\n",
    "- качество предсказания;\n",
    "- скорость предсказания;\n",
    "- время обучения."
   ]
  },
  {
   "cell_type": "markdown",
   "metadata": {},
   "source": [
    "# Описание данных"
   ]
  },
  {
   "cell_type": "markdown",
   "metadata": {},
   "source": [
    "**Признаки**<br>\n",
    "DateCrawled — дата скачивания анкеты из базы<br>\n",
    "VehicleType — тип автомобильного кузова<br>\n",
    "RegistrationYear — год регистрации автомобиля<br>\n",
    "Gearbox — тип коробки передач<br>\n",
    "Power — мощность (л. с.)<br>\n",
    "Model — модель автомобиля<br>\n",
    "Kilometer — пробег (км)<br>\n",
    "RegistrationMonth — месяц регистрации автомобиля<br>\n",
    "FuelType — тип топлива<br>\n",
    "Brand — марка автомобиля<br>\n",
    "NotRepaired — была машина в ремонте или нет<br>\n",
    "DateCreated — дата создания анкеты<br>\n",
    "NumberOfPictures — количество фотографий автомобиля<br>\n",
    "PostalCode — почтовый индекс владельца анкеты (пользователя)<br>\n",
    "LastSeen — дата последней активности пользователя<br>\n",
    "\n",
    "**Целевой признак**<br>\n",
    "Price — цена (евро)<br>"
   ]
  },
  {
   "cell_type": "markdown",
   "metadata": {},
   "source": [
    "## Подготовка данных"
   ]
  },
  {
   "cell_type": "markdown",
   "metadata": {},
   "source": [
    "###  Оценка качества данных"
   ]
  },
  {
   "cell_type": "code",
   "execution_count": 1,
   "metadata": {},
   "outputs": [],
   "source": [
    "# импортируем библиотеки\n",
    "import time\n",
    "import warnings\n",
    "import pandas as pd\n",
    "import numpy as np\n",
    "import seaborn as sns\n",
    "import lightgbm as lgb\n",
    "from xgboost import XGBRegressor\n",
    "from catboost import Pool, CatBoostRegressor\n",
    "import matplotlib.pyplot as plt\n",
    "from sklearn.linear_model import LinearRegression\n",
    "from sklearn.ensemble import GradientBoostingRegressor\n",
    "from sklearn.metrics import mean_squared_error\n",
    "from sklearn.model_selection import RandomizedSearchCV\n",
    "from sklearn.model_selection import train_test_split\n",
    "from sklearn.preprocessing import StandardScaler\n",
    "from sklearn import preprocessing\n",
    "\n",
    "warnings.simplefilter(action='ignore', category=FutureWarning)"
   ]
  },
  {
   "cell_type": "code",
   "execution_count": 2,
   "metadata": {},
   "outputs": [],
   "source": [
    "# загрузка файла\n",
    "#df = pd.read_csv('/datasets/autos.csv')\n",
    "df = pd.read_csv('used_cars_data.csv')"
   ]
  },
  {
   "cell_type": "code",
   "execution_count": 3,
   "metadata": {},
   "outputs": [
    {
     "data": {
      "text/html": [
       "<div>\n",
       "<style scoped>\n",
       "    .dataframe tbody tr th:only-of-type {\n",
       "        vertical-align: middle;\n",
       "    }\n",
       "\n",
       "    .dataframe tbody tr th {\n",
       "        vertical-align: top;\n",
       "    }\n",
       "\n",
       "    .dataframe thead th {\n",
       "        text-align: right;\n",
       "    }\n",
       "</style>\n",
       "<table border=\"1\" class=\"dataframe\">\n",
       "  <thead>\n",
       "    <tr style=\"text-align: right;\">\n",
       "      <th></th>\n",
       "      <th>DateCrawled</th>\n",
       "      <th>Price</th>\n",
       "      <th>VehicleType</th>\n",
       "      <th>RegistrationYear</th>\n",
       "      <th>Gearbox</th>\n",
       "      <th>Power</th>\n",
       "      <th>Model</th>\n",
       "      <th>Kilometer</th>\n",
       "      <th>RegistrationMonth</th>\n",
       "      <th>FuelType</th>\n",
       "      <th>Brand</th>\n",
       "      <th>NotRepaired</th>\n",
       "      <th>DateCreated</th>\n",
       "      <th>NumberOfPictures</th>\n",
       "      <th>PostalCode</th>\n",
       "      <th>LastSeen</th>\n",
       "    </tr>\n",
       "  </thead>\n",
       "  <tbody>\n",
       "    <tr>\n",
       "      <th>0</th>\n",
       "      <td>2016-03-24 11:52:17</td>\n",
       "      <td>480</td>\n",
       "      <td>NaN</td>\n",
       "      <td>1993</td>\n",
       "      <td>manual</td>\n",
       "      <td>0</td>\n",
       "      <td>golf</td>\n",
       "      <td>150000</td>\n",
       "      <td>0</td>\n",
       "      <td>petrol</td>\n",
       "      <td>volkswagen</td>\n",
       "      <td>NaN</td>\n",
       "      <td>2016-03-24 00:00:00</td>\n",
       "      <td>0</td>\n",
       "      <td>70435</td>\n",
       "      <td>2016-04-07 03:16:57</td>\n",
       "    </tr>\n",
       "    <tr>\n",
       "      <th>1</th>\n",
       "      <td>2016-03-24 10:58:45</td>\n",
       "      <td>18300</td>\n",
       "      <td>coupe</td>\n",
       "      <td>2011</td>\n",
       "      <td>manual</td>\n",
       "      <td>190</td>\n",
       "      <td>NaN</td>\n",
       "      <td>125000</td>\n",
       "      <td>5</td>\n",
       "      <td>gasoline</td>\n",
       "      <td>audi</td>\n",
       "      <td>yes</td>\n",
       "      <td>2016-03-24 00:00:00</td>\n",
       "      <td>0</td>\n",
       "      <td>66954</td>\n",
       "      <td>2016-04-07 01:46:50</td>\n",
       "    </tr>\n",
       "    <tr>\n",
       "      <th>2</th>\n",
       "      <td>2016-03-14 12:52:21</td>\n",
       "      <td>9800</td>\n",
       "      <td>suv</td>\n",
       "      <td>2004</td>\n",
       "      <td>auto</td>\n",
       "      <td>163</td>\n",
       "      <td>grand</td>\n",
       "      <td>125000</td>\n",
       "      <td>8</td>\n",
       "      <td>gasoline</td>\n",
       "      <td>jeep</td>\n",
       "      <td>NaN</td>\n",
       "      <td>2016-03-14 00:00:00</td>\n",
       "      <td>0</td>\n",
       "      <td>90480</td>\n",
       "      <td>2016-04-05 12:47:46</td>\n",
       "    </tr>\n",
       "    <tr>\n",
       "      <th>3</th>\n",
       "      <td>2016-03-17 16:54:04</td>\n",
       "      <td>1500</td>\n",
       "      <td>small</td>\n",
       "      <td>2001</td>\n",
       "      <td>manual</td>\n",
       "      <td>75</td>\n",
       "      <td>golf</td>\n",
       "      <td>150000</td>\n",
       "      <td>6</td>\n",
       "      <td>petrol</td>\n",
       "      <td>volkswagen</td>\n",
       "      <td>no</td>\n",
       "      <td>2016-03-17 00:00:00</td>\n",
       "      <td>0</td>\n",
       "      <td>91074</td>\n",
       "      <td>2016-03-17 17:40:17</td>\n",
       "    </tr>\n",
       "    <tr>\n",
       "      <th>4</th>\n",
       "      <td>2016-03-31 17:25:20</td>\n",
       "      <td>3600</td>\n",
       "      <td>small</td>\n",
       "      <td>2008</td>\n",
       "      <td>manual</td>\n",
       "      <td>69</td>\n",
       "      <td>fabia</td>\n",
       "      <td>90000</td>\n",
       "      <td>7</td>\n",
       "      <td>gasoline</td>\n",
       "      <td>skoda</td>\n",
       "      <td>no</td>\n",
       "      <td>2016-03-31 00:00:00</td>\n",
       "      <td>0</td>\n",
       "      <td>60437</td>\n",
       "      <td>2016-04-06 10:17:21</td>\n",
       "    </tr>\n",
       "  </tbody>\n",
       "</table>\n",
       "</div>"
      ],
      "text/plain": [
       "           DateCrawled  Price VehicleType  RegistrationYear Gearbox  Power  \\\n",
       "0  2016-03-24 11:52:17    480         NaN              1993  manual      0   \n",
       "1  2016-03-24 10:58:45  18300       coupe              2011  manual    190   \n",
       "2  2016-03-14 12:52:21   9800         suv              2004    auto    163   \n",
       "3  2016-03-17 16:54:04   1500       small              2001  manual     75   \n",
       "4  2016-03-31 17:25:20   3600       small              2008  manual     69   \n",
       "\n",
       "   Model  Kilometer  RegistrationMonth  FuelType       Brand NotRepaired  \\\n",
       "0   golf     150000                  0    petrol  volkswagen         NaN   \n",
       "1    NaN     125000                  5  gasoline        audi         yes   \n",
       "2  grand     125000                  8  gasoline        jeep         NaN   \n",
       "3   golf     150000                  6    petrol  volkswagen          no   \n",
       "4  fabia      90000                  7  gasoline       skoda          no   \n",
       "\n",
       "           DateCreated  NumberOfPictures  PostalCode             LastSeen  \n",
       "0  2016-03-24 00:00:00                 0       70435  2016-04-07 03:16:57  \n",
       "1  2016-03-24 00:00:00                 0       66954  2016-04-07 01:46:50  \n",
       "2  2016-03-14 00:00:00                 0       90480  2016-04-05 12:47:46  \n",
       "3  2016-03-17 00:00:00                 0       91074  2016-03-17 17:40:17  \n",
       "4  2016-03-31 00:00:00                 0       60437  2016-04-06 10:17:21  "
      ]
     },
     "execution_count": 3,
     "metadata": {},
     "output_type": "execute_result"
    }
   ],
   "source": [
    "# получение первых 5 строк таблицы\n",
    "df.head()"
   ]
  },
  {
   "cell_type": "code",
   "execution_count": 4,
   "metadata": {},
   "outputs": [
    {
     "name": "stdout",
     "output_type": "stream",
     "text": [
      "<class 'pandas.core.frame.DataFrame'>\n",
      "RangeIndex: 354369 entries, 0 to 354368\n",
      "Data columns (total 16 columns):\n",
      " #   Column             Non-Null Count   Dtype \n",
      "---  ------             --------------   ----- \n",
      " 0   DateCrawled        354369 non-null  object\n",
      " 1   Price              354369 non-null  int64 \n",
      " 2   VehicleType        316879 non-null  object\n",
      " 3   RegistrationYear   354369 non-null  int64 \n",
      " 4   Gearbox            334536 non-null  object\n",
      " 5   Power              354369 non-null  int64 \n",
      " 6   Model              334664 non-null  object\n",
      " 7   Kilometer          354369 non-null  int64 \n",
      " 8   RegistrationMonth  354369 non-null  int64 \n",
      " 9   FuelType           321474 non-null  object\n",
      " 10  Brand              354369 non-null  object\n",
      " 11  NotRepaired        283215 non-null  object\n",
      " 12  DateCreated        354369 non-null  object\n",
      " 13  NumberOfPictures   354369 non-null  int64 \n",
      " 14  PostalCode         354369 non-null  int64 \n",
      " 15  LastSeen           354369 non-null  object\n",
      "dtypes: int64(7), object(9)\n",
      "memory usage: 43.3+ MB\n"
     ]
    }
   ],
   "source": [
    "# общий анализ данных\n",
    "df.info()"
   ]
  },
  {
   "cell_type": "code",
   "execution_count": 5,
   "metadata": {},
   "outputs": [
    {
     "name": "stdout",
     "output_type": "stream",
     "text": [
      "Всего NaN: DateCrawled              0\n",
      "Price                    0\n",
      "VehicleType          37490\n",
      "RegistrationYear         0\n",
      "Gearbox              19833\n",
      "Power                    0\n",
      "Model                19705\n",
      "Kilometer                0\n",
      "RegistrationMonth        0\n",
      "FuelType             32895\n",
      "Brand                    0\n",
      "NotRepaired          71154\n",
      "DateCreated              0\n",
      "NumberOfPictures         0\n",
      "PostalCode               0\n",
      "LastSeen                 0\n",
      "dtype: int64\n"
     ]
    }
   ],
   "source": [
    "# проверяем на наличие пропущенных значение\n",
    "print('Всего NaN:',df.isnull().sum())"
   ]
  },
  {
   "cell_type": "code",
   "execution_count": 6,
   "metadata": {},
   "outputs": [
    {
     "data": {
      "text/plain": [
       "['VehicleType', 'Gearbox', 'Model', 'FuelType', 'NotRepaired']"
      ]
     },
     "execution_count": 6,
     "metadata": {},
     "output_type": "execute_result"
    }
   ],
   "source": [
    "# список столбцов с NaN\n",
    "df.columns[df.isna().any()].tolist()"
   ]
  },
  {
   "cell_type": "code",
   "execution_count": 7,
   "metadata": {},
   "outputs": [
    {
     "name": "stdout",
     "output_type": "stream",
     "text": [
      "Number of duplicates 4\n"
     ]
    }
   ],
   "source": [
    "# проверка на дубликаты\n",
    "print('Number of duplicates',df.duplicated().sum())"
   ]
  },
  {
   "cell_type": "code",
   "execution_count": 8,
   "metadata": {},
   "outputs": [
    {
     "name": "stdout",
     "output_type": "stream",
     "text": [
      "[nan 'coupe' 'suv' 'small' 'sedan' 'convertible' 'bus' 'wagon' 'other']\n",
      "['petrol' 'gasoline' nan 'lpg' 'other' 'hybrid' 'cng' 'electric']\n",
      "['volkswagen' 'audi' 'jeep' 'skoda' 'bmw' 'peugeot' 'ford' 'mazda'\n",
      " 'nissan' 'renault' 'mercedes_benz' 'opel' 'seat' 'citroen' 'honda' 'fiat'\n",
      " 'mini' 'smart' 'hyundai' 'sonstige_autos' 'alfa_romeo' 'subaru' 'volvo'\n",
      " 'mitsubishi' 'kia' 'suzuki' 'lancia' 'toyota' 'chevrolet' 'dacia'\n",
      " 'daihatsu' 'trabant' 'saab' 'chrysler' 'jaguar' 'daewoo' 'porsche'\n",
      " 'rover' 'land_rover' 'lada']\n",
      "['manual' 'auto' nan]\n",
      "['golf' nan 'grand' 'fabia' '3er' '2_reihe' 'other' 'c_max' '3_reihe'\n",
      " 'passat' 'navara' 'ka' 'polo' 'twingo' 'a_klasse' 'scirocco' '5er'\n",
      " 'meriva' 'arosa' 'c4' 'civic' 'transporter' 'punto' 'e_klasse' 'clio'\n",
      " 'kadett' 'kangoo' 'corsa' 'one' 'fortwo' '1er' 'b_klasse' 'signum'\n",
      " 'astra' 'a8' 'jetta' 'fiesta' 'c_klasse' 'micra' 'vito' 'sprinter' '156'\n",
      " 'escort' 'forester' 'xc_reihe' 'scenic' 'a4' 'a1' 'insignia' 'combo'\n",
      " 'focus' 'tt' 'a6' 'jazz' 'omega' 'slk' '7er' '80' '147' '100' 'z_reihe'\n",
      " 'sportage' 'sorento' 'v40' 'ibiza' 'mustang' 'eos' 'touran' 'getz' 'a3'\n",
      " 'almera' 'megane' 'lupo' 'r19' 'zafira' 'caddy' 'mondeo' 'cordoba' 'colt'\n",
      " 'impreza' 'vectra' 'berlingo' 'tiguan' 'i_reihe' 'espace' 'sharan'\n",
      " '6_reihe' 'panda' 'up' 'seicento' 'ceed' '5_reihe' 'yeti' 'octavia' 'mii'\n",
      " 'rx_reihe' '6er' 'modus' 'fox' 'matiz' 'beetle' 'c1' 'rio' 'touareg'\n",
      " 'logan' 'spider' 'cuore' 's_max' 'a2' 'galaxy' 'c3' 'viano' 's_klasse'\n",
      " '1_reihe' 'avensis' 'roomster' 'sl' 'kaefer' 'santa' 'cooper' 'leon'\n",
      " '4_reihe' 'a5' '500' 'laguna' 'ptcruiser' 'clk' 'primera' 'x_reihe'\n",
      " 'exeo' '159' 'transit' 'juke' 'qashqai' 'carisma' 'accord' 'corolla'\n",
      " 'lanos' 'phaeton' 'verso' 'swift' 'rav' 'picanto' 'boxster' 'kalos'\n",
      " 'superb' 'stilo' 'alhambra' 'mx_reihe' 'roadster' 'ypsilon' 'cayenne'\n",
      " 'galant' 'justy' '90' 'sirion' 'crossfire' 'agila' 'duster' 'cr_reihe'\n",
      " 'v50' 'c_reihe' 'v_klasse' 'm_klasse' 'yaris' 'c5' 'aygo' 'cc' 'carnival'\n",
      " 'fusion' '911' 'bora' 'forfour' 'm_reihe' 'cl' 'tigra' '300c' 'spark'\n",
      " 'v70' 'kuga' 'x_type' 'ducato' 's_type' 'x_trail' 'toledo' 'altea'\n",
      " 'voyager' 'calibra' 'bravo' 'antara' 'tucson' 'citigo' 'jimny' 'wrangler'\n",
      " 'lybra' 'q7' 'lancer' 'captiva' 'c2' 'discovery' 'freelander' 'sandero'\n",
      " 'note' '900' 'cherokee' 'clubman' 'samara' 'defender' '601' 'cx_reihe'\n",
      " 'legacy' 'pajero' 'auris' 'niva' 's60' 'nubira' 'vivaro' 'g_klasse'\n",
      " 'lodgy' '850' 'range_rover' 'q3' 'serie_2' 'glk' 'charade' 'croma'\n",
      " 'outlander' 'doblo' 'musa' 'move' '9000' 'v60' '145' 'aveo' '200' 'b_max'\n",
      " 'range_rover_sport' 'terios' 'rangerover' 'q5' 'range_rover_evoque'\n",
      " 'materia' 'delta' 'gl' 'kalina' 'amarok' 'elefantino' 'i3' 'kappa'\n",
      " 'serie_3' 'serie_1']\n"
     ]
    }
   ],
   "source": [
    "# проверка регистра в 'VehicleType', 'FuelType', 'Brand', 'Gearbox', 'Model'\n",
    "object_type_cols = ['VehicleType', 'FuelType', 'Brand', 'Gearbox', 'Model']\n",
    "for i in object_type_cols:\n",
    "    print(df[i].unique())"
   ]
  },
  {
   "cell_type": "code",
   "execution_count": 9,
   "metadata": {},
   "outputs": [
    {
     "data": {
      "text/html": [
       "<div>\n",
       "<style scoped>\n",
       "    .dataframe tbody tr th:only-of-type {\n",
       "        vertical-align: middle;\n",
       "    }\n",
       "\n",
       "    .dataframe tbody tr th {\n",
       "        vertical-align: top;\n",
       "    }\n",
       "\n",
       "    .dataframe thead th {\n",
       "        text-align: right;\n",
       "    }\n",
       "</style>\n",
       "<table border=\"1\" class=\"dataframe\">\n",
       "  <thead>\n",
       "    <tr style=\"text-align: right;\">\n",
       "      <th></th>\n",
       "      <th>Price</th>\n",
       "      <th>RegistrationYear</th>\n",
       "      <th>Power</th>\n",
       "      <th>Kilometer</th>\n",
       "      <th>RegistrationMonth</th>\n",
       "      <th>NumberOfPictures</th>\n",
       "      <th>PostalCode</th>\n",
       "    </tr>\n",
       "  </thead>\n",
       "  <tbody>\n",
       "    <tr>\n",
       "      <th>count</th>\n",
       "      <td>354369.000000</td>\n",
       "      <td>354369.000000</td>\n",
       "      <td>354369.000000</td>\n",
       "      <td>354369.000000</td>\n",
       "      <td>354369.000000</td>\n",
       "      <td>354369.0</td>\n",
       "      <td>354369.000000</td>\n",
       "    </tr>\n",
       "    <tr>\n",
       "      <th>mean</th>\n",
       "      <td>4416.656776</td>\n",
       "      <td>2004.234448</td>\n",
       "      <td>110.094337</td>\n",
       "      <td>128211.172535</td>\n",
       "      <td>5.714645</td>\n",
       "      <td>0.0</td>\n",
       "      <td>50508.689087</td>\n",
       "    </tr>\n",
       "    <tr>\n",
       "      <th>std</th>\n",
       "      <td>4514.158514</td>\n",
       "      <td>90.227958</td>\n",
       "      <td>189.850405</td>\n",
       "      <td>37905.341530</td>\n",
       "      <td>3.726421</td>\n",
       "      <td>0.0</td>\n",
       "      <td>25783.096248</td>\n",
       "    </tr>\n",
       "    <tr>\n",
       "      <th>min</th>\n",
       "      <td>0.000000</td>\n",
       "      <td>1000.000000</td>\n",
       "      <td>0.000000</td>\n",
       "      <td>5000.000000</td>\n",
       "      <td>0.000000</td>\n",
       "      <td>0.0</td>\n",
       "      <td>1067.000000</td>\n",
       "    </tr>\n",
       "    <tr>\n",
       "      <th>25%</th>\n",
       "      <td>1050.000000</td>\n",
       "      <td>1999.000000</td>\n",
       "      <td>69.000000</td>\n",
       "      <td>125000.000000</td>\n",
       "      <td>3.000000</td>\n",
       "      <td>0.0</td>\n",
       "      <td>30165.000000</td>\n",
       "    </tr>\n",
       "    <tr>\n",
       "      <th>50%</th>\n",
       "      <td>2700.000000</td>\n",
       "      <td>2003.000000</td>\n",
       "      <td>105.000000</td>\n",
       "      <td>150000.000000</td>\n",
       "      <td>6.000000</td>\n",
       "      <td>0.0</td>\n",
       "      <td>49413.000000</td>\n",
       "    </tr>\n",
       "    <tr>\n",
       "      <th>75%</th>\n",
       "      <td>6400.000000</td>\n",
       "      <td>2008.000000</td>\n",
       "      <td>143.000000</td>\n",
       "      <td>150000.000000</td>\n",
       "      <td>9.000000</td>\n",
       "      <td>0.0</td>\n",
       "      <td>71083.000000</td>\n",
       "    </tr>\n",
       "    <tr>\n",
       "      <th>max</th>\n",
       "      <td>20000.000000</td>\n",
       "      <td>9999.000000</td>\n",
       "      <td>20000.000000</td>\n",
       "      <td>150000.000000</td>\n",
       "      <td>12.000000</td>\n",
       "      <td>0.0</td>\n",
       "      <td>99998.000000</td>\n",
       "    </tr>\n",
       "  </tbody>\n",
       "</table>\n",
       "</div>"
      ],
      "text/plain": [
       "               Price  RegistrationYear          Power      Kilometer  \\\n",
       "count  354369.000000     354369.000000  354369.000000  354369.000000   \n",
       "mean     4416.656776       2004.234448     110.094337  128211.172535   \n",
       "std      4514.158514         90.227958     189.850405   37905.341530   \n",
       "min         0.000000       1000.000000       0.000000    5000.000000   \n",
       "25%      1050.000000       1999.000000      69.000000  125000.000000   \n",
       "50%      2700.000000       2003.000000     105.000000  150000.000000   \n",
       "75%      6400.000000       2008.000000     143.000000  150000.000000   \n",
       "max     20000.000000       9999.000000   20000.000000  150000.000000   \n",
       "\n",
       "       RegistrationMonth  NumberOfPictures     PostalCode  \n",
       "count      354369.000000          354369.0  354369.000000  \n",
       "mean            5.714645               0.0   50508.689087  \n",
       "std             3.726421               0.0   25783.096248  \n",
       "min             0.000000               0.0    1067.000000  \n",
       "25%             3.000000               0.0   30165.000000  \n",
       "50%             6.000000               0.0   49413.000000  \n",
       "75%             9.000000               0.0   71083.000000  \n",
       "max            12.000000               0.0   99998.000000  "
      ]
     },
     "execution_count": 9,
     "metadata": {},
     "output_type": "execute_result"
    }
   ],
   "source": [
    "# проверка численных значений методом descibe()\n",
    "df.describe()"
   ]
  },
  {
   "cell_type": "markdown",
   "metadata": {},
   "source": [
    "Цена('Price') — наша таргет переменная. Проверим корреляцию между переменными и ценой, прежде чем строить матрицу. Разделим числовые столбцы на 2 части для удобства.Также исключим «NumberOfPictures», поскольку этот столбец содержит только 0, и исключим «PostalCode», поскольку почтовый индекс не влияет на цену автомобиля."
   ]
  },
  {
   "cell_type": "code",
   "execution_count": 10,
   "metadata": {},
   "outputs": [
    {
     "data": {
      "text/html": [
       "<div>\n",
       "<style scoped>\n",
       "    .dataframe tbody tr th:only-of-type {\n",
       "        vertical-align: middle;\n",
       "    }\n",
       "\n",
       "    .dataframe tbody tr th {\n",
       "        vertical-align: top;\n",
       "    }\n",
       "\n",
       "    .dataframe thead th {\n",
       "        text-align: right;\n",
       "    }\n",
       "</style>\n",
       "<table border=\"1\" class=\"dataframe\">\n",
       "  <thead>\n",
       "    <tr style=\"text-align: right;\">\n",
       "      <th></th>\n",
       "      <th>Price</th>\n",
       "      <th>RegistrationYear</th>\n",
       "      <th>RegistrationMonth</th>\n",
       "    </tr>\n",
       "  </thead>\n",
       "  <tbody>\n",
       "    <tr>\n",
       "      <th>Price</th>\n",
       "      <td>1.000000</td>\n",
       "      <td>0.026916</td>\n",
       "      <td>0.110581</td>\n",
       "    </tr>\n",
       "    <tr>\n",
       "      <th>RegistrationYear</th>\n",
       "      <td>0.026916</td>\n",
       "      <td>1.000000</td>\n",
       "      <td>-0.011619</td>\n",
       "    </tr>\n",
       "    <tr>\n",
       "      <th>RegistrationMonth</th>\n",
       "      <td>0.110581</td>\n",
       "      <td>-0.011619</td>\n",
       "      <td>1.000000</td>\n",
       "    </tr>\n",
       "  </tbody>\n",
       "</table>\n",
       "</div>"
      ],
      "text/plain": [
       "                      Price  RegistrationYear  RegistrationMonth\n",
       "Price              1.000000          0.026916           0.110581\n",
       "RegistrationYear   0.026916          1.000000          -0.011619\n",
       "RegistrationMonth  0.110581         -0.011619           1.000000"
      ]
     },
     "metadata": {},
     "output_type": "display_data"
    },
    {
     "data": {
      "text/html": [
       "<div>\n",
       "<style scoped>\n",
       "    .dataframe tbody tr th:only-of-type {\n",
       "        vertical-align: middle;\n",
       "    }\n",
       "\n",
       "    .dataframe tbody tr th {\n",
       "        vertical-align: top;\n",
       "    }\n",
       "\n",
       "    .dataframe thead th {\n",
       "        text-align: right;\n",
       "    }\n",
       "</style>\n",
       "<table border=\"1\" class=\"dataframe\">\n",
       "  <thead>\n",
       "    <tr style=\"text-align: right;\">\n",
       "      <th></th>\n",
       "      <th>Price</th>\n",
       "      <th>Power</th>\n",
       "      <th>Kilometer</th>\n",
       "    </tr>\n",
       "  </thead>\n",
       "  <tbody>\n",
       "    <tr>\n",
       "      <th>Price</th>\n",
       "      <td>1.000000</td>\n",
       "      <td>0.158872</td>\n",
       "      <td>-0.333199</td>\n",
       "    </tr>\n",
       "    <tr>\n",
       "      <th>Power</th>\n",
       "      <td>0.158872</td>\n",
       "      <td>1.000000</td>\n",
       "      <td>0.024002</td>\n",
       "    </tr>\n",
       "    <tr>\n",
       "      <th>Kilometer</th>\n",
       "      <td>-0.333199</td>\n",
       "      <td>0.024002</td>\n",
       "      <td>1.000000</td>\n",
       "    </tr>\n",
       "  </tbody>\n",
       "</table>\n",
       "</div>"
      ],
      "text/plain": [
       "              Price     Power  Kilometer\n",
       "Price      1.000000  0.158872  -0.333199\n",
       "Power      0.158872  1.000000   0.024002\n",
       "Kilometer -0.333199  0.024002   1.000000"
      ]
     },
     "metadata": {},
     "output_type": "display_data"
    }
   ],
   "source": [
    "numeric_cols1 = df[['Price','RegistrationYear','RegistrationMonth']] \n",
    "numeric_cols2 = df[['Price','Power','Kilometer']]\n",
    "\n",
    "# нахождение корреляции\n",
    "display(numeric_cols1.corr())\n",
    "display(numeric_cols2.corr())"
   ]
  },
  {
   "cell_type": "raw",
   "metadata": {},
   "source": [
    "# построение матрицы рассеяния для вышеупомянутых переменных\n",
    "pd.plotting.scatter_matrix(numeric_cols1, figsize=(10, 10)) \n",
    "pd.plotting.scatter_matrix(numeric_cols2, figsize=(10, 10)) \n",
    "plt.show()"
   ]
  },
  {
   "cell_type": "raw",
   "metadata": {},
   "source": [
    " # построение графиков для вышеупомянутых переменных\n",
    "f, axes = plt.subplots(3, 2, figsize=(13, 10))\n",
    "sns.distplot(df['Price'], kde=False, color=\"skyblue\", ax=axes[0, 0] )\n",
    "sns.distplot(df['RegistrationYear'], color=\"olive\", ax=axes[0, 1])\n",
    "sns.distplot(df['Power'], color=\"gold\", ax=axes[1, 0])\n",
    "sns.distplot(df['Kilometer'], kde=False, color=\"red\", ax=axes[1, 1])\n",
    "sns.distplot(df['RegistrationMonth'], kde=False, color=\"green\", ax=axes[2, 0])\n",
    "sns.distplot(df['PostalCode'], kde=False, color=\"purple\", ax=axes[2, 1])\n",
    "f.tight_layout(pad=2.0)"
   ]
  },
  {
   "cell_type": "markdown",
   "metadata": {},
   "source": [
    "**Вывод:** Набор данных всего содержит 354 369 строк и 16 столбцов. Результаты:\n",
    "1. 'RegistrationYear' имеет значение 9999 — это невозможное значение для номера года. Кроме того, есть данные о годах, начиная с 1000 и т.д. года - время задолго до изобретения автомобилей.\n",
    "2. Столбец RegistrationMonth имеет значение 0 - это невозможное значение для обозначения номера месяца и требует проверки.\n",
    "3. Неверный тип данных для 'DateCrawled' и 'DateCreated' — оба имеют тип \"object\", а должны быть должны быть \"datetime64\".\n",
    "4. Значения NaN в столбцах 'VehicleType', 'Gearbox', 'Model', 'FuelType', 'NotRepaired' .\n",
    "5. Столбец 'NumberOfPictures' состоит только из 0 значений.\n",
    "6. Корреляция 'Price'(цены авто) с переменными 'RegistrationYear', 'RegistrationMonth' и 'Power' имеет положительный, но слабый эффект. Это означает, что если одна из переменных увеличивается, то другая зависимая тоже будет увеличиваться, но не сильно. 'Price' и 'Mileage', однако, имеют слабую отрицательную корреляцию, то есть, если одна из переменных увеличивается, вместо этого уменьшается другая. Это кажется логичным, потому что чем больше пробег автомобиля, тем хуже его общее состояние (что приравнивается к качеству товара).\n",
    "7. При построении матрицы рассеяния мы заметили выбросы данных и другие отклонения почти в каждом столбце с числовыми переменными:\n",
    "    * «RegistrationYear» имеет необычную плотность в пределах 2002 года.\n",
    "    * «RegistrationMonth» имеет много значений, распределенных вокруг 0, что странно\n",
    "    * Необычная плотность около 0 также отмечена для диаграммы рассеяния «Price» и «Power» автомобиля.\n",
    "\n",
    "Все эти проблемы могут быть либо ошибками при вводе данных (неправильный ввод пользователем намеренно или непреднамеренно), либо какой-то другой проблемой с данными. Мы не знаем источника этих исторических данных, поэтому мы не можем делать выводы о причинах этих аномальных значений данных. Эти данные должны быть обработаны в соответствии с нашими текущими потребностями."
   ]
  },
  {
   "cell_type": "markdown",
   "metadata": {},
   "source": [
    "<div class=\"alert alert-block alert-success\">\n",
    "<b>Успех:</b> Радует, что ты визуализировала распределения!\n",
    "</div>"
   ]
  },
  {
   "cell_type": "markdown",
   "metadata": {},
   "source": [
    "### Предобработка данных"
   ]
  },
  {
   "cell_type": "markdown",
   "metadata": {},
   "source": [
    "#### Обработка столбцов 'VehicleType', 'Gearbox', 'Model', 'FuelType' и 'NotRepaired'"
   ]
  },
  {
   "cell_type": "markdown",
   "metadata": {},
   "source": [
    "Oбработаем NaN значения в каждом из этих столбцов."
   ]
  },
  {
   "cell_type": "markdown",
   "metadata": {},
   "source": [
    "* **'VehicleType'**"
   ]
  },
  {
   "cell_type": "code",
   "execution_count": 11,
   "metadata": {},
   "outputs": [
    {
     "data": {
      "text/plain": [
       "sedan          91457\n",
       "small          79831\n",
       "wagon          65166\n",
       "bus            28775\n",
       "convertible    20203\n",
       "coupe          16163\n",
       "suv            11996\n",
       "other           3288\n",
       "Name: VehicleType, dtype: int64"
      ]
     },
     "execution_count": 11,
     "metadata": {},
     "output_type": "execute_result"
    }
   ],
   "source": [
    "# проверяем значения\n",
    "df['VehicleType'].value_counts()"
   ]
  },
  {
   "cell_type": "code",
   "execution_count": 12,
   "metadata": {},
   "outputs": [
    {
     "data": {
      "text/plain": [
       "37490"
      ]
     },
     "execution_count": 12,
     "metadata": {},
     "output_type": "execute_result"
    }
   ],
   "source": [
    "# находим пропущенные значения\n",
    "df['VehicleType'].isna().sum()"
   ]
  },
  {
   "cell_type": "markdown",
   "metadata": {},
   "source": [
    "Из данных выше видно, что среди прочих видов автомобилей в списке есть значение 'other'('другое'). Всего в столбце 37490 пропущенных значений(NaN). Мы не можем предполагать, что это были за значения, но мы можем заполнить их значением 'other'."
   ]
  },
  {
   "cell_type": "code",
   "execution_count": 13,
   "metadata": {},
   "outputs": [
    {
     "data": {
      "text/plain": [
       "0"
      ]
     },
     "execution_count": 13,
     "metadata": {},
     "output_type": "execute_result"
    }
   ],
   "source": [
    "# заполнение остальных пропущенных значений «other»\n",
    "df['VehicleType'] = df['VehicleType'].fillna('other')\n",
    "\n",
    "# находим пропущенные значения\n",
    "df['VehicleType'].isna().sum()"
   ]
  },
  {
   "cell_type": "code",
   "execution_count": 14,
   "metadata": {},
   "outputs": [
    {
     "data": {
      "text/plain": [
       "354369"
      ]
     },
     "execution_count": 14,
     "metadata": {},
     "output_type": "execute_result"
    }
   ],
   "source": [
    "# проверяем значения\n",
    "df['VehicleType'].value_counts().sum()"
   ]
  },
  {
   "cell_type": "markdown",
   "metadata": {},
   "source": [
    "Готово."
   ]
  },
  {
   "cell_type": "markdown",
   "metadata": {},
   "source": [
    "* **'Gearbox'**"
   ]
  },
  {
   "cell_type": "code",
   "execution_count": 15,
   "metadata": {},
   "outputs": [
    {
     "data": {
      "text/plain": [
       "manual    268251\n",
       "auto       66285\n",
       "Name: Gearbox, dtype: int64"
      ]
     },
     "execution_count": 15,
     "metadata": {},
     "output_type": "execute_result"
    }
   ],
   "source": [
    "# проверяем значения\n",
    "df['Gearbox'].value_counts()"
   ]
  },
  {
   "cell_type": "code",
   "execution_count": 16,
   "metadata": {},
   "outputs": [
    {
     "data": {
      "text/plain": [
       "19833"
      ]
     },
     "execution_count": 16,
     "metadata": {},
     "output_type": "execute_result"
    }
   ],
   "source": [
    "# находим пропущенные значения\n",
    "df['Gearbox'].isna().sum()"
   ]
  },
  {
   "cell_type": "markdown",
   "metadata": {},
   "source": [
    "Технически, в наше время существуют машины без коробки передач (например, Koenigsegg Regera) и в теории исключать вероятность что 19833 пропущенных значений в столбце 'GearBox' означают, что в машине нет коробки передач. Однако таких машин немного и это современная, не столько распространенная технология применяемая для дорогих автомобилей. Мы можем предположить, что эти пропуски  - скорее всего результат ошибки при вводе данных. \n",
    "\n",
    "Без проведения глубокого анализа мы не можем определить какие авто с, а какие без коробки передач, поэтому заполним пропуски значением 'unknown'('неизвестно')"
   ]
  },
  {
   "cell_type": "code",
   "execution_count": 17,
   "metadata": {},
   "outputs": [],
   "source": [
    "# заполнение остальных пропущенных значений «other»\n",
    "df['Gearbox'] = df['Gearbox'].fillna('unknown')"
   ]
  },
  {
   "cell_type": "code",
   "execution_count": 18,
   "metadata": {},
   "outputs": [
    {
     "data": {
      "text/plain": [
       "0"
      ]
     },
     "execution_count": 18,
     "metadata": {},
     "output_type": "execute_result"
    }
   ],
   "source": [
    "# проверка \n",
    "\n",
    "# находим пропущенные значения\n",
    "df['Gearbox'].isna().sum()"
   ]
  },
  {
   "cell_type": "markdown",
   "metadata": {},
   "source": [
    "Готово."
   ]
  },
  {
   "cell_type": "markdown",
   "metadata": {},
   "source": [
    "* **'Model'**"
   ]
  },
  {
   "cell_type": "code",
   "execution_count": 19,
   "metadata": {},
   "outputs": [
    {
     "data": {
      "text/plain": [
       "golf                  29232\n",
       "other                 24421\n",
       "3er                   19761\n",
       "polo                  13066\n",
       "corsa                 12570\n",
       "                      ...  \n",
       "i3                        8\n",
       "serie_3                   4\n",
       "rangerover                4\n",
       "range_rover_evoque        2\n",
       "serie_1                   2\n",
       "Name: Model, Length: 250, dtype: int64"
      ]
     },
     "execution_count": 19,
     "metadata": {},
     "output_type": "execute_result"
    }
   ],
   "source": [
    "# проверяем значения\n",
    "df['Model'].value_counts()"
   ]
  },
  {
   "cell_type": "code",
   "execution_count": 20,
   "metadata": {},
   "outputs": [
    {
     "data": {
      "text/plain": [
       "19705"
      ]
     },
     "execution_count": 20,
     "metadata": {},
     "output_type": "execute_result"
    }
   ],
   "source": [
    "# находим пропущенные значения\n",
    "df['Model'].isna().sum()"
   ]
  },
  {
   "cell_type": "markdown",
   "metadata": {},
   "source": [
    "Как и в предыдущем шаге, заполняем пропущенные значения на 'other'"
   ]
  },
  {
   "cell_type": "code",
   "execution_count": 21,
   "metadata": {},
   "outputs": [
    {
     "data": {
      "text/plain": [
       "0"
      ]
     },
     "execution_count": 21,
     "metadata": {},
     "output_type": "execute_result"
    }
   ],
   "source": [
    "# заполнение остальных пропущенных значений «other»\n",
    "df['Model'] = df['Model'].fillna('other')\n",
    "\n",
    "# находим пропущенные значения\n",
    "df['Model'].isna().sum()"
   ]
  },
  {
   "cell_type": "code",
   "execution_count": 22,
   "metadata": {},
   "outputs": [
    {
     "data": {
      "text/plain": [
       "354369"
      ]
     },
     "execution_count": 22,
     "metadata": {},
     "output_type": "execute_result"
    }
   ],
   "source": [
    "# проверяем значения\n",
    "df['Model'].value_counts().sum()"
   ]
  },
  {
   "cell_type": "markdown",
   "metadata": {},
   "source": [
    "Готово"
   ]
  },
  {
   "cell_type": "markdown",
   "metadata": {},
   "source": [
    "* **'FuelType'**"
   ]
  },
  {
   "cell_type": "code",
   "execution_count": 23,
   "metadata": {},
   "outputs": [
    {
     "data": {
      "text/plain": [
       "petrol      216352\n",
       "gasoline     98720\n",
       "lpg           5310\n",
       "cng            565\n",
       "hybrid         233\n",
       "other          204\n",
       "electric        90\n",
       "Name: FuelType, dtype: int64"
      ]
     },
     "execution_count": 23,
     "metadata": {},
     "output_type": "execute_result"
    }
   ],
   "source": [
    "# проверяем значения\n",
    "df['FuelType'].value_counts()"
   ]
  },
  {
   "cell_type": "code",
   "execution_count": 24,
   "metadata": {},
   "outputs": [
    {
     "data": {
      "text/plain": [
       "32895"
      ]
     },
     "execution_count": 24,
     "metadata": {},
     "output_type": "execute_result"
    }
   ],
   "source": [
    "# находим пропущенные значения\n",
    "df['FuelType'].isna().sum()"
   ]
  },
  {
   "cell_type": "markdown",
   "metadata": {},
   "source": [
    "Из данных выше видно, что среди прочих видов топлива в списке есть значение 'other'('другое'). Всего в столбце 32895 пропущенных значений(NaN). Мы не можем предполагать, что это были за значения, но мы можем заполнить их значением 'other'."
   ]
  },
  {
   "cell_type": "code",
   "execution_count": 25,
   "metadata": {},
   "outputs": [],
   "source": [
    "# заполнение остальных пропущенных значений «other»\n",
    "df['FuelType'] = df['FuelType'].fillna('other')"
   ]
  },
  {
   "cell_type": "code",
   "execution_count": 26,
   "metadata": {},
   "outputs": [
    {
     "data": {
      "text/plain": [
       "petrol      216352\n",
       "gasoline     98720\n",
       "other        33099\n",
       "lpg           5310\n",
       "cng            565\n",
       "hybrid         233\n",
       "electric        90\n",
       "Name: FuelType, dtype: int64"
      ]
     },
     "execution_count": 26,
     "metadata": {},
     "output_type": "execute_result"
    }
   ],
   "source": [
    "# проверка \n",
    "\n",
    "# проверка значений\n",
    "df['FuelType'].value_counts()"
   ]
  },
  {
   "cell_type": "markdown",
   "metadata": {},
   "source": [
    "Готово"
   ]
  },
  {
   "cell_type": "markdown",
   "metadata": {},
   "source": [
    "* **'NotRepaired'**"
   ]
  },
  {
   "cell_type": "code",
   "execution_count": 27,
   "metadata": {},
   "outputs": [
    {
     "data": {
      "text/plain": [
       "no     247161\n",
       "yes     36054\n",
       "Name: NotRepaired, dtype: int64"
      ]
     },
     "execution_count": 27,
     "metadata": {},
     "output_type": "execute_result"
    }
   ],
   "source": [
    "# проверяем значения\n",
    "df['NotRepaired'].value_counts()"
   ]
  },
  {
   "cell_type": "code",
   "execution_count": 28,
   "metadata": {},
   "outputs": [
    {
     "data": {
      "text/plain": [
       "71154"
      ]
     },
     "execution_count": 28,
     "metadata": {},
     "output_type": "execute_result"
    }
   ],
   "source": [
    "# находим пропущенные значения\n",
    "df['NotRepaired'].isna().sum()"
   ]
  },
  {
   "cell_type": "markdown",
   "metadata": {},
   "source": [
    "Из данных выше видно, что всего в столбце 71154 пропущенных значений(NaN). Мы не можем предполагать, что это были за значения, но мы можем заполнить их значением 'other'."
   ]
  },
  {
   "cell_type": "code",
   "execution_count": 29,
   "metadata": {},
   "outputs": [],
   "source": [
    "# заполнение остальных пропущенных значений «other»\n",
    "df['NotRepaired'] = df['NotRepaired'].fillna('other')"
   ]
  },
  {
   "cell_type": "code",
   "execution_count": 30,
   "metadata": {},
   "outputs": [
    {
     "data": {
      "text/plain": [
       "0"
      ]
     },
     "execution_count": 30,
     "metadata": {},
     "output_type": "execute_result"
    }
   ],
   "source": [
    "# находим пропущенные значения\n",
    "df['NotRepaired'].isna().sum()"
   ]
  },
  {
   "cell_type": "markdown",
   "metadata": {},
   "source": [
    "**Вывод** мы обработали каждый из вышеупомянутых столбцов данных и заполнили пропуски. Однако для обучения нашей модели необходимо преобразовать категориальные признаки в численные, так как принадлежность к категории логистическая регрессия вычисляет по формуле, состоящей из признаков. Они могут быть только численные. Позже мы преобразуем признаки с помощью прямого кодирования (One-Hot Encoding)."
   ]
  },
  {
   "cell_type": "markdown",
   "metadata": {},
   "source": [
    "#### Обработка столбцa 'RegistrationYear'"
   ]
  },
  {
   "cell_type": "markdown",
   "metadata": {},
   "source": [
    "Ранее мы заметили, что столбец «RegistrationYear» имеет абнормальные значения, такие как год 1000 или 9999. Внимательнее посмотрим на данные:"
   ]
  },
  {
   "cell_type": "code",
   "execution_count": 31,
   "metadata": {},
   "outputs": [
    {
     "data": {
      "text/plain": [
       "2000    24490\n",
       "1999    22728\n",
       "2005    22109\n",
       "2001    20124\n",
       "2006    19900\n",
       "        ...  \n",
       "6500        1\n",
       "2290        1\n",
       "1001        1\n",
       "9450        1\n",
       "3500        1\n",
       "Name: RegistrationYear, Length: 151, dtype: int64"
      ]
     },
     "execution_count": 31,
     "metadata": {},
     "output_type": "execute_result"
    }
   ],
   "source": [
    "#  проверка значений\n",
    "df['RegistrationYear'].value_counts()"
   ]
  },
  {
   "cell_type": "markdown",
   "metadata": {},
   "source": [
    "Диапазон данных слишком велик, кроме того, нам не нужны слишком старые или слишком нереалистичные данные, потому что они находятся далеко в «будущем» или «прошлом». Однако некоторые из пользователей могут продавать антикварные автомобили, поэтому в нашем случае мы также не можем исключить данные за 20 век. Год изобретения автомобиля 1886. Посмотрим значения данных для автомобилей с начала 20 века до настоящего года (2022)."
   ]
  },
  {
   "cell_type": "code",
   "execution_count": 32,
   "metadata": {},
   "outputs": [
    {
     "data": {
      "text/plain": [
       "count    354198.000000\n",
       "mean       2003.084789\n",
       "std           7.536418\n",
       "min        1910.000000\n",
       "25%        1999.000000\n",
       "50%        2003.000000\n",
       "75%        2008.000000\n",
       "max        2019.000000\n",
       "Name: RegistrationYear, dtype: float64"
      ]
     },
     "execution_count": 32,
     "metadata": {},
     "output_type": "execute_result"
    }
   ],
   "source": [
    "# \"слайсинг\" данных до соответствующего диапазона\n",
    "real_data = df.query('RegistrationYear >= 1900 and RegistrationYear < 2022')\n",
    "real_data['RegistrationYear'].describe()"
   ]
  },
  {
   "cell_type": "markdown",
   "metadata": {},
   "source": [
    "Мы видим, что 50% наших данных сосредоточены между 2003 и 2019 годами (последний зарегистрированный год в данных). Также видно, что менее 25% данных распределено по автомобилям старше 1999 года выпуска. Поскольку процент автомобилей старше 1999 года слишком мал, мы можем его удалить. Также удалим данные после 2019 года, чтобы избавиться от выбросов данных."
   ]
  },
  {
   "cell_type": "code",
   "execution_count": 33,
   "metadata": {},
   "outputs": [
    {
     "data": {
      "text/plain": [
       "count    274739.000000\n",
       "mean       2005.792909\n",
       "std           5.128485\n",
       "min        1999.000000\n",
       "25%        2002.000000\n",
       "50%        2005.000000\n",
       "75%        2009.000000\n",
       "max        2019.000000\n",
       "Name: RegistrationYear, dtype: float64"
      ]
     },
     "execution_count": 33,
     "metadata": {},
     "output_type": "execute_result"
    }
   ],
   "source": [
    "# Еще больше сокращаем диапазон\n",
    "df = df.query('RegistrationYear >= 1999 and RegistrationYear <= 2019')\n",
    "\n",
    "# проверка значение\n",
    "df['RegistrationYear'].describe()"
   ]
  },
  {
   "cell_type": "code",
   "execution_count": 34,
   "metadata": {},
   "outputs": [
    {
     "data": {
      "image/png": "[encoded data removed]",
      "text/plain": [
       "<Figure size 432x288 with 1 Axes>"
      ]
     },
     "metadata": {
      "needs_background": "light"
     },
     "output_type": "display_data"
    }
   ],
   "source": [
    "# построение \"ящика с усами\"\n",
    "df.boxplot(column='RegistrationYear', return_type='axes')\n",
    "plt.show()"
   ]
  },
  {
   "cell_type": "markdown",
   "metadata": {},
   "source": [
    "Диаграмма \"Ящик с усами\" показывает, что большая часть данных сосредоточена между 2002 и 2009 годами, но нет выбросов. Этот столбец обработан, и мы можем двигаться дальше."
   ]
  },
  {
   "cell_type": "markdown",
   "metadata": {},
   "source": [
    "С этого момента мы будем использовать урезанную версию набора данных («modern_data»)."
   ]
  },
  {
   "cell_type": "markdown",
   "metadata": {},
   "source": [
    "#### Обработка столбцa 'RegistrationMonth"
   ]
  },
  {
   "cell_type": "markdown",
   "metadata": {},
   "source": [
    "Подробнее рассмотрим «RegistrationMonth» и выясним, почему он имеет значение 0, но мы будем использовать усеченный фрейм данных из предыдущего шага под названием «modern_data» (с годами 1999–2019)."
   ]
  },
  {
   "cell_type": "raw",
   "metadata": {},
   "source": [
    "# проверка значение\n",
    "zeroes = modern_data['RegistrationMonth'].value_counts().sort_index()\n",
    "print(zeroes)"
   ]
  },
  {
   "cell_type": "raw",
   "metadata": {},
   "source": [
    "# построение графика\n",
    "zeroes.plot.bar()\n",
    "plt.show()"
   ]
  },
  {
   "cell_type": "markdown",
   "metadata": {},
   "source": [
    "Как мы видим, столбец «RegistrationMonth» не только имеет нулевые значения (когда каждое из значений от 1 до 12 должно представлять каждый месяц в году с января по декабрь), но также является третьим по величине значением по количеству строк (всего 23976 строк). Слишком много данных, чтобы просто отбросить их.\n",
    "\n",
    "Проверим, есть ли конкретный год, в котором сосредоточено большинство \"нулевых\" месяцев."
   ]
  },
  {
   "cell_type": "raw",
   "metadata": {},
   "source": [
    "# поиск года с наибольшим количеством значений месяца «0»\n",
    "month_zeroes = modern_data.query('RegistrationMonth == 0')\n",
    "month_zeroes['RegistrationYear'].value_counts()"
   ]
  },
  {
   "cell_type": "markdown",
   "metadata": {},
   "source": [
    "Видно, что большинство записей с месяцем регистрации обозначенным как «0» относятся к 2000 году (всего 4871 значение). Мы не знаем причину присутствия этого значения в наборе данных, но можем предположить, что были определенные пользователи, которые ввели 0 в анкете (возможно, чтобы скрыть личную информацию). У нас нет идентификаторов пользователей в нашем наборе данных, но у нас есть почтовые индексы, которые указывают на определенное местоположение пользователя."
   ]
  },
  {
   "cell_type": "raw",
   "metadata": {},
   "source": [
    "# поиск почтовых адресов с наибольшим количеством значений месяца «0»\n",
    "postal_codes_zeros = modern_data.query('RegistrationMonth == 0')\n",
    "postal_codes_zeros['PostalCode'].value_counts()"
   ]
  },
  {
   "cell_type": "raw",
   "metadata": {},
   "source": [
    "# проверка распределения данных\n",
    "postal_codes_zeros['PostalCode'].describe()"
   ]
  },
  {
   "cell_type": "markdown",
   "metadata": {},
   "source": [
    "В общей сложности: 5575 пользователей с разными почтовыми индексами ввели 0 в качестве месяца регистрации автомобиля, но есть пользователи с почтовыми индексами, такими как 60314, 51371 и т. д., которые имеют более 1 записи данных с \"нулевым\" месяцем. Например, пользователь или пользователи с почтовыми индексами 60314 имеют в общей сложности 71 значение месяца \"0\" в качестве месяца регистрации их автомобиля. Это кажется подозрительным.\n",
    "\n",
    "**Итог:** Мы не будем удалять эти данные, потому что месяц регистрации автомобиля не влияет на стоимость авто, но важно принять к сведению эту информацию и, возможно, принять меры для предотвращения возможных мошеннических действий пользователями."
   ]
  },
  {
   "cell_type": "markdown",
   "metadata": {},
   "source": [
    "#### Обработка оставшихся столбцов"
   ]
  },
  {
   "cell_type": "markdown",
   "metadata": {},
   "source": [
    "При первичном анализе данных мы обнаружили, что 'NumberOfPictures' состоит только из 0. Убедимся в этом."
   ]
  },
  {
   "cell_type": "code",
   "execution_count": 35,
   "metadata": {},
   "outputs": [
    {
     "data": {
      "text/plain": [
       "0    274739\n",
       "Name: NumberOfPictures, dtype: int64"
      ]
     },
     "execution_count": 35,
     "metadata": {},
     "output_type": "execute_result"
    }
   ],
   "source": [
    "#  проверка значений\n",
    "df['NumberOfPictures'].value_counts()"
   ]
  },
  {
   "cell_type": "markdown",
   "metadata": {},
   "source": [
    "Так и есть. В таком случае у нас нет необходимости в данном столбце. Удалим его, а также удалим столбцы  'DateCrawled', 'DateCreated', 'LastSeen', 'Power' так как в них нет неоходимости при анализе данных."
   ]
  },
  {
   "cell_type": "code",
   "execution_count": 36,
   "metadata": {},
   "outputs": [
    {
     "name": "stdout",
     "output_type": "stream",
     "text": [
      "<class 'pandas.core.frame.DataFrame'>\n",
      "Int64Index: 274739 entries, 1 to 354368\n",
      "Data columns (total 10 columns):\n",
      " #   Column            Non-Null Count   Dtype \n",
      "---  ------            --------------   ----- \n",
      " 0   Price             274739 non-null  int64 \n",
      " 1   VehicleType       274739 non-null  object\n",
      " 2   RegistrationYear  274739 non-null  int64 \n",
      " 3   Gearbox           274739 non-null  object\n",
      " 4   Power             274739 non-null  int64 \n",
      " 5   Model             274739 non-null  object\n",
      " 6   Kilometer         274739 non-null  int64 \n",
      " 7   FuelType          274739 non-null  object\n",
      " 8   Brand             274739 non-null  object\n",
      " 9   NotRepaired       274739 non-null  object\n",
      "dtypes: int64(4), object(6)\n",
      "memory usage: 23.1+ MB\n"
     ]
    }
   ],
   "source": [
    "df.drop(columns=['NumberOfPictures', 'DateCrawled', 'DateCreated', 'RegistrationMonth', 'LastSeen', 'PostalCode'], inplace=True)\n",
    "\n",
    "#  проверка\n",
    "df.info()"
   ]
  },
  {
   "cell_type": "markdown",
   "metadata": {},
   "source": [
    "Напоследок проверим и удалим дубликаты"
   ]
  },
  {
   "cell_type": "code",
   "execution_count": 37,
   "metadata": {},
   "outputs": [],
   "source": [
    "# удаление дубликатов\n",
    "df.drop_duplicates(inplace = True)"
   ]
  },
  {
   "cell_type": "code",
   "execution_count": 38,
   "metadata": {},
   "outputs": [
    {
     "data": {
      "text/plain": [
       "239572"
      ]
     },
     "execution_count": 38,
     "metadata": {},
     "output_type": "execute_result"
    }
   ],
   "source": [
    "# Проверка\n",
    "df.shape[0]"
   ]
  },
  {
   "cell_type": "code",
   "execution_count": 39,
   "metadata": {},
   "outputs": [
    {
     "name": "stdout",
     "output_type": "stream",
     "text": [
      "<class 'pandas.core.frame.DataFrame'>\n",
      "Int64Index: 239572 entries, 1 to 354368\n",
      "Data columns (total 10 columns):\n",
      " #   Column            Non-Null Count   Dtype \n",
      "---  ------            --------------   ----- \n",
      " 0   Price             239572 non-null  int64 \n",
      " 1   VehicleType       239572 non-null  object\n",
      " 2   RegistrationYear  239572 non-null  int64 \n",
      " 3   Gearbox           239572 non-null  object\n",
      " 4   Power             239572 non-null  int64 \n",
      " 5   Model             239572 non-null  object\n",
      " 6   Kilometer         239572 non-null  int64 \n",
      " 7   FuelType          239572 non-null  object\n",
      " 8   Brand             239572 non-null  object\n",
      " 9   NotRepaired       239572 non-null  object\n",
      "dtypes: int64(4), object(6)\n",
      "memory usage: 20.1+ MB\n"
     ]
    },
    {
     "data": {
      "text/html": [
       "<div>\n",
       "<style scoped>\n",
       "    .dataframe tbody tr th:only-of-type {\n",
       "        vertical-align: middle;\n",
       "    }\n",
       "\n",
       "    .dataframe tbody tr th {\n",
       "        vertical-align: top;\n",
       "    }\n",
       "\n",
       "    .dataframe thead th {\n",
       "        text-align: right;\n",
       "    }\n",
       "</style>\n",
       "<table border=\"1\" class=\"dataframe\">\n",
       "  <thead>\n",
       "    <tr style=\"text-align: right;\">\n",
       "      <th></th>\n",
       "      <th>Price</th>\n",
       "      <th>VehicleType</th>\n",
       "      <th>RegistrationYear</th>\n",
       "      <th>Gearbox</th>\n",
       "      <th>Power</th>\n",
       "      <th>Model</th>\n",
       "      <th>Kilometer</th>\n",
       "      <th>FuelType</th>\n",
       "      <th>Brand</th>\n",
       "      <th>NotRepaired</th>\n",
       "    </tr>\n",
       "  </thead>\n",
       "  <tbody>\n",
       "    <tr>\n",
       "      <th>1</th>\n",
       "      <td>18300</td>\n",
       "      <td>coupe</td>\n",
       "      <td>2011</td>\n",
       "      <td>manual</td>\n",
       "      <td>190</td>\n",
       "      <td>other</td>\n",
       "      <td>125000</td>\n",
       "      <td>gasoline</td>\n",
       "      <td>audi</td>\n",
       "      <td>yes</td>\n",
       "    </tr>\n",
       "    <tr>\n",
       "      <th>2</th>\n",
       "      <td>9800</td>\n",
       "      <td>suv</td>\n",
       "      <td>2004</td>\n",
       "      <td>auto</td>\n",
       "      <td>163</td>\n",
       "      <td>grand</td>\n",
       "      <td>125000</td>\n",
       "      <td>gasoline</td>\n",
       "      <td>jeep</td>\n",
       "      <td>other</td>\n",
       "    </tr>\n",
       "    <tr>\n",
       "      <th>3</th>\n",
       "      <td>1500</td>\n",
       "      <td>small</td>\n",
       "      <td>2001</td>\n",
       "      <td>manual</td>\n",
       "      <td>75</td>\n",
       "      <td>golf</td>\n",
       "      <td>150000</td>\n",
       "      <td>petrol</td>\n",
       "      <td>volkswagen</td>\n",
       "      <td>no</td>\n",
       "    </tr>\n",
       "    <tr>\n",
       "      <th>4</th>\n",
       "      <td>3600</td>\n",
       "      <td>small</td>\n",
       "      <td>2008</td>\n",
       "      <td>manual</td>\n",
       "      <td>69</td>\n",
       "      <td>fabia</td>\n",
       "      <td>90000</td>\n",
       "      <td>gasoline</td>\n",
       "      <td>skoda</td>\n",
       "      <td>no</td>\n",
       "    </tr>\n",
       "    <tr>\n",
       "      <th>6</th>\n",
       "      <td>2200</td>\n",
       "      <td>convertible</td>\n",
       "      <td>2004</td>\n",
       "      <td>manual</td>\n",
       "      <td>109</td>\n",
       "      <td>2_reihe</td>\n",
       "      <td>150000</td>\n",
       "      <td>petrol</td>\n",
       "      <td>peugeot</td>\n",
       "      <td>no</td>\n",
       "    </tr>\n",
       "  </tbody>\n",
       "</table>\n",
       "</div>"
      ],
      "text/plain": [
       "   Price  VehicleType  RegistrationYear Gearbox  Power    Model  Kilometer  \\\n",
       "1  18300        coupe              2011  manual    190    other     125000   \n",
       "2   9800          suv              2004    auto    163    grand     125000   \n",
       "3   1500        small              2001  manual     75     golf     150000   \n",
       "4   3600        small              2008  manual     69    fabia      90000   \n",
       "6   2200  convertible              2004  manual    109  2_reihe     150000   \n",
       "\n",
       "   FuelType       Brand NotRepaired  \n",
       "1  gasoline        audi         yes  \n",
       "2  gasoline        jeep       other  \n",
       "3    petrol  volkswagen          no  \n",
       "4  gasoline       skoda          no  \n",
       "6    petrol     peugeot          no  "
      ]
     },
     "execution_count": 39,
     "metadata": {},
     "output_type": "execute_result"
    }
   ],
   "source": [
    "# Итоговая проверка результатов\n",
    "df.info()\n",
    "df.head()"
   ]
  },
  {
   "cell_type": "markdown",
   "metadata": {},
   "source": [
    "**Вывод:** Мы обработали данные, заполнили пропуски"
   ]
  },
  {
   "cell_type": "markdown",
   "metadata": {},
   "source": [
    "### Разделение на выборки и OHE"
   ]
  },
  {
   "cell_type": "markdown",
   "metadata": {},
   "source": [
    "Разделим данные на признаки и целевой признак('Price')"
   ]
  },
  {
   "cell_type": "code",
   "execution_count": 40,
   "metadata": {},
   "outputs": [],
   "source": [
    "features = df.drop(['Price'], axis=1)\n",
    "target = df['Price']"
   ]
  },
  {
   "cell_type": "code",
   "execution_count": 41,
   "metadata": {},
   "outputs": [],
   "source": [
    "features_ohe = pd.get_dummies(features, drop_first=True) "
   ]
  },
  {
   "cell_type": "markdown",
   "metadata": {},
   "source": [
    "Проведем One-Hot Encoding категориальных функций с параметром «drop_first» для обочения моделей"
   ]
  },
  {
   "cell_type": "markdown",
   "metadata": {},
   "source": [
    "Разделение данных на выборки для моделей, где НЕ НУЖЕН OHE"
   ]
  },
  {
   "cell_type": "code",
   "execution_count": 42,
   "metadata": {},
   "outputs": [
    {
     "name": "stdout",
     "output_type": "stream",
     "text": [
      "<class 'pandas.core.frame.DataFrame'>\n",
      "Int64Index: 179679 entries, 205195 to 318410\n",
      "Data columns (total 9 columns):\n",
      " #   Column            Non-Null Count   Dtype \n",
      "---  ------            --------------   ----- \n",
      " 0   VehicleType       179679 non-null  object\n",
      " 1   RegistrationYear  179679 non-null  int64 \n",
      " 2   Gearbox           179679 non-null  object\n",
      " 3   Power             179679 non-null  int64 \n",
      " 4   Model             179679 non-null  object\n",
      " 5   Kilometer         179679 non-null  int64 \n",
      " 6   FuelType          179679 non-null  object\n",
      " 7   Brand             179679 non-null  object\n",
      " 8   NotRepaired       179679 non-null  object\n",
      "dtypes: int64(3), object(6)\n",
      "memory usage: 13.7+ MB\n"
     ]
    }
   ],
   "source": [
    "# разделение данных на выбрки для моделей, где НЕ НУЖЕН OHE\n",
    "x_train, x_test, y_train, y_test = train_test_split(features, target, test_size=0.25, random_state=12345)\n",
    "x_train.info()"
   ]
  },
  {
   "cell_type": "markdown",
   "metadata": {},
   "source": [
    "Масштабирование данных на train выборке:"
   ]
  },
  {
   "cell_type": "code",
   "execution_count": 43,
   "metadata": {},
   "outputs": [],
   "source": [
    "scaler = StandardScaler()\n",
    "x_train[['RegistrationYear','Power','Kilometer']] = scaler.fit_transform(x_train[['RegistrationYear','Power','Kilometer']])\n",
    "x_test[['RegistrationYear','Power','Kilometer']] = scaler.fit_transform(x_test[['RegistrationYear','Power','Kilometer']])\n",
    "y_train = pd.DataFrame(scaler.fit_transform(y_train.values.reshape(-1,1)))\n",
    "y_test = pd.DataFrame(scaler.fit_transform(y_test.values.reshape(-1,1)))"
   ]
  },
  {
   "cell_type": "markdown",
   "metadata": {},
   "source": [
    "Разделение данных на выборки для моделей, где НУЖЕН OHE"
   ]
  },
  {
   "cell_type": "code",
   "execution_count": 44,
   "metadata": {},
   "outputs": [],
   "source": [
    "# разделение данных на выбрки для моделей, где НУЖЕН OHE\n",
    "x_train1, x_test1, y_train1, y_test1 = train_test_split(features_ohe, target, test_size=0.25, random_state=12345)"
   ]
  },
  {
   "cell_type": "markdown",
   "metadata": {},
   "source": [
    "Масштабирование данных на train выборке:"
   ]
  },
  {
   "cell_type": "code",
   "execution_count": 45,
   "metadata": {},
   "outputs": [],
   "source": [
    "scaler = StandardScaler()\n",
    "x_train1[['RegistrationYear','Power','Kilometer']] = scaler.fit_transform(x_train[['RegistrationYear','Power','Kilometer']])\n",
    "x_test1[['RegistrationYear','Power','Kilometer']] = scaler.fit_transform(x_test[['RegistrationYear','Power','Kilometer']])\n",
    "y_train1 = pd.DataFrame(scaler.fit_transform(y_train.values.reshape(-1,1)))\n",
    "y_test1 = pd.DataFrame(scaler.fit_transform(y_test.values.reshape(-1,1)))"
   ]
  },
  {
   "cell_type": "markdown",
   "metadata": {},
   "source": [
    "Готово. Можно приступать к обучению моделей."
   ]
  },
  {
   "cell_type": "markdown",
   "metadata": {},
   "source": [
    "## Обучение моделей"
   ]
  },
  {
   "cell_type": "markdown",
   "metadata": {},
   "source": [
    "Нам необходимо эффективно подобрать наилучшие параметры для построения предсказаний модели, а также сравнить RMSE моделей (оценка качества) и выбрать наилучшую из них. Мы обучим и проанализируем следующие модели:\n",
    "\n",
    "* Linear Regression\n",
    "* Gradient Boosting \n",
    "* XGBoost\n",
    "* LightGBM\n",
    "* XGBoost"
   ]
  },
  {
   "cell_type": "markdown",
   "metadata": {},
   "source": [
    "Чтобы вручную не подбирать параметры для моделей и не копировать код, создадим функию с sklearn.model_selection.RandomizedSearchCV"
   ]
  },
  {
   "cell_type": "code",
   "execution_count": 46,
   "metadata": {},
   "outputs": [],
   "source": [
    "def random_search_cv(model, parameters, x, y):\n",
    "    # создаем «RandomizedSearchCV» с подсчетом очков для rmse\n",
    "    random_search = RandomizedSearchCV(model, parameters, cv=5)\n",
    "    \n",
    "    # обучаем train выборку\n",
    "    random_search.fit(x, y)\n",
    "    \n",
    "    # находим лучшие параметры\n",
    "    print('Best parameters:', random_search.best_params_)\n",
    "    \n",
    "    # возвращаем лучшую модель\n",
    "    return random_search.best_estimator_"
   ]
  },
  {
   "cell_type": "markdown",
   "metadata": {},
   "source": [
    "<div class=\"alert alert-block alert-warning\">\n",
    "<b>Внесены изменения 2 :</b> OHE теперь только для LR, GradientBoosting и XGBoost\n",
    "</div>"
   ]
  },
  {
   "cell_type": "markdown",
   "metadata": {},
   "source": [
    "<div class=\"alert alert-block alert-success\">\n",
    "<b>Успех (ревью 3):</b> ОК.\n",
    "</div>"
   ]
  },
  {
   "cell_type": "markdown",
   "metadata": {},
   "source": [
    "Другие модели не требует OHE, но линейная регрессия не может работать с категориальными признаками, поэтому проведем трансормацию:"
   ]
  },
  {
   "cell_type": "markdown",
   "metadata": {},
   "source": [
    "### Линейная Регрессия"
   ]
  },
  {
   "cell_type": "markdown",
   "metadata": {},
   "source": [
    "Обучим модель Линейной Регрессии и расчитаем время выполнения:"
   ]
  },
  {
   "cell_type": "code",
   "execution_count": 47,
   "metadata": {},
   "outputs": [
    {
     "name": "stdout",
     "output_type": "stream",
     "text": [
      "Wall time: 9.53 s\n"
     ]
    }
   ],
   "source": [
    "%%time\n",
    "linnear_reg_model = LinearRegression().fit(x_train1, y_train1) # create model class"
   ]
  },
  {
   "cell_type": "markdown",
   "metadata": {},
   "source": [
    "Построим предсказания для обучающей выборки"
   ]
  },
  {
   "cell_type": "code",
   "execution_count": 48,
   "metadata": {},
   "outputs": [
    {
     "name": "stdout",
     "output_type": "stream",
     "text": [
      "Wall time: 445 ms\n"
     ]
    }
   ],
   "source": [
    "%%time\n",
    "y_pred_train = linnear_reg_model.predict(x_train1) # predict values for train data"
   ]
  },
  {
   "cell_type": "markdown",
   "metadata": {},
   "source": [
    "Построим предсказания для тестовой выборки"
   ]
  },
  {
   "cell_type": "code",
   "execution_count": 49,
   "metadata": {},
   "outputs": [
    {
     "name": "stdout",
     "output_type": "stream",
     "text": [
      "Wall time: 167 ms\n"
     ]
    }
   ],
   "source": [
    "%%time\n",
    "y_pred_test = linnear_reg_model.predict(x_test1) # predict values for test data"
   ]
  },
  {
   "cell_type": "markdown",
   "metadata": {},
   "source": [
    "Найдем RMSE:"
   ]
  },
  {
   "cell_type": "code",
   "execution_count": 50,
   "metadata": {},
   "outputs": [
    {
     "name": "stdout",
     "output_type": "stream",
     "text": [
      "RMSE обучающей выборки: 0.59\n",
      "RMSE тестовой выборки: 0.59\n"
     ]
    }
   ],
   "source": [
    "# print RMSE for train and test\n",
    "print('RMSE обучающей выборки:', round(mean_squared_error(y_train1, y_pred_train) ** 0.5, 2))\n",
    "print('RMSE тестовой выборки:', round(mean_squared_error(y_test1, y_pred_test) ** 0.5, 2))"
   ]
  },
  {
   "cell_type": "markdown",
   "metadata": {},
   "source": [
    "### Gradient Boosting"
   ]
  },
  {
   "cell_type": "markdown",
   "metadata": {},
   "source": [
    "Создадим класс модели"
   ]
  },
  {
   "cell_type": "code",
   "execution_count": 51,
   "metadata": {},
   "outputs": [],
   "source": [
    "gbr_model = GradientBoostingRegressor(max_depth=9, n_estimators=40, random_state=12345) \n",
    "params = {'learning_rate': [.2, .4, .5]}"
   ]
  },
  {
   "cell_type": "markdown",
   "metadata": {},
   "source": [
    "Найдем наилучшие параметры с помощью функции random_search_cv()"
   ]
  },
  {
   "cell_type": "code",
   "execution_count": 52,
   "metadata": {},
   "outputs": [
    {
     "name": "stderr",
     "output_type": "stream",
     "text": [
      "C:\\Python310\\lib\\site-packages\\sklearn\\model_selection\\_search.py:292: UserWarning: The total space of parameters 3 is smaller than n_iter=10. Running 3 iterations. For exhaustive searches, use GridSearchCV.\n",
      "  warnings.warn(\n",
      "C:\\Python310\\lib\\site-packages\\sklearn\\ensemble\\_gb.py:494: DataConversionWarning: A column-vector y was passed when a 1d array was expected. Please change the shape of y to (n_samples, ), for example using ravel().\n",
      "  y = column_or_1d(y, warn=True)\n",
      "C:\\Python310\\lib\\site-packages\\sklearn\\ensemble\\_gb.py:494: DataConversionWarning: A column-vector y was passed when a 1d array was expected. Please change the shape of y to (n_samples, ), for example using ravel().\n",
      "  y = column_or_1d(y, warn=True)\n",
      "C:\\Python310\\lib\\site-packages\\sklearn\\ensemble\\_gb.py:494: DataConversionWarning: A column-vector y was passed when a 1d array was expected. Please change the shape of y to (n_samples, ), for example using ravel().\n",
      "  y = column_or_1d(y, warn=True)\n",
      "C:\\Python310\\lib\\site-packages\\sklearn\\ensemble\\_gb.py:494: DataConversionWarning: A column-vector y was passed when a 1d array was expected. Please change the shape of y to (n_samples, ), for example using ravel().\n",
      "  y = column_or_1d(y, warn=True)\n",
      "C:\\Python310\\lib\\site-packages\\sklearn\\ensemble\\_gb.py:494: DataConversionWarning: A column-vector y was passed when a 1d array was expected. Please change the shape of y to (n_samples, ), for example using ravel().\n",
      "  y = column_or_1d(y, warn=True)\n",
      "C:\\Python310\\lib\\site-packages\\sklearn\\ensemble\\_gb.py:494: DataConversionWarning: A column-vector y was passed when a 1d array was expected. Please change the shape of y to (n_samples, ), for example using ravel().\n",
      "  y = column_or_1d(y, warn=True)\n",
      "C:\\Python310\\lib\\site-packages\\sklearn\\ensemble\\_gb.py:494: DataConversionWarning: A column-vector y was passed when a 1d array was expected. Please change the shape of y to (n_samples, ), for example using ravel().\n",
      "  y = column_or_1d(y, warn=True)\n",
      "C:\\Python310\\lib\\site-packages\\sklearn\\ensemble\\_gb.py:494: DataConversionWarning: A column-vector y was passed when a 1d array was expected. Please change the shape of y to (n_samples, ), for example using ravel().\n",
      "  y = column_or_1d(y, warn=True)\n",
      "C:\\Python310\\lib\\site-packages\\sklearn\\ensemble\\_gb.py:494: DataConversionWarning: A column-vector y was passed when a 1d array was expected. Please change the shape of y to (n_samples, ), for example using ravel().\n",
      "  y = column_or_1d(y, warn=True)\n",
      "C:\\Python310\\lib\\site-packages\\sklearn\\ensemble\\_gb.py:494: DataConversionWarning: A column-vector y was passed when a 1d array was expected. Please change the shape of y to (n_samples, ), for example using ravel().\n",
      "  y = column_or_1d(y, warn=True)\n"
     ]
    },
    {
     "ename": "KeyboardInterrupt",
     "evalue": "",
     "output_type": "error",
     "traceback": [
      "\u001b[1;31m---------------------------------------------------------------------------\u001b[0m",
      "\u001b[1;31mKeyboardInterrupt\u001b[0m                         Traceback (most recent call last)",
      "\u001b[1;32m<timed exec>\u001b[0m in \u001b[0;36m<module>\u001b[1;34m\u001b[0m\n",
      "\u001b[1;32m~\\AppData\\Local\\Temp\\ipykernel_13596\\1212988275.py\u001b[0m in \u001b[0;36mrandom_search_cv\u001b[1;34m(model, parameters, x, y)\u001b[0m\n\u001b[0;32m      4\u001b[0m \u001b[1;33m\u001b[0m\u001b[0m\n\u001b[0;32m      5\u001b[0m     \u001b[1;31m# обучаем train выборку\u001b[0m\u001b[1;33m\u001b[0m\u001b[1;33m\u001b[0m\u001b[0m\n\u001b[1;32m----> 6\u001b[1;33m     \u001b[0mrandom_search\u001b[0m\u001b[1;33m.\u001b[0m\u001b[0mfit\u001b[0m\u001b[1;33m(\u001b[0m\u001b[0mx\u001b[0m\u001b[1;33m,\u001b[0m \u001b[0my\u001b[0m\u001b[1;33m)\u001b[0m\u001b[1;33m\u001b[0m\u001b[1;33m\u001b[0m\u001b[0m\n\u001b[0m\u001b[0;32m      7\u001b[0m \u001b[1;33m\u001b[0m\u001b[0m\n\u001b[0;32m      8\u001b[0m     \u001b[1;31m# находим лучшие параметры\u001b[0m\u001b[1;33m\u001b[0m\u001b[1;33m\u001b[0m\u001b[0m\n",
      "\u001b[1;32mC:\\Python310\\lib\\site-packages\\sklearn\\model_selection\\_search.py\u001b[0m in \u001b[0;36mfit\u001b[1;34m(self, X, y, groups, **fit_params)\u001b[0m\n\u001b[0;32m    889\u001b[0m                 \u001b[1;32mreturn\u001b[0m \u001b[0mresults\u001b[0m\u001b[1;33m\u001b[0m\u001b[1;33m\u001b[0m\u001b[0m\n\u001b[0;32m    890\u001b[0m \u001b[1;33m\u001b[0m\u001b[0m\n\u001b[1;32m--> 891\u001b[1;33m             \u001b[0mself\u001b[0m\u001b[1;33m.\u001b[0m\u001b[0m_run_search\u001b[0m\u001b[1;33m(\u001b[0m\u001b[0mevaluate_candidates\u001b[0m\u001b[1;33m)\u001b[0m\u001b[1;33m\u001b[0m\u001b[1;33m\u001b[0m\u001b[0m\n\u001b[0m\u001b[0;32m    892\u001b[0m \u001b[1;33m\u001b[0m\u001b[0m\n\u001b[0;32m    893\u001b[0m             \u001b[1;31m# multimetric is determined here because in the case of a callable\u001b[0m\u001b[1;33m\u001b[0m\u001b[1;33m\u001b[0m\u001b[0m\n",
      "\u001b[1;32mC:\\Python310\\lib\\site-packages\\sklearn\\model_selection\\_search.py\u001b[0m in \u001b[0;36m_run_search\u001b[1;34m(self, evaluate_candidates)\u001b[0m\n\u001b[0;32m   1764\u001b[0m     \u001b[1;32mdef\u001b[0m \u001b[0m_run_search\u001b[0m\u001b[1;33m(\u001b[0m\u001b[0mself\u001b[0m\u001b[1;33m,\u001b[0m \u001b[0mevaluate_candidates\u001b[0m\u001b[1;33m)\u001b[0m\u001b[1;33m:\u001b[0m\u001b[1;33m\u001b[0m\u001b[1;33m\u001b[0m\u001b[0m\n\u001b[0;32m   1765\u001b[0m         \u001b[1;34m\"\"\"Search n_iter candidates from param_distributions\"\"\"\u001b[0m\u001b[1;33m\u001b[0m\u001b[1;33m\u001b[0m\u001b[0m\n\u001b[1;32m-> 1766\u001b[1;33m         evaluate_candidates(\n\u001b[0m\u001b[0;32m   1767\u001b[0m             ParameterSampler(\n\u001b[0;32m   1768\u001b[0m                 \u001b[0mself\u001b[0m\u001b[1;33m.\u001b[0m\u001b[0mparam_distributions\u001b[0m\u001b[1;33m,\u001b[0m \u001b[0mself\u001b[0m\u001b[1;33m.\u001b[0m\u001b[0mn_iter\u001b[0m\u001b[1;33m,\u001b[0m \u001b[0mrandom_state\u001b[0m\u001b[1;33m=\u001b[0m\u001b[0mself\u001b[0m\u001b[1;33m.\u001b[0m\u001b[0mrandom_state\u001b[0m\u001b[1;33m\u001b[0m\u001b[1;33m\u001b[0m\u001b[0m\n",
      "\u001b[1;32mC:\\Python310\\lib\\site-packages\\sklearn\\model_selection\\_search.py\u001b[0m in \u001b[0;36mevaluate_candidates\u001b[1;34m(candidate_params, cv, more_results)\u001b[0m\n\u001b[0;32m    836\u001b[0m                     )\n\u001b[0;32m    837\u001b[0m \u001b[1;33m\u001b[0m\u001b[0m\n\u001b[1;32m--> 838\u001b[1;33m                 out = parallel(\n\u001b[0m\u001b[0;32m    839\u001b[0m                     delayed(_fit_and_score)(\n\u001b[0;32m    840\u001b[0m                         \u001b[0mclone\u001b[0m\u001b[1;33m(\u001b[0m\u001b[0mbase_estimator\u001b[0m\u001b[1;33m)\u001b[0m\u001b[1;33m,\u001b[0m\u001b[1;33m\u001b[0m\u001b[1;33m\u001b[0m\u001b[0m\n",
      "\u001b[1;32mC:\\Python310\\lib\\site-packages\\joblib\\parallel.py\u001b[0m in \u001b[0;36m__call__\u001b[1;34m(self, iterable)\u001b[0m\n\u001b[0;32m   1044\u001b[0m                 \u001b[0mself\u001b[0m\u001b[1;33m.\u001b[0m\u001b[0m_iterating\u001b[0m \u001b[1;33m=\u001b[0m \u001b[0mself\u001b[0m\u001b[1;33m.\u001b[0m\u001b[0m_original_iterator\u001b[0m \u001b[1;32mis\u001b[0m \u001b[1;32mnot\u001b[0m \u001b[1;32mNone\u001b[0m\u001b[1;33m\u001b[0m\u001b[1;33m\u001b[0m\u001b[0m\n\u001b[0;32m   1045\u001b[0m \u001b[1;33m\u001b[0m\u001b[0m\n\u001b[1;32m-> 1046\u001b[1;33m             \u001b[1;32mwhile\u001b[0m \u001b[0mself\u001b[0m\u001b[1;33m.\u001b[0m\u001b[0mdispatch_one_batch\u001b[0m\u001b[1;33m(\u001b[0m\u001b[0miterator\u001b[0m\u001b[1;33m)\u001b[0m\u001b[1;33m:\u001b[0m\u001b[1;33m\u001b[0m\u001b[1;33m\u001b[0m\u001b[0m\n\u001b[0m\u001b[0;32m   1047\u001b[0m                 \u001b[1;32mpass\u001b[0m\u001b[1;33m\u001b[0m\u001b[1;33m\u001b[0m\u001b[0m\n\u001b[0;32m   1048\u001b[0m \u001b[1;33m\u001b[0m\u001b[0m\n",
      "\u001b[1;32mC:\\Python310\\lib\\site-packages\\joblib\\parallel.py\u001b[0m in \u001b[0;36mdispatch_one_batch\u001b[1;34m(self, iterator)\u001b[0m\n\u001b[0;32m    859\u001b[0m                 \u001b[1;32mreturn\u001b[0m \u001b[1;32mFalse\u001b[0m\u001b[1;33m\u001b[0m\u001b[1;33m\u001b[0m\u001b[0m\n\u001b[0;32m    860\u001b[0m             \u001b[1;32melse\u001b[0m\u001b[1;33m:\u001b[0m\u001b[1;33m\u001b[0m\u001b[1;33m\u001b[0m\u001b[0m\n\u001b[1;32m--> 861\u001b[1;33m                 \u001b[0mself\u001b[0m\u001b[1;33m.\u001b[0m\u001b[0m_dispatch\u001b[0m\u001b[1;33m(\u001b[0m\u001b[0mtasks\u001b[0m\u001b[1;33m)\u001b[0m\u001b[1;33m\u001b[0m\u001b[1;33m\u001b[0m\u001b[0m\n\u001b[0m\u001b[0;32m    862\u001b[0m                 \u001b[1;32mreturn\u001b[0m \u001b[1;32mTrue\u001b[0m\u001b[1;33m\u001b[0m\u001b[1;33m\u001b[0m\u001b[0m\n\u001b[0;32m    863\u001b[0m \u001b[1;33m\u001b[0m\u001b[0m\n",
      "\u001b[1;32mC:\\Python310\\lib\\site-packages\\joblib\\parallel.py\u001b[0m in \u001b[0;36m_dispatch\u001b[1;34m(self, batch)\u001b[0m\n\u001b[0;32m    777\u001b[0m         \u001b[1;32mwith\u001b[0m \u001b[0mself\u001b[0m\u001b[1;33m.\u001b[0m\u001b[0m_lock\u001b[0m\u001b[1;33m:\u001b[0m\u001b[1;33m\u001b[0m\u001b[1;33m\u001b[0m\u001b[0m\n\u001b[0;32m    778\u001b[0m             \u001b[0mjob_idx\u001b[0m \u001b[1;33m=\u001b[0m \u001b[0mlen\u001b[0m\u001b[1;33m(\u001b[0m\u001b[0mself\u001b[0m\u001b[1;33m.\u001b[0m\u001b[0m_jobs\u001b[0m\u001b[1;33m)\u001b[0m\u001b[1;33m\u001b[0m\u001b[1;33m\u001b[0m\u001b[0m\n\u001b[1;32m--> 779\u001b[1;33m             \u001b[0mjob\u001b[0m \u001b[1;33m=\u001b[0m \u001b[0mself\u001b[0m\u001b[1;33m.\u001b[0m\u001b[0m_backend\u001b[0m\u001b[1;33m.\u001b[0m\u001b[0mapply_async\u001b[0m\u001b[1;33m(\u001b[0m\u001b[0mbatch\u001b[0m\u001b[1;33m,\u001b[0m \u001b[0mcallback\u001b[0m\u001b[1;33m=\u001b[0m\u001b[0mcb\u001b[0m\u001b[1;33m)\u001b[0m\u001b[1;33m\u001b[0m\u001b[1;33m\u001b[0m\u001b[0m\n\u001b[0m\u001b[0;32m    780\u001b[0m             \u001b[1;31m# A job can complete so quickly than its callback is\u001b[0m\u001b[1;33m\u001b[0m\u001b[1;33m\u001b[0m\u001b[0m\n\u001b[0;32m    781\u001b[0m             \u001b[1;31m# called before we get here, causing self._jobs to\u001b[0m\u001b[1;33m\u001b[0m\u001b[1;33m\u001b[0m\u001b[0m\n",
      "\u001b[1;32mC:\\Python310\\lib\\site-packages\\joblib\\_parallel_backends.py\u001b[0m in \u001b[0;36mapply_async\u001b[1;34m(self, func, callback)\u001b[0m\n\u001b[0;32m    206\u001b[0m     \u001b[1;32mdef\u001b[0m \u001b[0mapply_async\u001b[0m\u001b[1;33m(\u001b[0m\u001b[0mself\u001b[0m\u001b[1;33m,\u001b[0m \u001b[0mfunc\u001b[0m\u001b[1;33m,\u001b[0m \u001b[0mcallback\u001b[0m\u001b[1;33m=\u001b[0m\u001b[1;32mNone\u001b[0m\u001b[1;33m)\u001b[0m\u001b[1;33m:\u001b[0m\u001b[1;33m\u001b[0m\u001b[1;33m\u001b[0m\u001b[0m\n\u001b[0;32m    207\u001b[0m         \u001b[1;34m\"\"\"Schedule a func to be run\"\"\"\u001b[0m\u001b[1;33m\u001b[0m\u001b[1;33m\u001b[0m\u001b[0m\n\u001b[1;32m--> 208\u001b[1;33m         \u001b[0mresult\u001b[0m \u001b[1;33m=\u001b[0m \u001b[0mImmediateResult\u001b[0m\u001b[1;33m(\u001b[0m\u001b[0mfunc\u001b[0m\u001b[1;33m)\u001b[0m\u001b[1;33m\u001b[0m\u001b[1;33m\u001b[0m\u001b[0m\n\u001b[0m\u001b[0;32m    209\u001b[0m         \u001b[1;32mif\u001b[0m \u001b[0mcallback\u001b[0m\u001b[1;33m:\u001b[0m\u001b[1;33m\u001b[0m\u001b[1;33m\u001b[0m\u001b[0m\n\u001b[0;32m    210\u001b[0m             \u001b[0mcallback\u001b[0m\u001b[1;33m(\u001b[0m\u001b[0mresult\u001b[0m\u001b[1;33m)\u001b[0m\u001b[1;33m\u001b[0m\u001b[1;33m\u001b[0m\u001b[0m\n",
      "\u001b[1;32mC:\\Python310\\lib\\site-packages\\joblib\\_parallel_backends.py\u001b[0m in \u001b[0;36m__init__\u001b[1;34m(self, batch)\u001b[0m\n\u001b[0;32m    570\u001b[0m         \u001b[1;31m# Don't delay the application, to avoid keeping the input\u001b[0m\u001b[1;33m\u001b[0m\u001b[1;33m\u001b[0m\u001b[0m\n\u001b[0;32m    571\u001b[0m         \u001b[1;31m# arguments in memory\u001b[0m\u001b[1;33m\u001b[0m\u001b[1;33m\u001b[0m\u001b[0m\n\u001b[1;32m--> 572\u001b[1;33m         \u001b[0mself\u001b[0m\u001b[1;33m.\u001b[0m\u001b[0mresults\u001b[0m \u001b[1;33m=\u001b[0m \u001b[0mbatch\u001b[0m\u001b[1;33m(\u001b[0m\u001b[1;33m)\u001b[0m\u001b[1;33m\u001b[0m\u001b[1;33m\u001b[0m\u001b[0m\n\u001b[0m\u001b[0;32m    573\u001b[0m \u001b[1;33m\u001b[0m\u001b[0m\n\u001b[0;32m    574\u001b[0m     \u001b[1;32mdef\u001b[0m \u001b[0mget\u001b[0m\u001b[1;33m(\u001b[0m\u001b[0mself\u001b[0m\u001b[1;33m)\u001b[0m\u001b[1;33m:\u001b[0m\u001b[1;33m\u001b[0m\u001b[1;33m\u001b[0m\u001b[0m\n",
      "\u001b[1;32mC:\\Python310\\lib\\site-packages\\joblib\\parallel.py\u001b[0m in \u001b[0;36m__call__\u001b[1;34m(self)\u001b[0m\n\u001b[0;32m    260\u001b[0m         \u001b[1;31m# change the default number of processes to -1\u001b[0m\u001b[1;33m\u001b[0m\u001b[1;33m\u001b[0m\u001b[0m\n\u001b[0;32m    261\u001b[0m         \u001b[1;32mwith\u001b[0m \u001b[0mparallel_backend\u001b[0m\u001b[1;33m(\u001b[0m\u001b[0mself\u001b[0m\u001b[1;33m.\u001b[0m\u001b[0m_backend\u001b[0m\u001b[1;33m,\u001b[0m \u001b[0mn_jobs\u001b[0m\u001b[1;33m=\u001b[0m\u001b[0mself\u001b[0m\u001b[1;33m.\u001b[0m\u001b[0m_n_jobs\u001b[0m\u001b[1;33m)\u001b[0m\u001b[1;33m:\u001b[0m\u001b[1;33m\u001b[0m\u001b[1;33m\u001b[0m\u001b[0m\n\u001b[1;32m--> 262\u001b[1;33m             return [func(*args, **kwargs)\n\u001b[0m\u001b[0;32m    263\u001b[0m                     for func, args, kwargs in self.items]\n\u001b[0;32m    264\u001b[0m \u001b[1;33m\u001b[0m\u001b[0m\n",
      "\u001b[1;32mC:\\Python310\\lib\\site-packages\\joblib\\parallel.py\u001b[0m in \u001b[0;36m<listcomp>\u001b[1;34m(.0)\u001b[0m\n\u001b[0;32m    260\u001b[0m         \u001b[1;31m# change the default number of processes to -1\u001b[0m\u001b[1;33m\u001b[0m\u001b[1;33m\u001b[0m\u001b[0m\n\u001b[0;32m    261\u001b[0m         \u001b[1;32mwith\u001b[0m \u001b[0mparallel_backend\u001b[0m\u001b[1;33m(\u001b[0m\u001b[0mself\u001b[0m\u001b[1;33m.\u001b[0m\u001b[0m_backend\u001b[0m\u001b[1;33m,\u001b[0m \u001b[0mn_jobs\u001b[0m\u001b[1;33m=\u001b[0m\u001b[0mself\u001b[0m\u001b[1;33m.\u001b[0m\u001b[0m_n_jobs\u001b[0m\u001b[1;33m)\u001b[0m\u001b[1;33m:\u001b[0m\u001b[1;33m\u001b[0m\u001b[1;33m\u001b[0m\u001b[0m\n\u001b[1;32m--> 262\u001b[1;33m             return [func(*args, **kwargs)\n\u001b[0m\u001b[0;32m    263\u001b[0m                     for func, args, kwargs in self.items]\n\u001b[0;32m    264\u001b[0m \u001b[1;33m\u001b[0m\u001b[0m\n",
      "\u001b[1;32mC:\\Python310\\lib\\site-packages\\sklearn\\utils\\fixes.py\u001b[0m in \u001b[0;36m__call__\u001b[1;34m(self, *args, **kwargs)\u001b[0m\n\u001b[0;32m    209\u001b[0m     \u001b[1;32mdef\u001b[0m \u001b[0m__call__\u001b[0m\u001b[1;33m(\u001b[0m\u001b[0mself\u001b[0m\u001b[1;33m,\u001b[0m \u001b[1;33m*\u001b[0m\u001b[0margs\u001b[0m\u001b[1;33m,\u001b[0m \u001b[1;33m**\u001b[0m\u001b[0mkwargs\u001b[0m\u001b[1;33m)\u001b[0m\u001b[1;33m:\u001b[0m\u001b[1;33m\u001b[0m\u001b[1;33m\u001b[0m\u001b[0m\n\u001b[0;32m    210\u001b[0m         \u001b[1;32mwith\u001b[0m \u001b[0mconfig_context\u001b[0m\u001b[1;33m(\u001b[0m\u001b[1;33m**\u001b[0m\u001b[0mself\u001b[0m\u001b[1;33m.\u001b[0m\u001b[0mconfig\u001b[0m\u001b[1;33m)\u001b[0m\u001b[1;33m:\u001b[0m\u001b[1;33m\u001b[0m\u001b[1;33m\u001b[0m\u001b[0m\n\u001b[1;32m--> 211\u001b[1;33m             \u001b[1;32mreturn\u001b[0m \u001b[0mself\u001b[0m\u001b[1;33m.\u001b[0m\u001b[0mfunction\u001b[0m\u001b[1;33m(\u001b[0m\u001b[1;33m*\u001b[0m\u001b[0margs\u001b[0m\u001b[1;33m,\u001b[0m \u001b[1;33m**\u001b[0m\u001b[0mkwargs\u001b[0m\u001b[1;33m)\u001b[0m\u001b[1;33m\u001b[0m\u001b[1;33m\u001b[0m\u001b[0m\n\u001b[0m\u001b[0;32m    212\u001b[0m \u001b[1;33m\u001b[0m\u001b[0m\n\u001b[0;32m    213\u001b[0m \u001b[1;33m\u001b[0m\u001b[0m\n",
      "\u001b[1;32mC:\\Python310\\lib\\site-packages\\sklearn\\model_selection\\_validation.py\u001b[0m in \u001b[0;36m_fit_and_score\u001b[1;34m(estimator, X, y, scorer, train, test, verbose, parameters, fit_params, return_train_score, return_parameters, return_n_test_samples, return_times, return_estimator, split_progress, candidate_progress, error_score)\u001b[0m\n\u001b[0;32m    679\u001b[0m             \u001b[0mestimator\u001b[0m\u001b[1;33m.\u001b[0m\u001b[0mfit\u001b[0m\u001b[1;33m(\u001b[0m\u001b[0mX_train\u001b[0m\u001b[1;33m,\u001b[0m \u001b[1;33m**\u001b[0m\u001b[0mfit_params\u001b[0m\u001b[1;33m)\u001b[0m\u001b[1;33m\u001b[0m\u001b[1;33m\u001b[0m\u001b[0m\n\u001b[0;32m    680\u001b[0m         \u001b[1;32melse\u001b[0m\u001b[1;33m:\u001b[0m\u001b[1;33m\u001b[0m\u001b[1;33m\u001b[0m\u001b[0m\n\u001b[1;32m--> 681\u001b[1;33m             \u001b[0mestimator\u001b[0m\u001b[1;33m.\u001b[0m\u001b[0mfit\u001b[0m\u001b[1;33m(\u001b[0m\u001b[0mX_train\u001b[0m\u001b[1;33m,\u001b[0m \u001b[0my_train\u001b[0m\u001b[1;33m,\u001b[0m \u001b[1;33m**\u001b[0m\u001b[0mfit_params\u001b[0m\u001b[1;33m)\u001b[0m\u001b[1;33m\u001b[0m\u001b[1;33m\u001b[0m\u001b[0m\n\u001b[0m\u001b[0;32m    682\u001b[0m \u001b[1;33m\u001b[0m\u001b[0m\n\u001b[0;32m    683\u001b[0m     \u001b[1;32mexcept\u001b[0m \u001b[0mException\u001b[0m\u001b[1;33m:\u001b[0m\u001b[1;33m\u001b[0m\u001b[1;33m\u001b[0m\u001b[0m\n",
      "\u001b[1;32mC:\\Python310\\lib\\site-packages\\sklearn\\ensemble\\_gb.py\u001b[0m in \u001b[0;36mfit\u001b[1;34m(self, X, y, sample_weight, monitor)\u001b[0m\n\u001b[0;32m    584\u001b[0m \u001b[1;33m\u001b[0m\u001b[0m\n\u001b[0;32m    585\u001b[0m         \u001b[1;31m# fit the boosting stages\u001b[0m\u001b[1;33m\u001b[0m\u001b[1;33m\u001b[0m\u001b[0m\n\u001b[1;32m--> 586\u001b[1;33m         n_stages = self._fit_stages(\n\u001b[0m\u001b[0;32m    587\u001b[0m             \u001b[0mX\u001b[0m\u001b[1;33m,\u001b[0m\u001b[1;33m\u001b[0m\u001b[1;33m\u001b[0m\u001b[0m\n\u001b[0;32m    588\u001b[0m             \u001b[0my\u001b[0m\u001b[1;33m,\u001b[0m\u001b[1;33m\u001b[0m\u001b[1;33m\u001b[0m\u001b[0m\n",
      "\u001b[1;32mC:\\Python310\\lib\\site-packages\\sklearn\\ensemble\\_gb.py\u001b[0m in \u001b[0;36m_fit_stages\u001b[1;34m(self, X, y, raw_predictions, sample_weight, random_state, X_val, y_val, sample_weight_val, begin_at_stage, monitor)\u001b[0m\n\u001b[0;32m    661\u001b[0m \u001b[1;33m\u001b[0m\u001b[0m\n\u001b[0;32m    662\u001b[0m             \u001b[1;31m# fit next stage of trees\u001b[0m\u001b[1;33m\u001b[0m\u001b[1;33m\u001b[0m\u001b[0m\n\u001b[1;32m--> 663\u001b[1;33m             raw_predictions = self._fit_stage(\n\u001b[0m\u001b[0;32m    664\u001b[0m                 \u001b[0mi\u001b[0m\u001b[1;33m,\u001b[0m\u001b[1;33m\u001b[0m\u001b[1;33m\u001b[0m\u001b[0m\n\u001b[0;32m    665\u001b[0m                 \u001b[0mX\u001b[0m\u001b[1;33m,\u001b[0m\u001b[1;33m\u001b[0m\u001b[1;33m\u001b[0m\u001b[0m\n",
      "\u001b[1;32mC:\\Python310\\lib\\site-packages\\sklearn\\ensemble\\_gb.py\u001b[0m in \u001b[0;36m_fit_stage\u001b[1;34m(self, i, X, y, raw_predictions, sample_weight, sample_mask, random_state, X_csc, X_csr)\u001b[0m\n\u001b[0;32m    244\u001b[0m \u001b[1;33m\u001b[0m\u001b[0m\n\u001b[0;32m    245\u001b[0m             \u001b[0mX\u001b[0m \u001b[1;33m=\u001b[0m \u001b[0mX_csr\u001b[0m \u001b[1;32mif\u001b[0m \u001b[0mX_csr\u001b[0m \u001b[1;32mis\u001b[0m \u001b[1;32mnot\u001b[0m \u001b[1;32mNone\u001b[0m \u001b[1;32melse\u001b[0m \u001b[0mX\u001b[0m\u001b[1;33m\u001b[0m\u001b[1;33m\u001b[0m\u001b[0m\n\u001b[1;32m--> 246\u001b[1;33m             \u001b[0mtree\u001b[0m\u001b[1;33m.\u001b[0m\u001b[0mfit\u001b[0m\u001b[1;33m(\u001b[0m\u001b[0mX\u001b[0m\u001b[1;33m,\u001b[0m \u001b[0mresidual\u001b[0m\u001b[1;33m,\u001b[0m \u001b[0msample_weight\u001b[0m\u001b[1;33m=\u001b[0m\u001b[0msample_weight\u001b[0m\u001b[1;33m,\u001b[0m \u001b[0mcheck_input\u001b[0m\u001b[1;33m=\u001b[0m\u001b[1;32mFalse\u001b[0m\u001b[1;33m)\u001b[0m\u001b[1;33m\u001b[0m\u001b[1;33m\u001b[0m\u001b[0m\n\u001b[0m\u001b[0;32m    247\u001b[0m \u001b[1;33m\u001b[0m\u001b[0m\n\u001b[0;32m    248\u001b[0m             \u001b[1;31m# update tree leaves\u001b[0m\u001b[1;33m\u001b[0m\u001b[1;33m\u001b[0m\u001b[0m\n",
      "\u001b[1;32mC:\\Python310\\lib\\site-packages\\sklearn\\tree\\_classes.py\u001b[0m in \u001b[0;36mfit\u001b[1;34m(self, X, y, sample_weight, check_input, X_idx_sorted)\u001b[0m\n\u001b[0;32m   1313\u001b[0m         \"\"\"\n\u001b[0;32m   1314\u001b[0m \u001b[1;33m\u001b[0m\u001b[0m\n\u001b[1;32m-> 1315\u001b[1;33m         super().fit(\n\u001b[0m\u001b[0;32m   1316\u001b[0m             \u001b[0mX\u001b[0m\u001b[1;33m,\u001b[0m\u001b[1;33m\u001b[0m\u001b[1;33m\u001b[0m\u001b[0m\n\u001b[0;32m   1317\u001b[0m             \u001b[0my\u001b[0m\u001b[1;33m,\u001b[0m\u001b[1;33m\u001b[0m\u001b[1;33m\u001b[0m\u001b[0m\n",
      "\u001b[1;32mC:\\Python310\\lib\\site-packages\\sklearn\\tree\\_classes.py\u001b[0m in \u001b[0;36mfit\u001b[1;34m(self, X, y, sample_weight, check_input, X_idx_sorted)\u001b[0m\n\u001b[0;32m    418\u001b[0m             )\n\u001b[0;32m    419\u001b[0m \u001b[1;33m\u001b[0m\u001b[0m\n\u001b[1;32m--> 420\u001b[1;33m         \u001b[0mbuilder\u001b[0m\u001b[1;33m.\u001b[0m\u001b[0mbuild\u001b[0m\u001b[1;33m(\u001b[0m\u001b[0mself\u001b[0m\u001b[1;33m.\u001b[0m\u001b[0mtree_\u001b[0m\u001b[1;33m,\u001b[0m \u001b[0mX\u001b[0m\u001b[1;33m,\u001b[0m \u001b[0my\u001b[0m\u001b[1;33m,\u001b[0m \u001b[0msample_weight\u001b[0m\u001b[1;33m)\u001b[0m\u001b[1;33m\u001b[0m\u001b[1;33m\u001b[0m\u001b[0m\n\u001b[0m\u001b[0;32m    421\u001b[0m \u001b[1;33m\u001b[0m\u001b[0m\n\u001b[0;32m    422\u001b[0m         \u001b[1;32mif\u001b[0m \u001b[0mself\u001b[0m\u001b[1;33m.\u001b[0m\u001b[0mn_outputs_\u001b[0m \u001b[1;33m==\u001b[0m \u001b[1;36m1\u001b[0m \u001b[1;32mand\u001b[0m \u001b[0mis_classifier\u001b[0m\u001b[1;33m(\u001b[0m\u001b[0mself\u001b[0m\u001b[1;33m)\u001b[0m\u001b[1;33m:\u001b[0m\u001b[1;33m\u001b[0m\u001b[1;33m\u001b[0m\u001b[0m\n",
      "\u001b[1;31mKeyboardInterrupt\u001b[0m: "
     ]
    }
   ],
   "source": [
    "%%time\n",
    "best_model = random_search_cv(gbr_model, params, x_train1, y_train1) "
   ]
  },
  {
   "cell_type": "markdown",
   "metadata": {},
   "source": [
    "Построим предсказания для обучающей выборки"
   ]
  },
  {
   "cell_type": "code",
   "execution_count": null,
   "metadata": {},
   "outputs": [],
   "source": [
    "%%time\n",
    "y_pred_train = best_model.predict(x_train1)"
   ]
  },
  {
   "cell_type": "markdown",
   "metadata": {},
   "source": [
    "Построим предсказания для тестовой выборки"
   ]
  },
  {
   "cell_type": "code",
   "execution_count": null,
   "metadata": {},
   "outputs": [],
   "source": [
    "%%time\n",
    "y_pred_test = best_model.predict(x_test1)"
   ]
  },
  {
   "cell_type": "code",
   "execution_count": null,
   "metadata": {},
   "outputs": [],
   "source": [
    "print('RMSE обучающей выборки:', round(mean_squared_error(y_train1, y_pred_train) ** 0.5, 2))\n",
    "print('RMSE тестовой выборки:', round(mean_squared_error(y_test1, y_pred_test) ** 0.5, 2))"
   ]
  },
  {
   "cell_type": "markdown",
   "metadata": {},
   "source": [
    "###  XGBoost"
   ]
  },
  {
   "cell_type": "markdown",
   "metadata": {},
   "source": [
    "<div class=\"alert alert-block alert-warning\">\n",
    "<b>Внесены изменения 2 :</b> добавлен параметр feature_types='c', enable_categorical \n",
    "</div>"
   ]
  },
  {
   "cell_type": "markdown",
   "metadata": {},
   "source": [
    "Создадим класс модели"
   ]
  },
  {
   "cell_type": "code",
   "execution_count": 53,
   "metadata": {},
   "outputs": [],
   "source": [
    "xgb_model = XGBRegressor(max_depth=9, n_estimators=40, random_state=12345) \n",
    "params = {'learning_rate': [.2, .4, .5]}"
   ]
  },
  {
   "cell_type": "markdown",
   "metadata": {},
   "source": [
    "Найдем лучшие параметры"
   ]
  },
  {
   "cell_type": "code",
   "execution_count": 54,
   "metadata": {},
   "outputs": [
    {
     "name": "stderr",
     "output_type": "stream",
     "text": [
      "C:\\Python310\\lib\\site-packages\\sklearn\\model_selection\\_search.py:292: UserWarning: The total space of parameters 3 is smaller than n_iter=10. Running 3 iterations. For exhaustive searches, use GridSearchCV.\n",
      "  warnings.warn(\n"
     ]
    },
    {
     "name": "stdout",
     "output_type": "stream",
     "text": [
      "Best parameters: {'learning_rate': 0.2}\n",
      "Wall time: 12min 43s\n"
     ]
    }
   ],
   "source": [
    "%%time\n",
    "best_model = random_search_cv(xgb_model, params, x_train1, y_train1) "
   ]
  },
  {
   "cell_type": "markdown",
   "metadata": {},
   "source": [
    "Построим предсказания для обучающей выборки"
   ]
  },
  {
   "cell_type": "code",
   "execution_count": 55,
   "metadata": {},
   "outputs": [
    {
     "name": "stdout",
     "output_type": "stream",
     "text": [
      "Wall time: 839 ms\n"
     ]
    }
   ],
   "source": [
    "%%time\n",
    "y_pred_train = best_model.predict(x_train1) #"
   ]
  },
  {
   "cell_type": "markdown",
   "metadata": {},
   "source": [
    "Построим предсказания для тестовой выборки"
   ]
  },
  {
   "cell_type": "code",
   "execution_count": 56,
   "metadata": {},
   "outputs": [
    {
     "name": "stdout",
     "output_type": "stream",
     "text": [
      "Wall time: 292 ms\n"
     ]
    }
   ],
   "source": [
    "%%time\n",
    "y_pred_test = best_model.predict(x_test1) "
   ]
  },
  {
   "cell_type": "markdown",
   "metadata": {},
   "source": [
    "Найдем RMSE"
   ]
  },
  {
   "cell_type": "code",
   "execution_count": 57,
   "metadata": {},
   "outputs": [
    {
     "name": "stdout",
     "output_type": "stream",
     "text": [
      "RMSE обучающей выборки: 0.36\n",
      "RMSE тестовой выборки: 0.4\n"
     ]
    }
   ],
   "source": [
    "print('RMSE обучающей выборки:', round(mean_squared_error(y_train1, y_pred_train) ** 0.5, 2))\n",
    "print('RMSE тестовой выборки:', round(mean_squared_error(y_test1, y_pred_test) ** 0.5, 2))"
   ]
  },
  {
   "cell_type": "markdown",
   "metadata": {},
   "source": [
    "### LightGBM"
   ]
  },
  {
   "cell_type": "markdown",
   "metadata": {},
   "source": [
    "Обучим модель"
   ]
  },
  {
   "cell_type": "code",
   "execution_count": 47,
   "metadata": {},
   "outputs": [],
   "source": [
    "lgb_model = lgb.LGBMRegressor(max_depth=9, n_estimators=40, random_state=42) # create model class\n",
    "params = {'learning_rate': [.2, .4, .5]}"
   ]
  },
  {
   "cell_type": "markdown",
   "metadata": {},
   "source": [
    "<div class=\"alert alert-block alert-warning\">\n",
    "<b>Внесены изменения 2 :</b> Заменяем тип данных для категориальных признаков:\n",
    "</div>"
   ]
  },
  {
   "cell_type": "raw",
   "metadata": {},
   "source": [
    "Изменяем категориальный тип для признаков в train выборке"
   ]
  },
  {
   "cell_type": "code",
   "execution_count": 48,
   "metadata": {},
   "outputs": [
    {
     "name": "stdout",
     "output_type": "stream",
     "text": [
      "<class 'pandas.core.frame.DataFrame'>\n",
      "Int64Index: 179679 entries, 205195 to 318410\n",
      "Data columns (total 9 columns):\n",
      " #   Column            Non-Null Count   Dtype   \n",
      "---  ------            --------------   -----   \n",
      " 0   VehicleType       179679 non-null  category\n",
      " 1   Gearbox           179679 non-null  category\n",
      " 2   Model             179679 non-null  category\n",
      " 3   FuelType          179679 non-null  category\n",
      " 4   Brand             179679 non-null  category\n",
      " 5   NotRepaired       179679 non-null  category\n",
      " 6   RegistrationYear  179679 non-null  float64 \n",
      " 7   Power             179679 non-null  float64 \n",
      " 8   Kilometer         179679 non-null  float64 \n",
      "dtypes: category(6), float64(3)\n",
      "memory usage: 6.7 MB\n"
     ]
    }
   ],
   "source": [
    "cat_features = ['VehicleType','Gearbox','Model','FuelType','Brand','NotRepaired']\n",
    "num_features = ['RegistrationYear','Power','Kilometer']\n",
    "lgb_x_train = pd.DataFrame()\n",
    "for i in cat_features:\n",
    "    lgb_x_train[i] = x_train[i].astype('category')\n",
    "for i in num_features:\n",
    "    lgb_x_train[i] = x_train[i]\n",
    "    \n",
    "# проверка\n",
    "lgb_x_train.info()"
   ]
  },
  {
   "cell_type": "raw",
   "metadata": {},
   "source": [
    "Изменяем категориальный тип для признаков в test выборке"
   ]
  },
  {
   "cell_type": "code",
   "execution_count": 49,
   "metadata": {},
   "outputs": [
    {
     "name": "stdout",
     "output_type": "stream",
     "text": [
      "<class 'pandas.core.frame.DataFrame'>\n",
      "Int64Index: 59893 entries, 65366 to 260116\n",
      "Data columns (total 9 columns):\n",
      " #   Column            Non-Null Count  Dtype   \n",
      "---  ------            --------------  -----   \n",
      " 0   VehicleType       59893 non-null  category\n",
      " 1   Gearbox           59893 non-null  category\n",
      " 2   Model             59893 non-null  category\n",
      " 3   FuelType          59893 non-null  category\n",
      " 4   Brand             59893 non-null  category\n",
      " 5   NotRepaired       59893 non-null  category\n",
      " 6   RegistrationYear  59893 non-null  float64 \n",
      " 7   Power             59893 non-null  float64 \n",
      " 8   Kilometer         59893 non-null  float64 \n",
      "dtypes: category(6), float64(3)\n",
      "memory usage: 2.2 MB\n"
     ]
    }
   ],
   "source": [
    "lgb_x_test = pd.DataFrame()\n",
    "for i in cat_features:\n",
    "    lgb_x_test[i] = x_test[i].astype('category')\n",
    "for i in num_features:\n",
    "    lgb_x_test[i] = x_test[i]\n",
    "    \n",
    "# проверка\n",
    "lgb_x_test.info()"
   ]
  },
  {
   "cell_type": "raw",
   "metadata": {},
   "source": [
    "%%time\n",
    "lgb_model.fit(lgb_x_train, y_train)"
   ]
  },
  {
   "cell_type": "markdown",
   "metadata": {},
   "source": [
    "Найдем лучшие параметры"
   ]
  },
  {
   "cell_type": "code",
   "execution_count": 50,
   "metadata": {},
   "outputs": [
    {
     "name": "stderr",
     "output_type": "stream",
     "text": [
      "C:\\Python310\\lib\\site-packages\\sklearn\\model_selection\\_search.py:292: UserWarning: The total space of parameters 3 is smaller than n_iter=10. Running 3 iterations. For exhaustive searches, use GridSearchCV.\n",
      "  warnings.warn(\n"
     ]
    },
    {
     "name": "stdout",
     "output_type": "stream",
     "text": [
      "Best parameters: {'learning_rate': 0.2}\n",
      "Wall time: 13.6 s\n"
     ]
    }
   ],
   "source": [
    "%%time\n",
    "best_model = random_search_cv(lgb_model, params, lgb_x_train, y_train) # fit the model"
   ]
  },
  {
   "cell_type": "markdown",
   "metadata": {},
   "source": [
    "Построим предсказания для обучающей выборки"
   ]
  },
  {
   "cell_type": "code",
   "execution_count": 51,
   "metadata": {},
   "outputs": [
    {
     "name": "stdout",
     "output_type": "stream",
     "text": [
      "Wall time: 550 ms\n"
     ]
    }
   ],
   "source": [
    "%%time\n",
    "y_pred_train = best_model.predict(lgb_x_train) # predict values for train data"
   ]
  },
  {
   "cell_type": "markdown",
   "metadata": {},
   "source": [
    "Построим предсказания для тестовой выборки"
   ]
  },
  {
   "cell_type": "code",
   "execution_count": 52,
   "metadata": {},
   "outputs": [
    {
     "name": "stdout",
     "output_type": "stream",
     "text": [
      "Wall time: 315 ms\n"
     ]
    }
   ],
   "source": [
    "%%time\n",
    "y_pred_test = best_model.predict(lgb_x_test) # predict values for test data"
   ]
  },
  {
   "cell_type": "markdown",
   "metadata": {},
   "source": [
    "Найдем RMSE"
   ]
  },
  {
   "cell_type": "code",
   "execution_count": 53,
   "metadata": {},
   "outputs": [
    {
     "name": "stdout",
     "output_type": "stream",
     "text": [
      "RMSE обучающей выборки: 0.38\n",
      "RMSE тестовой выборки: 0.4\n"
     ]
    }
   ],
   "source": [
    "print('RMSE обучающей выборки:', round(mean_squared_error(y_train, y_pred_train) ** 0.5, 2))\n",
    "print('RMSE тестовой выборки:', round(mean_squared_error(y_test, y_pred_test) ** 0.5, 2))"
   ]
  },
  {
   "cell_type": "markdown",
   "metadata": {},
   "source": [
    "### CatBoost"
   ]
  },
  {
   "cell_type": "markdown",
   "metadata": {},
   "source": [
    "<div class=\"alert alert-block alert-warning\">\n",
    "<b>Внесены изменения 2 :</b>добавлен параметр cat_features\n",
    "</div>"
   ]
  },
  {
   "cell_type": "code",
   "execution_count": 55,
   "metadata": {},
   "outputs": [],
   "source": [
    "pool_train = Pool(x_train, y_train, cat_features = x_train.select_dtypes(include=object).columns.to_list())\n",
    "pool_test = Pool(x_test, cat_features = x_train.select_dtypes(include=object).columns.to_list())"
   ]
  },
  {
   "cell_type": "markdown",
   "metadata": {},
   "source": [
    "Создадим класс модели"
   ]
  },
  {
   "cell_type": "code",
   "execution_count": 56,
   "metadata": {},
   "outputs": [],
   "source": [
    "#cat_model = CatBoostRegressor(max_depth=9, iterations=50, random_state=12345) # create model class\n",
    "#params = {'learning_rate': [.2, .4, .5]}\n",
    "cat_model = CatBoostRegressor(n_estimators=200,loss_function='RMSE',learning_rate=0.4,depth=3, task_type='CPU',random_state=1, verbose=False)"
   ]
  },
  {
   "cell_type": "code",
   "execution_count": 58,
   "metadata": {},
   "outputs": [
    {
     "name": "stdout",
     "output_type": "stream",
     "text": [
      "Wall time: 22.8 s\n"
     ]
    },
    {
     "data": {
      "text/plain": [
       "<catboost.core.CatBoostRegressor at 0x1fe7d3a67d0>"
      ]
     },
     "execution_count": 58,
     "metadata": {},
     "output_type": "execute_result"
    }
   ],
   "source": [
    "%%time\n",
    "cat_model.fit(pool_train)"
   ]
  },
  {
   "cell_type": "markdown",
   "metadata": {},
   "source": [
    "Найдем лучшие параметры"
   ]
  },
  {
   "cell_type": "markdown",
   "metadata": {},
   "source": [
    "random_search = RandomizedSearchCV(cat_model, params, cv=5)"
   ]
  },
  {
   "cell_type": "code",
   "execution_count": null,
   "metadata": {},
   "outputs": [
    {
     "name": "stderr",
     "output_type": "stream",
     "text": [
      "C:\\Python310\\lib\\site-packages\\sklearn\\model_selection\\_search.py:292: UserWarning: The total space of parameters 3 is smaller than n_iter=10. Running 3 iterations. For exhaustive searches, use GridSearchCV.\n",
      "  warnings.warn(\n"
     ]
    },
    {
     "name": "stdout",
     "output_type": "stream",
     "text": [
      "0:\tlearn: 0.8680199\ttotal: 195ms\tremaining: 9.54s\n",
      "1:\tlearn: 0.7669635\ttotal: 240ms\tremaining: 5.75s\n",
      "2:\tlearn: 0.6899656\ttotal: 280ms\tremaining: 4.39s\n",
      "3:\tlearn: 0.6317670\ttotal: 327ms\tremaining: 3.75s\n",
      "4:\tlearn: 0.5874616\ttotal: 381ms\tremaining: 3.42s\n",
      "5:\tlearn: 0.5551982\ttotal: 445ms\tremaining: 3.26s\n",
      "6:\tlearn: 0.5293218\ttotal: 505ms\tremaining: 3.1s\n",
      "7:\tlearn: 0.5081861\ttotal: 563ms\tremaining: 2.96s\n",
      "8:\tlearn: 0.4937209\ttotal: 644ms\tremaining: 2.93s\n",
      "9:\tlearn: 0.4808646\ttotal: 724ms\tremaining: 2.9s\n",
      "10:\tlearn: 0.4720218\ttotal: 805ms\tremaining: 2.85s\n",
      "11:\tlearn: 0.4618064\ttotal: 909ms\tremaining: 2.88s\n",
      "12:\tlearn: 0.4546409\ttotal: 974ms\tremaining: 2.77s\n",
      "13:\tlearn: 0.4485327\ttotal: 1.05s\tremaining: 2.69s\n",
      "14:\tlearn: 0.4441291\ttotal: 1.11s\tremaining: 2.59s\n",
      "15:\tlearn: 0.4399804\ttotal: 1.17s\tremaining: 2.49s\n",
      "16:\tlearn: 0.4364673\ttotal: 1.22s\tremaining: 2.38s\n",
      "17:\tlearn: 0.4329130\ttotal: 1.29s\tremaining: 2.3s\n",
      "18:\tlearn: 0.4301077\ttotal: 1.44s\tremaining: 2.35s\n",
      "19:\tlearn: 0.4276595\ttotal: 1.52s\tremaining: 2.27s\n",
      "20:\tlearn: 0.4258846\ttotal: 1.59s\tremaining: 2.2s\n",
      "21:\tlearn: 0.4238907\ttotal: 1.67s\tremaining: 2.13s\n",
      "22:\tlearn: 0.4222459\ttotal: 1.74s\tremaining: 2.04s\n",
      "23:\tlearn: 0.4209258\ttotal: 1.8s\tremaining: 1.95s\n",
      "24:\tlearn: 0.4194097\ttotal: 1.87s\tremaining: 1.87s\n",
      "25:\tlearn: 0.4183691\ttotal: 1.93s\tremaining: 1.78s\n",
      "26:\tlearn: 0.4171475\ttotal: 1.99s\tremaining: 1.69s\n",
      "27:\tlearn: 0.4161368\ttotal: 2.05s\tremaining: 1.61s\n",
      "28:\tlearn: 0.4149119\ttotal: 2.13s\tremaining: 1.54s\n",
      "29:\tlearn: 0.4138071\ttotal: 2.2s\tremaining: 1.47s\n",
      "30:\tlearn: 0.4128795\ttotal: 2.25s\tremaining: 1.38s\n",
      "31:\tlearn: 0.4117236\ttotal: 2.33s\tremaining: 1.31s\n",
      "32:\tlearn: 0.4110303\ttotal: 2.4s\tremaining: 1.24s\n",
      "33:\tlearn: 0.4098111\ttotal: 2.48s\tremaining: 1.17s\n",
      "34:\tlearn: 0.4090245\ttotal: 2.55s\tremaining: 1.09s\n",
      "35:\tlearn: 0.4080133\ttotal: 2.62s\tremaining: 1.02s\n",
      "36:\tlearn: 0.4072625\ttotal: 2.68s\tremaining: 943ms\n",
      "37:\tlearn: 0.4066510\ttotal: 2.76s\tremaining: 873ms\n",
      "38:\tlearn: 0.4059652\ttotal: 2.82s\tremaining: 796ms\n",
      "39:\tlearn: 0.4053930\ttotal: 2.89s\tremaining: 722ms\n",
      "40:\tlearn: 0.4050055\ttotal: 2.95s\tremaining: 648ms\n",
      "41:\tlearn: 0.4041801\ttotal: 3.02s\tremaining: 576ms\n",
      "42:\tlearn: 0.4035975\ttotal: 3.09s\tremaining: 503ms\n",
      "43:\tlearn: 0.4030731\ttotal: 3.15s\tremaining: 429ms\n",
      "44:\tlearn: 0.4023009\ttotal: 3.22s\tremaining: 357ms\n",
      "45:\tlearn: 0.4012849\ttotal: 3.28s\tremaining: 285ms\n",
      "46:\tlearn: 0.4008384\ttotal: 3.34s\tremaining: 213ms\n",
      "47:\tlearn: 0.4003097\ttotal: 3.43s\tremaining: 143ms\n",
      "48:\tlearn: 0.3998543\ttotal: 3.58s\tremaining: 73.1ms\n",
      "49:\tlearn: 0.3993809\ttotal: 3.68s\tremaining: 0us\n"
     ]
    }
   ],
   "source": [
    "%%time\n",
    "best_model = random_search_cv(cat_model, params, x_train1, y_train1)"
   ]
  },
  {
   "cell_type": "markdown",
   "metadata": {},
   "source": [
    "Построим предсказания для обучающей выборки"
   ]
  },
  {
   "cell_type": "markdown",
   "metadata": {},
   "source": [
    "%%time\n",
    "y_pred_train = best_model.predict(x_train1) m"
   ]
  },
  {
   "cell_type": "code",
   "execution_count": 59,
   "metadata": {},
   "outputs": [],
   "source": [
    "y_pred = cat_model.predict(pool_test)"
   ]
  },
  {
   "cell_type": "markdown",
   "metadata": {},
   "source": [
    "Построим предсказания для тестовой выборки"
   ]
  },
  {
   "cell_type": "markdown",
   "metadata": {},
   "source": [
    "%%time\n",
    "y_pred_test = best_model.predict(x_test1)"
   ]
  },
  {
   "cell_type": "markdown",
   "metadata": {},
   "source": [
    "Найдем RMSE"
   ]
  },
  {
   "cell_type": "markdown",
   "metadata": {},
   "source": [
    "#print('RMSE обучающей выборки:', round(mean_squared_error(y_train1, y_pred_train) ** 0.5, 2))\n",
    "print('RMSE тестовой выборки:', round(mean_squared_error(y_test1, y_pred_test) ** 0.5, 2))"
   ]
  },
  {
   "cell_type": "code",
   "execution_count": 62,
   "metadata": {},
   "outputs": [
    {
     "name": "stdout",
     "output_type": "stream",
     "text": [
      "RMSE in y units: 0.41093405176432307\n"
     ]
    }
   ],
   "source": [
    "cb_rmse = np.sqrt(mean_squared_error(y_test, y_pred))\n",
    "print(\"RMSE in y units:\", np.mean(cb_rmse))"
   ]
  },
  {
   "cell_type": "markdown",
   "metadata": {},
   "source": [
    "**Вывод:** мы обучили каждую из моделей, подобрали к ним наилучшие параметры и рассчитали RMSE. Проведем анализ моделей в следующем шаге"
   ]
  },
  {
   "cell_type": "markdown",
   "metadata": {},
   "source": [
    "## Анализ моделей"
   ]
  },
  {
   "cell_type": "markdown",
   "metadata": {},
   "source": [
    "Всего было проанализировано 5 моделей, среди которых:"
   ]
  },
  {
   "cell_type": "markdown",
   "metadata": {},
   "source": [
    "|модели|время обучениясек|время предсказания|качество(RMSE)|\n",
    "|---|---|---|---|\n",
    "|LinearRegression|9с|167 мс|0.59|\n",
    "|Gradient Boosting|1ч 35м 13с|294 мс|0.4|\n",
    "|XGBoost|12м 43с|294 мс|0.4|\n",
    "|LightGBM|13с|0.3 с|0.4|\n",
    "|CatBoostRegressor|22c|0.5|0.4|"
   ]
  },
  {
   "cell_type": "markdown",
   "metadata": {},
   "source": [
    "**Итог:** Модель XGBoost имеет лучшее значениеRMSE (0.4), но скорость обучения (13m). LightGBM имеет RMSE 0.4, но скорость обучения модели высокая (всего 13c). Быстрее LightGBM обучает только Linear Regression (9s), но RMSE у модели худшее (0.59). У CatBoost RMSE такое же, как у LightGBM (RMSE_test: 0.4), но скорость ниже (22с). Самая низкая скорость обучения при RMSE 0.4 зафиксирована у модели градиентного спуска: модель обучалась 1 час 35 минут"
   ]
  },
  {
   "cell_type": "markdown",
   "metadata": {},
   "source": [
    "# Общий вывод"
   ]
  },
  {
   "cell_type": "markdown",
   "metadata": {},
   "source": [
    "Нашей задачей было построение модели для определения стоимости автомобиля для службы продажи подержанных автомобилей, чтобы в дальнейшем разработать приложение для привлечения новых клиентов.\n",
    "\n",
    "У модели LightGBM не самая высокая RMSE, но она не сильно отличается от моделей XGBoost и Gradient Boosting (примерно на 60 RMSE), однако скорость у этой модели феноминально высокая: 1 минута 57 секунд. Итог: модель LightGBM с параметром 'learning_rate': 0.5 - наилучшая модель."
   ]
  }
 ],
 "metadata": {
  "ExecuteTimeLog": [
   {
    "duration": 303,
    "start_time": "2022-02-13T00:52:51.139Z"
   },
   {
    "duration": 1326,
    "start_time": "2022-02-13T00:52:57.897Z"
   },
   {
    "duration": 862,
    "start_time": "2022-02-13T00:52:59.225Z"
   },
   {
    "duration": 34,
    "start_time": "2022-02-13T00:53:00.090Z"
   },
   {
    "duration": 129,
    "start_time": "2022-02-13T00:53:00.126Z"
   },
   {
    "duration": 128,
    "start_time": "2022-02-13T00:53:00.257Z"
   },
   {
    "duration": 123,
    "start_time": "2022-02-13T00:53:00.387Z"
   },
   {
    "duration": 504,
    "start_time": "2022-02-13T00:53:00.511Z"
   },
   {
    "duration": 84,
    "start_time": "2022-02-13T00:53:01.019Z"
   },
   {
    "duration": 123,
    "start_time": "2022-02-13T00:53:01.105Z"
   },
   {
    "duration": 45,
    "start_time": "2022-02-13T00:53:01.230Z"
   },
   {
    "duration": 55908,
    "start_time": "2022-02-13T00:53:01.276Z"
   },
   {
    "duration": 2113,
    "start_time": "2022-02-13T00:53:57.186Z"
   },
   {
    "duration": 263,
    "start_time": "2022-02-13T00:53:59.301Z"
   },
   {
    "duration": 32,
    "start_time": "2022-02-13T00:53:59.566Z"
   },
   {
    "duration": 30,
    "start_time": "2022-02-13T00:53:59.599Z"
   },
   {
    "duration": 14,
    "start_time": "2022-02-13T00:53:59.630Z"
   },
   {
    "duration": 71,
    "start_time": "2022-02-13T00:53:59.645Z"
   },
   {
    "duration": 55,
    "start_time": "2022-02-13T00:53:59.718Z"
   },
   {
    "duration": 151,
    "start_time": "2022-02-13T00:53:59.776Z"
   },
   {
    "duration": 8,
    "start_time": "2022-02-13T00:53:59.929Z"
   },
   {
    "duration": 366,
    "start_time": "2022-02-13T00:53:59.939Z"
   },
   {
    "duration": 4,
    "start_time": "2022-02-13T03:22:28.570Z"
   },
   {
    "duration": 743,
    "start_time": "2022-02-13T03:22:28.576Z"
   },
   {
    "duration": 13,
    "start_time": "2022-02-13T03:22:29.322Z"
   },
   {
    "duration": 136,
    "start_time": "2022-02-13T03:22:29.338Z"
   },
   {
    "duration": 125,
    "start_time": "2022-02-13T03:22:29.476Z"
   },
   {
    "duration": 119,
    "start_time": "2022-02-13T03:22:29.603Z"
   },
   {
    "duration": 423,
    "start_time": "2022-02-13T03:22:29.724Z"
   },
   {
    "duration": 98,
    "start_time": "2022-02-13T03:22:30.150Z"
   },
   {
    "duration": 111,
    "start_time": "2022-02-13T03:22:30.250Z"
   },
   {
    "duration": 56,
    "start_time": "2022-02-13T03:22:30.363Z"
   },
   {
    "duration": 5,
    "start_time": "2022-02-13T03:24:31.440Z"
   },
   {
    "duration": 760,
    "start_time": "2022-02-13T03:24:31.447Z"
   },
   {
    "duration": 19,
    "start_time": "2022-02-13T03:24:32.209Z"
   },
   {
    "duration": 131,
    "start_time": "2022-02-13T03:24:32.230Z"
   },
   {
    "duration": 126,
    "start_time": "2022-02-13T03:24:32.364Z"
   },
   {
    "duration": 120,
    "start_time": "2022-02-13T03:24:32.492Z"
   },
   {
    "duration": 390,
    "start_time": "2022-02-13T03:24:32.614Z"
   },
   {
    "duration": 91,
    "start_time": "2022-02-13T03:24:33.006Z"
   },
   {
    "duration": 100,
    "start_time": "2022-02-13T03:24:33.099Z"
   },
   {
    "duration": 48,
    "start_time": "2022-02-13T03:24:33.201Z"
   },
   {
    "duration": 55028,
    "start_time": "2022-02-13T03:24:33.251Z"
   },
   {
    "duration": 2351,
    "start_time": "2022-02-13T03:25:28.281Z"
   },
   {
    "duration": 215,
    "start_time": "2022-02-13T03:25:30.634Z"
   },
   {
    "duration": 34,
    "start_time": "2022-02-13T03:25:30.850Z"
   },
   {
    "duration": 36,
    "start_time": "2022-02-13T03:25:30.885Z"
   },
   {
    "duration": 40,
    "start_time": "2022-02-13T03:25:30.922Z"
   },
   {
    "duration": 68,
    "start_time": "2022-02-13T03:25:30.964Z"
   },
   {
    "duration": 52,
    "start_time": "2022-02-13T03:25:31.034Z"
   },
   {
    "duration": 161,
    "start_time": "2022-02-13T03:25:31.087Z"
   },
   {
    "duration": 7,
    "start_time": "2022-02-13T03:25:31.249Z"
   },
   {
    "duration": 175,
    "start_time": "2022-02-13T03:25:31.258Z"
   },
   {
    "duration": 19,
    "start_time": "2022-02-13T03:25:31.435Z"
   },
   {
    "duration": 18,
    "start_time": "2022-02-13T03:25:31.456Z"
   },
   {
    "duration": 7,
    "start_time": "2022-02-13T03:25:31.476Z"
   },
   {
    "duration": 2603,
    "start_time": "2022-02-13T11:33:45.733Z"
   },
   {
    "duration": 843,
    "start_time": "2022-02-13T11:33:48.337Z"
   },
   {
    "duration": 16,
    "start_time": "2022-02-13T11:33:49.182Z"
   },
   {
    "duration": 124,
    "start_time": "2022-02-13T11:33:49.200Z"
   },
   {
    "duration": 116,
    "start_time": "2022-02-13T11:33:49.326Z"
   },
   {
    "duration": 116,
    "start_time": "2022-02-13T11:33:49.444Z"
   },
   {
    "duration": 628,
    "start_time": "2022-02-13T11:33:49.561Z"
   },
   {
    "duration": 86,
    "start_time": "2022-02-13T11:33:50.191Z"
   },
   {
    "duration": 113,
    "start_time": "2022-02-13T11:33:50.281Z"
   },
   {
    "duration": 42,
    "start_time": "2022-02-13T11:33:50.397Z"
   },
   {
    "duration": 4,
    "start_time": "2022-02-13T11:34:47.366Z"
   },
   {
    "duration": 690,
    "start_time": "2022-02-13T11:34:47.371Z"
   },
   {
    "duration": 12,
    "start_time": "2022-02-13T11:34:48.063Z"
   },
   {
    "duration": 137,
    "start_time": "2022-02-13T11:34:48.076Z"
   },
   {
    "duration": 129,
    "start_time": "2022-02-13T11:34:48.215Z"
   },
   {
    "duration": 124,
    "start_time": "2022-02-13T11:34:48.346Z"
   },
   {
    "duration": 399,
    "start_time": "2022-02-13T11:34:48.472Z"
   },
   {
    "duration": 94,
    "start_time": "2022-02-13T11:34:48.873Z"
   },
   {
    "duration": 116,
    "start_time": "2022-02-13T11:34:48.970Z"
   },
   {
    "duration": 38,
    "start_time": "2022-02-13T11:34:49.089Z"
   },
   {
    "duration": 1173,
    "start_time": "2022-02-13T11:35:52.679Z"
   },
   {
    "duration": 4,
    "start_time": "2022-02-13T11:36:02.894Z"
   },
   {
    "duration": 777,
    "start_time": "2022-02-13T11:36:03.461Z"
   },
   {
    "duration": 20,
    "start_time": "2022-02-13T11:36:04.240Z"
   },
   {
    "duration": 120,
    "start_time": "2022-02-13T11:36:04.262Z"
   },
   {
    "duration": 109,
    "start_time": "2022-02-13T11:36:04.428Z"
   },
   {
    "duration": 105,
    "start_time": "2022-02-13T11:36:04.662Z"
   },
   {
    "duration": 436,
    "start_time": "2022-02-13T11:36:05.069Z"
   },
   {
    "duration": 85,
    "start_time": "2022-02-13T11:36:05.507Z"
   },
   {
    "duration": 107,
    "start_time": "2022-02-13T11:36:05.594Z"
   },
   {
    "duration": 40,
    "start_time": "2022-02-13T11:36:06.316Z"
   },
   {
    "duration": 51254,
    "start_time": "2022-02-13T11:36:06.599Z"
   },
   {
    "duration": 2070,
    "start_time": "2022-02-13T11:36:57.859Z"
   },
   {
    "duration": 262,
    "start_time": "2022-02-13T11:36:59.931Z"
   },
   {
    "duration": 32,
    "start_time": "2022-02-13T11:37:00.195Z"
   },
   {
    "duration": 33,
    "start_time": "2022-02-13T11:37:00.229Z"
   },
   {
    "duration": 25,
    "start_time": "2022-02-13T11:37:00.264Z"
   },
   {
    "duration": 8,
    "start_time": "2022-02-13T11:37:00.291Z"
   },
   {
    "duration": 79,
    "start_time": "2022-02-13T11:37:00.301Z"
   },
   {
    "duration": 53,
    "start_time": "2022-02-13T11:37:00.381Z"
   },
   {
    "duration": 168,
    "start_time": "2022-02-13T11:37:00.436Z"
   },
   {
    "duration": 7,
    "start_time": "2022-02-13T11:37:00.605Z"
   },
   {
    "duration": 305,
    "start_time": "2022-02-13T11:37:00.613Z"
   },
   {
    "duration": 17,
    "start_time": "2022-02-13T11:37:00.920Z"
   },
   {
    "duration": 29,
    "start_time": "2022-02-13T11:37:00.938Z"
   },
   {
    "duration": 7,
    "start_time": "2022-02-13T11:37:00.969Z"
   },
   {
    "duration": 17,
    "start_time": "2022-02-13T11:39:33.688Z"
   },
   {
    "duration": 15,
    "start_time": "2022-02-13T11:39:34.088Z"
   },
   {
    "duration": 33,
    "start_time": "2022-02-13T11:39:34.732Z"
   },
   {
    "duration": 43,
    "start_time": "2022-02-13T11:41:33.375Z"
   },
   {
    "duration": 28,
    "start_time": "2022-02-13T11:41:46.552Z"
   },
   {
    "duration": 18,
    "start_time": "2022-02-13T11:52:27.468Z"
   },
   {
    "duration": 16,
    "start_time": "2022-02-13T11:52:48.554Z"
   },
   {
    "duration": 32,
    "start_time": "2022-02-13T11:53:28.336Z"
   },
   {
    "duration": 31,
    "start_time": "2022-02-13T11:53:28.572Z"
   },
   {
    "duration": 32,
    "start_time": "2022-02-13T11:53:28.777Z"
   },
   {
    "duration": 33,
    "start_time": "2022-02-13T11:53:30.402Z"
   },
   {
    "duration": 4,
    "start_time": "2022-02-13T11:53:35.174Z"
   },
   {
    "duration": 737,
    "start_time": "2022-02-13T11:53:35.180Z"
   },
   {
    "duration": 12,
    "start_time": "2022-02-13T11:53:35.920Z"
   },
   {
    "duration": 124,
    "start_time": "2022-02-13T11:53:35.934Z"
   },
   {
    "duration": 135,
    "start_time": "2022-02-13T11:53:36.060Z"
   },
   {
    "duration": 112,
    "start_time": "2022-02-13T11:53:36.197Z"
   },
   {
    "duration": 368,
    "start_time": "2022-02-13T11:53:36.310Z"
   },
   {
    "duration": 89,
    "start_time": "2022-02-13T11:53:36.680Z"
   },
   {
    "duration": 99,
    "start_time": "2022-02-13T11:53:36.772Z"
   },
   {
    "duration": 37,
    "start_time": "2022-02-13T11:53:36.873Z"
   },
   {
    "duration": 52496,
    "start_time": "2022-02-13T11:53:36.912Z"
   },
   {
    "duration": 2306,
    "start_time": "2022-02-13T11:54:29.410Z"
   },
   {
    "duration": 204,
    "start_time": "2022-02-13T11:54:31.718Z"
   },
   {
    "duration": 40,
    "start_time": "2022-02-13T11:54:31.924Z"
   },
   {
    "duration": 18,
    "start_time": "2022-02-13T11:54:31.965Z"
   },
   {
    "duration": 20,
    "start_time": "2022-02-13T11:54:31.985Z"
   },
   {
    "duration": 23,
    "start_time": "2022-02-13T11:54:32.007Z"
   },
   {
    "duration": 45,
    "start_time": "2022-02-13T11:54:32.031Z"
   },
   {
    "duration": 41,
    "start_time": "2022-02-13T11:54:32.078Z"
   },
   {
    "duration": 25,
    "start_time": "2022-02-13T11:54:32.121Z"
   },
   {
    "duration": 20,
    "start_time": "2022-02-13T11:54:32.148Z"
   },
   {
    "duration": 22,
    "start_time": "2022-02-13T11:54:32.169Z"
   },
   {
    "duration": 13,
    "start_time": "2022-02-13T11:54:32.193Z"
   },
   {
    "duration": 65,
    "start_time": "2022-02-13T11:54:32.208Z"
   },
   {
    "duration": 48,
    "start_time": "2022-02-13T11:54:32.274Z"
   },
   {
    "duration": 169,
    "start_time": "2022-02-13T11:54:32.324Z"
   },
   {
    "duration": 6,
    "start_time": "2022-02-13T11:54:32.496Z"
   },
   {
    "duration": 192,
    "start_time": "2022-02-13T11:54:32.504Z"
   },
   {
    "duration": 18,
    "start_time": "2022-02-13T11:54:32.698Z"
   },
   {
    "duration": 18,
    "start_time": "2022-02-13T11:54:32.718Z"
   },
   {
    "duration": 28,
    "start_time": "2022-02-13T11:54:32.738Z"
   },
   {
    "duration": 33,
    "start_time": "2022-02-13T11:56:23.686Z"
   },
   {
    "duration": 15,
    "start_time": "2022-02-13T11:56:42.769Z"
   },
   {
    "duration": 15,
    "start_time": "2022-02-13T11:56:55.207Z"
   },
   {
    "duration": 32,
    "start_time": "2022-02-13T11:56:57.212Z"
   },
   {
    "duration": 21,
    "start_time": "2022-02-13T11:57:23.518Z"
   },
   {
    "duration": 33,
    "start_time": "2022-02-13T11:57:48.731Z"
   },
   {
    "duration": 19,
    "start_time": "2022-02-13T11:58:58.603Z"
   },
   {
    "duration": 16,
    "start_time": "2022-02-13T11:59:00.355Z"
   },
   {
    "duration": 418,
    "start_time": "2022-02-13T12:00:14.284Z"
   },
   {
    "duration": 176,
    "start_time": "2022-02-13T12:00:17.683Z"
   },
   {
    "duration": 349,
    "start_time": "2022-02-13T12:00:22.588Z"
   },
   {
    "duration": 34,
    "start_time": "2022-02-13T12:01:53.676Z"
   },
   {
    "duration": 16,
    "start_time": "2022-02-13T12:02:05.027Z"
   },
   {
    "duration": 31,
    "start_time": "2022-02-13T12:03:43.886Z"
   },
   {
    "duration": 20,
    "start_time": "2022-02-13T12:03:49.518Z"
   },
   {
    "duration": 21,
    "start_time": "2022-02-13T12:03:50.143Z"
   },
   {
    "duration": 57,
    "start_time": "2022-02-13T12:03:51.948Z"
   },
   {
    "duration": 31,
    "start_time": "2022-02-13T12:04:33.935Z"
   },
   {
    "duration": 16,
    "start_time": "2022-02-13T12:04:36.066Z"
   },
   {
    "duration": 20,
    "start_time": "2022-02-13T12:09:33.686Z"
   },
   {
    "duration": 16,
    "start_time": "2022-02-13T12:09:45.916Z"
   },
   {
    "duration": 63,
    "start_time": "2022-02-13T12:20:02.693Z"
   },
   {
    "duration": 871,
    "start_time": "2022-02-13T12:24:39.321Z"
   },
   {
    "duration": 14,
    "start_time": "2022-02-13T12:25:23.301Z"
   },
   {
    "duration": 184,
    "start_time": "2022-02-13T12:28:01.191Z"
   },
   {
    "duration": 184,
    "start_time": "2022-02-13T12:28:13.557Z"
   },
   {
    "duration": 4322,
    "start_time": "2022-02-13T12:28:34.811Z"
   },
   {
    "duration": 4,
    "start_time": "2022-02-13T12:28:48.730Z"
   },
   {
    "duration": 845,
    "start_time": "2022-02-13T12:28:48.735Z"
   },
   {
    "duration": 15,
    "start_time": "2022-02-13T12:28:49.582Z"
   },
   {
    "duration": 121,
    "start_time": "2022-02-13T12:28:49.599Z"
   },
   {
    "duration": 122,
    "start_time": "2022-02-13T12:28:49.722Z"
   },
   {
    "duration": 139,
    "start_time": "2022-02-13T12:28:49.846Z"
   },
   {
    "duration": 396,
    "start_time": "2022-02-13T12:28:49.986Z"
   },
   {
    "duration": 88,
    "start_time": "2022-02-13T12:28:50.385Z"
   },
   {
    "duration": 98,
    "start_time": "2022-02-13T12:28:50.475Z"
   },
   {
    "duration": 36,
    "start_time": "2022-02-13T12:28:50.575Z"
   },
   {
    "duration": 52236,
    "start_time": "2022-02-13T12:28:50.613Z"
   },
   {
    "duration": 2162,
    "start_time": "2022-02-13T12:29:42.851Z"
   },
   {
    "duration": 267,
    "start_time": "2022-02-13T12:29:45.015Z"
   },
   {
    "duration": 32,
    "start_time": "2022-02-13T12:29:45.284Z"
   },
   {
    "duration": 16,
    "start_time": "2022-02-13T12:29:45.318Z"
   },
   {
    "duration": 35,
    "start_time": "2022-02-13T12:29:45.338Z"
   },
   {
    "duration": 17,
    "start_time": "2022-02-13T12:29:45.375Z"
   },
   {
    "duration": 33,
    "start_time": "2022-02-13T12:29:45.394Z"
   },
   {
    "duration": 64,
    "start_time": "2022-02-13T12:29:45.429Z"
   },
   {
    "duration": 19,
    "start_time": "2022-02-13T12:29:45.495Z"
   },
   {
    "duration": 19,
    "start_time": "2022-02-13T12:29:45.516Z"
   },
   {
    "duration": 27,
    "start_time": "2022-02-13T12:29:45.537Z"
   },
   {
    "duration": 34,
    "start_time": "2022-02-13T12:29:45.738Z"
   },
   {
    "duration": 15,
    "start_time": "2022-02-13T12:29:45.774Z"
   },
   {
    "duration": 23,
    "start_time": "2022-02-13T12:29:45.791Z"
   },
   {
    "duration": 15,
    "start_time": "2022-02-13T12:29:45.816Z"
   },
   {
    "duration": 218,
    "start_time": "2022-02-13T12:29:45.832Z"
   },
   {
    "duration": 4,
    "start_time": "2022-02-13T12:29:46.048Z"
   },
   {
    "duration": -3,
    "start_time": "2022-02-13T12:29:46.056Z"
   },
   {
    "duration": -9,
    "start_time": "2022-02-13T12:29:46.063Z"
   },
   {
    "duration": -12,
    "start_time": "2022-02-13T12:29:46.067Z"
   },
   {
    "duration": -20,
    "start_time": "2022-02-13T12:29:46.076Z"
   },
   {
    "duration": -24,
    "start_time": "2022-02-13T12:29:46.081Z"
   },
   {
    "duration": -25,
    "start_time": "2022-02-13T12:29:46.083Z"
   },
   {
    "duration": -32,
    "start_time": "2022-02-13T12:29:46.091Z"
   },
   {
    "duration": -36,
    "start_time": "2022-02-13T12:29:46.096Z"
   },
   {
    "duration": -45,
    "start_time": "2022-02-13T12:29:46.106Z"
   },
   {
    "duration": -49,
    "start_time": "2022-02-13T12:29:46.111Z"
   },
   {
    "duration": -52,
    "start_time": "2022-02-13T12:29:46.115Z"
   },
   {
    "duration": -57,
    "start_time": "2022-02-13T12:29:46.121Z"
   },
   {
    "duration": -63,
    "start_time": "2022-02-13T12:29:46.128Z"
   },
   {
    "duration": -66,
    "start_time": "2022-02-13T12:29:46.132Z"
   },
   {
    "duration": -74,
    "start_time": "2022-02-13T12:29:46.141Z"
   },
   {
    "duration": -79,
    "start_time": "2022-02-13T12:29:46.147Z"
   },
   {
    "duration": -85,
    "start_time": "2022-02-13T12:29:46.154Z"
   },
   {
    "duration": -91,
    "start_time": "2022-02-13T12:29:46.161Z"
   },
   {
    "duration": 33,
    "start_time": "2022-02-13T12:32:36.101Z"
   },
   {
    "duration": 31,
    "start_time": "2022-02-13T12:32:36.910Z"
   },
   {
    "duration": 32,
    "start_time": "2022-02-13T12:32:37.240Z"
   },
   {
    "duration": 32,
    "start_time": "2022-02-13T12:32:39.799Z"
   },
   {
    "duration": 30,
    "start_time": "2022-02-13T12:32:42.221Z"
   },
   {
    "duration": 16,
    "start_time": "2022-02-13T12:32:42.467Z"
   },
   {
    "duration": 19,
    "start_time": "2022-02-13T12:32:42.871Z"
   },
   {
    "duration": 15,
    "start_time": "2022-02-13T12:32:43.064Z"
   },
   {
    "duration": 788,
    "start_time": "2022-02-13T12:32:43.559Z"
   },
   {
    "duration": 20,
    "start_time": "2022-02-13T12:32:44.349Z"
   },
   {
    "duration": 4835,
    "start_time": "2022-02-13T12:32:44.370Z"
   },
   {
    "duration": -24,
    "start_time": "2022-02-13T12:32:49.231Z"
   },
   {
    "duration": -27,
    "start_time": "2022-02-13T12:32:49.235Z"
   },
   {
    "duration": -30,
    "start_time": "2022-02-13T12:32:49.239Z"
   },
   {
    "duration": -34,
    "start_time": "2022-02-13T12:32:49.244Z"
   },
   {
    "duration": -37,
    "start_time": "2022-02-13T12:32:49.248Z"
   },
   {
    "duration": -40,
    "start_time": "2022-02-13T12:32:49.252Z"
   },
   {
    "duration": -43,
    "start_time": "2022-02-13T12:32:49.256Z"
   },
   {
    "duration": -47,
    "start_time": "2022-02-13T12:32:49.261Z"
   },
   {
    "duration": 57,
    "start_time": "2022-02-13T12:33:26.292Z"
   },
   {
    "duration": 196,
    "start_time": "2022-02-13T12:33:32.094Z"
   },
   {
    "duration": 4,
    "start_time": "2022-02-13T12:33:43.578Z"
   },
   {
    "duration": 749,
    "start_time": "2022-02-13T12:33:43.584Z"
   },
   {
    "duration": 13,
    "start_time": "2022-02-13T12:33:44.336Z"
   },
   {
    "duration": 127,
    "start_time": "2022-02-13T12:33:44.352Z"
   },
   {
    "duration": 126,
    "start_time": "2022-02-13T12:33:44.481Z"
   },
   {
    "duration": 116,
    "start_time": "2022-02-13T12:33:44.608Z"
   },
   {
    "duration": 422,
    "start_time": "2022-02-13T12:33:44.726Z"
   },
   {
    "duration": 82,
    "start_time": "2022-02-13T12:33:45.150Z"
   },
   {
    "duration": 110,
    "start_time": "2022-02-13T12:33:45.235Z"
   },
   {
    "duration": 56,
    "start_time": "2022-02-13T12:33:45.348Z"
   },
   {
    "duration": 52392,
    "start_time": "2022-02-13T12:33:45.406Z"
   },
   {
    "duration": 2202,
    "start_time": "2022-02-13T12:34:37.800Z"
   },
   {
    "duration": 212,
    "start_time": "2022-02-13T12:34:40.004Z"
   },
   {
    "duration": 31,
    "start_time": "2022-02-13T12:34:40.218Z"
   },
   {
    "duration": 21,
    "start_time": "2022-02-13T12:34:40.251Z"
   },
   {
    "duration": 17,
    "start_time": "2022-02-13T12:34:40.274Z"
   },
   {
    "duration": 15,
    "start_time": "2022-02-13T12:34:40.293Z"
   },
   {
    "duration": 52,
    "start_time": "2022-02-13T12:34:40.310Z"
   },
   {
    "duration": 33,
    "start_time": "2022-02-13T12:34:40.364Z"
   },
   {
    "duration": 22,
    "start_time": "2022-02-13T12:34:40.399Z"
   },
   {
    "duration": 39,
    "start_time": "2022-02-13T12:34:40.423Z"
   },
   {
    "duration": 22,
    "start_time": "2022-02-13T12:34:40.465Z"
   },
   {
    "duration": 34,
    "start_time": "2022-02-13T12:34:40.489Z"
   },
   {
    "duration": 35,
    "start_time": "2022-02-13T12:34:40.525Z"
   },
   {
    "duration": 25,
    "start_time": "2022-02-13T12:34:40.562Z"
   },
   {
    "duration": 16,
    "start_time": "2022-02-13T12:34:40.589Z"
   },
   {
    "duration": 57,
    "start_time": "2022-02-13T12:34:40.608Z"
   },
   {
    "duration": 21,
    "start_time": "2022-02-13T12:34:40.667Z"
   },
   {
    "duration": 19,
    "start_time": "2022-02-13T12:34:40.690Z"
   },
   {
    "duration": 49,
    "start_time": "2022-02-13T12:34:40.711Z"
   },
   {
    "duration": 31,
    "start_time": "2022-02-13T12:34:40.762Z"
   },
   {
    "duration": 19,
    "start_time": "2022-02-13T12:34:40.795Z"
   },
   {
    "duration": 19,
    "start_time": "2022-02-13T12:34:40.816Z"
   },
   {
    "duration": 31,
    "start_time": "2022-02-13T12:34:40.837Z"
   },
   {
    "duration": 1040,
    "start_time": "2022-02-13T12:34:40.869Z"
   },
   {
    "duration": 7,
    "start_time": "2022-02-13T12:34:41.904Z"
   },
   {
    "duration": 3,
    "start_time": "2022-02-13T12:34:41.909Z"
   },
   {
    "duration": -5,
    "start_time": "2022-02-13T12:34:41.918Z"
   },
   {
    "duration": -9,
    "start_time": "2022-02-13T12:34:41.924Z"
   },
   {
    "duration": -22,
    "start_time": "2022-02-13T12:34:41.938Z"
   },
   {
    "duration": -24,
    "start_time": "2022-02-13T12:34:41.941Z"
   },
   {
    "duration": -31,
    "start_time": "2022-02-13T12:34:41.950Z"
   },
   {
    "duration": -34,
    "start_time": "2022-02-13T12:34:41.954Z"
   },
   {
    "duration": -38,
    "start_time": "2022-02-13T12:34:41.959Z"
   },
   {
    "duration": -46,
    "start_time": "2022-02-13T12:34:41.968Z"
   },
   {
    "duration": 835,
    "start_time": "2022-02-13T12:35:44.351Z"
   },
   {
    "duration": 13,
    "start_time": "2022-02-13T12:35:56.603Z"
   },
   {
    "duration": 776,
    "start_time": "2022-02-13T12:40:15.046Z"
   },
   {
    "duration": 14,
    "start_time": "2022-02-13T12:40:16.793Z"
   },
   {
    "duration": 289,
    "start_time": "2022-02-13T12:40:28.169Z"
   },
   {
    "duration": 5,
    "start_time": "2022-02-13T12:40:31.465Z"
   },
   {
    "duration": 4345,
    "start_time": "2022-02-13T12:41:16.647Z"
   },
   {
    "duration": 4332,
    "start_time": "2022-02-13T12:41:54.265Z"
   },
   {
    "duration": 55,
    "start_time": "2022-02-13T12:44:51.616Z"
   },
   {
    "duration": 260,
    "start_time": "2022-02-13T12:47:14.587Z"
   },
   {
    "duration": 292,
    "start_time": "2022-02-13T12:48:49.520Z"
   },
   {
    "duration": 15,
    "start_time": "2022-02-13T12:49:01.030Z"
   },
   {
    "duration": 213,
    "start_time": "2022-02-13T12:49:31.900Z"
   },
   {
    "duration": 13,
    "start_time": "2022-02-13T12:49:34.638Z"
   },
   {
    "duration": 340,
    "start_time": "2022-02-13T12:49:48.911Z"
   },
   {
    "duration": 224,
    "start_time": "2022-02-13T12:49:55.599Z"
   },
   {
    "duration": 4748,
    "start_time": "2022-02-13T12:50:03.196Z"
   },
   {
    "duration": 18,
    "start_time": "2022-02-13T12:52:17.220Z"
   },
   {
    "duration": 10,
    "start_time": "2022-02-13T12:52:36.778Z"
   },
   {
    "duration": 4228,
    "start_time": "2022-02-13T12:52:40.735Z"
   },
   {
    "duration": -9,
    "start_time": "2022-02-13T12:52:44.974Z"
   },
   {
    "duration": 4,
    "start_time": "2022-02-13T12:52:55.355Z"
   },
   {
    "duration": 723,
    "start_time": "2022-02-13T12:52:55.361Z"
   },
   {
    "duration": 13,
    "start_time": "2022-02-13T12:52:56.086Z"
   },
   {
    "duration": 125,
    "start_time": "2022-02-13T12:52:56.100Z"
   },
   {
    "duration": 117,
    "start_time": "2022-02-13T12:52:56.227Z"
   },
   {
    "duration": 116,
    "start_time": "2022-02-13T12:52:56.346Z"
   },
   {
    "duration": 359,
    "start_time": "2022-02-13T12:52:56.465Z"
   },
   {
    "duration": 79,
    "start_time": "2022-02-13T12:52:56.826Z"
   },
   {
    "duration": 100,
    "start_time": "2022-02-13T12:52:56.907Z"
   },
   {
    "duration": 35,
    "start_time": "2022-02-13T12:52:57.009Z"
   },
   {
    "duration": 52113,
    "start_time": "2022-02-13T12:52:57.059Z"
   },
   {
    "duration": 2188,
    "start_time": "2022-02-13T12:53:49.174Z"
   },
   {
    "duration": 211,
    "start_time": "2022-02-13T12:53:51.364Z"
   },
   {
    "duration": 31,
    "start_time": "2022-02-13T12:53:51.577Z"
   },
   {
    "duration": 31,
    "start_time": "2022-02-13T12:53:51.609Z"
   },
   {
    "duration": 34,
    "start_time": "2022-02-13T12:53:51.641Z"
   },
   {
    "duration": 19,
    "start_time": "2022-02-13T12:53:51.677Z"
   },
   {
    "duration": 50,
    "start_time": "2022-02-13T12:53:51.698Z"
   },
   {
    "duration": 39,
    "start_time": "2022-02-13T12:53:51.751Z"
   },
   {
    "duration": 29,
    "start_time": "2022-02-13T12:53:51.792Z"
   },
   {
    "duration": 28,
    "start_time": "2022-02-13T12:53:51.822Z"
   },
   {
    "duration": 17,
    "start_time": "2022-02-13T12:53:51.851Z"
   },
   {
    "duration": 42,
    "start_time": "2022-02-13T12:53:51.870Z"
   },
   {
    "duration": 17,
    "start_time": "2022-02-13T12:53:51.914Z"
   },
   {
    "duration": 45,
    "start_time": "2022-02-13T12:53:51.933Z"
   },
   {
    "duration": 23,
    "start_time": "2022-02-13T12:53:51.980Z"
   },
   {
    "duration": 41,
    "start_time": "2022-02-13T12:53:52.005Z"
   },
   {
    "duration": 27,
    "start_time": "2022-02-13T12:53:52.048Z"
   },
   {
    "duration": 38,
    "start_time": "2022-02-13T12:53:52.077Z"
   },
   {
    "duration": 40,
    "start_time": "2022-02-13T12:53:52.117Z"
   },
   {
    "duration": 39,
    "start_time": "2022-02-13T12:53:52.160Z"
   },
   {
    "duration": 34,
    "start_time": "2022-02-13T12:53:52.201Z"
   },
   {
    "duration": 44,
    "start_time": "2022-02-13T12:53:52.237Z"
   },
   {
    "duration": 29,
    "start_time": "2022-02-13T12:53:52.283Z"
   },
   {
    "duration": 102,
    "start_time": "2022-02-13T12:53:52.314Z"
   },
   {
    "duration": 1352,
    "start_time": "2022-02-13T12:53:52.417Z"
   },
   {
    "duration": -2,
    "start_time": "2022-02-13T12:53:53.774Z"
   },
   {
    "duration": 4,
    "start_time": "2022-02-13T12:53:53.776Z"
   },
   {
    "duration": 2,
    "start_time": "2022-02-13T12:53:53.780Z"
   },
   {
    "duration": -3,
    "start_time": "2022-02-13T12:53:53.786Z"
   },
   {
    "duration": -4,
    "start_time": "2022-02-13T12:53:53.789Z"
   },
   {
    "duration": -6,
    "start_time": "2022-02-13T12:53:53.792Z"
   },
   {
    "duration": -10,
    "start_time": "2022-02-13T12:53:53.797Z"
   },
   {
    "duration": -12,
    "start_time": "2022-02-13T12:53:53.801Z"
   },
   {
    "duration": -14,
    "start_time": "2022-02-13T12:53:53.804Z"
   },
   {
    "duration": -17,
    "start_time": "2022-02-13T12:53:53.808Z"
   },
   {
    "duration": 877,
    "start_time": "2022-02-13T12:54:39.170Z"
   },
   {
    "duration": 100,
    "start_time": "2022-02-13T12:54:45.163Z"
   },
   {
    "duration": 4533,
    "start_time": "2022-02-13T12:54:58.671Z"
   },
   {
    "duration": 188,
    "start_time": "2022-02-13T13:08:40.893Z"
   },
   {
    "duration": 199,
    "start_time": "2022-02-13T13:08:47.790Z"
   },
   {
    "duration": 4333,
    "start_time": "2022-02-13T13:10:05.282Z"
   },
   {
    "duration": 5,
    "start_time": "2022-02-13T13:10:26.089Z"
   },
   {
    "duration": 855,
    "start_time": "2022-02-13T13:10:26.097Z"
   },
   {
    "duration": 13,
    "start_time": "2022-02-13T13:10:26.954Z"
   },
   {
    "duration": 144,
    "start_time": "2022-02-13T13:10:26.969Z"
   },
   {
    "duration": 120,
    "start_time": "2022-02-13T13:10:27.115Z"
   },
   {
    "duration": 125,
    "start_time": "2022-02-13T13:10:27.236Z"
   },
   {
    "duration": 381,
    "start_time": "2022-02-13T13:10:27.363Z"
   },
   {
    "duration": 81,
    "start_time": "2022-02-13T13:10:27.746Z"
   },
   {
    "duration": 106,
    "start_time": "2022-02-13T13:10:27.829Z"
   },
   {
    "duration": 48,
    "start_time": "2022-02-13T13:10:27.936Z"
   },
   {
    "duration": 51531,
    "start_time": "2022-02-13T13:10:27.986Z"
   },
   {
    "duration": 2150,
    "start_time": "2022-02-13T13:11:19.520Z"
   },
   {
    "duration": 240,
    "start_time": "2022-02-13T13:11:21.672Z"
   },
   {
    "duration": 31,
    "start_time": "2022-02-13T13:11:21.914Z"
   },
   {
    "duration": 25,
    "start_time": "2022-02-13T13:11:21.947Z"
   },
   {
    "duration": 26,
    "start_time": "2022-02-13T13:11:21.974Z"
   },
   {
    "duration": 16,
    "start_time": "2022-02-13T13:11:22.002Z"
   },
   {
    "duration": 52,
    "start_time": "2022-02-13T13:11:22.019Z"
   },
   {
    "duration": 33,
    "start_time": "2022-02-13T13:11:22.074Z"
   },
   {
    "duration": 15,
    "start_time": "2022-02-13T13:11:22.110Z"
   },
   {
    "duration": 36,
    "start_time": "2022-02-13T13:11:22.127Z"
   },
   {
    "duration": 15,
    "start_time": "2022-02-13T13:11:22.165Z"
   },
   {
    "duration": 35,
    "start_time": "2022-02-13T13:11:22.182Z"
   },
   {
    "duration": 16,
    "start_time": "2022-02-13T13:11:22.219Z"
   },
   {
    "duration": 39,
    "start_time": "2022-02-13T13:11:22.237Z"
   },
   {
    "duration": 16,
    "start_time": "2022-02-13T13:11:22.277Z"
   },
   {
    "duration": 34,
    "start_time": "2022-02-13T13:11:22.295Z"
   },
   {
    "duration": 35,
    "start_time": "2022-02-13T13:11:22.331Z"
   },
   {
    "duration": 22,
    "start_time": "2022-02-13T13:11:22.368Z"
   },
   {
    "duration": 34,
    "start_time": "2022-02-13T13:11:22.392Z"
   },
   {
    "duration": 48,
    "start_time": "2022-02-13T13:11:22.428Z"
   },
   {
    "duration": 16,
    "start_time": "2022-02-13T13:11:22.478Z"
   },
   {
    "duration": 20,
    "start_time": "2022-02-13T13:11:22.496Z"
   },
   {
    "duration": 16,
    "start_time": "2022-02-13T13:11:22.517Z"
   },
   {
    "duration": 115,
    "start_time": "2022-02-13T13:11:22.535Z"
   },
   {
    "duration": 170,
    "start_time": "2022-02-13T13:11:22.659Z"
   },
   {
    "duration": -97,
    "start_time": "2022-02-13T13:11:22.929Z"
   },
   {
    "duration": -115,
    "start_time": "2022-02-13T13:11:22.948Z"
   },
   {
    "duration": -129,
    "start_time": "2022-02-13T13:11:22.964Z"
   },
   {
    "duration": -144,
    "start_time": "2022-02-13T13:11:22.980Z"
   },
   {
    "duration": -158,
    "start_time": "2022-02-13T13:11:22.995Z"
   },
   {
    "duration": -163,
    "start_time": "2022-02-13T13:11:23.002Z"
   },
   {
    "duration": -165,
    "start_time": "2022-02-13T13:11:23.005Z"
   },
   {
    "duration": -189,
    "start_time": "2022-02-13T13:11:23.030Z"
   },
   {
    "duration": -203,
    "start_time": "2022-02-13T13:11:23.046Z"
   },
   {
    "duration": -219,
    "start_time": "2022-02-13T13:11:23.063Z"
   },
   {
    "duration": -234,
    "start_time": "2022-02-13T13:11:23.079Z"
   },
   {
    "duration": 217,
    "start_time": "2022-02-13T13:11:32.989Z"
   },
   {
    "duration": 47,
    "start_time": "2022-02-13T13:11:39.791Z"
   },
   {
    "duration": 5,
    "start_time": "2022-02-13T13:12:15.975Z"
   },
   {
    "duration": 13,
    "start_time": "2022-02-13T13:12:28.320Z"
   },
   {
    "duration": 11,
    "start_time": "2022-02-13T13:16:55.885Z"
   },
   {
    "duration": 8,
    "start_time": "2022-02-13T13:17:04.184Z"
   },
   {
    "duration": 8,
    "start_time": "2022-02-13T13:17:13.964Z"
   },
   {
    "duration": 43,
    "start_time": "2022-02-13T13:21:24.934Z"
   },
   {
    "duration": 44,
    "start_time": "2022-02-13T13:21:54.908Z"
   },
   {
    "duration": 8,
    "start_time": "2022-02-13T13:21:59.113Z"
   },
   {
    "duration": 4,
    "start_time": "2022-02-13T13:22:19.714Z"
   },
   {
    "duration": 785,
    "start_time": "2022-02-13T13:22:19.720Z"
   },
   {
    "duration": 13,
    "start_time": "2022-02-13T13:22:20.507Z"
   },
   {
    "duration": 127,
    "start_time": "2022-02-13T13:22:20.522Z"
   },
   {
    "duration": 120,
    "start_time": "2022-02-13T13:22:20.651Z"
   },
   {
    "duration": 115,
    "start_time": "2022-02-13T13:22:20.773Z"
   },
   {
    "duration": 383,
    "start_time": "2022-02-13T13:22:20.890Z"
   },
   {
    "duration": 90,
    "start_time": "2022-02-13T13:22:21.276Z"
   },
   {
    "duration": 99,
    "start_time": "2022-02-13T13:22:21.369Z"
   },
   {
    "duration": 38,
    "start_time": "2022-02-13T13:22:21.470Z"
   },
   {
    "duration": 51847,
    "start_time": "2022-02-13T13:22:21.510Z"
   },
   {
    "duration": 2244,
    "start_time": "2022-02-13T13:23:13.359Z"
   },
   {
    "duration": 217,
    "start_time": "2022-02-13T13:23:15.605Z"
   },
   {
    "duration": 37,
    "start_time": "2022-02-13T13:23:15.824Z"
   },
   {
    "duration": 17,
    "start_time": "2022-02-13T13:23:15.862Z"
   },
   {
    "duration": 22,
    "start_time": "2022-02-13T13:23:15.880Z"
   },
   {
    "duration": 16,
    "start_time": "2022-02-13T13:23:15.904Z"
   },
   {
    "duration": 54,
    "start_time": "2022-02-13T13:23:15.921Z"
   },
   {
    "duration": 36,
    "start_time": "2022-02-13T13:23:15.977Z"
   },
   {
    "duration": 18,
    "start_time": "2022-02-13T13:23:16.015Z"
   },
   {
    "duration": 30,
    "start_time": "2022-02-13T13:23:16.036Z"
   },
   {
    "duration": 18,
    "start_time": "2022-02-13T13:23:16.067Z"
   },
   {
    "duration": 33,
    "start_time": "2022-02-13T13:23:16.089Z"
   },
   {
    "duration": 696,
    "start_time": "2022-02-13T13:23:16.125Z"
   },
   {
    "duration": -66,
    "start_time": "2022-02-13T13:23:16.889Z"
   },
   {
    "duration": -71,
    "start_time": "2022-02-13T13:23:16.895Z"
   },
   {
    "duration": -74,
    "start_time": "2022-02-13T13:23:16.899Z"
   },
   {
    "duration": -77,
    "start_time": "2022-02-13T13:23:16.903Z"
   },
   {
    "duration": -79,
    "start_time": "2022-02-13T13:23:16.906Z"
   },
   {
    "duration": -82,
    "start_time": "2022-02-13T13:23:16.910Z"
   },
   {
    "duration": -85,
    "start_time": "2022-02-13T13:23:16.914Z"
   },
   {
    "duration": -88,
    "start_time": "2022-02-13T13:23:16.918Z"
   },
   {
    "duration": -92,
    "start_time": "2022-02-13T13:23:16.923Z"
   },
   {
    "duration": -97,
    "start_time": "2022-02-13T13:23:16.929Z"
   },
   {
    "duration": -101,
    "start_time": "2022-02-13T13:23:16.934Z"
   },
   {
    "duration": -105,
    "start_time": "2022-02-13T13:23:16.939Z"
   },
   {
    "duration": -111,
    "start_time": "2022-02-13T13:23:16.946Z"
   },
   {
    "duration": -118,
    "start_time": "2022-02-13T13:23:16.954Z"
   },
   {
    "duration": -122,
    "start_time": "2022-02-13T13:23:16.959Z"
   },
   {
    "duration": -126,
    "start_time": "2022-02-13T13:23:16.964Z"
   },
   {
    "duration": -130,
    "start_time": "2022-02-13T13:23:16.969Z"
   },
   {
    "duration": -133,
    "start_time": "2022-02-13T13:23:16.973Z"
   },
   {
    "duration": -164,
    "start_time": "2022-02-13T13:23:17.005Z"
   },
   {
    "duration": -167,
    "start_time": "2022-02-13T13:23:17.010Z"
   },
   {
    "duration": -178,
    "start_time": "2022-02-13T13:23:17.022Z"
   },
   {
    "duration": -181,
    "start_time": "2022-02-13T13:23:17.026Z"
   },
   {
    "duration": -191,
    "start_time": "2022-02-13T13:23:17.037Z"
   },
   {
    "duration": -195,
    "start_time": "2022-02-13T13:23:17.042Z"
   },
   {
    "duration": 250,
    "start_time": "2022-02-13T13:27:37.676Z"
   },
   {
    "duration": 60,
    "start_time": "2022-02-13T13:28:08.088Z"
   },
   {
    "duration": 70402,
    "start_time": "2022-02-13T13:32:24.589Z"
   },
   {
    "duration": 2832,
    "start_time": "2022-02-13T13:34:21.276Z"
   },
   {
    "duration": 16,
    "start_time": "2022-02-13T13:34:27.068Z"
   },
   {
    "duration": 21,
    "start_time": "2022-02-13T13:34:31.074Z"
   },
   {
    "duration": 15,
    "start_time": "2022-02-13T13:34:32.671Z"
   },
   {
    "duration": 31,
    "start_time": "2022-02-13T13:34:43.842Z"
   },
   {
    "duration": 45,
    "start_time": "2022-02-13T13:36:19.094Z"
   },
   {
    "duration": 15,
    "start_time": "2022-02-13T13:36:21.141Z"
   },
   {
    "duration": 32,
    "start_time": "2022-02-13T13:37:24.343Z"
   },
   {
    "duration": 16,
    "start_time": "2022-02-13T13:37:26.100Z"
   },
   {
    "duration": 10,
    "start_time": "2022-02-13T13:37:30.149Z"
   },
   {
    "duration": 4,
    "start_time": "2022-02-13T13:37:47.347Z"
   },
   {
    "duration": 718,
    "start_time": "2022-02-13T13:37:47.353Z"
   },
   {
    "duration": 12,
    "start_time": "2022-02-13T13:37:48.073Z"
   },
   {
    "duration": 136,
    "start_time": "2022-02-13T13:37:48.087Z"
   },
   {
    "duration": 110,
    "start_time": "2022-02-13T13:37:48.224Z"
   },
   {
    "duration": 117,
    "start_time": "2022-02-13T13:37:48.335Z"
   },
   {
    "duration": 413,
    "start_time": "2022-02-13T13:37:48.453Z"
   },
   {
    "duration": 102,
    "start_time": "2022-02-13T13:37:48.869Z"
   },
   {
    "duration": 94,
    "start_time": "2022-02-13T13:37:48.973Z"
   },
   {
    "duration": 33,
    "start_time": "2022-02-13T13:37:49.069Z"
   },
   {
    "duration": 51571,
    "start_time": "2022-02-13T13:37:49.104Z"
   },
   {
    "duration": 2130,
    "start_time": "2022-02-13T13:38:40.677Z"
   },
   {
    "duration": 257,
    "start_time": "2022-02-13T13:38:42.809Z"
   },
   {
    "duration": 38,
    "start_time": "2022-02-13T13:38:43.068Z"
   },
   {
    "duration": 19,
    "start_time": "2022-02-13T13:38:43.108Z"
   },
   {
    "duration": 35,
    "start_time": "2022-02-13T13:38:43.129Z"
   },
   {
    "duration": 15,
    "start_time": "2022-02-13T13:38:43.166Z"
   },
   {
    "duration": 32,
    "start_time": "2022-02-13T13:38:43.183Z"
   },
   {
    "duration": 46,
    "start_time": "2022-02-13T13:38:43.217Z"
   },
   {
    "duration": 17,
    "start_time": "2022-02-13T13:38:43.265Z"
   },
   {
    "duration": 20,
    "start_time": "2022-02-13T13:38:43.283Z"
   },
   {
    "duration": 15,
    "start_time": "2022-02-13T13:38:43.305Z"
   },
   {
    "duration": 52,
    "start_time": "2022-02-13T13:38:43.323Z"
   },
   {
    "duration": 69654,
    "start_time": "2022-02-13T13:38:43.377Z"
   },
   {
    "duration": 27,
    "start_time": "2022-02-13T13:39:53.033Z"
   },
   {
    "duration": 23,
    "start_time": "2022-02-13T13:39:53.061Z"
   },
   {
    "duration": 23,
    "start_time": "2022-02-13T13:39:53.087Z"
   },
   {
    "duration": 49,
    "start_time": "2022-02-13T13:39:53.112Z"
   },
   {
    "duration": 4533,
    "start_time": "2022-02-13T13:39:53.163Z"
   },
   {
    "duration": 15,
    "start_time": "2022-02-13T13:39:57.698Z"
   },
   {
    "duration": 19,
    "start_time": "2022-02-13T13:39:57.715Z"
   },
   {
    "duration": 49,
    "start_time": "2022-02-13T13:39:57.736Z"
   },
   {
    "duration": 38,
    "start_time": "2022-02-13T13:39:57.787Z"
   },
   {
    "duration": 18,
    "start_time": "2022-02-13T13:39:57.827Z"
   },
   {
    "duration": 29,
    "start_time": "2022-02-13T13:39:57.847Z"
   },
   {
    "duration": 16,
    "start_time": "2022-02-13T13:39:57.878Z"
   },
   {
    "duration": 11,
    "start_time": "2022-02-13T13:39:57.896Z"
   },
   {
    "duration": 85,
    "start_time": "2022-02-13T13:39:57.909Z"
   },
   {
    "duration": 51,
    "start_time": "2022-02-13T13:39:57.996Z"
   },
   {
    "duration": 176,
    "start_time": "2022-02-13T13:39:58.049Z"
   },
   {
    "duration": 7,
    "start_time": "2022-02-13T13:39:58.227Z"
   },
   {
    "duration": 195,
    "start_time": "2022-02-13T13:39:58.235Z"
   },
   {
    "duration": 28,
    "start_time": "2022-02-13T13:39:58.432Z"
   },
   {
    "duration": 19,
    "start_time": "2022-02-13T13:39:58.462Z"
   },
   {
    "duration": 8,
    "start_time": "2022-02-13T13:39:58.483Z"
   },
   {
    "duration": 28,
    "start_time": "2022-02-13T13:47:22.847Z"
   },
   {
    "duration": 8,
    "start_time": "2022-02-13T13:51:43.657Z"
   },
   {
    "duration": 202,
    "start_time": "2022-02-13T13:54:44.697Z"
   },
   {
    "duration": 186,
    "start_time": "2022-02-13T13:55:02.269Z"
   },
   {
    "duration": 182,
    "start_time": "2022-02-13T13:55:40.234Z"
   },
   {
    "duration": 175,
    "start_time": "2022-02-13T13:56:43.790Z"
   },
   {
    "duration": 203,
    "start_time": "2022-02-13T13:56:54.159Z"
   },
   {
    "duration": 4,
    "start_time": "2022-02-13T13:57:02.304Z"
   },
   {
    "duration": 807,
    "start_time": "2022-02-13T13:57:02.309Z"
   },
   {
    "duration": 13,
    "start_time": "2022-02-13T13:57:03.118Z"
   },
   {
    "duration": 130,
    "start_time": "2022-02-13T13:57:03.133Z"
   },
   {
    "duration": 116,
    "start_time": "2022-02-13T13:57:03.265Z"
   },
   {
    "duration": 118,
    "start_time": "2022-02-13T13:57:03.383Z"
   },
   {
    "duration": 393,
    "start_time": "2022-02-13T13:57:03.503Z"
   },
   {
    "duration": 84,
    "start_time": "2022-02-13T13:57:03.899Z"
   },
   {
    "duration": 102,
    "start_time": "2022-02-13T13:57:03.987Z"
   },
   {
    "duration": 39,
    "start_time": "2022-02-13T13:57:04.091Z"
   },
   {
    "duration": 52249,
    "start_time": "2022-02-13T13:57:04.132Z"
   },
   {
    "duration": 2176,
    "start_time": "2022-02-13T13:57:56.383Z"
   },
   {
    "duration": 218,
    "start_time": "2022-02-13T13:57:58.561Z"
   },
   {
    "duration": 32,
    "start_time": "2022-02-13T13:57:58.781Z"
   },
   {
    "duration": 17,
    "start_time": "2022-02-13T13:57:58.814Z"
   },
   {
    "duration": 36,
    "start_time": "2022-02-13T13:57:58.833Z"
   },
   {
    "duration": 15,
    "start_time": "2022-02-13T13:57:58.871Z"
   },
   {
    "duration": 32,
    "start_time": "2022-02-13T13:57:58.888Z"
   },
   {
    "duration": 50,
    "start_time": "2022-02-13T13:57:58.922Z"
   },
   {
    "duration": 14,
    "start_time": "2022-02-13T13:57:58.974Z"
   },
   {
    "duration": 20,
    "start_time": "2022-02-13T13:57:58.989Z"
   },
   {
    "duration": 15,
    "start_time": "2022-02-13T13:57:59.011Z"
   },
   {
    "duration": 55,
    "start_time": "2022-02-13T13:57:59.028Z"
   },
   {
    "duration": 69909,
    "start_time": "2022-02-13T13:57:59.085Z"
   },
   {
    "duration": 16,
    "start_time": "2022-02-13T13:59:08.996Z"
   },
   {
    "duration": 33,
    "start_time": "2022-02-13T13:59:09.014Z"
   },
   {
    "duration": 16,
    "start_time": "2022-02-13T13:59:09.051Z"
   },
   {
    "duration": 38,
    "start_time": "2022-02-13T13:59:09.069Z"
   },
   {
    "duration": 52,
    "start_time": "2022-02-13T13:59:09.109Z"
   },
   {
    "duration": 4488,
    "start_time": "2022-02-13T13:59:09.163Z"
   },
   {
    "duration": 17,
    "start_time": "2022-02-13T13:59:13.653Z"
   },
   {
    "duration": 22,
    "start_time": "2022-02-13T13:59:13.671Z"
   },
   {
    "duration": 32,
    "start_time": "2022-02-13T13:59:13.695Z"
   },
   {
    "duration": 56,
    "start_time": "2022-02-13T13:59:13.729Z"
   },
   {
    "duration": 20,
    "start_time": "2022-02-13T13:59:13.787Z"
   },
   {
    "duration": 18,
    "start_time": "2022-02-13T13:59:13.809Z"
   },
   {
    "duration": 30,
    "start_time": "2022-02-13T13:59:13.829Z"
   },
   {
    "duration": 7,
    "start_time": "2022-02-13T13:59:13.861Z"
   },
   {
    "duration": 230,
    "start_time": "2022-02-13T13:59:13.869Z"
   },
   {
    "duration": 66,
    "start_time": "2022-02-13T13:59:14.035Z"
   },
   {
    "duration": 58,
    "start_time": "2022-02-13T13:59:14.044Z"
   },
   {
    "duration": 56,
    "start_time": "2022-02-13T13:59:14.047Z"
   },
   {
    "duration": 52,
    "start_time": "2022-02-13T13:59:14.052Z"
   },
   {
    "duration": -6,
    "start_time": "2022-02-13T13:59:14.111Z"
   },
   {
    "duration": -9,
    "start_time": "2022-02-13T13:59:14.115Z"
   },
   {
    "duration": -11,
    "start_time": "2022-02-13T13:59:14.118Z"
   },
   {
    "duration": -14,
    "start_time": "2022-02-13T13:59:14.122Z"
   },
   {
    "duration": -21,
    "start_time": "2022-02-13T13:59:14.130Z"
   },
   {
    "duration": 183,
    "start_time": "2022-02-13T14:24:42.624Z"
   },
   {
    "duration": 5,
    "start_time": "2022-02-13T14:25:10.646Z"
   },
   {
    "duration": 970,
    "start_time": "2022-02-13T14:25:10.653Z"
   },
   {
    "duration": 13,
    "start_time": "2022-02-13T14:25:11.625Z"
   },
   {
    "duration": 123,
    "start_time": "2022-02-13T14:25:11.640Z"
   },
   {
    "duration": 119,
    "start_time": "2022-02-13T14:25:11.765Z"
   },
   {
    "duration": 117,
    "start_time": "2022-02-13T14:25:11.886Z"
   },
   {
    "duration": 387,
    "start_time": "2022-02-13T14:25:12.006Z"
   },
   {
    "duration": 87,
    "start_time": "2022-02-13T14:25:12.395Z"
   },
   {
    "duration": 98,
    "start_time": "2022-02-13T14:25:12.484Z"
   },
   {
    "duration": 36,
    "start_time": "2022-02-13T14:25:12.584Z"
   },
   {
    "duration": 52440,
    "start_time": "2022-02-13T14:25:12.622Z"
   },
   {
    "duration": 2173,
    "start_time": "2022-02-13T14:26:05.064Z"
   },
   {
    "duration": 265,
    "start_time": "2022-02-13T14:26:07.240Z"
   },
   {
    "duration": 38,
    "start_time": "2022-02-13T14:26:07.507Z"
   },
   {
    "duration": 18,
    "start_time": "2022-02-13T14:26:07.560Z"
   },
   {
    "duration": 21,
    "start_time": "2022-02-13T14:26:07.580Z"
   },
   {
    "duration": 16,
    "start_time": "2022-02-13T14:26:07.602Z"
   },
   {
    "duration": 55,
    "start_time": "2022-02-13T14:26:07.619Z"
   },
   {
    "duration": 34,
    "start_time": "2022-02-13T14:26:07.678Z"
   },
   {
    "duration": 15,
    "start_time": "2022-02-13T14:26:07.715Z"
   },
   {
    "duration": 43,
    "start_time": "2022-02-13T14:26:07.732Z"
   },
   {
    "duration": 18,
    "start_time": "2022-02-13T14:26:07.777Z"
   },
   {
    "duration": 34,
    "start_time": "2022-02-13T14:26:07.797Z"
   },
   {
    "duration": 71027,
    "start_time": "2022-02-13T14:26:07.833Z"
   },
   {
    "duration": 16,
    "start_time": "2022-02-13T14:27:18.862Z"
   },
   {
    "duration": 27,
    "start_time": "2022-02-13T14:27:18.879Z"
   },
   {
    "duration": 15,
    "start_time": "2022-02-13T14:27:18.908Z"
   },
   {
    "duration": 50,
    "start_time": "2022-02-13T14:27:18.925Z"
   },
   {
    "duration": 43,
    "start_time": "2022-02-13T14:27:18.976Z"
   },
   {
    "duration": 4374,
    "start_time": "2022-02-13T14:27:19.021Z"
   },
   {
    "duration": 15,
    "start_time": "2022-02-13T14:27:23.397Z"
   },
   {
    "duration": 25,
    "start_time": "2022-02-13T14:27:23.413Z"
   },
   {
    "duration": 50,
    "start_time": "2022-02-13T14:27:23.440Z"
   },
   {
    "duration": 33,
    "start_time": "2022-02-13T14:27:23.491Z"
   },
   {
    "duration": 19,
    "start_time": "2022-02-13T14:27:23.526Z"
   },
   {
    "duration": 28,
    "start_time": "2022-02-13T14:27:23.546Z"
   },
   {
    "duration": 15,
    "start_time": "2022-02-13T14:27:23.576Z"
   },
   {
    "duration": 9,
    "start_time": "2022-02-13T14:27:23.592Z"
   },
   {
    "duration": 229,
    "start_time": "2022-02-13T14:27:23.603Z"
   },
   {
    "duration": 96,
    "start_time": "2022-02-13T14:27:23.738Z"
   },
   {
    "duration": 86,
    "start_time": "2022-02-13T14:27:23.749Z"
   },
   {
    "duration": 82,
    "start_time": "2022-02-13T14:27:23.754Z"
   },
   {
    "duration": 72,
    "start_time": "2022-02-13T14:27:23.764Z"
   },
   {
    "duration": 68,
    "start_time": "2022-02-13T14:27:23.769Z"
   },
   {
    "duration": 62,
    "start_time": "2022-02-13T14:27:23.776Z"
   },
   {
    "duration": 58,
    "start_time": "2022-02-13T14:27:23.781Z"
   },
   {
    "duration": 55,
    "start_time": "2022-02-13T14:27:23.785Z"
   },
   {
    "duration": 53,
    "start_time": "2022-02-13T14:27:23.788Z"
   },
   {
    "duration": 190,
    "start_time": "2022-02-13T14:28:05.811Z"
   },
   {
    "duration": 181,
    "start_time": "2022-02-13T14:28:08.658Z"
   },
   {
    "duration": 4,
    "start_time": "2022-02-13T14:28:12.908Z"
   },
   {
    "duration": 750,
    "start_time": "2022-02-13T14:28:12.913Z"
   },
   {
    "duration": 12,
    "start_time": "2022-02-13T14:28:13.664Z"
   },
   {
    "duration": 127,
    "start_time": "2022-02-13T14:28:13.678Z"
   },
   {
    "duration": 114,
    "start_time": "2022-02-13T14:28:13.807Z"
   },
   {
    "duration": 114,
    "start_time": "2022-02-13T14:28:13.922Z"
   },
   {
    "duration": 383,
    "start_time": "2022-02-13T14:28:14.037Z"
   },
   {
    "duration": 79,
    "start_time": "2022-02-13T14:28:14.422Z"
   },
   {
    "duration": 103,
    "start_time": "2022-02-13T14:28:14.502Z"
   },
   {
    "duration": 53,
    "start_time": "2022-02-13T14:28:14.607Z"
   },
   {
    "duration": 52730,
    "start_time": "2022-02-13T14:28:14.662Z"
   },
   {
    "duration": 2151,
    "start_time": "2022-02-13T14:29:07.394Z"
   },
   {
    "duration": 246,
    "start_time": "2022-02-13T14:29:09.546Z"
   },
   {
    "duration": 31,
    "start_time": "2022-02-13T14:29:09.794Z"
   },
   {
    "duration": 20,
    "start_time": "2022-02-13T14:29:09.827Z"
   },
   {
    "duration": 18,
    "start_time": "2022-02-13T14:29:09.859Z"
   },
   {
    "duration": 15,
    "start_time": "2022-02-13T14:29:09.879Z"
   },
   {
    "duration": 32,
    "start_time": "2022-02-13T14:29:09.896Z"
   },
   {
    "duration": 53,
    "start_time": "2022-02-13T14:29:09.929Z"
   },
   {
    "duration": 18,
    "start_time": "2022-02-13T14:29:09.984Z"
   },
   {
    "duration": 27,
    "start_time": "2022-02-13T14:29:10.004Z"
   },
   {
    "duration": 28,
    "start_time": "2022-02-13T14:29:10.033Z"
   },
   {
    "duration": 39,
    "start_time": "2022-02-13T14:29:10.065Z"
   },
   {
    "duration": 70366,
    "start_time": "2022-02-13T14:29:10.106Z"
   },
   {
    "duration": 15,
    "start_time": "2022-02-13T14:30:20.474Z"
   },
   {
    "duration": 26,
    "start_time": "2022-02-13T14:30:20.491Z"
   },
   {
    "duration": 15,
    "start_time": "2022-02-13T14:30:20.519Z"
   },
   {
    "duration": 52,
    "start_time": "2022-02-13T14:30:20.535Z"
   },
   {
    "duration": 34,
    "start_time": "2022-02-13T14:30:20.589Z"
   },
   {
    "duration": 4439,
    "start_time": "2022-02-13T14:30:20.624Z"
   },
   {
    "duration": 16,
    "start_time": "2022-02-13T14:30:25.065Z"
   },
   {
    "duration": 28,
    "start_time": "2022-02-13T14:30:25.082Z"
   },
   {
    "duration": 48,
    "start_time": "2022-02-13T14:30:25.112Z"
   },
   {
    "duration": 31,
    "start_time": "2022-02-13T14:30:25.161Z"
   },
   {
    "duration": 19,
    "start_time": "2022-02-13T14:30:25.194Z"
   },
   {
    "duration": 45,
    "start_time": "2022-02-13T14:30:25.214Z"
   },
   {
    "duration": 15,
    "start_time": "2022-02-13T14:30:25.261Z"
   },
   {
    "duration": 11,
    "start_time": "2022-02-13T14:30:25.278Z"
   },
   {
    "duration": 144,
    "start_time": "2022-02-13T14:30:25.291Z"
   },
   {
    "duration": 7,
    "start_time": "2022-02-13T14:30:25.437Z"
   },
   {
    "duration": 63,
    "start_time": "2022-02-13T14:30:25.446Z"
   },
   {
    "duration": 61,
    "start_time": "2022-02-13T14:30:25.512Z"
   },
   {
    "duration": 158,
    "start_time": "2022-02-13T14:30:25.575Z"
   },
   {
    "duration": 6,
    "start_time": "2022-02-13T14:30:25.736Z"
   },
   {
    "duration": 185,
    "start_time": "2022-02-13T14:30:25.744Z"
   },
   {
    "duration": 17,
    "start_time": "2022-02-13T14:30:25.931Z"
   },
   {
    "duration": 25,
    "start_time": "2022-02-13T14:30:25.949Z"
   },
   {
    "duration": 7,
    "start_time": "2022-02-13T14:30:25.975Z"
   },
   {
    "duration": 92,
    "start_time": "2022-02-13T14:36:28.638Z"
   },
   {
    "duration": 96,
    "start_time": "2022-02-13T14:38:01.514Z"
   },
   {
    "duration": 17,
    "start_time": "2022-02-13T14:39:09.285Z"
   },
   {
    "duration": 16,
    "start_time": "2022-02-13T14:39:10.782Z"
   },
   {
    "duration": 32,
    "start_time": "2022-02-13T14:39:11.378Z"
   },
   {
    "duration": 91,
    "start_time": "2022-02-13T14:39:20.603Z"
   },
   {
    "duration": 32,
    "start_time": "2022-02-13T14:39:31.098Z"
   },
   {
    "duration": 15,
    "start_time": "2022-02-13T14:39:31.411Z"
   },
   {
    "duration": 18,
    "start_time": "2022-02-13T14:39:31.716Z"
   },
   {
    "duration": 15,
    "start_time": "2022-02-13T14:39:31.877Z"
   },
   {
    "duration": 28,
    "start_time": "2022-02-13T14:39:32.323Z"
   },
   {
    "duration": 2888,
    "start_time": "2022-02-13T14:39:32.628Z"
   },
   {
    "duration": 15,
    "start_time": "2022-02-13T14:39:35.518Z"
   },
   {
    "duration": 32,
    "start_time": "2022-02-13T14:39:35.535Z"
   },
   {
    "duration": 4,
    "start_time": "2022-02-13T14:39:36.538Z"
   },
   {
    "duration": 860,
    "start_time": "2022-02-13T14:39:36.544Z"
   },
   {
    "duration": 14,
    "start_time": "2022-02-13T14:39:37.406Z"
   },
   {
    "duration": 121,
    "start_time": "2022-02-13T14:39:37.422Z"
   },
   {
    "duration": 139,
    "start_time": "2022-02-13T14:39:37.545Z"
   },
   {
    "duration": 165,
    "start_time": "2022-02-13T14:39:37.686Z"
   },
   {
    "duration": 378,
    "start_time": "2022-02-13T14:39:37.853Z"
   },
   {
    "duration": 87,
    "start_time": "2022-02-13T14:39:38.234Z"
   },
   {
    "duration": 101,
    "start_time": "2022-02-13T14:39:38.323Z"
   },
   {
    "duration": 50,
    "start_time": "2022-02-13T14:39:38.425Z"
   },
   {
    "duration": 52684,
    "start_time": "2022-02-13T14:39:38.477Z"
   },
   {
    "duration": 2235,
    "start_time": "2022-02-13T14:40:31.163Z"
   },
   {
    "duration": 219,
    "start_time": "2022-02-13T14:40:33.400Z"
   },
   {
    "duration": 38,
    "start_time": "2022-02-13T14:40:33.621Z"
   },
   {
    "duration": 15,
    "start_time": "2022-02-13T14:40:33.660Z"
   },
   {
    "duration": 18,
    "start_time": "2022-02-13T14:40:33.677Z"
   },
   {
    "duration": 14,
    "start_time": "2022-02-13T14:40:33.697Z"
   },
   {
    "duration": 67,
    "start_time": "2022-02-13T14:40:33.713Z"
   },
   {
    "duration": 35,
    "start_time": "2022-02-13T14:40:33.781Z"
   },
   {
    "duration": 22,
    "start_time": "2022-02-13T14:40:33.817Z"
   },
   {
    "duration": 28,
    "start_time": "2022-02-13T14:40:33.840Z"
   },
   {
    "duration": 15,
    "start_time": "2022-02-13T14:40:33.869Z"
   },
   {
    "duration": 32,
    "start_time": "2022-02-13T14:40:33.888Z"
   },
   {
    "duration": 70835,
    "start_time": "2022-02-13T14:40:33.923Z"
   },
   {
    "duration": 16,
    "start_time": "2022-02-13T14:41:44.760Z"
   },
   {
    "duration": 26,
    "start_time": "2022-02-13T14:41:44.777Z"
   },
   {
    "duration": 16,
    "start_time": "2022-02-13T14:41:44.804Z"
   },
   {
    "duration": 51,
    "start_time": "2022-02-13T14:41:44.821Z"
   },
   {
    "duration": 32,
    "start_time": "2022-02-13T14:41:44.874Z"
   },
   {
    "duration": 4445,
    "start_time": "2022-02-13T14:41:44.908Z"
   },
   {
    "duration": 15,
    "start_time": "2022-02-13T14:41:49.355Z"
   },
   {
    "duration": 18,
    "start_time": "2022-02-13T14:41:49.372Z"
   },
   {
    "duration": 33,
    "start_time": "2022-02-13T14:41:49.392Z"
   },
   {
    "duration": 56,
    "start_time": "2022-02-13T14:41:49.427Z"
   },
   {
    "duration": 21,
    "start_time": "2022-02-13T14:41:49.485Z"
   },
   {
    "duration": 21,
    "start_time": "2022-02-13T14:41:49.508Z"
   },
   {
    "duration": 15,
    "start_time": "2022-02-13T14:41:49.531Z"
   },
   {
    "duration": 8,
    "start_time": "2022-02-13T14:41:49.559Z"
   },
   {
    "duration": 130,
    "start_time": "2022-02-13T14:41:49.568Z"
   },
   {
    "duration": 7,
    "start_time": "2022-02-13T14:41:49.700Z"
   },
   {
    "duration": 66,
    "start_time": "2022-02-13T14:41:49.709Z"
   },
   {
    "duration": 47,
    "start_time": "2022-02-13T14:41:49.776Z"
   },
   {
    "duration": 177,
    "start_time": "2022-02-13T14:41:49.825Z"
   },
   {
    "duration": 9,
    "start_time": "2022-02-13T14:41:50.004Z"
   },
   {
    "duration": 269,
    "start_time": "2022-02-13T14:41:50.015Z"
   },
   {
    "duration": 17,
    "start_time": "2022-02-13T14:41:50.286Z"
   },
   {
    "duration": 16,
    "start_time": "2022-02-13T14:41:50.305Z"
   },
   {
    "duration": 21,
    "start_time": "2022-02-13T14:41:50.323Z"
   },
   {
    "duration": 103,
    "start_time": "2022-02-13T14:41:50.345Z"
   },
   {
    "duration": 198,
    "start_time": "2022-02-13T14:41:50.449Z"
   },
   {
    "duration": 73,
    "start_time": "2022-02-13T14:42:55.880Z"
   },
   {
    "duration": 20,
    "start_time": "2022-02-13T14:43:18.711Z"
   },
   {
    "duration": 15,
    "start_time": "2022-02-13T14:43:19.687Z"
   },
   {
    "duration": 32,
    "start_time": "2022-02-13T14:43:20.104Z"
   },
   {
    "duration": 32,
    "start_time": "2022-02-13T14:43:21.432Z"
   },
   {
    "duration": 15,
    "start_time": "2022-02-13T14:43:21.634Z"
   },
   {
    "duration": 19,
    "start_time": "2022-02-13T14:43:22.039Z"
   },
   {
    "duration": 16,
    "start_time": "2022-02-13T14:43:23.728Z"
   },
   {
    "duration": 29,
    "start_time": "2022-02-13T14:43:24.411Z"
   },
   {
    "duration": 2947,
    "start_time": "2022-02-13T14:43:24.895Z"
   },
   {
    "duration": 19,
    "start_time": "2022-02-13T14:43:27.844Z"
   },
   {
    "duration": 21,
    "start_time": "2022-02-13T14:43:27.865Z"
   },
   {
    "duration": 15,
    "start_time": "2022-02-13T14:43:27.888Z"
   },
   {
    "duration": 56,
    "start_time": "2022-02-13T14:43:27.904Z"
   },
   {
    "duration": 34,
    "start_time": "2022-02-13T14:43:27.963Z"
   },
   {
    "duration": 3092,
    "start_time": "2022-02-13T14:43:28.157Z"
   },
   {
    "duration": 19,
    "start_time": "2022-02-13T14:43:31.251Z"
   },
   {
    "duration": 24,
    "start_time": "2022-02-13T14:43:31.272Z"
   },
   {
    "duration": 35,
    "start_time": "2022-02-13T14:43:31.298Z"
   },
   {
    "duration": 80,
    "start_time": "2022-02-13T14:43:31.335Z"
   },
   {
    "duration": 42,
    "start_time": "2022-02-13T14:43:31.417Z"
   },
   {
    "duration": 36,
    "start_time": "2022-02-13T14:43:31.461Z"
   },
   {
    "duration": 30,
    "start_time": "2022-02-13T14:43:31.500Z"
   },
   {
    "duration": 4484,
    "start_time": "2022-02-13T14:43:31.533Z"
   },
   {
    "duration": 35,
    "start_time": "2022-02-13T14:43:35.984Z"
   },
   {
    "duration": 23,
    "start_time": "2022-02-13T14:43:35.997Z"
   },
   {
    "duration": -62,
    "start_time": "2022-02-13T14:43:36.083Z"
   },
   {
    "duration": -66,
    "start_time": "2022-02-13T14:43:36.088Z"
   },
   {
    "duration": -71,
    "start_time": "2022-02-13T14:43:36.094Z"
   },
   {
    "duration": -76,
    "start_time": "2022-02-13T14:43:36.100Z"
   },
   {
    "duration": -83,
    "start_time": "2022-02-13T14:43:36.107Z"
   },
   {
    "duration": -99,
    "start_time": "2022-02-13T14:43:36.124Z"
   },
   {
    "duration": -103,
    "start_time": "2022-02-13T14:43:36.129Z"
   },
   {
    "duration": -117,
    "start_time": "2022-02-13T14:43:36.144Z"
   },
   {
    "duration": -123,
    "start_time": "2022-02-13T14:43:36.151Z"
   },
   {
    "duration": 4,
    "start_time": "2022-02-13T14:44:37.266Z"
   },
   {
    "duration": 686,
    "start_time": "2022-02-13T14:44:37.990Z"
   },
   {
    "duration": 248,
    "start_time": "2022-02-13T14:44:48.361Z"
   },
   {
    "duration": 33,
    "start_time": "2022-02-13T14:44:52.242Z"
   },
   {
    "duration": 15,
    "start_time": "2022-02-13T14:44:53.142Z"
   },
   {
    "duration": 19,
    "start_time": "2022-02-13T14:44:55.001Z"
   },
   {
    "duration": 15,
    "start_time": "2022-02-13T14:44:55.493Z"
   },
   {
    "duration": 32,
    "start_time": "2022-02-13T14:44:55.992Z"
   },
   {
    "duration": 31,
    "start_time": "2022-02-13T14:44:57.575Z"
   },
   {
    "duration": 15,
    "start_time": "2022-02-13T14:44:58.104Z"
   },
   {
    "duration": 23,
    "start_time": "2022-02-13T14:44:59.139Z"
   },
   {
    "duration": 16,
    "start_time": "2022-02-13T14:44:59.863Z"
   },
   {
    "duration": 35,
    "start_time": "2022-02-13T14:45:01.705Z"
   },
   {
    "duration": 73199,
    "start_time": "2022-02-13T14:45:03.313Z"
   },
   {
    "duration": 15,
    "start_time": "2022-02-13T14:46:16.514Z"
   },
   {
    "duration": 36,
    "start_time": "2022-02-13T14:46:16.531Z"
   },
   {
    "duration": 15,
    "start_time": "2022-02-13T14:46:16.570Z"
   },
   {
    "duration": 34,
    "start_time": "2022-02-13T14:46:16.587Z"
   },
   {
    "duration": 45,
    "start_time": "2022-02-13T14:46:16.623Z"
   },
   {
    "duration": 4554,
    "start_time": "2022-02-13T14:46:16.669Z"
   },
   {
    "duration": 15,
    "start_time": "2022-02-13T14:46:21.226Z"
   },
   {
    "duration": 28,
    "start_time": "2022-02-13T14:46:21.243Z"
   },
   {
    "duration": 32,
    "start_time": "2022-02-13T14:46:21.273Z"
   },
   {
    "duration": 31,
    "start_time": "2022-02-13T14:46:21.306Z"
   },
   {
    "duration": 35,
    "start_time": "2022-02-13T14:46:21.339Z"
   },
   {
    "duration": 22,
    "start_time": "2022-02-13T14:46:21.376Z"
   },
   {
    "duration": 22,
    "start_time": "2022-02-13T14:46:21.400Z"
   },
   {
    "duration": 10,
    "start_time": "2022-02-13T14:46:21.424Z"
   },
   {
    "duration": 159,
    "start_time": "2022-02-13T14:46:21.436Z"
   },
   {
    "duration": 8,
    "start_time": "2022-02-13T14:46:21.597Z"
   },
   {
    "duration": 75,
    "start_time": "2022-02-13T14:46:21.607Z"
   },
   {
    "duration": 52,
    "start_time": "2022-02-13T14:46:21.684Z"
   },
   {
    "duration": 181,
    "start_time": "2022-02-13T14:46:21.738Z"
   },
   {
    "duration": 84,
    "start_time": "2022-02-13T14:46:21.921Z"
   },
   {
    "duration": 33,
    "start_time": "2022-02-13T14:46:42.832Z"
   },
   {
    "duration": 15,
    "start_time": "2022-02-13T14:46:51.904Z"
   },
   {
    "duration": 16,
    "start_time": "2022-02-13T14:46:57.986Z"
   },
   {
    "duration": 32,
    "start_time": "2022-02-13T14:47:00.902Z"
   },
   {
    "duration": 17,
    "start_time": "2022-02-13T14:47:01.901Z"
   },
   {
    "duration": 18,
    "start_time": "2022-02-13T14:47:03.263Z"
   },
   {
    "duration": 16,
    "start_time": "2022-02-13T14:47:03.780Z"
   },
   {
    "duration": 31,
    "start_time": "2022-02-13T14:47:05.006Z"
   },
   {
    "duration": 4,
    "start_time": "2022-02-13T14:47:25.267Z"
   },
   {
    "duration": 718,
    "start_time": "2022-02-13T14:47:25.302Z"
   },
   {
    "duration": 13,
    "start_time": "2022-02-13T14:47:26.021Z"
   },
   {
    "duration": 123,
    "start_time": "2022-02-13T14:47:26.036Z"
   },
   {
    "duration": 224,
    "start_time": "2022-02-13T14:47:26.161Z"
   },
   {
    "duration": 31,
    "start_time": "2022-02-13T14:47:26.387Z"
   },
   {
    "duration": 17,
    "start_time": "2022-02-13T14:47:26.420Z"
   },
   {
    "duration": 32,
    "start_time": "2022-02-13T14:47:26.439Z"
   },
   {
    "duration": 18,
    "start_time": "2022-02-13T14:47:26.474Z"
   },
   {
    "duration": 31,
    "start_time": "2022-02-13T14:47:26.494Z"
   },
   {
    "duration": 81,
    "start_time": "2022-02-13T14:47:26.527Z"
   },
   {
    "duration": 66,
    "start_time": "2022-02-13T14:47:26.610Z"
   },
   {
    "duration": 78,
    "start_time": "2022-02-13T14:47:26.677Z"
   },
   {
    "duration": 58,
    "start_time": "2022-02-13T14:47:26.756Z"
   },
   {
    "duration": 80,
    "start_time": "2022-02-13T14:47:26.816Z"
   },
   {
    "duration": 70728,
    "start_time": "2022-02-13T14:47:26.898Z"
   },
   {
    "duration": 16,
    "start_time": "2022-02-13T14:48:37.628Z"
   },
   {
    "duration": 30,
    "start_time": "2022-02-13T14:48:37.646Z"
   },
   {
    "duration": 18,
    "start_time": "2022-02-13T14:48:37.678Z"
   },
   {
    "duration": 32,
    "start_time": "2022-02-13T14:48:37.698Z"
   },
   {
    "duration": 51,
    "start_time": "2022-02-13T14:48:37.732Z"
   },
   {
    "duration": 4522,
    "start_time": "2022-02-13T14:48:37.785Z"
   },
   {
    "duration": 14,
    "start_time": "2022-02-13T14:48:42.309Z"
   },
   {
    "duration": 33,
    "start_time": "2022-02-13T14:48:42.326Z"
   },
   {
    "duration": 37,
    "start_time": "2022-02-13T14:48:42.361Z"
   },
   {
    "duration": 33,
    "start_time": "2022-02-13T14:48:42.399Z"
   },
   {
    "duration": 32,
    "start_time": "2022-02-13T14:48:42.433Z"
   },
   {
    "duration": 20,
    "start_time": "2022-02-13T14:48:42.467Z"
   },
   {
    "duration": 15,
    "start_time": "2022-02-13T14:48:42.489Z"
   },
   {
    "duration": 8,
    "start_time": "2022-02-13T14:48:42.505Z"
   },
   {
    "duration": 145,
    "start_time": "2022-02-13T14:48:42.515Z"
   },
   {
    "duration": 8,
    "start_time": "2022-02-13T14:48:42.662Z"
   },
   {
    "duration": 57,
    "start_time": "2022-02-13T14:48:42.672Z"
   },
   {
    "duration": 78,
    "start_time": "2022-02-13T14:48:42.731Z"
   },
   {
    "duration": 168,
    "start_time": "2022-02-13T14:48:42.811Z"
   },
   {
    "duration": 78,
    "start_time": "2022-02-13T14:48:42.981Z"
   },
   {
    "duration": 182,
    "start_time": "2022-02-13T14:48:43.060Z"
   },
   {
    "duration": 28,
    "start_time": "2022-02-13T14:48:51.205Z"
   },
   {
    "duration": 30,
    "start_time": "2022-02-13T14:48:56.703Z"
   },
   {
    "duration": 3064,
    "start_time": "2022-02-13T14:48:57.832Z"
   },
   {
    "duration": 17,
    "start_time": "2022-02-13T14:49:00.898Z"
   },
   {
    "duration": 34,
    "start_time": "2022-02-13T14:49:00.918Z"
   },
   {
    "duration": 20,
    "start_time": "2022-02-13T14:49:00.954Z"
   },
   {
    "duration": 46,
    "start_time": "2022-02-13T14:49:00.976Z"
   },
   {
    "duration": 4,
    "start_time": "2022-02-13T14:50:16.989Z"
   },
   {
    "duration": 712,
    "start_time": "2022-02-13T14:50:16.994Z"
   },
   {
    "duration": 13,
    "start_time": "2022-02-13T14:50:17.708Z"
   },
   {
    "duration": 129,
    "start_time": "2022-02-13T14:50:17.723Z"
   },
   {
    "duration": 259,
    "start_time": "2022-02-13T14:50:17.858Z"
   },
   {
    "duration": 43,
    "start_time": "2022-02-13T14:50:18.120Z"
   },
   {
    "duration": 18,
    "start_time": "2022-02-13T14:50:18.165Z"
   },
   {
    "duration": 22,
    "start_time": "2022-02-13T14:50:18.186Z"
   },
   {
    "duration": 15,
    "start_time": "2022-02-13T14:50:18.211Z"
   },
   {
    "duration": 59,
    "start_time": "2022-02-13T14:50:18.228Z"
   },
   {
    "duration": 39,
    "start_time": "2022-02-13T14:50:18.289Z"
   },
   {
    "duration": 32,
    "start_time": "2022-02-13T14:50:18.330Z"
   },
   {
    "duration": 20,
    "start_time": "2022-02-13T14:50:18.364Z"
   },
   {
    "duration": 17,
    "start_time": "2022-02-13T14:50:18.386Z"
   },
   {
    "duration": 63,
    "start_time": "2022-02-13T14:50:18.405Z"
   },
   {
    "duration": 64554,
    "start_time": "2022-02-13T14:50:18.470Z"
   },
   {
    "duration": -6,
    "start_time": "2022-02-13T14:51:23.032Z"
   },
   {
    "duration": -11,
    "start_time": "2022-02-13T14:51:23.038Z"
   },
   {
    "duration": -15,
    "start_time": "2022-02-13T14:51:23.043Z"
   },
   {
    "duration": -22,
    "start_time": "2022-02-13T14:51:23.051Z"
   },
   {
    "duration": -25,
    "start_time": "2022-02-13T14:51:23.055Z"
   },
   {
    "duration": -32,
    "start_time": "2022-02-13T14:51:23.063Z"
   },
   {
    "duration": -38,
    "start_time": "2022-02-13T14:51:23.070Z"
   },
   {
    "duration": -43,
    "start_time": "2022-02-13T14:51:23.076Z"
   },
   {
    "duration": -48,
    "start_time": "2022-02-13T14:51:23.082Z"
   },
   {
    "duration": -52,
    "start_time": "2022-02-13T14:51:23.087Z"
   },
   {
    "duration": -56,
    "start_time": "2022-02-13T14:51:23.092Z"
   },
   {
    "duration": -61,
    "start_time": "2022-02-13T14:51:23.098Z"
   },
   {
    "duration": -66,
    "start_time": "2022-02-13T14:51:23.104Z"
   },
   {
    "duration": -80,
    "start_time": "2022-02-13T14:51:23.120Z"
   },
   {
    "duration": -84,
    "start_time": "2022-02-13T14:51:23.125Z"
   },
   {
    "duration": -89,
    "start_time": "2022-02-13T14:51:23.131Z"
   },
   {
    "duration": -92,
    "start_time": "2022-02-13T14:51:23.136Z"
   },
   {
    "duration": -98,
    "start_time": "2022-02-13T14:51:23.143Z"
   },
   {
    "duration": -104,
    "start_time": "2022-02-13T14:51:23.150Z"
   },
   {
    "duration": -108,
    "start_time": "2022-02-13T14:51:23.155Z"
   },
   {
    "duration": 4155,
    "start_time": "2022-02-14T10:53:19.440Z"
   },
   {
    "duration": 2072,
    "start_time": "2022-02-14T10:53:23.598Z"
   },
   {
    "duration": 29,
    "start_time": "2022-02-14T10:53:25.673Z"
   },
   {
    "duration": 188,
    "start_time": "2022-02-14T10:53:25.705Z"
   },
   {
    "duration": 177,
    "start_time": "2022-02-14T10:53:25.896Z"
   },
   {
    "duration": 166,
    "start_time": "2022-02-14T10:53:26.076Z"
   },
   {
    "duration": 647,
    "start_time": "2022-02-14T10:53:26.245Z"
   },
   {
    "duration": 131,
    "start_time": "2022-02-14T10:53:26.895Z"
   },
   {
    "duration": 142,
    "start_time": "2022-02-14T10:53:27.029Z"
   },
   {
    "duration": 58,
    "start_time": "2022-02-14T10:53:27.173Z"
   },
   {
    "duration": 91947,
    "start_time": "2022-02-14T10:53:27.233Z"
   },
   {
    "duration": 3679,
    "start_time": "2022-02-14T10:54:59.182Z"
   },
   {
    "duration": 47,
    "start_time": "2022-02-14T10:55:02.863Z"
   },
   {
    "duration": 46,
    "start_time": "2022-02-14T10:55:02.914Z"
   },
   {
    "duration": 81,
    "start_time": "2022-02-14T10:55:02.962Z"
   },
   {
    "duration": 45,
    "start_time": "2022-02-14T10:55:03.047Z"
   },
   {
    "duration": 67,
    "start_time": "2022-02-14T10:55:03.094Z"
   },
   {
    "duration": 43,
    "start_time": "2022-02-14T10:55:03.163Z"
   },
   {
    "duration": 52,
    "start_time": "2022-02-14T10:55:03.209Z"
   },
   {
    "duration": 37,
    "start_time": "2022-02-14T10:55:03.263Z"
   },
   {
    "duration": 67,
    "start_time": "2022-02-14T10:55:03.302Z"
   },
   {
    "duration": 49,
    "start_time": "2022-02-14T10:55:03.372Z"
   },
   {
    "duration": 51,
    "start_time": "2022-02-14T10:55:03.427Z"
   },
   {
    "duration": 46,
    "start_time": "2022-02-14T10:55:03.481Z"
   },
   {
    "duration": 61,
    "start_time": "2022-02-14T10:55:03.529Z"
   },
   {
    "duration": 30,
    "start_time": "2022-02-14T10:55:03.592Z"
   },
   {
    "duration": 40,
    "start_time": "2022-02-14T10:55:03.624Z"
   },
   {
    "duration": 46,
    "start_time": "2022-02-14T10:55:03.667Z"
   },
   {
    "duration": 62,
    "start_time": "2022-02-14T10:55:03.716Z"
   },
   {
    "duration": 27,
    "start_time": "2022-02-14T10:55:03.781Z"
   },
   {
    "duration": 29,
    "start_time": "2022-02-14T10:55:03.810Z"
   },
   {
    "duration": 41,
    "start_time": "2022-02-14T10:55:03.842Z"
   },
   {
    "duration": 16,
    "start_time": "2022-02-14T10:55:03.885Z"
   },
   {
    "duration": 168,
    "start_time": "2022-02-14T10:55:03.904Z"
   },
   {
    "duration": 14,
    "start_time": "2022-02-14T10:55:04.074Z"
   },
   {
    "duration": 103,
    "start_time": "2022-02-14T10:55:04.091Z"
   },
   {
    "duration": 79,
    "start_time": "2022-02-14T10:55:04.196Z"
   },
   {
    "duration": 266,
    "start_time": "2022-02-14T10:55:04.278Z"
   },
   {
    "duration": 6505,
    "start_time": "2022-02-14T10:55:04.547Z"
   },
   {
    "duration": -91,
    "start_time": "2022-02-14T10:55:11.145Z"
   },
   {
    "duration": -118,
    "start_time": "2022-02-14T10:55:11.174Z"
   },
   {
    "duration": -123,
    "start_time": "2022-02-14T10:55:11.180Z"
   },
   {
    "duration": -125,
    "start_time": "2022-02-14T10:55:11.184Z"
   },
   {
    "duration": -132,
    "start_time": "2022-02-14T10:55:11.192Z"
   },
   {
    "duration": -136,
    "start_time": "2022-02-14T10:55:11.198Z"
   },
   {
    "duration": -139,
    "start_time": "2022-02-14T10:55:11.202Z"
   },
   {
    "duration": -147,
    "start_time": "2022-02-14T10:55:11.212Z"
   },
   {
    "duration": -154,
    "start_time": "2022-02-14T10:55:11.222Z"
   },
   {
    "duration": -157,
    "start_time": "2022-02-14T10:55:11.227Z"
   },
   {
    "duration": -160,
    "start_time": "2022-02-14T10:55:11.232Z"
   },
   {
    "duration": -166,
    "start_time": "2022-02-14T10:55:11.239Z"
   },
   {
    "duration": -174,
    "start_time": "2022-02-14T10:55:11.249Z"
   },
   {
    "duration": -181,
    "start_time": "2022-02-14T10:55:11.258Z"
   },
   {
    "duration": -183,
    "start_time": "2022-02-14T10:55:11.262Z"
   },
   {
    "duration": -203,
    "start_time": "2022-02-14T10:55:11.283Z"
   },
   {
    "duration": -213,
    "start_time": "2022-02-14T10:55:11.294Z"
   },
   {
    "duration": 5,
    "start_time": "2022-02-14T10:59:45.852Z"
   },
   {
    "duration": 1200,
    "start_time": "2022-02-14T10:59:45.862Z"
   },
   {
    "duration": 23,
    "start_time": "2022-02-14T10:59:47.064Z"
   },
   {
    "duration": 179,
    "start_time": "2022-02-14T10:59:47.090Z"
   },
   {
    "duration": 179,
    "start_time": "2022-02-14T10:59:47.272Z"
   },
   {
    "duration": 180,
    "start_time": "2022-02-14T10:59:47.454Z"
   },
   {
    "duration": 595,
    "start_time": "2022-02-14T10:59:47.637Z"
   },
   {
    "duration": 120,
    "start_time": "2022-02-14T10:59:48.234Z"
   },
   {
    "duration": 246,
    "start_time": "2022-02-14T10:59:48.358Z"
   },
   {
    "duration": 68,
    "start_time": "2022-02-14T10:59:48.608Z"
   },
   {
    "duration": 91481,
    "start_time": "2022-02-14T10:59:48.678Z"
   },
   {
    "duration": 3750,
    "start_time": "2022-02-14T11:01:20.170Z"
   },
   {
    "duration": 53,
    "start_time": "2022-02-14T11:01:23.923Z"
   },
   {
    "duration": 32,
    "start_time": "2022-02-14T11:01:23.978Z"
   },
   {
    "duration": 58,
    "start_time": "2022-02-14T11:01:24.013Z"
   },
   {
    "duration": 44,
    "start_time": "2022-02-14T11:01:24.073Z"
   },
   {
    "duration": 67,
    "start_time": "2022-02-14T11:01:24.119Z"
   },
   {
    "duration": 33,
    "start_time": "2022-02-14T11:01:24.188Z"
   },
   {
    "duration": 34,
    "start_time": "2022-02-14T11:01:24.223Z"
   },
   {
    "duration": 26,
    "start_time": "2022-02-14T11:01:24.259Z"
   },
   {
    "duration": 55,
    "start_time": "2022-02-14T11:01:24.287Z"
   },
   {
    "duration": 34,
    "start_time": "2022-02-14T11:01:24.345Z"
   },
   {
    "duration": 46,
    "start_time": "2022-02-14T11:01:24.382Z"
   },
   {
    "duration": 67,
    "start_time": "2022-02-14T11:01:24.435Z"
   },
   {
    "duration": 64,
    "start_time": "2022-02-14T11:01:24.505Z"
   },
   {
    "duration": 21,
    "start_time": "2022-02-14T11:01:24.572Z"
   },
   {
    "duration": 40,
    "start_time": "2022-02-14T11:01:24.595Z"
   },
   {
    "duration": 58,
    "start_time": "2022-02-14T11:01:24.638Z"
   },
   {
    "duration": 46,
    "start_time": "2022-02-14T11:01:24.699Z"
   },
   {
    "duration": 39,
    "start_time": "2022-02-14T11:01:24.748Z"
   },
   {
    "duration": 30,
    "start_time": "2022-02-14T11:01:24.789Z"
   },
   {
    "duration": 20,
    "start_time": "2022-02-14T11:01:24.821Z"
   },
   {
    "duration": 13,
    "start_time": "2022-02-14T11:01:24.870Z"
   },
   {
    "duration": 114,
    "start_time": "2022-02-14T11:01:24.885Z"
   },
   {
    "duration": 84,
    "start_time": "2022-02-14T11:01:25.001Z"
   },
   {
    "duration": 261,
    "start_time": "2022-02-14T11:01:25.088Z"
   },
   {
    "duration": 19,
    "start_time": "2022-02-14T11:01:25.351Z"
   },
   {
    "duration": 303,
    "start_time": "2022-02-14T11:01:25.372Z"
   },
   {
    "duration": 26,
    "start_time": "2022-02-14T11:01:25.678Z"
   },
   {
    "duration": 27,
    "start_time": "2022-02-14T11:01:25.706Z"
   },
   {
    "duration": 41,
    "start_time": "2022-02-14T11:01:25.736Z"
   },
   {
    "duration": 11,
    "start_time": "2022-02-14T11:01:25.779Z"
   },
   {
    "duration": 153,
    "start_time": "2022-02-14T11:01:25.793Z"
   },
   {
    "duration": 281,
    "start_time": "2022-02-14T11:01:25.949Z"
   },
   {
    "duration": 5,
    "start_time": "2022-02-14T11:01:26.232Z"
   },
   {
    "duration": 145,
    "start_time": "2022-02-14T11:01:26.239Z"
   },
   {
    "duration": 39,
    "start_time": "2022-02-14T11:01:26.387Z"
   },
   {
    "duration": 1375,
    "start_time": "2022-02-14T11:01:26.429Z"
   },
   {
    "duration": -76,
    "start_time": "2022-02-14T11:01:27.882Z"
   },
   {
    "duration": -85,
    "start_time": "2022-02-14T11:01:27.893Z"
   },
   {
    "duration": -90,
    "start_time": "2022-02-14T11:01:27.899Z"
   },
   {
    "duration": -96,
    "start_time": "2022-02-14T11:01:27.907Z"
   },
   {
    "duration": -101,
    "start_time": "2022-02-14T11:01:27.914Z"
   },
   {
    "duration": -112,
    "start_time": "2022-02-14T11:01:27.926Z"
   },
   {
    "duration": -115,
    "start_time": "2022-02-14T11:01:27.931Z"
   },
   {
    "duration": -121,
    "start_time": "2022-02-14T11:01:27.938Z"
   },
   {
    "duration": 7,
    "start_time": "2022-02-14T11:06:57.702Z"
   },
   {
    "duration": 1174,
    "start_time": "2022-02-14T11:06:57.712Z"
   },
   {
    "duration": 19,
    "start_time": "2022-02-14T11:06:58.890Z"
   },
   {
    "duration": 172,
    "start_time": "2022-02-14T11:06:58.912Z"
   },
   {
    "duration": 162,
    "start_time": "2022-02-14T11:06:59.086Z"
   },
   {
    "duration": 153,
    "start_time": "2022-02-14T11:06:59.251Z"
   },
   {
    "duration": 643,
    "start_time": "2022-02-14T11:06:59.407Z"
   },
   {
    "duration": 123,
    "start_time": "2022-02-14T11:07:00.053Z"
   },
   {
    "duration": 150,
    "start_time": "2022-02-14T11:07:00.178Z"
   },
   {
    "duration": 65,
    "start_time": "2022-02-14T11:07:00.330Z"
   },
   {
    "duration": 93250,
    "start_time": "2022-02-14T11:07:00.398Z"
   },
   {
    "duration": 3532,
    "start_time": "2022-02-14T11:08:33.650Z"
   },
   {
    "duration": 45,
    "start_time": "2022-02-14T11:08:37.185Z"
   },
   {
    "duration": 44,
    "start_time": "2022-02-14T11:08:37.233Z"
   },
   {
    "duration": 46,
    "start_time": "2022-02-14T11:08:37.279Z"
   },
   {
    "duration": 67,
    "start_time": "2022-02-14T11:08:37.328Z"
   },
   {
    "duration": 60,
    "start_time": "2022-02-14T11:08:37.397Z"
   },
   {
    "duration": 33,
    "start_time": "2022-02-14T11:08:37.459Z"
   },
   {
    "duration": 27,
    "start_time": "2022-02-14T11:08:37.498Z"
   },
   {
    "duration": 42,
    "start_time": "2022-02-14T11:08:37.529Z"
   },
   {
    "duration": 47,
    "start_time": "2022-02-14T11:08:37.573Z"
   },
   {
    "duration": 47,
    "start_time": "2022-02-14T11:08:37.622Z"
   },
   {
    "duration": 47,
    "start_time": "2022-02-14T11:08:37.672Z"
   },
   {
    "duration": 57,
    "start_time": "2022-02-14T11:08:37.721Z"
   },
   {
    "duration": 58,
    "start_time": "2022-02-14T11:08:37.781Z"
   },
   {
    "duration": 37,
    "start_time": "2022-02-14T11:08:37.841Z"
   },
   {
    "duration": 40,
    "start_time": "2022-02-14T11:08:37.881Z"
   },
   {
    "duration": 52,
    "start_time": "2022-02-14T11:08:37.925Z"
   },
   {
    "duration": 62,
    "start_time": "2022-02-14T11:08:37.979Z"
   },
   {
    "duration": 30,
    "start_time": "2022-02-14T11:08:38.043Z"
   },
   {
    "duration": 30,
    "start_time": "2022-02-14T11:08:38.075Z"
   },
   {
    "duration": 21,
    "start_time": "2022-02-14T11:08:38.107Z"
   },
   {
    "duration": 44,
    "start_time": "2022-02-14T11:08:38.131Z"
   },
   {
    "duration": 132,
    "start_time": "2022-02-14T11:08:38.178Z"
   },
   {
    "duration": 110,
    "start_time": "2022-02-14T11:08:38.312Z"
   },
   {
    "duration": 264,
    "start_time": "2022-02-14T11:08:38.425Z"
   },
   {
    "duration": 11,
    "start_time": "2022-02-14T11:08:38.691Z"
   },
   {
    "duration": 312,
    "start_time": "2022-02-14T11:08:38.704Z"
   },
   {
    "duration": 26,
    "start_time": "2022-02-14T11:08:39.020Z"
   },
   {
    "duration": 43,
    "start_time": "2022-02-14T11:08:39.048Z"
   },
   {
    "duration": 11,
    "start_time": "2022-02-14T11:08:39.094Z"
   },
   {
    "duration": 12,
    "start_time": "2022-02-14T11:08:39.107Z"
   },
   {
    "duration": 185,
    "start_time": "2022-02-14T11:08:39.122Z"
   },
   {
    "duration": 269,
    "start_time": "2022-02-14T11:08:39.309Z"
   },
   {
    "duration": 5,
    "start_time": "2022-02-14T11:08:39.581Z"
   },
   {
    "duration": 138,
    "start_time": "2022-02-14T11:08:39.588Z"
   },
   {
    "duration": 49,
    "start_time": "2022-02-14T11:08:39.728Z"
   },
   {
    "duration": 1400,
    "start_time": "2022-02-14T11:08:39.780Z"
   },
   {
    "duration": -1044,
    "start_time": "2022-02-14T11:08:42.227Z"
   },
   {
    "duration": -1087,
    "start_time": "2022-02-14T11:08:42.271Z"
   },
   {
    "duration": -1127,
    "start_time": "2022-02-14T11:08:42.312Z"
   },
   {
    "duration": -1173,
    "start_time": "2022-02-14T11:08:42.360Z"
   },
   {
    "duration": 91,
    "start_time": "2022-02-14T11:16:38.980Z"
   },
   {
    "duration": 98,
    "start_time": "2022-02-14T11:16:59.284Z"
   },
   {
    "duration": 9,
    "start_time": "2022-02-14T11:18:05.940Z"
   },
   {
    "duration": -490,
    "start_time": "2022-02-14T11:18:06.442Z"
   },
   {
    "duration": 24,
    "start_time": "2022-02-14T11:18:05.955Z"
   },
   {
    "duration": 110,
    "start_time": "2022-02-14T11:18:05.981Z"
   },
   {
    "duration": 116,
    "start_time": "2022-02-14T11:18:06.094Z"
   },
   {
    "duration": 114,
    "start_time": "2022-02-14T11:18:06.213Z"
   },
   {
    "duration": 206,
    "start_time": "2022-02-14T11:18:06.329Z"
   },
   {
    "duration": 104,
    "start_time": "2022-02-14T11:18:06.538Z"
   },
   {
    "duration": 87,
    "start_time": "2022-02-14T11:18:06.645Z"
   },
   {
    "duration": 262,
    "start_time": "2022-02-14T11:18:06.736Z"
   },
   {
    "duration": -225,
    "start_time": "2022-02-14T11:18:07.228Z"
   },
   {
    "duration": -229,
    "start_time": "2022-02-14T11:18:07.233Z"
   },
   {
    "duration": -235,
    "start_time": "2022-02-14T11:18:07.241Z"
   },
   {
    "duration": -242,
    "start_time": "2022-02-14T11:18:07.249Z"
   },
   {
    "duration": -251,
    "start_time": "2022-02-14T11:18:07.260Z"
   },
   {
    "duration": -255,
    "start_time": "2022-02-14T11:18:07.265Z"
   },
   {
    "duration": -260,
    "start_time": "2022-02-14T11:18:07.271Z"
   },
   {
    "duration": -267,
    "start_time": "2022-02-14T11:18:07.280Z"
   },
   {
    "duration": -331,
    "start_time": "2022-02-14T11:18:07.345Z"
   },
   {
    "duration": -341,
    "start_time": "2022-02-14T11:18:07.356Z"
   },
   {
    "duration": -348,
    "start_time": "2022-02-14T11:18:07.365Z"
   },
   {
    "duration": -354,
    "start_time": "2022-02-14T11:18:07.372Z"
   },
   {
    "duration": -360,
    "start_time": "2022-02-14T11:18:07.379Z"
   },
   {
    "duration": -364,
    "start_time": "2022-02-14T11:18:07.384Z"
   },
   {
    "duration": -368,
    "start_time": "2022-02-14T11:18:07.390Z"
   },
   {
    "duration": -372,
    "start_time": "2022-02-14T11:18:07.395Z"
   },
   {
    "duration": -378,
    "start_time": "2022-02-14T11:18:07.402Z"
   },
   {
    "duration": -385,
    "start_time": "2022-02-14T11:18:07.410Z"
   },
   {
    "duration": -394,
    "start_time": "2022-02-14T11:18:07.421Z"
   },
   {
    "duration": -401,
    "start_time": "2022-02-14T11:18:07.429Z"
   },
   {
    "duration": -407,
    "start_time": "2022-02-14T11:18:07.436Z"
   },
   {
    "duration": -440,
    "start_time": "2022-02-14T11:18:07.471Z"
   },
   {
    "duration": -447,
    "start_time": "2022-02-14T11:18:07.479Z"
   },
   {
    "duration": -451,
    "start_time": "2022-02-14T11:18:07.484Z"
   },
   {
    "duration": -457,
    "start_time": "2022-02-14T11:18:07.491Z"
   },
   {
    "duration": -461,
    "start_time": "2022-02-14T11:18:07.497Z"
   },
   {
    "duration": -466,
    "start_time": "2022-02-14T11:18:07.504Z"
   },
   {
    "duration": -473,
    "start_time": "2022-02-14T11:18:07.512Z"
   },
   {
    "duration": -485,
    "start_time": "2022-02-14T11:18:07.524Z"
   },
   {
    "duration": -462,
    "start_time": "2022-02-14T11:18:07.531Z"
   },
   {
    "duration": -472,
    "start_time": "2022-02-14T11:18:07.543Z"
   },
   {
    "duration": -481,
    "start_time": "2022-02-14T11:18:07.553Z"
   },
   {
    "duration": -490,
    "start_time": "2022-02-14T11:18:07.563Z"
   },
   {
    "duration": -515,
    "start_time": "2022-02-14T11:18:07.589Z"
   },
   {
    "duration": -523,
    "start_time": "2022-02-14T11:18:07.599Z"
   },
   {
    "duration": -527,
    "start_time": "2022-02-14T11:18:07.604Z"
   },
   {
    "duration": -537,
    "start_time": "2022-02-14T11:18:07.616Z"
   },
   {
    "duration": -549,
    "start_time": "2022-02-14T11:18:07.629Z"
   },
   {
    "duration": -554,
    "start_time": "2022-02-14T11:18:07.635Z"
   },
   {
    "duration": -559,
    "start_time": "2022-02-14T11:18:07.642Z"
   },
   {
    "duration": 9,
    "start_time": "2022-02-14T11:18:24.782Z"
   },
   {
    "duration": 93,
    "start_time": "2022-02-14T11:20:01.154Z"
   },
   {
    "duration": 98,
    "start_time": "2022-02-14T11:20:14.978Z"
   },
   {
    "duration": 243,
    "start_time": "2022-02-14T11:20:33.746Z"
   },
   {
    "duration": 6,
    "start_time": "2022-02-14T23:27:36.549Z"
   },
   {
    "duration": 1120,
    "start_time": "2022-02-14T23:27:36.557Z"
   },
   {
    "duration": 20,
    "start_time": "2022-02-14T23:27:37.680Z"
   },
   {
    "duration": 175,
    "start_time": "2022-02-14T23:27:37.703Z"
   },
   {
    "duration": 162,
    "start_time": "2022-02-14T23:27:37.880Z"
   },
   {
    "duration": 151,
    "start_time": "2022-02-14T23:27:38.044Z"
   },
   {
    "duration": 616,
    "start_time": "2022-02-14T23:27:38.199Z"
   },
   {
    "duration": 125,
    "start_time": "2022-02-14T23:27:38.818Z"
   },
   {
    "duration": 137,
    "start_time": "2022-02-14T23:27:38.945Z"
   },
   {
    "duration": 50,
    "start_time": "2022-02-14T23:27:39.085Z"
   },
   {
    "duration": 87984,
    "start_time": "2022-02-14T23:27:39.137Z"
   },
   {
    "duration": 3501,
    "start_time": "2022-02-14T23:29:07.123Z"
   },
   {
    "duration": 50,
    "start_time": "2022-02-14T23:29:10.626Z"
   },
   {
    "duration": 22,
    "start_time": "2022-02-14T23:29:10.679Z"
   },
   {
    "duration": 65,
    "start_time": "2022-02-14T23:29:10.704Z"
   },
   {
    "duration": 43,
    "start_time": "2022-02-14T23:29:10.771Z"
   },
   {
    "duration": 59,
    "start_time": "2022-02-14T23:29:10.817Z"
   },
   {
    "duration": 20,
    "start_time": "2022-02-14T23:29:10.879Z"
   },
   {
    "duration": 27,
    "start_time": "2022-02-14T23:29:10.905Z"
   },
   {
    "duration": 49,
    "start_time": "2022-02-14T23:29:10.935Z"
   },
   {
    "duration": 46,
    "start_time": "2022-02-14T23:29:10.986Z"
   },
   {
    "duration": 38,
    "start_time": "2022-02-14T23:29:11.035Z"
   },
   {
    "duration": 46,
    "start_time": "2022-02-14T23:29:11.076Z"
   },
   {
    "duration": 72,
    "start_time": "2022-02-14T23:29:11.125Z"
   },
   {
    "duration": 46,
    "start_time": "2022-02-14T23:29:11.200Z"
   },
   {
    "duration": 24,
    "start_time": "2022-02-14T23:29:11.269Z"
   },
   {
    "duration": 28,
    "start_time": "2022-02-14T23:29:11.296Z"
   },
   {
    "duration": 79,
    "start_time": "2022-02-14T23:29:11.326Z"
   },
   {
    "duration": 66,
    "start_time": "2022-02-14T23:29:11.408Z"
   },
   {
    "duration": 24,
    "start_time": "2022-02-14T23:29:11.477Z"
   },
   {
    "duration": 34,
    "start_time": "2022-02-14T23:29:11.503Z"
   },
   {
    "duration": 40,
    "start_time": "2022-02-14T23:29:11.539Z"
   },
   {
    "duration": 16,
    "start_time": "2022-02-14T23:29:11.582Z"
   },
   {
    "duration": 128,
    "start_time": "2022-02-14T23:29:11.601Z"
   },
   {
    "duration": 95,
    "start_time": "2022-02-14T23:29:11.731Z"
   },
   {
    "duration": 261,
    "start_time": "2022-02-14T23:29:11.828Z"
   },
   {
    "duration": 10,
    "start_time": "2022-02-14T23:29:12.091Z"
   },
   {
    "duration": 296,
    "start_time": "2022-02-14T23:29:12.103Z"
   },
   {
    "duration": 25,
    "start_time": "2022-02-14T23:29:12.401Z"
   },
   {
    "duration": 49,
    "start_time": "2022-02-14T23:29:12.429Z"
   },
   {
    "duration": 10,
    "start_time": "2022-02-14T23:29:12.480Z"
   },
   {
    "duration": 10,
    "start_time": "2022-02-14T23:29:12.492Z"
   },
   {
    "duration": 211,
    "start_time": "2022-02-14T23:29:12.504Z"
   },
   {
    "duration": 174,
    "start_time": "2022-02-14T23:29:12.718Z"
   },
   {
    "duration": 5,
    "start_time": "2022-02-14T23:29:12.894Z"
   },
   {
    "duration": 94,
    "start_time": "2022-02-14T23:29:12.901Z"
   },
   {
    "duration": 34,
    "start_time": "2022-02-14T23:29:12.997Z"
   },
   {
    "duration": 466,
    "start_time": "2022-02-14T23:29:13.034Z"
   },
   {
    "duration": 23,
    "start_time": "2022-02-14T23:29:13.502Z"
   },
   {
    "duration": 129,
    "start_time": "2022-02-14T23:29:13.527Z"
   },
   {
    "duration": 294,
    "start_time": "2022-02-14T23:29:13.658Z"
   },
   {
    "duration": 83,
    "start_time": "2022-02-15T00:06:20.315Z"
   },
   {
    "duration": 7,
    "start_time": "2022-02-15T00:44:32.431Z"
   },
   {
    "duration": 1054,
    "start_time": "2022-02-15T00:44:32.441Z"
   },
   {
    "duration": 74,
    "start_time": "2022-02-15T00:44:33.498Z"
   },
   {
    "duration": 233,
    "start_time": "2022-02-15T00:44:33.575Z"
   },
   {
    "duration": 274,
    "start_time": "2022-02-15T00:44:33.810Z"
   },
   {
    "duration": 158,
    "start_time": "2022-02-15T00:44:34.087Z"
   },
   {
    "duration": 569,
    "start_time": "2022-02-15T00:44:34.247Z"
   },
   {
    "duration": 125,
    "start_time": "2022-02-15T00:44:34.819Z"
   },
   {
    "duration": 137,
    "start_time": "2022-02-15T00:44:34.948Z"
   },
   {
    "duration": 54,
    "start_time": "2022-02-15T00:44:35.089Z"
   },
   {
    "duration": 85519,
    "start_time": "2022-02-15T00:44:35.145Z"
   },
   {
    "duration": 3506,
    "start_time": "2022-02-15T00:46:00.670Z"
   },
   {
    "duration": 44,
    "start_time": "2022-02-15T00:46:04.178Z"
   },
   {
    "duration": 45,
    "start_time": "2022-02-15T00:46:04.224Z"
   },
   {
    "duration": 44,
    "start_time": "2022-02-15T00:46:04.273Z"
   },
   {
    "duration": 60,
    "start_time": "2022-02-15T00:46:04.319Z"
   },
   {
    "duration": 46,
    "start_time": "2022-02-15T00:46:04.382Z"
   },
   {
    "duration": 50,
    "start_time": "2022-02-15T00:46:04.432Z"
   },
   {
    "duration": 27,
    "start_time": "2022-02-15T00:46:04.485Z"
   },
   {
    "duration": 22,
    "start_time": "2022-02-15T00:46:04.514Z"
   },
   {
    "duration": 75,
    "start_time": "2022-02-15T00:46:04.538Z"
   },
   {
    "duration": 22,
    "start_time": "2022-02-15T00:46:04.615Z"
   },
   {
    "duration": 68,
    "start_time": "2022-02-15T00:46:04.640Z"
   },
   {
    "duration": 61,
    "start_time": "2022-02-15T00:46:04.711Z"
   },
   {
    "duration": 45,
    "start_time": "2022-02-15T00:46:04.774Z"
   },
   {
    "duration": 21,
    "start_time": "2022-02-15T00:46:04.822Z"
   },
   {
    "duration": 26,
    "start_time": "2022-02-15T00:46:04.871Z"
   },
   {
    "duration": 45,
    "start_time": "2022-02-15T00:46:04.900Z"
   },
   {
    "duration": 43,
    "start_time": "2022-02-15T00:46:04.970Z"
   },
   {
    "duration": 26,
    "start_time": "2022-02-15T00:46:05.016Z"
   },
   {
    "duration": 47,
    "start_time": "2022-02-15T00:46:05.044Z"
   },
   {
    "duration": 20,
    "start_time": "2022-02-15T00:46:05.094Z"
   },
   {
    "duration": 14,
    "start_time": "2022-02-15T00:46:05.117Z"
   },
   {
    "duration": 140,
    "start_time": "2022-02-15T00:46:05.134Z"
   },
   {
    "duration": 73,
    "start_time": "2022-02-15T00:46:05.276Z"
   },
   {
    "duration": 272,
    "start_time": "2022-02-15T00:46:05.351Z"
   },
   {
    "duration": 11,
    "start_time": "2022-02-15T00:46:05.625Z"
   },
   {
    "duration": 306,
    "start_time": "2022-02-15T00:46:05.639Z"
   },
   {
    "duration": 41,
    "start_time": "2022-02-15T00:46:05.947Z"
   },
   {
    "duration": 28,
    "start_time": "2022-02-15T00:46:05.990Z"
   },
   {
    "duration": 11,
    "start_time": "2022-02-15T00:46:06.020Z"
   },
   {
    "duration": 40,
    "start_time": "2022-02-15T00:46:06.034Z"
   },
   {
    "duration": 203,
    "start_time": "2022-02-15T00:46:06.076Z"
   },
   {
    "duration": 169,
    "start_time": "2022-02-15T00:46:06.281Z"
   },
   {
    "duration": 5,
    "start_time": "2022-02-15T00:46:06.452Z"
   },
   {
    "duration": 81,
    "start_time": "2022-02-15T00:46:06.470Z"
   },
   {
    "duration": 37,
    "start_time": "2022-02-15T00:46:06.553Z"
   },
   {
    "duration": 439,
    "start_time": "2022-02-15T00:46:06.592Z"
   },
   {
    "duration": 23,
    "start_time": "2022-02-15T00:46:07.033Z"
   },
   {
    "duration": 118,
    "start_time": "2022-02-15T00:46:07.069Z"
   },
   {
    "duration": 6,
    "start_time": "2022-02-15T00:52:35.350Z"
   },
   {
    "duration": 1055,
    "start_time": "2022-02-15T00:52:35.359Z"
   },
   {
    "duration": 20,
    "start_time": "2022-02-15T00:52:36.418Z"
   },
   {
    "duration": 175,
    "start_time": "2022-02-15T00:52:36.441Z"
   },
   {
    "duration": 163,
    "start_time": "2022-02-15T00:52:36.618Z"
   },
   {
    "duration": 157,
    "start_time": "2022-02-15T00:52:36.783Z"
   },
   {
    "duration": 599,
    "start_time": "2022-02-15T00:52:36.943Z"
   },
   {
    "duration": 125,
    "start_time": "2022-02-15T00:52:37.544Z"
   },
   {
    "duration": 134,
    "start_time": "2022-02-15T00:52:37.673Z"
   },
   {
    "duration": 62,
    "start_time": "2022-02-15T00:52:37.810Z"
   },
   {
    "duration": 43,
    "start_time": "2022-02-15T00:52:37.875Z"
   },
   {
    "duration": 22,
    "start_time": "2022-02-15T00:52:37.920Z"
   },
   {
    "duration": 66,
    "start_time": "2022-02-15T00:52:37.945Z"
   },
   {
    "duration": 60,
    "start_time": "2022-02-15T00:52:38.013Z"
   },
   {
    "duration": 47,
    "start_time": "2022-02-15T00:52:38.076Z"
   },
   {
    "duration": 43,
    "start_time": "2022-02-15T00:52:38.126Z"
   },
   {
    "duration": 27,
    "start_time": "2022-02-15T00:52:38.171Z"
   },
   {
    "duration": 20,
    "start_time": "2022-02-15T00:52:38.200Z"
   },
   {
    "duration": 72,
    "start_time": "2022-02-15T00:52:38.223Z"
   },
   {
    "duration": 23,
    "start_time": "2022-02-15T00:52:38.298Z"
   },
   {
    "duration": 72,
    "start_time": "2022-02-15T00:52:38.324Z"
   },
   {
    "duration": 47,
    "start_time": "2022-02-15T00:52:38.399Z"
   },
   {
    "duration": 48,
    "start_time": "2022-02-15T00:52:38.470Z"
   },
   {
    "duration": 25,
    "start_time": "2022-02-15T00:52:38.521Z"
   },
   {
    "duration": 47,
    "start_time": "2022-02-15T00:52:38.549Z"
   },
   {
    "duration": 45,
    "start_time": "2022-02-15T00:52:38.599Z"
   },
   {
    "duration": 42,
    "start_time": "2022-02-15T00:52:38.670Z"
   },
   {
    "duration": 23,
    "start_time": "2022-02-15T00:52:38.715Z"
   },
   {
    "duration": 49,
    "start_time": "2022-02-15T00:52:38.740Z"
   },
   {
    "duration": 19,
    "start_time": "2022-02-15T00:52:38.792Z"
   },
   {
    "duration": 14,
    "start_time": "2022-02-15T00:52:38.814Z"
   },
   {
    "duration": 134,
    "start_time": "2022-02-15T00:52:38.830Z"
   },
   {
    "duration": 72,
    "start_time": "2022-02-15T00:52:38.969Z"
   },
   {
    "duration": 269,
    "start_time": "2022-02-15T00:52:39.044Z"
   },
   {
    "duration": 11,
    "start_time": "2022-02-15T00:52:39.315Z"
   },
   {
    "duration": 312,
    "start_time": "2022-02-15T00:52:39.329Z"
   },
   {
    "duration": 41,
    "start_time": "2022-02-15T00:52:39.644Z"
   },
   {
    "duration": 29,
    "start_time": "2022-02-15T00:52:39.688Z"
   },
   {
    "duration": 52,
    "start_time": "2022-02-15T00:52:39.721Z"
   },
   {
    "duration": 13,
    "start_time": "2022-02-15T00:52:39.776Z"
   },
   {
    "duration": 235,
    "start_time": "2022-02-15T00:52:39.791Z"
   },
   {
    "duration": 186,
    "start_time": "2022-02-15T00:52:40.028Z"
   },
   {
    "duration": 5,
    "start_time": "2022-02-15T00:52:40.216Z"
   },
   {
    "duration": 101,
    "start_time": "2022-02-15T00:52:40.224Z"
   },
   {
    "duration": 788,
    "start_time": "2022-02-15T00:52:40.327Z"
   },
   {
    "duration": 68,
    "start_time": "2022-02-15T00:52:41.118Z"
   },
   {
    "duration": 86,
    "start_time": "2022-02-15T00:52:41.189Z"
   },
   {
    "duration": 99,
    "start_time": "2022-02-15T00:52:41.277Z"
   },
   {
    "duration": 285,
    "start_time": "2022-02-15T00:52:41.378Z"
   },
   {
    "duration": 6,
    "start_time": "2022-02-15T00:53:03.818Z"
   },
   {
    "duration": 1084,
    "start_time": "2022-02-15T00:53:03.827Z"
   },
   {
    "duration": 21,
    "start_time": "2022-02-15T00:53:04.914Z"
   },
   {
    "duration": 174,
    "start_time": "2022-02-15T00:53:04.938Z"
   },
   {
    "duration": 164,
    "start_time": "2022-02-15T00:53:05.115Z"
   },
   {
    "duration": 160,
    "start_time": "2022-02-15T00:53:05.282Z"
   },
   {
    "duration": 643,
    "start_time": "2022-02-15T00:53:05.445Z"
   },
   {
    "duration": 129,
    "start_time": "2022-02-15T00:53:06.092Z"
   },
   {
    "duration": 132,
    "start_time": "2022-02-15T00:53:06.224Z"
   },
   {
    "duration": 53,
    "start_time": "2022-02-15T00:53:06.359Z"
   },
   {
    "duration": 59,
    "start_time": "2022-02-15T00:53:06.415Z"
   },
   {
    "duration": 20,
    "start_time": "2022-02-15T00:53:06.476Z"
   },
   {
    "duration": 43,
    "start_time": "2022-02-15T00:53:06.498Z"
   },
   {
    "duration": 42,
    "start_time": "2022-02-15T00:53:06.570Z"
   },
   {
    "duration": 59,
    "start_time": "2022-02-15T00:53:06.615Z"
   },
   {
    "duration": 19,
    "start_time": "2022-02-15T00:53:06.676Z"
   },
   {
    "duration": 35,
    "start_time": "2022-02-15T00:53:06.698Z"
   },
   {
    "duration": 37,
    "start_time": "2022-02-15T00:53:06.735Z"
   },
   {
    "duration": 45,
    "start_time": "2022-02-15T00:53:06.774Z"
   },
   {
    "duration": 21,
    "start_time": "2022-02-15T00:53:06.821Z"
   },
   {
    "duration": 66,
    "start_time": "2022-02-15T00:53:06.844Z"
   },
   {
    "duration": 62,
    "start_time": "2022-02-15T00:53:06.912Z"
   },
   {
    "duration": 49,
    "start_time": "2022-02-15T00:53:06.979Z"
   },
   {
    "duration": 40,
    "start_time": "2022-02-15T00:53:07.031Z"
   },
   {
    "duration": 27,
    "start_time": "2022-02-15T00:53:07.073Z"
   },
   {
    "duration": 44,
    "start_time": "2022-02-15T00:53:07.103Z"
   },
   {
    "duration": 43,
    "start_time": "2022-02-15T00:53:07.169Z"
   },
   {
    "duration": 23,
    "start_time": "2022-02-15T00:53:07.215Z"
   },
   {
    "duration": 53,
    "start_time": "2022-02-15T00:53:07.241Z"
   },
   {
    "duration": 21,
    "start_time": "2022-02-15T00:53:07.296Z"
   },
   {
    "duration": 14,
    "start_time": "2022-02-15T00:53:07.319Z"
   },
   {
    "duration": 130,
    "start_time": "2022-02-15T00:53:07.335Z"
   },
   {
    "duration": 69,
    "start_time": "2022-02-15T00:53:07.470Z"
   },
   {
    "duration": 263,
    "start_time": "2022-02-15T00:53:07.541Z"
   },
   {
    "duration": 11,
    "start_time": "2022-02-15T00:53:07.806Z"
   },
   {
    "duration": 449,
    "start_time": "2022-02-15T00:53:07.820Z"
   },
   {
    "duration": 27,
    "start_time": "2022-02-15T00:53:08.271Z"
   },
   {
    "duration": 27,
    "start_time": "2022-02-15T00:53:08.300Z"
   },
   {
    "duration": 43,
    "start_time": "2022-02-15T00:53:08.329Z"
   },
   {
    "duration": 10,
    "start_time": "2022-02-15T00:53:08.374Z"
   },
   {
    "duration": 207,
    "start_time": "2022-02-15T00:53:08.387Z"
   },
   {
    "duration": 177,
    "start_time": "2022-02-15T00:53:08.596Z"
   },
   {
    "duration": 5,
    "start_time": "2022-02-15T00:53:08.775Z"
   },
   {
    "duration": 104,
    "start_time": "2022-02-15T00:53:08.782Z"
   },
   {
    "duration": 20,
    "start_time": "2022-02-15T00:53:08.888Z"
   },
   {
    "duration": 475,
    "start_time": "2022-02-15T00:53:08.911Z"
   },
   {
    "duration": 120,
    "start_time": "2022-02-15T00:53:09.389Z"
   },
   {
    "duration": 339,
    "start_time": "2022-02-15T00:53:09.512Z"
   },
   {
    "duration": 6,
    "start_time": "2022-02-15T00:57:46.639Z"
   },
   {
    "duration": 1075,
    "start_time": "2022-02-15T00:57:46.648Z"
   },
   {
    "duration": 21,
    "start_time": "2022-02-15T00:57:47.726Z"
   },
   {
    "duration": 182,
    "start_time": "2022-02-15T00:57:47.750Z"
   },
   {
    "duration": 167,
    "start_time": "2022-02-15T00:57:47.935Z"
   },
   {
    "duration": 158,
    "start_time": "2022-02-15T00:57:48.104Z"
   },
   {
    "duration": 576,
    "start_time": "2022-02-15T00:57:48.270Z"
   },
   {
    "duration": 125,
    "start_time": "2022-02-15T00:57:48.849Z"
   },
   {
    "duration": 134,
    "start_time": "2022-02-15T00:57:48.976Z"
   },
   {
    "duration": 68,
    "start_time": "2022-02-15T00:57:49.112Z"
   },
   {
    "duration": 44,
    "start_time": "2022-02-15T00:57:49.182Z"
   },
   {
    "duration": 45,
    "start_time": "2022-02-15T00:57:49.228Z"
   },
   {
    "duration": 44,
    "start_time": "2022-02-15T00:57:49.276Z"
   },
   {
    "duration": 60,
    "start_time": "2022-02-15T00:57:49.322Z"
   },
   {
    "duration": 43,
    "start_time": "2022-02-15T00:57:49.385Z"
   },
   {
    "duration": 43,
    "start_time": "2022-02-15T00:57:49.431Z"
   },
   {
    "duration": 28,
    "start_time": "2022-02-15T00:57:49.476Z"
   },
   {
    "duration": 22,
    "start_time": "2022-02-15T00:57:49.506Z"
   },
   {
    "duration": 70,
    "start_time": "2022-02-15T00:57:49.533Z"
   },
   {
    "duration": 26,
    "start_time": "2022-02-15T00:57:49.607Z"
   },
   {
    "duration": 60,
    "start_time": "2022-02-15T00:57:49.635Z"
   },
   {
    "duration": 45,
    "start_time": "2022-02-15T00:57:49.698Z"
   },
   {
    "duration": 64,
    "start_time": "2022-02-15T00:57:49.745Z"
   },
   {
    "duration": 43,
    "start_time": "2022-02-15T00:57:49.812Z"
   },
   {
    "duration": 27,
    "start_time": "2022-02-15T00:57:49.857Z"
   },
   {
    "duration": 45,
    "start_time": "2022-02-15T00:57:49.886Z"
   },
   {
    "duration": 66,
    "start_time": "2022-02-15T00:57:49.934Z"
   },
   {
    "duration": 25,
    "start_time": "2022-02-15T00:57:50.002Z"
   },
   {
    "duration": 51,
    "start_time": "2022-02-15T00:57:50.029Z"
   },
   {
    "duration": 19,
    "start_time": "2022-02-15T00:57:50.083Z"
   },
   {
    "duration": 66,
    "start_time": "2022-02-15T00:57:50.105Z"
   },
   {
    "duration": 202,
    "start_time": "2022-02-15T00:57:50.173Z"
   },
   {
    "duration": 123,
    "start_time": "2022-02-15T00:57:50.378Z"
   },
   {
    "duration": 442,
    "start_time": "2022-02-15T00:57:50.503Z"
   },
   {
    "duration": 23,
    "start_time": "2022-02-15T00:57:50.948Z"
   },
   {
    "duration": 330,
    "start_time": "2022-02-15T00:57:50.973Z"
   },
   {
    "duration": 27,
    "start_time": "2022-02-15T00:57:51.306Z"
   },
   {
    "duration": 55,
    "start_time": "2022-02-15T00:57:51.336Z"
   },
   {
    "duration": 11,
    "start_time": "2022-02-15T00:57:51.394Z"
   },
   {
    "duration": 10,
    "start_time": "2022-02-15T00:57:51.408Z"
   },
   {
    "duration": 218,
    "start_time": "2022-02-15T00:57:51.421Z"
   },
   {
    "duration": 179,
    "start_time": "2022-02-15T00:57:51.642Z"
   },
   {
    "duration": 6,
    "start_time": "2022-02-15T00:57:51.823Z"
   },
   {
    "duration": 106,
    "start_time": "2022-02-15T00:57:51.831Z"
   },
   {
    "duration": 37,
    "start_time": "2022-02-15T00:57:51.939Z"
   },
   {
    "duration": 460,
    "start_time": "2022-02-15T00:57:51.979Z"
   },
   {
    "duration": 121,
    "start_time": "2022-02-15T00:57:52.441Z"
   },
   {
    "duration": 76,
    "start_time": "2022-02-15T00:57:52.565Z"
   },
   {
    "duration": 310,
    "start_time": "2022-02-15T00:57:52.644Z"
   },
   {
    "duration": 7,
    "start_time": "2022-02-15T00:58:12.392Z"
   },
   {
    "duration": 1082,
    "start_time": "2022-02-15T00:58:12.403Z"
   },
   {
    "duration": 21,
    "start_time": "2022-02-15T00:58:13.488Z"
   },
   {
    "duration": 177,
    "start_time": "2022-02-15T00:58:13.511Z"
   },
   {
    "duration": 157,
    "start_time": "2022-02-15T00:58:13.691Z"
   },
   {
    "duration": 164,
    "start_time": "2022-02-15T00:58:13.850Z"
   },
   {
    "duration": 559,
    "start_time": "2022-02-15T00:58:14.016Z"
   },
   {
    "duration": 128,
    "start_time": "2022-02-15T00:58:14.579Z"
   },
   {
    "duration": 129,
    "start_time": "2022-02-15T00:58:14.711Z"
   },
   {
    "duration": 61,
    "start_time": "2022-02-15T00:58:14.843Z"
   },
   {
    "duration": 67,
    "start_time": "2022-02-15T00:58:14.907Z"
   },
   {
    "duration": 22,
    "start_time": "2022-02-15T00:58:14.977Z"
   },
   {
    "duration": 75,
    "start_time": "2022-02-15T00:58:15.003Z"
   },
   {
    "duration": 46,
    "start_time": "2022-02-15T00:58:15.081Z"
   },
   {
    "duration": 75,
    "start_time": "2022-02-15T00:58:15.130Z"
   },
   {
    "duration": 21,
    "start_time": "2022-02-15T00:58:15.208Z"
   },
   {
    "duration": 48,
    "start_time": "2022-02-15T00:58:15.232Z"
   },
   {
    "duration": 20,
    "start_time": "2022-02-15T00:58:15.282Z"
   },
   {
    "duration": 68,
    "start_time": "2022-02-15T00:58:15.304Z"
   },
   {
    "duration": 23,
    "start_time": "2022-02-15T00:58:15.375Z"
   },
   {
    "duration": 73,
    "start_time": "2022-02-15T00:58:15.401Z"
   },
   {
    "duration": 46,
    "start_time": "2022-02-15T00:58:15.477Z"
   },
   {
    "duration": 72,
    "start_time": "2022-02-15T00:58:15.531Z"
   },
   {
    "duration": 23,
    "start_time": "2022-02-15T00:58:15.607Z"
   },
   {
    "duration": 53,
    "start_time": "2022-02-15T00:58:15.633Z"
   },
   {
    "duration": 44,
    "start_time": "2022-02-15T00:58:15.688Z"
   },
   {
    "duration": 67,
    "start_time": "2022-02-15T00:58:15.735Z"
   },
   {
    "duration": 32,
    "start_time": "2022-02-15T00:58:15.804Z"
   },
   {
    "duration": 38,
    "start_time": "2022-02-15T00:58:15.838Z"
   },
   {
    "duration": 23,
    "start_time": "2022-02-15T00:58:15.878Z"
   },
   {
    "duration": 13,
    "start_time": "2022-02-15T00:58:15.903Z"
   },
   {
    "duration": 134,
    "start_time": "2022-02-15T00:58:15.919Z"
   },
   {
    "duration": 76,
    "start_time": "2022-02-15T00:58:16.055Z"
   },
   {
    "duration": 264,
    "start_time": "2022-02-15T00:58:16.133Z"
   },
   {
    "duration": 10,
    "start_time": "2022-02-15T00:58:16.400Z"
   },
   {
    "duration": 301,
    "start_time": "2022-02-15T00:58:16.413Z"
   },
   {
    "duration": 27,
    "start_time": "2022-02-15T00:58:16.716Z"
   },
   {
    "duration": 47,
    "start_time": "2022-02-15T00:58:16.745Z"
   },
   {
    "duration": 11,
    "start_time": "2022-02-15T00:58:16.794Z"
   },
   {
    "duration": 11,
    "start_time": "2022-02-15T00:58:16.807Z"
   },
   {
    "duration": 219,
    "start_time": "2022-02-15T00:58:16.821Z"
   },
   {
    "duration": 173,
    "start_time": "2022-02-15T00:58:17.042Z"
   },
   {
    "duration": 5,
    "start_time": "2022-02-15T00:58:17.217Z"
   },
   {
    "duration": 99,
    "start_time": "2022-02-15T00:58:17.224Z"
   },
   {
    "duration": 25,
    "start_time": "2022-02-15T00:58:17.325Z"
   },
   {
    "duration": 456,
    "start_time": "2022-02-15T00:58:17.353Z"
   },
   {
    "duration": 121,
    "start_time": "2022-02-15T00:58:17.812Z"
   },
   {
    "duration": 111,
    "start_time": "2022-02-15T00:58:17.936Z"
   },
   {
    "duration": 319,
    "start_time": "2022-02-15T00:58:18.050Z"
   },
   {
    "duration": 6,
    "start_time": "2022-02-15T01:09:28.345Z"
   },
   {
    "duration": 1062,
    "start_time": "2022-02-15T01:09:28.356Z"
   },
   {
    "duration": 21,
    "start_time": "2022-02-15T01:09:29.421Z"
   },
   {
    "duration": 175,
    "start_time": "2022-02-15T01:09:29.446Z"
   },
   {
    "duration": 160,
    "start_time": "2022-02-15T01:09:29.625Z"
   },
   {
    "duration": 157,
    "start_time": "2022-02-15T01:09:29.788Z"
   },
   {
    "duration": 622,
    "start_time": "2022-02-15T01:09:29.948Z"
   },
   {
    "duration": 125,
    "start_time": "2022-02-15T01:09:30.572Z"
   },
   {
    "duration": 130,
    "start_time": "2022-02-15T01:09:30.701Z"
   },
   {
    "duration": 64,
    "start_time": "2022-02-15T01:09:30.834Z"
   },
   {
    "duration": 44,
    "start_time": "2022-02-15T01:09:30.901Z"
   },
   {
    "duration": 42,
    "start_time": "2022-02-15T01:09:30.947Z"
   },
   {
    "duration": 58,
    "start_time": "2022-02-15T01:09:30.992Z"
   },
   {
    "duration": 58,
    "start_time": "2022-02-15T01:09:31.053Z"
   },
   {
    "duration": 77,
    "start_time": "2022-02-15T01:09:31.114Z"
   },
   {
    "duration": 40,
    "start_time": "2022-02-15T01:09:31.194Z"
   },
   {
    "duration": 37,
    "start_time": "2022-02-15T01:09:31.236Z"
   },
   {
    "duration": 34,
    "start_time": "2022-02-15T01:09:31.276Z"
   },
   {
    "duration": 56,
    "start_time": "2022-02-15T01:09:31.313Z"
   },
   {
    "duration": 25,
    "start_time": "2022-02-15T01:09:31.371Z"
   },
   {
    "duration": 45,
    "start_time": "2022-02-15T01:09:31.399Z"
   },
   {
    "duration": 62,
    "start_time": "2022-02-15T01:09:31.447Z"
   },
   {
    "duration": 64,
    "start_time": "2022-02-15T01:09:31.512Z"
   },
   {
    "duration": 25,
    "start_time": "2022-02-15T01:09:31.581Z"
   },
   {
    "duration": 29,
    "start_time": "2022-02-15T01:09:31.609Z"
   },
   {
    "duration": 70,
    "start_time": "2022-02-15T01:09:31.641Z"
   },
   {
    "duration": 62,
    "start_time": "2022-02-15T01:09:31.714Z"
   },
   {
    "duration": 22,
    "start_time": "2022-02-15T01:09:31.778Z"
   },
   {
    "duration": 30,
    "start_time": "2022-02-15T01:09:31.802Z"
   },
   {
    "duration": 50,
    "start_time": "2022-02-15T01:09:31.834Z"
   },
   {
    "duration": 19,
    "start_time": "2022-02-15T01:09:31.886Z"
   },
   {
    "duration": 123,
    "start_time": "2022-02-15T01:09:31.907Z"
   },
   {
    "duration": 91,
    "start_time": "2022-02-15T01:09:32.033Z"
   },
   {
    "duration": 342,
    "start_time": "2022-02-15T01:09:32.127Z"
   },
   {
    "duration": 11,
    "start_time": "2022-02-15T01:09:32.472Z"
   },
   {
    "duration": 604,
    "start_time": "2022-02-15T01:09:32.485Z"
   },
   {
    "duration": 28,
    "start_time": "2022-02-15T01:09:33.091Z"
   },
   {
    "duration": 61,
    "start_time": "2022-02-15T01:09:33.121Z"
   },
   {
    "duration": 11,
    "start_time": "2022-02-15T01:09:33.184Z"
   },
   {
    "duration": 10,
    "start_time": "2022-02-15T01:09:33.198Z"
   },
   {
    "duration": 219,
    "start_time": "2022-02-15T01:09:33.211Z"
   },
   {
    "duration": 176,
    "start_time": "2022-02-15T01:09:33.432Z"
   },
   {
    "duration": 5,
    "start_time": "2022-02-15T01:09:33.610Z"
   },
   {
    "duration": 108,
    "start_time": "2022-02-15T01:09:33.617Z"
   },
   {
    "duration": 26,
    "start_time": "2022-02-15T01:09:33.727Z"
   },
   {
    "duration": 441,
    "start_time": "2022-02-15T01:09:33.770Z"
   },
   {
    "duration": 349,
    "start_time": "2022-02-15T01:09:34.214Z"
   },
   {
    "duration": 6,
    "start_time": "2022-02-15T01:12:32.245Z"
   },
   {
    "duration": 1026,
    "start_time": "2022-02-15T01:12:32.254Z"
   },
   {
    "duration": 20,
    "start_time": "2022-02-15T01:12:33.283Z"
   },
   {
    "duration": 173,
    "start_time": "2022-02-15T01:12:33.305Z"
   },
   {
    "duration": 158,
    "start_time": "2022-02-15T01:12:33.480Z"
   },
   {
    "duration": 154,
    "start_time": "2022-02-15T01:12:33.640Z"
   },
   {
    "duration": 550,
    "start_time": "2022-02-15T01:12:33.796Z"
   },
   {
    "duration": 122,
    "start_time": "2022-02-15T01:12:34.348Z"
   },
   {
    "duration": 125,
    "start_time": "2022-02-15T01:12:34.474Z"
   },
   {
    "duration": 69,
    "start_time": "2022-02-15T01:12:34.602Z"
   },
   {
    "duration": 44,
    "start_time": "2022-02-15T01:12:34.673Z"
   },
   {
    "duration": 20,
    "start_time": "2022-02-15T01:12:34.719Z"
   },
   {
    "duration": 70,
    "start_time": "2022-02-15T01:12:34.742Z"
   },
   {
    "duration": 60,
    "start_time": "2022-02-15T01:12:34.814Z"
   },
   {
    "duration": 43,
    "start_time": "2022-02-15T01:12:34.876Z"
   },
   {
    "duration": 23,
    "start_time": "2022-02-15T01:12:34.921Z"
   },
   {
    "duration": 48,
    "start_time": "2022-02-15T01:12:34.946Z"
   },
   {
    "duration": 21,
    "start_time": "2022-02-15T01:12:34.996Z"
   },
   {
    "duration": 71,
    "start_time": "2022-02-15T01:12:35.020Z"
   },
   {
    "duration": 22,
    "start_time": "2022-02-15T01:12:35.093Z"
   },
   {
    "duration": 71,
    "start_time": "2022-02-15T01:12:35.118Z"
   },
   {
    "duration": 44,
    "start_time": "2022-02-15T01:12:35.192Z"
   },
   {
    "duration": 64,
    "start_time": "2022-02-15T01:12:35.238Z"
   },
   {
    "duration": 23,
    "start_time": "2022-02-15T01:12:35.304Z"
   },
   {
    "duration": 45,
    "start_time": "2022-02-15T01:12:35.329Z"
   },
   {
    "duration": 45,
    "start_time": "2022-02-15T01:12:35.376Z"
   },
   {
    "duration": 59,
    "start_time": "2022-02-15T01:12:35.426Z"
   },
   {
    "duration": 23,
    "start_time": "2022-02-15T01:12:35.489Z"
   },
   {
    "duration": 56,
    "start_time": "2022-02-15T01:12:35.515Z"
   },
   {
    "duration": 20,
    "start_time": "2022-02-15T01:12:35.573Z"
   },
   {
    "duration": 143,
    "start_time": "2022-02-15T01:12:35.595Z"
   },
   {
    "duration": 12,
    "start_time": "2022-02-15T01:12:35.740Z"
   },
   {
    "duration": 93,
    "start_time": "2022-02-15T01:12:35.755Z"
   },
   {
    "duration": 64,
    "start_time": "2022-02-15T01:12:35.851Z"
   },
   {
    "duration": 265,
    "start_time": "2022-02-15T01:12:35.918Z"
   },
   {
    "duration": 5995,
    "start_time": "2022-02-15T01:12:36.185Z"
   },
   {
    "duration": 713,
    "start_time": "2022-02-15T01:12:41.469Z"
   },
   {
    "duration": 707,
    "start_time": "2022-02-15T01:12:41.477Z"
   },
   {
    "duration": 702,
    "start_time": "2022-02-15T01:12:41.483Z"
   },
   {
    "duration": 699,
    "start_time": "2022-02-15T01:12:41.488Z"
   },
   {
    "duration": 696,
    "start_time": "2022-02-15T01:12:41.492Z"
   },
   {
    "duration": 694,
    "start_time": "2022-02-15T01:12:41.496Z"
   },
   {
    "duration": 6,
    "start_time": "2022-02-15T01:13:02.711Z"
   },
   {
    "duration": 1120,
    "start_time": "2022-02-15T01:13:02.720Z"
   },
   {
    "duration": 28,
    "start_time": "2022-02-15T01:13:03.843Z"
   },
   {
    "duration": 173,
    "start_time": "2022-02-15T01:13:03.874Z"
   },
   {
    "duration": 163,
    "start_time": "2022-02-15T01:13:04.049Z"
   },
   {
    "duration": 158,
    "start_time": "2022-02-15T01:13:04.215Z"
   },
   {
    "duration": 593,
    "start_time": "2022-02-15T01:13:04.376Z"
   },
   {
    "duration": 124,
    "start_time": "2022-02-15T01:13:04.971Z"
   },
   {
    "duration": 138,
    "start_time": "2022-02-15T01:13:05.099Z"
   },
   {
    "duration": 61,
    "start_time": "2022-02-15T01:13:05.240Z"
   },
   {
    "duration": 44,
    "start_time": "2022-02-15T01:13:05.303Z"
   },
   {
    "duration": 44,
    "start_time": "2022-02-15T01:13:05.349Z"
   },
   {
    "duration": 49,
    "start_time": "2022-02-15T01:13:05.395Z"
   },
   {
    "duration": 43,
    "start_time": "2022-02-15T01:13:05.470Z"
   },
   {
    "duration": 66,
    "start_time": "2022-02-15T01:13:05.516Z"
   },
   {
    "duration": 22,
    "start_time": "2022-02-15T01:13:05.585Z"
   },
   {
    "duration": 27,
    "start_time": "2022-02-15T01:13:05.609Z"
   },
   {
    "duration": 41,
    "start_time": "2022-02-15T01:13:05.639Z"
   },
   {
    "duration": 47,
    "start_time": "2022-02-15T01:13:05.682Z"
   },
   {
    "duration": 45,
    "start_time": "2022-02-15T01:13:05.731Z"
   },
   {
    "duration": 46,
    "start_time": "2022-02-15T01:13:05.779Z"
   },
   {
    "duration": 64,
    "start_time": "2022-02-15T01:13:05.827Z"
   },
   {
    "duration": 45,
    "start_time": "2022-02-15T01:13:05.894Z"
   },
   {
    "duration": 44,
    "start_time": "2022-02-15T01:13:05.941Z"
   },
   {
    "duration": 29,
    "start_time": "2022-02-15T01:13:05.988Z"
   },
   {
    "duration": 67,
    "start_time": "2022-02-15T01:13:06.019Z"
   },
   {
    "duration": 51,
    "start_time": "2022-02-15T01:13:06.091Z"
   },
   {
    "duration": 34,
    "start_time": "2022-02-15T01:13:06.145Z"
   },
   {
    "duration": 30,
    "start_time": "2022-02-15T01:13:06.181Z"
   },
   {
    "duration": 20,
    "start_time": "2022-02-15T01:13:06.213Z"
   },
   {
    "duration": 156,
    "start_time": "2022-02-15T01:13:06.236Z"
   },
   {
    "duration": 12,
    "start_time": "2022-02-15T01:13:06.394Z"
   },
   {
    "duration": 95,
    "start_time": "2022-02-15T01:13:06.409Z"
   },
   {
    "duration": 64,
    "start_time": "2022-02-15T01:13:06.507Z"
   },
   {
    "duration": 257,
    "start_time": "2022-02-15T01:13:06.574Z"
   },
   {
    "duration": 192,
    "start_time": "2022-02-15T01:13:06.833Z"
   },
   {
    "duration": 5,
    "start_time": "2022-02-15T01:13:07.027Z"
   },
   {
    "duration": 97,
    "start_time": "2022-02-15T01:13:07.034Z"
   },
   {
    "duration": 38,
    "start_time": "2022-02-15T01:13:07.133Z"
   },
   {
    "duration": 473,
    "start_time": "2022-02-15T01:13:07.173Z"
   },
   {
    "duration": 119,
    "start_time": "2022-02-15T01:13:07.648Z"
   },
   {
    "duration": 322,
    "start_time": "2022-02-15T01:13:07.770Z"
   },
   {
    "duration": 5,
    "start_time": "2022-02-15T01:13:42.280Z"
   },
   {
    "duration": 1067,
    "start_time": "2022-02-15T01:13:42.288Z"
   },
   {
    "duration": 21,
    "start_time": "2022-02-15T01:13:43.359Z"
   },
   {
    "duration": 179,
    "start_time": "2022-02-15T01:13:43.383Z"
   },
   {
    "duration": 164,
    "start_time": "2022-02-15T01:13:43.565Z"
   },
   {
    "duration": 166,
    "start_time": "2022-02-15T01:13:43.732Z"
   },
   {
    "duration": 562,
    "start_time": "2022-02-15T01:13:43.901Z"
   },
   {
    "duration": 123,
    "start_time": "2022-02-15T01:13:44.471Z"
   },
   {
    "duration": 125,
    "start_time": "2022-02-15T01:13:44.598Z"
   },
   {
    "duration": 68,
    "start_time": "2022-02-15T01:13:44.725Z"
   },
   {
    "duration": 43,
    "start_time": "2022-02-15T01:13:44.796Z"
   },
   {
    "duration": 42,
    "start_time": "2022-02-15T01:13:44.842Z"
   },
   {
    "duration": 43,
    "start_time": "2022-02-15T01:13:44.887Z"
   },
   {
    "duration": 64,
    "start_time": "2022-02-15T01:13:44.933Z"
   },
   {
    "duration": 52,
    "start_time": "2022-02-15T01:13:45.000Z"
   },
   {
    "duration": 34,
    "start_time": "2022-02-15T01:13:45.054Z"
   },
   {
    "duration": 28,
    "start_time": "2022-02-15T01:13:45.090Z"
   },
   {
    "duration": 20,
    "start_time": "2022-02-15T01:13:45.120Z"
   },
   {
    "duration": 46,
    "start_time": "2022-02-15T01:13:45.170Z"
   },
   {
    "duration": 23,
    "start_time": "2022-02-15T01:13:45.218Z"
   },
   {
    "duration": 62,
    "start_time": "2022-02-15T01:13:45.243Z"
   },
   {
    "duration": 64,
    "start_time": "2022-02-15T01:13:45.307Z"
   },
   {
    "duration": 45,
    "start_time": "2022-02-15T01:13:45.376Z"
   },
   {
    "duration": 45,
    "start_time": "2022-02-15T01:13:45.424Z"
   },
   {
    "duration": 27,
    "start_time": "2022-02-15T01:13:45.471Z"
   },
   {
    "duration": 43,
    "start_time": "2022-02-15T01:13:45.501Z"
   },
   {
    "duration": 45,
    "start_time": "2022-02-15T01:13:45.569Z"
   },
   {
    "duration": 22,
    "start_time": "2022-02-15T01:13:45.616Z"
   },
   {
    "duration": 53,
    "start_time": "2022-02-15T01:13:45.641Z"
   },
   {
    "duration": 20,
    "start_time": "2022-02-15T01:13:45.697Z"
   },
   {
    "duration": 143,
    "start_time": "2022-02-15T01:13:45.719Z"
   },
   {
    "duration": 13,
    "start_time": "2022-02-15T01:13:45.864Z"
   },
   {
    "duration": 90,
    "start_time": "2022-02-15T01:13:45.880Z"
   },
   {
    "duration": 73,
    "start_time": "2022-02-15T01:13:45.973Z"
   },
   {
    "duration": 271,
    "start_time": "2022-02-15T01:13:46.049Z"
   },
   {
    "duration": 175,
    "start_time": "2022-02-15T01:13:46.322Z"
   },
   {
    "duration": 5,
    "start_time": "2022-02-15T01:13:46.499Z"
   },
   {
    "duration": 101,
    "start_time": "2022-02-15T01:13:46.506Z"
   },
   {
    "duration": 24,
    "start_time": "2022-02-15T01:13:46.609Z"
   },
   {
    "duration": 467,
    "start_time": "2022-02-15T01:13:46.635Z"
   },
   {
    "duration": 438,
    "start_time": "2022-02-15T01:13:47.104Z"
   },
   {
    "duration": 7,
    "start_time": "2022-02-15T01:19:54.490Z"
   },
   {
    "duration": 1128,
    "start_time": "2022-02-15T01:19:54.501Z"
   },
   {
    "duration": 37,
    "start_time": "2022-02-15T01:19:55.632Z"
   },
   {
    "duration": 169,
    "start_time": "2022-02-15T01:19:55.672Z"
   },
   {
    "duration": 173,
    "start_time": "2022-02-15T01:19:55.845Z"
   },
   {
    "duration": 160,
    "start_time": "2022-02-15T01:19:56.021Z"
   },
   {
    "duration": 572,
    "start_time": "2022-02-15T01:19:56.184Z"
   },
   {
    "duration": 127,
    "start_time": "2022-02-15T01:19:56.759Z"
   },
   {
    "duration": 129,
    "start_time": "2022-02-15T01:19:56.892Z"
   },
   {
    "duration": 71,
    "start_time": "2022-02-15T01:19:57.025Z"
   },
   {
    "duration": 44,
    "start_time": "2022-02-15T01:19:57.099Z"
   },
   {
    "duration": 44,
    "start_time": "2022-02-15T01:19:57.145Z"
   },
   {
    "duration": 48,
    "start_time": "2022-02-15T01:19:57.192Z"
   },
   {
    "duration": 68,
    "start_time": "2022-02-15T01:19:57.242Z"
   },
   {
    "duration": 59,
    "start_time": "2022-02-15T01:19:57.312Z"
   },
   {
    "duration": 21,
    "start_time": "2022-02-15T01:19:57.373Z"
   },
   {
    "duration": 26,
    "start_time": "2022-02-15T01:19:57.397Z"
   },
   {
    "duration": 45,
    "start_time": "2022-02-15T01:19:57.426Z"
   },
   {
    "duration": 46,
    "start_time": "2022-02-15T01:19:57.473Z"
   },
   {
    "duration": 49,
    "start_time": "2022-02-15T01:19:57.522Z"
   },
   {
    "duration": 43,
    "start_time": "2022-02-15T01:19:57.573Z"
   },
   {
    "duration": 59,
    "start_time": "2022-02-15T01:19:57.619Z"
   },
   {
    "duration": 44,
    "start_time": "2022-02-15T01:19:57.680Z"
   },
   {
    "duration": 46,
    "start_time": "2022-02-15T01:19:57.727Z"
   },
   {
    "duration": 30,
    "start_time": "2022-02-15T01:19:57.776Z"
   },
   {
    "duration": 66,
    "start_time": "2022-02-15T01:19:57.808Z"
   },
   {
    "duration": 44,
    "start_time": "2022-02-15T01:19:57.881Z"
   },
   {
    "duration": 41,
    "start_time": "2022-02-15T01:19:57.928Z"
   },
   {
    "duration": 29,
    "start_time": "2022-02-15T01:19:57.971Z"
   },
   {
    "duration": 21,
    "start_time": "2022-02-15T01:19:58.002Z"
   },
   {
    "duration": 225,
    "start_time": "2022-02-15T01:19:58.069Z"
   },
   {
    "duration": 12,
    "start_time": "2022-02-15T01:19:58.296Z"
   },
   {
    "duration": 174,
    "start_time": "2022-02-15T01:19:58.310Z"
   },
   {
    "duration": 104,
    "start_time": "2022-02-15T01:19:58.486Z"
   },
   {
    "duration": 388,
    "start_time": "2022-02-15T01:19:58.592Z"
   },
   {
    "duration": 168,
    "start_time": "2022-02-15T01:19:58.983Z"
   },
   {
    "duration": 17,
    "start_time": "2022-02-15T01:19:59.153Z"
   },
   {
    "duration": 87,
    "start_time": "2022-02-15T01:19:59.173Z"
   },
   {
    "duration": 21,
    "start_time": "2022-02-15T01:19:59.270Z"
   },
   {
    "duration": 498,
    "start_time": "2022-02-15T01:19:59.294Z"
   },
   {
    "duration": 121,
    "start_time": "2022-02-15T01:19:59.794Z"
   },
   {
    "duration": 270,
    "start_time": "2022-02-15T01:19:59.918Z"
   },
   {
    "duration": 7,
    "start_time": "2022-02-15T01:20:53.683Z"
   },
   {
    "duration": 1087,
    "start_time": "2022-02-15T01:20:53.693Z"
   },
   {
    "duration": 26,
    "start_time": "2022-02-15T01:20:54.784Z"
   },
   {
    "duration": 173,
    "start_time": "2022-02-15T01:20:54.813Z"
   },
   {
    "duration": 163,
    "start_time": "2022-02-15T01:20:54.988Z"
   },
   {
    "duration": 157,
    "start_time": "2022-02-15T01:20:55.153Z"
   },
   {
    "duration": 1003,
    "start_time": "2022-02-15T01:20:55.314Z"
   },
   {
    "duration": 115,
    "start_time": "2022-02-15T01:20:56.320Z"
   },
   {
    "duration": 291,
    "start_time": "2022-02-15T01:20:56.438Z"
   },
   {
    "duration": 65,
    "start_time": "2022-02-15T01:20:56.731Z"
   },
   {
    "duration": 44,
    "start_time": "2022-02-15T01:20:56.799Z"
   },
   {
    "duration": 39,
    "start_time": "2022-02-15T01:20:56.845Z"
   },
   {
    "duration": 45,
    "start_time": "2022-02-15T01:20:56.887Z"
   },
   {
    "duration": 69,
    "start_time": "2022-02-15T01:20:56.934Z"
   },
   {
    "duration": 65,
    "start_time": "2022-02-15T01:20:57.006Z"
   },
   {
    "duration": 22,
    "start_time": "2022-02-15T01:20:57.073Z"
   },
   {
    "duration": 26,
    "start_time": "2022-02-15T01:20:57.098Z"
   },
   {
    "duration": 48,
    "start_time": "2022-02-15T01:20:57.126Z"
   },
   {
    "duration": 45,
    "start_time": "2022-02-15T01:20:57.179Z"
   },
   {
    "duration": 45,
    "start_time": "2022-02-15T01:20:57.227Z"
   },
   {
    "duration": 45,
    "start_time": "2022-02-15T01:20:57.274Z"
   },
   {
    "duration": 56,
    "start_time": "2022-02-15T01:20:57.322Z"
   },
   {
    "duration": 45,
    "start_time": "2022-02-15T01:20:57.380Z"
   },
   {
    "duration": 46,
    "start_time": "2022-02-15T01:20:57.427Z"
   },
   {
    "duration": 27,
    "start_time": "2022-02-15T01:20:57.475Z"
   },
   {
    "duration": 43,
    "start_time": "2022-02-15T01:20:57.504Z"
   },
   {
    "duration": 43,
    "start_time": "2022-02-15T01:20:57.569Z"
   },
   {
    "duration": 23,
    "start_time": "2022-02-15T01:20:57.614Z"
   },
   {
    "duration": 53,
    "start_time": "2022-02-15T01:20:57.639Z"
   },
   {
    "duration": 20,
    "start_time": "2022-02-15T01:20:57.695Z"
   },
   {
    "duration": 145,
    "start_time": "2022-02-15T01:20:57.718Z"
   },
   {
    "duration": 14,
    "start_time": "2022-02-15T01:20:57.865Z"
   },
   {
    "duration": 68,
    "start_time": "2022-02-15T01:20:57.881Z"
   },
   {
    "duration": 54,
    "start_time": "2022-02-15T01:20:57.970Z"
   },
   {
    "duration": 268,
    "start_time": "2022-02-15T01:20:58.026Z"
   },
   {
    "duration": 174,
    "start_time": "2022-02-15T01:20:58.296Z"
   },
   {
    "duration": 4,
    "start_time": "2022-02-15T01:20:58.473Z"
   },
   {
    "duration": 102,
    "start_time": "2022-02-15T01:20:58.479Z"
   },
   {
    "duration": 25,
    "start_time": "2022-02-15T01:20:58.583Z"
   },
   {
    "duration": 466,
    "start_time": "2022-02-15T01:20:58.610Z"
   },
   {
    "duration": 121,
    "start_time": "2022-02-15T01:20:59.078Z"
   },
   {
    "duration": 294,
    "start_time": "2022-02-15T01:20:59.202Z"
   },
   {
    "duration": 6,
    "start_time": "2022-02-15T01:27:51.519Z"
   },
   {
    "duration": 1160,
    "start_time": "2022-02-15T01:27:51.528Z"
   },
   {
    "duration": 20,
    "start_time": "2022-02-15T01:27:52.691Z"
   },
   {
    "duration": 178,
    "start_time": "2022-02-15T01:27:52.714Z"
   },
   {
    "duration": 166,
    "start_time": "2022-02-15T01:27:52.895Z"
   },
   {
    "duration": 154,
    "start_time": "2022-02-15T01:27:53.068Z"
   },
   {
    "duration": 756,
    "start_time": "2022-02-15T01:27:53.225Z"
   },
   {
    "duration": 221,
    "start_time": "2022-02-15T01:27:53.985Z"
   },
   {
    "duration": 222,
    "start_time": "2022-02-15T01:27:54.209Z"
   },
   {
    "duration": 74,
    "start_time": "2022-02-15T01:27:54.433Z"
   },
   {
    "duration": 62,
    "start_time": "2022-02-15T01:27:54.509Z"
   },
   {
    "duration": 22,
    "start_time": "2022-02-15T01:27:54.574Z"
   },
   {
    "duration": 71,
    "start_time": "2022-02-15T01:27:54.598Z"
   },
   {
    "duration": 45,
    "start_time": "2022-02-15T01:27:54.672Z"
   },
   {
    "duration": 73,
    "start_time": "2022-02-15T01:27:54.720Z"
   },
   {
    "duration": 27,
    "start_time": "2022-02-15T01:27:54.796Z"
   },
   {
    "duration": 43,
    "start_time": "2022-02-15T01:27:54.826Z"
   },
   {
    "duration": 20,
    "start_time": "2022-02-15T01:27:54.872Z"
   },
   {
    "duration": 50,
    "start_time": "2022-02-15T01:27:54.894Z"
   },
   {
    "duration": 20,
    "start_time": "2022-02-15T01:27:54.970Z"
   },
   {
    "duration": 51,
    "start_time": "2022-02-15T01:27:54.992Z"
   },
   {
    "duration": 61,
    "start_time": "2022-02-15T01:27:55.045Z"
   },
   {
    "duration": 63,
    "start_time": "2022-02-15T01:27:55.111Z"
   },
   {
    "duration": 22,
    "start_time": "2022-02-15T01:27:55.177Z"
   },
   {
    "duration": 28,
    "start_time": "2022-02-15T01:27:55.201Z"
   },
   {
    "duration": 65,
    "start_time": "2022-02-15T01:27:55.232Z"
   },
   {
    "duration": 44,
    "start_time": "2022-02-15T01:27:55.299Z"
   },
   {
    "duration": 43,
    "start_time": "2022-02-15T01:27:55.346Z"
   },
   {
    "duration": 30,
    "start_time": "2022-02-15T01:27:55.391Z"
   },
   {
    "duration": 45,
    "start_time": "2022-02-15T01:27:55.424Z"
   },
   {
    "duration": 136,
    "start_time": "2022-02-15T01:27:55.471Z"
   },
   {
    "duration": 13,
    "start_time": "2022-02-15T01:27:55.609Z"
   },
   {
    "duration": 95,
    "start_time": "2022-02-15T01:27:55.624Z"
   },
   {
    "duration": 59,
    "start_time": "2022-02-15T01:27:55.721Z"
   },
   {
    "duration": 265,
    "start_time": "2022-02-15T01:27:55.783Z"
   },
   {
    "duration": 182,
    "start_time": "2022-02-15T01:27:56.051Z"
   },
   {
    "duration": 6,
    "start_time": "2022-02-15T01:27:56.237Z"
   },
   {
    "duration": 102,
    "start_time": "2022-02-15T01:27:56.246Z"
   },
   {
    "duration": 27,
    "start_time": "2022-02-15T01:27:56.370Z"
   },
   {
    "duration": 484,
    "start_time": "2022-02-15T01:27:56.399Z"
   },
   {
    "duration": 123,
    "start_time": "2022-02-15T01:27:56.886Z"
   },
   {
    "duration": 326,
    "start_time": "2022-02-15T01:27:57.012Z"
   },
   {
    "duration": 6,
    "start_time": "2022-02-15T01:33:10.926Z"
   },
   {
    "duration": 1079,
    "start_time": "2022-02-15T01:33:10.964Z"
   },
   {
    "duration": 26,
    "start_time": "2022-02-15T01:33:12.045Z"
   },
   {
    "duration": 170,
    "start_time": "2022-02-15T01:33:12.074Z"
   },
   {
    "duration": 157,
    "start_time": "2022-02-15T01:33:12.246Z"
   },
   {
    "duration": 156,
    "start_time": "2022-02-15T01:33:12.406Z"
   },
   {
    "duration": 902,
    "start_time": "2022-02-15T01:33:12.569Z"
   },
   {
    "duration": 400,
    "start_time": "2022-02-15T01:33:13.474Z"
   },
   {
    "duration": 214,
    "start_time": "2022-02-15T01:33:13.877Z"
   },
   {
    "duration": 72,
    "start_time": "2022-02-15T01:33:14.097Z"
   },
   {
    "duration": 45,
    "start_time": "2022-02-15T01:33:14.174Z"
   },
   {
    "duration": 47,
    "start_time": "2022-02-15T01:33:14.222Z"
   },
   {
    "duration": 44,
    "start_time": "2022-02-15T01:33:14.271Z"
   },
   {
    "duration": 55,
    "start_time": "2022-02-15T01:33:14.317Z"
   },
   {
    "duration": 44,
    "start_time": "2022-02-15T01:33:14.374Z"
   },
   {
    "duration": 20,
    "start_time": "2022-02-15T01:33:14.420Z"
   },
   {
    "duration": 27,
    "start_time": "2022-02-15T01:33:14.470Z"
   },
   {
    "duration": 21,
    "start_time": "2022-02-15T01:33:14.499Z"
   },
   {
    "duration": 70,
    "start_time": "2022-02-15T01:33:14.523Z"
   },
   {
    "duration": 22,
    "start_time": "2022-02-15T01:33:14.596Z"
   },
   {
    "duration": 64,
    "start_time": "2022-02-15T01:33:14.620Z"
   },
   {
    "duration": 44,
    "start_time": "2022-02-15T01:33:14.687Z"
   },
   {
    "duration": 61,
    "start_time": "2022-02-15T01:33:14.734Z"
   },
   {
    "duration": 21,
    "start_time": "2022-02-15T01:33:14.797Z"
   },
   {
    "duration": 48,
    "start_time": "2022-02-15T01:33:14.821Z"
   },
   {
    "duration": 45,
    "start_time": "2022-02-15T01:33:14.871Z"
   },
   {
    "duration": 59,
    "start_time": "2022-02-15T01:33:14.919Z"
   },
   {
    "duration": 23,
    "start_time": "2022-02-15T01:33:14.983Z"
   },
   {
    "duration": 36,
    "start_time": "2022-02-15T01:33:15.010Z"
   },
   {
    "duration": 39,
    "start_time": "2022-02-15T01:33:15.048Z"
   },
   {
    "duration": 146,
    "start_time": "2022-02-15T01:33:15.090Z"
   },
   {
    "duration": 13,
    "start_time": "2022-02-15T01:33:15.239Z"
   },
   {
    "duration": 80,
    "start_time": "2022-02-15T01:33:15.254Z"
   },
   {
    "duration": 68,
    "start_time": "2022-02-15T01:33:15.336Z"
   },
   {
    "duration": 256,
    "start_time": "2022-02-15T01:33:15.406Z"
   },
   {
    "duration": 166,
    "start_time": "2022-02-15T01:33:15.665Z"
   },
   {
    "duration": 5,
    "start_time": "2022-02-15T01:33:15.834Z"
   },
   {
    "duration": 110,
    "start_time": "2022-02-15T01:33:15.841Z"
   },
   {
    "duration": 593,
    "start_time": "2022-02-15T01:33:15.954Z"
   },
   {
    "duration": 20,
    "start_time": "2022-02-15T01:33:16.550Z"
   },
   {
    "duration": 35,
    "start_time": "2022-02-15T01:33:16.572Z"
   },
   {
    "duration": 68,
    "start_time": "2022-02-15T01:33:16.610Z"
   },
   {
    "duration": 343,
    "start_time": "2022-02-15T01:33:16.680Z"
   },
   {
    "duration": 289,
    "start_time": "2022-02-15T01:33:39.872Z"
   },
   {
    "duration": 625,
    "start_time": "2022-02-15T01:33:59.996Z"
   },
   {
    "duration": 313,
    "start_time": "2022-02-15T01:34:32.469Z"
   },
   {
    "duration": 299,
    "start_time": "2022-02-15T01:34:58.471Z"
   },
   {
    "duration": 286,
    "start_time": "2022-02-15T01:35:05.621Z"
   },
   {
    "duration": 276,
    "start_time": "2022-02-15T01:35:24.304Z"
   },
   {
    "duration": 284,
    "start_time": "2022-02-15T01:35:33.239Z"
   },
   {
    "duration": 300,
    "start_time": "2022-02-15T01:35:43.509Z"
   },
   {
    "duration": 1129,
    "start_time": "2022-02-15T01:37:35.498Z"
   },
   {
    "duration": 10,
    "start_time": "2022-02-15T01:37:53.230Z"
   },
   {
    "duration": 6,
    "start_time": "2022-02-15T01:38:00.309Z"
   },
   {
    "duration": 1115,
    "start_time": "2022-02-15T01:38:00.318Z"
   },
   {
    "duration": 20,
    "start_time": "2022-02-15T01:38:01.436Z"
   },
   {
    "duration": 179,
    "start_time": "2022-02-15T01:38:01.470Z"
   },
   {
    "duration": 170,
    "start_time": "2022-02-15T01:38:01.651Z"
   },
   {
    "duration": 164,
    "start_time": "2022-02-15T01:38:01.824Z"
   },
   {
    "duration": 1046,
    "start_time": "2022-02-15T01:38:01.991Z"
   },
   {
    "duration": 139,
    "start_time": "2022-02-15T01:38:03.040Z"
   },
   {
    "duration": 135,
    "start_time": "2022-02-15T01:38:03.183Z"
   },
   {
    "duration": 66,
    "start_time": "2022-02-15T01:38:03.321Z"
   },
   {
    "duration": 45,
    "start_time": "2022-02-15T01:38:03.389Z"
   },
   {
    "duration": 43,
    "start_time": "2022-02-15T01:38:03.436Z"
   },
   {
    "duration": 45,
    "start_time": "2022-02-15T01:38:03.482Z"
   },
   {
    "duration": 60,
    "start_time": "2022-02-15T01:38:03.529Z"
   },
   {
    "duration": 51,
    "start_time": "2022-02-15T01:38:03.591Z"
   },
   {
    "duration": 41,
    "start_time": "2022-02-15T01:38:03.644Z"
   },
   {
    "duration": 30,
    "start_time": "2022-02-15T01:38:03.688Z"
   },
   {
    "duration": 21,
    "start_time": "2022-02-15T01:38:03.720Z"
   },
   {
    "duration": 66,
    "start_time": "2022-02-15T01:38:03.743Z"
   },
   {
    "duration": 22,
    "start_time": "2022-02-15T01:38:03.812Z"
   },
   {
    "duration": 67,
    "start_time": "2022-02-15T01:38:03.836Z"
   },
   {
    "duration": 45,
    "start_time": "2022-02-15T01:38:03.905Z"
   },
   {
    "duration": 61,
    "start_time": "2022-02-15T01:38:03.952Z"
   },
   {
    "duration": 31,
    "start_time": "2022-02-15T01:38:04.015Z"
   },
   {
    "duration": 42,
    "start_time": "2022-02-15T01:38:04.049Z"
   },
   {
    "duration": 45,
    "start_time": "2022-02-15T01:38:04.094Z"
   },
   {
    "duration": 63,
    "start_time": "2022-02-15T01:38:04.144Z"
   },
   {
    "duration": 36,
    "start_time": "2022-02-15T01:38:04.210Z"
   },
   {
    "duration": 42,
    "start_time": "2022-02-15T01:38:04.248Z"
   },
   {
    "duration": 33,
    "start_time": "2022-02-15T01:38:04.292Z"
   },
   {
    "duration": 130,
    "start_time": "2022-02-15T01:38:04.328Z"
   },
   {
    "duration": 17,
    "start_time": "2022-02-15T01:38:04.461Z"
   },
   {
    "duration": 94,
    "start_time": "2022-02-15T01:38:04.481Z"
   },
   {
    "duration": 53,
    "start_time": "2022-02-15T01:38:04.577Z"
   },
   {
    "duration": 274,
    "start_time": "2022-02-15T01:38:04.633Z"
   },
   {
    "duration": 177,
    "start_time": "2022-02-15T01:38:04.909Z"
   },
   {
    "duration": 5,
    "start_time": "2022-02-15T01:38:05.089Z"
   },
   {
    "duration": 107,
    "start_time": "2022-02-15T01:38:05.097Z"
   },
   {
    "duration": 20,
    "start_time": "2022-02-15T01:38:05.207Z"
   },
   {
    "duration": 687,
    "start_time": "2022-02-15T01:38:05.230Z"
   },
   {
    "duration": 127,
    "start_time": "2022-02-15T01:38:05.920Z"
   },
   {
    "duration": 1370,
    "start_time": "2022-02-15T01:38:06.050Z"
   },
   {
    "duration": 433,
    "start_time": "2022-02-15T01:38:20.161Z"
   },
   {
    "duration": 91,
    "start_time": "2022-02-15T01:41:07.093Z"
   },
   {
    "duration": 522,
    "start_time": "2022-02-15T01:41:33.664Z"
   },
   {
    "duration": 421,
    "start_time": "2022-02-15T01:41:41.177Z"
   },
   {
    "duration": 468,
    "start_time": "2022-02-15T01:42:09.215Z"
   },
   {
    "duration": 7,
    "start_time": "2022-02-15T01:46:06.221Z"
   },
   {
    "duration": 1031,
    "start_time": "2022-02-15T01:46:06.231Z"
   },
   {
    "duration": 20,
    "start_time": "2022-02-15T01:46:07.265Z"
   },
   {
    "duration": 172,
    "start_time": "2022-02-15T01:46:07.288Z"
   },
   {
    "duration": 163,
    "start_time": "2022-02-15T01:46:07.462Z"
   },
   {
    "duration": 156,
    "start_time": "2022-02-15T01:46:07.628Z"
   },
   {
    "duration": 559,
    "start_time": "2022-02-15T01:46:07.787Z"
   },
   {
    "duration": 131,
    "start_time": "2022-02-15T01:46:08.350Z"
   },
   {
    "duration": 136,
    "start_time": "2022-02-15T01:46:08.484Z"
   },
   {
    "duration": 65,
    "start_time": "2022-02-15T01:46:08.622Z"
   },
   {
    "duration": 43,
    "start_time": "2022-02-15T01:46:08.689Z"
   },
   {
    "duration": 45,
    "start_time": "2022-02-15T01:46:08.735Z"
   },
   {
    "duration": 44,
    "start_time": "2022-02-15T01:46:08.783Z"
   },
   {
    "duration": 58,
    "start_time": "2022-02-15T01:46:08.829Z"
   },
   {
    "duration": 47,
    "start_time": "2022-02-15T01:46:08.890Z"
   },
   {
    "duration": 44,
    "start_time": "2022-02-15T01:46:08.939Z"
   },
   {
    "duration": 28,
    "start_time": "2022-02-15T01:46:08.985Z"
   },
   {
    "duration": 19,
    "start_time": "2022-02-15T01:46:09.016Z"
   },
   {
    "duration": 71,
    "start_time": "2022-02-15T01:46:09.037Z"
   },
   {
    "duration": 23,
    "start_time": "2022-02-15T01:46:09.111Z"
   },
   {
    "duration": 65,
    "start_time": "2022-02-15T01:46:09.137Z"
   },
   {
    "duration": 65,
    "start_time": "2022-02-15T01:46:09.205Z"
   },
   {
    "duration": 43,
    "start_time": "2022-02-15T01:46:09.275Z"
   },
   {
    "duration": 23,
    "start_time": "2022-02-15T01:46:09.321Z"
   },
   {
    "duration": 47,
    "start_time": "2022-02-15T01:46:09.346Z"
   },
   {
    "duration": 44,
    "start_time": "2022-02-15T01:46:09.396Z"
   },
   {
    "duration": 65,
    "start_time": "2022-02-15T01:46:09.442Z"
   },
   {
    "duration": 23,
    "start_time": "2022-02-15T01:46:09.510Z"
   },
   {
    "duration": 57,
    "start_time": "2022-02-15T01:46:09.536Z"
   },
   {
    "duration": 20,
    "start_time": "2022-02-15T01:46:09.595Z"
   },
   {
    "duration": 149,
    "start_time": "2022-02-15T01:46:09.617Z"
   },
   {
    "duration": 13,
    "start_time": "2022-02-15T01:46:09.769Z"
   },
   {
    "duration": 88,
    "start_time": "2022-02-15T01:46:09.784Z"
   },
   {
    "duration": 52,
    "start_time": "2022-02-15T01:46:09.875Z"
   },
   {
    "duration": 275,
    "start_time": "2022-02-15T01:46:09.929Z"
   },
   {
    "duration": 163,
    "start_time": "2022-02-15T01:46:10.206Z"
   },
   {
    "duration": 70,
    "start_time": "2022-02-15T01:46:10.372Z"
   },
   {
    "duration": 5,
    "start_time": "2022-02-15T01:46:10.445Z"
   },
   {
    "duration": 30,
    "start_time": "2022-02-15T01:46:10.470Z"
   },
   {
    "duration": 14,
    "start_time": "2022-02-15T01:46:32.469Z"
   },
   {
    "duration": 350,
    "start_time": "2022-02-15T01:46:34.726Z"
   },
   {
    "duration": 7,
    "start_time": "2022-02-15T01:46:51.828Z"
   },
   {
    "duration": 1049,
    "start_time": "2022-02-15T01:46:51.856Z"
   },
   {
    "duration": 20,
    "start_time": "2022-02-15T01:46:52.908Z"
   },
   {
    "duration": 170,
    "start_time": "2022-02-15T01:46:52.932Z"
   },
   {
    "duration": 162,
    "start_time": "2022-02-15T01:46:53.105Z"
   },
   {
    "duration": 154,
    "start_time": "2022-02-15T01:46:53.270Z"
   },
   {
    "duration": 869,
    "start_time": "2022-02-15T01:46:53.426Z"
   },
   {
    "duration": 211,
    "start_time": "2022-02-15T01:46:54.297Z"
   },
   {
    "duration": 197,
    "start_time": "2022-02-15T01:46:54.510Z"
   },
   {
    "duration": 75,
    "start_time": "2022-02-15T01:46:54.712Z"
   },
   {
    "duration": 46,
    "start_time": "2022-02-15T01:46:54.791Z"
   },
   {
    "duration": 46,
    "start_time": "2022-02-15T01:46:54.839Z"
   },
   {
    "duration": 44,
    "start_time": "2022-02-15T01:46:54.888Z"
   },
   {
    "duration": 63,
    "start_time": "2022-02-15T01:46:54.935Z"
   },
   {
    "duration": 44,
    "start_time": "2022-02-15T01:46:55.001Z"
   },
   {
    "duration": 40,
    "start_time": "2022-02-15T01:46:55.048Z"
   },
   {
    "duration": 27,
    "start_time": "2022-02-15T01:46:55.091Z"
   },
   {
    "duration": 48,
    "start_time": "2022-02-15T01:46:55.121Z"
   },
   {
    "duration": 47,
    "start_time": "2022-02-15T01:46:55.172Z"
   },
   {
    "duration": 23,
    "start_time": "2022-02-15T01:46:55.222Z"
   },
   {
    "duration": 44,
    "start_time": "2022-02-15T01:46:55.269Z"
   },
   {
    "duration": 58,
    "start_time": "2022-02-15T01:46:55.315Z"
   },
   {
    "duration": 46,
    "start_time": "2022-02-15T01:46:55.376Z"
   },
   {
    "duration": 49,
    "start_time": "2022-02-15T01:46:55.424Z"
   },
   {
    "duration": 27,
    "start_time": "2022-02-15T01:46:55.476Z"
   },
   {
    "duration": 65,
    "start_time": "2022-02-15T01:46:55.505Z"
   },
   {
    "duration": 44,
    "start_time": "2022-02-15T01:46:55.572Z"
   },
   {
    "duration": 22,
    "start_time": "2022-02-15T01:46:55.622Z"
   },
   {
    "duration": 49,
    "start_time": "2022-02-15T01:46:55.647Z"
   },
   {
    "duration": 20,
    "start_time": "2022-02-15T01:46:55.699Z"
   },
   {
    "duration": 156,
    "start_time": "2022-02-15T01:46:55.722Z"
   },
   {
    "duration": 12,
    "start_time": "2022-02-15T01:46:55.881Z"
   },
   {
    "duration": 90,
    "start_time": "2022-02-15T01:46:55.896Z"
   },
   {
    "duration": 54,
    "start_time": "2022-02-15T01:46:55.988Z"
   },
   {
    "duration": 272,
    "start_time": "2022-02-15T01:46:56.044Z"
   },
   {
    "duration": 156,
    "start_time": "2022-02-15T01:46:56.318Z"
   },
   {
    "duration": 69,
    "start_time": "2022-02-15T01:46:56.476Z"
   },
   {
    "duration": 26,
    "start_time": "2022-02-15T01:46:56.547Z"
   },
   {
    "duration": 35,
    "start_time": "2022-02-15T01:46:56.575Z"
   },
   {
    "duration": 8,
    "start_time": "2022-02-15T01:46:56.612Z"
   },
   {
    "duration": 381,
    "start_time": "2022-02-15T01:46:56.623Z"
   },
   {
    "duration": 47,
    "start_time": "2022-02-15T01:46:57.006Z"
   },
   {
    "duration": 653,
    "start_time": "2022-02-15T01:46:57.069Z"
   },
   {
    "duration": 7,
    "start_time": "2022-02-15T01:50:31.074Z"
   },
   {
    "duration": 1324,
    "start_time": "2022-02-15T01:50:31.084Z"
   },
   {
    "duration": 21,
    "start_time": "2022-02-15T01:50:32.411Z"
   },
   {
    "duration": 249,
    "start_time": "2022-02-15T01:50:32.435Z"
   },
   {
    "duration": 195,
    "start_time": "2022-02-15T01:50:32.687Z"
   },
   {
    "duration": 155,
    "start_time": "2022-02-15T01:50:32.884Z"
   },
   {
    "duration": 1273,
    "start_time": "2022-02-15T01:50:33.044Z"
   },
   {
    "duration": 129,
    "start_time": "2022-02-15T01:50:34.321Z"
   },
   {
    "duration": 138,
    "start_time": "2022-02-15T01:50:34.453Z"
   },
   {
    "duration": 50,
    "start_time": "2022-02-15T01:50:34.594Z"
   },
   {
    "duration": 63,
    "start_time": "2022-02-15T01:50:34.647Z"
   },
   {
    "duration": 22,
    "start_time": "2022-02-15T01:50:34.713Z"
   },
   {
    "duration": 71,
    "start_time": "2022-02-15T01:50:34.738Z"
   },
   {
    "duration": 59,
    "start_time": "2022-02-15T01:50:34.812Z"
   },
   {
    "duration": 46,
    "start_time": "2022-02-15T01:50:34.874Z"
   },
   {
    "duration": 51,
    "start_time": "2022-02-15T01:50:34.923Z"
   },
   {
    "duration": 34,
    "start_time": "2022-02-15T01:50:34.977Z"
   },
   {
    "duration": 22,
    "start_time": "2022-02-15T01:50:35.019Z"
   },
   {
    "duration": 72,
    "start_time": "2022-02-15T01:50:35.045Z"
   },
   {
    "duration": 24,
    "start_time": "2022-02-15T01:50:35.120Z"
   },
   {
    "duration": 66,
    "start_time": "2022-02-15T01:50:35.147Z"
   },
   {
    "duration": 67,
    "start_time": "2022-02-15T01:50:35.215Z"
   },
   {
    "duration": 48,
    "start_time": "2022-02-15T01:50:35.284Z"
   },
   {
    "duration": 44,
    "start_time": "2022-02-15T01:50:35.334Z"
   },
   {
    "duration": 28,
    "start_time": "2022-02-15T01:50:35.381Z"
   },
   {
    "duration": 65,
    "start_time": "2022-02-15T01:50:35.412Z"
   },
   {
    "duration": 45,
    "start_time": "2022-02-15T01:50:35.479Z"
   },
   {
    "duration": 45,
    "start_time": "2022-02-15T01:50:35.526Z"
   },
   {
    "duration": 30,
    "start_time": "2022-02-15T01:50:35.573Z"
   },
   {
    "duration": 20,
    "start_time": "2022-02-15T01:50:35.605Z"
   },
   {
    "duration": 152,
    "start_time": "2022-02-15T01:50:35.627Z"
   },
   {
    "duration": 13,
    "start_time": "2022-02-15T01:50:35.782Z"
   },
   {
    "duration": 89,
    "start_time": "2022-02-15T01:50:35.797Z"
   },
   {
    "duration": 57,
    "start_time": "2022-02-15T01:50:35.888Z"
   },
   {
    "duration": 284,
    "start_time": "2022-02-15T01:50:35.947Z"
   },
   {
    "duration": 259,
    "start_time": "2022-02-15T01:50:36.233Z"
   },
   {
    "duration": 822,
    "start_time": "2022-02-15T01:50:35.672Z"
   },
   {
    "duration": 819,
    "start_time": "2022-02-15T01:50:35.677Z"
   },
   {
    "duration": 816,
    "start_time": "2022-02-15T01:50:35.681Z"
   },
   {
    "duration": 351,
    "start_time": "2022-02-15T01:51:13.177Z"
   },
   {
    "duration": 427,
    "start_time": "2022-02-15T01:51:42.041Z"
   },
   {
    "duration": 8,
    "start_time": "2022-02-15T01:51:53.035Z"
   },
   {
    "duration": 70,
    "start_time": "2022-02-15T01:51:57.596Z"
   },
   {
    "duration": 6,
    "start_time": "2022-02-15T01:51:58.059Z"
   },
   {
    "duration": 32,
    "start_time": "2022-02-15T01:51:59.048Z"
   },
   {
    "duration": 6,
    "start_time": "2022-02-15T01:53:02.691Z"
   },
   {
    "duration": 1070,
    "start_time": "2022-02-15T01:53:02.699Z"
   },
   {
    "duration": 21,
    "start_time": "2022-02-15T01:53:03.772Z"
   },
   {
    "duration": 174,
    "start_time": "2022-02-15T01:53:03.795Z"
   },
   {
    "duration": 158,
    "start_time": "2022-02-15T01:53:03.971Z"
   },
   {
    "duration": 154,
    "start_time": "2022-02-15T01:53:04.132Z"
   },
   {
    "duration": 569,
    "start_time": "2022-02-15T01:53:04.289Z"
   },
   {
    "duration": 128,
    "start_time": "2022-02-15T01:53:04.861Z"
   },
   {
    "duration": 141,
    "start_time": "2022-02-15T01:53:04.993Z"
   },
   {
    "duration": 69,
    "start_time": "2022-02-15T01:53:05.138Z"
   },
   {
    "duration": 60,
    "start_time": "2022-02-15T01:53:05.209Z"
   },
   {
    "duration": 21,
    "start_time": "2022-02-15T01:53:05.271Z"
   },
   {
    "duration": 43,
    "start_time": "2022-02-15T01:53:05.295Z"
   },
   {
    "duration": 66,
    "start_time": "2022-02-15T01:53:05.341Z"
   },
   {
    "duration": 62,
    "start_time": "2022-02-15T01:53:05.409Z"
   },
   {
    "duration": 20,
    "start_time": "2022-02-15T01:53:05.474Z"
   },
   {
    "duration": 29,
    "start_time": "2022-02-15T01:53:05.497Z"
   },
   {
    "duration": 44,
    "start_time": "2022-02-15T01:53:05.529Z"
   },
   {
    "duration": 46,
    "start_time": "2022-02-15T01:53:05.575Z"
   },
   {
    "duration": 48,
    "start_time": "2022-02-15T01:53:05.624Z"
   },
   {
    "duration": 44,
    "start_time": "2022-02-15T01:53:05.675Z"
   },
   {
    "duration": 67,
    "start_time": "2022-02-15T01:53:05.721Z"
   },
   {
    "duration": 48,
    "start_time": "2022-02-15T01:53:05.791Z"
   },
   {
    "duration": 44,
    "start_time": "2022-02-15T01:53:05.841Z"
   },
   {
    "duration": 36,
    "start_time": "2022-02-15T01:53:05.888Z"
   },
   {
    "duration": 55,
    "start_time": "2022-02-15T01:53:05.927Z"
   },
   {
    "duration": 46,
    "start_time": "2022-02-15T01:53:05.989Z"
   },
   {
    "duration": 53,
    "start_time": "2022-02-15T01:53:06.038Z"
   },
   {
    "duration": 30,
    "start_time": "2022-02-15T01:53:06.094Z"
   },
   {
    "duration": 45,
    "start_time": "2022-02-15T01:53:06.126Z"
   },
   {
    "duration": 143,
    "start_time": "2022-02-15T01:53:06.174Z"
   },
   {
    "duration": 12,
    "start_time": "2022-02-15T01:53:06.320Z"
   },
   {
    "duration": 85,
    "start_time": "2022-02-15T01:53:06.334Z"
   },
   {
    "duration": 71,
    "start_time": "2022-02-15T01:53:06.421Z"
   },
   {
    "duration": 262,
    "start_time": "2022-02-15T01:53:06.494Z"
   },
   {
    "duration": 150,
    "start_time": "2022-02-15T01:53:06.769Z"
   },
   {
    "duration": 87,
    "start_time": "2022-02-15T01:53:06.922Z"
   },
   {
    "duration": 7,
    "start_time": "2022-02-15T01:53:07.012Z"
   },
   {
    "duration": 55,
    "start_time": "2022-02-15T01:53:07.022Z"
   },
   {
    "duration": 6,
    "start_time": "2022-02-15T01:53:49.297Z"
   },
   {
    "duration": 1065,
    "start_time": "2022-02-15T01:53:49.306Z"
   },
   {
    "duration": 20,
    "start_time": "2022-02-15T01:53:50.375Z"
   },
   {
    "duration": 252,
    "start_time": "2022-02-15T01:53:50.398Z"
   },
   {
    "duration": 219,
    "start_time": "2022-02-15T01:53:50.653Z"
   },
   {
    "duration": 195,
    "start_time": "2022-02-15T01:53:50.878Z"
   },
   {
    "duration": 696,
    "start_time": "2022-02-15T01:53:51.075Z"
   },
   {
    "duration": 149,
    "start_time": "2022-02-15T01:53:51.775Z"
   },
   {
    "duration": 148,
    "start_time": "2022-02-15T01:53:51.928Z"
   },
   {
    "duration": 64,
    "start_time": "2022-02-15T01:53:52.079Z"
   },
   {
    "duration": 67,
    "start_time": "2022-02-15T01:53:52.145Z"
   },
   {
    "duration": 21,
    "start_time": "2022-02-15T01:53:52.215Z"
   },
   {
    "duration": 70,
    "start_time": "2022-02-15T01:53:52.238Z"
   },
   {
    "duration": 59,
    "start_time": "2022-02-15T01:53:52.310Z"
   },
   {
    "duration": 64,
    "start_time": "2022-02-15T01:53:52.371Z"
   },
   {
    "duration": 34,
    "start_time": "2022-02-15T01:53:52.438Z"
   },
   {
    "duration": 44,
    "start_time": "2022-02-15T01:53:52.475Z"
   },
   {
    "duration": 22,
    "start_time": "2022-02-15T01:53:52.521Z"
   },
   {
    "duration": 57,
    "start_time": "2022-02-15T01:53:52.546Z"
   },
   {
    "duration": 21,
    "start_time": "2022-02-15T01:53:52.605Z"
   },
   {
    "duration": 68,
    "start_time": "2022-02-15T01:53:52.628Z"
   },
   {
    "duration": 45,
    "start_time": "2022-02-15T01:53:52.699Z"
   },
   {
    "duration": 61,
    "start_time": "2022-02-15T01:53:52.746Z"
   },
   {
    "duration": 23,
    "start_time": "2022-02-15T01:53:52.809Z"
   },
   {
    "duration": 49,
    "start_time": "2022-02-15T01:53:52.834Z"
   },
   {
    "duration": 47,
    "start_time": "2022-02-15T01:53:52.886Z"
   },
   {
    "duration": 64,
    "start_time": "2022-02-15T01:53:52.941Z"
   },
   {
    "duration": 37,
    "start_time": "2022-02-15T01:53:53.009Z"
   },
   {
    "duration": 37,
    "start_time": "2022-02-15T01:53:53.070Z"
   },
   {
    "duration": 34,
    "start_time": "2022-02-15T01:53:53.111Z"
   },
   {
    "duration": 155,
    "start_time": "2022-02-15T01:53:53.147Z"
   },
   {
    "duration": 15,
    "start_time": "2022-02-15T01:53:53.305Z"
   },
   {
    "duration": 99,
    "start_time": "2022-02-15T01:53:53.322Z"
   },
   {
    "duration": 78,
    "start_time": "2022-02-15T01:53:53.424Z"
   },
   {
    "duration": 267,
    "start_time": "2022-02-15T01:53:53.505Z"
   },
   {
    "duration": 154,
    "start_time": "2022-02-15T01:53:53.775Z"
   },
   {
    "duration": 83,
    "start_time": "2022-02-15T01:53:53.932Z"
   },
   {
    "duration": 6,
    "start_time": "2022-02-15T01:53:54.018Z"
   },
   {
    "duration": 54,
    "start_time": "2022-02-15T01:53:54.027Z"
   },
   {
    "duration": 9,
    "start_time": "2022-02-15T01:53:54.084Z"
   },
   {
    "duration": 374,
    "start_time": "2022-02-15T01:53:54.096Z"
   },
   {
    "duration": 45,
    "start_time": "2022-02-15T01:53:58.346Z"
   },
   {
    "duration": 329,
    "start_time": "2022-02-15T01:53:59.797Z"
   },
   {
    "duration": 6,
    "start_time": "2022-02-15T01:54:58.858Z"
   },
   {
    "duration": 1066,
    "start_time": "2022-02-15T01:54:58.869Z"
   },
   {
    "duration": 20,
    "start_time": "2022-02-15T01:54:59.938Z"
   },
   {
    "duration": 185,
    "start_time": "2022-02-15T01:54:59.961Z"
   },
   {
    "duration": 172,
    "start_time": "2022-02-15T01:55:00.148Z"
   },
   {
    "duration": 159,
    "start_time": "2022-02-15T01:55:00.323Z"
   },
   {
    "duration": 633,
    "start_time": "2022-02-15T01:55:00.484Z"
   },
   {
    "duration": 124,
    "start_time": "2022-02-15T01:55:01.120Z"
   },
   {
    "duration": 142,
    "start_time": "2022-02-15T01:55:01.247Z"
   },
   {
    "duration": 52,
    "start_time": "2022-02-15T01:55:01.393Z"
   },
   {
    "duration": 45,
    "start_time": "2022-02-15T01:55:01.468Z"
   },
   {
    "duration": 29,
    "start_time": "2022-02-15T01:55:01.516Z"
   },
   {
    "duration": 60,
    "start_time": "2022-02-15T01:55:01.547Z"
   },
   {
    "duration": 61,
    "start_time": "2022-02-15T01:55:01.610Z"
   },
   {
    "duration": 51,
    "start_time": "2022-02-15T01:55:01.674Z"
   },
   {
    "duration": 28,
    "start_time": "2022-02-15T01:55:01.727Z"
   },
   {
    "duration": 27,
    "start_time": "2022-02-15T01:55:01.770Z"
   },
   {
    "duration": 23,
    "start_time": "2022-02-15T01:55:01.800Z"
   },
   {
    "duration": 76,
    "start_time": "2022-02-15T01:55:01.825Z"
   },
   {
    "duration": 54,
    "start_time": "2022-02-15T01:55:01.903Z"
   },
   {
    "duration": 80,
    "start_time": "2022-02-15T01:55:01.960Z"
   },
   {
    "duration": 49,
    "start_time": "2022-02-15T01:55:02.042Z"
   },
   {
    "duration": 68,
    "start_time": "2022-02-15T01:55:02.093Z"
   },
   {
    "duration": 35,
    "start_time": "2022-02-15T01:55:02.163Z"
   },
   {
    "duration": 33,
    "start_time": "2022-02-15T01:55:02.200Z"
   },
   {
    "duration": 54,
    "start_time": "2022-02-15T01:55:02.235Z"
   },
   {
    "duration": 49,
    "start_time": "2022-02-15T01:55:02.291Z"
   },
   {
    "duration": 37,
    "start_time": "2022-02-15T01:55:02.346Z"
   },
   {
    "duration": 33,
    "start_time": "2022-02-15T01:55:02.386Z"
   },
   {
    "duration": 21,
    "start_time": "2022-02-15T01:55:02.421Z"
   },
   {
    "duration": 158,
    "start_time": "2022-02-15T01:55:02.446Z"
   },
   {
    "duration": 12,
    "start_time": "2022-02-15T01:55:02.606Z"
   },
   {
    "duration": 102,
    "start_time": "2022-02-15T01:55:02.620Z"
   },
   {
    "duration": 66,
    "start_time": "2022-02-15T01:55:02.724Z"
   },
   {
    "duration": 259,
    "start_time": "2022-02-15T01:55:02.793Z"
   },
   {
    "duration": 170,
    "start_time": "2022-02-15T01:55:03.054Z"
   },
   {
    "duration": 81,
    "start_time": "2022-02-15T01:55:03.227Z"
   },
   {
    "duration": 5,
    "start_time": "2022-02-15T01:55:03.311Z"
   },
   {
    "duration": 32,
    "start_time": "2022-02-15T01:55:03.318Z"
   },
   {
    "duration": 8,
    "start_time": "2022-02-15T01:55:03.370Z"
   },
   {
    "duration": 373,
    "start_time": "2022-02-15T01:55:03.381Z"
   },
   {
    "duration": 53,
    "start_time": "2022-02-15T01:55:03.756Z"
   },
   {
    "duration": 5,
    "start_time": "2022-02-15T01:55:03.811Z"
   },
   {
    "duration": 6,
    "start_time": "2022-02-15T01:55:03.818Z"
   },
   {
    "duration": 46045,
    "start_time": "2022-02-15T01:55:03.827Z"
   },
   {
    "duration": 1013,
    "start_time": "2022-02-15T01:55:49.874Z"
   },
   {
    "duration": 481,
    "start_time": "2022-02-15T01:55:50.890Z"
   },
   {
    "duration": 9,
    "start_time": "2022-02-15T01:55:51.373Z"
   },
   {
    "duration": 4,
    "start_time": "2022-02-15T01:55:51.385Z"
   },
   {
    "duration": 165,
    "start_time": "2022-02-15T01:55:51.392Z"
   },
   {
    "duration": 1018,
    "start_time": "2022-02-15T01:55:51.560Z"
   },
   {
    "duration": 397,
    "start_time": "2022-02-15T01:55:52.580Z"
   },
   {
    "duration": 9,
    "start_time": "2022-02-15T01:55:52.979Z"
   },
   {
    "duration": 3478,
    "start_time": "2022-02-15T01:56:41.854Z"
   },
   {
    "duration": 6,
    "start_time": "2022-02-15T02:19:09.818Z"
   },
   {
    "duration": 1172,
    "start_time": "2022-02-15T02:19:09.830Z"
   },
   {
    "duration": 19,
    "start_time": "2022-02-15T02:19:11.005Z"
   },
   {
    "duration": 179,
    "start_time": "2022-02-15T02:19:11.028Z"
   },
   {
    "duration": 160,
    "start_time": "2022-02-15T02:19:11.210Z"
   },
   {
    "duration": 149,
    "start_time": "2022-02-15T02:19:11.373Z"
   },
   {
    "duration": 583,
    "start_time": "2022-02-15T02:19:11.525Z"
   },
   {
    "duration": 117,
    "start_time": "2022-02-15T02:19:12.110Z"
   },
   {
    "duration": 139,
    "start_time": "2022-02-15T02:19:12.230Z"
   },
   {
    "duration": 49,
    "start_time": "2022-02-15T02:19:12.373Z"
   },
   {
    "duration": 60,
    "start_time": "2022-02-15T02:19:12.426Z"
   },
   {
    "duration": 22,
    "start_time": "2022-02-15T02:19:12.488Z"
   },
   {
    "duration": 69,
    "start_time": "2022-02-15T02:19:12.513Z"
   },
   {
    "duration": 42,
    "start_time": "2022-02-15T02:19:12.584Z"
   },
   {
    "duration": 62,
    "start_time": "2022-02-15T02:19:12.629Z"
   },
   {
    "duration": 21,
    "start_time": "2022-02-15T02:19:12.693Z"
   },
   {
    "duration": 27,
    "start_time": "2022-02-15T02:19:12.717Z"
   },
   {
    "duration": 20,
    "start_time": "2022-02-15T02:19:12.770Z"
   },
   {
    "duration": 45,
    "start_time": "2022-02-15T02:19:12.792Z"
   },
   {
    "duration": 40,
    "start_time": "2022-02-15T02:19:12.839Z"
   },
   {
    "duration": 42,
    "start_time": "2022-02-15T02:19:12.882Z"
   },
   {
    "duration": 65,
    "start_time": "2022-02-15T02:19:12.926Z"
   },
   {
    "duration": 46,
    "start_time": "2022-02-15T02:19:12.993Z"
   },
   {
    "duration": 42,
    "start_time": "2022-02-15T02:19:13.041Z"
   },
   {
    "duration": 29,
    "start_time": "2022-02-15T02:19:13.086Z"
   },
   {
    "duration": 62,
    "start_time": "2022-02-15T02:19:13.117Z"
   },
   {
    "duration": 52,
    "start_time": "2022-02-15T02:19:13.181Z"
   },
   {
    "duration": 45,
    "start_time": "2022-02-15T02:19:13.240Z"
   },
   {
    "duration": 31,
    "start_time": "2022-02-15T02:19:13.289Z"
   },
   {
    "duration": 20,
    "start_time": "2022-02-15T02:19:13.323Z"
   },
   {
    "duration": 15,
    "start_time": "2022-02-15T02:19:13.370Z"
   },
   {
    "duration": 143,
    "start_time": "2022-02-15T02:19:13.387Z"
   },
   {
    "duration": 94,
    "start_time": "2022-02-15T02:19:13.533Z"
   },
   {
    "duration": 400,
    "start_time": "2022-02-15T02:19:13.630Z"
   },
   {
    "duration": 11,
    "start_time": "2022-02-15T02:19:14.032Z"
   },
   {
    "duration": 135,
    "start_time": "2022-02-15T02:19:14.045Z"
   },
   {
    "duration": 170,
    "start_time": "2022-02-15T02:19:14.182Z"
   },
   {
    "duration": 5,
    "start_time": "2022-02-15T02:19:14.354Z"
   },
   {
    "duration": 88,
    "start_time": "2022-02-15T02:19:14.361Z"
   },
   {
    "duration": 22,
    "start_time": "2022-02-15T02:19:14.470Z"
   },
   {
    "duration": 474,
    "start_time": "2022-02-15T02:19:14.495Z"
   },
   {
    "duration": 122,
    "start_time": "2022-02-15T02:19:14.971Z"
   },
   {
    "duration": 362,
    "start_time": "2022-02-15T02:19:15.096Z"
   },
   {
    "duration": 819,
    "start_time": "2022-02-15T02:19:14.642Z"
   },
   {
    "duration": 817,
    "start_time": "2022-02-15T02:19:14.647Z"
   },
   {
    "duration": 814,
    "start_time": "2022-02-15T02:19:14.652Z"
   },
   {
    "duration": 811,
    "start_time": "2022-02-15T02:19:14.657Z"
   },
   {
    "duration": 809,
    "start_time": "2022-02-15T02:19:14.661Z"
   },
   {
    "duration": 806,
    "start_time": "2022-02-15T02:19:14.666Z"
   },
   {
    "duration": 805,
    "start_time": "2022-02-15T02:19:14.670Z"
   },
   {
    "duration": 802,
    "start_time": "2022-02-15T02:19:14.675Z"
   },
   {
    "duration": 800,
    "start_time": "2022-02-15T02:19:14.679Z"
   },
   {
    "duration": 800,
    "start_time": "2022-02-15T02:19:14.683Z"
   },
   {
    "duration": 797,
    "start_time": "2022-02-15T02:19:14.688Z"
   },
   {
    "duration": 1187,
    "start_time": "2022-02-15T20:41:32.684Z"
   },
   {
    "duration": 758,
    "start_time": "2022-02-15T20:41:33.872Z"
   },
   {
    "duration": 16,
    "start_time": "2022-02-15T20:41:34.632Z"
   },
   {
    "duration": 127,
    "start_time": "2022-02-15T20:41:34.650Z"
   },
   {
    "duration": 118,
    "start_time": "2022-02-15T20:41:34.778Z"
   },
   {
    "duration": 113,
    "start_time": "2022-02-15T20:41:34.898Z"
   },
   {
    "duration": 424,
    "start_time": "2022-02-15T20:41:35.013Z"
   },
   {
    "duration": 75,
    "start_time": "2022-02-15T20:41:35.439Z"
   },
   {
    "duration": 100,
    "start_time": "2022-02-15T20:41:35.516Z"
   },
   {
    "duration": 48,
    "start_time": "2022-02-15T20:41:35.618Z"
   },
   {
    "duration": 33,
    "start_time": "2022-02-15T20:41:35.667Z"
   },
   {
    "duration": 40,
    "start_time": "2022-02-15T20:41:35.701Z"
   },
   {
    "duration": 30,
    "start_time": "2022-02-15T20:41:35.743Z"
   },
   {
    "duration": 32,
    "start_time": "2022-02-15T20:41:35.775Z"
   },
   {
    "duration": 52,
    "start_time": "2022-02-15T20:41:35.808Z"
   },
   {
    "duration": 16,
    "start_time": "2022-02-15T20:41:35.861Z"
   },
   {
    "duration": 19,
    "start_time": "2022-02-15T20:41:35.878Z"
   },
   {
    "duration": 34,
    "start_time": "2022-02-15T20:41:35.898Z"
   },
   {
    "duration": 33,
    "start_time": "2022-02-15T20:41:35.934Z"
   },
   {
    "duration": 19,
    "start_time": "2022-02-15T20:41:35.969Z"
   },
   {
    "duration": 49,
    "start_time": "2022-02-15T20:41:35.989Z"
   },
   {
    "duration": 34,
    "start_time": "2022-02-15T20:41:36.039Z"
   },
   {
    "duration": 33,
    "start_time": "2022-02-15T20:41:36.076Z"
   },
   {
    "duration": 34,
    "start_time": "2022-02-15T20:41:36.111Z"
   },
   {
    "duration": 35,
    "start_time": "2022-02-15T20:41:36.148Z"
   },
   {
    "duration": 52,
    "start_time": "2022-02-15T20:41:36.186Z"
   },
   {
    "duration": 31,
    "start_time": "2022-02-15T20:41:36.240Z"
   },
   {
    "duration": 17,
    "start_time": "2022-02-15T20:41:36.273Z"
   },
   {
    "duration": 44,
    "start_time": "2022-02-15T20:41:36.292Z"
   },
   {
    "duration": 16,
    "start_time": "2022-02-15T20:41:36.338Z"
   },
   {
    "duration": 12,
    "start_time": "2022-02-15T20:41:36.356Z"
   },
   {
    "duration": 88,
    "start_time": "2022-02-15T20:41:36.370Z"
   },
   {
    "duration": 55,
    "start_time": "2022-02-15T20:41:36.460Z"
   },
   {
    "duration": 160,
    "start_time": "2022-02-15T20:41:36.517Z"
   },
   {
    "duration": 8,
    "start_time": "2022-02-15T20:41:36.679Z"
   },
   {
    "duration": 107,
    "start_time": "2022-02-15T20:41:36.689Z"
   },
   {
    "duration": 121,
    "start_time": "2022-02-15T20:41:36.797Z"
   },
   {
    "duration": 10,
    "start_time": "2022-02-15T20:41:36.920Z"
   },
   {
    "duration": 62,
    "start_time": "2022-02-15T20:41:36.931Z"
   },
   {
    "duration": 12,
    "start_time": "2022-02-15T20:41:36.994Z"
   },
   {
    "duration": 454,
    "start_time": "2022-02-15T20:41:37.008Z"
   },
   {
    "duration": 66,
    "start_time": "2022-02-15T20:41:37.464Z"
   },
   {
    "duration": 287,
    "start_time": "2022-02-15T20:41:37.532Z"
   },
   {
    "duration": 184,
    "start_time": "2022-02-15T20:42:07.935Z"
   },
   {
    "duration": 16,
    "start_time": "2022-02-15T20:42:55.242Z"
   },
   {
    "duration": 409,
    "start_time": "2022-02-15T20:46:48.050Z"
   },
   {
    "duration": 14,
    "start_time": "2022-02-15T20:46:51.972Z"
   },
   {
    "duration": 409,
    "start_time": "2022-02-15T20:46:54.260Z"
   },
   {
    "duration": 170,
    "start_time": "2022-02-15T20:59:53.144Z"
   },
   {
    "duration": 197,
    "start_time": "2022-02-15T21:00:03.651Z"
   },
   {
    "duration": 5,
    "start_time": "2022-02-15T21:00:11.161Z"
   },
   {
    "duration": 781,
    "start_time": "2022-02-15T21:00:11.168Z"
   },
   {
    "duration": 14,
    "start_time": "2022-02-15T21:00:11.951Z"
   },
   {
    "duration": 139,
    "start_time": "2022-02-15T21:00:11.967Z"
   },
   {
    "duration": 135,
    "start_time": "2022-02-15T21:00:12.108Z"
   },
   {
    "duration": 216,
    "start_time": "2022-02-15T21:00:12.245Z"
   },
   {
    "duration": 654,
    "start_time": "2022-02-15T21:00:12.464Z"
   },
   {
    "duration": 90,
    "start_time": "2022-02-15T21:00:13.120Z"
   },
   {
    "duration": 133,
    "start_time": "2022-02-15T21:00:13.212Z"
   },
   {
    "duration": 36,
    "start_time": "2022-02-15T21:00:13.347Z"
   },
   {
    "duration": 49,
    "start_time": "2022-02-15T21:00:13.385Z"
   },
   {
    "duration": 42,
    "start_time": "2022-02-15T21:00:13.437Z"
   },
   {
    "duration": 63,
    "start_time": "2022-02-15T21:00:13.481Z"
   },
   {
    "duration": 33,
    "start_time": "2022-02-15T21:00:13.546Z"
   },
   {
    "duration": 33,
    "start_time": "2022-02-15T21:00:13.581Z"
   },
   {
    "duration": 41,
    "start_time": "2022-02-15T21:00:13.615Z"
   },
   {
    "duration": 20,
    "start_time": "2022-02-15T21:00:13.658Z"
   },
   {
    "duration": 16,
    "start_time": "2022-02-15T21:00:13.680Z"
   },
   {
    "duration": 65,
    "start_time": "2022-02-15T21:00:13.699Z"
   },
   {
    "duration": 20,
    "start_time": "2022-02-15T21:00:13.767Z"
   },
   {
    "duration": 55,
    "start_time": "2022-02-15T21:00:13.789Z"
   },
   {
    "duration": 33,
    "start_time": "2022-02-15T21:00:13.847Z"
   },
   {
    "duration": 34,
    "start_time": "2022-02-15T21:00:13.881Z"
   },
   {
    "duration": 21,
    "start_time": "2022-02-15T21:00:13.931Z"
   },
   {
    "duration": 21,
    "start_time": "2022-02-15T21:00:13.954Z"
   },
   {
    "duration": 33,
    "start_time": "2022-02-15T21:00:13.976Z"
   },
   {
    "duration": 60,
    "start_time": "2022-02-15T21:00:14.011Z"
   },
   {
    "duration": 26,
    "start_time": "2022-02-15T21:00:14.072Z"
   },
   {
    "duration": 22,
    "start_time": "2022-02-15T21:00:14.100Z"
   },
   {
    "duration": 20,
    "start_time": "2022-02-15T21:00:14.123Z"
   },
   {
    "duration": 19,
    "start_time": "2022-02-15T21:00:14.146Z"
   },
   {
    "duration": 86,
    "start_time": "2022-02-15T21:00:14.167Z"
   },
   {
    "duration": 55,
    "start_time": "2022-02-15T21:00:14.255Z"
   },
   {
    "duration": 175,
    "start_time": "2022-02-15T21:00:14.311Z"
   },
   {
    "duration": 7,
    "start_time": "2022-02-15T21:00:14.488Z"
   },
   {
    "duration": 106,
    "start_time": "2022-02-15T21:00:14.497Z"
   },
   {
    "duration": 116,
    "start_time": "2022-02-15T21:00:14.605Z"
   },
   {
    "duration": 7,
    "start_time": "2022-02-15T21:00:14.723Z"
   },
   {
    "duration": 71,
    "start_time": "2022-02-15T21:00:14.732Z"
   },
   {
    "duration": 25,
    "start_time": "2022-02-15T21:00:14.805Z"
   },
   {
    "duration": 571,
    "start_time": "2022-02-15T21:00:14.834Z"
   },
   {
    "duration": 88,
    "start_time": "2022-02-15T21:00:15.408Z"
   },
   {
    "duration": 22,
    "start_time": "2022-02-15T21:00:15.498Z"
   },
   {
    "duration": 12,
    "start_time": "2022-02-15T21:00:15.522Z"
   },
   {
    "duration": 12,
    "start_time": "2022-02-15T21:00:15.536Z"
   },
   {
    "duration": 3,
    "start_time": "2022-02-15T21:00:19.377Z"
   },
   {
    "duration": 245,
    "start_time": "2022-02-15T21:00:20.711Z"
   },
   {
    "duration": 197,
    "start_time": "2022-02-15T21:00:58.985Z"
   },
   {
    "duration": 72,
    "start_time": "2022-02-15T21:01:07.643Z"
   },
   {
    "duration": 73,
    "start_time": "2022-02-15T21:01:20.895Z"
   },
   {
    "duration": 4440,
    "start_time": "2022-02-15T21:02:11.070Z"
   },
   {
    "duration": 79,
    "start_time": "2022-02-15T21:02:26.852Z"
   },
   {
    "duration": 173,
    "start_time": "2022-02-15T21:03:06.780Z"
   },
   {
    "duration": 31,
    "start_time": "2022-02-15T21:05:24.370Z"
   },
   {
    "duration": 69,
    "start_time": "2022-02-15T21:05:28.759Z"
   },
   {
    "duration": 31,
    "start_time": "2022-02-15T21:05:30.710Z"
   },
   {
    "duration": 4,
    "start_time": "2022-02-15T21:06:13.011Z"
   },
   {
    "duration": 719,
    "start_time": "2022-02-15T21:06:13.017Z"
   },
   {
    "duration": 14,
    "start_time": "2022-02-15T21:06:13.737Z"
   },
   {
    "duration": 122,
    "start_time": "2022-02-15T21:06:13.753Z"
   },
   {
    "duration": 118,
    "start_time": "2022-02-15T21:06:13.877Z"
   },
   {
    "duration": 108,
    "start_time": "2022-02-15T21:06:13.996Z"
   },
   {
    "duration": 350,
    "start_time": "2022-02-15T21:06:14.105Z"
   },
   {
    "duration": 84,
    "start_time": "2022-02-15T21:06:14.456Z"
   },
   {
    "duration": 93,
    "start_time": "2022-02-15T21:06:14.542Z"
   },
   {
    "duration": 47,
    "start_time": "2022-02-15T21:06:14.638Z"
   },
   {
    "duration": 67,
    "start_time": "2022-02-15T21:06:14.687Z"
   },
   {
    "duration": 22,
    "start_time": "2022-02-15T21:06:14.756Z"
   },
   {
    "duration": 54,
    "start_time": "2022-02-15T21:06:14.780Z"
   },
   {
    "duration": 45,
    "start_time": "2022-02-15T21:06:14.836Z"
   },
   {
    "duration": 36,
    "start_time": "2022-02-15T21:06:14.882Z"
   },
   {
    "duration": 24,
    "start_time": "2022-02-15T21:06:14.930Z"
   },
   {
    "duration": 35,
    "start_time": "2022-02-15T21:06:14.956Z"
   },
   {
    "duration": 40,
    "start_time": "2022-02-15T21:06:14.994Z"
   },
   {
    "duration": 39,
    "start_time": "2022-02-15T21:06:15.036Z"
   },
   {
    "duration": 21,
    "start_time": "2022-02-15T21:06:15.076Z"
   },
   {
    "duration": 50,
    "start_time": "2022-02-15T21:06:15.098Z"
   },
   {
    "duration": 32,
    "start_time": "2022-02-15T21:06:15.149Z"
   },
   {
    "duration": 48,
    "start_time": "2022-02-15T21:06:15.183Z"
   },
   {
    "duration": 15,
    "start_time": "2022-02-15T21:06:15.234Z"
   },
   {
    "duration": 20,
    "start_time": "2022-02-15T21:06:15.251Z"
   },
   {
    "duration": 32,
    "start_time": "2022-02-15T21:06:15.273Z"
   },
   {
    "duration": 49,
    "start_time": "2022-02-15T21:06:15.306Z"
   },
   {
    "duration": 22,
    "start_time": "2022-02-15T21:06:15.356Z"
   },
   {
    "duration": 23,
    "start_time": "2022-02-15T21:06:15.380Z"
   },
   {
    "duration": 27,
    "start_time": "2022-02-15T21:06:15.404Z"
   },
   {
    "duration": 8,
    "start_time": "2022-02-15T21:06:15.433Z"
   },
   {
    "duration": 64,
    "start_time": "2022-02-15T21:06:15.442Z"
   },
   {
    "duration": 57,
    "start_time": "2022-02-15T21:06:15.508Z"
   },
   {
    "duration": 149,
    "start_time": "2022-02-15T21:06:15.567Z"
   },
   {
    "duration": 15,
    "start_time": "2022-02-15T21:06:15.717Z"
   },
   {
    "duration": 82,
    "start_time": "2022-02-15T21:06:15.734Z"
   },
   {
    "duration": 104,
    "start_time": "2022-02-15T21:06:15.817Z"
   },
   {
    "duration": 8,
    "start_time": "2022-02-15T21:06:15.923Z"
   },
   {
    "duration": 63,
    "start_time": "2022-02-15T21:06:15.932Z"
   },
   {
    "duration": 13,
    "start_time": "2022-02-15T21:06:15.996Z"
   },
   {
    "duration": 424,
    "start_time": "2022-02-15T21:06:16.010Z"
   },
   {
    "duration": 49,
    "start_time": "2022-02-15T21:06:16.436Z"
   },
   {
    "duration": 15,
    "start_time": "2022-02-15T21:06:16.487Z"
   },
   {
    "duration": 3,
    "start_time": "2022-02-15T21:06:16.504Z"
   },
   {
    "duration": 23,
    "start_time": "2022-02-15T21:06:16.508Z"
   },
   {
    "duration": 67,
    "start_time": "2022-02-15T21:06:16.533Z"
   },
   {
    "duration": 38,
    "start_time": "2022-02-15T21:06:16.601Z"
   },
   {
    "duration": 38892,
    "start_time": "2022-02-15T21:06:16.640Z"
   },
   {
    "duration": 801,
    "start_time": "2022-02-15T21:06:55.533Z"
   },
   {
    "duration": 295,
    "start_time": "2022-02-15T21:06:56.336Z"
   },
   {
    "duration": 7,
    "start_time": "2022-02-15T21:06:56.633Z"
   },
   {
    "duration": 243,
    "start_time": "2022-02-15T21:09:00.438Z"
   },
   {
    "duration": 77,
    "start_time": "2022-02-15T21:09:03.703Z"
   },
   {
    "duration": 35,
    "start_time": "2022-02-15T21:09:24.696Z"
   },
   {
    "duration": 4,
    "start_time": "2022-02-16T00:21:15.925Z"
   },
   {
    "duration": 876,
    "start_time": "2022-02-16T00:21:15.931Z"
   },
   {
    "duration": 13,
    "start_time": "2022-02-16T00:21:16.809Z"
   },
   {
    "duration": 130,
    "start_time": "2022-02-16T00:21:16.831Z"
   },
   {
    "duration": 123,
    "start_time": "2022-02-16T00:21:16.963Z"
   },
   {
    "duration": 122,
    "start_time": "2022-02-16T00:21:17.088Z"
   },
   {
    "duration": 369,
    "start_time": "2022-02-16T00:21:17.213Z"
   },
   {
    "duration": 91,
    "start_time": "2022-02-16T00:21:17.584Z"
   },
   {
    "duration": 97,
    "start_time": "2022-02-16T00:21:17.677Z"
   },
   {
    "duration": 34,
    "start_time": "2022-02-16T00:21:17.775Z"
   },
   {
    "duration": 48,
    "start_time": "2022-02-16T00:21:17.811Z"
   },
   {
    "duration": 18,
    "start_time": "2022-02-16T00:21:17.860Z"
   },
   {
    "duration": 36,
    "start_time": "2022-02-16T00:21:17.879Z"
   },
   {
    "duration": 31,
    "start_time": "2022-02-16T00:21:17.930Z"
   },
   {
    "duration": 36,
    "start_time": "2022-02-16T00:21:17.962Z"
   },
   {
    "duration": 32,
    "start_time": "2022-02-16T00:21:18.000Z"
   },
   {
    "duration": 18,
    "start_time": "2022-02-16T00:21:18.033Z"
   },
   {
    "duration": 18,
    "start_time": "2022-02-16T00:21:18.053Z"
   },
   {
    "duration": 57,
    "start_time": "2022-02-16T00:21:18.074Z"
   },
   {
    "duration": 16,
    "start_time": "2022-02-16T00:21:18.133Z"
   },
   {
    "duration": 35,
    "start_time": "2022-02-16T00:21:18.150Z"
   },
   {
    "duration": 48,
    "start_time": "2022-02-16T00:21:18.186Z"
   },
   {
    "duration": 35,
    "start_time": "2022-02-16T00:21:18.236Z"
   },
   {
    "duration": 19,
    "start_time": "2022-02-16T00:21:18.272Z"
   },
   {
    "duration": 40,
    "start_time": "2022-02-16T00:21:18.293Z"
   },
   {
    "duration": 32,
    "start_time": "2022-02-16T00:21:18.335Z"
   },
   {
    "duration": 36,
    "start_time": "2022-02-16T00:21:18.369Z"
   },
   {
    "duration": 35,
    "start_time": "2022-02-16T00:21:18.407Z"
   },
   {
    "duration": 20,
    "start_time": "2022-02-16T00:21:18.444Z"
   },
   {
    "duration": 21,
    "start_time": "2022-02-16T00:21:18.466Z"
   },
   {
    "duration": 14,
    "start_time": "2022-02-16T00:21:18.489Z"
   },
   {
    "duration": 80,
    "start_time": "2022-02-16T00:21:18.505Z"
   },
   {
    "duration": 54,
    "start_time": "2022-02-16T00:21:18.587Z"
   },
   {
    "duration": 217,
    "start_time": "2022-02-16T00:21:18.643Z"
   },
   {
    "duration": 6,
    "start_time": "2022-02-16T00:21:18.862Z"
   },
   {
    "duration": 93,
    "start_time": "2022-02-16T00:21:18.870Z"
   },
   {
    "duration": 101,
    "start_time": "2022-02-16T00:21:18.965Z"
   },
   {
    "duration": 4,
    "start_time": "2022-02-16T00:21:19.068Z"
   },
   {
    "duration": 73,
    "start_time": "2022-02-16T00:21:19.074Z"
   },
   {
    "duration": 13,
    "start_time": "2022-02-16T00:21:19.149Z"
   },
   {
    "duration": 66,
    "start_time": "2022-02-16T00:21:19.164Z"
   },
   {
    "duration": 24,
    "start_time": "2022-02-16T00:21:19.232Z"
   },
   {
    "duration": 3,
    "start_time": "2022-02-16T00:21:19.258Z"
   },
   {
    "duration": 207,
    "start_time": "2022-02-16T00:21:19.263Z"
   },
   {
    "duration": -391,
    "start_time": "2022-02-16T00:21:19.862Z"
   },
   {
    "duration": -412,
    "start_time": "2022-02-16T00:21:19.884Z"
   },
   {
    "duration": -422,
    "start_time": "2022-02-16T00:21:19.895Z"
   },
   {
    "duration": -429,
    "start_time": "2022-02-16T00:21:19.903Z"
   },
   {
    "duration": -437,
    "start_time": "2022-02-16T00:21:19.912Z"
   },
   {
    "duration": -443,
    "start_time": "2022-02-16T00:21:19.919Z"
   },
   {
    "duration": -451,
    "start_time": "2022-02-16T00:21:19.928Z"
   },
   {
    "duration": -458,
    "start_time": "2022-02-16T00:21:19.936Z"
   },
   {
    "duration": -466,
    "start_time": "2022-02-16T00:21:19.945Z"
   },
   {
    "duration": -472,
    "start_time": "2022-02-16T00:21:19.952Z"
   },
   {
    "duration": -480,
    "start_time": "2022-02-16T00:21:19.961Z"
   },
   {
    "duration": -485,
    "start_time": "2022-02-16T00:21:19.967Z"
   },
   {
    "duration": 423,
    "start_time": "2022-02-16T00:22:23.850Z"
   },
   {
    "duration": 4,
    "start_time": "2022-02-16T00:22:38.535Z"
   },
   {
    "duration": 719,
    "start_time": "2022-02-16T00:22:38.541Z"
   },
   {
    "duration": 12,
    "start_time": "2022-02-16T00:22:39.262Z"
   },
   {
    "duration": 127,
    "start_time": "2022-02-16T00:22:39.276Z"
   },
   {
    "duration": 115,
    "start_time": "2022-02-16T00:22:39.404Z"
   },
   {
    "duration": 114,
    "start_time": "2022-02-16T00:22:39.521Z"
   },
   {
    "duration": 359,
    "start_time": "2022-02-16T00:22:39.637Z"
   },
   {
    "duration": 87,
    "start_time": "2022-02-16T00:22:39.998Z"
   },
   {
    "duration": 98,
    "start_time": "2022-02-16T00:22:40.087Z"
   },
   {
    "duration": 44,
    "start_time": "2022-02-16T00:22:40.187Z"
   },
   {
    "duration": 31,
    "start_time": "2022-02-16T00:22:40.232Z"
   },
   {
    "duration": 18,
    "start_time": "2022-02-16T00:22:40.265Z"
   },
   {
    "duration": 47,
    "start_time": "2022-02-16T00:22:40.284Z"
   },
   {
    "duration": 31,
    "start_time": "2022-02-16T00:22:40.332Z"
   },
   {
    "duration": 35,
    "start_time": "2022-02-16T00:22:40.365Z"
   },
   {
    "duration": 16,
    "start_time": "2022-02-16T00:22:40.402Z"
   },
   {
    "duration": 18,
    "start_time": "2022-02-16T00:22:40.430Z"
   },
   {
    "duration": 14,
    "start_time": "2022-02-16T00:22:40.450Z"
   },
   {
    "duration": 33,
    "start_time": "2022-02-16T00:22:40.468Z"
   },
   {
    "duration": 34,
    "start_time": "2022-02-16T00:22:40.504Z"
   },
   {
    "duration": 33,
    "start_time": "2022-02-16T00:22:40.540Z"
   },
   {
    "duration": 32,
    "start_time": "2022-02-16T00:22:40.575Z"
   },
   {
    "duration": 49,
    "start_time": "2022-02-16T00:22:40.608Z"
   },
   {
    "duration": 17,
    "start_time": "2022-02-16T00:22:40.659Z"
   },
   {
    "duration": 20,
    "start_time": "2022-02-16T00:22:40.677Z"
   },
   {
    "duration": 40,
    "start_time": "2022-02-16T00:22:40.699Z"
   },
   {
    "duration": 32,
    "start_time": "2022-02-16T00:22:40.741Z"
   },
   {
    "duration": 16,
    "start_time": "2022-02-16T00:22:40.775Z"
   },
   {
    "duration": 38,
    "start_time": "2022-02-16T00:22:40.792Z"
   },
   {
    "duration": 15,
    "start_time": "2022-02-16T00:22:40.832Z"
   },
   {
    "duration": 13,
    "start_time": "2022-02-16T00:22:40.848Z"
   },
   {
    "duration": 78,
    "start_time": "2022-02-16T00:22:40.862Z"
   },
   {
    "duration": 44,
    "start_time": "2022-02-16T00:22:40.942Z"
   },
   {
    "duration": 155,
    "start_time": "2022-02-16T00:22:40.987Z"
   },
   {
    "duration": 6,
    "start_time": "2022-02-16T00:22:41.144Z"
   },
   {
    "duration": 97,
    "start_time": "2022-02-16T00:22:41.152Z"
   },
   {
    "duration": 98,
    "start_time": "2022-02-16T00:22:41.251Z"
   },
   {
    "duration": 3,
    "start_time": "2022-02-16T00:22:41.351Z"
   },
   {
    "duration": 63,
    "start_time": "2022-02-16T00:22:41.356Z"
   },
   {
    "duration": 13,
    "start_time": "2022-02-16T00:22:41.430Z"
   },
   {
    "duration": 49,
    "start_time": "2022-02-16T00:22:41.445Z"
   },
   {
    "duration": 38,
    "start_time": "2022-02-16T00:22:41.496Z"
   },
   {
    "duration": 3,
    "start_time": "2022-02-16T00:22:41.536Z"
   },
   {
    "duration": 380,
    "start_time": "2022-02-16T00:22:41.540Z"
   },
   {
    "duration": 8,
    "start_time": "2022-02-16T00:22:41.922Z"
   },
   {
    "duration": 189,
    "start_time": "2022-02-16T00:22:41.931Z"
   },
   {
    "duration": -338,
    "start_time": "2022-02-16T00:22:42.460Z"
   },
   {
    "duration": -342,
    "start_time": "2022-02-16T00:22:42.465Z"
   },
   {
    "duration": -378,
    "start_time": "2022-02-16T00:22:42.502Z"
   },
   {
    "duration": -392,
    "start_time": "2022-02-16T00:22:42.517Z"
   },
   {
    "duration": -398,
    "start_time": "2022-02-16T00:22:42.523Z"
   },
   {
    "duration": -402,
    "start_time": "2022-02-16T00:22:42.528Z"
   },
   {
    "duration": -408,
    "start_time": "2022-02-16T00:22:42.535Z"
   },
   {
    "duration": -412,
    "start_time": "2022-02-16T00:22:42.540Z"
   },
   {
    "duration": -418,
    "start_time": "2022-02-16T00:22:42.547Z"
   },
   {
    "duration": -422,
    "start_time": "2022-02-16T00:22:42.552Z"
   },
   {
    "duration": 185,
    "start_time": "2022-02-16T00:23:26.436Z"
   },
   {
    "duration": 25,
    "start_time": "2022-02-16T00:24:44.330Z"
   },
   {
    "duration": 7,
    "start_time": "2022-02-16T00:24:47.493Z"
   },
   {
    "duration": 8,
    "start_time": "2022-02-16T00:25:12.751Z"
   },
   {
    "duration": 67,
    "start_time": "2022-02-16T00:26:48.299Z"
   },
   {
    "duration": 198,
    "start_time": "2022-02-16T00:26:59.540Z"
   },
   {
    "duration": 57,
    "start_time": "2022-02-16T00:30:57.274Z"
   },
   {
    "duration": 6235,
    "start_time": "2022-02-16T00:31:04.581Z"
   },
   {
    "duration": 68,
    "start_time": "2022-02-16T00:31:28.256Z"
   },
   {
    "duration": 76,
    "start_time": "2022-02-16T00:31:31.843Z"
   },
   {
    "duration": 109,
    "start_time": "2022-02-16T00:31:48.262Z"
   },
   {
    "duration": 84,
    "start_time": "2022-02-16T00:32:12.246Z"
   },
   {
    "duration": 106,
    "start_time": "2022-02-16T00:34:24.935Z"
   },
   {
    "duration": 104,
    "start_time": "2022-02-16T00:34:32.992Z"
   },
   {
    "duration": 48,
    "start_time": "2022-02-16T00:34:53.734Z"
   },
   {
    "duration": 183,
    "start_time": "2022-02-16T00:35:02.707Z"
   },
   {
    "duration": 169,
    "start_time": "2022-02-16T00:35:16.735Z"
   },
   {
    "duration": 4,
    "start_time": "2022-02-16T00:35:23.554Z"
   },
   {
    "duration": 694,
    "start_time": "2022-02-16T00:35:23.565Z"
   },
   {
    "duration": 12,
    "start_time": "2022-02-16T00:35:24.261Z"
   },
   {
    "duration": 123,
    "start_time": "2022-02-16T00:35:24.275Z"
   },
   {
    "duration": 114,
    "start_time": "2022-02-16T00:35:24.400Z"
   },
   {
    "duration": 105,
    "start_time": "2022-02-16T00:35:24.516Z"
   },
   {
    "duration": 349,
    "start_time": "2022-02-16T00:35:24.623Z"
   },
   {
    "duration": 92,
    "start_time": "2022-02-16T00:35:24.974Z"
   },
   {
    "duration": 101,
    "start_time": "2022-02-16T00:35:25.067Z"
   },
   {
    "duration": 36,
    "start_time": "2022-02-16T00:35:25.171Z"
   },
   {
    "duration": 33,
    "start_time": "2022-02-16T00:35:25.229Z"
   },
   {
    "duration": 16,
    "start_time": "2022-02-16T00:35:25.263Z"
   },
   {
    "duration": 49,
    "start_time": "2022-02-16T00:35:25.281Z"
   },
   {
    "duration": 31,
    "start_time": "2022-02-16T00:35:25.332Z"
   },
   {
    "duration": 34,
    "start_time": "2022-02-16T00:35:25.365Z"
   },
   {
    "duration": 30,
    "start_time": "2022-02-16T00:35:25.401Z"
   },
   {
    "duration": 18,
    "start_time": "2022-02-16T00:35:25.433Z"
   },
   {
    "duration": 15,
    "start_time": "2022-02-16T00:35:25.453Z"
   },
   {
    "duration": 34,
    "start_time": "2022-02-16T00:35:25.469Z"
   },
   {
    "duration": 35,
    "start_time": "2022-02-16T00:35:25.505Z"
   },
   {
    "duration": 31,
    "start_time": "2022-02-16T00:35:25.542Z"
   },
   {
    "duration": 33,
    "start_time": "2022-02-16T00:35:25.575Z"
   },
   {
    "duration": 49,
    "start_time": "2022-02-16T00:35:25.610Z"
   },
   {
    "duration": 17,
    "start_time": "2022-02-16T00:35:25.661Z"
   },
   {
    "duration": 26,
    "start_time": "2022-02-16T00:35:25.680Z"
   },
   {
    "duration": 46,
    "start_time": "2022-02-16T00:35:25.708Z"
   },
   {
    "duration": 32,
    "start_time": "2022-02-16T00:35:25.756Z"
   },
   {
    "duration": 40,
    "start_time": "2022-02-16T00:35:25.791Z"
   },
   {
    "duration": 20,
    "start_time": "2022-02-16T00:35:25.833Z"
   },
   {
    "duration": 15,
    "start_time": "2022-02-16T00:35:25.854Z"
   },
   {
    "duration": 9,
    "start_time": "2022-02-16T00:35:25.871Z"
   },
   {
    "duration": 84,
    "start_time": "2022-02-16T00:35:25.882Z"
   },
   {
    "duration": 44,
    "start_time": "2022-02-16T00:35:25.967Z"
   },
   {
    "duration": 150,
    "start_time": "2022-02-16T00:35:26.013Z"
   },
   {
    "duration": 7,
    "start_time": "2022-02-16T00:35:26.165Z"
   },
   {
    "duration": 92,
    "start_time": "2022-02-16T00:35:26.173Z"
   },
   {
    "duration": 106,
    "start_time": "2022-02-16T00:35:26.266Z"
   },
   {
    "duration": 4,
    "start_time": "2022-02-16T00:35:26.373Z"
   },
   {
    "duration": 68,
    "start_time": "2022-02-16T00:35:26.379Z"
   },
   {
    "duration": 13,
    "start_time": "2022-02-16T00:35:26.449Z"
   },
   {
    "duration": 99,
    "start_time": "2022-02-16T00:35:26.464Z"
   },
   {
    "duration": 104,
    "start_time": "2022-02-16T00:35:26.565Z"
   },
   {
    "duration": 386,
    "start_time": "2022-02-16T00:35:49.611Z"
   },
   {
    "duration": 5,
    "start_time": "2022-02-16T00:38:37.178Z"
   },
   {
    "duration": 752,
    "start_time": "2022-02-16T00:38:37.184Z"
   },
   {
    "duration": 12,
    "start_time": "2022-02-16T00:38:37.938Z"
   },
   {
    "duration": 121,
    "start_time": "2022-02-16T00:38:37.951Z"
   },
   {
    "duration": 118,
    "start_time": "2022-02-16T00:38:38.074Z"
   },
   {
    "duration": 114,
    "start_time": "2022-02-16T00:38:38.193Z"
   },
   {
    "duration": 365,
    "start_time": "2022-02-16T00:38:38.310Z"
   },
   {
    "duration": 83,
    "start_time": "2022-02-16T00:38:38.676Z"
   },
   {
    "duration": 105,
    "start_time": "2022-02-16T00:38:38.761Z"
   },
   {
    "duration": 36,
    "start_time": "2022-02-16T00:38:38.867Z"
   },
   {
    "duration": 48,
    "start_time": "2022-02-16T00:38:38.905Z"
   },
   {
    "duration": 16,
    "start_time": "2022-02-16T00:38:38.956Z"
   },
   {
    "duration": 32,
    "start_time": "2022-02-16T00:38:38.974Z"
   },
   {
    "duration": 31,
    "start_time": "2022-02-16T00:38:39.031Z"
   },
   {
    "duration": 37,
    "start_time": "2022-02-16T00:38:39.064Z"
   },
   {
    "duration": 30,
    "start_time": "2022-02-16T00:38:39.103Z"
   },
   {
    "duration": 21,
    "start_time": "2022-02-16T00:38:39.135Z"
   },
   {
    "duration": 17,
    "start_time": "2022-02-16T00:38:39.157Z"
   },
   {
    "duration": 55,
    "start_time": "2022-02-16T00:38:39.178Z"
   },
   {
    "duration": 16,
    "start_time": "2022-02-16T00:38:39.236Z"
   },
   {
    "duration": 33,
    "start_time": "2022-02-16T00:38:39.254Z"
   },
   {
    "duration": 62,
    "start_time": "2022-02-16T00:38:39.289Z"
   },
   {
    "duration": 35,
    "start_time": "2022-02-16T00:38:39.353Z"
   },
   {
    "duration": 19,
    "start_time": "2022-02-16T00:38:39.390Z"
   },
   {
    "duration": 37,
    "start_time": "2022-02-16T00:38:39.411Z"
   },
   {
    "duration": 33,
    "start_time": "2022-02-16T00:38:39.449Z"
   },
   {
    "duration": 47,
    "start_time": "2022-02-16T00:38:39.483Z"
   },
   {
    "duration": 15,
    "start_time": "2022-02-16T00:38:39.531Z"
   },
   {
    "duration": 25,
    "start_time": "2022-02-16T00:38:39.548Z"
   },
   {
    "duration": 15,
    "start_time": "2022-02-16T00:38:39.574Z"
   },
   {
    "duration": 12,
    "start_time": "2022-02-16T00:38:39.590Z"
   },
   {
    "duration": 85,
    "start_time": "2022-02-16T00:38:39.604Z"
   },
   {
    "duration": 62,
    "start_time": "2022-02-16T00:38:39.691Z"
   },
   {
    "duration": 150,
    "start_time": "2022-02-16T00:38:39.755Z"
   },
   {
    "duration": 8,
    "start_time": "2022-02-16T00:38:39.907Z"
   },
   {
    "duration": 85,
    "start_time": "2022-02-16T00:38:39.916Z"
   },
   {
    "duration": 113,
    "start_time": "2022-02-16T00:38:40.003Z"
   },
   {
    "duration": 4,
    "start_time": "2022-02-16T00:38:40.118Z"
   },
   {
    "duration": 67,
    "start_time": "2022-02-16T00:38:40.123Z"
   },
   {
    "duration": 14,
    "start_time": "2022-02-16T00:38:40.191Z"
   },
   {
    "duration": 104,
    "start_time": "2022-02-16T00:38:40.207Z"
   },
   {
    "duration": 121,
    "start_time": "2022-02-16T00:38:40.313Z"
   },
   {
    "duration": 7,
    "start_time": "2022-02-16T00:38:40.436Z"
   },
   {
    "duration": 7,
    "start_time": "2022-02-16T00:38:40.445Z"
   },
   {
    "duration": 396,
    "start_time": "2022-02-16T00:38:40.454Z"
   },
   {
    "duration": 4,
    "start_time": "2022-02-16T00:38:40.851Z"
   },
   {
    "duration": 88,
    "start_time": "2022-02-16T00:38:40.857Z"
   },
   {
    "duration": 36,
    "start_time": "2022-02-16T00:38:40.947Z"
   },
   {
    "duration": 39245,
    "start_time": "2022-02-16T00:38:40.985Z"
   },
   {
    "duration": 602,
    "start_time": "2022-02-16T00:39:20.232Z"
   },
   {
    "duration": 203,
    "start_time": "2022-02-16T00:39:20.836Z"
   },
   {
    "duration": 7,
    "start_time": "2022-02-16T00:39:21.041Z"
   },
   {
    "duration": 3,
    "start_time": "2022-02-16T00:39:21.049Z"
   },
   {
    "duration": 215,
    "start_time": "2022-02-16T00:43:11.733Z"
   }
  ],
  "kernelspec": {
   "display_name": "Python 3 (ipykernel)",
   "language": "python",
   "name": "python3"
  },
  "language_info": {
   "codemirror_mode": {
    "name": "ipython",
    "version": 3
   },
   "file_extension": ".py",
   "mimetype": "text/x-python",
   "name": "python",
   "nbconvert_exporter": "python",
   "pygments_lexer": "ipython3",
   "version": "3.9.5"
  },
  "toc": {
   "base_numbering": 1,
   "nav_menu": {},
   "number_sections": true,
   "sideBar": true,
   "skip_h1_title": true,
   "title_cell": "Содержание",
   "title_sidebar": "Содержание",
   "toc_cell": true,
   "toc_position": {
    "height": "calc(100% - 180px)",
    "left": "10px",
    "top": "150px",
    "width": "366.38px"
   },
   "toc_section_display": true,
   "toc_window_display": true
  }
 },
 "nbformat": 4,
 "nbformat_minor": 2
}
