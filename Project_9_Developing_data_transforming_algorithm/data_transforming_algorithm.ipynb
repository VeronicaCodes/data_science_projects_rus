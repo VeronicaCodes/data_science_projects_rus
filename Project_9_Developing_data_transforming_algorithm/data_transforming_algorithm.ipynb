{
 "cells": [
  {
   "cell_type": "markdown",
   "metadata": {
    "toc": true
   },
   "source": [
    "<h1>Содержание<span class=\"tocSkip\"></span></h1>\n",
    "<div class=\"toc\"><ul class=\"toc-item\"><li><span><a href=\"#Загрузка-данных\" data-toc-modified-id=\"Загрузка-данных-1\"><span class=\"toc-item-num\">1&nbsp;&nbsp;</span>Загрузка данных</a></span></li><li><span><a href=\"#Умножение-матриц\" data-toc-modified-id=\"Умножение-матриц-2\"><span class=\"toc-item-num\">2&nbsp;&nbsp;</span>Умножение матриц</a></span></li><li><span><a href=\"#Алгоритм-преобразования\" data-toc-modified-id=\"Алгоритм-преобразования-3\"><span class=\"toc-item-num\">3&nbsp;&nbsp;</span>Алгоритм преобразования</a></span></li><li><span><a href=\"#Проверка-алгоритма\" data-toc-modified-id=\"Проверка-алгоритма-4\"><span class=\"toc-item-num\">4&nbsp;&nbsp;</span>Проверка алгоритма</a></span></li>"
   ]
  },
  {
   "cell_type": "markdown",
   "metadata": {},
   "source": [
    "# Защита персональных данных клиентов"
   ]
  },
  {
   "cell_type": "markdown",
   "metadata": {},
   "source": [
    "Вам нужно защитить данные клиентов страховой компании «Хоть потоп». Разработайте такой метод преобразования данных, чтобы по ним было сложно восстановить персональную информацию. Обоснуйте корректность его работы.\n",
    "\n",
    "Нужно защитить данные, чтобы при преобразовании качество моделей машинного обучения не ухудшилось. Подбирать наилучшую модель не требуется."
   ]
  },
  {
   "cell_type": "markdown",
   "metadata": {},
   "source": [
    "## Загрузка данных"
   ]
  },
  {
   "cell_type": "code",
   "execution_count": 1,
   "metadata": {},
   "outputs": [],
   "source": [
    "import pandas as pd\n",
    "import numpy as np\n",
    "import math \n",
    "import matplotlib.pyplot as plt\n",
    "from numpy.linalg import inv\n",
    "from sklearn.model_selection import train_test_split\n",
    "from sklearn.linear_model import LinearRegression\n",
    "from sklearn.metrics import mean_squared_error"
   ]
  },
  {
   "cell_type": "code",
   "execution_count": 2,
   "metadata": {},
   "outputs": [
    {
     "name": "stdout",
     "output_type": "stream",
     "text": [
      "   Пол  Возраст  Зарплата  Члены семьи  Страховые выплаты\n",
      "0    1     41.0   49600.0            1                  0\n",
      "1    0     46.0   38000.0            1                  1\n",
      "2    0     29.0   21000.0            0                  0\n",
      "3    0     21.0   41700.0            2                  0\n",
      "4    1     28.0   26100.0            0                  0\n",
      "<class 'pandas.core.frame.DataFrame'>\n",
      "RangeIndex: 5000 entries, 0 to 4999\n",
      "Data columns (total 5 columns):\n",
      "Пол                  5000 non-null int64\n",
      "Возраст              5000 non-null float64\n",
      "Зарплата             5000 non-null float64\n",
      "Члены семьи          5000 non-null int64\n",
      "Страховые выплаты    5000 non-null int64\n",
      "dtypes: float64(2), int64(3)\n",
      "memory usage: 195.4 KB\n",
      "               Пол      Возраст      Зарплата  Члены семьи  Страховые выплаты\n",
      "count  5000.000000  5000.000000   5000.000000  5000.000000        5000.000000\n",
      "mean      0.499000    30.952800  39916.360000     1.194200           0.148000\n",
      "std       0.500049     8.440807   9900.083569     1.091387           0.463183\n",
      "min       0.000000    18.000000   5300.000000     0.000000           0.000000\n",
      "25%       0.000000    24.000000  33300.000000     0.000000           0.000000\n",
      "50%       0.000000    30.000000  40200.000000     1.000000           0.000000\n",
      "75%       1.000000    37.000000  46600.000000     2.000000           0.000000\n",
      "max       1.000000    65.000000  79000.000000     6.000000           5.000000\n"
     ]
    },
    {
     "data": {
      "text/html": [
       "<div>\n",
       "<style scoped>\n",
       "    .dataframe tbody tr th:only-of-type {\n",
       "        vertical-align: middle;\n",
       "    }\n",
       "\n",
       "    .dataframe tbody tr th {\n",
       "        vertical-align: top;\n",
       "    }\n",
       "\n",
       "    .dataframe thead th {\n",
       "        text-align: right;\n",
       "    }\n",
       "</style>\n",
       "<table border=\"1\" class=\"dataframe\">\n",
       "  <thead>\n",
       "    <tr style=\"text-align: right;\">\n",
       "      <th></th>\n",
       "      <th>Пол</th>\n",
       "      <th>Возраст</th>\n",
       "      <th>Зарплата</th>\n",
       "      <th>Члены семьи</th>\n",
       "    </tr>\n",
       "  </thead>\n",
       "  <tbody>\n",
       "    <tr>\n",
       "      <td>Пол</td>\n",
       "      <td>1.000000</td>\n",
       "      <td>0.002074</td>\n",
       "      <td>0.014910</td>\n",
       "      <td>-0.008991</td>\n",
       "    </tr>\n",
       "    <tr>\n",
       "      <td>Возраст</td>\n",
       "      <td>0.002074</td>\n",
       "      <td>1.000000</td>\n",
       "      <td>-0.019093</td>\n",
       "      <td>-0.006692</td>\n",
       "    </tr>\n",
       "    <tr>\n",
       "      <td>Зарплата</td>\n",
       "      <td>0.014910</td>\n",
       "      <td>-0.019093</td>\n",
       "      <td>1.000000</td>\n",
       "      <td>-0.030296</td>\n",
       "    </tr>\n",
       "    <tr>\n",
       "      <td>Члены семьи</td>\n",
       "      <td>-0.008991</td>\n",
       "      <td>-0.006692</td>\n",
       "      <td>-0.030296</td>\n",
       "      <td>1.000000</td>\n",
       "    </tr>\n",
       "  </tbody>\n",
       "</table>\n",
       "</div>"
      ],
      "text/plain": [
       "                  Пол   Возраст  Зарплата  Члены семьи\n",
       "Пол          1.000000  0.002074  0.014910    -0.008991\n",
       "Возраст      0.002074  1.000000 -0.019093    -0.006692\n",
       "Зарплата     0.014910 -0.019093  1.000000    -0.030296\n",
       "Члены семьи -0.008991 -0.006692 -0.030296     1.000000"
      ]
     },
     "metadata": {},
     "output_type": "display_data"
    },
    {
     "name": "stdout",
     "output_type": "stream",
     "text": [
      "\n",
      "Дубликаты: 153\n",
      "\n",
      "Кол-во дубликатов после удаления: 0\n"
     ]
    },
    {
     "data": {
      "image/png": "[encoded data removed]",
      "text/plain": [
       "<Figure size 1080x1080 with 16 Axes>"
      ]
     },
     "metadata": {
      "needs_background": "light"
     },
     "output_type": "display_data"
    }
   ],
   "source": [
    "df = pd.read_csv('/datasets/insurance.csv')\n",
    "\n",
    "print(df.head())\n",
    "\n",
    "df.info()\n",
    "\n",
    "print(df.describe())\n",
    "\n",
    "# Проверка на корреляцию\n",
    "display(df[['Пол','Возраст','Зарплата','Члены семьи']].corr())\n",
    "\n",
    "# Проверка на дубликаты - check 1\n",
    "print()\n",
    "print('Дубликаты:',df.duplicated().sum())\n",
    "\n",
    "# Удаление дубликатов\n",
    "df = df.drop_duplicates().reset_index(drop = True)\n",
    "\n",
    "# Проверка на дубликаты - check 2\n",
    "print()\n",
    "print('Кол-во дубликатов после удаления:',df.duplicated().sum())\n",
    "\n",
    "# Смотрим на распределения данных на scatterplot matrix\n",
    "pd.plotting.scatter_matrix(df[['Пол','Возраст','Зарплата','Члены семьи']], figsize=(15, 15))\n",
    "plt.show()"
   ]
  },
  {
   "cell_type": "markdown",
   "metadata": {},
   "source": [
    "**Вывод:**\n",
    "В датафрейме 5 колонок и 5000 строк, пропуски не обнаружены, но было найдено 153 дубликата (удалено с помощью метода .drop_duplicates()). В данных не обнаружено признаков с высокой корреляцией, поэтому оставляем все столбцы. На scatterplot matrix по диагонали можно увидеть каждую из колонок выраженной в графике. Графики признаков \"Возраст\" и \"Члены семьи скошены вправо, \"Зарплата\" имеет нормальное распределение, \"Пол\" имеет всего две переменных 1 и 0, выражающие женский и мужской пол. "
   ]
  },
  {
   "cell_type": "markdown",
   "metadata": {},
   "source": [
    "## Умножение матриц"
   ]
  },
  {
   "cell_type": "markdown",
   "metadata": {},
   "source": [
    "В этом задании вы можете записывать формулы в *Jupyter Notebook.*\n",
    "\n",
    "Чтобы записать формулу внутри текста, окружите её символами доллара \\\\$; если снаружи —  двойными символами \\\\$\\\\$. Эти формулы записываются на языке вёрстки *LaTeX.* \n",
    "\n",
    "Для примера мы записали формулы линейной регрессии. Можете их скопировать и отредактировать, чтобы решить задачу.\n",
    "\n",
    "Работать в *LaTeX* необязательно."
   ]
  },
  {
   "cell_type": "markdown",
   "metadata": {},
   "source": [
    "Обозначения:\n",
    "\n",
    "- $X$ — матрица признаков (нулевой столбец состоит из единиц)\n",
    "\n",
    "- $y$ — вектор целевого признака\n",
    "\n",
    "- $P$ — матрица, на которую умножаются признаки\n",
    "\n",
    "- $w$ — вектор весов линейной регрессии (нулевой элемент равен сдвигу)"
   ]
  },
  {
   "cell_type": "markdown",
   "metadata": {},
   "source": [
    "Предсказания:\n",
    "\n",
    "$$\n",
    "a = Xw\n",
    "$$\n",
    "\n",
    "Задача обучения:\n",
    "\n",
    "$$\n",
    "w = \\arg\\min_w MSE(Xw, y)\n",
    "$$\n",
    "\n",
    "Формула обучения:\n",
    "\n",
    "$$\n",
    "w = (X^T X)^{-1} X^T y\n",
    "$$"
   ]
  },
  {
   "cell_type": "markdown",
   "metadata": {},
   "source": [
    "**Ответ:** Если умножить признаки на обратимую матрицу, то качество линейной регрессии не изменится.\n",
    "\n",
    "**Обоснование:** Согласно законам линейной алгебры, обратная матрица должна быть квадратной и детерминант (в формуле подсчета обратной матрицы $ (1 / (ad-bc)) * [\\begin{matrix} d & -b \\\\ -c & a \\end{matrix}$] ) не должен равняться 0. Для матрицы $А$, перемножение ее на обратимую матрицу $(A^{-1})$ будет равняться единичной матрице ($I$). \n",
    "\n",
    "$$\n",
    "A*A^{-1}=A^{-1} * A = I\n",
    "$$"
   ]
  },
  {
   "cell_type": "markdown",
   "metadata": {},
   "source": [
    "При умножении матрицы $I$ на матрицу А получится та же матрица А (идентично умножению на 1 в математике):\n",
    "\n",
    "$$\n",
    "I * A = A * I = A\n",
    "$$\n",
    "\n",
    "Если сгенерировать случайную матрицу с помощью библиотеки NumPy, вероятность получения необратимой матрицы близка к нулю, поэтому проверим формулы на реальных матрицах: "
   ]
  },
  {
   "cell_type": "code",
   "execution_count": 5,
   "metadata": {},
   "outputs": [
    {
     "name": "stdout",
     "output_type": "stream",
     "text": [
      "[[ 0.86847035  0.21408306  0.41761591  0.68750985]\n",
      " [-0.20672451 -1.50919855  0.38439627  0.11865507]\n",
      " [ 0.14250046 -0.62411621 -0.01750515  0.7916309 ]\n",
      " [ 1.98500473  0.11385296  0.75548532 -0.12783831]]\n"
     ]
    }
   ],
   "source": [
    "# Генерируем случайную матрицу А\n",
    "matrix_A = np.random.normal(size=(4, 4))\n",
    "print(matrix_A)"
   ]
  },
  {
   "cell_type": "code",
   "execution_count": 6,
   "metadata": {},
   "outputs": [
    {
     "name": "stdout",
     "output_type": "stream",
     "text": [
      "[[-0.93155994 -0.49028242  1.00974124  0.78780176]\n",
      " [ 0.82561996 -0.26852582 -0.73115241 -0.33669833]\n",
      " [ 2.47097507  1.31268558 -2.466639   -0.76730654]\n",
      " [ 0.87324195 -0.09442164  0.45047312 -0.42422903]]\n"
     ]
    }
   ],
   "source": [
    "# Находим обратную А матрицу (А')\n",
    "inverse_A = inv(matrix_A)\n",
    "print(inverse_A)"
   ]
  },
  {
   "cell_type": "code",
   "execution_count": 7,
   "metadata": {},
   "outputs": [
    {
     "name": "stdout",
     "output_type": "stream",
     "text": [
      "[[ 1.00000000e+00  1.93247346e-17 -7.25858051e-17 -4.59745259e-18]\n",
      " [-2.05879127e-17  1.00000000e+00 -2.56474434e-17 -3.76747263e-18]\n",
      " [ 1.10440391e-16 -6.82126635e-17  1.00000000e+00  1.23716453e-17]\n",
      " [ 1.05754985e-16 -7.52819947e-17 -1.00484241e-16  1.00000000e+00]]\n"
     ]
    }
   ],
   "source": [
    "# Умножаем А на обратную ей матрицу (проверка на обратимость)\n",
    "I = matrix_A @ inverse_A\n",
    "print(I)"
   ]
  },
  {
   "cell_type": "code",
   "execution_count": 8,
   "metadata": {},
   "outputs": [
    {
     "name": "stdout",
     "output_type": "stream",
     "text": [
      "[[ 0.86847035  0.21408306  0.41761591  0.68750985]\n",
      " [-0.20672451 -1.50919855  0.38439627  0.11865507]\n",
      " [ 0.14250046 -0.62411621 -0.01750515  0.7916309 ]\n",
      " [ 1.98500473  0.11385296  0.75548532 -0.12783831]]\n"
     ]
    }
   ],
   "source": [
    "# Умножаем I на A\n",
    "\n",
    "back_to_A = I @ matrix_A\n",
    "print(back_to_A)"
   ]
  },
  {
   "cell_type": "markdown",
   "metadata": {},
   "source": [
    "По условию\n",
    "$$\n",
    "w = \\arg\\min_w MSE(Xw, y)\n",
    "$$\n",
    "После умножения на обратную матрицу А, мы получили\n",
    "$$\n",
    "w = \\arg\\min_w MSE(XAw', y)\n",
    "$$\n",
    "Нам необходимо доказать или опровергнуть, что \n",
    "$$ \n",
    "MSE(Xw, y) = MSE(XАw', y)\n",
    "$$"
   ]
  },
  {
   "cell_type": "markdown",
   "metadata": {},
   "source": [
    "Как нам известно, формула для обучения модели выглядит так\n",
    "$$\n",
    "w = (X^T X)^{-1} X^T y\n",
    "$$\n",
    "Перемножив матрицу Х (признаки) на А (обратимая матрица) (для этой формулы, вектор весов обозначим как w', чтобы дифференцировать с предыдущей формулой и решить задачу), мы получим \n",
    "$$\n",
    "w' = ((X*A)^{T} * (X*А))^{-1}*(X*A)^{T}*y\n",
    "$$"
   ]
  },
  {
   "cell_type": "markdown",
   "metadata": {},
   "source": [
    "Мы можем упростить это выражение, полагаясь на правило, что $(A*B)^{-1}=B^{-1}*A^{-1}$, где А и В - матрицы. А также держа в уме, что для неквадратных матриц обратных матриц не существует. В итоге получаем\n",
    "\n",
    "$$\n",
    "w' = (A^T*(X^T*X)*A)^{-1}*(X*A)^T*y\n",
    "$$\n",
    "$$\n",
    "w' = А^{-1} * (X^TX)^{-1} *(А^T)^{-1} * X^T*А^T\n",
    "$$\n",
    "Помним, что $A * A^{-1} = I$. Из этого следует\n",
    "$$\n",
    "w' = А^{-1} * (X^TX)^{-1} * X^T * y\n",
    "$$\n",
    "По условию\n",
    "$$\n",
    "w' = (X^T*X)^{-1}*X^T*y\n",
    "$$\n",
    "Из этого следует\n",
    "$$\n",
    "w' = A^{-1} * w * y\n",
    "$$\n"
   ]
  },
  {
   "cell_type": "markdown",
   "metadata": {},
   "source": [
    "Из этого можно расчитать, что\n",
    "$$\n",
    "MSE(Xw, y) = MSE(XАw, y)\n",
    "$$\n",
    "$$\n",
    "MSE(Xw, y) = MSE(XАA^{-1}w, y)\n",
    "$$\n",
    "\n",
    "Снова, $А*А^{-1}=I$, поэтому\n",
    "\n",
    "$$\n",
    "MSE(Xw, y) = MSE(XIw, y)\n",
    "$$\n",
    "$$\n",
    "MSE(Xw, y) = MSE(Xw, y)\n",
    "$$"
   ]
  },
  {
   "cell_type": "markdown",
   "metadata": {},
   "source": [
    "**Вывод:** Если умножить признаки на обратимую матрицу, то качество линейной регрессии не изменится."
   ]
  },
  {
   "cell_type": "markdown",
   "metadata": {},
   "source": [
    "$$\n",
    "w' = ((XP)^T XP)^{-1} (XP)^T y\n",
    "$$\n",
    "$$\n",
    "w' = (P^T (X^T X) P)^{-1} (XP)^T y\n",
    "$$\n",
    "$$\n",
    "....\n",
    "$$\n"
   ]
  },
  {
   "cell_type": "markdown",
   "metadata": {},
   "source": [
    "## Алгоритм преобразования"
   ]
  },
  {
   "cell_type": "markdown",
   "metadata": {},
   "source": [
    "**Алгоритм**\n",
    "<br>Сначала обучим модель без преобразования, чтобы иметь опорную точку для сравнения качества модели:\n",
    "<br>Шаг 1. Определить признаки и целевой признак\n",
    "<br>Шаг 2. Определить и обучить модель \n",
    "<br>Шаг 3. Предсказать значения для признаков \n",
    "<br>Шаг 4. Оценить качество модели по MSE\n",
    "\n",
    "Затем, преобразуем наши данные: \n",
    "<br>Шаг 1. Создадим случайную матрицу A с помощью NumPy\n",
    "<br>Шаг 2. Убедимся, что созданная матрица A обратима\n",
    "<br>Шаг 3. Умножим матрицу признаков на обратную матрицу A\n",
    "<br>Шаг 4. Обучим модель\n",
    "<br>Шаг 5. Предсказать значения для признаков \n",
    "<br>Шаг 6. Оценить качество модели по MSE\n",
    "\n",
    "<br>Шаг 7. Сравнить качество модели после преобразования и до"
   ]
  },
  {
   "cell_type": "markdown",
   "metadata": {},
   "source": [
    "**Обоснование**\n",
    "\n",
    "Как и в доказательстве в шаге # 2 в этом проекте, если умножить обратимую матрицу $А$ на обратную ей же ($A^{-1}$), получится единичная матрица $I$. Таким образом можно будет вернуться к исходным данным до тех пор, пока у нас будет доступ к матрице $А$ и пока она обратима. Следовательно, матрица $А$ в данном случае выступает ключом к расшифровке данных."
   ]
  },
  {
   "cell_type": "markdown",
   "metadata": {},
   "source": [
    "## Проверка алгоритма"
   ]
  },
  {
   "cell_type": "code",
   "execution_count": 3,
   "metadata": {},
   "outputs": [
    {
     "name": "stdout",
     "output_type": "stream",
     "text": [
      "MSE: 0.12527263826681603\n",
      "RMSE: 0.35393874931521135\n"
     ]
    }
   ],
   "source": [
    "# Обучение модели без преобразования (модель Линейной Регрессии)\n",
    "features = df.drop(['Страховые выплаты'], axis=1)\n",
    "target = df['Страховые выплаты']\n",
    "\n",
    "# Разделение данных на  обучающую и тестовую выборки\n",
    "#train_features, test_features, train_target, test_target = train_test_split(features, target, test_size=0.25, random_state=12345)\n",
    "\n",
    "# Обучаем модель\n",
    "model = LinearRegression().fit(features, target)\n",
    "\n",
    "# Строим предсказания для модели\n",
    "predictions = model.predict(features)\n",
    "\n",
    "# Оценка качества модели\n",
    "print('MSE:', mean_squared_error(target, predictions))\n",
    "print('RMSE:', math.sqrt(mean_squared_error(target, predictions)))\n"
   ]
  },
  {
   "cell_type": "code",
   "execution_count": 4,
   "metadata": {},
   "outputs": [
    {
     "name": "stdout",
     "output_type": "stream",
     "text": [
      "Оригинальные данные:\n"
     ]
    },
    {
     "data": {
      "text/html": [
       "<div>\n",
       "<style scoped>\n",
       "    .dataframe tbody tr th:only-of-type {\n",
       "        vertical-align: middle;\n",
       "    }\n",
       "\n",
       "    .dataframe tbody tr th {\n",
       "        vertical-align: top;\n",
       "    }\n",
       "\n",
       "    .dataframe thead th {\n",
       "        text-align: right;\n",
       "    }\n",
       "</style>\n",
       "<table border=\"1\" class=\"dataframe\">\n",
       "  <thead>\n",
       "    <tr style=\"text-align: right;\">\n",
       "      <th></th>\n",
       "      <th>Пол</th>\n",
       "      <th>Возраст</th>\n",
       "      <th>Зарплата</th>\n",
       "      <th>Члены семьи</th>\n",
       "    </tr>\n",
       "  </thead>\n",
       "  <tbody>\n",
       "    <tr>\n",
       "      <td>0</td>\n",
       "      <td>1</td>\n",
       "      <td>41.0</td>\n",
       "      <td>49600.0</td>\n",
       "      <td>1</td>\n",
       "    </tr>\n",
       "    <tr>\n",
       "      <td>1</td>\n",
       "      <td>0</td>\n",
       "      <td>46.0</td>\n",
       "      <td>38000.0</td>\n",
       "      <td>1</td>\n",
       "    </tr>\n",
       "    <tr>\n",
       "      <td>2</td>\n",
       "      <td>0</td>\n",
       "      <td>29.0</td>\n",
       "      <td>21000.0</td>\n",
       "      <td>0</td>\n",
       "    </tr>\n",
       "    <tr>\n",
       "      <td>3</td>\n",
       "      <td>0</td>\n",
       "      <td>21.0</td>\n",
       "      <td>41700.0</td>\n",
       "      <td>2</td>\n",
       "    </tr>\n",
       "    <tr>\n",
       "      <td>4</td>\n",
       "      <td>1</td>\n",
       "      <td>28.0</td>\n",
       "      <td>26100.0</td>\n",
       "      <td>0</td>\n",
       "    </tr>\n",
       "    <tr>\n",
       "      <td>...</td>\n",
       "      <td>...</td>\n",
       "      <td>...</td>\n",
       "      <td>...</td>\n",
       "      <td>...</td>\n",
       "    </tr>\n",
       "    <tr>\n",
       "      <td>4842</td>\n",
       "      <td>0</td>\n",
       "      <td>28.0</td>\n",
       "      <td>35700.0</td>\n",
       "      <td>2</td>\n",
       "    </tr>\n",
       "    <tr>\n",
       "      <td>4843</td>\n",
       "      <td>0</td>\n",
       "      <td>34.0</td>\n",
       "      <td>52400.0</td>\n",
       "      <td>1</td>\n",
       "    </tr>\n",
       "    <tr>\n",
       "      <td>4844</td>\n",
       "      <td>0</td>\n",
       "      <td>20.0</td>\n",
       "      <td>33900.0</td>\n",
       "      <td>2</td>\n",
       "    </tr>\n",
       "    <tr>\n",
       "      <td>4845</td>\n",
       "      <td>1</td>\n",
       "      <td>22.0</td>\n",
       "      <td>32700.0</td>\n",
       "      <td>3</td>\n",
       "    </tr>\n",
       "    <tr>\n",
       "      <td>4846</td>\n",
       "      <td>1</td>\n",
       "      <td>28.0</td>\n",
       "      <td>40600.0</td>\n",
       "      <td>1</td>\n",
       "    </tr>\n",
       "  </tbody>\n",
       "</table>\n",
       "<p>4847 rows × 4 columns</p>\n",
       "</div>"
      ],
      "text/plain": [
       "      Пол  Возраст  Зарплата  Члены семьи\n",
       "0       1     41.0   49600.0            1\n",
       "1       0     46.0   38000.0            1\n",
       "2       0     29.0   21000.0            0\n",
       "3       0     21.0   41700.0            2\n",
       "4       1     28.0   26100.0            0\n",
       "...   ...      ...       ...          ...\n",
       "4842    0     28.0   35700.0            2\n",
       "4843    0     34.0   52400.0            1\n",
       "4844    0     20.0   33900.0            2\n",
       "4845    1     22.0   32700.0            3\n",
       "4846    1     28.0   40600.0            1\n",
       "\n",
       "[4847 rows x 4 columns]"
      ]
     },
     "metadata": {},
     "output_type": "display_data"
    },
    {
     "name": "stdout",
     "output_type": "stream",
     "text": [
      "Данные после расшифровки:\n"
     ]
    },
    {
     "data": {
      "text/html": [
       "<div>\n",
       "<style scoped>\n",
       "    .dataframe tbody tr th:only-of-type {\n",
       "        vertical-align: middle;\n",
       "    }\n",
       "\n",
       "    .dataframe tbody tr th {\n",
       "        vertical-align: top;\n",
       "    }\n",
       "\n",
       "    .dataframe thead th {\n",
       "        text-align: right;\n",
       "    }\n",
       "</style>\n",
       "<table border=\"1\" class=\"dataframe\">\n",
       "  <thead>\n",
       "    <tr style=\"text-align: right;\">\n",
       "      <th></th>\n",
       "      <th>0</th>\n",
       "      <th>1</th>\n",
       "      <th>2</th>\n",
       "      <th>3</th>\n",
       "    </tr>\n",
       "  </thead>\n",
       "  <tbody>\n",
       "    <tr>\n",
       "      <td>0</td>\n",
       "      <td>1.000000e+00</td>\n",
       "      <td>41.0</td>\n",
       "      <td>49600.0</td>\n",
       "      <td>1.000000e+00</td>\n",
       "    </tr>\n",
       "    <tr>\n",
       "      <td>1</td>\n",
       "      <td>-8.576318e-12</td>\n",
       "      <td>46.0</td>\n",
       "      <td>38000.0</td>\n",
       "      <td>1.000000e+00</td>\n",
       "    </tr>\n",
       "    <tr>\n",
       "      <td>2</td>\n",
       "      <td>-2.576285e-12</td>\n",
       "      <td>29.0</td>\n",
       "      <td>21000.0</td>\n",
       "      <td>-3.440923e-12</td>\n",
       "    </tr>\n",
       "    <tr>\n",
       "      <td>3</td>\n",
       "      <td>-6.875169e-12</td>\n",
       "      <td>21.0</td>\n",
       "      <td>41700.0</td>\n",
       "      <td>2.000000e+00</td>\n",
       "    </tr>\n",
       "    <tr>\n",
       "      <td>4</td>\n",
       "      <td>1.000000e+00</td>\n",
       "      <td>28.0</td>\n",
       "      <td>26100.0</td>\n",
       "      <td>-2.488083e-12</td>\n",
       "    </tr>\n",
       "    <tr>\n",
       "      <td>...</td>\n",
       "      <td>...</td>\n",
       "      <td>...</td>\n",
       "      <td>...</td>\n",
       "      <td>...</td>\n",
       "    </tr>\n",
       "    <tr>\n",
       "      <td>4842</td>\n",
       "      <td>-4.062223e-12</td>\n",
       "      <td>28.0</td>\n",
       "      <td>35700.0</td>\n",
       "      <td>2.000000e+00</td>\n",
       "    </tr>\n",
       "    <tr>\n",
       "      <td>4843</td>\n",
       "      <td>-3.205931e-12</td>\n",
       "      <td>34.0</td>\n",
       "      <td>52400.0</td>\n",
       "      <td>1.000000e+00</td>\n",
       "    </tr>\n",
       "    <tr>\n",
       "      <td>4844</td>\n",
       "      <td>-6.550890e-12</td>\n",
       "      <td>20.0</td>\n",
       "      <td>33900.0</td>\n",
       "      <td>2.000000e+00</td>\n",
       "    </tr>\n",
       "    <tr>\n",
       "      <td>4845</td>\n",
       "      <td>1.000000e+00</td>\n",
       "      <td>22.0</td>\n",
       "      <td>32700.0</td>\n",
       "      <td>3.000000e+00</td>\n",
       "    </tr>\n",
       "    <tr>\n",
       "      <td>4846</td>\n",
       "      <td>1.000000e+00</td>\n",
       "      <td>28.0</td>\n",
       "      <td>40600.0</td>\n",
       "      <td>1.000000e+00</td>\n",
       "    </tr>\n",
       "  </tbody>\n",
       "</table>\n",
       "<p>4847 rows × 4 columns</p>\n",
       "</div>"
      ],
      "text/plain": [
       "                 0     1        2             3\n",
       "0     1.000000e+00  41.0  49600.0  1.000000e+00\n",
       "1    -8.576318e-12  46.0  38000.0  1.000000e+00\n",
       "2    -2.576285e-12  29.0  21000.0 -3.440923e-12\n",
       "3    -6.875169e-12  21.0  41700.0  2.000000e+00\n",
       "4     1.000000e+00  28.0  26100.0 -2.488083e-12\n",
       "...            ...   ...      ...           ...\n",
       "4842 -4.062223e-12  28.0  35700.0  2.000000e+00\n",
       "4843 -3.205931e-12  34.0  52400.0  1.000000e+00\n",
       "4844 -6.550890e-12  20.0  33900.0  2.000000e+00\n",
       "4845  1.000000e+00  22.0  32700.0  3.000000e+00\n",
       "4846  1.000000e+00  28.0  40600.0  1.000000e+00\n",
       "\n",
       "[4847 rows x 4 columns]"
      ]
     },
     "metadata": {},
     "output_type": "display_data"
    }
   ],
   "source": [
    "# Генерируем случайную матрицу А размерностью с признаками\n",
    "matrix_A = np.random.normal(size=(features.shape[1], features.shape[1]))\n",
    "#print(matrix_A)\n",
    "\n",
    "# Находим обратную А матрицу (А')\n",
    "inverse_A = inv(matrix_A)\n",
    "#print(inverse_A)\n",
    "\n",
    "# Проверяем на обратимость\n",
    "I = matrix_A @ inverse_A\n",
    "#print(I)\n",
    "\n",
    "# Умножаем матрицу признаков на обратную матрицу А\n",
    "features_new = features.dot(matrix_A)\n",
    "#display(features_array_encoded)\n",
    "\n",
    "# Проверка на восстановимость данных\n",
    "print('Оригинальные данные:')\n",
    "display(features)\n",
    "print('Данные после расшифровки:')\n",
    "display(features_new @ inverse_A)"
   ]
  },
  {
   "cell_type": "code",
   "execution_count": 5,
   "metadata": {},
   "outputs": [
    {
     "name": "stdout",
     "output_type": "stream",
     "text": [
      "MSE: 0.12527263826682278\n",
      "RMSE: 0.3539387493152209\n"
     ]
    }
   ],
   "source": [
    "# Обучаем модель \n",
    "model_encoded = LinearRegression().fit(features_new, target)\n",
    "\n",
    "# Строим предсказания для модели\n",
    "predictions_encoded = model_encoded.predict(features_new)\n",
    "\n",
    "# Оценка качества модели\n",
    "print('MSE:', mean_squared_error(target, predictions_encoded))\n",
    "print('RMSE:', math.sqrt(mean_squared_error(target, predictions_encoded)))"
   ]
  },
  {
   "cell_type": "markdown",
   "metadata": {},
   "source": [
    "**Вывод**: После обучения моделей до и после шифрования оригинальных данных методом умножения на обратимую матрицу, и сравнениях результатов их RMSE, видно, что RMSE (то есть, качество самой модели) в обеих матрицах одинаково.  Когда мы умножаем наши характеристики на обратимую матрицу, у нас все равно остается та же оценка R2, w0 (intercept), но w (вектор) отличается, потому что мы использовали замаскированные функции для вычисления w (вектора). Алгоритм хорошо работает вручную и со sklearn."
   ]
  }
 ],
 "metadata": {
  "ExecuteTimeLog": [
   {
    "duration": 576,
    "start_time": "2022-01-25T16:35:49.591Z"
   },
   {
    "duration": 16,
    "start_time": "2022-01-25T16:35:50.814Z"
   },
   {
    "duration": 19,
    "start_time": "2022-01-25T16:35:57.573Z"
   },
   {
    "duration": 41,
    "start_time": "2022-01-25T16:36:17.712Z"
   },
   {
    "duration": 302,
    "start_time": "2022-01-27T11:58:19.581Z"
   },
   {
    "duration": 2,
    "start_time": "2022-01-27T11:58:23.750Z"
   },
   {
    "duration": 2,
    "start_time": "2022-01-27T11:58:24.610Z"
   },
   {
    "duration": 324,
    "start_time": "2022-01-27T11:58:27.405Z"
   },
   {
    "duration": 43,
    "start_time": "2022-01-27T11:58:33.563Z"
   },
   {
    "duration": 50,
    "start_time": "2022-01-27T12:00:31.355Z"
   },
   {
    "duration": 44,
    "start_time": "2022-01-27T12:15:33.980Z"
   },
   {
    "duration": 46,
    "start_time": "2022-01-27T12:15:54.674Z"
   },
   {
    "duration": 61,
    "start_time": "2022-01-27T12:16:02.413Z"
   },
   {
    "duration": 46,
    "start_time": "2022-01-27T12:16:31.622Z"
   },
   {
    "duration": 47,
    "start_time": "2022-01-27T12:16:50.978Z"
   },
   {
    "duration": 211,
    "start_time": "2022-01-28T23:06:57.017Z"
   },
   {
    "duration": 551,
    "start_time": "2022-01-28T23:07:01.702Z"
   },
   {
    "duration": 116,
    "start_time": "2022-01-28T23:07:02.255Z"
   },
   {
    "duration": 6,
    "start_time": "2022-01-28T23:07:02.373Z"
   },
   {
    "duration": 5,
    "start_time": "2022-01-28T23:07:32.455Z"
   },
   {
    "duration": 4,
    "start_time": "2022-01-28T23:07:37.191Z"
   },
   {
    "duration": 4,
    "start_time": "2022-01-28T23:08:11.388Z"
   },
   {
    "duration": 4,
    "start_time": "2022-01-28T23:08:15.988Z"
   },
   {
    "duration": 204,
    "start_time": "2022-01-28T23:10:07.208Z"
   },
   {
    "duration": 3,
    "start_time": "2022-01-28T23:10:35.749Z"
   },
   {
    "duration": 2,
    "start_time": "2022-01-28T23:10:41.375Z"
   },
   {
    "duration": 48,
    "start_time": "2022-01-28T23:10:41.381Z"
   },
   {
    "duration": 3,
    "start_time": "2022-01-28T23:10:41.431Z"
   },
   {
    "duration": 7,
    "start_time": "2022-01-28T23:10:41.436Z"
   },
   {
    "duration": 4,
    "start_time": "2022-01-28T23:12:11.706Z"
   },
   {
    "duration": 3,
    "start_time": "2022-01-28T23:16:12.530Z"
   },
   {
    "duration": 48,
    "start_time": "2022-01-28T23:16:12.545Z"
   },
   {
    "duration": 4,
    "start_time": "2022-01-28T23:16:12.594Z"
   },
   {
    "duration": 13,
    "start_time": "2022-01-28T23:16:12.600Z"
   },
   {
    "duration": 46,
    "start_time": "2022-01-28T23:16:12.615Z"
   },
   {
    "duration": 10,
    "start_time": "2022-01-28T23:16:12.663Z"
   },
   {
    "duration": 4,
    "start_time": "2022-01-28T23:16:33.815Z"
   },
   {
    "duration": 3,
    "start_time": "2022-01-28T23:16:40.885Z"
   },
   {
    "duration": 54,
    "start_time": "2022-01-28T23:16:40.890Z"
   },
   {
    "duration": 3,
    "start_time": "2022-01-28T23:16:40.946Z"
   },
   {
    "duration": 9,
    "start_time": "2022-01-28T23:16:40.951Z"
   },
   {
    "duration": 11,
    "start_time": "2022-01-28T23:16:40.962Z"
   },
   {
    "duration": 85,
    "start_time": "2022-01-28T23:16:40.976Z"
   },
   {
    "duration": 413,
    "start_time": "2022-01-29T13:01:46.517Z"
   },
   {
    "duration": 595,
    "start_time": "2022-01-29T13:01:50.211Z"
   },
   {
    "duration": 79,
    "start_time": "2022-01-29T13:01:50.807Z"
   },
   {
    "duration": 3,
    "start_time": "2022-01-29T13:01:50.888Z"
   },
   {
    "duration": 6,
    "start_time": "2022-01-29T13:01:50.892Z"
   },
   {
    "duration": 28,
    "start_time": "2022-01-29T13:01:50.899Z"
   },
   {
    "duration": 3,
    "start_time": "2022-01-29T13:01:50.928Z"
   },
   {
    "duration": 44,
    "start_time": "2022-01-29T13:02:07.052Z"
   },
   {
    "duration": 2,
    "start_time": "2022-01-29T14:17:04.938Z"
   },
   {
    "duration": 435,
    "start_time": "2022-01-29T14:41:57.192Z"
   },
   {
    "duration": 44,
    "start_time": "2022-01-29T14:41:57.628Z"
   },
   {
    "duration": 3,
    "start_time": "2022-01-29T14:41:57.674Z"
   },
   {
    "duration": 5,
    "start_time": "2022-01-29T14:41:57.679Z"
   },
   {
    "duration": 42,
    "start_time": "2022-01-29T14:41:57.685Z"
   },
   {
    "duration": 4,
    "start_time": "2022-01-29T14:41:57.728Z"
   },
   {
    "duration": 357,
    "start_time": "2022-01-29T14:41:57.733Z"
   },
   {
    "duration": 3,
    "start_time": "2022-01-29T14:42:15.687Z"
   },
   {
    "duration": 46,
    "start_time": "2022-01-29T14:42:15.691Z"
   },
   {
    "duration": 3,
    "start_time": "2022-01-29T14:42:15.738Z"
   },
   {
    "duration": 4,
    "start_time": "2022-01-29T14:42:15.743Z"
   },
   {
    "duration": 8,
    "start_time": "2022-01-29T14:42:15.749Z"
   },
   {
    "duration": 70,
    "start_time": "2022-01-29T14:42:15.758Z"
   },
   {
    "duration": 384,
    "start_time": "2022-01-29T14:42:15.830Z"
   },
   {
    "duration": 333,
    "start_time": "2022-01-29T14:44:25.291Z"
   },
   {
    "duration": 332,
    "start_time": "2022-01-29T14:44:34.301Z"
   },
   {
    "duration": 345,
    "start_time": "2022-01-29T14:53:17.873Z"
   },
   {
    "duration": 319,
    "start_time": "2022-01-29T14:53:29.190Z"
   },
   {
    "duration": 7,
    "start_time": "2022-01-29T14:53:36.070Z"
   },
   {
    "duration": 8,
    "start_time": "2022-01-29T14:53:38.819Z"
   },
   {
    "duration": 331,
    "start_time": "2022-01-29T14:54:22.864Z"
   },
   {
    "duration": 379,
    "start_time": "2022-01-29T14:54:59.741Z"
   },
   {
    "duration": 2,
    "start_time": "2022-01-29T15:22:18.379Z"
   },
   {
    "duration": 45,
    "start_time": "2022-01-29T15:22:18.383Z"
   },
   {
    "duration": 3,
    "start_time": "2022-01-29T15:22:18.429Z"
   },
   {
    "duration": 5,
    "start_time": "2022-01-29T15:22:18.434Z"
   },
   {
    "duration": 7,
    "start_time": "2022-01-29T15:22:18.441Z"
   },
   {
    "duration": 78,
    "start_time": "2022-01-29T15:22:18.450Z"
   },
   {
    "duration": 370,
    "start_time": "2022-01-29T15:22:18.530Z"
   },
   {
    "duration": 324,
    "start_time": "2022-01-29T15:22:31.039Z"
   },
   {
    "duration": 3,
    "start_time": "2022-01-29T17:06:49.257Z"
   },
   {
    "duration": 44,
    "start_time": "2022-01-29T17:06:49.261Z"
   },
   {
    "duration": 3,
    "start_time": "2022-01-29T17:06:49.307Z"
   },
   {
    "duration": 4,
    "start_time": "2022-01-29T17:06:49.312Z"
   },
   {
    "duration": 10,
    "start_time": "2022-01-29T17:06:49.317Z"
   },
   {
    "duration": 13,
    "start_time": "2022-01-29T17:06:49.329Z"
   },
   {
    "duration": 421,
    "start_time": "2022-01-29T17:06:49.344Z"
   },
   {
    "duration": 315,
    "start_time": "2022-01-29T17:07:23.408Z"
   },
   {
    "duration": 361,
    "start_time": "2022-01-29T17:07:34.381Z"
   },
   {
    "duration": 322,
    "start_time": "2022-01-29T17:07:56.139Z"
   },
   {
    "duration": 345,
    "start_time": "2022-01-29T17:11:17.294Z"
   },
   {
    "duration": 349,
    "start_time": "2022-01-29T17:16:17.463Z"
   },
   {
    "duration": 3,
    "start_time": "2022-01-29T17:16:42.782Z"
   },
   {
    "duration": 46,
    "start_time": "2022-01-29T17:16:42.787Z"
   },
   {
    "duration": 3,
    "start_time": "2022-01-29T17:16:42.835Z"
   },
   {
    "duration": 5,
    "start_time": "2022-01-29T17:16:42.840Z"
   },
   {
    "duration": 6,
    "start_time": "2022-01-29T17:16:42.847Z"
   },
   {
    "duration": 87,
    "start_time": "2022-01-29T17:16:42.854Z"
   },
   {
    "duration": 461,
    "start_time": "2022-01-29T17:16:42.944Z"
   },
   {
    "duration": 388,
    "start_time": "2022-01-29T17:16:46.873Z"
   },
   {
    "duration": 402,
    "start_time": "2022-01-29T17:17:05.062Z"
   },
   {
    "duration": 10,
    "start_time": "2022-01-29T17:17:10.591Z"
   },
   {
    "duration": 7,
    "start_time": "2022-01-29T17:31:15.890Z"
   },
   {
    "duration": 339,
    "start_time": "2022-01-29T17:31:25.723Z"
   },
   {
    "duration": 6,
    "start_time": "2022-01-29T17:31:33.637Z"
   },
   {
    "duration": 7,
    "start_time": "2022-01-29T17:31:59.589Z"
   },
   {
    "duration": 7,
    "start_time": "2022-01-29T17:32:05.148Z"
   },
   {
    "duration": 9,
    "start_time": "2022-01-29T17:32:49.003Z"
   },
   {
    "duration": 8,
    "start_time": "2022-01-29T17:33:15.404Z"
   },
   {
    "duration": 9,
    "start_time": "2022-01-29T17:33:22.526Z"
   },
   {
    "duration": 9,
    "start_time": "2022-01-29T17:33:30.706Z"
   },
   {
    "duration": 597,
    "start_time": "2022-01-29T17:34:36.299Z"
   },
   {
    "duration": 1243,
    "start_time": "2022-01-29T17:35:11.643Z"
   },
   {
    "duration": 12,
    "start_time": "2022-01-29T17:37:41.887Z"
   },
   {
    "duration": 14,
    "start_time": "2022-01-29T17:38:06.790Z"
   },
   {
    "duration": 14,
    "start_time": "2022-01-29T17:38:30.136Z"
   },
   {
    "duration": 92,
    "start_time": "2022-01-29T17:38:44.335Z"
   },
   {
    "duration": 25,
    "start_time": "2022-01-29T17:39:15.006Z"
   },
   {
    "duration": 23,
    "start_time": "2022-01-29T17:39:30.035Z"
   },
   {
    "duration": 46,
    "start_time": "2022-01-29T17:40:29.323Z"
   },
   {
    "duration": 535,
    "start_time": "2022-01-29T17:42:09.318Z"
   },
   {
    "duration": 24,
    "start_time": "2022-01-29T17:42:20.904Z"
   },
   {
    "duration": 1385,
    "start_time": "2022-01-30T15:17:33.867Z"
   },
   {
    "duration": 121,
    "start_time": "2022-01-30T15:17:35.255Z"
   },
   {
    "duration": 7,
    "start_time": "2022-01-30T15:17:35.380Z"
   },
   {
    "duration": 74,
    "start_time": "2022-01-30T15:17:35.391Z"
   },
   {
    "duration": 6,
    "start_time": "2022-01-30T15:17:35.469Z"
   },
   {
    "duration": 87,
    "start_time": "2022-01-30T15:17:35.478Z"
   },
   {
    "duration": 100,
    "start_time": "2022-01-30T15:17:35.568Z"
   },
   {
    "duration": 305,
    "start_time": "2022-01-30T15:17:35.672Z"
   },
   {
    "duration": 88,
    "start_time": "2022-01-30T15:18:34.877Z"
   },
   {
    "duration": 89,
    "start_time": "2022-01-30T15:19:06.784Z"
   },
   {
    "duration": 698,
    "start_time": "2022-01-30T15:20:02.871Z"
   },
   {
    "duration": 52,
    "start_time": "2022-01-30T15:20:09.427Z"
   },
   {
    "duration": 178,
    "start_time": "2022-01-30T15:20:22.583Z"
   },
   {
    "duration": 137,
    "start_time": "2022-01-30T15:21:12.340Z"
   },
   {
    "duration": 68,
    "start_time": "2022-01-30T15:21:18.793Z"
   },
   {
    "duration": 127,
    "start_time": "2022-01-30T15:21:26.535Z"
   },
   {
    "duration": 4686,
    "start_time": "2022-01-30T15:25:58.587Z"
   },
   {
    "duration": 5365,
    "start_time": "2022-01-30T15:26:11.406Z"
   },
   {
    "duration": 5,
    "start_time": "2022-01-30T15:26:31.780Z"
   },
   {
    "duration": 6708,
    "start_time": "2022-01-30T15:26:31.788Z"
   },
   {
    "duration": 7,
    "start_time": "2022-01-30T15:26:38.500Z"
   },
   {
    "duration": 7,
    "start_time": "2022-01-30T15:26:38.510Z"
   },
   {
    "duration": 10,
    "start_time": "2022-01-30T15:26:38.562Z"
   },
   {
    "duration": 88,
    "start_time": "2022-01-30T15:26:38.575Z"
   },
   {
    "duration": 16,
    "start_time": "2022-01-30T15:26:38.666Z"
   },
   {
    "duration": 292,
    "start_time": "2022-01-30T15:26:38.685Z"
   },
   {
    "duration": 358,
    "start_time": "2022-01-31T08:58:15.671Z"
   },
   {
    "duration": 291,
    "start_time": "2022-01-31T08:58:27.939Z"
   },
   {
    "duration": 1093,
    "start_time": "2022-01-31T08:58:30.979Z"
   },
   {
    "duration": 2386,
    "start_time": "2022-01-31T08:58:32.074Z"
   },
   {
    "duration": 11,
    "start_time": "2022-01-31T08:58:34.461Z"
   },
   {
    "duration": 6,
    "start_time": "2022-01-31T08:58:34.473Z"
   },
   {
    "duration": 5,
    "start_time": "2022-01-31T08:58:34.480Z"
   },
   {
    "duration": 6,
    "start_time": "2022-01-31T08:58:34.487Z"
   },
   {
    "duration": 277,
    "start_time": "2022-01-31T08:58:34.495Z"
   },
   {
    "duration": 435,
    "start_time": "2022-01-31T08:58:34.774Z"
   },
   {
    "duration": -2389,
    "start_time": "2022-01-31T08:58:37.600Z"
   },
   {
    "duration": 47,
    "start_time": "2022-01-31T08:58:58.826Z"
   },
   {
    "duration": 23,
    "start_time": "2022-01-31T08:59:06.131Z"
   },
   {
    "duration": 17,
    "start_time": "2022-01-31T09:00:13.959Z"
   },
   {
    "duration": 1065,
    "start_time": "2022-01-31T11:43:49.809Z"
   },
   {
    "duration": 2528,
    "start_time": "2022-01-31T11:43:50.876Z"
   },
   {
    "duration": 14,
    "start_time": "2022-01-31T11:46:02.581Z"
   },
   {
    "duration": 227,
    "start_time": "2022-01-31T11:46:04.093Z"
   },
   {
    "duration": 12,
    "start_time": "2022-01-31T11:46:07.809Z"
   }
  ],
  "kernelspec": {
   "display_name": "Python 3 (ipykernel)",
   "language": "python",
   "name": "python3"
  },
  "language_info": {
   "codemirror_mode": {
    "name": "ipython",
    "version": 3
   },
   "file_extension": ".py",
   "mimetype": "text/x-python",
   "name": "python",
   "nbconvert_exporter": "python",
   "pygments_lexer": "ipython3",
   "version": "3.9.5"
  },
  "toc": {
   "base_numbering": 1,
   "nav_menu": {},
   "number_sections": true,
   "sideBar": true,
   "skip_h1_title": true,
   "title_cell": "Содержание",
   "title_sidebar": "Contents",
   "toc_cell": true,
   "toc_position": {},
   "toc_section_display": true,
   "toc_window_display": true
  }
 },
 "nbformat": 4,
 "nbformat_minor": 2
}
