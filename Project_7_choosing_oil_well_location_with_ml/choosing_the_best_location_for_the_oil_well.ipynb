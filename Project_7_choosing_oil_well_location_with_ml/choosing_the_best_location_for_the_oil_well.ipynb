{
 "cells": [
  {
   "cell_type": "markdown",
   "metadata": {
    "toc": true
   },
   "source": [
    "<h1>Содержание <span class=\"tocSkip\"></span></h1>\n",
    "<div class=\"toc\"><ul class=\"toc-item\"><li><ul class=\"toc-item\"><li><ul class=\"toc-item\"><li><span><a href=\"#Выбор-локации-для-скважины\" data-toc-modified-id=\"Выбор-локации-для-скважины-1\"><span class=\"toc-item-num\">1&nbsp;&nbsp;</span>Выбор локации для скважины</a></span></li><li><span><a href=\"#Загрузка-и-подготовка-данных\" data-toc-modified-id=\"Загрузка-и-подготовка-данных-2\"><span class=\"toc-item-num\">2&nbsp;&nbsp;</span>Загрузка и подготовка данных</a></span></li><li><span><a href=\"#Обучение-и-проверка-модели\" data-toc-modified-id=\"Обучение-и-проверка-модели-3\"><span class=\"toc-item-num\">3&nbsp;&nbsp;</span>Обучение и проверка модели</a></span></li><li><span><a href=\"#Подготовка-к-расчёту-прибыли\" data-toc-modified-id=\"Подготовка-к-расчёту-прибыли-4\"><span class=\"toc-item-num\">4&nbsp;&nbsp;</span>Подготовка к расчёту прибыли</a></span></li><li><span><a href=\"#Расчёт-прибыли-и-рисков\" data-toc-modified-id=\"Расчёт-прибыли-и-рисков-5\"><span class=\"toc-item-num\">5&nbsp;&nbsp;</span>Расчёт прибыли и рисков</a></span></li><li><span><a href=\"#Общий-вывод\" data-toc-modified-id=\"Общий-вывод-6\"><span class=\"toc-item-num\">6&nbsp;&nbsp;</span>Общий вывод</a></span></li>"
   ]
  },
  {
   "cell_type": "markdown",
   "metadata": {
    "cellId": "kbctp2p869v3lem4ju7o"
   },
   "source": [
    "# Выбор локации для скважины"
   ]
  },
  {
   "cell_type": "markdown",
   "metadata": {
    "cellId": "n4xyipd08fnay7w14uyci"
   },
   "source": [
    "Допустим, вы работаете в добывающей компании «ГлавРосГосНефть». Нужно решить, где бурить новую скважину.\n",
    "\n",
    "Вам предоставлены пробы нефти в трёх регионах: в каждом 10 000 месторождений, где измерили качество нефти и объём её запасов. Постройте модель машинного обучения, которая поможет определить регион, где добыча принесёт наибольшую прибыль. Проанализируйте возможную прибыль и риски техникой *Bootstrap.*\n",
    "\n",
    "Шаги для выбора локации:\n",
    "\n",
    "- В избранном регионе ищут месторождения, для каждого определяют значения признаков;\n",
    "- Строят модель и оценивают объём запасов;\n",
    "- Выбирают месторождения с самым высокими оценками значений. Количество месторождений зависит от бюджета компании и стоимости разработки одной скважины;\n",
    "- Прибыль равна суммарной прибыли отобранных месторождений."
   ]
  },
  {
   "cell_type": "markdown",
   "metadata": {
    "cellId": "grlqjv76aoet6bugno5ug"
   },
   "source": [
    "**Условия задачи**:\n",
    "1. Для обучения модели подходит только линейная регрессия (остальные — недостаточно предсказуемые).\n",
    "2. При разведке региона исследуют 500 точек, из которых с помощью машинного обучения выбирают 200 лучших для разработки.\n",
    "3. Бюджет на разработку скважин в регионе — 10 млрд рублей.\n",
    "4. При нынешних ценах один баррель сырья приносит 450 рублей дохода. Доход с каждой единицы продукта составляет 450 тыс. рублей, поскольку объём указан в тысячах баррелей.\n",
    "5. После оценки рисков нужно оставить лишь те регионы, в которых вероятность убытков меньше 2.5%. Среди них выбирают регион с наибольшей средней прибылью."
   ]
  },
  {
   "cell_type": "markdown",
   "metadata": {
    "cellId": "3wn57atk561d5v7n57gohr"
   },
   "source": [
    "# Загрузка и подготовка данных"
   ]
  },
  {
   "cell_type": "code",
   "execution_count": null,
   "metadata": {
    "cellId": "l3c3pv7jxjhfrmvrjq5pal"
   },
   "outputs": [],
   "source": [
    "# импорт библиотек\n",
    "import pandas as pd\n",
    "import numpy as np\n",
    "from statsmodels.stats.outliers_influence import variance_inflation_factor\n",
    "import matplotlib.pyplot as plt\n",
    "from sklearn.model_selection import train_test_split\n",
    "from sklearn.linear_model import LinearRegression\n",
    "from sklearn.metrics import mean_squared_error\n",
    "from numpy.random import RandomState\n",
    "from sklearn.preprocessing import StandardScaler"
   ]
  },
  {
   "cell_type": "markdown",
   "metadata": {},
   "source": [
    "<div class=\"alert alert-block alert-success\">\n",
    "<b>Успех:</b> Отлично, что все импорты собраны в первой ячейке ноутбука! Если у того, кто будет запускать твой ноутбук будут отсутствовать некоторые библиотеки, то он это увидит сразу, а не в процессе!\n",
    "</div>"
   ]
  },
  {
   "cell_type": "code",
   "execution_count": 79,
   "metadata": {
    "cellId": "c5smy8tk1jo8pa8m001teq"
   },
   "outputs": [
    {
     "data": {
      "text/html": [
       "<div>\n",
       "<style scoped>\n",
       "    .dataframe tbody tr th:only-of-type {\n",
       "        vertical-align: middle;\n",
       "    }\n",
       "\n",
       "    .dataframe tbody tr th {\n",
       "        vertical-align: top;\n",
       "    }\n",
       "\n",
       "    .dataframe thead th {\n",
       "        text-align: right;\n",
       "    }\n",
       "</style>\n",
       "<table border=\"1\" class=\"dataframe\">\n",
       "  <thead>\n",
       "    <tr style=\"text-align: right;\">\n",
       "      <th></th>\n",
       "      <th>f0</th>\n",
       "      <th>f1</th>\n",
       "      <th>f2</th>\n",
       "      <th>product</th>\n",
       "    </tr>\n",
       "  </thead>\n",
       "  <tbody>\n",
       "    <tr>\n",
       "      <td>count</td>\n",
       "      <td>100000.000000</td>\n",
       "      <td>100000.000000</td>\n",
       "      <td>100000.000000</td>\n",
       "      <td>100000.000000</td>\n",
       "    </tr>\n",
       "    <tr>\n",
       "      <td>mean</td>\n",
       "      <td>0.500419</td>\n",
       "      <td>0.250143</td>\n",
       "      <td>2.502647</td>\n",
       "      <td>92.500000</td>\n",
       "    </tr>\n",
       "    <tr>\n",
       "      <td>std</td>\n",
       "      <td>0.871832</td>\n",
       "      <td>0.504433</td>\n",
       "      <td>3.248248</td>\n",
       "      <td>44.288691</td>\n",
       "    </tr>\n",
       "    <tr>\n",
       "      <td>min</td>\n",
       "      <td>-1.408605</td>\n",
       "      <td>-0.848218</td>\n",
       "      <td>-12.088328</td>\n",
       "      <td>0.000000</td>\n",
       "    </tr>\n",
       "    <tr>\n",
       "      <td>25%</td>\n",
       "      <td>-0.072580</td>\n",
       "      <td>-0.200881</td>\n",
       "      <td>0.287748</td>\n",
       "      <td>56.497507</td>\n",
       "    </tr>\n",
       "    <tr>\n",
       "      <td>50%</td>\n",
       "      <td>0.502360</td>\n",
       "      <td>0.250252</td>\n",
       "      <td>2.515969</td>\n",
       "      <td>91.849972</td>\n",
       "    </tr>\n",
       "    <tr>\n",
       "      <td>75%</td>\n",
       "      <td>1.073581</td>\n",
       "      <td>0.700646</td>\n",
       "      <td>4.715088</td>\n",
       "      <td>128.564089</td>\n",
       "    </tr>\n",
       "    <tr>\n",
       "      <td>max</td>\n",
       "      <td>2.362331</td>\n",
       "      <td>1.343769</td>\n",
       "      <td>16.003790</td>\n",
       "      <td>185.364347</td>\n",
       "    </tr>\n",
       "  </tbody>\n",
       "</table>\n",
       "</div>"
      ],
      "text/plain": [
       "                  f0             f1             f2        product\n",
       "count  100000.000000  100000.000000  100000.000000  100000.000000\n",
       "mean        0.500419       0.250143       2.502647      92.500000\n",
       "std         0.871832       0.504433       3.248248      44.288691\n",
       "min        -1.408605      -0.848218     -12.088328       0.000000\n",
       "25%        -0.072580      -0.200881       0.287748      56.497507\n",
       "50%         0.502360       0.250252       2.515969      91.849972\n",
       "75%         1.073581       0.700646       4.715088     128.564089\n",
       "max         2.362331       1.343769      16.003790     185.364347"
      ]
     },
     "metadata": {},
     "output_type": "display_data"
    },
    {
     "data": {
      "text/html": [
       "<div>\n",
       "<style scoped>\n",
       "    .dataframe tbody tr th:only-of-type {\n",
       "        vertical-align: middle;\n",
       "    }\n",
       "\n",
       "    .dataframe tbody tr th {\n",
       "        vertical-align: top;\n",
       "    }\n",
       "\n",
       "    .dataframe thead th {\n",
       "        text-align: right;\n",
       "    }\n",
       "</style>\n",
       "<table border=\"1\" class=\"dataframe\">\n",
       "  <thead>\n",
       "    <tr style=\"text-align: right;\">\n",
       "      <th></th>\n",
       "      <th>f0</th>\n",
       "      <th>f1</th>\n",
       "      <th>f2</th>\n",
       "      <th>product</th>\n",
       "    </tr>\n",
       "  </thead>\n",
       "  <tbody>\n",
       "    <tr>\n",
       "      <td>count</td>\n",
       "      <td>100000.000000</td>\n",
       "      <td>100000.000000</td>\n",
       "      <td>100000.000000</td>\n",
       "      <td>100000.000000</td>\n",
       "    </tr>\n",
       "    <tr>\n",
       "      <td>mean</td>\n",
       "      <td>1.141296</td>\n",
       "      <td>-4.796579</td>\n",
       "      <td>2.494541</td>\n",
       "      <td>68.825000</td>\n",
       "    </tr>\n",
       "    <tr>\n",
       "      <td>std</td>\n",
       "      <td>8.965932</td>\n",
       "      <td>5.119872</td>\n",
       "      <td>1.703572</td>\n",
       "      <td>45.944423</td>\n",
       "    </tr>\n",
       "    <tr>\n",
       "      <td>min</td>\n",
       "      <td>-31.609576</td>\n",
       "      <td>-26.358598</td>\n",
       "      <td>-0.018144</td>\n",
       "      <td>0.000000</td>\n",
       "    </tr>\n",
       "    <tr>\n",
       "      <td>25%</td>\n",
       "      <td>-6.298551</td>\n",
       "      <td>-8.267985</td>\n",
       "      <td>1.000021</td>\n",
       "      <td>26.953261</td>\n",
       "    </tr>\n",
       "    <tr>\n",
       "      <td>50%</td>\n",
       "      <td>1.153055</td>\n",
       "      <td>-4.813172</td>\n",
       "      <td>2.011479</td>\n",
       "      <td>57.085625</td>\n",
       "    </tr>\n",
       "    <tr>\n",
       "      <td>75%</td>\n",
       "      <td>8.621015</td>\n",
       "      <td>-1.332816</td>\n",
       "      <td>3.999904</td>\n",
       "      <td>107.813044</td>\n",
       "    </tr>\n",
       "    <tr>\n",
       "      <td>max</td>\n",
       "      <td>29.421755</td>\n",
       "      <td>18.734063</td>\n",
       "      <td>5.019721</td>\n",
       "      <td>137.945408</td>\n",
       "    </tr>\n",
       "  </tbody>\n",
       "</table>\n",
       "</div>"
      ],
      "text/plain": [
       "                  f0             f1             f2        product\n",
       "count  100000.000000  100000.000000  100000.000000  100000.000000\n",
       "mean        1.141296      -4.796579       2.494541      68.825000\n",
       "std         8.965932       5.119872       1.703572      45.944423\n",
       "min       -31.609576     -26.358598      -0.018144       0.000000\n",
       "25%        -6.298551      -8.267985       1.000021      26.953261\n",
       "50%         1.153055      -4.813172       2.011479      57.085625\n",
       "75%         8.621015      -1.332816       3.999904     107.813044\n",
       "max        29.421755      18.734063       5.019721     137.945408"
      ]
     },
     "metadata": {},
     "output_type": "display_data"
    },
    {
     "data": {
      "text/html": [
       "<div>\n",
       "<style scoped>\n",
       "    .dataframe tbody tr th:only-of-type {\n",
       "        vertical-align: middle;\n",
       "    }\n",
       "\n",
       "    .dataframe tbody tr th {\n",
       "        vertical-align: top;\n",
       "    }\n",
       "\n",
       "    .dataframe thead th {\n",
       "        text-align: right;\n",
       "    }\n",
       "</style>\n",
       "<table border=\"1\" class=\"dataframe\">\n",
       "  <thead>\n",
       "    <tr style=\"text-align: right;\">\n",
       "      <th></th>\n",
       "      <th>f0</th>\n",
       "      <th>f1</th>\n",
       "      <th>f2</th>\n",
       "      <th>product</th>\n",
       "    </tr>\n",
       "  </thead>\n",
       "  <tbody>\n",
       "    <tr>\n",
       "      <td>count</td>\n",
       "      <td>100000.000000</td>\n",
       "      <td>100000.000000</td>\n",
       "      <td>100000.000000</td>\n",
       "      <td>100000.000000</td>\n",
       "    </tr>\n",
       "    <tr>\n",
       "      <td>mean</td>\n",
       "      <td>0.002023</td>\n",
       "      <td>-0.002081</td>\n",
       "      <td>2.495128</td>\n",
       "      <td>95.000000</td>\n",
       "    </tr>\n",
       "    <tr>\n",
       "      <td>std</td>\n",
       "      <td>1.732045</td>\n",
       "      <td>1.730417</td>\n",
       "      <td>3.473445</td>\n",
       "      <td>44.749921</td>\n",
       "    </tr>\n",
       "    <tr>\n",
       "      <td>min</td>\n",
       "      <td>-8.760004</td>\n",
       "      <td>-7.084020</td>\n",
       "      <td>-11.970335</td>\n",
       "      <td>0.000000</td>\n",
       "    </tr>\n",
       "    <tr>\n",
       "      <td>25%</td>\n",
       "      <td>-1.162288</td>\n",
       "      <td>-1.174820</td>\n",
       "      <td>0.130359</td>\n",
       "      <td>59.450441</td>\n",
       "    </tr>\n",
       "    <tr>\n",
       "      <td>50%</td>\n",
       "      <td>0.009424</td>\n",
       "      <td>-0.009482</td>\n",
       "      <td>2.484236</td>\n",
       "      <td>94.925613</td>\n",
       "    </tr>\n",
       "    <tr>\n",
       "      <td>75%</td>\n",
       "      <td>1.158535</td>\n",
       "      <td>1.163678</td>\n",
       "      <td>4.858794</td>\n",
       "      <td>130.595027</td>\n",
       "    </tr>\n",
       "    <tr>\n",
       "      <td>max</td>\n",
       "      <td>7.238262</td>\n",
       "      <td>7.844801</td>\n",
       "      <td>16.739402</td>\n",
       "      <td>190.029838</td>\n",
       "    </tr>\n",
       "  </tbody>\n",
       "</table>\n",
       "</div>"
      ],
      "text/plain": [
       "                  f0             f1             f2        product\n",
       "count  100000.000000  100000.000000  100000.000000  100000.000000\n",
       "mean        0.002023      -0.002081       2.495128      95.000000\n",
       "std         1.732045       1.730417       3.473445      44.749921\n",
       "min        -8.760004      -7.084020     -11.970335       0.000000\n",
       "25%        -1.162288      -1.174820       0.130359      59.450441\n",
       "50%         0.009424      -0.009482       2.484236      94.925613\n",
       "75%         1.158535       1.163678       4.858794     130.595027\n",
       "max         7.238262       7.844801      16.739402     190.029838"
      ]
     },
     "metadata": {},
     "output_type": "display_data"
    },
    {
     "data": {
      "text/html": [
       "<div>\n",
       "<style scoped>\n",
       "    .dataframe tbody tr th:only-of-type {\n",
       "        vertical-align: middle;\n",
       "    }\n",
       "\n",
       "    .dataframe tbody tr th {\n",
       "        vertical-align: top;\n",
       "    }\n",
       "\n",
       "    .dataframe thead th {\n",
       "        text-align: right;\n",
       "    }\n",
       "</style>\n",
       "<table border=\"1\" class=\"dataframe\">\n",
       "  <thead>\n",
       "    <tr style=\"text-align: right;\">\n",
       "      <th></th>\n",
       "      <th>f0</th>\n",
       "      <th>f1</th>\n",
       "      <th>f2</th>\n",
       "    </tr>\n",
       "  </thead>\n",
       "  <tbody>\n",
       "    <tr>\n",
       "      <td>f0</td>\n",
       "      <td>1.000000</td>\n",
       "      <td>-0.440723</td>\n",
       "      <td>-0.003153</td>\n",
       "    </tr>\n",
       "    <tr>\n",
       "      <td>f1</td>\n",
       "      <td>-0.440723</td>\n",
       "      <td>1.000000</td>\n",
       "      <td>0.001724</td>\n",
       "    </tr>\n",
       "    <tr>\n",
       "      <td>f2</td>\n",
       "      <td>-0.003153</td>\n",
       "      <td>0.001724</td>\n",
       "      <td>1.000000</td>\n",
       "    </tr>\n",
       "  </tbody>\n",
       "</table>\n",
       "</div>"
      ],
      "text/plain": [
       "          f0        f1        f2\n",
       "f0  1.000000 -0.440723 -0.003153\n",
       "f1 -0.440723  1.000000  0.001724\n",
       "f2 -0.003153  0.001724  1.000000"
      ]
     },
     "metadata": {},
     "output_type": "display_data"
    },
    {
     "data": {
      "text/html": [
       "<div>\n",
       "<style scoped>\n",
       "    .dataframe tbody tr th:only-of-type {\n",
       "        vertical-align: middle;\n",
       "    }\n",
       "\n",
       "    .dataframe tbody tr th {\n",
       "        vertical-align: top;\n",
       "    }\n",
       "\n",
       "    .dataframe thead th {\n",
       "        text-align: right;\n",
       "    }\n",
       "</style>\n",
       "<table border=\"1\" class=\"dataframe\">\n",
       "  <thead>\n",
       "    <tr style=\"text-align: right;\">\n",
       "      <th></th>\n",
       "      <th>f0</th>\n",
       "      <th>f1</th>\n",
       "      <th>f2</th>\n",
       "    </tr>\n",
       "  </thead>\n",
       "  <tbody>\n",
       "    <tr>\n",
       "      <td>f0</td>\n",
       "      <td>1.000000</td>\n",
       "      <td>0.182287</td>\n",
       "      <td>-0.001777</td>\n",
       "    </tr>\n",
       "    <tr>\n",
       "      <td>f1</td>\n",
       "      <td>0.182287</td>\n",
       "      <td>1.000000</td>\n",
       "      <td>-0.002595</td>\n",
       "    </tr>\n",
       "    <tr>\n",
       "      <td>f2</td>\n",
       "      <td>-0.001777</td>\n",
       "      <td>-0.002595</td>\n",
       "      <td>1.000000</td>\n",
       "    </tr>\n",
       "  </tbody>\n",
       "</table>\n",
       "</div>"
      ],
      "text/plain": [
       "          f0        f1        f2\n",
       "f0  1.000000  0.182287 -0.001777\n",
       "f1  0.182287  1.000000 -0.002595\n",
       "f2 -0.001777 -0.002595  1.000000"
      ]
     },
     "metadata": {},
     "output_type": "display_data"
    },
    {
     "data": {
      "text/html": [
       "<div>\n",
       "<style scoped>\n",
       "    .dataframe tbody tr th:only-of-type {\n",
       "        vertical-align: middle;\n",
       "    }\n",
       "\n",
       "    .dataframe tbody tr th {\n",
       "        vertical-align: top;\n",
       "    }\n",
       "\n",
       "    .dataframe thead th {\n",
       "        text-align: right;\n",
       "    }\n",
       "</style>\n",
       "<table border=\"1\" class=\"dataframe\">\n",
       "  <thead>\n",
       "    <tr style=\"text-align: right;\">\n",
       "      <th></th>\n",
       "      <th>f0</th>\n",
       "      <th>f1</th>\n",
       "      <th>f2</th>\n",
       "    </tr>\n",
       "  </thead>\n",
       "  <tbody>\n",
       "    <tr>\n",
       "      <td>f0</td>\n",
       "      <td>1.000000</td>\n",
       "      <td>0.000528</td>\n",
       "      <td>-0.000448</td>\n",
       "    </tr>\n",
       "    <tr>\n",
       "      <td>f1</td>\n",
       "      <td>0.000528</td>\n",
       "      <td>1.000000</td>\n",
       "      <td>0.000779</td>\n",
       "    </tr>\n",
       "    <tr>\n",
       "      <td>f2</td>\n",
       "      <td>-0.000448</td>\n",
       "      <td>0.000779</td>\n",
       "      <td>1.000000</td>\n",
       "    </tr>\n",
       "  </tbody>\n",
       "</table>\n",
       "</div>"
      ],
      "text/plain": [
       "          f0        f1        f2\n",
       "f0  1.000000  0.000528 -0.000448\n",
       "f1  0.000528  1.000000  0.000779\n",
       "f2 -0.000448  0.000779  1.000000"
      ]
     },
     "metadata": {},
     "output_type": "display_data"
    },
    {
     "name": "stdout",
     "output_type": "stream",
     "text": [
      "\n",
      "Кол-во дубликатов: 0\n"
     ]
    }
   ],
   "source": [
    "#Загрузка данных и первичный анализ\n",
    "df_0 = pd.read_csv('/datasets/geo_data_0.csv')\n",
    "df_1 = pd.read_csv('/datasets/geo_data_1.csv')\n",
    "df_2 = pd.read_csv('/datasets/geo_data_2.csv')\n",
    "\n",
    "display(df_0.describe())\n",
    "\n",
    "display(df_1.describe())\n",
    "\n",
    "display(df_2.describe())\n",
    "\n",
    "# Проверка на корреляцию\n",
    "display(df_0[['f0','f1','f2']].corr())\n",
    "\n",
    "display(df_1[['f0','f1','f2']].corr())\n",
    "\n",
    "display(df_2[['f0','f1','f2']].corr())\n",
    "\n",
    "#Сборка данных в 1\n",
    "data = pd.concat([df_0, df_1, df_2])\n",
    "data = data.reset_index()\n",
    "\n",
    "print()\n",
    "print('Кол-во дубликатов:',data.duplicated().sum())"
   ]
  },
  {
   "cell_type": "markdown",
   "metadata": {
    "cellId": "mlseq0fw1vnf3p72k80vgv"
   },
   "source": [
    "**Вывод:** \n",
    "1. Загрузили данные и все необходимые библиотеки\n",
    "2. Проверили данные на наличие дубликатов и корреляцию. Дубликаты и пропукси - отсутствуют. В df_0, признак f1 имеет сильную отрицательную корреляцию, но так как мы не хнаем, что это за данные, удалять признаки мы не будем."
   ]
  },
  {
   "cell_type": "markdown",
   "metadata": {
    "cellId": "2k9qn8srmscn0jtda8mk78"
   },
   "source": [
    "# Обучение и проверка модели"
   ]
  },
  {
   "cell_type": "code",
   "execution_count": 80,
   "metadata": {},
   "outputs": [
    {
     "name": "stdout",
     "output_type": "stream",
     "text": [
      "RMSE модели линейной регрессии на валидационной выборке в Pегионе 0 : 37.5794217150813\n",
      "Средний запас предсказанного сырья: 92.59256778438038\n",
      "RMSE модели линейной регрессии на валидационной выборке в Pегионе 1 : 0.893099286775616\n",
      "Средний запас предсказанного сырья: 68.728546895446\n",
      "RMSE модели линейной регрессии на валидационной выборке в Pегионе 2 : 40.02970873393434\n",
      "Средний запас предсказанного сырья: 94.96504596800489\n"
     ]
    }
   ],
   "source": [
    "array_name = ['0',\n",
    "              '1',\n",
    "              '2']\n",
    "\n",
    "array_frame = [df_0,\n",
    "              df_1,\n",
    "              df_2]\n",
    "\n",
    "data_dict = {'models':{},'features_target_valid':{}}\n",
    "\n",
    "for frame, name in zip(array_frame,array_name):\n",
    "    target = frame['product']\n",
    "    features = frame.drop(['product','id'] , axis=1)\n",
    "    features_train, features_valid, target_train, target_valid = train_test_split(features, target, test_size=0.25, random_state=12345)\n",
    "    model = LinearRegression()\n",
    "    model.fit(features_train, target_train) \n",
    "    predictions_valid = model.predict(features_valid) \n",
    "    rmse = mean_squared_error(target_valid, predictions_valid)**0.5 \n",
    "    print('RMSE модели линейной регрессии на валидационной выборке в Pегионе',name,':', rmse)\n",
    "    print('Средний запас предсказанного сырья:',predictions_valid.mean())\n",
    "    \n",
    "    # Создание датафрейма по Valid\n",
    "    data_dict['models'][name] = model\n",
    "    data_dict['features_target_valid'][name] = (features_valid,target_valid)\n",
    "    \n",
    "model_0 = data_dict['models']['0']\n",
    "model_1 = data_dict['models']['1']\n",
    "model_2 = data_dict['models']['2']\n",
    "    \n",
    "predicted_0 = model_0.predict(data_dict['features_target_valid']['0'][0])\n",
    "predicted_1 = model_1.predict(data_dict['features_target_valid']['1'][0])\n",
    "predicted_2 = model_2.predict(data_dict['features_target_valid']['2'][0])\n"
   ]
  },
  {
   "cell_type": "markdown",
   "metadata": {
    "cellId": "na4jwzmgy8ficz79hp14"
   },
   "source": [
    "**Вывод:** \n",
    "Оценим регионы от самого лучшего к хучшему:\n",
    "1. В регионе d_0 RMSE - самая маленькая среди трех (0.37), по среднему объему запасов сырья регион на втором месте(92).\n",
    "2. В регионе d_2 RMSE = 0.40, средний запас сырья = 94.\n",
    "3. В регионе d_1 RMSE высокая = 0.80, средний запас сырья = 68\n",
    "\n",
    "*Итог:* нам больше всего подходят 0 и 2 регионы, так как у них самые лучшие показатели."
   ]
  },
  {
   "cell_type": "markdown",
   "metadata": {
    "cellId": "nq2x8s4o6lmg60fhb4ixeq"
   },
   "source": [
    "# Подготовка к расчёту прибыли"
   ]
  },
  {
   "cell_type": "code",
   "execution_count": 81,
   "metadata": {
    "cellId": "1ibx980kgbckmlkifvr0r"
   },
   "outputs": [
    {
     "name": "stdout",
     "output_type": "stream",
     "text": [
      "Достаточный объём сырья для безубыточной разработки скважины: 0.111\n",
      "Средний запас в скважине в Регионе 0: 92.5\n",
      "Средний запас в скважине в Регионе 1: 68.825\n",
      "Средний запас в скважине в Регионе 2: 95.0\n"
     ]
    }
   ],
   "source": [
    "BUDGET = 10*(10**9)\n",
    "MAX_WELLS = 500\n",
    "DEV_WELLS = 200\n",
    "REV_BARREL = 450000 \n",
    "LOSS_MAX = 0.025\n",
    "BARREL_PROD_VOL = (BUDGET/(REV_BARREL*1000))/(DEV_WELLS)\n",
    "\n",
    "print(\"Достаточный объём сырья для безубыточной разработки скважины:\",round(BARREL_PROD_VOL,3))\n",
    "print(\"Средний запас в скважине в Регионе 0:\",round(df_0['product'].mean(),3))\n",
    "print(\"Средний запас в скважине в Регионе 1:\",round(df_1['product'].mean(),3))\n",
    "print(\"Средний запас в скважине в Регионе 2:\",round(df_2['product'].mean(),3))"
   ]
  },
  {
   "cell_type": "markdown",
   "metadata": {
    "cellId": "rusfxn8gusivkmcifsjpb"
   },
   "source": [
    "**Вывод:**\n",
    "1. Выписали все необходимые переменные, посчитали достаточный объем сырья для безубыточной разработки скважины = 111.\n",
    "2. Средний запас в скважине в регионах (в тысячах баррелей): 92 (d_0), 69 (d_1), 95 (d_2)\n",
    "\n",
    "**Итог** Средний запас во всех регионах не превышает минимальный объем сырья для разработки скважин."
   ]
  },
  {
   "cell_type": "markdown",
   "metadata": {
    "cellId": "x0p90cfevs9ap9kc4u96z"
   },
   "source": [
    "# Расчёт прибыли и рисков "
   ]
  },
  {
   "cell_type": "code",
   "execution_count": 82,
   "metadata": {
    "cellId": "6tnx4xi2vxlk4z4wjh4y"
   },
   "outputs": [
    {
     "name": "stdout",
     "output_type": "stream",
     "text": [
      "Прибыль в Pегионе 0: 3320826043\n",
      "Прибыль в Pегионе 1: 2415086697\n",
      "Прибыль в Pегионе 2: 2710349964\n"
     ]
    }
   ],
   "source": [
    "def profit(target, predicted):\n",
    "    probs_sorted = pd.Series(predicted).sort_values(ascending=False)[:DEV_WELLS]\n",
    "    true_target_sort = (target\n",
    "                         .reset_index(drop = True)[probs_sorted.index])\n",
    "    sum_true = true_target_sort.sum() \n",
    "    return round((sum_true * REV_BARREL) - BUDGET)\n",
    "    \n",
    "print(\"Прибыль в Pегионе 0:\",profit(data_dict['features_target_valid']['0'][1],\n",
    "                                                               predicted_0))\n",
    "print(\"Прибыль в Pегионе 1:\",profit(data_dict['features_target_valid']['1'][1],\n",
    "                                                               predicted_1))\n",
    "print(\"Прибыль в Pегионе 2:\",profit(data_dict['features_target_valid']['2'][1],\n",
    "                                                               predicted_2))\n"
   ]
  },
  {
   "cell_type": "markdown",
   "metadata": {
    "cellId": "5sx64bmb8gm52u5leav9kb"
   },
   "source": [
    "**Вывод:**\n",
    "1. Самый прибыльный регион - регион 2.\n",
    "2. На втором месте - регион 0.\n",
    "3. На третьем месте - регион 1.\n"
   ]
  },
  {
   "cell_type": "code",
   "execution_count": 84,
   "metadata": {
    "cellId": "lnb2nav15vb44w5wf6w6ve"
   },
   "outputs": [
    {
     "name": "stdout",
     "output_type": "stream",
     "text": [
      "\n",
      "Регион 0:\n",
      "Средняя прибыль = 396164984.807\n",
      "Риск = 6.9 %\n",
      "95% Confidence interval = (-111215545.6, 909766941.5)\n",
      "\n",
      "Регион 1:\n",
      "Средняя прибыль = 461155817.281\n",
      "Риск = 0.7000000000000001 %\n",
      "95% Confidence interval = (78050810.35, 862952060.0)\n",
      "\n",
      "Регион 2:\n",
      "Средняя прибыль = 392950475.171\n",
      "Риск = 6.5 %\n",
      "95% Confidence interval = (-112227625.75, 934562914.7)\n"
     ]
    }
   ],
   "source": [
    "state = np.random.RandomState(12345)\n",
    "def bootstrap(target,pred):\n",
    "    samples = []\n",
    "    for i in range(1000):\n",
    "        sample = pd.Series(pred).sample(n = 500, replace=True, random_state=state)\n",
    "        samples.append(profit(target,sample))\n",
    "    samples = pd.Series(samples)\n",
    "    print(\"Средняя прибыль =\",samples.mean())\n",
    "    print('Риск =',(samples < 0).mean()*100,\"%\")\n",
    "    lower = samples.quantile(0.025)\n",
    "    upper = samples.quantile(0.975)\n",
    "    return round(lower,2), round(upper,2)\n",
    "print()\n",
    "print('Регион 0:')\n",
    "print('95% Confidence interval =',bootstrap(data_dict['features_target_valid']['0'][1],pd.Series(predicted_0)))\n",
    "print()\n",
    "print('Регион 1:')\n",
    "print('95% Confidence interval =',bootstrap(data_dict['features_target_valid']['1'][1],pd.Series(predicted_1)))\n",
    "print()\n",
    "print('Регион 2:')\n",
    "print('95% Confidence interval =',bootstrap(data_dict['features_target_valid']['2'][1],pd.Series(predicted_2)))"
   ]
  },
  {
   "cell_type": "markdown",
   "metadata": {},
   "source": [
    "**Вывод:** После проведения бутстрэппинга, выяснилось:\n",
    "1. Из 3х регионов самая высокая средняя прибыль в Регионе 1.\n",
    "2. Самый низкий экономический  риск найден в Регионе 1.\n",
    "3. В регионе 1 самый маленький confidence interval, так что вероятность наличия истинного среднего значения мала."
   ]
  },
  {
   "cell_type": "markdown",
   "metadata": {},
   "source": [
    "# Общий вывод"
   ]
  },
  {
   "cell_type": "markdown",
   "metadata": {},
   "source": [
    "Проведя исследование по имеющимся скважинам можно сделать следующие выводы:\n",
    "\n",
    "1. По условию задачи, по требованиям максимальной вероятности убытков в 2.5% нам подходит Регион 1.\n",
    "   а) Самая маленькая вероятность рисков найдена в регионе 1 (0.7%)\n",
    "   б) На втором месте по рискам - регион 2 (6.5%)\n",
    "   в) Самые высокие экономические риски в регионе 0 (6.9%)\n",
    "2. В Регионе 1 также самая высокая средняя прибыль: 461155817 рублей\n",
    "3. Однако, по общей прибыли в регионах:\n",
    "   а) Регион 0 занимает 1 место 3320826043 руб\n",
    "   б) Регион 2 занимает 2 место 2710349964 руб\n",
    "   в) Регион 1 занимает 3 место 2415086697 руб\n",
    "   Что говорит о возможных выбросах в данных.\n",
    "   \n",
    "Итог: Инвестировать стоит в Регион 1\n",
    "\n",
    "Рекоммендации: Возможно следует провести дополнительный анализ по региону 1 и проверить его на выбросы в данных.\n"
   ]
  }
 ],
 "metadata": {
  "ExecuteTimeLog": [
   {
    "duration": 1601,
    "start_time": "2021-12-14T09:04:17.221Z"
   },
   {
    "duration": 1028,
    "start_time": "2021-12-14T09:04:18.825Z"
   },
   {
    "duration": -907,
    "start_time": "2021-12-14T09:04:20.763Z"
   },
   {
    "duration": -909,
    "start_time": "2021-12-14T09:04:20.766Z"
   },
   {
    "duration": -919,
    "start_time": "2021-12-14T09:04:20.777Z"
   },
   {
    "duration": -946,
    "start_time": "2021-12-14T09:04:20.806Z"
   },
   {
    "duration": -949,
    "start_time": "2021-12-14T09:04:20.810Z"
   },
   {
    "duration": -950,
    "start_time": "2021-12-14T09:04:20.812Z"
   },
   {
    "duration": -952,
    "start_time": "2021-12-14T09:04:20.816Z"
   },
   {
    "duration": -953,
    "start_time": "2021-12-14T09:04:20.818Z"
   },
   {
    "duration": -953,
    "start_time": "2021-12-14T09:04:20.820Z"
   },
   {
    "duration": 5,
    "start_time": "2021-12-14T09:47:13.631Z"
   },
   {
    "duration": 883,
    "start_time": "2021-12-14T09:47:13.639Z"
   },
   {
    "duration": -872,
    "start_time": "2021-12-14T09:47:15.397Z"
   },
   {
    "duration": -873,
    "start_time": "2021-12-14T09:47:15.400Z"
   },
   {
    "duration": -938,
    "start_time": "2021-12-14T09:47:15.466Z"
   },
   {
    "duration": -938,
    "start_time": "2021-12-14T09:47:15.468Z"
   },
   {
    "duration": -939,
    "start_time": "2021-12-14T09:47:15.470Z"
   },
   {
    "duration": -939,
    "start_time": "2021-12-14T09:47:15.472Z"
   },
   {
    "duration": -939,
    "start_time": "2021-12-14T09:47:15.474Z"
   },
   {
    "duration": -941,
    "start_time": "2021-12-14T09:47:15.477Z"
   },
   {
    "duration": -943,
    "start_time": "2021-12-14T09:47:15.481Z"
   },
   {
    "duration": 1251,
    "start_time": "2021-12-14T09:50:32.525Z"
   },
   {
    "duration": 1240,
    "start_time": "2021-12-14T09:50:44.627Z"
   },
   {
    "duration": 972,
    "start_time": "2021-12-14T09:55:16.103Z"
   },
   {
    "duration": 923,
    "start_time": "2021-12-14T09:55:32.988Z"
   },
   {
    "duration": 1411,
    "start_time": "2021-12-14T10:00:02.062Z"
   },
   {
    "duration": 885,
    "start_time": "2021-12-14T10:01:18.123Z"
   },
   {
    "duration": 982,
    "start_time": "2021-12-14T10:02:07.148Z"
   },
   {
    "duration": 1086,
    "start_time": "2021-12-14T10:04:11.575Z"
   },
   {
    "duration": 1005,
    "start_time": "2021-12-14T10:04:41.740Z"
   },
   {
    "duration": 884,
    "start_time": "2021-12-14T10:04:52.853Z"
   },
   {
    "duration": 1232,
    "start_time": "2021-12-14T10:05:13.628Z"
   },
   {
    "duration": 1070,
    "start_time": "2021-12-14T10:06:26.289Z"
   },
   {
    "duration": 1215,
    "start_time": "2021-12-14T10:06:42.646Z"
   },
   {
    "duration": 6,
    "start_time": "2021-12-14T10:07:02.574Z"
   },
   {
    "duration": 1502,
    "start_time": "2021-12-14T10:07:02.583Z"
   },
   {
    "duration": 28,
    "start_time": "2021-12-14T10:07:04.089Z"
   },
   {
    "duration": 108,
    "start_time": "2021-12-14T10:07:04.120Z"
   },
   {
    "duration": 102,
    "start_time": "2021-12-14T10:07:04.231Z"
   },
   {
    "duration": 83,
    "start_time": "2021-12-14T10:07:04.336Z"
   },
   {
    "duration": 105,
    "start_time": "2021-12-14T10:07:04.427Z"
   },
   {
    "duration": 256,
    "start_time": "2021-12-14T10:07:04.536Z"
   },
   {
    "duration": -880,
    "start_time": "2021-12-14T10:07:05.675Z"
   },
   {
    "duration": -880,
    "start_time": "2021-12-14T10:07:05.676Z"
   },
   {
    "duration": -880,
    "start_time": "2021-12-14T10:07:05.678Z"
   },
   {
    "duration": 4,
    "start_time": "2021-12-14T10:07:19.511Z"
   },
   {
    "duration": 1211,
    "start_time": "2021-12-14T10:07:19.519Z"
   },
   {
    "duration": 20,
    "start_time": "2021-12-14T10:07:20.733Z"
   },
   {
    "duration": 73,
    "start_time": "2021-12-14T10:07:20.756Z"
   },
   {
    "duration": 45,
    "start_time": "2021-12-14T10:07:20.917Z"
   },
   {
    "duration": 60,
    "start_time": "2021-12-14T10:07:20.965Z"
   },
   {
    "duration": 104,
    "start_time": "2021-12-14T10:07:21.030Z"
   },
   {
    "duration": 81,
    "start_time": "2021-12-14T10:07:21.138Z"
   },
   {
    "duration": 292,
    "start_time": "2021-12-14T10:07:21.224Z"
   },
   {
    "duration": -863,
    "start_time": "2021-12-14T10:07:22.382Z"
   },
   {
    "duration": -891,
    "start_time": "2021-12-14T10:07:22.413Z"
   },
   {
    "duration": 7,
    "start_time": "2021-12-14T10:07:36.800Z"
   },
   {
    "duration": 1186,
    "start_time": "2021-12-14T10:07:36.810Z"
   },
   {
    "duration": 32,
    "start_time": "2021-12-14T10:07:37.999Z"
   },
   {
    "duration": 23,
    "start_time": "2021-12-14T10:07:38.035Z"
   },
   {
    "duration": 107,
    "start_time": "2021-12-14T10:07:38.119Z"
   },
   {
    "duration": 19,
    "start_time": "2021-12-14T10:07:38.228Z"
   },
   {
    "duration": 112,
    "start_time": "2021-12-14T10:07:38.318Z"
   },
   {
    "duration": 21,
    "start_time": "2021-12-14T10:07:38.435Z"
   },
   {
    "duration": 100,
    "start_time": "2021-12-14T10:07:38.519Z"
   },
   {
    "duration": 48,
    "start_time": "2021-12-14T10:07:38.623Z"
   },
   {
    "duration": 267,
    "start_time": "2021-12-14T10:07:38.674Z"
   },
   {
    "duration": 577,
    "start_time": "2021-12-14T10:09:01.201Z"
   },
   {
    "duration": 8866,
    "start_time": "2021-12-14T10:09:14.327Z"
   },
   {
    "duration": 8805,
    "start_time": "2021-12-14T10:10:41.549Z"
   },
   {
    "duration": 9192,
    "start_time": "2021-12-14T10:13:04.970Z"
   },
   {
    "duration": 9687,
    "start_time": "2021-12-14T10:13:35.057Z"
   },
   {
    "duration": 12258,
    "start_time": "2021-12-14T10:14:00.081Z"
   },
   {
    "duration": 456,
    "start_time": "2021-12-14T10:15:01.239Z"
   },
   {
    "duration": 14953,
    "start_time": "2021-12-14T10:15:14.205Z"
   },
   {
    "duration": 9057,
    "start_time": "2021-12-14T10:15:43.549Z"
   },
   {
    "duration": 8798,
    "start_time": "2021-12-14T10:16:12.911Z"
   },
   {
    "duration": 1300,
    "start_time": "2021-12-14T22:04:06.135Z"
   },
   {
    "duration": 677,
    "start_time": "2021-12-14T22:04:07.437Z"
   },
   {
    "duration": 13,
    "start_time": "2021-12-14T22:04:08.116Z"
   },
   {
    "duration": 76,
    "start_time": "2021-12-14T22:04:08.131Z"
   },
   {
    "duration": 103,
    "start_time": "2021-12-14T22:04:08.210Z"
   },
   {
    "duration": 13,
    "start_time": "2021-12-14T22:04:08.314Z"
   },
   {
    "duration": 185,
    "start_time": "2021-12-14T22:04:08.329Z"
   },
   {
    "duration": 15,
    "start_time": "2021-12-14T22:04:08.517Z"
   },
   {
    "duration": 79,
    "start_time": "2021-12-14T22:04:08.535Z"
   },
   {
    "duration": 113,
    "start_time": "2021-12-14T22:04:08.616Z"
   },
   {
    "duration": 5373,
    "start_time": "2021-12-14T22:04:08.731Z"
   },
   {
    "duration": 4,
    "start_time": "2021-12-14T22:12:17.226Z"
   },
   {
    "duration": 712,
    "start_time": "2021-12-14T22:12:17.231Z"
   },
   {
    "duration": 365,
    "start_time": "2021-12-14T22:12:17.945Z"
   },
   {
    "duration": 101,
    "start_time": "2021-12-14T22:12:18.312Z"
   },
   {
    "duration": 56,
    "start_time": "2021-12-14T22:12:18.415Z"
   },
   {
    "duration": 16465,
    "start_time": "2021-12-14T22:12:18.473Z"
   },
   {
    "duration": 543,
    "start_time": "2021-12-14T22:13:09.812Z"
   },
   {
    "duration": 69,
    "start_time": "2021-12-14T22:13:15.801Z"
   },
   {
    "duration": 493,
    "start_time": "2021-12-14T22:13:42.395Z"
   },
   {
    "duration": 359,
    "start_time": "2021-12-14T22:14:54.482Z"
   },
   {
    "duration": 55,
    "start_time": "2021-12-14T22:15:03.819Z"
   },
   {
    "duration": 22,
    "start_time": "2021-12-14T22:15:50.827Z"
   },
   {
    "duration": 57,
    "start_time": "2021-12-14T22:15:57.643Z"
   },
   {
    "duration": 5590,
    "start_time": "2021-12-14T22:16:10.897Z"
   },
   {
    "duration": 3,
    "start_time": "2021-12-14T22:16:35.474Z"
   },
   {
    "duration": 746,
    "start_time": "2021-12-14T22:16:35.479Z"
   },
   {
    "duration": 280,
    "start_time": "2021-12-14T22:16:36.227Z"
   },
   {
    "duration": 96,
    "start_time": "2021-12-14T22:16:36.511Z"
   },
   {
    "duration": 25,
    "start_time": "2021-12-14T22:16:36.609Z"
   },
   {
    "duration": 5635,
    "start_time": "2021-12-14T22:16:36.636Z"
   },
   {
    "duration": 1094,
    "start_time": "2021-12-15T09:43:03.863Z"
   },
   {
    "duration": 693,
    "start_time": "2021-12-15T09:43:04.959Z"
   },
   {
    "duration": 352,
    "start_time": "2021-12-15T09:43:05.654Z"
   },
   {
    "duration": 95,
    "start_time": "2021-12-15T09:43:06.008Z"
   },
   {
    "duration": 103,
    "start_time": "2021-12-15T09:43:06.107Z"
   },
   {
    "duration": 5138,
    "start_time": "2021-12-15T09:43:06.212Z"
   },
   {
    "duration": 5120,
    "start_time": "2021-12-15T09:43:53.899Z"
   },
   {
    "duration": 5207,
    "start_time": "2021-12-15T09:44:35.932Z"
   },
   {
    "duration": 4984,
    "start_time": "2021-12-15T09:51:12.772Z"
   },
   {
    "duration": 59,
    "start_time": "2021-12-15T09:51:29.723Z"
   },
   {
    "duration": 67,
    "start_time": "2021-12-15T09:51:35.881Z"
   },
   {
    "duration": 421,
    "start_time": "2021-12-15T09:51:42.118Z"
   },
   {
    "duration": 326,
    "start_time": "2021-12-15T09:51:58.192Z"
   },
   {
    "duration": 4995,
    "start_time": "2021-12-15T09:53:21.363Z"
   },
   {
    "duration": 4980,
    "start_time": "2021-12-15T09:55:07.363Z"
   },
   {
    "duration": 5174,
    "start_time": "2021-12-15T09:55:27.879Z"
   },
   {
    "duration": 5024,
    "start_time": "2021-12-15T09:55:50.850Z"
   },
   {
    "duration": 4982,
    "start_time": "2021-12-15T09:56:08.473Z"
   },
   {
    "duration": 2224,
    "start_time": "2021-12-15T09:57:10.187Z"
   },
   {
    "duration": 5106,
    "start_time": "2021-12-15T09:58:11.669Z"
   },
   {
    "duration": 5300,
    "start_time": "2021-12-15T09:58:28.311Z"
   },
   {
    "duration": 5302,
    "start_time": "2021-12-15T09:59:20.962Z"
   },
   {
    "duration": 5231,
    "start_time": "2021-12-15T10:00:22.132Z"
   },
   {
    "duration": 316,
    "start_time": "2021-12-15T10:00:46.849Z"
   },
   {
    "duration": 367,
    "start_time": "2021-12-15T10:01:03.629Z"
   },
   {
    "duration": 5000,
    "start_time": "2021-12-15T10:02:51.199Z"
   },
   {
    "duration": 5061,
    "start_time": "2021-12-15T10:03:15.931Z"
   },
   {
    "duration": 65,
    "start_time": "2021-12-15T10:05:36.918Z"
   },
   {
    "duration": 5003,
    "start_time": "2021-12-15T10:05:43.662Z"
   },
   {
    "duration": 5109,
    "start_time": "2021-12-15T10:05:56.511Z"
   },
   {
    "duration": 5107,
    "start_time": "2021-12-15T10:06:41.908Z"
   },
   {
    "duration": 5156,
    "start_time": "2021-12-15T10:06:59.613Z"
   },
   {
    "duration": 5119,
    "start_time": "2021-12-15T10:07:53.787Z"
   },
   {
    "duration": 4977,
    "start_time": "2021-12-15T10:08:09.988Z"
   },
   {
    "duration": 5000,
    "start_time": "2021-12-15T10:09:03.108Z"
   },
   {
    "duration": 256,
    "start_time": "2021-12-15T10:10:06.732Z"
   },
   {
    "duration": 1986,
    "start_time": "2021-12-15T10:10:13.964Z"
   },
   {
    "duration": 5105,
    "start_time": "2021-12-15T10:10:26.096Z"
   },
   {
    "duration": 5026,
    "start_time": "2021-12-15T10:10:59.185Z"
   },
   {
    "duration": 4895,
    "start_time": "2021-12-15T10:11:11.582Z"
   },
   {
    "duration": 2000,
    "start_time": "2021-12-15T10:12:27.582Z"
   },
   {
    "duration": 5029,
    "start_time": "2021-12-15T10:12:36.904Z"
   },
   {
    "duration": 5108,
    "start_time": "2021-12-15T10:14:07.755Z"
   },
   {
    "duration": 5081,
    "start_time": "2021-12-15T10:14:28.642Z"
   },
   {
    "duration": 5069,
    "start_time": "2021-12-15T10:16:30.585Z"
   },
   {
    "duration": 5012,
    "start_time": "2021-12-15T10:17:09.972Z"
   },
   {
    "duration": 5127,
    "start_time": "2021-12-15T10:17:24.479Z"
   },
   {
    "duration": 1981,
    "start_time": "2021-12-15T10:18:11.070Z"
   },
   {
    "duration": 2062,
    "start_time": "2021-12-15T10:18:20.653Z"
   },
   {
    "duration": 4977,
    "start_time": "2021-12-15T10:21:11.475Z"
   },
   {
    "duration": 176,
    "start_time": "2021-12-15T10:22:55.864Z"
   },
   {
    "duration": 4966,
    "start_time": "2021-12-15T10:23:41.250Z"
   },
   {
    "duration": 70,
    "start_time": "2021-12-15T10:24:21.821Z"
   },
   {
    "duration": 59,
    "start_time": "2021-12-15T10:24:39.077Z"
   },
   {
    "duration": 310,
    "start_time": "2021-12-15T10:25:03.527Z"
   },
   {
    "duration": 183,
    "start_time": "2021-12-15T10:27:20.241Z"
   },
   {
    "duration": 310,
    "start_time": "2021-12-15T10:29:20.243Z"
   },
   {
    "duration": 333,
    "start_time": "2021-12-15T10:29:37.410Z"
   },
   {
    "duration": 5011,
    "start_time": "2021-12-15T10:29:49.328Z"
   },
   {
    "duration": 59,
    "start_time": "2021-12-15T10:32:40.405Z"
   },
   {
    "duration": 205,
    "start_time": "2021-12-15T10:32:46.558Z"
   },
   {
    "duration": 316,
    "start_time": "2021-12-15T10:33:05.852Z"
   },
   {
    "duration": 5101,
    "start_time": "2021-12-15T10:33:16.274Z"
   },
   {
    "duration": 5076,
    "start_time": "2021-12-15T10:34:09.565Z"
   },
   {
    "duration": 2660,
    "start_time": "2021-12-15T10:37:15.225Z"
   },
   {
    "duration": 191,
    "start_time": "2021-12-15T10:37:48.583Z"
   },
   {
    "duration": 2000,
    "start_time": "2021-12-15T10:39:14.992Z"
   },
   {
    "duration": 5505,
    "start_time": "2021-12-15T10:39:26.205Z"
   },
   {
    "duration": 5075,
    "start_time": "2021-12-15T10:43:30.595Z"
   },
   {
    "duration": 65,
    "start_time": "2021-12-15T10:44:45.215Z"
   },
   {
    "duration": 5090,
    "start_time": "2021-12-15T10:44:50.937Z"
   },
   {
    "duration": 5107,
    "start_time": "2021-12-15T10:45:22.111Z"
   },
   {
    "duration": 5095,
    "start_time": "2021-12-15T10:47:16.943Z"
   },
   {
    "duration": 5073,
    "start_time": "2021-12-15T10:47:40.953Z"
   },
   {
    "duration": 5090,
    "start_time": "2021-12-15T10:47:46.933Z"
   },
   {
    "duration": 5041,
    "start_time": "2021-12-15T10:48:03.360Z"
   },
   {
    "duration": 5144,
    "start_time": "2021-12-15T10:53:10.663Z"
   },
   {
    "duration": 4995,
    "start_time": "2021-12-15T10:54:00.222Z"
   },
   {
    "duration": 5042,
    "start_time": "2021-12-15T10:54:12.824Z"
   },
   {
    "duration": 5160,
    "start_time": "2021-12-15T10:54:55.269Z"
   },
   {
    "duration": 5116,
    "start_time": "2021-12-15T10:56:03.695Z"
   },
   {
    "duration": 5119,
    "start_time": "2021-12-15T10:56:31.053Z"
   },
   {
    "duration": 3,
    "start_time": "2021-12-15T10:58:24.321Z"
   },
   {
    "duration": 671,
    "start_time": "2021-12-15T10:58:24.326Z"
   },
   {
    "duration": 395,
    "start_time": "2021-12-15T10:58:25.000Z"
   },
   {
    "duration": 103,
    "start_time": "2021-12-15T10:58:25.397Z"
   },
   {
    "duration": 26,
    "start_time": "2021-12-15T10:58:25.593Z"
   },
   {
    "duration": 5332,
    "start_time": "2021-12-15T10:58:25.621Z"
   },
   {
    "duration": 102,
    "start_time": "2021-12-15T10:58:59.004Z"
   },
   {
    "duration": 4993,
    "start_time": "2021-12-15T10:59:03.817Z"
   },
   {
    "duration": 227,
    "start_time": "2021-12-15T11:06:37.646Z"
   },
   {
    "duration": 5269,
    "start_time": "2021-12-15T11:07:05.789Z"
   },
   {
    "duration": 5376,
    "start_time": "2021-12-15T11:07:43.583Z"
   },
   {
    "duration": 5297,
    "start_time": "2021-12-15T11:09:27.452Z"
   },
   {
    "duration": 5062,
    "start_time": "2021-12-15T11:09:54.340Z"
   },
   {
    "duration": 5014,
    "start_time": "2021-12-15T11:10:39.701Z"
   },
   {
    "duration": 5073,
    "start_time": "2021-12-15T11:11:57.854Z"
   },
   {
    "duration": 5073,
    "start_time": "2021-12-15T11:12:26.184Z"
   },
   {
    "duration": 5263,
    "start_time": "2021-12-15T11:14:16.273Z"
   },
   {
    "duration": 5040,
    "start_time": "2021-12-15T11:14:41.362Z"
   },
   {
    "duration": 5258,
    "start_time": "2021-12-15T11:15:39.093Z"
   },
   {
    "duration": 5056,
    "start_time": "2021-12-15T11:15:54.481Z"
   },
   {
    "duration": 3,
    "start_time": "2021-12-15T12:10:12.995Z"
   },
   {
    "duration": 679,
    "start_time": "2021-12-15T12:10:13.032Z"
   },
   {
    "duration": 384,
    "start_time": "2021-12-15T12:10:13.713Z"
   },
   {
    "duration": 96,
    "start_time": "2021-12-15T12:10:14.100Z"
   },
   {
    "duration": 329,
    "start_time": "2021-12-15T12:10:14.199Z"
   },
   {
    "duration": -792,
    "start_time": "2021-12-15T12:10:15.321Z"
   },
   {
    "duration": 23,
    "start_time": "2021-12-15T12:10:28.864Z"
   },
   {
    "duration": 376,
    "start_time": "2021-12-15T12:13:17.720Z"
   },
   {
    "duration": 251,
    "start_time": "2021-12-15T12:13:40.849Z"
   },
   {
    "duration": 63,
    "start_time": "2021-12-15T12:14:09.069Z"
   },
   {
    "duration": 304,
    "start_time": "2021-12-15T12:14:38.393Z"
   },
   {
    "duration": 502,
    "start_time": "2021-12-15T12:15:18.690Z"
   },
   {
    "duration": 387,
    "start_time": "2021-12-15T12:15:30.608Z"
   },
   {
    "duration": 407,
    "start_time": "2021-12-15T12:15:50.189Z"
   },
   {
    "duration": 389,
    "start_time": "2021-12-15T12:16:17.007Z"
   },
   {
    "duration": 398,
    "start_time": "2021-12-15T12:21:58.100Z"
   },
   {
    "duration": 423,
    "start_time": "2021-12-15T12:23:37.369Z"
   },
   {
    "duration": 509,
    "start_time": "2021-12-15T12:28:38.784Z"
   },
   {
    "duration": 22,
    "start_time": "2021-12-15T12:29:34.597Z"
   },
   {
    "duration": 411,
    "start_time": "2021-12-15T12:30:43.251Z"
   },
   {
    "duration": 57,
    "start_time": "2021-12-15T12:30:53.012Z"
   },
   {
    "duration": 605,
    "start_time": "2021-12-15T12:30:58.486Z"
   },
   {
    "duration": 4,
    "start_time": "2021-12-15T12:33:57.167Z"
   },
   {
    "duration": 685,
    "start_time": "2021-12-15T12:33:57.173Z"
   },
   {
    "duration": 339,
    "start_time": "2021-12-15T12:33:57.861Z"
   },
   {
    "duration": 97,
    "start_time": "2021-12-15T12:33:58.202Z"
   },
   {
    "duration": 524,
    "start_time": "2021-12-15T12:33:58.302Z"
   },
   {
    "duration": -784,
    "start_time": "2021-12-15T12:33:59.612Z"
   },
   {
    "duration": 3,
    "start_time": "2021-12-15T12:34:12.180Z"
   },
   {
    "duration": 673,
    "start_time": "2021-12-15T12:34:12.185Z"
   },
   {
    "duration": 344,
    "start_time": "2021-12-15T12:34:12.860Z"
   },
   {
    "duration": 95,
    "start_time": "2021-12-15T12:34:13.206Z"
   },
   {
    "duration": 501,
    "start_time": "2021-12-15T12:34:13.392Z"
   },
   {
    "duration": 559,
    "start_time": "2021-12-15T12:34:13.895Z"
   },
   {
    "duration": 3,
    "start_time": "2021-12-15T12:35:08.079Z"
   },
   {
    "duration": 707,
    "start_time": "2021-12-15T12:35:08.084Z"
   },
   {
    "duration": 403,
    "start_time": "2021-12-15T12:35:08.793Z"
   },
   {
    "duration": 100,
    "start_time": "2021-12-15T12:35:09.199Z"
   },
   {
    "duration": 503,
    "start_time": "2021-12-15T12:35:09.391Z"
   },
   {
    "duration": 344,
    "start_time": "2021-12-15T12:35:09.896Z"
   },
   {
    "duration": 1529,
    "start_time": "2021-12-16T09:11:32.934Z"
   },
   {
    "duration": 5948,
    "start_time": "2021-12-16T09:11:34.466Z"
   },
   {
    "duration": 449,
    "start_time": "2021-12-16T09:11:40.417Z"
   },
   {
    "duration": 96,
    "start_time": "2021-12-16T09:11:40.870Z"
   },
   {
    "duration": 669,
    "start_time": "2021-12-16T09:11:40.970Z"
   },
   {
    "duration": 102,
    "start_time": "2021-12-16T09:11:41.541Z"
   },
   {
    "duration": 4,
    "start_time": "2021-12-16T12:12:53.615Z"
   },
   {
    "duration": 1054,
    "start_time": "2021-12-16T12:12:53.696Z"
   },
   {
    "duration": 420,
    "start_time": "2021-12-16T12:12:54.760Z"
   },
   {
    "duration": 89,
    "start_time": "2021-12-16T12:12:55.184Z"
   },
   {
    "duration": 401,
    "start_time": "2021-12-16T12:12:55.360Z"
   },
   {
    "duration": 167,
    "start_time": "2021-12-16T12:12:55.597Z"
   },
   {
    "duration": 5,
    "start_time": "2021-12-16T12:14:10.271Z"
   },
   {
    "duration": 1030,
    "start_time": "2021-12-16T12:14:10.366Z"
   },
   {
    "duration": 275,
    "start_time": "2021-12-16T12:14:11.399Z"
   },
   {
    "duration": 183,
    "start_time": "2021-12-16T12:14:11.677Z"
   },
   {
    "duration": 132,
    "start_time": "2021-12-16T12:14:11.863Z"
   },
   {
    "duration": 154,
    "start_time": "2021-12-16T12:14:11.843Z"
   },
   {
    "duration": 5,
    "start_time": "2021-12-16T12:14:25.781Z"
   },
   {
    "duration": 1040,
    "start_time": "2021-12-16T12:14:25.788Z"
   },
   {
    "duration": 452,
    "start_time": "2021-12-16T12:14:26.831Z"
   },
   {
    "duration": 99,
    "start_time": "2021-12-16T12:14:27.362Z"
   },
   {
    "duration": 454,
    "start_time": "2021-12-16T12:14:27.463Z"
   },
   {
    "duration": -394,
    "start_time": "2021-12-16T12:14:28.313Z"
   },
   {
    "duration": 389,
    "start_time": "2021-12-16T17:52:36.362Z"
   },
   {
    "duration": 1081,
    "start_time": "2021-12-16T17:52:40.623Z"
   },
   {
    "duration": 603,
    "start_time": "2021-12-16T17:52:41.705Z"
   },
   {
    "duration": 293,
    "start_time": "2021-12-16T17:52:42.310Z"
   },
   {
    "duration": 258,
    "start_time": "2021-12-16T17:52:42.347Z"
   },
   {
    "duration": 238,
    "start_time": "2021-12-16T17:52:42.368Z"
   },
   {
    "duration": 223,
    "start_time": "2021-12-16T17:52:42.384Z"
   },
   {
    "duration": 4,
    "start_time": "2021-12-16T17:54:08.858Z"
   },
   {
    "duration": 579,
    "start_time": "2021-12-16T17:54:08.864Z"
   },
   {
    "duration": 280,
    "start_time": "2021-12-16T17:54:09.445Z"
   },
   {
    "duration": 178,
    "start_time": "2021-12-16T17:54:09.549Z"
   },
   {
    "duration": 168,
    "start_time": "2021-12-16T17:54:09.560Z"
   },
   {
    "duration": 157,
    "start_time": "2021-12-16T17:54:09.572Z"
   },
   {
    "duration": 637,
    "start_time": "2021-12-16T17:54:59.938Z"
   },
   {
    "duration": 511,
    "start_time": "2021-12-16T17:56:03.145Z"
   },
   {
    "duration": 781,
    "start_time": "2021-12-16T17:56:42.238Z"
   },
   {
    "duration": 80,
    "start_time": "2021-12-16T17:57:21.215Z"
   },
   {
    "duration": 517,
    "start_time": "2021-12-16T17:57:26.549Z"
   },
   {
    "duration": 736,
    "start_time": "2021-12-16T17:57:44.222Z"
   },
   {
    "duration": 258,
    "start_time": "2021-12-16T17:57:58.339Z"
   },
   {
    "duration": 353,
    "start_time": "2021-12-16T18:05:33.710Z"
   },
   {
    "duration": 277,
    "start_time": "2021-12-16T18:09:39.291Z"
   },
   {
    "duration": 79,
    "start_time": "2021-12-16T18:12:14.014Z"
   },
   {
    "duration": 4,
    "start_time": "2021-12-16T18:12:27.296Z"
   },
   {
    "duration": 622,
    "start_time": "2021-12-16T18:12:27.302Z"
   },
   {
    "duration": 369,
    "start_time": "2021-12-16T18:12:27.926Z"
   },
   {
    "duration": 88,
    "start_time": "2021-12-16T18:12:28.301Z"
   },
   {
    "duration": 97,
    "start_time": "2021-12-16T18:12:28.393Z"
   },
   {
    "duration": 343,
    "start_time": "2021-12-16T18:12:28.150Z"
   },
   {
    "duration": 22,
    "start_time": "2021-12-16T18:12:36.942Z"
   },
   {
    "duration": 27,
    "start_time": "2021-12-16T18:13:32.395Z"
   },
   {
    "duration": 22,
    "start_time": "2021-12-16T18:14:00.328Z"
   },
   {
    "duration": 3,
    "start_time": "2021-12-16T18:25:02.599Z"
   },
   {
    "duration": 587,
    "start_time": "2021-12-16T18:25:02.604Z"
   },
   {
    "duration": 645,
    "start_time": "2021-12-16T18:25:03.193Z"
   },
   {
    "duration": -803,
    "start_time": "2021-12-16T18:25:04.644Z"
   },
   {
    "duration": -808,
    "start_time": "2021-12-16T18:25:04.650Z"
   },
   {
    "duration": -810,
    "start_time": "2021-12-16T18:25:04.654Z"
   },
   {
    "duration": 352,
    "start_time": "2021-12-16T18:28:56.740Z"
   },
   {
    "duration": 3,
    "start_time": "2021-12-16T18:29:04.990Z"
   },
   {
    "duration": 586,
    "start_time": "2021-12-16T18:29:04.995Z"
   },
   {
    "duration": 408,
    "start_time": "2021-12-16T18:29:05.583Z"
   },
   {
    "duration": 100,
    "start_time": "2021-12-16T18:29:05.993Z"
   },
   {
    "duration": 332,
    "start_time": "2021-12-16T18:29:06.096Z"
   },
   {
    "duration": -287,
    "start_time": "2021-12-16T18:29:06.717Z"
   },
   {
    "duration": 20,
    "start_time": "2021-12-16T18:29:18.114Z"
   },
   {
    "duration": 20,
    "start_time": "2021-12-16T18:29:36.461Z"
   },
   {
    "duration": 3,
    "start_time": "2021-12-16T18:29:54.748Z"
   },
   {
    "duration": 563,
    "start_time": "2021-12-16T18:29:54.753Z"
   },
   {
    "duration": 370,
    "start_time": "2021-12-16T18:29:55.319Z"
   },
   {
    "duration": 98,
    "start_time": "2021-12-16T18:29:55.691Z"
   },
   {
    "duration": 23,
    "start_time": "2021-12-16T18:29:55.791Z"
   },
   {
    "duration": 13697,
    "start_time": "2021-12-16T18:29:55.816Z"
   },
   {
    "duration": 22,
    "start_time": "2021-12-16T18:36:59.503Z"
   },
   {
    "duration": 798,
    "start_time": "2021-12-16T18:38:51.356Z"
   },
   {
    "duration": 630,
    "start_time": "2021-12-16T18:39:00.659Z"
   },
   {
    "duration": 705,
    "start_time": "2021-12-16T18:39:46.582Z"
   },
   {
    "duration": 705,
    "start_time": "2021-12-16T18:40:02.670Z"
   },
   {
    "duration": 627,
    "start_time": "2021-12-16T18:40:11.557Z"
   },
   {
    "duration": 590,
    "start_time": "2021-12-16T18:41:07.001Z"
   },
   {
    "duration": 475,
    "start_time": "2021-12-16T18:41:20.512Z"
   },
   {
    "duration": 259,
    "start_time": "2021-12-16T18:43:01.532Z"
   },
   {
    "duration": 4,
    "start_time": "2021-12-16T18:43:30.975Z"
   },
   {
    "duration": 616,
    "start_time": "2021-12-16T18:43:30.981Z"
   },
   {
    "duration": 262,
    "start_time": "2021-12-16T18:43:31.599Z"
   },
   {
    "duration": 388,
    "start_time": "2021-12-16T18:43:31.475Z"
   },
   {
    "duration": 348,
    "start_time": "2021-12-16T18:43:31.516Z"
   },
   {
    "duration": 345,
    "start_time": "2021-12-16T18:43:31.519Z"
   },
   {
    "duration": 377,
    "start_time": "2021-12-16T18:44:56.614Z"
   },
   {
    "duration": 376,
    "start_time": "2021-12-16T18:45:02.517Z"
   },
   {
    "duration": 23,
    "start_time": "2021-12-16T18:47:22.830Z"
   },
   {
    "duration": 21,
    "start_time": "2021-12-16T18:50:04.187Z"
   },
   {
    "duration": 3,
    "start_time": "2021-12-16T18:50:08.228Z"
   },
   {
    "duration": 596,
    "start_time": "2021-12-16T18:50:08.232Z"
   },
   {
    "duration": 362,
    "start_time": "2021-12-16T18:50:08.830Z"
   },
   {
    "duration": 94,
    "start_time": "2021-12-16T18:50:09.195Z"
   },
   {
    "duration": 114,
    "start_time": "2021-12-16T18:50:09.291Z"
   },
   {
    "duration": 5424,
    "start_time": "2021-12-16T18:50:09.407Z"
   },
   {
    "duration": 3,
    "start_time": "2021-12-16T18:53:49.783Z"
   },
   {
    "duration": 588,
    "start_time": "2021-12-16T18:53:49.788Z"
   },
   {
    "duration": 414,
    "start_time": "2021-12-16T18:53:50.378Z"
   },
   {
    "duration": 97,
    "start_time": "2021-12-16T18:53:50.794Z"
   },
   {
    "duration": 108,
    "start_time": "2021-12-16T18:53:50.894Z"
   },
   {
    "duration": 4508,
    "start_time": "2021-12-16T18:53:51.003Z"
   },
   {
    "duration": 18,
    "start_time": "2021-12-16T18:54:12.263Z"
   },
   {
    "duration": 5,
    "start_time": "2021-12-16T18:54:58.277Z"
   },
   {
    "duration": 641,
    "start_time": "2021-12-16T18:54:58.284Z"
   },
   {
    "duration": 465,
    "start_time": "2021-12-16T18:54:58.928Z"
   },
   {
    "duration": 98,
    "start_time": "2021-12-16T18:54:59.395Z"
   },
   {
    "duration": 102,
    "start_time": "2021-12-16T18:54:59.495Z"
   },
   {
    "duration": 7026,
    "start_time": "2021-12-16T18:54:59.600Z"
   },
   {
    "duration": 4,
    "start_time": "2021-12-16T18:57:48.017Z"
   },
   {
    "duration": 912,
    "start_time": "2021-12-16T18:57:48.023Z"
   },
   {
    "duration": 358,
    "start_time": "2021-12-16T18:57:48.938Z"
   },
   {
    "duration": 192,
    "start_time": "2021-12-16T18:57:49.299Z"
   },
   {
    "duration": 18,
    "start_time": "2021-12-16T18:57:49.493Z"
   },
   {
    "duration": 85,
    "start_time": "2021-12-16T18:57:49.512Z"
   },
   {
    "duration": 4316,
    "start_time": "2021-12-16T18:58:01.093Z"
   }
  ],
  "kernelspec": {
   "display_name": "Python 3 (ipykernel)",
   "language": "python",
   "name": "python3"
  },
  "language_info": {
   "codemirror_mode": {
    "name": "ipython",
    "version": 3
   },
   "file_extension": ".py",
   "mimetype": "text/x-python",
   "name": "python",
   "nbconvert_exporter": "python",
   "pygments_lexer": "ipython3",
   "version": "3.9.7"
  },
  "notebookId": "577001c0-891f-452b-ac58-e369fde6cc32",
  "notebookPath": "ds-ml-business.ipynb",
  "toc": {
   "base_numbering": 1,
   "nav_menu": {},
   "number_sections": true,
   "sideBar": true,
   "skip_h1_title": false,
   "title_cell": "Содержание ",
   "title_sidebar": "Содержание ",
   "toc_cell": true,
   "toc_position": {
    "height": "calc(100% - 180px)",
    "left": "10px",
    "top": "150px",
    "width": "164.977px"
   },
   "toc_section_display": true,
   "toc_window_display": false
  }
 },
 "nbformat": 4,
 "nbformat_minor": 4
}
