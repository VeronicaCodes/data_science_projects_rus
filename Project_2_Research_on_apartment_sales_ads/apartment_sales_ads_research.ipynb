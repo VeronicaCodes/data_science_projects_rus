{
 "cells": [
  {
   "cell_type": "markdown",
   "metadata": {
    "toc": true
   },
   "source": [
    "<h1>Содержание<span class=\"tocSkip\"></span></h1>\n",
    "<div class=\"toc\"><ul class=\"toc-item\"><li><span><a href=\"#Изучение-данных-из-файла\" data-toc-modified-id=\"Изучение-данных-из-файла-1\"><span class=\"toc-item-num\">1&nbsp;&nbsp;</span>Изучение данных из файла</a></span></li><li><span><a href=\"#Предобработка-данных\" data-toc-modified-id=\"Предобработка-данных-2\"><span class=\"toc-item-num\">2&nbsp;&nbsp;</span>Предобработка данных</a></span></li><li><span><a href=\"#Расчёты-и-добавление-результатов-в-таблицу\" data-toc-modified-id=\"Расчёты-и-добавление-результатов-в-таблицу-3\"><span class=\"toc-item-num\">3&nbsp;&nbsp;</span>Расчёты и добавление результатов в таблицу</a></span></li><li><span><a href=\"#Исследовательский-анализ-данных\" data-toc-modified-id=\"Исследовательский-анализ-данных-4\"><span class=\"toc-item-num\">4&nbsp;&nbsp;</span>Исследовательский анализ данных</a></span></li><li><span><a href=\"#Общий-вывод\" data-toc-modified-id=\"Общий-вывод-5\"><span class=\"toc-item-num\">5&nbsp;&nbsp;</span>Общий вывод</a></span></li><li><span><a href=\"#Чек-лист-готовности-проекта\" data-toc-modified-id=\"Чек-лист-готовности-проекта-6\"><span class=\"toc-item-num\">6&nbsp;&nbsp;</span>Чек-лист готовности проекта</a></span></li></ul></div>"
   ]
  },
  {
   "cell_type": "markdown",
   "metadata": {},
   "source": [
    "# Исследование объявлений о продаже квартир\n",
    "\n",
    "В вашем распоряжении данные сервиса Яндекс.Недвижимость — архив объявлений о продаже квартир в Санкт-Петербурге и соседних населённых пунктах за несколько лет. Нужно научиться определять рыночную стоимость объектов недвижимости. Ваша задача — установить параметры. Это позволит построить автоматизированную систему: она отследит аномалии и мошенническую деятельность. \n",
    "\n",
    "По каждой квартире на продажу доступны два вида данных. Первые вписаны пользователем, вторые получены автоматически на основе картографических данных. Например, расстояние до центра, аэропорта, ближайшего парка и водоёма. "
   ]
  },
  {
   "cell_type": "markdown",
   "metadata": {},
   "source": [
    "## Изучение данных из файла"
   ]
  },
  {
   "cell_type": "code",
   "execution_count": 1,
   "metadata": {},
   "outputs": [
    {
     "name": "stdout",
     "output_type": "stream",
     "text": [
      "<class 'pandas.core.frame.DataFrame'>\n",
      "RangeIndex: 23699 entries, 0 to 23698\n",
      "Data columns (total 22 columns):\n",
      "total_images            23699 non-null int64\n",
      "last_price              23699 non-null float64\n",
      "total_area              23699 non-null float64\n",
      "first_day_exposition    23699 non-null object\n",
      "rooms                   23699 non-null int64\n",
      "ceiling_height          14504 non-null float64\n",
      "floors_total            23613 non-null float64\n",
      "living_area             21796 non-null float64\n",
      "floor                   23699 non-null int64\n",
      "is_apartment            2775 non-null object\n",
      "studio                  23699 non-null bool\n",
      "open_plan               23699 non-null bool\n",
      "kitchen_area            21421 non-null float64\n",
      "balcony                 12180 non-null float64\n",
      "locality_name           23650 non-null object\n",
      "airports_nearest        18157 non-null float64\n",
      "cityCenters_nearest     18180 non-null float64\n",
      "parks_around3000        18181 non-null float64\n",
      "parks_nearest           8079 non-null float64\n",
      "ponds_around3000        18181 non-null float64\n",
      "ponds_nearest           9110 non-null float64\n",
      "days_exposition         20518 non-null float64\n",
      "dtypes: bool(2), float64(14), int64(3), object(3)\n",
      "memory usage: 3.7+ MB\n"
     ]
    }
   ],
   "source": [
    "# загрузка библиотек\n",
    "import pandas as pd\n",
    "import matplotlib.pyplot as plt\n",
    "import numpy as np\n",
    "from collections import Counter\n",
    "from pymystem3 import Mystem"
   ]
  },
  {
   "cell_type": "code",
   "execution_count": null,
   "metadata": {},
   "outputs": [],
   "source": [
    "# чтение файла\n",
    "df = pd.read_csv('/datasets/real_estate_data.csv', sep='\\t', decimal='.')\n",
    "\n",
    "#получение общей информации о дынных\n",
    "df.info()"
   ]
  },
  {
   "cell_type": "markdown",
   "metadata": {},
   "source": [
    "**Вывод** : после первичного изучения датасета, в данных найдены пропуски, разница в типе данных, неоднородность данных. Все это может помешать анализу данных и подлежит обработке."
   ]
  },
  {
   "cell_type": "markdown",
   "metadata": {},
   "source": [
    "1. В файле csv данные были разделены знаком табуляции \\t, а десятичные значения разделены точкой, и без уточнения этого в методе read_csv, файл становится нечитаемым.\n",
    "2. Макс. число исследуемых данных - 23699, число столбцов - 22. Пропущенные значения обнаружены в во всех столбцах, кроме: 'total_images','last_price','total_area','first_day_exposition', 'rooms', 'studio', и 'open_plan'. Типы объектов до обработки данных: bool, int64, objectб float64. \n",
    "3. В столбце locality_name проспуски необходимо заполнить или удалить.\n",
    "4. столбец 'is_apartment' обозначен как тип object, хотя это булевое значение. необходимо заменить тип данных и заполнить пропуски.\n",
    "4. столбец 'first_day_exposition' нужно привести к типу данных datetime\n",
    "5. типы float заменить на int для удобства и наглядности"
   ]
  },
  {
   "cell_type": "markdown",
   "metadata": {},
   "source": [
    "## Предобработка данных"
   ]
  },
  {
   "cell_type": "code",
   "execution_count": 2,
   "metadata": {},
   "outputs": [],
   "source": [
    "#Замена значений и запонение пропусков по-порядку\n",
    "#  1\n",
    "df[['balcony', 'parks_around3000', \n",
    "    'ponds_around3000', 'parks_nearest','ponds_nearest']] = df[['balcony','parks_around3000',\n",
    "                                                                'ponds_around3000','parks_nearest','ponds_nearest']].fillna(0)\n",
    "df[['ceiling_height',\n",
    "    'floors_total',\n",
    "    'airports_nearest',\n",
    "    'cityCenters_nearest']] = df[['ceiling_height',\n",
    "                              'floors_total',\n",
    "                              'airports_nearest',\n",
    "                              'cityCenters_nearest']].fillna(df[['ceiling_height','floors_total',\n",
    "                                                             'airports_nearest','cityCenters_nearest']].median())\n",
    "\n",
    "df['days_exposition'] = df['days_exposition'].fillna(df['days_exposition'].max()) #основываясь на предположении, что объявление еще выставлено"
   ]
  },
  {
   "cell_type": "code",
   "execution_count": 3,
   "metadata": {},
   "outputs": [
    {
     "name": "stdout",
     "output_type": "stream",
     "text": [
      "False    2725\n",
      "True       50\n",
      "Name: is_apartment, dtype: int64\n",
      "\n"
     ]
    },
    {
     "name": "stderr",
     "output_type": "stream",
     "text": [
      "/opt/conda/lib/python3.7/site-packages/numpy/lib/nanfunctions.py:1111: RuntimeWarning: Mean of empty slice\n",
      "  return np.nanmean(a, axis, out=out, keepdims=keepdims)\n"
     ]
    }
   ],
   "source": [
    "#  2\n",
    "df['living_area'] = df.groupby('rooms')['living_area'].apply(lambda x: x.fillna(x.median()))\n",
    "df['kitchen_area'] = df.groupby('rooms')['kitchen_area'].apply(lambda x: x.fillna(x.median()))\n",
    "df['kitchen_area'] = df['kitchen_area'].fillna(0) #для значений, которые не вошли ни в одну катег.\n",
    "\n",
    "#  3\n",
    "print(df['is_apartment'].value_counts()) #Проверка на наличие/отсутствие определенных булевых значений\n",
    "df['is_apartment'] = df['is_apartment'].fillna('True')\n",
    "print()\n",
    "\n",
    "#  4 \n",
    "df['locality_name'] = df['locality_name'].fillna('Неизвестно')\n",
    "\n",
    "#df.info()\n",
    "#df.head()"
   ]
  },
  {
   "cell_type": "code",
   "execution_count": 4,
   "metadata": {},
   "outputs": [],
   "source": [
    "#Замена типов данных\n",
    "df = df.astype({'last_price':'int','total_area':'int', 'ceiling_height':'int', 'floors_total':'int', 'living_area':'int',\n",
    "                'kitchen_area':'int', 'balcony':'int', 'airports_nearest':'int', 'cityCenters_nearest':'int',\n",
    "                'parks_around3000':'int', 'parks_nearest':'int', 'ponds_around3000':'int',\n",
    "                'ponds_nearest':'int', 'days_exposition':'int'})\n",
    "\n",
    "df['is_apartment'] = df['is_apartment'].astype('bool')\n",
    "\n",
    "df['first_day_exposition'] = pd.to_datetime(df['first_day_exposition'], format='%Y-%m-%dT%H:%M:%S')\n",
    "\n",
    "df['locality_name'] = df['locality_name'].str.lower()"
   ]
  },
  {
   "cell_type": "code",
   "execution_count": 5,
   "metadata": {},
   "outputs": [],
   "source": [
    "#Лемматизация\n",
    "\n",
    "m = Mystem()\n",
    "\n",
    "lemmas = m.lemmatize(' '.join(df['locality_name']))\n",
    "\n",
    "exceptions = ['\\n', 'посёлок', 'поселок', 'село', 'город', 'городской', 'деревня', 'бор', 'луг','городского', 'типа']\n",
    "\n",
    "def lemmatize_col(row):\n",
    "    for word in m.lemmatize(row):\n",
    "        if word in list(set(lemmas)) and (word not in exceptions):\n",
    "            return word  \n",
    "        if word in exceptions:\n",
    "            return ''.join(row.split(' ', 1)[1:]).lower()\n",
    "        \n",
    "#Применение функции к столбцу в датафрейме\n",
    "df['lemmatized_locality'] = df['locality_name'].apply(lemmatize_col)\n",
    "\n",
    "\n",
    "#print(df['lemmatized_locality'].unique())\n",
    "#df.info()"
   ]
  },
  {
   "cell_type": "markdown",
   "metadata": {},
   "source": [
    "**Вывод** : После замены и заполнения пропущенных значений, датафрейм был приведен к единому стандарту, с чем будет удобнее работать в последующих заданиях. \n",
    "\n",
    "P.S.:Замена пропусков не требовалась во всех столбцах, но мне нравится, когда датафрейм выглядит организованно, и так как есть возможность и столбцов не слишком много, я решила заполнить все пропуски."
   ]
  },
  {
   "cell_type": "markdown",
   "metadata": {},
   "source": [
    "*Возможные причины появления пропусков*: чаще всего причиной является человеческий фактор. В данном случае, это может быть сокрытие какой-либо информации. Другой возмодной причиной могут быть ошибки ввода данных или отсутствие таких данных (Например, программа не смогла рассчитать расстояние кв. до аэропорта, потому что в данном населенном пункте нет аэропорта или он не обозначен).\n",
    "\n",
    "Что было сделано в ходе \"Шага 2\":\n",
    "1. Заполнеие попусков в датафрейме. В шаге #1 после анализа данных было обнаружено, что все пропущенные значения в столбцах 'balcony', 'parks_around3000', 'ponds_around3000', 'parks_nearest', и 'ponds_nearest' можно заменить 0, основываясь на предположении, что если эти значения не указаны, зачит они отсутствуют. Затем, в стобцах 'ceiling_height','floors_total','airports_nearest', и 'cityCenters_nearest' подставлена медиана во всех пропузенных значениях. Медиану выбрана потому, что в данных столбцах может быть большая разница между минимальным и максимальным значениями и распеределение может быть не равномерно. Альтернативой могло быть mean, но после проверки было выявлено, что mean & median в этих столбцах примерно одинаковы, поэтому проблем с данными нет. 'days_exposition' было заполнено максимальным значением (в днях) в столбце, предположив, что пропуски в значениях означают, что жилье все еще выставлено на продажу, и что день анализа данных равен макс. значению.\n",
    "\n",
    "2. В шаге #2 пропуски в столбцах 'kitchen area' & 'living area' обработаны, опираясь на логику, что рамер жилой площади и кухни очень зависит от размера апартаментов/здания, который можно определить по номеру комнат ('rooms') на основе из имеющихся данных, были сгруппированы каждый из столбцов по номеру комнат(=размеру помещения) и заполнены пропуски медианой по группам. Как и в прошлом случае, медиана была выбрана потому что в данных имеется большая разница между мин и макс значениями, а также неравномерный разброс. \n",
    "\n",
    "3. В шагах #3 и #4 обрабатан столбец с булевыми значениями 'is_apartment' и пропуски в 'locality_name'. Проверив наличие кол-ва True & False statements в столбце, был сделан вывод, что так как True слишком мало в соотношении с false, возможно, что все пропущенные значения в столбце по умолчанию - True. Проверить достоверность этому можно только при более детальном анализе отдельных адресов. В случае с 'locality_name', все неизвестные адреса были заменены на \"Неизвестно\".\n",
    "\n",
    "4. Далее - замена типов данных. Как было уже упомянуто в \"Шаге 1\", типы данных в столбцах неоднородные + были обнаружены infinite значения (число, стремящееся к бесконечности) там, где их не должно быть (например, расстояние до аэропорта) + в дальнейшем нам для анализа необходимо будет проводить вычисления, поэтому тип объекта float64 не удобен для расчетов. По этим причинам, все столбцы типа float64 я привела к типу int64; столбец 'first_day_exposition' содержащий дату выставления объявления был приведен к соответствующему типу datetime64; и наконец, 'is_apartment' был приведен к надлежащему ему типу bool.\n",
    "\n",
    "5. Последним шагом было исправить неоднородность в данных с названиями населенных пунктов (напр., поселок записан еще и как \"посёлок\"), а также обеспечить простоту поиска по данным в случае необходимости. Поэтому, сперва все значения в столбце были приведены к единому нижнему регистру, а затем, с помощью библиотеки mystem, вручную собранного словаря 'exceptions' по словам из set(lemmas) и функции, создан новый столбец 'lemmatized_locality'. Теперь поиск по данным стал немного проще.\n"
   ]
  },
  {
   "cell_type": "markdown",
   "metadata": {},
   "source": [
    "## Расчёты и добавление результатов в таблицу"
   ]
  },
  {
   "cell_type": "code",
   "execution_count": 6,
   "metadata": {
    "scrolled": true
   },
   "outputs": [
    {
     "data": {
      "text/html": [
       "<div>\n",
       "<style scoped>\n",
       "    .dataframe tbody tr th:only-of-type {\n",
       "        vertical-align: middle;\n",
       "    }\n",
       "\n",
       "    .dataframe tbody tr th {\n",
       "        vertical-align: top;\n",
       "    }\n",
       "\n",
       "    .dataframe thead th {\n",
       "        text-align: right;\n",
       "    }\n",
       "</style>\n",
       "<table border=\"1\" class=\"dataframe\">\n",
       "  <thead>\n",
       "    <tr style=\"text-align: right;\">\n",
       "      <th></th>\n",
       "      <th>total_images</th>\n",
       "      <th>last_price</th>\n",
       "      <th>total_area</th>\n",
       "      <th>first_day_exposition</th>\n",
       "      <th>rooms</th>\n",
       "      <th>ceiling_height</th>\n",
       "      <th>floors_total</th>\n",
       "      <th>living_area</th>\n",
       "      <th>floor</th>\n",
       "      <th>is_apartment</th>\n",
       "      <th>...</th>\n",
       "      <th>days_exposition</th>\n",
       "      <th>lemmatized_locality</th>\n",
       "      <th>price_sq_m</th>\n",
       "      <th>publication_day</th>\n",
       "      <th>publication_month</th>\n",
       "      <th>publication_year</th>\n",
       "      <th>floors_type</th>\n",
       "      <th>living2total_ratio</th>\n",
       "      <th>kitchen2total_ratio</th>\n",
       "      <th>last_price_in_mln</th>\n",
       "    </tr>\n",
       "  </thead>\n",
       "  <tbody>\n",
       "    <tr>\n",
       "      <td>0</td>\n",
       "      <td>20</td>\n",
       "      <td>13000000</td>\n",
       "      <td>108</td>\n",
       "      <td>2019-03-07</td>\n",
       "      <td>3</td>\n",
       "      <td>2</td>\n",
       "      <td>16</td>\n",
       "      <td>51</td>\n",
       "      <td>8</td>\n",
       "      <td>True</td>\n",
       "      <td>...</td>\n",
       "      <td>1580</td>\n",
       "      <td>санкт-петербург</td>\n",
       "      <td>120370</td>\n",
       "      <td>7</td>\n",
       "      <td>3</td>\n",
       "      <td>2019</td>\n",
       "      <td>другой</td>\n",
       "      <td>0.47</td>\n",
       "      <td>0.23</td>\n",
       "      <td>13.000</td>\n",
       "    </tr>\n",
       "    <tr>\n",
       "      <td>1</td>\n",
       "      <td>7</td>\n",
       "      <td>3350000</td>\n",
       "      <td>40</td>\n",
       "      <td>2018-12-04</td>\n",
       "      <td>1</td>\n",
       "      <td>2</td>\n",
       "      <td>11</td>\n",
       "      <td>18</td>\n",
       "      <td>1</td>\n",
       "      <td>True</td>\n",
       "      <td>...</td>\n",
       "      <td>81</td>\n",
       "      <td>шушары</td>\n",
       "      <td>83750</td>\n",
       "      <td>4</td>\n",
       "      <td>12</td>\n",
       "      <td>2018</td>\n",
       "      <td>первый</td>\n",
       "      <td>0.45</td>\n",
       "      <td>0.28</td>\n",
       "      <td>3.350</td>\n",
       "    </tr>\n",
       "    <tr>\n",
       "      <td>2</td>\n",
       "      <td>10</td>\n",
       "      <td>5196000</td>\n",
       "      <td>56</td>\n",
       "      <td>2015-08-20</td>\n",
       "      <td>2</td>\n",
       "      <td>2</td>\n",
       "      <td>5</td>\n",
       "      <td>34</td>\n",
       "      <td>4</td>\n",
       "      <td>True</td>\n",
       "      <td>...</td>\n",
       "      <td>558</td>\n",
       "      <td>санкт-петербург</td>\n",
       "      <td>92785</td>\n",
       "      <td>20</td>\n",
       "      <td>8</td>\n",
       "      <td>2015</td>\n",
       "      <td>другой</td>\n",
       "      <td>0.61</td>\n",
       "      <td>0.14</td>\n",
       "      <td>5.196</td>\n",
       "    </tr>\n",
       "    <tr>\n",
       "      <td>3</td>\n",
       "      <td>0</td>\n",
       "      <td>64900000</td>\n",
       "      <td>159</td>\n",
       "      <td>2015-07-24</td>\n",
       "      <td>3</td>\n",
       "      <td>2</td>\n",
       "      <td>14</td>\n",
       "      <td>45</td>\n",
       "      <td>9</td>\n",
       "      <td>True</td>\n",
       "      <td>...</td>\n",
       "      <td>424</td>\n",
       "      <td>санкт-петербург</td>\n",
       "      <td>408176</td>\n",
       "      <td>24</td>\n",
       "      <td>7</td>\n",
       "      <td>2015</td>\n",
       "      <td>другой</td>\n",
       "      <td>0.28</td>\n",
       "      <td>0.06</td>\n",
       "      <td>64.900</td>\n",
       "    </tr>\n",
       "    <tr>\n",
       "      <td>4</td>\n",
       "      <td>2</td>\n",
       "      <td>10000000</td>\n",
       "      <td>100</td>\n",
       "      <td>2018-06-19</td>\n",
       "      <td>2</td>\n",
       "      <td>3</td>\n",
       "      <td>14</td>\n",
       "      <td>32</td>\n",
       "      <td>13</td>\n",
       "      <td>True</td>\n",
       "      <td>...</td>\n",
       "      <td>121</td>\n",
       "      <td>санкт-петербург</td>\n",
       "      <td>100000</td>\n",
       "      <td>19</td>\n",
       "      <td>6</td>\n",
       "      <td>2018</td>\n",
       "      <td>другой</td>\n",
       "      <td>0.32</td>\n",
       "      <td>0.41</td>\n",
       "      <td>10.000</td>\n",
       "    </tr>\n",
       "  </tbody>\n",
       "</table>\n",
       "<p>5 rows × 31 columns</p>\n",
       "</div>"
      ],
      "text/plain": [
       "   total_images  last_price  total_area first_day_exposition  rooms  \\\n",
       "0            20    13000000         108           2019-03-07      3   \n",
       "1             7     3350000          40           2018-12-04      1   \n",
       "2            10     5196000          56           2015-08-20      2   \n",
       "3             0    64900000         159           2015-07-24      3   \n",
       "4             2    10000000         100           2018-06-19      2   \n",
       "\n",
       "   ceiling_height  floors_total  living_area  floor  is_apartment  ...  \\\n",
       "0               2            16           51      8          True  ...   \n",
       "1               2            11           18      1          True  ...   \n",
       "2               2             5           34      4          True  ...   \n",
       "3               2            14           45      9          True  ...   \n",
       "4               3            14           32     13          True  ...   \n",
       "\n",
       "   days_exposition  lemmatized_locality  price_sq_m  publication_day  \\\n",
       "0             1580      санкт-петербург      120370                7   \n",
       "1               81               шушары       83750                4   \n",
       "2              558      санкт-петербург       92785               20   \n",
       "3              424      санкт-петербург      408176               24   \n",
       "4              121      санкт-петербург      100000               19   \n",
       "\n",
       "  publication_month  publication_year  floors_type  living2total_ratio  \\\n",
       "0                 3              2019       другой                0.47   \n",
       "1                12              2018       первый                0.45   \n",
       "2                 8              2015       другой                0.61   \n",
       "3                 7              2015       другой                0.28   \n",
       "4                 6              2018       другой                0.32   \n",
       "\n",
       "   kitchen2total_ratio  last_price_in_mln  \n",
       "0                 0.23             13.000  \n",
       "1                 0.28              3.350  \n",
       "2                 0.14              5.196  \n",
       "3                 0.06             64.900  \n",
       "4                 0.41             10.000  \n",
       "\n",
       "[5 rows x 31 columns]"
      ]
     },
     "execution_count": 6,
     "metadata": {},
     "output_type": "execute_result"
    }
   ],
   "source": [
    "#Цена кв. метра\n",
    "df['price_sq_m'] = (df['last_price']/df['total_area']).astype('int')\n",
    "\n",
    "#День недели, месяц и год публикации объявления\n",
    "df['publication_day'] = pd.DatetimeIndex(df['first_day_exposition']).day\n",
    "df['publication_month'] = pd.DatetimeIndex(df['first_day_exposition']).month\n",
    "df['publication_year'] = pd.DatetimeIndex(df['first_day_exposition']).year\n",
    "\n",
    "#этаж квартиры; варианты — первый, последний, другой\n",
    "df['floors_type'] = df.apply(lambda row: 'первый' if row['floor']== 1 else ('последний' if row['floor'] == row['floors_total'] else 'другой'),axis=1)\n",
    "\n",
    "#соотношение жилой и общей площади, а также отношение площади кухни к общей\n",
    "df['living2total_ratio'] = (df['living_area']/df['total_area']).round(2)\n",
    "df['kitchen2total_ratio'] = (df['kitchen_area']/df['total_area']).round(2)\n",
    "\n",
    "#last_price в 1000 000\n",
    "df['last_price_in_mln'] = df['last_price']/1000000\n",
    "\n",
    "df.head() #- проверка "
   ]
  },
  {
   "cell_type": "markdown",
   "metadata": {},
   "source": [
    "**Вывод** : проведены расчеты по цене кв. метра, соотношению жилой плозади и площади кухни к общей, а также добавлены в табоицу день, месяц и год публикации, а также описаны типы этажей в квартире, так как это может сильно влиять на цену. эти данные пригодятся для построения графиков и статистики в следующем шаге."
   ]
  },
  {
   "cell_type": "markdown",
   "metadata": {},
   "source": [
    "1. расчеты цена квартиры на кв. метр просты: поделить последнюю указанную цену на кв. метр в исследуемой жилой площади. результат переведен в тип данных 'int' для удобства и наглядности.\n",
    "2. создан отдельный столбец для каждой из итераций для удобства исследования, но возможно при построении статистики в след. шаге потребуется это откорректировать\n",
    "3. сначала я выполнила этот код через функцию def и отдельно apply (функция работала корректно), но в моем случае она работала только с копированием данных, и мне хотелось ее усовершенствовать, поэтому я выполнила ее через анонимную функцию lambda. *Изначальный вариант функции ниже*:"
   ]
  },
  {
   "cell_type": "code",
   "execution_count": 7,
   "metadata": {
    "scrolled": true
   },
   "outputs": [
    {
     "name": "stdout",
     "output_type": "stream",
     "text": [
      "skipping\n"
     ]
    }
   ],
   "source": [
    "%%script echo skipping\n",
    "def type_separator(row):\n",
    "    floors_total = row['floors_total']\n",
    "    floor = row['floor']\n",
    "    if floor == 1:\n",
    "        return 'первый'\n",
    "    elif floor == floors_total:\n",
    "        return 'последний'\n",
    "    return 'другой'\n",
    "df['floo_type'] = df.apply(type_separator, axis=1)\n",
    "print(df['floo_type'])"
   ]
  },
  {
   "cell_type": "markdown",
   "metadata": {},
   "source": [
    "4. при подсчете соотношений жилой площади к общей площади и площади кухни к общей, данные были округлены до сотой для удобства.\n",
    "5. Так как цены на квартиры очень велики, я создала дополнительный столбец, где поделила цену каждой квартиры на 1 000 000, чтобы она была указана в миллионах"
   ]
  },
  {
   "cell_type": "markdown",
   "metadata": {},
   "source": [
    "## Исследовательский анализ данных"
   ]
  },
  {
   "cell_type": "code",
   "execution_count": 8,
   "metadata": {
    "scrolled": true
   },
   "outputs": [
    {
     "name": "stdout",
     "output_type": "stream",
     "text": [
      "         total_area  last_price_in_mln         rooms  ceiling_height\n",
      "count  23699.000000       23699.000000  23699.000000    23699.000000\n",
      "mean      60.120511           6.541549      2.070636        2.142411\n",
      "std       35.665822          10.887013      1.078405        1.033337\n",
      "min       12.000000           0.012190      0.000000        1.000000\n",
      "25%       40.000000           3.400000      1.000000        2.000000\n",
      "50%       52.000000           4.650000      2.000000        2.000000\n",
      "75%       69.000000           6.800000      3.000000        2.000000\n",
      "max      900.000000         763.000000     19.000000      100.000000\n"
     ]
    },
    {
     "data": {
      "text/plain": [
       "Text(0.5, 1.0, 'Гистограмма распределенния данных о площади продаваемого помещения')"
      ]
     },
     "execution_count": 8,
     "metadata": {},
     "output_type": "execute_result"
    },
    {
     "data": {
      "image/png": "[encoded data removed]",
      "text/plain": [
       "<Figure size 720x720 with 1 Axes>"
      ]
     },
     "metadata": {
      "needs_background": "light"
     },
     "output_type": "display_data"
    }
   ],
   "source": [
    "#Гистограмма по площади\n",
    "\n",
    "print(df[['total_area','last_price_in_mln','rooms','ceiling_height']].describe())\n",
    "\n",
    "\n",
    "df['total_area'].hist(bins=100, range=(0,500), figsize=(10,10), grid=True)\n",
    "plt.title('Гистограмма распределенния данных о площади продаваемого помещения')"
   ]
  },
  {
   "cell_type": "markdown",
   "metadata": {},
   "source": [
    "Данная гистограмма показвает, что большая часть выставленных на продажу жилых помещеним имеют площадь от 30 до 100 кв. м."
   ]
  },
  {
   "cell_type": "code",
   "execution_count": 9,
   "metadata": {
    "scrolled": true
   },
   "outputs": [
    {
     "data": {
      "text/plain": [
       "Text(0.5, 1.0, 'Распределение данных о цене жилых помещений в млн. руб.')"
      ]
     },
     "execution_count": 9,
     "metadata": {},
     "output_type": "execute_result"
    },
    {
     "data": {
      "image/png": "[encoded data removed]",
      "text/plain": [
       "<Figure size 720x720 with 1 Axes>"
      ]
     },
     "metadata": {
      "needs_background": "light"
     },
     "output_type": "display_data"
    }
   ],
   "source": [
    "#print(df['last_price'].min(),df['last_price'].max())\n",
    "\n",
    "df['last_price_in_mln'].hist(bins=50, range=(0,80), figsize=(10,10), grid=True)\n",
    "plt.title('Распределение данных о цене жилых помещений в млн. руб.')"
   ]
  },
  {
   "cell_type": "markdown",
   "metadata": {},
   "source": [
    "Данная гистограмма показвает, что большая часть выставленных на продажу жилых помещений имеют цены от 2 до 20 млн. руб."
   ]
  },
  {
   "cell_type": "code",
   "execution_count": 10,
   "metadata": {
    "scrolled": true
   },
   "outputs": [
    {
     "data": {
      "text/plain": [
       "Text(0.5, 1.0, 'Распределение данных о кол-ве комнат в продаваемых помещениях')"
      ]
     },
     "execution_count": 10,
     "metadata": {},
     "output_type": "execute_result"
    },
    {
     "data": {
      "image/png": "[encoded data removed]",
      "text/plain": [
       "<Figure size 720x720 with 1 Axes>"
      ]
     },
     "metadata": {
      "needs_background": "light"
     },
     "output_type": "display_data"
    }
   ],
   "source": [
    "df['rooms'].hist(bins=10, range=(0,20), figsize=(10,10), grid=True)\n",
    "plt.title('Распределение данных о кол-ве комнат в продаваемых помещениях')"
   ]
  },
  {
   "cell_type": "markdown",
   "metadata": {},
   "source": [
    "Данная гистограмма показвает, что большинство помещений в датасете имеют от 0 до 5 комнат."
   ]
  },
  {
   "cell_type": "code",
   "execution_count": 11,
   "metadata": {
    "scrolled": true
   },
   "outputs": [
    {
     "data": {
      "text/plain": [
       "Text(0.5, 1.0, 'Распределение данных о высоте потолков продаваемых помещений')"
      ]
     },
     "execution_count": 11,
     "metadata": {},
     "output_type": "execute_result"
    },
    {
     "data": {
      "image/png": "[encoded data removed]",
      "text/plain": [
       "<Figure size 720x720 with 1 Axes>"
      ]
     },
     "metadata": {
      "needs_background": "light"
     },
     "output_type": "display_data"
    }
   ],
   "source": [
    "df['ceiling_height'].hist(bins=10, range=(0,10), figsize=(10,10), grid=True)\n",
    "plt.title('Распределение данных о высоте потолков продаваемых помещений')"
   ]
  },
  {
   "cell_type": "markdown",
   "metadata": {},
   "source": [
    "Данная гистограмма показвает, что большинство помещений в датасете имеют высоту потолков от 2 до 4 метров."
   ]
  },
  {
   "cell_type": "markdown",
   "metadata": {},
   "source": [
    "**Вывод 4.1** : Изучив параметры площади, цены, числа комнат и высоты потолков и осмотрев их гистограммы, можно сделать вывод, что в каждом из параметров есть большое количество данных сосредоточенных на минимальных значениях, близких к нулю, а ближе к максимуму из почти уже нет. В 'total_area' я указала range до 500, потому что, хоть макс. значение и 900, после 500 их уже слишком мало, поэтому они скорее мешают для оценки общей картины. Тем не менее, большинство этих гистограм по распределению напоминают распределение Пуассона."
   ]
  },
  {
   "cell_type": "code",
   "execution_count": 27,
   "metadata": {
    "scrolled": true
   },
   "outputs": [
    {
     "data": {
      "image/png": "[encoded data removed]",
      "text/plain": [
       "<Figure size 720x360 with 1 Axes>"
      ]
     },
     "metadata": {
      "needs_background": "light"
     },
     "output_type": "display_data"
    },
    {
     "data": {
      "image/png": "[encoded data removed]",
      "text/plain": [
       "<Figure size 720x360 with 1 Axes>"
      ]
     },
     "metadata": {
      "needs_background": "light"
     },
     "output_type": "display_data"
    },
    {
     "data": {
      "image/png": "[encoded data removed]",
      "text/plain": [
       "<Figure size 720x360 with 1 Axes>"
      ]
     },
     "metadata": {
      "needs_background": "light"
     },
     "output_type": "display_data"
    }
   ],
   "source": [
    "cols = ['floors_total', 'living_area', 'floor']\n",
    "for i in cols:\n",
    "    df[i].hist(bins=100, figsize=(10,5), grid=True)\n",
    "    plt.show()"
   ]
  },
  {
   "cell_type": "code",
   "execution_count": 13,
   "metadata": {},
   "outputs": [
    {
     "name": "stdout",
     "output_type": "stream",
     "text": [
      "count    23699.000000\n",
      "mean       368.684459\n",
      "std        518.930898\n",
      "min          1.000000\n",
      "25%         45.000000\n",
      "50%        124.000000\n",
      "75%        390.000000\n",
      "max       1580.000000\n",
      "Name: days_exposition, dtype: float64\n",
      "\n",
      "В среднем жилье продается за 368.68 дней\n",
      "Медианное число дней, чтобы продать жилье - 124.0 дней\n",
      "\n"
     ]
    },
    {
     "data": {
      "text/plain": [
       "<matplotlib.axes._subplots.AxesSubplot at 0x7fa5c31bc610>"
      ]
     },
     "execution_count": 13,
     "metadata": {},
     "output_type": "execute_result"
    },
    {
     "data": {
      "image/png": "[encoded data removed]",
      "text/plain": [
       "<Figure size 720x720 with 1 Axes>"
      ]
     },
     "metadata": {
      "needs_background": "light"
     },
     "output_type": "display_data"
    }
   ],
   "source": [
    "#Изучение времени продажи кв.\n",
    "print(df['days_exposition'].describe())\n",
    "mean = (df['days_exposition'].mean()).round(2)\n",
    "median = (df['days_exposition'].median()).round(2)\n",
    "print()\n",
    "print(\"В среднем жилье продается за {} дней\".format(mean))\n",
    "print(\"Медианное число дней, чтобы продать жилье - {} дней\".format(median))\n",
    "print()\n",
    "df['days_exposition'].hist(bins=80, range=(0,1600), figsize=(10,10), grid=True)"
   ]
  },
  {
   "cell_type": "markdown",
   "metadata": {},
   "source": [
    "**Вывод 4.2** : Благодаря методу describe, можно сделать след. выводы: \n",
    "1) Макс. кол-во дней выставления объявления - 1580, но гистограмма показывает, что только 25% всех данных больше 390. \n",
    "\n",
    "2) У гистограммы в целом довольно большая концентрация данных в от 0 до 100 дней, затем увеличение кол-ва дней для продажи квартиры уменьшается в числе, и наконец виден выброс на 1580. Этот выброс легко объяснить тем, что при заполнении пропусков я руководствовалась логикой, что отсутствующие значения означают, что квартира все еще выставленна на продажу. Так как природа пропусков неизвестна, а также это менее 10% всех данных в столбце, я не стану учитывать числа 1580. \n",
    "\n",
    "3) По гистограмме также видно, что после 800 в целом очень мало значений, поэтому все значения выше 1000 это уже необычно долгие значения.Если считать, что в году 365 дней, то 1000 дней будет 2.7 года, а 800 дней - 2.1. При этом, % концентрирования данных после 800 и 1000 не очень отличается. Это довольно необычно долгое время для продажи квартиры. Возможно с ней или с ее документами какие-то проблемы. В дальнейшем я установила верхний лимит для анализа данных чуть больше 2х лет, то есть 800 дней\n",
    "\n",
    "4) Соответственно, квартиры проданные за 1 день (минимальное значение) это необычно быстро. Возможно, сделка о продаже квартиры была заключена заранее или же покупателю было не важно, какую квартиру они покупают. Значения ниже 45 дней занимают только 25% всех данных."
   ]
  },
  {
   "cell_type": "code",
   "execution_count": 14,
   "metadata": {},
   "outputs": [
    {
     "name": "stdout",
     "output_type": "stream",
     "text": [
      "count    19924.000000\n",
      "mean       155.848474\n",
      "std        164.903461\n",
      "min          1.000000\n",
      "25%         44.000000\n",
      "50%         91.000000\n",
      "75%        212.000000\n",
      "max        799.000000\n",
      "Name: days_exposition, dtype: float64\n"
     ]
    },
    {
     "data": {
      "text/plain": [
       "<matplotlib.axes._subplots.AxesSubplot at 0x7fa600abb850>"
      ]
     },
     "execution_count": 14,
     "metadata": {},
     "output_type": "execute_result"
    },
    {
     "data": {
      "image/png": "[encoded data removed]",
      "text/plain": [
       "<Figure size 1080x720 with 1 Axes>"
      ]
     },
     "metadata": {
      "needs_background": "light"
     },
     "output_type": "display_data"
    }
   ],
   "source": [
    "#Удаление редких и выбивающихся значений\n",
    "good_data = df.query('days_exposition < 800')\n",
    "print(good_data['days_exposition'].describe())\n",
    "good_data['days_exposition'].hist(bins=200, range=(0,800), figsize=(15,10), grid=True)"
   ]
  },
  {
   "cell_type": "markdown",
   "metadata": {},
   "source": [
    "**Вывод 4.3** : Можно сделать след. выводы: \n",
    "\n",
    "После выполнения среза данных и убирания всех выбивающихся значений, теперь все распределения на гистограмме видны более четко. Самое крупное воличество значения находятся в области примерно между 30 и 200 днями, что является нормальным временем для продажи жилья. Резкий выброс в кол-ве дней на продажу квартиры находится в области около 50 дней. Все значения выше и ниже - редкие случаи."
   ]
  },
  {
   "cell_type": "code",
   "execution_count": 15,
   "metadata": {
    "scrolled": true
   },
   "outputs": [
    {
     "name": "stdout",
     "output_type": "stream",
     "text": [
      "                     price_sq_m  cityCenters_nearest\n",
      "price_sq_m             1.000000            -0.252441\n",
      "cityCenters_nearest   -0.252441             1.000000\n"
     ]
    },
    {
     "data": {
      "text/plain": [
       "array([[<matplotlib.axes._subplots.AxesSubplot object at 0x7fa609bc59d0>,\n",
       "        <matplotlib.axes._subplots.AxesSubplot object at 0x7fa609668fd0>],\n",
       "       [<matplotlib.axes._subplots.AxesSubplot object at 0x7fa60968b810>,\n",
       "        <matplotlib.axes._subplots.AxesSubplot object at 0x7fa609644f90>]],\n",
       "      dtype=object)"
      ]
     },
     "execution_count": 15,
     "metadata": {},
     "output_type": "execute_result"
    },
    {
     "data": {
      "image/png": "[encoded data removed]",
      "text/plain": [
       "<Figure size 1080x1080 with 4 Axes>"
      ]
     },
     "metadata": {
      "needs_background": "light"
     },
     "output_type": "display_data"
    }
   ],
   "source": [
    "#зависит ли цена от площади, числа комнат, удалённости от центра.\n",
    "price_RoomAreaCenter = df[['price_sq_m','total_area', 'rooms','cityCenters_nearest']]\n",
    "print(price_RoomAreaCenter.corr()) #Корреляция между переменными в матрице\n",
    "\n",
    "pd.plotting.scatter_matrix(price_RoomAreaCenter, figsize=(15, 15)) "
   ]
  },
  {
   "cell_type": "markdown",
   "metadata": {},
   "source": [
    "**Вывод 4.4** : Можно сделать след. выводы: \n",
    "\n",
    "В данной матрице диаграмм рассеяния нам главным образом нужно обратить внимание на 1й столбец (крайний слева). \n",
    "1) Зависимость цены от площади помещения и кол-ва комнат: цена к отношению площади и кол-ва комнат распределена неравномерно. Чаще всего такой разброс данных означает недостаточнойсть или сильную неоднородность данных в таблице (возможно - ошибки в данных). Тем не менее, по гистограммам можно увидеть, что чем меньше площадь и меньше кол-во комнат, тем ниже цена - вне зависимости от регионов.\n",
    "\n",
    "2) Гистограмма зависимости цены от удаленности помещения от центра показывает, что цена может быть относительно низкой и при довльно большом расстоянии от центра. Однако в данном случае мы исследуем все регионы вместе, что очень сильно может исказить реальную картину статистики. Ниже мы рассмотрим ту же зависимость по конкретному местоположению  - Санкт-Петербургу.\n",
    "\n",
    "3) Из таблицы корреляции переменных видно (опять же, нам наиболее интересен крайний левый стобец), что цена, кол-во комнат, площидт имеют позитивную, но слабую корреляцию. Позитивная корреляция означает, что если один из параметров увеличится - второй тоже увеличится (но не сильно). То же самое относится и к высоте потолков, но в данном случае - означает, что если один из параметров станет меньше, то второй, наоборот, вырастет (например, возможно большинство покупателей предпочитают более низкие потолки и готовы заплатить чуточку больше за квартиру с такими потолками. Однако так как сильной корреляции нет, то напрашывается вывод, что есть какие-то другие, неизвестные нам факторы, которые влияют на цену."
   ]
  },
  {
   "cell_type": "code",
   "execution_count": 16,
   "metadata": {
    "scrolled": true
   },
   "outputs": [
    {
     "data": {
      "text/html": [
       "<div>\n",
       "<style scoped>\n",
       "    .dataframe tbody tr th:only-of-type {\n",
       "        vertical-align: middle;\n",
       "    }\n",
       "\n",
       "    .dataframe tbody tr th {\n",
       "        vertical-align: top;\n",
       "    }\n",
       "\n",
       "    .dataframe thead th {\n",
       "        text-align: right;\n",
       "    }\n",
       "</style>\n",
       "<table border=\"1\" class=\"dataframe\">\n",
       "  <thead>\n",
       "    <tr style=\"text-align: right;\">\n",
       "      <th></th>\n",
       "      <th>count</th>\n",
       "      <th>mean_price</th>\n",
       "      <th>median_price</th>\n",
       "    </tr>\n",
       "    <tr>\n",
       "      <th>floors_type</th>\n",
       "      <th></th>\n",
       "      <th></th>\n",
       "      <th></th>\n",
       "    </tr>\n",
       "  </thead>\n",
       "  <tbody>\n",
       "    <tr>\n",
       "      <td>другой</td>\n",
       "      <td>17441</td>\n",
       "      <td>103961.716530</td>\n",
       "      <td>98705</td>\n",
       "    </tr>\n",
       "    <tr>\n",
       "      <td>первый</td>\n",
       "      <td>2917</td>\n",
       "      <td>82361.068906</td>\n",
       "      <td>81578</td>\n",
       "    </tr>\n",
       "    <tr>\n",
       "      <td>последний</td>\n",
       "      <td>3341</td>\n",
       "      <td>93823.261598</td>\n",
       "      <td>88461</td>\n",
       "    </tr>\n",
       "  </tbody>\n",
       "</table>\n",
       "</div>"
      ],
      "text/plain": [
       "             count     mean_price  median_price\n",
       "floors_type                                    \n",
       "другой       17441  103961.716530         98705\n",
       "первый        2917   82361.068906         81578\n",
       "последний     3341   93823.261598         88461"
      ]
     },
     "metadata": {},
     "output_type": "display_data"
    }
   ],
   "source": [
    "#зависимость цены от того, на каком этаже расположена квартира: первом, последнем или другом.\n",
    "price_from_floor = df.pivot_table(index='floors_type', values='price_sq_m', aggfunc=['count','mean','median'])\n",
    "price_from_floor.columns = ['count', 'mean_price', 'median_price']\n",
    "display(price_from_floor)"
   ]
  },
  {
   "cell_type": "markdown",
   "metadata": {},
   "source": [
    "**Вывод 4.5** : Несмотря на то, что самая высокая средняя цена относится к типу этажей \"другой\", следует учитывать, что разница в количестве НЕ первых и НЕ последних этажей отличается в примерно 6 раз, а разница в среднем арифметическом - не так велика. Из этого можно сделать вывод, что самые дорогие квартиры (в среднем) - квартиры на последнем этаже, затем - квартиры на первом этаже, и наконец квартиры на остальных этажах по более умеренной цене."
   ]
  },
  {
   "cell_type": "code",
   "execution_count": 17,
   "metadata": {
    "scrolled": true
   },
   "outputs": [
    {
     "data": {
      "text/plain": [
       "array([[<matplotlib.axes._subplots.AxesSubplot object at 0x7fa600e79590>,\n",
       "        <matplotlib.axes._subplots.AxesSubplot object at 0x7fa600c1d6d0>,\n",
       "        <matplotlib.axes._subplots.AxesSubplot object at 0x7fa600b5ced0>,\n",
       "        <matplotlib.axes._subplots.AxesSubplot object at 0x7fa6009af6d0>],\n",
       "       [<matplotlib.axes._subplots.AxesSubplot object at 0x7fa5c3bcded0>,\n",
       "        <matplotlib.axes._subplots.AxesSubplot object at 0x7fa5c3b22710>,\n",
       "        <matplotlib.axes._subplots.AxesSubplot object at 0x7fa5c3aa5f10>,\n",
       "        <matplotlib.axes._subplots.AxesSubplot object at 0x7fa5c3a7d750>],\n",
       "       [<matplotlib.axes._subplots.AxesSubplot object at 0x7fa5c3a8b2d0>,\n",
       "        <matplotlib.axes._subplots.AxesSubplot object at 0x7fa5c304dc50>,\n",
       "        <matplotlib.axes._subplots.AxesSubplot object at 0x7fa5c2c5bf90>,\n",
       "        <matplotlib.axes._subplots.AxesSubplot object at 0x7fa5c2b30550>],\n",
       "       [<matplotlib.axes._subplots.AxesSubplot object at 0x7fa5c2af1d50>,\n",
       "        <matplotlib.axes._subplots.AxesSubplot object at 0x7fa5c29fe590>,\n",
       "        <matplotlib.axes._subplots.AxesSubplot object at 0x7fa5c297dd90>,\n",
       "        <matplotlib.axes._subplots.AxesSubplot object at 0x7fa5c29565d0>]],\n",
       "      dtype=object)"
      ]
     },
     "execution_count": 17,
     "metadata": {},
     "output_type": "execute_result"
    },
    {
     "data": {
      "image/png": "[encoded data removed]",
      "text/plain": [
       "<Figure size 1080x1080 with 16 Axes>"
      ]
     },
     "metadata": {
      "needs_background": "light"
     },
     "output_type": "display_data"
    }
   ],
   "source": [
    "#Также изучите зависимость от даты размещения: дня недели, месяца и года.\n",
    "price_from_date = df[['price_sq_m','publication_day', 'publication_month','publication_year']]\n",
    "pd.plotting.scatter_matrix(price_from_date, figsize=(15, 15)) "
   ]
  },
  {
   "cell_type": "markdown",
   "metadata": {},
   "source": [
    "**Вывод 4.6** : Подобно шагу 4.3, рассмотрим отношение цены к дням, месяцам и годам.\n",
    "1. Из гистограммы видно, что цены повысились, начиная с 2014 года. Самая высокая цена была зафиксирована в 2017 году, и общий разброс цен в этом году расположен на значениях относительно выше остальных. Возможно, этот скачок обусловлен кризисом в 2015-16 годах, но могут быть и другие причины.\n",
    "2. Что касается дня и месяца, здесь разбросы сконцентрированы чуть более равномерно, чем в \"year\", что означает, что цена не сильно зависит от времени года и числа месяца"
   ]
  },
  {
   "cell_type": "code",
   "execution_count": 18,
   "metadata": {
    "scrolled": true
   },
   "outputs": [
    {
     "name": "stdout",
     "output_type": "stream",
     "text": [
      "lemmatized_locality\n",
      "санкт-петербург    1907500\n",
      "всеволожск          642444\n",
      "зеленогорск         323943\n",
      "пушкин              256521\n",
      "петергоф            228392\n",
      "неизвестно          197752\n",
      "сестрорецк          182688\n",
      "репино              175000\n",
      "лисий нос           169883\n",
      "кудрово             162025\n",
      "Name: price_sq_m, dtype: int64\n"
     ]
    }
   ],
   "source": [
    "# населённые пункты самой высокой и низкой стоимостью жилья\n",
    "locations_price = df.pivot_table(index='lemmatized_locality', values='price_sq_m', aggfunc='max')\n",
    "highest_prices_loc = locations_price['price_sq_m'].nlargest(10)\n",
    "print(highest_prices_loc)"
   ]
  },
  {
   "cell_type": "markdown",
   "metadata": {},
   "source": [
    "**Вывод 4.7** : Благодаря столбцу с лемматизированными локациями, были явлены 10 населенных пунктов с самыми дорогими жилыми помещениями. На первом месте- Санкт-Петербург, цена на кв. метр в котором отличается от минимального значения в этом списке (Кудрово) более чем в 11 раз."
   ]
  },
  {
   "cell_type": "code",
   "execution_count": 19,
   "metadata": {
    "scrolled": true
   },
   "outputs": [
    {
     "data": {
      "text/plain": [
       "<matplotlib.axes._subplots.AxesSubplot at 0x7fa5c44d6590>"
      ]
     },
     "execution_count": 19,
     "metadata": {},
     "output_type": "execute_result"
    },
    {
     "data": {
      "image/png": "[encoded data removed]",
      "text/plain": [
       "<Figure size 432x288 with 1 Axes>"
      ]
     },
     "metadata": {
      "needs_background": "light"
     },
     "output_type": "display_data"
    }
   ],
   "source": [
    "#kак цена зависит от удалённости от центра\n",
    "df['km_to_cityCenters'] = (df['cityCenters_nearest'] / 1000).round(0) #конвертация растояния до центра города из метров в километры\n",
    "spb_slice = df.query('lemmatized_locality == \"санкт-петербург\"')\n",
    "\n",
    "spb_slice.plot(x='km_to_cityCenters', y='price_sq_m', style='o', xlim=(0, 30), grid=True) "
   ]
  },
  {
   "cell_type": "markdown",
   "metadata": {},
   "source": [
    "**Вывод 4.8** : На этом графике, который фокусируется на срезе по городу Санкт-Петербург (с самыми дорогими жилыми помезениями), четко видно, что чем ближе жилое помещение к центру (ближе к 0), тем выше цены на жилье."
   ]
  },
  {
   "cell_type": "code",
   "execution_count": 20,
   "metadata": {
    "scrolled": true
   },
   "outputs": [
    {
     "name": "stdout",
     "output_type": "stream",
     "text": [
      "         price_sq_m\n",
      "count  2.369900e+04\n",
      "mean   9.987371e+04\n",
      "std    5.041842e+04\n",
      "min    1.110000e+02\n",
      "25%    7.698500e+04\n",
      "50%    9.545400e+04\n",
      "75%    1.148640e+05\n",
      "max    1.907500e+06\n",
      "\n",
      "            price_sq_m\n",
      "price_sq_m         1.0\n"
     ]
    },
    {
     "data": {
      "text/plain": [
       "array([[<matplotlib.axes._subplots.AxesSubplot object at 0x7fa5c32fd850>,\n",
       "        <matplotlib.axes._subplots.AxesSubplot object at 0x7fa5c3203d10>,\n",
       "        <matplotlib.axes._subplots.AxesSubplot object at 0x7fa5c3107950>],\n",
       "       [<matplotlib.axes._subplots.AxesSubplot object at 0x7fa5c3094cd0>,\n",
       "        <matplotlib.axes._subplots.AxesSubplot object at 0x7fa5c2f5c990>,\n",
       "        <matplotlib.axes._subplots.AxesSubplot object at 0x7fa5c2eabd10>],\n",
       "       [<matplotlib.axes._subplots.AxesSubplot object at 0x7fa5c2a319d0>,\n",
       "        <matplotlib.axes._subplots.AxesSubplot object at 0x7fa5c2842210>,\n",
       "        <matplotlib.axes._subplots.AxesSubplot object at 0x7fa5c2842d50>]],\n",
       "      dtype=object)"
      ]
     },
     "execution_count": 20,
     "metadata": {},
     "output_type": "execute_result"
    },
    {
     "data": {
      "image/png": "[encoded data removed]",
      "text/plain": [
       "<Figure size 1080x1080 with 9 Axes>"
      ]
     },
     "metadata": {
      "needs_background": "light"
     },
     "output_type": "display_data"
    }
   ],
   "source": [
    "#Анализ квартир в центре города (Санкт-петербург)\n",
    "spb_cityCenter = spb_slice.query('km_to_cityCenters <= 2')\n",
    "print(df[['price_sq_m','total_area', 'rooms','ceiling_height']].describe())\n",
    "print()\n",
    "print(df[['price_sq_m','total_area', 'rooms','ceiling_height']].corr())\n",
    "\n",
    "housing_center = spb_cityCenter[['price_sq_m','rooms','km_to_cityCenters','floor','first_day_exposition']]\n",
    "\n",
    "pd.plotting.scatter_matrix(housing_center, figsize=(15, 15))"
   ]
  },
  {
   "cell_type": "markdown",
   "metadata": {},
   "source": [
    "Из таблицы корреляции переменных выше видно, что самая сильная корреляция - корреляция между кол-вом комнат и площадью квартиры (логичный вывод). Корреляция по всем остальным переменным позитивная, но слабая, что означает, что если один из параметров увеличится, другой тоже увеличится, но не сильно. Как и при прошлой таблици корреляции, это значает, что возможно есть какие-то другие, более значимые факторы, которые у нас отсутствуют."
   ]
  },
  {
   "cell_type": "markdown",
   "metadata": {},
   "source": [
    "**Вывод 4.9** : Аналогично с шагом 4.3 проанализируем отношение цены к этажу, растоянию от центра и кол-ву комнат, но в этот раз сфокусируемся на Санкт-Петербурге. \n",
    "1) Отношение цены к этажу: Наибольшее количество выставленных на продажу квартира находятся на 1-5 этажах. Однако, вопреки предыдущему анализу в шаге 4.5, самая высокая цена зафиксирована у 5 этажа. Является ли 5й этаж последним в этом дома - неизвестно.\n",
    "\n",
    "2) В данном анализе я предположила, что центром можно считать все квартиры расположенные на растоянии 0-2 км от условного \"центра города\". Как видно на гистограмме, непосредственно в центре Петеррбурга довольно мало объявлений. А самая высокая цена зафиксирована у помещений на расстоянии примерно 1 км от центра.\n",
    "\n",
    "3) Аналогично, по гистограмме видно, что самая большая цена зафиксирована у помещения с 3 комнатами. А также, наибольшее кол-во выставленных на продажу жилых площадей имеют 2-5 комнат."
   ]
  },
  {
   "cell_type": "markdown",
   "metadata": {},
   "source": [
    "## Общий вывод"
   ]
  },
  {
   "cell_type": "markdown",
   "metadata": {},
   "source": [
    "Разобъём итоги на несколько этапов:\n",
    "Шаг 1: Проведена первичная оценка имеющихся данных, выявлены пропуски, ошибки, намечен план дальнейших действий по предобработке данных\n",
    "Шаг 2: Обработан каждый из 22х столбцов в таблице, пропуски заполнены соответствующими значениями, логика заполнения пропусков зафиксирована (в выводе под заданием). По окончании предобработки данных, все пропуски заполнены, столбец 'locality_area' был лемматизирован и преобразован в новый столбец для удобства поиска по данным и с целью исправить имеющиеся ошибки, возникшие при вводе/хранении данных\n",
    "Шаг 3: Проведены необходимые расчеты и созданы соответствующие столбцы в общем датафрейме. Дополнительно был создан столбец 'last_price_in_mln', который отражал цену помещения в миллионах вместо единиц рублей.\n",
    "Шаг 4. Проведен исследовательский анализ данных, построены многочисленные графики, гистограммы и сводные таблицы, с целью исследовать данные с каждой стороны\n",
    "\n",
    "**ИТОГ:** Изначально поставленной задачей было установить параметры, которые бы помогли определять рыночную стоимость объектов недвижимости, чтобы она отслеживать аномалии и мошенническую деятельность. После тщательного анализа данных было выявлено, что самые дорогие квартиры находятся в Санкт-петербурге, в центре города, с кол-вом комнат 2-5, на первых этажах дома, которые были выставлены на продажу не дольше 2х лет. Примерно тот же тренд поддерживается и для других населенных пунктов.\n",
    "\n",
    "Среди аномалий было выявлено следующее: \n",
    "\n",
    "1) Большое количество пропусков в данных, которые описывают качества жилого помещения (растояние от центра, кол-во комнат, площадь помещения, этаж итд) и неравномерное их распределение (много выбросов)\n",
    "\n",
    "2) Были обнаружены жилые помещения, которые были выставлены на продажу более 3х лет. Также есть немалое количество квартир, которые продавались за срок меньше недели. Причина - неизвестна.\n",
    "\n",
    "**Рекоммендации:**\n",
    "1) Выяснить причину наличия пропусков и: а) заполнить их самостоятельно; б) потребовать самих продавцов заполнить отсутсвтующие данные, особенно связанные с описанием самого продаваемого объекта\n",
    "2) Удалять из базы данных все объявления, которые не закрываются более 2х лет.\n",
    "3) Выяснить причину \"слишком быстрого\" закрытия сделки на квартиры, если это возможно, и внести это в базу данных"
   ]
  }
 ],
 "metadata": {
  "ExecuteTimeLog": [
   {
    "duration": 609,
    "start_time": "2021-10-14T00:26:41.160Z"
   },
   {
    "duration": 84,
    "start_time": "2021-10-14T00:27:32.020Z"
   },
   {
    "duration": 99,
    "start_time": "2021-10-14T00:30:22.492Z"
   },
   {
    "duration": 686,
    "start_time": "2021-10-14T07:59:25.326Z"
   },
   {
    "duration": 97,
    "start_time": "2021-10-14T08:01:03.600Z"
   },
   {
    "duration": 119,
    "start_time": "2021-10-14T08:01:16.645Z"
   },
   {
    "duration": 99,
    "start_time": "2021-10-14T08:01:36.649Z"
   },
   {
    "duration": 402,
    "start_time": "2021-10-14T09:10:41.195Z"
   },
   {
    "duration": 364,
    "start_time": "2021-10-14T09:10:51.190Z"
   },
   {
    "duration": 375,
    "start_time": "2021-10-14T09:12:17.909Z"
   },
   {
    "duration": 2380,
    "start_time": "2021-10-14T09:13:01.061Z"
   },
   {
    "duration": 4,
    "start_time": "2021-10-14T09:16:27.646Z"
   },
   {
    "duration": 1475,
    "start_time": "2021-10-14T09:19:55.243Z"
   },
   {
    "duration": 1405,
    "start_time": "2021-10-14T09:21:06.922Z"
   },
   {
    "duration": 2175,
    "start_time": "2021-10-14T09:21:08.661Z"
   },
   {
    "duration": 1314,
    "start_time": "2021-10-14T09:21:57.892Z"
   },
   {
    "duration": 1375,
    "start_time": "2021-10-14T09:32:04.990Z"
   },
   {
    "duration": 48,
    "start_time": "2021-10-14T09:32:25.712Z"
   },
   {
    "duration": 356,
    "start_time": "2021-10-14T09:33:50.133Z"
   },
   {
    "duration": 7,
    "start_time": "2021-10-14T09:34:30.601Z"
   },
   {
    "duration": 11,
    "start_time": "2021-10-14T09:34:52.605Z"
   },
   {
    "duration": 345,
    "start_time": "2021-10-14T09:35:23.344Z"
   },
   {
    "duration": 11,
    "start_time": "2021-10-14T09:35:32.728Z"
   },
   {
    "duration": 10,
    "start_time": "2021-10-14T09:36:03.966Z"
   },
   {
    "duration": 337,
    "start_time": "2021-10-14T09:36:39.087Z"
   },
   {
    "duration": 9180,
    "start_time": "2021-10-14T09:36:57.985Z"
   },
   {
    "duration": 338,
    "start_time": "2021-10-14T09:37:34.364Z"
   },
   {
    "duration": 350,
    "start_time": "2021-10-14T09:37:56.250Z"
   },
   {
    "duration": 381,
    "start_time": "2021-10-14T09:38:32.832Z"
   },
   {
    "duration": 10,
    "start_time": "2021-10-14T09:38:51.331Z"
   },
   {
    "duration": 91,
    "start_time": "2021-10-14T09:38:58.472Z"
   },
   {
    "duration": 22,
    "start_time": "2021-10-14T09:39:03.875Z"
   },
   {
    "duration": 660,
    "start_time": "2021-10-14T09:41:09.524Z"
   },
   {
    "duration": 10175,
    "start_time": "2021-10-14T09:42:31.593Z"
   },
   {
    "duration": 96,
    "start_time": "2021-10-14T09:43:08.039Z"
   },
   {
    "duration": 366,
    "start_time": "2021-10-14T09:43:22.196Z"
   },
   {
    "duration": 19,
    "start_time": "2021-10-14T09:43:35.801Z"
   },
   {
    "duration": 13,
    "start_time": "2021-10-14T09:43:53.524Z"
   },
   {
    "duration": 544,
    "start_time": "2021-10-14T09:44:18.824Z"
   },
   {
    "duration": 537,
    "start_time": "2021-10-14T09:45:01.642Z"
   },
   {
    "duration": 663,
    "start_time": "2021-10-14T09:46:23.288Z"
   },
   {
    "duration": 1091,
    "start_time": "2021-10-14T09:47:13.771Z"
   },
   {
    "duration": 17,
    "start_time": "2021-10-14T09:47:22.520Z"
   },
   {
    "duration": 14,
    "start_time": "2021-10-14T09:49:25.356Z"
   },
   {
    "duration": 121,
    "start_time": "2021-10-14T09:49:38.437Z"
   },
   {
    "duration": 148,
    "start_time": "2021-10-14T09:49:42.649Z"
   },
   {
    "duration": 14,
    "start_time": "2021-10-14T09:50:28.511Z"
   },
   {
    "duration": 14,
    "start_time": "2021-10-14T09:50:53.896Z"
   },
   {
    "duration": 13,
    "start_time": "2021-10-14T09:51:07.677Z"
   },
   {
    "duration": 109,
    "start_time": "2021-10-14T09:51:27.326Z"
   },
   {
    "duration": 12,
    "start_time": "2021-10-14T09:51:34.971Z"
   },
   {
    "duration": 11,
    "start_time": "2021-10-14T09:52:04.507Z"
   },
   {
    "duration": 97,
    "start_time": "2021-10-14T09:52:12.290Z"
   },
   {
    "duration": 2331,
    "start_time": "2021-10-14T09:52:15.722Z"
   },
   {
    "duration": 19,
    "start_time": "2021-10-14T09:54:01.562Z"
   },
   {
    "duration": 106,
    "start_time": "2021-10-14T09:54:57.414Z"
   },
   {
    "duration": 1436,
    "start_time": "2021-10-14T09:55:01.643Z"
   },
   {
    "duration": 76,
    "start_time": "2021-10-14T09:56:34.898Z"
   },
   {
    "duration": 76,
    "start_time": "2021-10-14T09:56:43.615Z"
   },
   {
    "duration": 410,
    "start_time": "2021-10-14T10:00:48.517Z"
   },
   {
    "duration": 74,
    "start_time": "2021-10-14T10:01:43.111Z"
   },
   {
    "duration": 14,
    "start_time": "2021-10-14T10:01:46.577Z"
   },
   {
    "duration": 75,
    "start_time": "2021-10-14T10:07:54.058Z"
   },
   {
    "duration": 364,
    "start_time": "2021-10-14T10:07:57.624Z"
   },
   {
    "duration": 8745,
    "start_time": "2021-10-14T10:09:13.181Z"
   },
   {
    "duration": -19,
    "start_time": "2021-10-14T10:09:21.946Z"
   },
   {
    "duration": 8730,
    "start_time": "2021-10-14T10:09:26.555Z"
   },
   {
    "duration": 70,
    "start_time": "2021-10-14T10:15:53.098Z"
   },
   {
    "duration": 349,
    "start_time": "2021-10-14T10:15:56.416Z"
   },
   {
    "duration": 2,
    "start_time": "2021-10-14T10:17:22.877Z"
   },
   {
    "duration": 91,
    "start_time": "2021-10-14T11:09:32.308Z"
   },
   {
    "duration": 36,
    "start_time": "2021-10-14T11:09:37.674Z"
   },
   {
    "duration": 65,
    "start_time": "2021-10-14T11:16:36.127Z"
   },
   {
    "duration": 375,
    "start_time": "2021-10-14T11:16:38.234Z"
   },
   {
    "duration": 428,
    "start_time": "2021-10-14T11:16:54.154Z"
   },
   {
    "duration": 42,
    "start_time": "2021-10-14T11:17:32.811Z"
   },
   {
    "duration": 42,
    "start_time": "2021-10-14T11:17:45.231Z"
   },
   {
    "duration": 108,
    "start_time": "2021-10-14T11:17:56.042Z"
   },
   {
    "duration": 116,
    "start_time": "2021-10-14T11:18:06.098Z"
   },
   {
    "duration": 34,
    "start_time": "2021-10-14T11:18:25.845Z"
   },
   {
    "duration": 63,
    "start_time": "2021-10-14T11:19:57.655Z"
   },
   {
    "duration": 40,
    "start_time": "2021-10-14T11:19:59.642Z"
   },
   {
    "duration": 42,
    "start_time": "2021-10-14T11:22:54.232Z"
   },
   {
    "duration": 47,
    "start_time": "2021-10-14T11:24:50.012Z"
   },
   {
    "duration": 66,
    "start_time": "2021-10-14T11:25:24.834Z"
   },
   {
    "duration": 44,
    "start_time": "2021-10-14T11:25:27.692Z"
   },
   {
    "duration": 9776,
    "start_time": "2021-10-14T12:02:43.567Z"
   },
   {
    "duration": 67,
    "start_time": "2021-10-14T12:03:14.766Z"
   },
   {
    "duration": 50,
    "start_time": "2021-10-14T12:03:18.993Z"
   },
   {
    "duration": 64,
    "start_time": "2021-10-14T12:04:09.825Z"
   },
   {
    "duration": 48,
    "start_time": "2021-10-14T12:04:13.852Z"
   },
   {
    "duration": 67,
    "start_time": "2021-10-14T12:06:08.303Z"
   },
   {
    "duration": 60,
    "start_time": "2021-10-14T12:06:10.991Z"
   },
   {
    "duration": 55,
    "start_time": "2021-10-14T12:07:04.741Z"
   },
   {
    "duration": 58,
    "start_time": "2021-10-14T12:07:33.096Z"
   },
   {
    "duration": 75,
    "start_time": "2021-10-14T12:09:12.742Z"
   },
   {
    "duration": 62,
    "start_time": "2021-10-14T12:09:15.883Z"
   },
   {
    "duration": 58,
    "start_time": "2021-10-14T12:09:44.686Z"
   },
   {
    "duration": 56,
    "start_time": "2021-10-14T12:10:44.735Z"
   },
   {
    "duration": 67,
    "start_time": "2021-10-14T12:10:49.037Z"
   },
   {
    "duration": 66,
    "start_time": "2021-10-14T12:11:00.466Z"
   },
   {
    "duration": 58,
    "start_time": "2021-10-14T12:11:06.021Z"
   },
   {
    "duration": 62,
    "start_time": "2021-10-14T12:12:21.183Z"
   },
   {
    "duration": 67,
    "start_time": "2021-10-14T12:12:43.928Z"
   },
   {
    "duration": 66,
    "start_time": "2021-10-14T12:12:52.503Z"
   },
   {
    "duration": 58,
    "start_time": "2021-10-14T12:12:55.148Z"
   },
   {
    "duration": 66,
    "start_time": "2021-10-14T12:13:31.350Z"
   },
   {
    "duration": 57,
    "start_time": "2021-10-14T12:13:34.021Z"
   },
   {
    "duration": 65,
    "start_time": "2021-10-14T12:14:16.969Z"
   },
   {
    "duration": 58,
    "start_time": "2021-10-14T12:14:19.483Z"
   },
   {
    "duration": 69,
    "start_time": "2021-10-14T12:21:22.444Z"
   },
   {
    "duration": 72,
    "start_time": "2021-10-14T12:22:16.440Z"
   },
   {
    "duration": 76,
    "start_time": "2021-10-14T12:23:18.208Z"
   },
   {
    "duration": 73,
    "start_time": "2021-10-14T12:24:04.293Z"
   },
   {
    "duration": 72,
    "start_time": "2021-10-14T12:24:36.162Z"
   },
   {
    "duration": 67,
    "start_time": "2021-10-14T12:24:46.161Z"
   },
   {
    "duration": 74,
    "start_time": "2021-10-14T12:24:48.748Z"
   },
   {
    "duration": 70,
    "start_time": "2021-10-14T12:25:06.267Z"
   },
   {
    "duration": 66,
    "start_time": "2021-10-14T12:25:11.339Z"
   },
   {
    "duration": 71,
    "start_time": "2021-10-14T12:25:13.536Z"
   },
   {
    "duration": 67,
    "start_time": "2021-10-14T12:26:47.324Z"
   },
   {
    "duration": 413,
    "start_time": "2021-10-14T12:26:49.757Z"
   },
   {
    "duration": 60,
    "start_time": "2021-10-14T12:28:08.530Z"
   },
   {
    "duration": 73,
    "start_time": "2021-10-14T12:28:10.476Z"
   },
   {
    "duration": 65,
    "start_time": "2021-10-14T12:29:31.984Z"
   },
   {
    "duration": 410,
    "start_time": "2021-10-14T12:29:34.152Z"
   },
   {
    "duration": 284,
    "start_time": "2021-10-14T12:30:04.556Z"
   },
   {
    "duration": 72,
    "start_time": "2021-10-14T12:30:11.180Z"
   },
   {
    "duration": 488,
    "start_time": "2021-10-14T12:32:35.748Z"
   },
   {
    "duration": 67,
    "start_time": "2021-10-14T12:32:53.385Z"
   },
   {
    "duration": 431,
    "start_time": "2021-10-14T12:33:10.836Z"
   },
   {
    "duration": 935,
    "start_time": "2021-10-14T12:33:17.175Z"
   },
   {
    "duration": 380,
    "start_time": "2021-10-14T12:33:25.475Z"
   },
   {
    "duration": 64,
    "start_time": "2021-10-14T12:34:24.804Z"
   },
   {
    "duration": 70,
    "start_time": "2021-10-14T12:34:29.450Z"
   },
   {
    "duration": 185,
    "start_time": "2021-10-14T13:05:31.664Z"
   },
   {
    "duration": 78,
    "start_time": "2021-10-14T13:05:41.049Z"
   },
   {
    "duration": 82,
    "start_time": "2021-10-14T13:06:12.486Z"
   },
   {
    "duration": 64,
    "start_time": "2021-10-14T13:08:11.224Z"
   },
   {
    "duration": 574,
    "start_time": "2021-10-14T13:08:15.241Z"
   },
   {
    "duration": 65,
    "start_time": "2021-10-14T13:08:39.058Z"
   },
   {
    "duration": 58,
    "start_time": "2021-10-14T13:08:41.996Z"
   },
   {
    "duration": 55,
    "start_time": "2021-10-14T13:09:14.671Z"
   },
   {
    "duration": 60,
    "start_time": "2021-10-14T13:09:27.109Z"
   },
   {
    "duration": 64,
    "start_time": "2021-10-14T13:09:30.509Z"
   },
   {
    "duration": 57,
    "start_time": "2021-10-14T13:09:35.075Z"
   },
   {
    "duration": 78,
    "start_time": "2021-10-14T13:13:42.748Z"
   },
   {
    "duration": 47,
    "start_time": "2021-10-14T13:13:46.673Z"
   },
   {
    "duration": 65,
    "start_time": "2021-10-14T13:17:39.819Z"
   },
   {
    "duration": 8395,
    "start_time": "2021-10-14T13:17:46.622Z"
   },
   {
    "duration": 61,
    "start_time": "2021-10-14T13:17:58.735Z"
   },
   {
    "duration": 8522,
    "start_time": "2021-10-14T13:18:02.540Z"
   },
   {
    "duration": 412,
    "start_time": "2021-10-14T13:18:45.642Z"
   },
   {
    "duration": 67,
    "start_time": "2021-10-14T13:21:29.380Z"
   },
   {
    "duration": 1019,
    "start_time": "2021-10-14T13:21:32.081Z"
   },
   {
    "duration": 65,
    "start_time": "2021-10-14T13:21:55.194Z"
   },
   {
    "duration": 418,
    "start_time": "2021-10-14T13:21:58.707Z"
   },
   {
    "duration": 62,
    "start_time": "2021-10-14T13:25:29.238Z"
   },
   {
    "duration": 444,
    "start_time": "2021-10-14T13:25:29.302Z"
   },
   {
    "duration": 64,
    "start_time": "2021-10-14T13:26:38.640Z"
   },
   {
    "duration": 410,
    "start_time": "2021-10-14T13:26:40.981Z"
   },
   {
    "duration": 65,
    "start_time": "2021-10-14T13:27:02.823Z"
   },
   {
    "duration": 387,
    "start_time": "2021-10-14T13:27:05.518Z"
   },
   {
    "duration": 64,
    "start_time": "2021-10-14T13:27:20.866Z"
   },
   {
    "duration": 730,
    "start_time": "2021-10-14T13:27:23.496Z"
   },
   {
    "duration": 63,
    "start_time": "2021-10-14T13:28:29.683Z"
   },
   {
    "duration": 420,
    "start_time": "2021-10-14T13:28:32.885Z"
   },
   {
    "duration": 61,
    "start_time": "2021-10-14T13:32:03.937Z"
   },
   {
    "duration": 67,
    "start_time": "2021-10-14T13:32:07.688Z"
   },
   {
    "duration": 120,
    "start_time": "2021-10-14T13:32:45.990Z"
   },
   {
    "duration": 65,
    "start_time": "2021-10-14T13:32:53.382Z"
   },
   {
    "duration": 665,
    "start_time": "2021-10-14T21:07:40.208Z"
   },
   {
    "duration": 56,
    "start_time": "2021-10-14T21:07:42.591Z"
   },
   {
    "duration": 71,
    "start_time": "2021-10-14T21:11:40.587Z"
   },
   {
    "duration": 331,
    "start_time": "2021-10-14T21:11:42.911Z"
   },
   {
    "duration": 69,
    "start_time": "2021-10-14T21:12:12.184Z"
   },
   {
    "duration": 276,
    "start_time": "2021-10-14T21:12:14.660Z"
   },
   {
    "duration": 2,
    "start_time": "2021-10-14T21:12:18.215Z"
   },
   {
    "duration": 70,
    "start_time": "2021-10-14T21:12:59.289Z"
   },
   {
    "duration": 261,
    "start_time": "2021-10-14T21:13:01.406Z"
   },
   {
    "duration": 71,
    "start_time": "2021-10-14T21:16:26.006Z"
   },
   {
    "duration": 51,
    "start_time": "2021-10-14T21:16:27.761Z"
   },
   {
    "duration": 71,
    "start_time": "2021-10-14T21:16:37.396Z"
   },
   {
    "duration": 46,
    "start_time": "2021-10-14T21:16:39.191Z"
   },
   {
    "duration": 82,
    "start_time": "2021-10-14T21:21:46.066Z"
   },
   {
    "duration": 69,
    "start_time": "2021-10-14T21:22:02.906Z"
   },
   {
    "duration": 44,
    "start_time": "2021-10-14T21:22:18.892Z"
   },
   {
    "duration": 13,
    "start_time": "2021-10-14T21:22:22.244Z"
   },
   {
    "duration": 39,
    "start_time": "2021-10-14T21:22:50.754Z"
   },
   {
    "duration": 19,
    "start_time": "2021-10-14T21:22:53.276Z"
   },
   {
    "duration": 74,
    "start_time": "2021-10-14T21:23:52.916Z"
   },
   {
    "duration": 45,
    "start_time": "2021-10-14T21:23:55.155Z"
   },
   {
    "duration": 21,
    "start_time": "2021-10-14T21:23:57.866Z"
   },
   {
    "duration": 28,
    "start_time": "2021-10-14T21:24:24.823Z"
   },
   {
    "duration": 38,
    "start_time": "2021-10-14T21:28:51.773Z"
   },
   {
    "duration": 18,
    "start_time": "2021-10-14T21:28:53.916Z"
   },
   {
    "duration": 74,
    "start_time": "2021-10-14T21:48:42.020Z"
   },
   {
    "duration": 44,
    "start_time": "2021-10-14T21:48:43.982Z"
   },
   {
    "duration": 1606,
    "start_time": "2021-10-14T21:48:49.528Z"
   },
   {
    "duration": 72,
    "start_time": "2021-10-14T21:49:45.319Z"
   },
   {
    "duration": 44,
    "start_time": "2021-10-14T21:49:48.089Z"
   },
   {
    "duration": 3631,
    "start_time": "2021-10-14T21:50:43.290Z"
   },
   {
    "duration": 40,
    "start_time": "2021-10-14T21:50:52.579Z"
   },
   {
    "duration": 2413,
    "start_time": "2021-10-14T21:50:55.137Z"
   },
   {
    "duration": 68,
    "start_time": "2021-10-14T21:51:11.119Z"
   },
   {
    "duration": 42,
    "start_time": "2021-10-14T21:51:12.900Z"
   },
   {
    "duration": 258,
    "start_time": "2021-10-14T21:51:14.655Z"
   },
   {
    "duration": 28,
    "start_time": "2021-10-14T21:51:34.261Z"
   },
   {
    "duration": 73,
    "start_time": "2021-10-14T21:52:28.196Z"
   },
   {
    "duration": 48,
    "start_time": "2021-10-14T21:52:30.076Z"
   },
   {
    "duration": 1614,
    "start_time": "2021-10-14T21:52:32.851Z"
   },
   {
    "duration": 68,
    "start_time": "2021-10-14T21:54:05.944Z"
   },
   {
    "duration": 43,
    "start_time": "2021-10-14T21:54:08.835Z"
   },
   {
    "duration": 31,
    "start_time": "2021-10-14T21:54:11.367Z"
   },
   {
    "duration": 18,
    "start_time": "2021-10-14T21:54:34.014Z"
   },
   {
    "duration": 75,
    "start_time": "2021-10-14T22:49:31.153Z"
   },
   {
    "duration": 46,
    "start_time": "2021-10-14T22:49:31.230Z"
   },
   {
    "duration": 19,
    "start_time": "2021-10-14T22:49:31.278Z"
   },
   {
    "duration": 21,
    "start_time": "2021-10-14T23:04:10.197Z"
   },
   {
    "duration": 2928,
    "start_time": "2021-10-14T23:09:03.631Z"
   },
   {
    "duration": 2216,
    "start_time": "2021-10-14T23:10:02.860Z"
   },
   {
    "duration": 1884,
    "start_time": "2021-10-14T23:10:35.243Z"
   },
   {
    "duration": 2944,
    "start_time": "2021-10-14T23:11:28.376Z"
   },
   {
    "duration": 1996,
    "start_time": "2021-10-14T23:11:42.674Z"
   },
   {
    "duration": 1744,
    "start_time": "2021-10-14T23:12:22.282Z"
   },
   {
    "duration": 95,
    "start_time": "2021-10-14T23:13:07.489Z"
   },
   {
    "duration": 2246,
    "start_time": "2021-10-14T23:13:22.812Z"
   },
   {
    "duration": 1983,
    "start_time": "2021-10-14T23:13:43.984Z"
   },
   {
    "duration": 1706,
    "start_time": "2021-10-14T23:15:21.053Z"
   },
   {
    "duration": 1722,
    "start_time": "2021-10-14T23:16:32.847Z"
   },
   {
    "duration": 79,
    "start_time": "2021-10-14T23:20:20.260Z"
   },
   {
    "duration": 98,
    "start_time": "2021-10-14T23:28:06.946Z"
   },
   {
    "duration": 491,
    "start_time": "2021-10-14T23:28:23.103Z"
   },
   {
    "duration": 2045,
    "start_time": "2021-10-14T23:28:34.174Z"
   },
   {
    "duration": 2054,
    "start_time": "2021-10-14T23:28:53.197Z"
   },
   {
    "duration": 1827,
    "start_time": "2021-10-14T23:29:21.447Z"
   },
   {
    "duration": 1928,
    "start_time": "2021-10-14T23:29:51.961Z"
   },
   {
    "duration": 1862,
    "start_time": "2021-10-14T23:33:22.456Z"
   },
   {
    "duration": 2067,
    "start_time": "2021-10-14T23:34:08.996Z"
   },
   {
    "duration": 1719,
    "start_time": "2021-10-14T23:34:55.519Z"
   },
   {
    "duration": 1994,
    "start_time": "2021-10-14T23:35:45.521Z"
   },
   {
    "duration": 81,
    "start_time": "2021-10-14T23:37:22.613Z"
   },
   {
    "duration": 1831,
    "start_time": "2021-10-14T23:37:27.437Z"
   },
   {
    "duration": 1737,
    "start_time": "2021-10-14T23:41:31.453Z"
   },
   {
    "duration": 1710,
    "start_time": "2021-10-14T23:41:52.189Z"
   },
   {
    "duration": 1695,
    "start_time": "2021-10-14T23:42:24.938Z"
   },
   {
    "duration": 1798,
    "start_time": "2021-10-14T23:42:48.039Z"
   },
   {
    "duration": 1751,
    "start_time": "2021-10-14T23:45:09.396Z"
   },
   {
    "duration": 4367,
    "start_time": "2021-10-14T23:47:27.328Z"
   },
   {
    "duration": 4119,
    "start_time": "2021-10-14T23:47:41.089Z"
   },
   {
    "duration": 3923,
    "start_time": "2021-10-14T23:48:48.670Z"
   },
   {
    "duration": 4388,
    "start_time": "2021-10-14T23:52:34.513Z"
   },
   {
    "duration": 4105,
    "start_time": "2021-10-14T23:53:28.171Z"
   },
   {
    "duration": 1706,
    "start_time": "2021-10-14T23:57:49.331Z"
   },
   {
    "duration": 1996,
    "start_time": "2021-10-14T23:58:07.727Z"
   },
   {
    "duration": 1712,
    "start_time": "2021-10-14T23:58:36.442Z"
   },
   {
    "duration": 1747,
    "start_time": "2021-10-15T00:00:10.785Z"
   },
   {
    "duration": 77,
    "start_time": "2021-10-15T00:01:37.129Z"
   },
   {
    "duration": 48,
    "start_time": "2021-10-15T00:01:39.355Z"
   },
   {
    "duration": 1789,
    "start_time": "2021-10-15T00:03:03.917Z"
   },
   {
    "duration": 2051,
    "start_time": "2021-10-15T00:05:11.460Z"
   },
   {
    "duration": 2011,
    "start_time": "2021-10-15T00:05:29.767Z"
   },
   {
    "duration": 1952,
    "start_time": "2021-10-15T00:05:39.327Z"
   },
   {
    "duration": 1976,
    "start_time": "2021-10-15T00:07:16.736Z"
   },
   {
    "duration": 1800,
    "start_time": "2021-10-15T00:07:40.623Z"
   },
   {
    "duration": 1734,
    "start_time": "2021-10-15T00:08:37.705Z"
   },
   {
    "duration": 89,
    "start_time": "2021-10-15T00:10:29.948Z"
   },
   {
    "duration": 1924,
    "start_time": "2021-10-15T00:10:33.077Z"
   },
   {
    "duration": 1700,
    "start_time": "2021-10-15T00:10:55.186Z"
   },
   {
    "duration": 74,
    "start_time": "2021-10-15T00:22:46.473Z"
   },
   {
    "duration": 48,
    "start_time": "2021-10-15T00:22:49.336Z"
   },
   {
    "duration": 38314,
    "start_time": "2021-10-15T00:23:37.679Z"
   },
   {
    "duration": 43303,
    "start_time": "2021-10-15T00:24:32.533Z"
   },
   {
    "duration": 40147,
    "start_time": "2021-10-15T00:25:38.769Z"
   },
   {
    "duration": 37718,
    "start_time": "2021-10-15T00:26:40.865Z"
   },
   {
    "duration": 88,
    "start_time": "2021-10-15T00:29:15.736Z"
   },
   {
    "duration": 2885,
    "start_time": "2021-10-15T00:29:23.790Z"
   },
   {
    "duration": 92,
    "start_time": "2021-10-15T00:30:17.815Z"
   },
   {
    "duration": 2640,
    "start_time": "2021-10-15T00:32:44.533Z"
   },
   {
    "duration": 1986,
    "start_time": "2021-10-15T00:33:10.894Z"
   },
   {
    "duration": 42417,
    "start_time": "2021-10-15T00:33:30.065Z"
   },
   {
    "duration": 2890,
    "start_time": "2021-10-15T00:34:16.757Z"
   },
   {
    "duration": 86,
    "start_time": "2021-10-15T00:34:32.901Z"
   },
   {
    "duration": 43288,
    "start_time": "2021-10-15T00:34:37.175Z"
   },
   {
    "duration": 38029,
    "start_time": "2021-10-15T00:35:38.687Z"
   },
   {
    "duration": 38784,
    "start_time": "2021-10-15T00:37:01.846Z"
   },
   {
    "duration": 37480,
    "start_time": "2021-10-15T00:38:45.663Z"
   },
   {
    "duration": 38364,
    "start_time": "2021-10-15T00:42:05.269Z"
   },
   {
    "duration": 42226,
    "start_time": "2021-10-15T00:43:15.686Z"
   },
   {
    "duration": 38507,
    "start_time": "2021-10-15T00:44:08.587Z"
   },
   {
    "duration": 39173,
    "start_time": "2021-10-15T00:46:41.737Z"
   },
   {
    "duration": 37823,
    "start_time": "2021-10-15T00:47:50.475Z"
   },
   {
    "duration": 37934,
    "start_time": "2021-10-15T00:48:58.018Z"
   },
   {
    "duration": 38292,
    "start_time": "2021-10-15T00:50:01.471Z"
   },
   {
    "duration": 38113,
    "start_time": "2021-10-15T00:51:53.507Z"
   },
   {
    "duration": 38045,
    "start_time": "2021-10-15T01:16:51.395Z"
   },
   {
    "duration": 2927,
    "start_time": "2021-10-15T01:18:33.326Z"
   },
   {
    "duration": 2885,
    "start_time": "2021-10-15T01:22:33.903Z"
   },
   {
    "duration": 42594,
    "start_time": "2021-10-15T01:23:24.258Z"
   },
   {
    "duration": 3871,
    "start_time": "2021-10-15T01:24:44.997Z"
   },
   {
    "duration": 4241,
    "start_time": "2021-10-15T01:25:32.306Z"
   },
   {
    "duration": 42196,
    "start_time": "2021-10-15T01:26:11.446Z"
   },
   {
    "duration": 38700,
    "start_time": "2021-10-15T01:28:48.907Z"
   },
   {
    "duration": 38016,
    "start_time": "2021-10-15T01:30:52.091Z"
   },
   {
    "duration": 37984,
    "start_time": "2021-10-15T01:32:13.482Z"
   },
   {
    "duration": 333,
    "start_time": "2021-10-15T01:34:03.451Z"
   },
   {
    "duration": 34697,
    "start_time": "2021-10-15T01:34:20.387Z"
   },
   {
    "duration": 73,
    "start_time": "2021-10-15T01:35:11.028Z"
   },
   {
    "duration": 47,
    "start_time": "2021-10-15T01:35:13.116Z"
   },
   {
    "duration": 35647,
    "start_time": "2021-10-15T01:35:14.075Z"
   },
   {
    "duration": 38452,
    "start_time": "2021-10-15T01:36:00.977Z"
   },
   {
    "duration": 43455,
    "start_time": "2021-10-15T01:38:00.055Z"
   },
   {
    "duration": 44430,
    "start_time": "2021-10-15T01:43:03.548Z"
   },
   {
    "duration": 46267,
    "start_time": "2021-10-15T01:48:58.482Z"
   },
   {
    "duration": 81,
    "start_time": "2021-10-15T01:58:27.017Z"
   },
   {
    "duration": 71,
    "start_time": "2021-10-15T01:58:29.528Z"
   },
   {
    "duration": 117,
    "start_time": "2021-10-15T03:33:26.756Z"
   },
   {
    "duration": 88,
    "start_time": "2021-10-15T03:33:26.876Z"
   },
   {
    "duration": 254,
    "start_time": "2021-10-15T03:34:11.147Z"
   },
   {
    "duration": -580,
    "start_time": "2021-10-15T03:34:11.983Z"
   },
   {
    "duration": -586,
    "start_time": "2021-10-15T03:34:11.991Z"
   },
   {
    "duration": 79,
    "start_time": "2021-10-15T03:34:25.431Z"
   },
   {
    "duration": 59,
    "start_time": "2021-10-15T03:34:25.512Z"
   },
   {
    "duration": 43252,
    "start_time": "2021-10-15T03:34:25.574Z"
   },
   {
    "duration": -112,
    "start_time": "2021-10-15T03:35:09.200Z"
   },
   {
    "duration": 245,
    "start_time": "2021-10-15T03:35:36.258Z"
   },
   {
    "duration": 19,
    "start_time": "2021-10-15T03:38:04.878Z"
   },
   {
    "duration": 254,
    "start_time": "2021-10-15T03:39:09.117Z"
   },
   {
    "duration": 20,
    "start_time": "2021-10-15T03:39:39.033Z"
   },
   {
    "duration": 23,
    "start_time": "2021-10-15T03:40:18.597Z"
   },
   {
    "duration": 18,
    "start_time": "2021-10-15T03:40:31.141Z"
   },
   {
    "duration": 16,
    "start_time": "2021-10-15T03:45:47.439Z"
   },
   {
    "duration": 26,
    "start_time": "2021-10-15T03:46:15.134Z"
   },
   {
    "duration": 16,
    "start_time": "2021-10-15T03:47:26.031Z"
   },
   {
    "duration": 30,
    "start_time": "2021-10-15T03:55:47.454Z"
   },
   {
    "duration": 1166,
    "start_time": "2021-10-15T03:57:00.153Z"
   },
   {
    "duration": 64,
    "start_time": "2021-10-15T03:59:06.626Z"
   },
   {
    "duration": 2006,
    "start_time": "2021-10-15T04:03:42.595Z"
   },
   {
    "duration": 1301,
    "start_time": "2021-10-15T04:04:10.248Z"
   },
   {
    "duration": 91,
    "start_time": "2021-10-15T04:05:11.997Z"
   },
   {
    "duration": 2166,
    "start_time": "2021-10-15T04:05:37.997Z"
   },
   {
    "duration": 1145,
    "start_time": "2021-10-15T04:06:37.626Z"
   },
   {
    "duration": 99,
    "start_time": "2021-10-15T04:19:02.348Z"
   },
   {
    "duration": 82,
    "start_time": "2021-10-15T04:19:17.431Z"
   },
   {
    "duration": 966,
    "start_time": "2021-10-15T04:19:27.256Z"
   },
   {
    "duration": 1283,
    "start_time": "2021-10-15T04:20:14.294Z"
   },
   {
    "duration": 1227,
    "start_time": "2021-10-15T04:21:15.924Z"
   },
   {
    "duration": 90,
    "start_time": "2021-10-15T04:21:28.057Z"
   },
   {
    "duration": 51,
    "start_time": "2021-10-15T04:21:28.762Z"
   },
   {
    "duration": 82,
    "start_time": "2021-10-15T17:54:38.324Z"
   },
   {
    "duration": 333,
    "start_time": "2021-10-15T17:55:03.699Z"
   },
   {
    "duration": 80,
    "start_time": "2021-10-15T17:57:51.344Z"
   },
   {
    "duration": 113,
    "start_time": "2021-10-15T17:58:00.067Z"
   },
   {
    "duration": 267,
    "start_time": "2021-10-15T17:58:11.696Z"
   },
   {
    "duration": 86,
    "start_time": "2021-10-15T17:58:20.128Z"
   },
   {
    "duration": 1632,
    "start_time": "2021-10-15T17:59:05.299Z"
   },
   {
    "duration": 284,
    "start_time": "2021-10-15T17:59:22.829Z"
   },
   {
    "duration": 798,
    "start_time": "2021-10-15T17:59:29.551Z"
   },
   {
    "duration": 46,
    "start_time": "2021-10-15T17:59:30.351Z"
   },
   {
    "duration": 30916,
    "start_time": "2021-10-15T17:59:30.400Z"
   },
   {
    "duration": -948,
    "start_time": "2021-10-15T18:00:03.628Z"
   },
   {
    "duration": 1161,
    "start_time": "2021-10-15T18:00:57.189Z"
   },
   {
    "duration": 72,
    "start_time": "2021-10-15T18:02:53.592Z"
   },
   {
    "duration": 46,
    "start_time": "2021-10-15T18:02:56.448Z"
   },
   {
    "duration": 32185,
    "start_time": "2021-10-15T18:02:59.847Z"
   },
   {
    "duration": 1181,
    "start_time": "2021-10-15T18:03:32.034Z"
   },
   {
    "duration": 1353,
    "start_time": "2021-10-15T18:09:39.664Z"
   },
   {
    "duration": 494,
    "start_time": "2021-10-15T18:10:13.964Z"
   },
   {
    "duration": 450,
    "start_time": "2021-10-15T18:14:55.683Z"
   },
   {
    "duration": 475,
    "start_time": "2021-10-15T18:15:07.930Z"
   },
   {
    "duration": 504,
    "start_time": "2021-10-15T18:15:14.290Z"
   },
   {
    "duration": 191,
    "start_time": "2021-10-15T18:24:00.658Z"
   },
   {
    "duration": 191,
    "start_time": "2021-10-15T18:25:54.484Z"
   },
   {
    "duration": 26,
    "start_time": "2021-10-15T18:26:38.347Z"
   },
   {
    "duration": 72,
    "start_time": "2021-10-15T18:26:45.616Z"
   },
   {
    "duration": 44,
    "start_time": "2021-10-15T18:26:46.297Z"
   },
   {
    "duration": 34275,
    "start_time": "2021-10-15T18:26:46.488Z"
   },
   {
    "duration": 37,
    "start_time": "2021-10-15T18:27:20.765Z"
   },
   {
    "duration": 1846,
    "start_time": "2021-10-15T18:28:19.645Z"
   },
   {
    "duration": 3472,
    "start_time": "2021-10-15T18:28:32.121Z"
   },
   {
    "duration": 993,
    "start_time": "2021-10-15T18:30:34.026Z"
   },
   {
    "duration": 196,
    "start_time": "2021-10-15T18:30:46.454Z"
   },
   {
    "duration": 323,
    "start_time": "2021-10-15T18:34:05.357Z"
   },
   {
    "duration": 82,
    "start_time": "2021-10-15T18:37:11.405Z"
   },
   {
    "duration": 191,
    "start_time": "2021-10-15T18:37:19.775Z"
   },
   {
    "duration": 3441,
    "start_time": "2021-10-15T18:38:24.431Z"
   },
   {
    "duration": 613,
    "start_time": "2021-10-15T18:47:41.510Z"
   },
   {
    "duration": 564,
    "start_time": "2021-10-15T18:53:09.975Z"
   },
   {
    "duration": 571,
    "start_time": "2021-10-15T18:53:21.182Z"
   },
   {
    "duration": 559,
    "start_time": "2021-10-15T18:57:48.199Z"
   },
   {
    "duration": 605,
    "start_time": "2021-10-15T18:58:06.788Z"
   },
   {
    "duration": 71,
    "start_time": "2021-10-15T19:18:37.709Z"
   },
   {
    "duration": 44,
    "start_time": "2021-10-15T19:18:39.720Z"
   },
   {
    "duration": 33364,
    "start_time": "2021-10-15T19:18:39.766Z"
   },
   {
    "duration": 650,
    "start_time": "2021-10-15T19:19:13.133Z"
   },
   {
    "duration": 680,
    "start_time": "2021-10-15T19:21:01.285Z"
   },
   {
    "duration": 671,
    "start_time": "2021-10-15T19:21:22.876Z"
   },
   {
    "duration": 655,
    "start_time": "2021-10-15T19:22:17.580Z"
   },
   {
    "duration": 605,
    "start_time": "2021-10-15T19:22:43.560Z"
   },
   {
    "duration": 540,
    "start_time": "2021-10-15T20:24:43.777Z"
   },
   {
    "duration": 47,
    "start_time": "2021-10-15T20:37:18.249Z"
   },
   {
    "duration": 81,
    "start_time": "2021-10-15T20:37:37.224Z"
   },
   {
    "duration": 47,
    "start_time": "2021-10-15T20:37:37.485Z"
   },
   {
    "duration": 36406,
    "start_time": "2021-10-15T20:37:37.792Z"
   },
   {
    "duration": 627,
    "start_time": "2021-10-15T20:38:14.200Z"
   },
   {
    "duration": 25,
    "start_time": "2021-10-15T20:38:14.867Z"
   },
   {
    "duration": 21,
    "start_time": "2021-10-15T20:38:23.484Z"
   },
   {
    "duration": 11,
    "start_time": "2021-10-15T22:47:42.322Z"
   },
   {
    "duration": 353,
    "start_time": "2021-10-15T22:57:11.865Z"
   },
   {
    "duration": 240,
    "start_time": "2021-10-15T22:57:20.374Z"
   },
   {
    "duration": 258,
    "start_time": "2021-10-15T22:57:56.422Z"
   },
   {
    "duration": 74,
    "start_time": "2021-10-15T22:58:13.261Z"
   },
   {
    "duration": 59,
    "start_time": "2021-10-15T22:58:17.877Z"
   },
   {
    "duration": 36062,
    "start_time": "2021-10-15T22:58:21.163Z"
   },
   {
    "duration": 665,
    "start_time": "2021-10-15T22:58:57.227Z"
   },
   {
    "duration": 251,
    "start_time": "2021-10-15T22:58:57.894Z"
   },
   {
    "duration": 263,
    "start_time": "2021-10-15T22:59:56.505Z"
   },
   {
    "duration": 1120,
    "start_time": "2021-10-15T23:00:09.264Z"
   },
   {
    "duration": 995,
    "start_time": "2021-10-15T23:00:48.719Z"
   },
   {
    "duration": 848,
    "start_time": "2021-10-15T23:01:10.151Z"
   },
   {
    "duration": 826,
    "start_time": "2021-10-15T23:01:39.681Z"
   },
   {
    "duration": 1177,
    "start_time": "2021-10-15T23:01:49.617Z"
   },
   {
    "duration": 336,
    "start_time": "2021-10-15T23:02:05.779Z"
   },
   {
    "duration": 1048,
    "start_time": "2021-10-15T23:02:13.722Z"
   },
   {
    "duration": 389,
    "start_time": "2021-10-15T23:02:36.553Z"
   },
   {
    "duration": 1886,
    "start_time": "2021-10-15T23:02:43.889Z"
   },
   {
    "duration": 255,
    "start_time": "2021-10-15T23:02:51.653Z"
   },
   {
    "duration": 377,
    "start_time": "2021-10-15T23:02:58.686Z"
   },
   {
    "duration": 244,
    "start_time": "2021-10-15T23:04:24.335Z"
   },
   {
    "duration": 262,
    "start_time": "2021-10-15T23:04:34.468Z"
   },
   {
    "duration": 632,
    "start_time": "2021-10-15T23:04:47.010Z"
   },
   {
    "duration": 610,
    "start_time": "2021-10-15T23:04:56.737Z"
   },
   {
    "duration": 82,
    "start_time": "2021-10-15T23:07:16.391Z"
   },
   {
    "duration": 129,
    "start_time": "2021-10-15T23:07:38.433Z"
   },
   {
    "duration": 81,
    "start_time": "2021-10-15T23:07:44.573Z"
   },
   {
    "duration": 636,
    "start_time": "2021-10-15T23:07:57.861Z"
   },
   {
    "duration": 386,
    "start_time": "2021-10-15T23:08:21.852Z"
   },
   {
    "duration": 404,
    "start_time": "2021-10-15T23:08:56.842Z"
   },
   {
    "duration": 403,
    "start_time": "2021-10-15T23:09:05.323Z"
   },
   {
    "duration": 390,
    "start_time": "2021-10-15T23:09:27.707Z"
   },
   {
    "duration": 475,
    "start_time": "2021-10-15T23:09:40.502Z"
   },
   {
    "duration": 400,
    "start_time": "2021-10-15T23:10:30.718Z"
   },
   {
    "duration": 397,
    "start_time": "2021-10-15T23:10:40.901Z"
   },
   {
    "duration": 497,
    "start_time": "2021-10-15T23:11:00.509Z"
   },
   {
    "duration": 394,
    "start_time": "2021-10-15T23:11:10.174Z"
   },
   {
    "duration": 617,
    "start_time": "2021-10-15T23:12:00.492Z"
   },
   {
    "duration": 443,
    "start_time": "2021-10-15T23:12:08.983Z"
   },
   {
    "duration": 504,
    "start_time": "2021-10-16T00:52:42.396Z"
   },
   {
    "duration": 415,
    "start_time": "2021-10-16T00:53:50.015Z"
   },
   {
    "duration": 410,
    "start_time": "2021-10-16T00:54:10.947Z"
   },
   {
    "duration": 410,
    "start_time": "2021-10-16T00:54:22.957Z"
   },
   {
    "duration": 855,
    "start_time": "2021-10-16T00:54:42.778Z"
   },
   {
    "duration": 437,
    "start_time": "2021-10-16T00:55:16.628Z"
   },
   {
    "duration": 419,
    "start_time": "2021-10-16T00:57:20.416Z"
   },
   {
    "duration": 1020,
    "start_time": "2021-10-16T00:58:11.721Z"
   },
   {
    "duration": 398,
    "start_time": "2021-10-16T00:58:40.217Z"
   },
   {
    "duration": 491,
    "start_time": "2021-10-16T00:58:57.999Z"
   },
   {
    "duration": 394,
    "start_time": "2021-10-16T00:59:07.342Z"
   },
   {
    "duration": 243,
    "start_time": "2021-10-16T00:59:17.696Z"
   },
   {
    "duration": 255,
    "start_time": "2021-10-16T00:59:37.345Z"
   },
   {
    "duration": 252,
    "start_time": "2021-10-16T00:59:51.034Z"
   },
   {
    "duration": 387,
    "start_time": "2021-10-16T00:59:57.063Z"
   },
   {
    "duration": 1847,
    "start_time": "2021-10-16T01:00:11.193Z"
   },
   {
    "duration": 1954,
    "start_time": "2021-10-16T01:01:49.467Z"
   },
   {
    "duration": 396,
    "start_time": "2021-10-16T01:02:13.127Z"
   },
   {
    "duration": 86,
    "start_time": "2021-10-16T01:02:24.854Z"
   },
   {
    "duration": 47,
    "start_time": "2021-10-16T01:02:25.736Z"
   },
   {
    "duration": 32626,
    "start_time": "2021-10-16T01:02:25.880Z"
   },
   {
    "duration": 592,
    "start_time": "2021-10-16T01:02:58.509Z"
   },
   {
    "duration": 32,
    "start_time": "2021-10-16T01:02:59.103Z"
   },
   {
    "duration": 541,
    "start_time": "2021-10-16T01:02:59.137Z"
   },
   {
    "duration": 415,
    "start_time": "2021-10-16T01:07:55.564Z"
   },
   {
    "duration": 413,
    "start_time": "2021-10-16T01:08:54.078Z"
   },
   {
    "duration": 275,
    "start_time": "2021-10-16T01:09:20.097Z"
   },
   {
    "duration": 389,
    "start_time": "2021-10-16T01:09:52.861Z"
   },
   {
    "duration": 258,
    "start_time": "2021-10-16T01:10:09.906Z"
   },
   {
    "duration": 395,
    "start_time": "2021-10-16T01:10:35.768Z"
   },
   {
    "duration": 79,
    "start_time": "2021-10-16T01:10:59.923Z"
   },
   {
    "duration": 47,
    "start_time": "2021-10-16T01:11:03.857Z"
   },
   {
    "duration": 35828,
    "start_time": "2021-10-16T01:11:07.140Z"
   },
   {
    "duration": 21,
    "start_time": "2021-10-16T01:12:01.469Z"
   },
   {
    "duration": 34,
    "start_time": "2021-10-16T01:12:03.672Z"
   },
   {
    "duration": 39652,
    "start_time": "2021-10-16T01:12:07.534Z"
   },
   {
    "duration": 16,
    "start_time": "2021-10-16T01:12:47.188Z"
   },
   {
    "duration": 74,
    "start_time": "2021-10-16T01:12:50.836Z"
   },
   {
    "duration": 15,
    "start_time": "2021-10-16T01:12:52.379Z"
   },
   {
    "duration": 39,
    "start_time": "2021-10-16T01:12:53.301Z"
   },
   {
    "duration": 23,
    "start_time": "2021-10-16T01:12:54.320Z"
   },
   {
    "duration": 37909,
    "start_time": "2021-10-16T01:12:55.259Z"
   },
   {
    "duration": 603,
    "start_time": "2021-10-16T01:13:33.170Z"
   },
   {
    "duration": 74,
    "start_time": "2021-10-16T01:13:49.477Z"
   },
   {
    "duration": 16,
    "start_time": "2021-10-16T01:13:53.254Z"
   },
   {
    "duration": 35,
    "start_time": "2021-10-16T01:13:58.222Z"
   },
   {
    "duration": 32,
    "start_time": "2021-10-16T01:14:04.110Z"
   },
   {
    "duration": 39746,
    "start_time": "2021-10-16T01:14:09.625Z"
   },
   {
    "duration": 37798,
    "start_time": "2021-10-16T01:15:01.805Z"
   },
   {
    "duration": 584,
    "start_time": "2021-10-16T01:15:45.222Z"
   },
   {
    "duration": 406,
    "start_time": "2021-10-16T01:15:53.745Z"
   },
   {
    "duration": 380,
    "start_time": "2021-10-16T01:16:55.104Z"
   },
   {
    "duration": 32,
    "start_time": "2021-10-16T01:17:48.263Z"
   },
   {
    "duration": 36,
    "start_time": "2021-10-16T01:18:32.918Z"
   },
   {
    "duration": 226,
    "start_time": "2021-10-16T01:19:24.376Z"
   },
   {
    "duration": 86,
    "start_time": "2021-10-16T01:19:33.473Z"
   },
   {
    "duration": 263,
    "start_time": "2021-10-16T01:19:43.450Z"
   },
   {
    "duration": 285,
    "start_time": "2021-10-16T01:19:49.430Z"
   },
   {
    "duration": 960,
    "start_time": "2021-10-16T01:19:56.935Z"
   },
   {
    "duration": 16,
    "start_time": "2021-10-16T01:20:39.279Z"
   },
   {
    "duration": 4,
    "start_time": "2021-10-16T01:20:45.388Z"
   },
   {
    "duration": 4,
    "start_time": "2021-10-16T01:20:55.900Z"
   },
   {
    "duration": 848,
    "start_time": "2021-10-16T01:26:23.055Z"
   },
   {
    "duration": 5382,
    "start_time": "2021-10-16T01:26:54.492Z"
   },
   {
    "duration": 800,
    "start_time": "2021-10-16T01:27:26.236Z"
   },
   {
    "duration": 5692,
    "start_time": "2021-10-16T01:27:39.036Z"
   },
   {
    "duration": 1167,
    "start_time": "2021-10-16T01:27:56.472Z"
   },
   {
    "duration": 5709,
    "start_time": "2021-10-16T01:28:22.909Z"
   },
   {
    "duration": 370,
    "start_time": "2021-10-16T01:28:40.032Z"
   },
   {
    "duration": 164,
    "start_time": "2021-10-16T01:29:01.945Z"
   },
   {
    "duration": 810,
    "start_time": "2021-10-16T01:29:11.707Z"
   },
   {
    "duration": 1246,
    "start_time": "2021-10-16T01:29:26.804Z"
   },
   {
    "duration": 170,
    "start_time": "2021-10-16T01:29:52.463Z"
   },
   {
    "duration": 257,
    "start_time": "2021-10-16T01:30:21.108Z"
   },
   {
    "duration": 5611,
    "start_time": "2021-10-16T01:30:57.141Z"
   },
   {
    "duration": 5853,
    "start_time": "2021-10-16T01:31:03.235Z"
   },
   {
    "duration": 395,
    "start_time": "2021-10-16T01:31:24.542Z"
   },
   {
    "duration": 5401,
    "start_time": "2021-10-16T01:31:37.703Z"
   },
   {
    "duration": 1057,
    "start_time": "2021-10-16T01:43:45.056Z"
   },
   {
    "duration": 1040,
    "start_time": "2021-10-16T01:45:01.883Z"
   },
   {
    "duration": 474,
    "start_time": "2021-10-16T01:46:16.611Z"
   },
   {
    "duration": 458,
    "start_time": "2021-10-16T01:46:36.594Z"
   },
   {
    "duration": 443,
    "start_time": "2021-10-16T01:46:45.470Z"
   },
   {
    "duration": 457,
    "start_time": "2021-10-16T01:46:58.415Z"
   },
   {
    "duration": 5803,
    "start_time": "2021-10-16T01:47:21.294Z"
   },
   {
    "duration": 5892,
    "start_time": "2021-10-16T01:48:06.346Z"
   },
   {
    "duration": 5591,
    "start_time": "2021-10-16T01:48:54.874Z"
   },
   {
    "duration": 5838,
    "start_time": "2021-10-16T01:49:11.614Z"
   },
   {
    "duration": 4686,
    "start_time": "2021-10-16T01:49:24.881Z"
   },
   {
    "duration": 86,
    "start_time": "2021-10-16T01:50:35.372Z"
   },
   {
    "duration": 80,
    "start_time": "2021-10-16T01:52:03.436Z"
   },
   {
    "duration": 15,
    "start_time": "2021-10-16T01:52:07.575Z"
   },
   {
    "duration": 33,
    "start_time": "2021-10-16T01:52:10.403Z"
   },
   {
    "duration": 33,
    "start_time": "2021-10-16T01:52:21.536Z"
   },
   {
    "duration": 36071,
    "start_time": "2021-10-16T01:52:22.473Z"
   },
   {
    "duration": 584,
    "start_time": "2021-10-16T01:52:58.547Z"
   },
   {
    "duration": 4769,
    "start_time": "2021-10-16T01:52:59.133Z"
   },
   {
    "duration": 33,
    "start_time": "2021-10-16T01:53:34.993Z"
   },
   {
    "duration": 41623,
    "start_time": "2021-10-16T01:53:39.807Z"
   },
   {
    "duration": 596,
    "start_time": "2021-10-16T01:54:21.432Z"
   },
   {
    "duration": 4656,
    "start_time": "2021-10-16T01:54:22.030Z"
   },
   {
    "duration": 487,
    "start_time": "2021-10-16T01:55:02.653Z"
   },
   {
    "duration": 1520,
    "start_time": "2021-10-16T01:55:45.285Z"
   },
   {
    "duration": 401,
    "start_time": "2021-10-16T01:55:54.017Z"
   },
   {
    "duration": 395,
    "start_time": "2021-10-16T01:56:05.237Z"
   },
   {
    "duration": 396,
    "start_time": "2021-10-16T01:56:17.799Z"
   },
   {
    "duration": 240,
    "start_time": "2021-10-16T01:56:25.423Z"
   },
   {
    "duration": 374,
    "start_time": "2021-10-16T01:56:33.523Z"
   },
   {
    "duration": 655,
    "start_time": "2021-10-16T01:56:40.897Z"
   },
   {
    "duration": 366,
    "start_time": "2021-10-16T01:57:06.922Z"
   },
   {
    "duration": 392,
    "start_time": "2021-10-16T01:57:16.923Z"
   },
   {
    "duration": 260,
    "start_time": "2021-10-16T01:57:50.106Z"
   },
   {
    "duration": 251,
    "start_time": "2021-10-16T01:57:53.537Z"
   },
   {
    "duration": 85,
    "start_time": "2021-10-16T02:00:10.468Z"
   },
   {
    "duration": 17,
    "start_time": "2021-10-16T02:00:15.077Z"
   },
   {
    "duration": 36,
    "start_time": "2021-10-16T02:00:18.743Z"
   },
   {
    "duration": 32,
    "start_time": "2021-10-16T02:00:50.162Z"
   },
   {
    "duration": 38209,
    "start_time": "2021-10-16T02:00:54.860Z"
   },
   {
    "duration": 591,
    "start_time": "2021-10-16T02:01:37.195Z"
   },
   {
    "duration": 85,
    "start_time": "2021-10-16T02:03:02.561Z"
   },
   {
    "duration": 98,
    "start_time": "2021-10-16T02:03:48.787Z"
   },
   {
    "duration": 5,
    "start_time": "2021-10-16T02:03:54.995Z"
   },
   {
    "duration": 84,
    "start_time": "2021-10-16T02:04:53.677Z"
   },
   {
    "duration": 443,
    "start_time": "2021-10-16T02:04:59.887Z"
   },
   {
    "duration": 247,
    "start_time": "2021-10-16T02:05:11.482Z"
   },
   {
    "duration": 330,
    "start_time": "2021-10-16T02:05:18.188Z"
   },
   {
    "duration": 326,
    "start_time": "2021-10-16T02:06:13.384Z"
   },
   {
    "duration": 256,
    "start_time": "2021-10-16T02:06:22.607Z"
   },
   {
    "duration": 301,
    "start_time": "2021-10-16T02:06:32.090Z"
   },
   {
    "duration": 397,
    "start_time": "2021-10-16T02:06:55.528Z"
   },
   {
    "duration": 557,
    "start_time": "2021-10-16T02:09:17.846Z"
   },
   {
    "duration": 388,
    "start_time": "2021-10-16T02:09:27.434Z"
   },
   {
    "duration": 317,
    "start_time": "2021-10-16T02:09:35.374Z"
   },
   {
    "duration": 308,
    "start_time": "2021-10-16T02:09:51.410Z"
   },
   {
    "duration": 300,
    "start_time": "2021-10-16T02:11:08.613Z"
   },
   {
    "duration": 83,
    "start_time": "2021-10-16T02:27:12.756Z"
   },
   {
    "duration": 15,
    "start_time": "2021-10-16T02:27:17.149Z"
   },
   {
    "duration": 34,
    "start_time": "2021-10-16T02:27:17.830Z"
   },
   {
    "duration": 28,
    "start_time": "2021-10-16T02:27:18.868Z"
   },
   {
    "duration": 31753,
    "start_time": "2021-10-16T02:27:19.499Z"
   },
   {
    "duration": 596,
    "start_time": "2021-10-16T02:27:51.255Z"
   },
   {
    "duration": 407,
    "start_time": "2021-10-16T02:27:51.853Z"
   },
   {
    "duration": 1264,
    "start_time": "2021-10-16T02:27:52.263Z"
   },
   {
    "duration": 269,
    "start_time": "2021-10-16T02:27:53.529Z"
   },
   {
    "duration": 259,
    "start_time": "2021-10-16T02:27:53.800Z"
   },
   {
    "duration": 81,
    "start_time": "2021-10-16T02:34:56.357Z"
   },
   {
    "duration": 17,
    "start_time": "2021-10-16T02:35:00.914Z"
   },
   {
    "duration": 36,
    "start_time": "2021-10-16T02:35:03.065Z"
   },
   {
    "duration": 36,
    "start_time": "2021-10-16T02:35:03.730Z"
   },
   {
    "duration": 43687,
    "start_time": "2021-10-16T02:35:04.431Z"
   },
   {
    "duration": 584,
    "start_time": "2021-10-16T02:35:48.120Z"
   },
   {
    "duration": 410,
    "start_time": "2021-10-16T02:35:48.707Z"
   },
   {
    "duration": 327,
    "start_time": "2021-10-16T02:35:49.119Z"
   },
   {
    "duration": 272,
    "start_time": "2021-10-16T02:35:49.448Z"
   },
   {
    "duration": 257,
    "start_time": "2021-10-16T02:35:49.721Z"
   },
   {
    "duration": 8,
    "start_time": "2021-10-16T02:38:42.795Z"
   },
   {
    "duration": 78,
    "start_time": "2021-10-16T02:40:16.081Z"
   },
   {
    "duration": 435,
    "start_time": "2021-10-16T02:40:21.200Z"
   },
   {
    "duration": 359,
    "start_time": "2021-10-16T02:40:33.158Z"
   },
   {
    "duration": 182,
    "start_time": "2021-10-16T02:40:40.214Z"
   },
   {
    "duration": 330,
    "start_time": "2021-10-16T02:40:45.626Z"
   },
   {
    "duration": 309,
    "start_time": "2021-10-16T02:40:53.658Z"
   },
   {
    "duration": 301,
    "start_time": "2021-10-16T02:41:12.021Z"
   },
   {
    "duration": 302,
    "start_time": "2021-10-16T02:41:20.267Z"
   },
   {
    "duration": 449,
    "start_time": "2021-10-16T02:41:36.648Z"
   },
   {
    "duration": 278,
    "start_time": "2021-10-16T02:41:43.508Z"
   },
   {
    "duration": 277,
    "start_time": "2021-10-16T02:41:52.399Z"
   },
   {
    "duration": 424,
    "start_time": "2021-10-16T02:42:06.940Z"
   },
   {
    "duration": 313,
    "start_time": "2021-10-16T02:42:13.858Z"
   },
   {
    "duration": 296,
    "start_time": "2021-10-16T02:42:43.578Z"
   },
   {
    "duration": 277,
    "start_time": "2021-10-16T02:43:27.074Z"
   },
   {
    "duration": 286,
    "start_time": "2021-10-16T02:44:00.258Z"
   },
   {
    "duration": 8,
    "start_time": "2021-10-16T02:45:27.298Z"
   },
   {
    "duration": 8,
    "start_time": "2021-10-16T02:45:56.607Z"
   },
   {
    "duration": 9,
    "start_time": "2021-10-16T02:49:21.248Z"
   },
   {
    "duration": 10,
    "start_time": "2021-10-16T02:50:04.280Z"
   },
   {
    "duration": 245,
    "start_time": "2021-10-16T02:50:28.730Z"
   },
   {
    "duration": 267,
    "start_time": "2021-10-16T02:50:57.933Z"
   },
   {
    "duration": 408,
    "start_time": "2021-10-16T02:51:15.999Z"
   },
   {
    "duration": 324,
    "start_time": "2021-10-16T02:51:35.193Z"
   },
   {
    "duration": 297,
    "start_time": "2021-10-16T03:12:45.802Z"
   },
   {
    "duration": 296,
    "start_time": "2021-10-16T03:12:59.782Z"
   },
   {
    "duration": 314,
    "start_time": "2021-10-16T03:13:13.684Z"
   },
   {
    "duration": 389,
    "start_time": "2021-10-16T03:13:21.612Z"
   },
   {
    "duration": 434,
    "start_time": "2021-10-16T03:13:43.001Z"
   },
   {
    "duration": 381,
    "start_time": "2021-10-16T03:16:52.382Z"
   },
   {
    "duration": 384,
    "start_time": "2021-10-16T03:16:59.783Z"
   },
   {
    "duration": 612,
    "start_time": "2021-10-16T03:18:11.297Z"
   },
   {
    "duration": 463,
    "start_time": "2021-10-16T03:18:18.110Z"
   },
   {
    "duration": 383,
    "start_time": "2021-10-16T03:18:36.038Z"
   },
   {
    "duration": 399,
    "start_time": "2021-10-16T03:19:10.864Z"
   },
   {
    "duration": 413,
    "start_time": "2021-10-16T03:19:43.453Z"
   },
   {
    "duration": 401,
    "start_time": "2021-10-16T03:20:14.224Z"
   },
   {
    "duration": 390,
    "start_time": "2021-10-16T03:20:37.101Z"
   },
   {
    "duration": 527,
    "start_time": "2021-10-16T03:21:01.686Z"
   },
   {
    "duration": 310,
    "start_time": "2021-10-16T03:21:08.514Z"
   },
   {
    "duration": 380,
    "start_time": "2021-10-16T03:21:14.624Z"
   },
   {
    "duration": 406,
    "start_time": "2021-10-16T03:21:31.381Z"
   },
   {
    "duration": 1507,
    "start_time": "2021-10-16T03:21:56.658Z"
   },
   {
    "duration": 402,
    "start_time": "2021-10-16T03:22:33.771Z"
   },
   {
    "duration": 381,
    "start_time": "2021-10-16T03:22:42.464Z"
   },
   {
    "duration": 406,
    "start_time": "2021-10-16T03:24:54.028Z"
   },
   {
    "duration": 425,
    "start_time": "2021-10-16T03:25:15.931Z"
   },
   {
    "duration": 386,
    "start_time": "2021-10-16T03:25:56.779Z"
   },
   {
    "duration": 397,
    "start_time": "2021-10-16T03:26:10.298Z"
   },
   {
    "duration": 502,
    "start_time": "2021-10-16T03:26:17.532Z"
   },
   {
    "duration": 399,
    "start_time": "2021-10-16T03:29:09.453Z"
   },
   {
    "duration": 543,
    "start_time": "2021-10-16T03:29:33.538Z"
   },
   {
    "duration": 660,
    "start_time": "2021-10-16T03:29:44.403Z"
   },
   {
    "duration": 591,
    "start_time": "2021-10-16T03:29:59.328Z"
   },
   {
    "duration": 582,
    "start_time": "2021-10-16T03:30:07.137Z"
   },
   {
    "duration": 603,
    "start_time": "2021-10-16T03:33:19.701Z"
   },
   {
    "duration": 426,
    "start_time": "2021-10-16T04:16:02.249Z"
   },
   {
    "duration": 291,
    "start_time": "2021-10-16T04:16:11.059Z"
   },
   {
    "duration": 20,
    "start_time": "2021-10-16T04:20:31.523Z"
   },
   {
    "duration": 1694,
    "start_time": "2021-10-16T04:20:53.528Z"
   },
   {
    "duration": 190,
    "start_time": "2021-10-16T04:24:29.280Z"
   },
   {
    "duration": 5299,
    "start_time": "2021-10-16T04:24:34.298Z"
   },
   {
    "duration": 5420,
    "start_time": "2021-10-16T04:25:15.183Z"
   },
   {
    "duration": 5575,
    "start_time": "2021-10-16T04:26:26.139Z"
   },
   {
    "duration": 5491,
    "start_time": "2021-10-16T04:26:54.405Z"
   },
   {
    "duration": 5490,
    "start_time": "2021-10-16T04:27:07.607Z"
   },
   {
    "duration": 7544,
    "start_time": "2021-10-16T04:27:23.023Z"
   },
   {
    "duration": 5834,
    "start_time": "2021-10-16T04:29:37.744Z"
   },
   {
    "duration": 6531,
    "start_time": "2021-10-16T04:29:57.184Z"
   },
   {
    "duration": 5550,
    "start_time": "2021-10-16T04:32:22.594Z"
   },
   {
    "duration": 6300,
    "start_time": "2021-10-16T04:35:48.622Z"
   },
   {
    "duration": 5457,
    "start_time": "2021-10-16T04:36:15.461Z"
   },
   {
    "duration": 285,
    "start_time": "2021-10-16T04:38:23.322Z"
   },
   {
    "duration": 14,
    "start_time": "2021-10-16T05:08:36.834Z"
   },
   {
    "duration": 13,
    "start_time": "2021-10-16T05:09:20.878Z"
   },
   {
    "duration": 13,
    "start_time": "2021-10-16T05:09:44.535Z"
   },
   {
    "duration": 12,
    "start_time": "2021-10-16T05:10:16.958Z"
   },
   {
    "duration": 28,
    "start_time": "2021-10-16T05:11:04.925Z"
   },
   {
    "duration": 799,
    "start_time": "2021-10-16T05:16:29.907Z"
   },
   {
    "duration": 243,
    "start_time": "2021-10-16T05:24:57.911Z"
   },
   {
    "duration": 241,
    "start_time": "2021-10-16T05:26:43.177Z"
   },
   {
    "duration": 14,
    "start_time": "2021-10-16T05:27:22.355Z"
   },
   {
    "duration": 12,
    "start_time": "2021-10-16T05:27:33.602Z"
   },
   {
    "duration": 90,
    "start_time": "2021-10-16T05:29:11.070Z"
   },
   {
    "duration": 251,
    "start_time": "2021-10-16T05:29:20.239Z"
   },
   {
    "duration": 13,
    "start_time": "2021-10-16T05:29:28.443Z"
   },
   {
    "duration": 515,
    "start_time": "2021-10-16T05:43:28.151Z"
   },
   {
    "duration": 5564,
    "start_time": "2021-10-16T05:44:32.532Z"
   },
   {
    "duration": 658,
    "start_time": "2021-10-16T05:45:44.588Z"
   },
   {
    "duration": 557,
    "start_time": "2021-10-16T05:45:51.562Z"
   },
   {
    "duration": 5430,
    "start_time": "2021-10-16T05:46:49.278Z"
   },
   {
    "duration": 408,
    "start_time": "2021-10-16T10:42:15.094Z"
   },
   {
    "duration": 1024,
    "start_time": "2021-10-16T10:42:27.657Z"
   },
   {
    "duration": 22,
    "start_time": "2021-10-16T10:42:28.684Z"
   },
   {
    "duration": 76,
    "start_time": "2021-10-16T10:42:28.709Z"
   },
   {
    "duration": 74,
    "start_time": "2021-10-16T10:42:28.788Z"
   },
   {
    "duration": 45789,
    "start_time": "2021-10-16T10:42:28.866Z"
   },
   {
    "duration": 1121,
    "start_time": "2021-10-16T10:43:14.658Z"
   },
   {
    "duration": 24,
    "start_time": "2021-10-16T10:43:15.781Z"
   },
   {
    "duration": 862,
    "start_time": "2021-10-16T10:43:15.810Z"
   },
   {
    "duration": 661,
    "start_time": "2021-10-16T10:43:16.675Z"
   },
   {
    "duration": 527,
    "start_time": "2021-10-16T10:43:17.339Z"
   },
   {
    "duration": 464,
    "start_time": "2021-10-16T10:43:17.868Z"
   },
   {
    "duration": 663,
    "start_time": "2021-10-16T10:43:18.335Z"
   },
   {
    "duration": 1156,
    "start_time": "2021-10-16T10:43:19.001Z"
   },
   {
    "duration": 6,
    "start_time": "2021-10-16T10:43:20.171Z"
   },
   {
    "duration": 1447,
    "start_time": "2021-10-16T10:43:20.179Z"
   },
   {
    "duration": 4,
    "start_time": "2021-10-16T10:43:21.630Z"
   },
   {
    "duration": 33,
    "start_time": "2021-10-16T10:43:21.636Z"
   },
   {
    "duration": 325,
    "start_time": "2021-10-16T11:31:18.524Z"
   },
   {
    "duration": 15,
    "start_time": "2021-10-16T11:31:29.175Z"
   },
   {
    "duration": 9370,
    "start_time": "2021-10-16T11:31:51.544Z"
   },
   {
    "duration": 10148,
    "start_time": "2021-10-16T11:32:24.362Z"
   },
   {
    "duration": 10146,
    "start_time": "2021-10-16T11:54:31.306Z"
   },
   {
    "duration": 312,
    "start_time": "2021-10-16T11:55:04.533Z"
   },
   {
    "duration": 10175,
    "start_time": "2021-10-16T11:55:29.797Z"
   },
   {
    "duration": 43,
    "start_time": "2021-10-16T11:58:12.394Z"
   },
   {
    "duration": 9023,
    "start_time": "2021-10-16T12:02:30.163Z"
   },
   {
    "duration": 7757,
    "start_time": "2021-10-16T12:03:10.507Z"
   },
   {
    "duration": 7928,
    "start_time": "2021-10-16T12:04:47.856Z"
   },
   {
    "duration": 117,
    "start_time": "2021-10-16T12:05:05.345Z"
   },
   {
    "duration": 21,
    "start_time": "2021-10-16T12:05:10.287Z"
   },
   {
    "duration": 76,
    "start_time": "2021-10-16T12:05:11.188Z"
   },
   {
    "duration": 44,
    "start_time": "2021-10-16T12:05:12.324Z"
   },
   {
    "duration": 45414,
    "start_time": "2021-10-16T12:05:13.815Z"
   },
   {
    "duration": 998,
    "start_time": "2021-10-16T12:05:59.232Z"
   },
   {
    "duration": 715,
    "start_time": "2021-10-16T12:06:00.233Z"
   },
   {
    "duration": 542,
    "start_time": "2021-10-16T12:06:00.951Z"
   },
   {
    "duration": 469,
    "start_time": "2021-10-16T12:06:01.495Z"
   },
   {
    "duration": 440,
    "start_time": "2021-10-16T12:06:01.967Z"
   },
   {
    "duration": 697,
    "start_time": "2021-10-16T12:06:02.410Z"
   },
   {
    "duration": 1484,
    "start_time": "2021-10-16T12:06:03.110Z"
   },
   {
    "duration": 9242,
    "start_time": "2021-10-16T12:06:04.597Z"
   },
   {
    "duration": 7709,
    "start_time": "2021-10-16T12:06:13.842Z"
   },
   {
    "duration": 8228,
    "start_time": "2021-10-16T12:07:37.389Z"
   },
   {
    "duration": 7813,
    "start_time": "2021-10-16T12:08:09.420Z"
   },
   {
    "duration": 318,
    "start_time": "2021-10-16T12:11:06.948Z"
   },
   {
    "duration": 102,
    "start_time": "2021-10-16T12:13:27.766Z"
   },
   {
    "duration": 7576,
    "start_time": "2021-10-16T12:13:36.118Z"
   },
   {
    "duration": 47,
    "start_time": "2021-10-16T12:16:14.538Z"
   },
   {
    "duration": 48,
    "start_time": "2021-10-16T12:16:30.240Z"
   },
   {
    "duration": 920,
    "start_time": "2021-10-16T12:17:01.294Z"
   },
   {
    "duration": 46,
    "start_time": "2021-10-16T12:17:13.531Z"
   },
   {
    "duration": 10139,
    "start_time": "2021-10-16T12:20:08.196Z"
   },
   {
    "duration": 927,
    "start_time": "2021-10-16T12:44:51.781Z"
   },
   {
    "duration": 28,
    "start_time": "2021-10-16T12:45:37.746Z"
   },
   {
    "duration": 95,
    "start_time": "2021-10-16T12:47:26.057Z"
   },
   {
    "duration": 21,
    "start_time": "2021-10-16T12:47:27.305Z"
   },
   {
    "duration": 53,
    "start_time": "2021-10-16T12:47:27.722Z"
   },
   {
    "duration": 43,
    "start_time": "2021-10-16T12:47:28.017Z"
   },
   {
    "duration": 50061,
    "start_time": "2021-10-16T12:47:28.295Z"
   },
   {
    "duration": 1095,
    "start_time": "2021-10-16T12:48:18.361Z"
   },
   {
    "duration": 73,
    "start_time": "2021-10-16T12:48:19.463Z"
   },
   {
    "duration": 780,
    "start_time": "2021-10-16T12:48:19.539Z"
   },
   {
    "duration": 623,
    "start_time": "2021-10-16T12:48:20.322Z"
   },
   {
    "duration": 481,
    "start_time": "2021-10-16T12:48:20.949Z"
   },
   {
    "duration": 508,
    "start_time": "2021-10-16T12:48:21.432Z"
   },
   {
    "duration": 697,
    "start_time": "2021-10-16T12:48:21.944Z"
   },
   {
    "duration": 1343,
    "start_time": "2021-10-16T12:48:22.644Z"
   },
   {
    "duration": 9214,
    "start_time": "2021-10-16T12:48:23.989Z"
   },
   {
    "duration": 62,
    "start_time": "2021-10-16T12:48:33.205Z"
   },
   {
    "duration": 9953,
    "start_time": "2021-10-16T12:48:33.270Z"
   },
   {
    "duration": 43,
    "start_time": "2021-10-16T12:48:43.226Z"
   },
   {
    "duration": 27,
    "start_time": "2021-10-16T12:52:11.204Z"
   },
   {
    "duration": 345,
    "start_time": "2021-10-16T12:55:44.220Z"
   },
   {
    "duration": 18,
    "start_time": "2021-10-16T12:55:56.342Z"
   },
   {
    "duration": 20,
    "start_time": "2021-10-16T12:56:56.608Z"
   },
   {
    "duration": 21,
    "start_time": "2021-10-16T12:57:33.110Z"
   },
   {
    "duration": 29,
    "start_time": "2021-10-16T12:57:58.995Z"
   },
   {
    "duration": 23,
    "start_time": "2021-10-16T12:58:58.203Z"
   },
   {
    "duration": 21,
    "start_time": "2021-10-16T13:00:40.537Z"
   },
   {
    "duration": 25,
    "start_time": "2021-10-16T13:01:12.732Z"
   },
   {
    "duration": 314,
    "start_time": "2021-10-16T13:17:35.425Z"
   },
   {
    "duration": 332,
    "start_time": "2021-10-16T13:17:43.560Z"
   },
   {
    "duration": 461,
    "start_time": "2021-10-16T13:18:15.415Z"
   },
   {
    "duration": 24,
    "start_time": "2021-10-16T13:18:42.754Z"
   },
   {
    "duration": 14,
    "start_time": "2021-10-16T13:19:53.608Z"
   },
   {
    "duration": 37,
    "start_time": "2021-10-16T13:24:08.037Z"
   },
   {
    "duration": 38,
    "start_time": "2021-10-16T13:24:50.624Z"
   },
   {
    "duration": 36,
    "start_time": "2021-10-16T13:24:58.314Z"
   },
   {
    "duration": 37,
    "start_time": "2021-10-16T13:28:18.959Z"
   },
   {
    "duration": 37,
    "start_time": "2021-10-16T13:28:27.401Z"
   },
   {
    "duration": 34,
    "start_time": "2021-10-16T13:28:50.192Z"
   },
   {
    "duration": 26,
    "start_time": "2021-10-16T13:30:30.578Z"
   },
   {
    "duration": 36,
    "start_time": "2021-10-16T13:32:18.223Z"
   },
   {
    "duration": 1135,
    "start_time": "2021-10-16T13:33:10.573Z"
   },
   {
    "duration": 1336,
    "start_time": "2021-10-16T13:33:27.187Z"
   },
   {
    "duration": 1195,
    "start_time": "2021-10-16T13:33:55.741Z"
   },
   {
    "duration": 964,
    "start_time": "2021-10-16T13:34:07.150Z"
   },
   {
    "duration": 631,
    "start_time": "2021-10-16T13:35:20.270Z"
   },
   {
    "duration": 1200,
    "start_time": "2021-10-16T13:35:29.055Z"
   },
   {
    "duration": 1072,
    "start_time": "2021-10-16T13:35:42.660Z"
   },
   {
    "duration": 766,
    "start_time": "2021-10-16T13:37:04.775Z"
   },
   {
    "duration": 7862,
    "start_time": "2021-10-16T14:23:40.236Z"
   },
   {
    "duration": 495,
    "start_time": "2021-10-16T14:25:24.865Z"
   },
   {
    "duration": 46,
    "start_time": "2021-10-16T14:26:02.481Z"
   },
   {
    "duration": 35,
    "start_time": "2021-10-16T14:27:57.673Z"
   },
   {
    "duration": 33,
    "start_time": "2021-10-16T14:28:06.728Z"
   },
   {
    "duration": 7997,
    "start_time": "2021-10-16T14:28:29.085Z"
   },
   {
    "duration": 298,
    "start_time": "2021-10-16T14:29:09.348Z"
   },
   {
    "duration": 8015,
    "start_time": "2021-10-16T14:29:29.083Z"
   },
   {
    "duration": 495,
    "start_time": "2021-10-16T14:30:24.366Z"
   },
   {
    "duration": 103,
    "start_time": "2021-10-16T14:31:38.519Z"
   },
   {
    "duration": 687,
    "start_time": "2021-10-16T14:31:50.602Z"
   },
   {
    "duration": 34,
    "start_time": "2021-10-16T14:32:46.201Z"
   },
   {
    "duration": 100,
    "start_time": "2021-10-16T14:34:38.302Z"
   },
   {
    "duration": 295,
    "start_time": "2021-10-16T14:34:58.362Z"
   },
   {
    "duration": 35,
    "start_time": "2021-10-16T14:35:35.715Z"
   },
   {
    "duration": 33,
    "start_time": "2021-10-16T14:35:52.443Z"
   },
   {
    "duration": 701,
    "start_time": "2021-10-16T15:31:25.456Z"
   },
   {
    "duration": 465,
    "start_time": "2021-10-16T15:31:41.329Z"
   },
   {
    "duration": 267,
    "start_time": "2021-10-16T16:01:18.713Z"
   },
   {
    "duration": 28,
    "start_time": "2021-10-16T16:03:54.343Z"
   },
   {
    "duration": 105,
    "start_time": "2021-10-16T16:04:26.119Z"
   },
   {
    "duration": 48,
    "start_time": "2021-10-16T16:04:26.228Z"
   },
   {
    "duration": 82,
    "start_time": "2021-10-16T16:04:26.280Z"
   },
   {
    "duration": 47,
    "start_time": "2021-10-16T16:04:26.366Z"
   },
   {
    "duration": 47432,
    "start_time": "2021-10-16T16:04:26.416Z"
   },
   {
    "duration": 1141,
    "start_time": "2021-10-16T16:05:13.851Z"
   },
   {
    "duration": 37,
    "start_time": "2021-10-16T16:05:14.995Z"
   },
   {
    "duration": 742,
    "start_time": "2021-10-16T16:05:15.066Z"
   },
   {
    "duration": 565,
    "start_time": "2021-10-16T16:05:15.811Z"
   },
   {
    "duration": 467,
    "start_time": "2021-10-16T16:05:16.379Z"
   },
   {
    "duration": 450,
    "start_time": "2021-10-16T16:05:16.848Z"
   },
   {
    "duration": 668,
    "start_time": "2021-10-16T16:05:17.300Z"
   },
   {
    "duration": 1071,
    "start_time": "2021-10-16T16:05:17.971Z"
   },
   {
    "duration": 9338,
    "start_time": "2021-10-16T16:05:19.045Z"
   },
   {
    "duration": 43,
    "start_time": "2021-10-16T16:05:28.385Z"
   },
   {
    "duration": 9550,
    "start_time": "2021-10-16T16:05:28.462Z"
   },
   {
    "duration": 24,
    "start_time": "2021-10-16T16:05:38.015Z"
   },
   {
    "duration": 44,
    "start_time": "2021-10-16T16:05:38.041Z"
   },
   {
    "duration": 300,
    "start_time": "2021-10-16T16:06:32.218Z"
   },
   {
    "duration": 212,
    "start_time": "2021-10-16T16:11:22.813Z"
   },
   {
    "duration": 98,
    "start_time": "2021-10-16T16:52:37.612Z"
   },
   {
    "duration": 21,
    "start_time": "2021-10-16T16:52:37.713Z"
   },
   {
    "duration": 67,
    "start_time": "2021-10-16T16:52:37.737Z"
   },
   {
    "duration": 67,
    "start_time": "2021-10-16T16:52:37.807Z"
   },
   {
    "duration": 45171,
    "start_time": "2021-10-16T16:52:37.876Z"
   },
   {
    "duration": 1015,
    "start_time": "2021-10-16T16:53:23.050Z"
   },
   {
    "duration": 45,
    "start_time": "2021-10-16T16:53:24.068Z"
   },
   {
    "duration": 763,
    "start_time": "2021-10-16T16:53:24.117Z"
   },
   {
    "duration": 569,
    "start_time": "2021-10-16T16:53:24.883Z"
   },
   {
    "duration": 460,
    "start_time": "2021-10-16T16:53:25.462Z"
   },
   {
    "duration": 481,
    "start_time": "2021-10-16T16:53:25.924Z"
   },
   {
    "duration": 671,
    "start_time": "2021-10-16T16:53:26.408Z"
   },
   {
    "duration": 1100,
    "start_time": "2021-10-16T16:53:27.081Z"
   },
   {
    "duration": 9801,
    "start_time": "2021-10-16T16:53:28.183Z"
   },
   {
    "duration": 42,
    "start_time": "2021-10-16T16:53:37.987Z"
   },
   {
    "duration": 10217,
    "start_time": "2021-10-16T16:53:38.032Z"
   },
   {
    "duration": 31,
    "start_time": "2021-10-16T16:53:48.252Z"
   },
   {
    "duration": 128,
    "start_time": "2021-10-16T16:53:48.286Z"
   },
   {
    "duration": 304,
    "start_time": "2021-10-16T16:54:26.715Z"
   },
   {
    "duration": 293,
    "start_time": "2021-10-16T16:54:35.985Z"
   },
   {
    "duration": 22,
    "start_time": "2021-10-16T16:55:14.384Z"
   },
   {
    "duration": 96,
    "start_time": "2021-10-16T16:57:09.781Z"
   },
   {
    "duration": 1818,
    "start_time": "2021-10-16T16:57:17.355Z"
   },
   {
    "duration": 1904,
    "start_time": "2021-10-16T16:59:27.358Z"
   },
   {
    "duration": 570,
    "start_time": "2021-10-16T17:00:48.272Z"
   },
   {
    "duration": 590,
    "start_time": "2021-10-16T17:01:30.138Z"
   },
   {
    "duration": 1107,
    "start_time": "2021-10-16T17:06:47.197Z"
   },
   {
    "duration": 678,
    "start_time": "2021-10-16T17:07:42.508Z"
   },
   {
    "duration": -541,
    "start_time": "2021-10-16T17:18:23.577Z"
   },
   {
    "duration": -543,
    "start_time": "2021-10-16T17:18:23.581Z"
   },
   {
    "duration": -542,
    "start_time": "2021-10-16T17:18:23.583Z"
   },
   {
    "duration": -649,
    "start_time": "2021-10-16T17:18:23.693Z"
   },
   {
    "duration": -658,
    "start_time": "2021-10-16T17:18:23.705Z"
   },
   {
    "duration": -659,
    "start_time": "2021-10-16T17:18:23.708Z"
   },
   {
    "duration": -659,
    "start_time": "2021-10-16T17:18:23.711Z"
   },
   {
    "duration": -658,
    "start_time": "2021-10-16T17:18:23.713Z"
   },
   {
    "duration": -657,
    "start_time": "2021-10-16T17:18:23.715Z"
   },
   {
    "duration": -657,
    "start_time": "2021-10-16T17:18:23.717Z"
   },
   {
    "duration": -657,
    "start_time": "2021-10-16T17:18:23.720Z"
   },
   {
    "duration": -657,
    "start_time": "2021-10-16T17:18:23.723Z"
   },
   {
    "duration": -657,
    "start_time": "2021-10-16T17:18:23.725Z"
   },
   {
    "duration": -658,
    "start_time": "2021-10-16T17:18:23.729Z"
   },
   {
    "duration": -659,
    "start_time": "2021-10-16T17:18:23.732Z"
   },
   {
    "duration": -660,
    "start_time": "2021-10-16T17:18:23.736Z"
   },
   {
    "duration": -662,
    "start_time": "2021-10-16T17:18:23.740Z"
   },
   {
    "duration": -661,
    "start_time": "2021-10-16T17:18:23.742Z"
   },
   {
    "duration": 827,
    "start_time": "2021-10-16T17:19:51.799Z"
   },
   {
    "duration": 404,
    "start_time": "2021-10-16T17:20:01.207Z"
   },
   {
    "duration": 7317,
    "start_time": "2021-10-16T17:20:27.016Z"
   },
   {
    "duration": 329,
    "start_time": "2021-10-16T17:20:38.144Z"
   },
   {
    "duration": 386,
    "start_time": "2021-10-16T17:20:59.626Z"
   },
   {
    "duration": 410,
    "start_time": "2021-10-16T17:21:31.149Z"
   },
   {
    "duration": 418,
    "start_time": "2021-10-16T17:21:43.665Z"
   },
   {
    "duration": 397,
    "start_time": "2021-10-16T17:21:52.042Z"
   },
   {
    "duration": 733,
    "start_time": "2021-10-16T17:31:05.309Z"
   },
   {
    "duration": 568,
    "start_time": "2021-10-16T17:31:11.590Z"
   },
   {
    "duration": 459,
    "start_time": "2021-10-16T17:31:14.462Z"
   },
   {
    "duration": 464,
    "start_time": "2021-10-16T17:31:16.146Z"
   },
   {
    "duration": 727,
    "start_time": "2021-10-16T17:31:19.695Z"
   },
   {
    "duration": 1146,
    "start_time": "2021-10-16T17:31:25.122Z"
   },
   {
    "duration": 10310,
    "start_time": "2021-10-16T17:31:28.245Z"
   },
   {
    "duration": 9830,
    "start_time": "2021-10-16T17:31:53.700Z"
   },
   {
    "duration": 61,
    "start_time": "2021-10-16T17:32:03.533Z"
   },
   {
    "duration": 10002,
    "start_time": "2021-10-16T17:32:03.597Z"
   },
   {
    "duration": 22,
    "start_time": "2021-10-16T17:32:13.601Z"
   },
   {
    "duration": 442,
    "start_time": "2021-10-16T17:32:13.626Z"
   },
   {
    "duration": 330,
    "start_time": "2021-10-16T17:35:37.431Z"
   },
   {
    "duration": 2454,
    "start_time": "2021-10-16T17:36:18.223Z"
   },
   {
    "duration": 2431,
    "start_time": "2021-10-16T17:36:38.971Z"
   },
   {
    "duration": 2588,
    "start_time": "2021-10-16T17:37:05.677Z"
   },
   {
    "duration": 2125,
    "start_time": "2021-10-16T17:37:36.136Z"
   },
   {
    "duration": 9032,
    "start_time": "2021-10-16T17:41:45.998Z"
   },
   {
    "duration": 3293,
    "start_time": "2021-10-16T17:44:16.288Z"
   },
   {
    "duration": 306,
    "start_time": "2021-10-16T17:46:59.295Z"
   },
   {
    "duration": 2163,
    "start_time": "2021-10-16T17:47:24.992Z"
   },
   {
    "duration": 2461,
    "start_time": "2021-10-16T17:48:52.189Z"
   },
   {
    "duration": 2229,
    "start_time": "2021-10-16T17:49:19.524Z"
   },
   {
    "duration": 2183,
    "start_time": "2021-10-16T17:50:39.361Z"
   },
   {
    "duration": 2770,
    "start_time": "2021-10-16T17:51:08.812Z"
   },
   {
    "duration": 9538,
    "start_time": "2021-10-16T18:23:05.602Z"
   },
   {
    "duration": 95,
    "start_time": "2021-10-16T18:27:02.561Z"
   },
   {
    "duration": 112,
    "start_time": "2021-10-16T18:27:24.261Z"
   },
   {
    "duration": 102,
    "start_time": "2021-10-16T18:27:44.410Z"
   },
   {
    "duration": 9359,
    "start_time": "2021-10-16T18:27:53.452Z"
   },
   {
    "duration": 979,
    "start_time": "2021-10-17T07:55:09.559Z"
   },
   {
    "duration": 32,
    "start_time": "2021-10-17T07:55:10.541Z"
   },
   {
    "duration": 52,
    "start_time": "2021-10-17T07:55:10.576Z"
   },
   {
    "duration": 63,
    "start_time": "2021-10-17T07:55:10.631Z"
   },
   {
    "duration": 44772,
    "start_time": "2021-10-17T07:55:10.697Z"
   },
   {
    "duration": 1093,
    "start_time": "2021-10-17T07:55:55.472Z"
   },
   {
    "duration": 20,
    "start_time": "2021-10-17T07:55:56.568Z"
   },
   {
    "duration": 746,
    "start_time": "2021-10-17T07:55:56.591Z"
   },
   {
    "duration": 567,
    "start_time": "2021-10-17T07:55:57.342Z"
   },
   {
    "duration": 452,
    "start_time": "2021-10-17T07:55:57.912Z"
   },
   {
    "duration": 441,
    "start_time": "2021-10-17T07:55:58.367Z"
   },
   {
    "duration": 646,
    "start_time": "2021-10-17T07:55:58.810Z"
   },
   {
    "duration": 1143,
    "start_time": "2021-10-17T07:55:59.461Z"
   },
   {
    "duration": 9214,
    "start_time": "2021-10-17T07:56:00.606Z"
   },
   {
    "duration": 58,
    "start_time": "2021-10-17T07:56:09.822Z"
   },
   {
    "duration": 377,
    "start_time": "2021-10-17T07:56:09.882Z"
   },
   {
    "duration": 16,
    "start_time": "2021-10-17T07:56:10.246Z"
   },
   {
    "duration": 17,
    "start_time": "2021-10-17T07:56:10.247Z"
   },
   {
    "duration": 18,
    "start_time": "2021-10-17T07:56:10.248Z"
   },
   {
    "duration": 342,
    "start_time": "2021-10-17T14:38:49.461Z"
   },
   {
    "duration": 967,
    "start_time": "2021-10-17T14:39:00.326Z"
   },
   {
    "duration": 20,
    "start_time": "2021-10-17T14:39:05.419Z"
   },
   {
    "duration": 51,
    "start_time": "2021-10-17T14:39:09.897Z"
   },
   {
    "duration": 40,
    "start_time": "2021-10-17T14:39:15.347Z"
   },
   {
    "duration": 43327,
    "start_time": "2021-10-17T14:39:16.401Z"
   },
   {
    "duration": 1039,
    "start_time": "2021-10-17T14:39:59.731Z"
   },
   {
    "duration": 25,
    "start_time": "2021-10-17T14:40:00.773Z"
   },
   {
    "duration": 752,
    "start_time": "2021-10-17T14:40:00.801Z"
   },
   {
    "duration": 545,
    "start_time": "2021-10-17T14:40:01.555Z"
   },
   {
    "duration": 473,
    "start_time": "2021-10-17T14:40:02.103Z"
   },
   {
    "duration": 447,
    "start_time": "2021-10-17T14:40:02.578Z"
   },
   {
    "duration": 678,
    "start_time": "2021-10-17T14:40:03.030Z"
   },
   {
    "duration": 1117,
    "start_time": "2021-10-17T14:40:03.711Z"
   },
   {
    "duration": 8854,
    "start_time": "2021-10-17T14:40:04.831Z"
   },
   {
    "duration": 66,
    "start_time": "2021-10-17T14:40:13.688Z"
   },
   {
    "duration": 9335,
    "start_time": "2021-10-17T14:40:13.757Z"
   },
   {
    "duration": 34,
    "start_time": "2021-10-17T14:40:23.095Z"
   },
   {
    "duration": 409,
    "start_time": "2021-10-17T14:40:23.131Z"
   },
   {
    "duration": 2570,
    "start_time": "2021-10-17T14:40:23.542Z"
   },
   {
    "duration": 102,
    "start_time": "2021-10-17T15:23:07.831Z"
   },
   {
    "duration": 1875,
    "start_time": "2021-10-17T15:23:13.752Z"
   },
   {
    "duration": 1050,
    "start_time": "2021-10-17T15:24:19.659Z"
   },
   {
    "duration": 884,
    "start_time": "2021-10-17T15:24:33.917Z"
   },
   {
    "duration": 955,
    "start_time": "2021-10-17T15:24:56.748Z"
   },
   {
    "duration": 874,
    "start_time": "2021-10-17T15:25:18.628Z"
   },
   {
    "duration": 114,
    "start_time": "2021-10-17T15:25:36.317Z"
   },
   {
    "duration": 22,
    "start_time": "2021-10-17T15:25:36.434Z"
   },
   {
    "duration": 86,
    "start_time": "2021-10-17T15:25:36.459Z"
   },
   {
    "duration": 44,
    "start_time": "2021-10-17T15:25:36.548Z"
   },
   {
    "duration": 46479,
    "start_time": "2021-10-17T15:25:36.594Z"
   },
   {
    "duration": 998,
    "start_time": "2021-10-17T15:26:23.076Z"
   },
   {
    "duration": 22,
    "start_time": "2021-10-17T15:26:24.076Z"
   },
   {
    "duration": 773,
    "start_time": "2021-10-17T15:26:24.103Z"
   },
   {
    "duration": 4,
    "start_time": "2021-10-17T15:26:24.879Z"
   },
   {
    "duration": 12,
    "start_time": "2021-10-17T15:26:24.884Z"
   },
   {
    "duration": 441,
    "start_time": "2021-10-17T15:26:24.899Z"
   },
   {
    "duration": 664,
    "start_time": "2021-10-17T15:26:25.343Z"
   },
   {
    "duration": 1278,
    "start_time": "2021-10-17T15:26:26.010Z"
   },
   {
    "duration": 9406,
    "start_time": "2021-10-17T15:26:27.291Z"
   },
   {
    "duration": 58,
    "start_time": "2021-10-17T15:26:36.699Z"
   },
   {
    "duration": 8901,
    "start_time": "2021-10-17T15:26:36.759Z"
   },
   {
    "duration": 23,
    "start_time": "2021-10-17T15:26:45.662Z"
   },
   {
    "duration": 420,
    "start_time": "2021-10-17T15:26:45.688Z"
   },
   {
    "duration": 2604,
    "start_time": "2021-10-17T15:26:46.110Z"
   },
   {
    "duration": 683,
    "start_time": "2021-10-17T15:34:48.700Z"
   },
   {
    "duration": 733,
    "start_time": "2021-10-17T15:35:27.261Z"
   },
   {
    "duration": 438,
    "start_time": "2021-10-17T15:37:53.463Z"
   },
   {
    "duration": 563,
    "start_time": "2021-10-17T15:40:27.807Z"
   },
   {
    "duration": 603,
    "start_time": "2021-10-17T15:42:08.919Z"
   },
   {
    "duration": 454,
    "start_time": "2021-10-17T15:43:46.908Z"
   },
   {
    "duration": 96,
    "start_time": "2021-10-17T15:45:39.923Z"
   },
   {
    "duration": 443,
    "start_time": "2021-10-17T15:45:51.333Z"
   },
   {
    "duration": 269,
    "start_time": "2021-10-17T15:50:04.101Z"
   },
   {
    "duration": 13755,
    "start_time": "2021-10-17T15:50:11.463Z"
   },
   {
    "duration": 8950,
    "start_time": "2021-10-17T15:50:46.037Z"
   },
   {
    "duration": 9017,
    "start_time": "2021-10-17T15:51:28.936Z"
   },
   {
    "duration": 1122,
    "start_time": "2021-10-17T15:58:01.390Z"
   },
   {
    "duration": 963,
    "start_time": "2021-10-17T15:58:18.404Z"
   },
   {
    "duration": 787,
    "start_time": "2021-10-17T15:59:20.193Z"
   },
   {
    "duration": 2664,
    "start_time": "2021-10-17T16:00:17.121Z"
   },
   {
    "duration": 4061,
    "start_time": "2021-10-17T16:00:32.744Z"
   },
   {
    "duration": 2637,
    "start_time": "2021-10-17T16:02:54.138Z"
   },
   {
    "duration": 760,
    "start_time": "2021-10-18T06:54:53.286Z"
   },
   {
    "duration": 18,
    "start_time": "2021-10-18T06:54:54.048Z"
   },
   {
    "duration": 208,
    "start_time": "2021-10-18T06:54:54.069Z"
   },
   {
    "duration": 35,
    "start_time": "2021-10-18T06:54:54.279Z"
   },
   {
    "duration": 31163,
    "start_time": "2021-10-18T06:54:54.316Z"
   },
   {
    "duration": 757,
    "start_time": "2021-10-18T06:55:25.481Z"
   },
   {
    "duration": 31,
    "start_time": "2021-10-18T06:55:26.240Z"
   },
   {
    "duration": 455,
    "start_time": "2021-10-18T06:55:26.273Z"
   },
   {
    "duration": 346,
    "start_time": "2021-10-18T06:55:26.730Z"
   },
   {
    "duration": 296,
    "start_time": "2021-10-18T06:55:27.078Z"
   },
   {
    "duration": 287,
    "start_time": "2021-10-18T06:55:27.376Z"
   },
   {
    "duration": 1039,
    "start_time": "2021-10-18T06:55:27.665Z"
   },
   {
    "duration": 387,
    "start_time": "2021-10-18T06:55:28.706Z"
   },
   {
    "duration": 632,
    "start_time": "2021-10-18T06:55:29.095Z"
   },
   {
    "duration": 1437,
    "start_time": "2021-10-18T06:55:29.729Z"
   },
   {
    "duration": 30,
    "start_time": "2021-10-18T06:55:31.168Z"
   },
   {
    "duration": 5715,
    "start_time": "2021-10-18T06:55:31.200Z"
   },
   {
    "duration": 17,
    "start_time": "2021-10-18T06:55:36.917Z"
   },
   {
    "duration": 273,
    "start_time": "2021-10-18T06:55:36.936Z"
   },
   {
    "duration": 1359,
    "start_time": "2021-10-18T06:55:37.210Z"
   },
   {
    "duration": 663,
    "start_time": "2021-10-18T06:56:23.014Z"
   },
   {
    "duration": 724,
    "start_time": "2021-10-18T06:56:42.893Z"
   },
   {
    "duration": 1200,
    "start_time": "2021-10-18T06:57:20.663Z"
   },
   {
    "duration": 775,
    "start_time": "2021-10-18T06:58:10.185Z"
   },
   {
    "duration": 52,
    "start_time": "2021-10-18T06:58:35.513Z"
   },
   {
    "duration": 1012,
    "start_time": "2021-10-18T06:59:37.653Z"
   },
   {
    "duration": 1227,
    "start_time": "2021-10-18T06:59:47.469Z"
   }
  ],
  "kernelspec": {
   "display_name": "Python 3 (ipykernel)",
   "language": "python",
   "name": "python3"
  },
  "language_info": {
   "codemirror_mode": {
    "name": "ipython",
    "version": 3
   },
   "file_extension": ".py",
   "mimetype": "text/x-python",
   "name": "python",
   "nbconvert_exporter": "python",
   "pygments_lexer": "ipython3",
   "version": "3.9.5"
  },
  "toc": {
   "base_numbering": 1,
   "nav_menu": {},
   "number_sections": true,
   "sideBar": true,
   "skip_h1_title": true,
   "title_cell": "Содержание",
   "title_sidebar": "Contents",
   "toc_cell": true,
   "toc_position": {
    "height": "calc(100% - 180px)",
    "left": "10px",
    "top": "150px",
    "width": "235.188px"
   },
   "toc_section_display": true,
   "toc_window_display": true
  }
 },
 "nbformat": 4,
 "nbformat_minor": 2
}
