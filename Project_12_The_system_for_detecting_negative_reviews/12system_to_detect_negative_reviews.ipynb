{
 "cells": [
  {
   "cell_type": "markdown",
   "metadata": {
    "toc": true
   },
   "source": [
    "<h1>Содержание<span class=\"tocSkip\"></span></h1>\n",
    "<div class=\"toc\"><ul class=\"toc-item\"><li><ul class=\"toc-item\"><li><span><a href=\"#Подготовка\" data-toc-modified-id=\"Подготовка-1\"><span class=\"toc-item-num\">1&nbsp;&nbsp;</span>Подготовка</a></span><ul class=\"toc-item\"><li><span><a href=\"#Оценка-качества-данных\" data-toc-modified-id=\"Оценка-качества-данных-1.1\"><span class=\"toc-item-num\">1.1&nbsp;&nbsp;</span>Оценка качества данных</a></span></li><li><span><a href=\"#Предобработка-данных\" data-toc-modified-id=\"Предобработка-данных-1.2\"><span class=\"toc-item-num\">1.2&nbsp;&nbsp;</span>Предобработка данных</a></span></li><li><span><a href=\"#Ресемплирование\" data-toc-modified-id=\"Ресемплирование-1.3\"><span class=\"toc-item-num\">1.3&nbsp;&nbsp;</span>Ресемплирование</a></span></li></ul></li><li><span><a href=\"#Обучение\" data-toc-modified-id=\"Обучение-2\"><span class=\"toc-item-num\">2&nbsp;&nbsp;</span>Обучение</a></span><ul class=\"toc-item\"><li><span><a href=\"#Logistic-Regression-классификатор\" data-toc-modified-id=\"Logistic-Regression-классификатор-2.1\"><span class=\"toc-item-num\">2.1&nbsp;&nbsp;</span>Logistic Regression классификатор</a></span></li><li><span><a href=\"#Decision-Tree-классификатор\" data-toc-modified-id=\"Decision-Tree-классификатор-2.2\"><span class=\"toc-item-num\">2.2&nbsp;&nbsp;</span>Decision Tree классификатор</a></span></li><li><span><a href=\"#CatBoost-классификатор\" data-toc-modified-id=\"CatBoost-классификатор-2.3\"><span class=\"toc-item-num\">2.3&nbsp;&nbsp;</span>CatBoost классификатор</a></span></li></ul></li>"
   ]
  },
  {
   "cell_type": "markdown",
   "metadata": {},
   "source": [
    "# Проект для «Викишоп»"
   ]
  },
  {
   "cell_type": "markdown",
   "metadata": {},
   "source": [
    "Интернет-магазин «Викишоп» запускает новый сервис. Теперь пользователи могут редактировать и дополнять описания товаров, как в вики-сообществах. То есть клиенты предлагают свои правки и комментируют изменения других. Магазину нужен инструмент, который будет искать токсичные комментарии и отправлять их на модерацию. \n",
    "\n",
    "Обучите модель классифицировать комментарии на позитивные и негативные. В вашем распоряжении набор данных с разметкой о токсичности правок.\n",
    "\n",
    "Постройте модель со значением метрики качества *F1* не меньше 0.75. \n",
    "\n",
    "**Инструкция по выполнению проекта**\n",
    "\n",
    "1. Загрузите и подготовьте данные.\n",
    "2. Обучите разные модели. \n",
    "3. Сделайте выводы.\n",
    "\n",
    "Для выполнения проекта применять *BERT* необязательно, но вы можете попробовать.\n",
    "\n",
    "**Описание данных**\n",
    "\n",
    "Данные находятся в файле `toxic_comments.csv`. Столбец *text* в нём содержит текст комментария, а *toxic* — целевой признак."
   ]
  },
  {
   "cell_type": "markdown",
   "metadata": {},
   "source": [
    "## Подготовка"
   ]
  },
  {
   "cell_type": "code",
   "execution_count": 108,
   "metadata": {},
   "outputs": [
    {
     "name": "stderr",
     "output_type": "stream",
     "text": [
      "[nltk_data] Downloading package stopwords to\n",
      "[nltk_data]     C:\\Users\\fomen\\AppData\\Roaming\\nltk_data...\n",
      "[nltk_data]   Package stopwords is already up-to-date!\n",
      "[nltk_data] Downloading package wordnet to\n",
      "[nltk_data]     C:\\Users\\fomen\\AppData\\Roaming\\nltk_data...\n",
      "[nltk_data]   Package wordnet is already up-to-date!\n",
      "[nltk_data] Downloading package omw-1.4 to\n",
      "[nltk_data]     C:\\Users\\fomen\\AppData\\Roaming\\nltk_data...\n",
      "[nltk_data]   Package omw-1.4 is already up-to-date!\n"
     ]
    },
    {
     "data": {
      "text/plain": [
       "True"
      ]
     },
     "execution_count": 108,
     "metadata": {},
     "output_type": "execute_result"
    }
   ],
   "source": [
    "# загрузка библиотек\n",
    "import re\n",
    "import nltk\n",
    "import numpy as np\n",
    "import pandas as pd\n",
    "from tqdm import tqdm\n",
    "import seaborn as sns\n",
    "import matplotlib.pyplot as plt\n",
    "from nltk.stem import WordNetLemmatizer \n",
    "from sklearn.pipeline import Pipeline\n",
    "from sklearn.preprocessing import OneHotEncoder\n",
    "from nltk.corpus import stopwords as nltk_stopwords\n",
    "from sklearn.feature_extraction.text import TfidfVectorizer\n",
    "from sklearn.feature_extraction.text import TfidfTransformer\n",
    "from sklearn.feature_extraction.text import CountVectorizer\n",
    "from sklearn.model_selection import train_test_split, cross_val_score, GridSearchCV\n",
    "from sklearn.linear_model import LogisticRegression\n",
    "from sklearn.ensemble import RandomForestClassifier\n",
    "from sklearn.tree import DecisionTreeClassifier\n",
    "from catboost import CatBoostClassifier, Pool\n",
    "from sklearn.metrics import f1_score\n",
    "from sklearn.utils import shuffle\n",
    "from sklearn.metrics import roc_auc_score\n",
    "from sklearn.metrics import roc_curve \n",
    "#from sklearn.externals import joblib\n",
    "import warnings\n",
    "\n",
    "warnings.filterwarnings('ignore')\n",
    "nltk.download('stopwords')\n",
    "nltk.download('wordnet')\n",
    "nltk.download('omw-1.4')"
   ]
  },
  {
   "cell_type": "code",
   "execution_count": 109,
   "metadata": {},
   "outputs": [],
   "source": [
    "# загрузка файла\n",
    "#df = pd.read_csv('/datasets/toxic_comments.csv')\n",
    "df = pd.read_csv('toxic_comments.csv') #для запуска на локальном компьютере"
   ]
  },
  {
   "cell_type": "markdown",
   "metadata": {},
   "source": [
    "###  Оценка качества данных"
   ]
  },
  {
   "cell_type": "code",
   "execution_count": 110,
   "metadata": {},
   "outputs": [
    {
     "data": {
      "text/html": [
       "<div>\n",
       "<style scoped>\n",
       "    .dataframe tbody tr th:only-of-type {\n",
       "        vertical-align: middle;\n",
       "    }\n",
       "\n",
       "    .dataframe tbody tr th {\n",
       "        vertical-align: top;\n",
       "    }\n",
       "\n",
       "    .dataframe thead th {\n",
       "        text-align: right;\n",
       "    }\n",
       "</style>\n",
       "<table border=\"1\" class=\"dataframe\">\n",
       "  <thead>\n",
       "    <tr style=\"text-align: right;\">\n",
       "      <th></th>\n",
       "      <th>text</th>\n",
       "      <th>toxic</th>\n",
       "    </tr>\n",
       "  </thead>\n",
       "  <tbody>\n",
       "    <tr>\n",
       "      <th>0</th>\n",
       "      <td>Explanation\\nWhy the edits made under my usern...</td>\n",
       "      <td>0</td>\n",
       "    </tr>\n",
       "    <tr>\n",
       "      <th>1</th>\n",
       "      <td>D'aww! He matches this background colour I'm s...</td>\n",
       "      <td>0</td>\n",
       "    </tr>\n",
       "    <tr>\n",
       "      <th>2</th>\n",
       "      <td>Hey man, I'm really not trying to edit war. It...</td>\n",
       "      <td>0</td>\n",
       "    </tr>\n",
       "    <tr>\n",
       "      <th>3</th>\n",
       "      <td>\"\\nMore\\nI can't make any real suggestions on ...</td>\n",
       "      <td>0</td>\n",
       "    </tr>\n",
       "    <tr>\n",
       "      <th>4</th>\n",
       "      <td>You, sir, are my hero. Any chance you remember...</td>\n",
       "      <td>0</td>\n",
       "    </tr>\n",
       "  </tbody>\n",
       "</table>\n",
       "</div>"
      ],
      "text/plain": [
       "                                                text  toxic\n",
       "0  Explanation\\nWhy the edits made under my usern...      0\n",
       "1  D'aww! He matches this background colour I'm s...      0\n",
       "2  Hey man, I'm really not trying to edit war. It...      0\n",
       "3  \"\\nMore\\nI can't make any real suggestions on ...      0\n",
       "4  You, sir, are my hero. Any chance you remember...      0"
      ]
     },
     "execution_count": 110,
     "metadata": {},
     "output_type": "execute_result"
    }
   ],
   "source": [
    "# получение первых 5 строк таблицы\n",
    "df.head()"
   ]
  },
  {
   "cell_type": "code",
   "execution_count": 111,
   "metadata": {},
   "outputs": [
    {
     "data": {
      "text/html": [
       "<div>\n",
       "<style scoped>\n",
       "    .dataframe tbody tr th:only-of-type {\n",
       "        vertical-align: middle;\n",
       "    }\n",
       "\n",
       "    .dataframe tbody tr th {\n",
       "        vertical-align: top;\n",
       "    }\n",
       "\n",
       "    .dataframe thead th {\n",
       "        text-align: right;\n",
       "    }\n",
       "</style>\n",
       "<table border=\"1\" class=\"dataframe\">\n",
       "  <thead>\n",
       "    <tr style=\"text-align: right;\">\n",
       "      <th></th>\n",
       "      <th>text</th>\n",
       "      <th>toxic</th>\n",
       "    </tr>\n",
       "  </thead>\n",
       "  <tbody>\n",
       "    <tr>\n",
       "      <th>159566</th>\n",
       "      <td>\":::::And for the second time of asking, when ...</td>\n",
       "      <td>0</td>\n",
       "    </tr>\n",
       "    <tr>\n",
       "      <th>159567</th>\n",
       "      <td>You should be ashamed of yourself \\n\\nThat is ...</td>\n",
       "      <td>0</td>\n",
       "    </tr>\n",
       "    <tr>\n",
       "      <th>159568</th>\n",
       "      <td>Spitzer \\n\\nUmm, theres no actual article for ...</td>\n",
       "      <td>0</td>\n",
       "    </tr>\n",
       "    <tr>\n",
       "      <th>159569</th>\n",
       "      <td>And it looks like it was actually you who put ...</td>\n",
       "      <td>0</td>\n",
       "    </tr>\n",
       "    <tr>\n",
       "      <th>159570</th>\n",
       "      <td>\"\\nAnd ... I really don't think you understand...</td>\n",
       "      <td>0</td>\n",
       "    </tr>\n",
       "  </tbody>\n",
       "</table>\n",
       "</div>"
      ],
      "text/plain": [
       "                                                     text  toxic\n",
       "159566  \":::::And for the second time of asking, when ...      0\n",
       "159567  You should be ashamed of yourself \\n\\nThat is ...      0\n",
       "159568  Spitzer \\n\\nUmm, theres no actual article for ...      0\n",
       "159569  And it looks like it was actually you who put ...      0\n",
       "159570  \"\\nAnd ... I really don't think you understand...      0"
      ]
     },
     "execution_count": 111,
     "metadata": {},
     "output_type": "execute_result"
    }
   ],
   "source": [
    "# получение последних 5 строк таблицы\n",
    "df.tail()"
   ]
  },
  {
   "cell_type": "code",
   "execution_count": 112,
   "metadata": {},
   "outputs": [
    {
     "name": "stdout",
     "output_type": "stream",
     "text": [
      "<class 'pandas.core.frame.DataFrame'>\n",
      "RangeIndex: 159571 entries, 0 to 159570\n",
      "Data columns (total 2 columns):\n",
      " #   Column  Non-Null Count   Dtype \n",
      "---  ------  --------------   ----- \n",
      " 0   text    159571 non-null  object\n",
      " 1   toxic   159571 non-null  int64 \n",
      "dtypes: int64(1), object(1)\n",
      "memory usage: 2.4+ MB\n"
     ]
    }
   ],
   "source": [
    "# общий анализ данных\n",
    "df.info()"
   ]
  },
  {
   "cell_type": "code",
   "execution_count": 113,
   "metadata": {},
   "outputs": [
    {
     "name": "stdout",
     "output_type": "stream",
     "text": [
      "Всего NaN: text     0\n",
      "toxic    0\n",
      "dtype: int64\n"
     ]
    }
   ],
   "source": [
    "# проверка на наличие пропущенных значений\n",
    "print('Всего NaN:',df.isnull().sum())"
   ]
  },
  {
   "cell_type": "code",
   "execution_count": 114,
   "metadata": {},
   "outputs": [
    {
     "name": "stdout",
     "output_type": "stream",
     "text": [
      "Количество дубликатов 0\n"
     ]
    }
   ],
   "source": [
    "# проверка на дубликаты\n",
    "print('Количество дубликатов',df.duplicated().sum())"
   ]
  },
  {
   "cell_type": "code",
   "execution_count": 115,
   "metadata": {},
   "outputs": [
    {
     "data": {
      "text/html": [
       "<div>\n",
       "<style scoped>\n",
       "    .dataframe tbody tr th:only-of-type {\n",
       "        vertical-align: middle;\n",
       "    }\n",
       "\n",
       "    .dataframe tbody tr th {\n",
       "        vertical-align: top;\n",
       "    }\n",
       "\n",
       "    .dataframe thead th {\n",
       "        text-align: right;\n",
       "    }\n",
       "</style>\n",
       "<table border=\"1\" class=\"dataframe\">\n",
       "  <thead>\n",
       "    <tr style=\"text-align: right;\">\n",
       "      <th></th>\n",
       "      <th>text</th>\n",
       "    </tr>\n",
       "  </thead>\n",
       "  <tbody>\n",
       "    <tr>\n",
       "      <th>count</th>\n",
       "      <td>159571</td>\n",
       "    </tr>\n",
       "    <tr>\n",
       "      <th>unique</th>\n",
       "      <td>159571</td>\n",
       "    </tr>\n",
       "    <tr>\n",
       "      <th>top</th>\n",
       "      <td>Explanation\\nWhy the edits made under my usern...</td>\n",
       "    </tr>\n",
       "    <tr>\n",
       "      <th>freq</th>\n",
       "      <td>1</td>\n",
       "    </tr>\n",
       "  </tbody>\n",
       "</table>\n",
       "</div>"
      ],
      "text/plain": [
       "                                                     text\n",
       "count                                              159571\n",
       "unique                                             159571\n",
       "top     Explanation\\nWhy the edits made under my usern...\n",
       "freq                                                    1"
      ]
     },
     "execution_count": 115,
     "metadata": {},
     "output_type": "execute_result"
    }
   ],
   "source": [
    "# проверка численных значений методом descibe() для объектов\n",
    "df.describe(include='object')"
   ]
  },
  {
   "cell_type": "code",
   "execution_count": 116,
   "metadata": {},
   "outputs": [
    {
     "data": {
      "text/plain": [
       "0    143346\n",
       "1     16225\n",
       "Name: toxic, dtype: int64"
      ]
     },
     "metadata": {},
     "output_type": "display_data"
    },
    {
     "name": "stdout",
     "output_type": "stream",
     "text": [
      "Ratio: 8.834884437596301\n"
     ]
    }
   ],
   "source": [
    "# проверка на баланс классов\n",
    "display(df['toxic'].value_counts())\n",
    "class_ratio = df['toxic'].value_counts()[0] / df['toxic'].value_counts()[1]\n",
    "print('Ratio:',class_ratio)"
   ]
  },
  {
   "cell_type": "code",
   "execution_count": 117,
   "metadata": {},
   "outputs": [
    {
     "data": {
      "image/png": "[encoded data removed]",
      "text/plain": [
       "<Figure size 504x504 with 1 Axes>"
      ]
     },
     "metadata": {
      "needs_background": "light"
     },
     "output_type": "display_data"
    }
   ],
   "source": [
    "# визуализиция дисбаланса классов на графике\n",
    "plt.figure(figsize=(7, 7))\n",
    "sns.countplot(x='toxic', data=df, palette=\"Set1\");"
   ]
  },
  {
   "cell_type": "markdown",
   "metadata": {},
   "source": [
    "**Вывод:** Набор данных всего содержит 159571 строк и 2 столбца. Результаты:\n",
    "1. В данных нет пропущенных значений и дубликатов\n",
    "2. Язык текста комментариев - английский\n",
    "3. В тексте комментариев содержатся разные регистры букв, символы пунктуации и '/n' итд.\n",
    "4. Найден дисбаланс классов в соотношении примерно 1:8\n",
    "\n",
    "Займемся обработкой данных"
   ]
  },
  {
   "cell_type": "markdown",
   "metadata": {},
   "source": [
    "### Предобработка данных"
   ]
  },
  {
   "cell_type": "markdown",
   "metadata": {},
   "source": [
    "* **Лемматизация**"
   ]
  },
  {
   "cell_type": "markdown",
   "metadata": {},
   "source": [
    "Приведение текста в столбце 'text' к нижнему регистру"
   ]
  },
  {
   "cell_type": "code",
   "execution_count": 118,
   "metadata": {},
   "outputs": [],
   "source": [
    "df['text'] = df['text'].str.lower()"
   ]
  },
  {
   "cell_type": "code",
   "execution_count": 119,
   "metadata": {},
   "outputs": [
    {
     "name": "stdout",
     "output_type": "stream",
     "text": [
      "Количество дубликатов 45\n"
     ]
    }
   ],
   "source": [
    "# проверка на дубликаты\n",
    "print('Количество дубликатов',df.duplicated().sum())"
   ]
  },
  {
   "cell_type": "markdown",
   "metadata": {},
   "source": [
    "После приведения текста к нижнему регистру, обнаружены дубликаты. Удалим их"
   ]
  },
  {
   "cell_type": "code",
   "execution_count": 120,
   "metadata": {},
   "outputs": [],
   "source": [
    "df = df.drop_duplicates().reset_index(drop= True)"
   ]
  },
  {
   "cell_type": "markdown",
   "metadata": {},
   "source": [
    "Объявим корпус текстов, переведем его в тип юникод"
   ]
  },
  {
   "cell_type": "code",
   "execution_count": 121,
   "metadata": {},
   "outputs": [
    {
     "name": "stdout",
     "output_type": "stream",
     "text": [
      "explanation\n",
      "why the edits made under my username hardcore metallica fan were reverted? they weren't vandalisms, just closure on some gas after i voted at new york dolls fac. and please don't remove the template from the talk page since i'm retired now.89.205.38.27\n"
     ]
    }
   ],
   "source": [
    "corpus = df['text'].values\n",
    "print(corpus[0])"
   ]
  },
  {
   "cell_type": "markdown",
   "metadata": {},
   "source": [
    "Для обработки текста, объявим лемматизатор и функцию для очистки и лемматизации текстов \"clear_text\""
   ]
  },
  {
   "cell_type": "code",
   "execution_count": 122,
   "metadata": {},
   "outputs": [
    {
     "data": {
      "text/plain": [
       "0    143316\n",
       "1     16210\n",
       "Name: toxic, dtype: int64"
      ]
     },
     "metadata": {},
     "output_type": "display_data"
    },
    {
     "data": {
      "text/plain": [
       "8.841209130166565"
      ]
     },
     "execution_count": 122,
     "metadata": {},
     "output_type": "execute_result"
    }
   ],
   "source": [
    "display(df['toxic'].value_counts())\n",
    "class_ratio = df['toxic'].value_counts()[0] / df['toxic'].value_counts()[1]\n",
    "class_ratio"
   ]
  },
  {
   "cell_type": "code",
   "execution_count": 123,
   "metadata": {},
   "outputs": [],
   "source": [
    "# функция для лемматизирования текста\n",
    "wnl = WordNetLemmatizer()\n",
    "\n",
    "def lemmatize_text(text):\n",
    "    text = text.lower()\n",
    "    lemm_text = \"\".join(wnl.lemmatize(text))\n",
    "    cleared_text = re.sub(r'[^a-zA-Z]', ' ', lemm_text) \n",
    "    return \" \".join(cleared_text.split())\n",
    "\n",
    "df['lemm_text'] = df['text'].apply(lemmatize_text)\n",
    "\n",
    "df = df.drop(['text'], axis=1)"
   ]
  },
  {
   "cell_type": "code",
   "execution_count": 124,
   "metadata": {},
   "outputs": [
    {
     "data": {
      "text/html": [
       "<div>\n",
       "<style scoped>\n",
       "    .dataframe tbody tr th:only-of-type {\n",
       "        vertical-align: middle;\n",
       "    }\n",
       "\n",
       "    .dataframe tbody tr th {\n",
       "        vertical-align: top;\n",
       "    }\n",
       "\n",
       "    .dataframe thead th {\n",
       "        text-align: right;\n",
       "    }\n",
       "</style>\n",
       "<table border=\"1\" class=\"dataframe\">\n",
       "  <thead>\n",
       "    <tr style=\"text-align: right;\">\n",
       "      <th></th>\n",
       "      <th>toxic</th>\n",
       "      <th>lemm_text</th>\n",
       "    </tr>\n",
       "  </thead>\n",
       "  <tbody>\n",
       "    <tr>\n",
       "      <th>0</th>\n",
       "      <td>0</td>\n",
       "      <td>explanation why the edits made under my userna...</td>\n",
       "    </tr>\n",
       "    <tr>\n",
       "      <th>1</th>\n",
       "      <td>0</td>\n",
       "      <td>d aww he matches this background colour i m se...</td>\n",
       "    </tr>\n",
       "    <tr>\n",
       "      <th>2</th>\n",
       "      <td>0</td>\n",
       "      <td>hey man i m really not trying to edit war it s...</td>\n",
       "    </tr>\n",
       "    <tr>\n",
       "      <th>3</th>\n",
       "      <td>0</td>\n",
       "      <td>more i can t make any real suggestions on impr...</td>\n",
       "    </tr>\n",
       "    <tr>\n",
       "      <th>4</th>\n",
       "      <td>0</td>\n",
       "      <td>you sir are my hero any chance you remember wh...</td>\n",
       "    </tr>\n",
       "    <tr>\n",
       "      <th>5</th>\n",
       "      <td>0</td>\n",
       "      <td>congratulations from me as well use the tools ...</td>\n",
       "    </tr>\n",
       "    <tr>\n",
       "      <th>6</th>\n",
       "      <td>1</td>\n",
       "      <td>cocksucker before you piss around on my work</td>\n",
       "    </tr>\n",
       "    <tr>\n",
       "      <th>7</th>\n",
       "      <td>0</td>\n",
       "      <td>your vandalism to the matt shirvington article...</td>\n",
       "    </tr>\n",
       "    <tr>\n",
       "      <th>8</th>\n",
       "      <td>0</td>\n",
       "      <td>sorry if the word nonsense was offensive to yo...</td>\n",
       "    </tr>\n",
       "    <tr>\n",
       "      <th>9</th>\n",
       "      <td>0</td>\n",
       "      <td>alignment on this subject and which are contra...</td>\n",
       "    </tr>\n",
       "  </tbody>\n",
       "</table>\n",
       "</div>"
      ],
      "text/plain": [
       "   toxic                                          lemm_text\n",
       "0      0  explanation why the edits made under my userna...\n",
       "1      0  d aww he matches this background colour i m se...\n",
       "2      0  hey man i m really not trying to edit war it s...\n",
       "3      0  more i can t make any real suggestions on impr...\n",
       "4      0  you sir are my hero any chance you remember wh...\n",
       "5      0  congratulations from me as well use the tools ...\n",
       "6      1       cocksucker before you piss around on my work\n",
       "7      0  your vandalism to the matt shirvington article...\n",
       "8      0  sorry if the word nonsense was offensive to yo...\n",
       "9      0  alignment on this subject and which are contra..."
      ]
     },
     "metadata": {},
     "output_type": "display_data"
    }
   ],
   "source": [
    "# проверка\n",
    "display(df.head(10))"
   ]
  },
  {
   "cell_type": "markdown",
   "metadata": {},
   "source": [
    "<div class=\"alert alert-block alert-success\">\n",
    "<b>Успех:</b> Очистка и лемматизация были сделаны верно.\n",
    "</div>"
   ]
  },
  {
   "cell_type": "markdown",
   "metadata": {},
   "source": [
    "* **Разделение данных на выборки**"
   ]
  },
  {
   "cell_type": "markdown",
   "metadata": {},
   "source": [
    "Подготовим признаки (features и target), разобьем их на train, valid и test выборки. "
   ]
  },
  {
   "cell_type": "code",
   "execution_count": 125,
   "metadata": {},
   "outputs": [],
   "source": [
    "# разбивка данных на features, target\n",
    "target = df['toxic']\n",
    "features = df.drop(['toxic'], axis=1)\n",
    "\n",
    "features_train, features_valid, target_train, target_valid = train_test_split(features, \n",
    "                                                                              target, \n",
    "                                                                              test_size=0.4, \n",
    "                                                                              random_state=12082020)\n",
    "features_valid, features_test, target_valid, target_test = train_test_split(features_valid, \n",
    "                                                                            target_valid, \n",
    "                                                                            test_size=0.5,\n",
    "                                                                            random_state=12082020)\n",
    "\n"
   ]
  },
  {
   "cell_type": "code",
   "execution_count": 126,
   "metadata": {},
   "outputs": [
    {
     "name": "stdout",
     "output_type": "stream",
     "text": [
      "(95715,)\n",
      "(95715, 1)\n"
     ]
    }
   ],
   "source": [
    "# проверка\n",
    "print(target_train.shape)\n",
    "print(features_train.shape)"
   ]
  },
  {
   "cell_type": "code",
   "execution_count": 127,
   "metadata": {},
   "outputs": [],
   "source": [
    "# загрузим стоп-слова\n",
    "stop_words = set(nltk_stopwords.words('english'))"
   ]
  },
  {
   "cell_type": "code",
   "execution_count": 128,
   "metadata": {},
   "outputs": [],
   "source": [
    "# объявление TFIDF-векторизатора\n",
    "count_tfidf = TfidfVectorizer(stop_words=stop_words)"
   ]
  },
  {
   "cell_type": "code",
   "execution_count": 129,
   "metadata": {},
   "outputs": [],
   "source": [
    "# расчет tfdif в каждой из выборок по признаков с типом данных Unicode\n",
    "features_train = count_tfidf.fit_transform(features_train['lemm_text'].values.astype('U'))\n",
    "features_valid = count_tfidf.transform(features_valid['lemm_text'].values.astype('U'))\n",
    "features_test = count_tfidf.transform(features_test['lemm_text'].values.astype('U'))"
   ]
  },
  {
   "cell_type": "code",
   "execution_count": 130,
   "metadata": {},
   "outputs": [
    {
     "name": "stdout",
     "output_type": "stream",
     "text": [
      "(95715, 125098)\n",
      "(31905, 125098)\n",
      "(31906, 125098)\n"
     ]
    }
   ],
   "source": [
    "# проверка\n",
    "print(features_train.shape)\n",
    "print(features_valid.shape)\n",
    "print(features_test.shape)\n",
    "cv_counts = 3"
   ]
  },
  {
   "cell_type": "markdown",
   "metadata": {},
   "source": [
    "### Ресемплирование"
   ]
  },
  {
   "cell_type": "markdown",
   "metadata": {},
   "source": [
    "Ранее было обнаружено, что классы в данных несбалансированы. Для балансировки классов уменьшим количество значений в классе 0 (downsampling) метод. Увеличение класса 1 использовать не будем из-за большого объема данных."
   ]
  },
  {
   "cell_type": "code",
   "execution_count": 131,
   "metadata": {},
   "outputs": [],
   "source": [
    "# балансировка target_train \n",
    "toxic_comments_train = df.iloc[target_train.index]\n",
    "\n",
    "target_train_class_zero = toxic_comments_train[toxic_comments_train['toxic'] == 0]['toxic']\n",
    "target_train_class_one = toxic_comments_train[toxic_comments_train['toxic'] == 1]['toxic']"
   ]
  },
  {
   "cell_type": "code",
   "execution_count": 132,
   "metadata": {},
   "outputs": [],
   "source": [
    "# балансировка features_train \n",
    "target_train_class_zero_downsample = target_train_class_zero.sample(target_train_class_one.shape[0],\n",
    "                                                                    random_state=12082020)\n",
    "target_train_downsample = pd.concat([target_train_class_zero_downsample, target_train_class_one])\n",
    "\n",
    "features_train_downsample = df.iloc[target_train_downsample.index]\n",
    "features_train_downsample, target_train_downsample = shuffle(features_train_downsample,\n",
    "                                                             target_train_downsample,\n",
    "                                                             random_state=12082020)\n",
    "features_train_downsample = count_tfidf.transform(features_train_downsample['lemm_text']\n",
    "                                                   .values.astype('U'))"
   ]
  },
  {
   "cell_type": "raw",
   "metadata": {},
   "source": [
    "features_train = pd.get_dummies(features_train, drop_first=True) "
   ]
  },
  {
   "cell_type": "code",
   "execution_count": 133,
   "metadata": {},
   "outputs": [
    {
     "name": "stdout",
     "output_type": "stream",
     "text": [
      "(95715,)\n",
      "(95715, 125098)\n"
     ]
    }
   ],
   "source": [
    "# проверка\n",
    "print(target_train.shape)\n",
    "print(features_train.shape)"
   ]
  },
  {
   "cell_type": "markdown",
   "metadata": {},
   "source": [
    "Готово."
   ]
  },
  {
   "cell_type": "markdown",
   "metadata": {},
   "source": [
    "**Вывод:** \n",
    "В ходе преподготовки признаки были разделены на обучающую, валидационную и тестовую выборки. Текст комментариев приведен к нижнему регистру, удалены дубликаты, сбалансированы классы."
   ]
  },
  {
   "cell_type": "markdown",
   "metadata": {},
   "source": [
    "## Обучение"
   ]
  },
  {
   "cell_type": "markdown",
   "metadata": {},
   "source": [
    "Нам необходимо эффективно подобрать наиболее эффективную модель, то есть проанализировать несколько модели и сравнить их RMSE моделей (оценка качества) и выбрать ту которая наиболее близка к нулю. Также отследим время обучения моделей. Мы обучим и проанализируем следующие модели:\n",
    "\n",
    "* LogisticRegression\n",
    "* Random Forest\n",
    "* CatBoostClassifier"
   ]
  },
  {
   "cell_type": "markdown",
   "metadata": {},
   "source": [
    "### Logistic Regression классификатор"
   ]
  },
  {
   "cell_type": "code",
   "execution_count": 134,
   "metadata": {},
   "outputs": [
    {
     "name": "stdout",
     "output_type": "stream",
     "text": [
      "# Tuning hyper-parameters for f1_score\n",
      "\n",
      "Best parameters set found on development set:\n",
      "\n",
      "{'C': 10, 'class_weight': {0: 1, 1: 8.83}, 'solver': 'lbfgs'}\n",
      "\n",
      "Grid scores on development set:\n",
      "\n",
      "0.715999 for {'C': 0.1, 'class_weight': {0: 1, 1: 8.83}, 'solver': 'newton-cg'}\n",
      "0.715998 for {'C': 0.1, 'class_weight': {0: 1, 1: 8.83}, 'solver': 'lbfgs'}\n",
      "0.715864 for {'C': 0.1, 'class_weight': {0: 1, 1: 8.83}, 'solver': 'liblinear'}\n",
      "0.755471 for {'C': 1, 'class_weight': {0: 1, 1: 8.83}, 'solver': 'newton-cg'}\n",
      "0.755531 for {'C': 1, 'class_weight': {0: 1, 1: 8.83}, 'solver': 'lbfgs'}\n",
      "0.755494 for {'C': 1, 'class_weight': {0: 1, 1: 8.83}, 'solver': 'liblinear'}\n",
      "0.763239 for {'C': 10, 'class_weight': {0: 1, 1: 8.83}, 'solver': 'newton-cg'}\n",
      "0.763411 for {'C': 10, 'class_weight': {0: 1, 1: 8.83}, 'solver': 'lbfgs'}\n",
      "0.763239 for {'C': 10, 'class_weight': {0: 1, 1: 8.83}, 'solver': 'liblinear'}\n",
      "\n",
      "Wall time: 2min 3s\n"
     ]
    }
   ],
   "source": [
    "%%time\n",
    "dict_classes={0:1, 1:8.83}\n",
    "classificator = LogisticRegression()\n",
    "hyperparams = [{'solver':['newton-cg', 'lbfgs', 'liblinear'],\n",
    "                'C':[0.1, 1, 10],\n",
    "                'class_weight':[dict_classes]}]\n",
    "\n",
    "\n",
    "clf = GridSearchCV(classificator, hyperparams, scoring='f1',cv=5)\n",
    "clf.fit(features_train, target_train)\n",
    "LR_best_params = clf.best_params_\n",
    "print(LR_best_params)\n",
    "means = clf.cv_results_['mean_test_score']\n",
    "stds = clf.cv_results_['std_test_score']\n",
    "for mean, std, params in zip(means, stds, clf.cv_results_['params']):\n",
    "    print(\"%0.6f for %r\"% (mean, params))\n",
    "print()\n",
    "\n",
    "cv_f1_LR = max(means)"
   ]
  },
  {
   "cell_type": "code",
   "execution_count": 135,
   "metadata": {},
   "outputs": [
    {
     "name": "stdout",
     "output_type": "stream",
     "text": [
      "F1 на cv 0.7634113971999236\n",
      "F1 на валидации 0.7709480577466884\n",
      "Wall time: 4.63 s\n"
     ]
    }
   ],
   "source": [
    "%%time\n",
    "\n",
    "classificator = LogisticRegression()\n",
    "classificator.set_params(**LR_best_params)\n",
    "classificator.fit(features_train, target_train)\n",
    "target_predict = classificator.predict(features_valid)\n",
    "valid_f1_LR = f1_score(target_valid, target_predict)\n",
    "print('F1 на cv', cv_f1_LR)\n",
    "print('F1 на валидации', valid_f1_LR)"
   ]
  },
  {
   "cell_type": "markdown",
   "metadata": {},
   "source": [
    "### Decision Tree классификатор"
   ]
  },
  {
   "cell_type": "code",
   "execution_count": 137,
   "metadata": {},
   "outputs": [
    {
     "name": "stdout",
     "output_type": "stream",
     "text": [
      "{'class_weight': {0: 1, 1: 8.83}, 'max_depth': 44, 'random_state': 12082020}\n",
      "0.624640 for {'class_weight': {0: 1, 1: 8.83}, 'max_depth': 30, 'random_state': 12082020}\n",
      "0.615247 for {'class_weight': {0: 1, 1: 8.83}, 'max_depth': 32, 'random_state': 12082020}\n",
      "0.617295 for {'class_weight': {0: 1, 1: 8.83}, 'max_depth': 34, 'random_state': 12082020}\n",
      "0.612196 for {'class_weight': {0: 1, 1: 8.83}, 'max_depth': 36, 'random_state': 12082020}\n",
      "0.619892 for {'class_weight': {0: 1, 1: 8.83}, 'max_depth': 38, 'random_state': 12082020}\n",
      "0.621880 for {'class_weight': {0: 1, 1: 8.83}, 'max_depth': 40, 'random_state': 12082020}\n",
      "0.625879 for {'class_weight': {0: 1, 1: 8.83}, 'max_depth': 42, 'random_state': 12082020}\n",
      "0.628508 for {'class_weight': {0: 1, 1: 8.83}, 'max_depth': 44, 'random_state': 12082020}\n",
      "0.604223 for {'class_weight': {0: 1, 1: 8.83}, 'max_depth': 46, 'random_state': 12082020}\n",
      "0.607819 for {'class_weight': {0: 1, 1: 8.83}, 'max_depth': 48, 'random_state': 12082020}\n",
      "0.613250 for {'class_weight': {0: 1, 1: 8.83}, 'max_depth': 50, 'random_state': 12082020}\n",
      "\n",
      "Wall time: 14min 10s\n"
     ]
    }
   ],
   "source": [
    "%%time\n",
    "\n",
    "classificator = DecisionTreeClassifier()\n",
    "hyperparams = [{'max_depth':[x for x in range(30,51,2)],\n",
    "                'random_state':[12082020],\n",
    "                'class_weight':[dict_classes]}]\n",
    "\n",
    "\n",
    "clf = GridSearchCV(classificator, hyperparams, scoring='f1',cv=cv_counts)\n",
    "clf.fit(features_train, target_train)\n",
    "DTC_best_params = clf.best_params_\n",
    "print(DTC_best_params)\n",
    "means = clf.cv_results_['mean_test_score']\n",
    "stds = clf.cv_results_['std_test_score']\n",
    "for mean, std, params in zip(means, stds, clf.cv_results_['params']):\n",
    "    print(\"%0.6f for %r\"% (mean, params))\n",
    "print()\n",
    "\n",
    "cv_f1_DTC = max(means)"
   ]
  },
  {
   "cell_type": "code",
   "execution_count": 138,
   "metadata": {},
   "outputs": [
    {
     "name": "stdout",
     "output_type": "stream",
     "text": [
      "F1 на cv 0.6285083143838285\n",
      "F1 на валидации 0.6511318242343542\n",
      "Wall time: 32.2 s\n"
     ]
    }
   ],
   "source": [
    "%%time\n",
    "\n",
    "classificator = DecisionTreeClassifier()\n",
    "classificator.set_params(**DTC_best_params)\n",
    "classificator.fit(features_train, target_train)\n",
    "target_predict = classificator.predict(features_valid)\n",
    "valid_f1_DTC = f1_score(target_valid, target_predict)\n",
    "print('F1 на cv', cv_f1_DTC)\n",
    "print('F1 на валидации', valid_f1_DTC)"
   ]
  },
  {
   "cell_type": "markdown",
   "metadata": {},
   "source": [
    "### CatBoost классификатор"
   ]
  },
  {
   "cell_type": "code",
   "execution_count": 139,
   "metadata": {},
   "outputs": [
    {
     "name": "stderr",
     "output_type": "stream",
     "text": [
      "Custom logger is already specified. Specify more than one logger at same time is not thread safe."
     ]
    },
    {
     "name": "stdout",
     "output_type": "stream",
     "text": [
      "F1 на cv 0.6828613561949272\n",
      "F1 на валидации 0.6830122591943958\n",
      "Wall time: 3min 27s\n"
     ]
    }
   ],
   "source": [
    "%%time\n",
    "\n",
    "classificator = CatBoostClassifier(verbose=False, iterations=30)\n",
    "classificator.fit(features_train, target_train)\n",
    "target_predict = classificator.predict(features_valid)\n",
    "cv_f1_CBC = cross_val_score(classificator,\n",
    "                                         features_train, \n",
    "                                         target_train, \n",
    "                                         cv=cv_counts, \n",
    "                                         scoring='f1').mean()\n",
    "valid_f1_CBC = f1_score(target_valid, target_predict)\n",
    "print('F1 на cv', cv_f1_CBC)\n",
    "print('F1 на валидации', valid_f1_CBC)"
   ]
  },
  {
   "cell_type": "markdown",
   "metadata": {},
   "source": [
    "**Вывод:** Всего было проанализированно 3 модели, среди которых:\n",
    "\n",
    "|модели|время обучения|качество valid(F1_score)|\n",
    "|---|---|---|\n",
    "|LogisticRegression|5.49s|0.77|\n",
    "|DecisionTree|31.6s|0.65|\n",
    "|CatBoost|3m 27s|0.68|\n",
    "\n",
    "Самой быстрой моделью является модель Logistic Regression (5.49s), F1 этой модели (0.77) примерно равен F1 Catboost (0.73) но по скорости Catboost  уступает(Catboost - 20 min),  У Decision Tree F1 = 0.65, при скорости обучения модели 31.6s. Чем ближе f1_score модели к 1, тем модель лучше предсказывает. \n",
    "\n",
    "**Вывод:** Чем ближе f1_score модели к 1, тем модель лучше предсказывает. Для тестирования оставляем модель логистической регрессии"
   ]
  },
  {
   "cell_type": "markdown",
   "metadata": {},
   "source": [
    "# Проверка модели на тестовой выборке"
   ]
  },
  {
   "cell_type": "code",
   "execution_count": 140,
   "metadata": {},
   "outputs": [
    {
     "name": "stdout",
     "output_type": "stream",
     "text": [
      "F1 на cv 0.7634113971999236\n",
      "F1 на валидации 0.7706772440135155\n",
      "Wall time: 5.08 s\n"
     ]
    }
   ],
   "source": [
    "%%time\n",
    "\n",
    "classificator = LogisticRegression()\n",
    "classificator.set_params(**LR_best_params)\n",
    "classificator.fit(features_train, target_train)\n",
    "target_predict = classificator.predict(features_test)\n",
    "valid_f1_LR = f1_score(target_test, target_predict)\n",
    "print('F1 на cv', cv_f1_LR)\n",
    "print('F1 на валидации', valid_f1_LR)"
   ]
  },
  {
   "cell_type": "markdown",
   "metadata": {},
   "source": [
    "Прстроим ROC кривую и оценим качество обучения модели"
   ]
  },
  {
   "cell_type": "code",
   "execution_count": 141,
   "metadata": {},
   "outputs": [
    {
     "name": "stdout",
     "output_type": "stream",
     "text": [
      "Значение AUC-ROC =  0.8854289915033529\n"
     ]
    },
    {
     "data": {
      "image/png": "[encoded data removed]",
      "text/plain": [
       "<Figure size 432x288 with 1 Axes>"
      ]
     },
     "metadata": {
      "needs_background": "light"
     },
     "output_type": "display_data"
    }
   ],
   "source": [
    "probabilities_test = classificator.predict_proba(features_test)\n",
    "probabilities_one_test = probabilities_test[:, 1]\n",
    "auc_roc = roc_auc_score(target_test, target_predict)\n",
    "\n",
    "print('Значение AUC-ROC = ',auc_roc)\n",
    "\n",
    "\n",
    "\n",
    "fpr, tpr, thresholds = roc_curve(target_test, probabilities_one_test) \n",
    "\n",
    "plt.figure()\n",
    "plt.plot(fpr, tpr)\n",
    "plt.plot([0, 1], [0, 1], linestyle='--')\n",
    "plt.xlim([0.0, 1.0])\n",
    "plt.ylim([0.0, 1.0])\n",
    "plt.xlabel('False Positive Rate')\n",
    "plt.ylabel('True Positive Rate')\n",
    "plt.title('ROC-кривая')\n",
    "plt.show()"
   ]
  },
  {
   "cell_type": "markdown",
   "metadata": {},
   "source": [
    "**Вывод:** F1 валидационной и тестовой выборкок = 0.77. Это хороший результат и отсутствие разницы означает, что модель не переобучилась.\n",
    "Логистическая регрессия дала хорогие результаты в ROC AUC метрике. Модель способна обработать больше записей."
   ]
  },
  {
   "cell_type": "markdown",
   "metadata": {},
   "source": [
    "# Общий вывод"
   ]
  },
  {
   "cell_type": "markdown",
   "metadata": {},
   "source": [
    "В ходе работы над данными было сделано следующее:\n",
    "1) Подготовленны данные обучения на моделях.\n",
    "2) Выбран способ баланса классов и поделены данные на обучающую, валидационную и тестовою выборку.\n",
    "3) Обучены модели и выбраны лучшие из них на валидационной выборке.\n",
    "4) Показаны параметры качества моделей.\n",
    "\n",
    "\n",
    "Мы подобрали и построили модель для сортировки токсичных комментариев. Logistic Regression - модель с наилучшим значением F1, равным 0.77 на тестовой выборке и на валидационной. Время обучения в среднем равно 0.5 секундам."
   ]
  }
 ],
 "metadata": {
  "ExecuteTimeLog": [
   {
    "duration": 347,
    "start_time": "2022-02-19T10:56:38.216Z"
   },
   {
    "duration": 4,
    "start_time": "2022-02-19T10:56:40.411Z"
   },
   {
    "duration": 3531,
    "start_time": "2022-02-19T10:56:40.418Z"
   },
   {
    "duration": 3640,
    "start_time": "2022-02-19T10:56:43.952Z"
   },
   {
    "duration": 16,
    "start_time": "2022-02-19T10:56:47.595Z"
   },
   {
    "duration": 14,
    "start_time": "2022-02-19T10:56:47.614Z"
   },
   {
    "duration": 51,
    "start_time": "2022-02-19T10:56:47.630Z"
   },
   {
    "duration": 30,
    "start_time": "2022-02-19T10:56:47.684Z"
   },
   {
    "duration": 52,
    "start_time": "2022-02-19T10:56:47.719Z"
   },
   {
    "duration": 314,
    "start_time": "2022-02-19T10:56:47.774Z"
   },
   {
    "duration": 23,
    "start_time": "2022-02-19T10:56:48.091Z"
   },
   {
    "duration": 378,
    "start_time": "2022-02-19T10:56:48.117Z"
   },
   {
    "duration": 6,
    "start_time": "2022-02-19T10:57:01.202Z"
   },
   {
    "duration": 750,
    "start_time": "2022-02-19T10:57:01.211Z"
   },
   {
    "duration": 9,
    "start_time": "2022-02-19T10:57:01.964Z"
   },
   {
    "duration": 10,
    "start_time": "2022-02-19T10:57:01.975Z"
   },
   {
    "duration": 40,
    "start_time": "2022-02-19T10:57:01.988Z"
   },
   {
    "duration": 31,
    "start_time": "2022-02-19T10:57:02.049Z"
   },
   {
    "duration": 31,
    "start_time": "2022-02-19T10:57:02.082Z"
   },
   {
    "duration": 317,
    "start_time": "2022-02-19T10:57:02.117Z"
   },
   {
    "duration": 24,
    "start_time": "2022-02-19T10:57:02.437Z"
   },
   {
    "duration": 355,
    "start_time": "2022-02-19T10:57:02.463Z"
   },
   {
    "duration": 5,
    "start_time": "2022-02-19T11:04:53.058Z"
   },
   {
    "duration": 745,
    "start_time": "2022-02-19T11:04:53.066Z"
   },
   {
    "duration": 10,
    "start_time": "2022-02-19T11:04:53.814Z"
   },
   {
    "duration": 24,
    "start_time": "2022-02-19T11:04:53.827Z"
   },
   {
    "duration": 41,
    "start_time": "2022-02-19T11:04:53.853Z"
   },
   {
    "duration": 55,
    "start_time": "2022-02-19T11:04:53.896Z"
   },
   {
    "duration": 28,
    "start_time": "2022-02-19T11:04:53.953Z"
   },
   {
    "duration": 304,
    "start_time": "2022-02-19T11:04:53.984Z"
   },
   {
    "duration": 20,
    "start_time": "2022-02-19T11:04:54.291Z"
   },
   {
    "duration": 436,
    "start_time": "2022-02-19T11:04:54.314Z"
   },
   {
    "duration": 529,
    "start_time": "2022-02-19T11:04:54.752Z"
   },
   {
    "duration": 6,
    "start_time": "2022-02-19T11:05:04.420Z"
   },
   {
    "duration": 765,
    "start_time": "2022-02-19T11:05:04.429Z"
   },
   {
    "duration": 10,
    "start_time": "2022-02-19T11:05:05.197Z"
   },
   {
    "duration": 20,
    "start_time": "2022-02-19T11:05:05.210Z"
   },
   {
    "duration": 31,
    "start_time": "2022-02-19T11:05:05.248Z"
   },
   {
    "duration": 38,
    "start_time": "2022-02-19T11:05:05.282Z"
   },
   {
    "duration": 58,
    "start_time": "2022-02-19T11:05:05.323Z"
   },
   {
    "duration": 284,
    "start_time": "2022-02-19T11:05:05.384Z"
   },
   {
    "duration": 22,
    "start_time": "2022-02-19T11:05:05.671Z"
   },
   {
    "duration": 368,
    "start_time": "2022-02-19T11:05:05.696Z"
   },
   {
    "duration": 35,
    "start_time": "2022-02-19T11:05:06.066Z"
   },
   {
    "duration": 5,
    "start_time": "2022-02-19T11:25:22.364Z"
   },
   {
    "duration": 777,
    "start_time": "2022-02-19T11:25:22.372Z"
   },
   {
    "duration": 11,
    "start_time": "2022-02-19T11:25:23.153Z"
   },
   {
    "duration": 11,
    "start_time": "2022-02-19T11:25:23.167Z"
   },
   {
    "duration": 68,
    "start_time": "2022-02-19T11:25:23.181Z"
   },
   {
    "duration": 29,
    "start_time": "2022-02-19T11:25:23.252Z"
   },
   {
    "duration": 315,
    "start_time": "2022-02-19T11:25:23.284Z"
   },
   {
    "duration": 21,
    "start_time": "2022-02-19T11:25:23.603Z"
   },
   {
    "duration": 355,
    "start_time": "2022-02-19T11:25:23.648Z"
   },
   {
    "duration": 947,
    "start_time": "2022-02-19T11:40:47.131Z"
   },
   {
    "duration": 296,
    "start_time": "2022-02-19T11:45:49.218Z"
   },
   {
    "duration": 386,
    "start_time": "2022-02-19T11:46:00.482Z"
   },
   {
    "duration": 800,
    "start_time": "2022-02-19T11:46:00.871Z"
   },
   {
    "duration": 9,
    "start_time": "2022-02-19T11:46:01.674Z"
   },
   {
    "duration": 23,
    "start_time": "2022-02-19T11:46:01.686Z"
   },
   {
    "duration": 56,
    "start_time": "2022-02-19T11:46:01.711Z"
   },
   {
    "duration": 41,
    "start_time": "2022-02-19T11:46:01.770Z"
   },
   {
    "duration": 321,
    "start_time": "2022-02-19T11:46:01.814Z"
   },
   {
    "duration": 647,
    "start_time": "2022-02-19T11:46:02.138Z"
   },
   {
    "duration": 70,
    "start_time": "2022-02-19T11:46:02.788Z"
   },
   {
    "duration": 19,
    "start_time": "2022-02-19T11:46:42.147Z"
   },
   {
    "duration": 342,
    "start_time": "2022-02-19T11:58:17.300Z"
   },
   {
    "duration": 734,
    "start_time": "2022-02-19T11:58:17.645Z"
   },
   {
    "duration": 10,
    "start_time": "2022-02-19T11:58:18.382Z"
   },
   {
    "duration": 9,
    "start_time": "2022-02-19T11:58:18.395Z"
   },
   {
    "duration": 65,
    "start_time": "2022-02-19T11:58:18.407Z"
   },
   {
    "duration": 29,
    "start_time": "2022-02-19T11:58:18.475Z"
   },
   {
    "duration": 349,
    "start_time": "2022-02-19T11:58:18.506Z"
   },
   {
    "duration": 693,
    "start_time": "2022-02-19T11:58:18.857Z"
   },
   {
    "duration": 17,
    "start_time": "2022-02-19T11:58:19.554Z"
   },
   {
    "duration": 488,
    "start_time": "2022-02-19T11:58:19.574Z"
   },
   {
    "duration": 24,
    "start_time": "2022-02-19T11:58:20.041Z"
   },
   {
    "duration": 15,
    "start_time": "2022-02-19T11:58:20.052Z"
   },
   {
    "duration": 9,
    "start_time": "2022-02-19T11:58:39.200Z"
   },
   {
    "duration": 750,
    "start_time": "2022-02-19T11:58:39.212Z"
   },
   {
    "duration": 9,
    "start_time": "2022-02-19T11:58:39.965Z"
   },
   {
    "duration": 17,
    "start_time": "2022-02-19T11:58:39.976Z"
   },
   {
    "duration": 63,
    "start_time": "2022-02-19T11:58:39.995Z"
   },
   {
    "duration": 30,
    "start_time": "2022-02-19T11:58:40.060Z"
   },
   {
    "duration": 298,
    "start_time": "2022-02-19T11:58:40.092Z"
   },
   {
    "duration": 387,
    "start_time": "2022-02-19T11:58:40.393Z"
   },
   {
    "duration": 70,
    "start_time": "2022-02-19T11:58:40.784Z"
   },
   {
    "duration": 169626,
    "start_time": "2022-02-19T11:58:40.857Z"
   },
   {
    "duration": 85,
    "start_time": "2022-02-19T12:01:30.486Z"
   },
   {
    "duration": 17535,
    "start_time": "2022-02-19T12:01:30.575Z"
   },
   {
    "duration": 898,
    "start_time": "2022-02-19T13:13:47.761Z"
   },
   {
    "duration": 223,
    "start_time": "2022-02-19T13:13:56.446Z"
   },
   {
    "duration": 855,
    "start_time": "2022-02-19T13:13:56.671Z"
   },
   {
    "duration": 19,
    "start_time": "2022-02-19T13:13:57.529Z"
   },
   {
    "duration": 10,
    "start_time": "2022-02-19T13:13:57.552Z"
   },
   {
    "duration": 32,
    "start_time": "2022-02-19T13:13:57.564Z"
   },
   {
    "duration": 69,
    "start_time": "2022-02-19T13:13:57.599Z"
   },
   {
    "duration": 379,
    "start_time": "2022-02-19T13:13:57.670Z"
   },
   {
    "duration": 435,
    "start_time": "2022-02-19T13:13:58.053Z"
   },
   {
    "duration": 18,
    "start_time": "2022-02-19T13:13:58.491Z"
   },
   {
    "duration": 940,
    "start_time": "2022-02-19T13:13:58.513Z"
   },
   {
    "duration": 380,
    "start_time": "2022-02-19T13:14:19.381Z"
   },
   {
    "duration": 318,
    "start_time": "2022-02-19T13:14:43.180Z"
   },
   {
    "duration": 403,
    "start_time": "2022-02-19T13:14:49.748Z"
   },
   {
    "duration": 277,
    "start_time": "2022-02-19T13:14:52.516Z"
   },
   {
    "duration": 271,
    "start_time": "2022-02-19T13:15:52.280Z"
   },
   {
    "duration": 333,
    "start_time": "2022-02-19T13:16:06.302Z"
   },
   {
    "duration": 308,
    "start_time": "2022-02-19T13:17:58.336Z"
   },
   {
    "duration": 367,
    "start_time": "2022-02-19T13:19:17.162Z"
   },
   {
    "duration": 266,
    "start_time": "2022-02-19T13:19:21.853Z"
   },
   {
    "duration": 266,
    "start_time": "2022-02-19T13:19:30.038Z"
   },
   {
    "duration": 350,
    "start_time": "2022-02-19T13:19:34.322Z"
   },
   {
    "duration": 341,
    "start_time": "2022-02-19T13:19:37.636Z"
   },
   {
    "duration": 270,
    "start_time": "2022-02-19T13:19:40.338Z"
   },
   {
    "duration": 262,
    "start_time": "2022-02-19T13:19:47.608Z"
   },
   {
    "duration": 11,
    "start_time": "2022-02-19T14:01:05.554Z"
   },
   {
    "duration": 814,
    "start_time": "2022-02-19T14:01:05.568Z"
   },
   {
    "duration": 10,
    "start_time": "2022-02-19T14:01:06.385Z"
   },
   {
    "duration": 17,
    "start_time": "2022-02-19T14:01:06.398Z"
   },
   {
    "duration": 56,
    "start_time": "2022-02-19T14:01:06.417Z"
   },
   {
    "duration": 34,
    "start_time": "2022-02-19T14:01:06.476Z"
   },
   {
    "duration": 301,
    "start_time": "2022-02-19T14:01:06.513Z"
   },
   {
    "duration": 468,
    "start_time": "2022-02-19T14:01:06.821Z"
   },
   {
    "duration": 18,
    "start_time": "2022-02-19T14:01:07.293Z"
   },
   {
    "duration": 346,
    "start_time": "2022-02-19T14:01:07.313Z"
   },
   {
    "duration": 167685,
    "start_time": "2022-02-19T14:01:07.663Z"
   },
   {
    "duration": 325,
    "start_time": "2022-02-19T14:03:55.351Z"
   },
   {
    "duration": -1138,
    "start_time": "2022-02-19T14:03:56.817Z"
   },
   {
    "duration": -1139,
    "start_time": "2022-02-19T14:03:56.820Z"
   },
   {
    "duration": -1237,
    "start_time": "2022-02-19T14:03:56.921Z"
   },
   {
    "duration": -1265,
    "start_time": "2022-02-19T14:03:56.951Z"
   },
   {
    "duration": -1285,
    "start_time": "2022-02-19T14:03:56.973Z"
   },
   {
    "duration": -1310,
    "start_time": "2022-02-19T14:03:57.000Z"
   },
   {
    "duration": -1309,
    "start_time": "2022-02-19T14:03:57.002Z"
   },
   {
    "duration": -1310,
    "start_time": "2022-02-19T14:03:57.005Z"
   },
   {
    "duration": -1324,
    "start_time": "2022-02-19T14:03:57.021Z"
   },
   {
    "duration": -1347,
    "start_time": "2022-02-19T14:03:57.046Z"
   },
   {
    "duration": -1347,
    "start_time": "2022-02-19T14:03:57.048Z"
   },
   {
    "duration": 12,
    "start_time": "2022-02-19T14:05:48.927Z"
   },
   {
    "duration": 806,
    "start_time": "2022-02-19T14:05:48.968Z"
   },
   {
    "duration": 12,
    "start_time": "2022-02-19T14:05:49.778Z"
   },
   {
    "duration": 10,
    "start_time": "2022-02-19T14:05:49.793Z"
   },
   {
    "duration": 67,
    "start_time": "2022-02-19T14:05:49.806Z"
   },
   {
    "duration": 29,
    "start_time": "2022-02-19T14:05:49.875Z"
   },
   {
    "duration": 310,
    "start_time": "2022-02-19T14:05:49.906Z"
   },
   {
    "duration": 360,
    "start_time": "2022-02-19T14:05:50.218Z"
   },
   {
    "duration": 17,
    "start_time": "2022-02-19T14:05:50.581Z"
   },
   {
    "duration": 297,
    "start_time": "2022-02-19T14:05:50.602Z"
   },
   {
    "duration": 4539,
    "start_time": "2022-02-20T23:53:09.858Z"
   },
   {
    "duration": 4437,
    "start_time": "2022-02-20T23:53:14.398Z"
   },
   {
    "duration": -812,
    "start_time": "2022-02-20T23:53:19.708Z"
   },
   {
    "duration": -817,
    "start_time": "2022-02-20T23:53:19.713Z"
   },
   {
    "duration": -819,
    "start_time": "2022-02-20T23:53:19.716Z"
   },
   {
    "duration": -831,
    "start_time": "2022-02-20T23:53:19.729Z"
   },
   {
    "duration": -834,
    "start_time": "2022-02-20T23:53:19.733Z"
   },
   {
    "duration": -836,
    "start_time": "2022-02-20T23:53:19.736Z"
   },
   {
    "duration": -838,
    "start_time": "2022-02-20T23:53:19.739Z"
   },
   {
    "duration": -851,
    "start_time": "2022-02-20T23:53:19.753Z"
   },
   {
    "duration": -853,
    "start_time": "2022-02-20T23:53:19.756Z"
   },
   {
    "duration": -855,
    "start_time": "2022-02-20T23:53:19.759Z"
   },
   {
    "duration": -867,
    "start_time": "2022-02-20T23:53:19.772Z"
   },
   {
    "duration": -870,
    "start_time": "2022-02-20T23:53:19.776Z"
   },
   {
    "duration": -873,
    "start_time": "2022-02-20T23:53:19.780Z"
   },
   {
    "duration": -875,
    "start_time": "2022-02-20T23:53:19.783Z"
   },
   {
    "duration": -877,
    "start_time": "2022-02-20T23:53:19.786Z"
   },
   {
    "duration": -879,
    "start_time": "2022-02-20T23:53:19.789Z"
   },
   {
    "duration": -864,
    "start_time": "2022-02-20T23:53:19.795Z"
   },
   {
    "duration": -866,
    "start_time": "2022-02-20T23:53:19.798Z"
   },
   {
    "duration": -867,
    "start_time": "2022-02-20T23:53:19.800Z"
   },
   {
    "duration": -869,
    "start_time": "2022-02-20T23:53:19.803Z"
   },
   {
    "duration": -873,
    "start_time": "2022-02-20T23:53:19.808Z"
   },
   {
    "duration": -877,
    "start_time": "2022-02-20T23:53:19.813Z"
   },
   {
    "duration": -880,
    "start_time": "2022-02-20T23:53:19.817Z"
   },
   {
    "duration": -882,
    "start_time": "2022-02-20T23:53:19.820Z"
   },
   {
    "duration": -884,
    "start_time": "2022-02-20T23:53:19.823Z"
   },
   {
    "duration": -886,
    "start_time": "2022-02-20T23:53:19.826Z"
   },
   {
    "duration": -889,
    "start_time": "2022-02-20T23:53:19.829Z"
   },
   {
    "duration": -891,
    "start_time": "2022-02-20T23:53:19.832Z"
   },
   {
    "duration": -915,
    "start_time": "2022-02-20T23:53:19.857Z"
   },
   {
    "duration": -926,
    "start_time": "2022-02-20T23:53:19.869Z"
   },
   {
    "duration": -928,
    "start_time": "2022-02-20T23:53:19.872Z"
   },
   {
    "duration": -933,
    "start_time": "2022-02-20T23:53:19.878Z"
   },
   {
    "duration": -935,
    "start_time": "2022-02-20T23:53:19.881Z"
   },
   {
    "duration": -937,
    "start_time": "2022-02-20T23:53:19.884Z"
   },
   {
    "duration": -938,
    "start_time": "2022-02-20T23:53:19.886Z"
   },
   {
    "duration": -940,
    "start_time": "2022-02-20T23:53:19.889Z"
   },
   {
    "duration": -940,
    "start_time": "2022-02-20T23:53:19.892Z"
   },
   {
    "duration": -943,
    "start_time": "2022-02-20T23:53:19.896Z"
   },
   {
    "duration": -945,
    "start_time": "2022-02-20T23:53:19.898Z"
   },
   {
    "duration": -946,
    "start_time": "2022-02-20T23:53:19.901Z"
   },
   {
    "duration": -947,
    "start_time": "2022-02-20T23:53:19.903Z"
   },
   {
    "duration": -950,
    "start_time": "2022-02-20T23:53:19.907Z"
   },
   {
    "duration": 61,
    "start_time": "2022-02-20T23:55:29.171Z"
   },
   {
    "duration": 581,
    "start_time": "2022-02-20T23:55:29.233Z"
   },
   {
    "duration": 16,
    "start_time": "2022-02-20T23:55:29.816Z"
   },
   {
    "duration": 5,
    "start_time": "2022-02-20T23:55:29.834Z"
   },
   {
    "duration": 24,
    "start_time": "2022-02-20T23:55:29.840Z"
   },
   {
    "duration": 20,
    "start_time": "2022-02-20T23:55:29.866Z"
   },
   {
    "duration": 223,
    "start_time": "2022-02-20T23:55:29.887Z"
   },
   {
    "duration": 289,
    "start_time": "2022-02-20T23:55:30.113Z"
   },
   {
    "duration": 11,
    "start_time": "2022-02-20T23:55:30.404Z"
   },
   {
    "duration": 165,
    "start_time": "2022-02-20T23:55:30.416Z"
   },
   {
    "duration": 260,
    "start_time": "2022-02-20T23:55:30.583Z"
   },
   {
    "duration": 193,
    "start_time": "2022-02-20T23:55:30.845Z"
   },
   {
    "duration": 192,
    "start_time": "2022-02-20T23:55:31.040Z"
   },
   {
    "duration": 4,
    "start_time": "2022-02-20T23:55:31.233Z"
   },
   {
    "duration": 336,
    "start_time": "2022-02-20T23:55:31.238Z"
   },
   {
    "duration": -813,
    "start_time": "2022-02-20T23:55:32.389Z"
   },
   {
    "duration": -815,
    "start_time": "2022-02-20T23:55:32.392Z"
   },
   {
    "duration": -817,
    "start_time": "2022-02-20T23:55:32.395Z"
   },
   {
    "duration": -819,
    "start_time": "2022-02-20T23:55:32.398Z"
   },
   {
    "duration": -821,
    "start_time": "2022-02-20T23:55:32.401Z"
   },
   {
    "duration": -838,
    "start_time": "2022-02-20T23:55:32.419Z"
   },
   {
    "duration": -852,
    "start_time": "2022-02-20T23:55:32.433Z"
   },
   {
    "duration": -854,
    "start_time": "2022-02-20T23:55:32.436Z"
   },
   {
    "duration": -858,
    "start_time": "2022-02-20T23:55:32.441Z"
   },
   {
    "duration": -862,
    "start_time": "2022-02-20T23:55:32.446Z"
   },
   {
    "duration": -863,
    "start_time": "2022-02-20T23:55:32.448Z"
   },
   {
    "duration": -866,
    "start_time": "2022-02-20T23:55:32.452Z"
   },
   {
    "duration": -868,
    "start_time": "2022-02-20T23:55:32.455Z"
   },
   {
    "duration": -870,
    "start_time": "2022-02-20T23:55:32.458Z"
   },
   {
    "duration": -871,
    "start_time": "2022-02-20T23:55:32.460Z"
   },
   {
    "duration": -874,
    "start_time": "2022-02-20T23:55:32.464Z"
   },
   {
    "duration": -875,
    "start_time": "2022-02-20T23:55:32.467Z"
   },
   {
    "duration": -877,
    "start_time": "2022-02-20T23:55:32.470Z"
   },
   {
    "duration": -880,
    "start_time": "2022-02-20T23:55:32.474Z"
   },
   {
    "duration": -880,
    "start_time": "2022-02-20T23:55:32.476Z"
   },
   {
    "duration": -882,
    "start_time": "2022-02-20T23:55:32.479Z"
   },
   {
    "duration": -883,
    "start_time": "2022-02-20T23:55:32.481Z"
   },
   {
    "duration": -884,
    "start_time": "2022-02-20T23:55:32.484Z"
   },
   {
    "duration": -886,
    "start_time": "2022-02-20T23:55:32.487Z"
   },
   {
    "duration": -888,
    "start_time": "2022-02-20T23:55:32.490Z"
   },
   {
    "duration": -889,
    "start_time": "2022-02-20T23:55:32.493Z"
   },
   {
    "duration": -891,
    "start_time": "2022-02-20T23:55:32.496Z"
   },
   {
    "duration": -892,
    "start_time": "2022-02-20T23:55:32.498Z"
   },
   {
    "duration": 8,
    "start_time": "2022-02-20T23:56:00.168Z"
   },
   {
    "duration": 592,
    "start_time": "2022-02-20T23:56:00.178Z"
   },
   {
    "duration": 6,
    "start_time": "2022-02-20T23:56:00.772Z"
   },
   {
    "duration": 7,
    "start_time": "2022-02-20T23:56:00.780Z"
   },
   {
    "duration": 43,
    "start_time": "2022-02-20T23:56:00.789Z"
   },
   {
    "duration": 31,
    "start_time": "2022-02-20T23:56:00.833Z"
   },
   {
    "duration": 219,
    "start_time": "2022-02-20T23:56:00.866Z"
   },
   {
    "duration": 279,
    "start_time": "2022-02-20T23:56:01.087Z"
   },
   {
    "duration": 11,
    "start_time": "2022-02-20T23:56:01.370Z"
   },
   {
    "duration": 158,
    "start_time": "2022-02-20T23:56:01.383Z"
   },
   {
    "duration": 252,
    "start_time": "2022-02-20T23:56:01.543Z"
   },
   {
    "duration": 207,
    "start_time": "2022-02-20T23:56:01.797Z"
   },
   {
    "duration": 199,
    "start_time": "2022-02-20T23:56:02.006Z"
   },
   {
    "duration": 3,
    "start_time": "2022-02-20T23:56:02.207Z"
   },
   {
    "duration": 4,
    "start_time": "2022-02-20T23:56:02.212Z"
   },
   {
    "duration": 37131,
    "start_time": "2022-02-20T23:56:02.217Z"
   },
   {
    "duration": 7,
    "start_time": "2022-02-20T23:56:39.350Z"
   },
   {
    "duration": 8,
    "start_time": "2022-02-20T23:56:39.359Z"
   },
   {
    "duration": 69,
    "start_time": "2022-02-20T23:56:39.369Z"
   },
   {
    "duration": 4,
    "start_time": "2022-02-20T23:56:39.440Z"
   },
   {
    "duration": 10540,
    "start_time": "2022-02-20T23:56:39.445Z"
   },
   {
    "duration": 3,
    "start_time": "2022-02-20T23:56:49.987Z"
   },
   {
    "duration": 44,
    "start_time": "2022-02-20T23:56:49.992Z"
   },
   {
    "duration": 1221,
    "start_time": "2022-02-20T23:56:50.037Z"
   },
   {
    "duration": 3,
    "start_time": "2022-02-20T23:56:51.259Z"
   },
   {
    "duration": 5,
    "start_time": "2022-02-20T23:56:51.263Z"
   },
   {
    "duration": 39662,
    "start_time": "2022-02-20T23:56:51.272Z"
   },
   {
    "duration": 13,
    "start_time": "2022-02-20T23:57:30.936Z"
   },
   {
    "duration": 7896,
    "start_time": "2022-02-20T23:57:30.950Z"
   },
   {
    "duration": 14,
    "start_time": "2022-02-20T23:57:38.848Z"
   },
   {
    "duration": 3,
    "start_time": "2022-02-20T23:57:38.863Z"
   },
   {
    "duration": 41048,
    "start_time": "2022-02-20T23:57:38.868Z"
   },
   {
    "duration": 89,
    "start_time": "2022-02-20T23:58:19.918Z"
   },
   {
    "duration": 536,
    "start_time": "2022-02-20T23:58:20.009Z"
   },
   {
    "duration": 16,
    "start_time": "2022-02-20T23:58:20.547Z"
   },
   {
    "duration": 6,
    "start_time": "2022-02-20T23:58:20.565Z"
   },
   {
    "duration": 315064,
    "start_time": "2022-02-20T23:58:20.573Z"
   },
   {
    "duration": 720,
    "start_time": "2022-02-21T00:03:35.639Z"
   },
   {
    "duration": 14,
    "start_time": "2022-02-21T00:03:36.360Z"
   },
   {
    "duration": 3,
    "start_time": "2022-02-21T00:03:36.376Z"
   },
   {
    "duration": 39754,
    "start_time": "2022-02-21T00:03:36.381Z"
   },
   {
    "duration": 12,
    "start_time": "2022-02-21T00:04:16.137Z"
   },
   {
    "duration": 8087,
    "start_time": "2022-02-21T00:04:16.150Z"
   },
   {
    "duration": 15,
    "start_time": "2022-02-21T00:04:24.239Z"
   },
   {
    "duration": 9139,
    "start_time": "2022-02-23T16:25:20.649Z"
   },
   {
    "duration": 3471,
    "start_time": "2022-02-23T16:25:29.791Z"
   },
   {
    "duration": 12,
    "start_time": "2022-02-23T16:25:33.266Z"
   },
   {
    "duration": 404,
    "start_time": "2022-02-23T16:25:33.281Z"
   },
   {
    "duration": 49,
    "start_time": "2022-02-23T16:25:33.689Z"
   },
   {
    "duration": 48,
    "start_time": "2022-02-23T16:25:33.742Z"
   },
   {
    "duration": 289,
    "start_time": "2022-02-23T16:25:33.793Z"
   },
   {
    "duration": 382,
    "start_time": "2022-02-23T16:25:34.086Z"
   },
   {
    "duration": 20,
    "start_time": "2022-02-23T16:25:34.471Z"
   },
   {
    "duration": 334,
    "start_time": "2022-02-23T16:25:34.493Z"
   },
   {
    "duration": 529,
    "start_time": "2022-02-23T16:25:34.830Z"
   },
   {
    "duration": 305,
    "start_time": "2022-02-23T16:25:35.363Z"
   },
   {
    "duration": 296,
    "start_time": "2022-02-23T16:25:35.671Z"
   },
   {
    "duration": 6,
    "start_time": "2022-02-23T16:25:35.970Z"
   },
   {
    "duration": 14,
    "start_time": "2022-02-23T16:25:35.979Z"
   },
   {
    "duration": 85575,
    "start_time": "2022-02-23T16:25:35.996Z"
   },
   {
    "duration": 11,
    "start_time": "2022-02-23T16:27:01.574Z"
   },
   {
    "duration": 27,
    "start_time": "2022-02-23T16:27:01.588Z"
   },
   {
    "duration": 111,
    "start_time": "2022-02-23T16:27:01.618Z"
   },
   {
    "duration": 17,
    "start_time": "2022-02-23T16:27:01.732Z"
   },
   {
    "duration": 58,
    "start_time": "2022-02-23T16:27:01.752Z"
   },
   {
    "duration": 514,
    "start_time": "2022-02-23T16:27:01.813Z"
   },
   {
    "duration": -6226,
    "start_time": "2022-02-23T16:27:08.557Z"
   },
   {
    "duration": 5472,
    "start_time": "2022-02-25T11:19:08.002Z"
   },
   {
    "duration": 966,
    "start_time": "2022-02-25T11:19:13.478Z"
   },
   {
    "duration": 15,
    "start_time": "2022-02-25T11:19:14.449Z"
   },
   {
    "duration": 27,
    "start_time": "2022-02-25T11:19:14.468Z"
   },
   {
    "duration": 38,
    "start_time": "2022-02-25T11:19:14.498Z"
   },
   {
    "duration": 29,
    "start_time": "2022-02-25T11:19:14.539Z"
   },
   {
    "duration": 302,
    "start_time": "2022-02-25T11:19:14.594Z"
   },
   {
    "duration": 365,
    "start_time": "2022-02-25T11:19:14.899Z"
   },
   {
    "duration": 31,
    "start_time": "2022-02-25T11:19:15.268Z"
   },
   {
    "duration": 286,
    "start_time": "2022-02-25T11:19:15.302Z"
   },
   {
    "duration": 359,
    "start_time": "2022-02-25T11:19:15.594Z"
   },
   {
    "duration": 298,
    "start_time": "2022-02-25T11:19:15.956Z"
   },
   {
    "duration": 290,
    "start_time": "2022-02-25T11:19:16.256Z"
   },
   {
    "duration": 4,
    "start_time": "2022-02-25T11:19:16.548Z"
   },
   {
    "duration": 4,
    "start_time": "2022-02-25T11:19:16.555Z"
   },
   {
    "duration": 78143,
    "start_time": "2022-02-25T11:19:16.561Z"
   },
   {
    "duration": 8,
    "start_time": "2022-02-25T11:20:34.707Z"
   },
   {
    "duration": 11,
    "start_time": "2022-02-25T11:20:34.718Z"
   },
   {
    "duration": 101,
    "start_time": "2022-02-25T11:20:34.731Z"
   },
   {
    "duration": 4,
    "start_time": "2022-02-25T11:20:34.835Z"
   },
   {
    "duration": 65,
    "start_time": "2022-02-25T11:20:34.842Z"
   },
   {
    "duration": 19,
    "start_time": "2022-02-25T11:20:34.909Z"
   },
   {
    "duration": 4,
    "start_time": "2022-02-25T11:20:40.560Z"
   },
   {
    "duration": 2186,
    "start_time": "2022-02-25T11:40:51.310Z"
   },
   {
    "duration": 752,
    "start_time": "2022-02-25T11:40:53.499Z"
   },
   {
    "duration": 10,
    "start_time": "2022-02-25T11:40:54.254Z"
   },
   {
    "duration": 28,
    "start_time": "2022-02-25T11:40:54.267Z"
   },
   {
    "duration": 29,
    "start_time": "2022-02-25T11:40:54.298Z"
   },
   {
    "duration": 28,
    "start_time": "2022-02-25T11:40:54.330Z"
   },
   {
    "duration": 306,
    "start_time": "2022-02-25T11:40:54.360Z"
   },
   {
    "duration": 343,
    "start_time": "2022-02-25T11:40:54.670Z"
   },
   {
    "duration": 18,
    "start_time": "2022-02-25T11:40:55.016Z"
   },
   {
    "duration": 289,
    "start_time": "2022-02-25T11:40:55.037Z"
   },
   {
    "duration": 345,
    "start_time": "2022-02-25T11:40:55.329Z"
   },
   {
    "duration": 274,
    "start_time": "2022-02-25T11:40:55.677Z"
   },
   {
    "duration": 258,
    "start_time": "2022-02-25T11:40:55.954Z"
   },
   {
    "duration": 4,
    "start_time": "2022-02-25T11:40:56.214Z"
   },
   {
    "duration": 4,
    "start_time": "2022-02-25T11:40:56.221Z"
   },
   {
    "duration": 75351,
    "start_time": "2022-02-25T11:40:56.227Z"
   },
   {
    "duration": 22,
    "start_time": "2022-02-25T11:42:11.581Z"
   },
   {
    "duration": 13,
    "start_time": "2022-02-25T11:42:11.605Z"
   },
   {
    "duration": 125,
    "start_time": "2022-02-25T11:42:11.621Z"
   },
   {
    "duration": 4,
    "start_time": "2022-02-25T11:42:11.749Z"
   },
   {
    "duration": 77,
    "start_time": "2022-02-25T11:42:11.755Z"
   },
   {
    "duration": 25,
    "start_time": "2022-02-25T11:42:11.834Z"
   },
   {
    "duration": 5,
    "start_time": "2022-02-25T11:42:11.863Z"
   },
   {
    "duration": 27,
    "start_time": "2022-02-25T11:42:11.871Z"
   },
   {
    "duration": 468,
    "start_time": "2022-02-25T11:42:11.901Z"
   },
   {
    "duration": -22,
    "start_time": "2022-02-25T11:42:12.393Z"
   },
   {
    "duration": -32,
    "start_time": "2022-02-25T11:42:12.405Z"
   },
   {
    "duration": 93,
    "start_time": "2022-02-25T11:45:56.478Z"
   },
   {
    "duration": 795,
    "start_time": "2022-02-25T11:45:56.574Z"
   },
   {
    "duration": 10,
    "start_time": "2022-02-25T11:45:57.372Z"
   },
   {
    "duration": 16,
    "start_time": "2022-02-25T11:45:57.385Z"
   },
   {
    "duration": 31,
    "start_time": "2022-02-25T11:45:57.403Z"
   },
   {
    "duration": 30,
    "start_time": "2022-02-25T11:45:57.437Z"
   },
   {
    "duration": 300,
    "start_time": "2022-02-25T11:45:57.495Z"
   },
   {
    "duration": 355,
    "start_time": "2022-02-25T11:45:57.799Z"
   },
   {
    "duration": 16,
    "start_time": "2022-02-25T11:45:58.157Z"
   },
   {
    "duration": 285,
    "start_time": "2022-02-25T11:45:58.176Z"
   },
   {
    "duration": 342,
    "start_time": "2022-02-25T11:45:58.463Z"
   },
   {
    "duration": 294,
    "start_time": "2022-02-25T11:45:58.810Z"
   },
   {
    "duration": 274,
    "start_time": "2022-02-25T11:45:59.107Z"
   },
   {
    "duration": 12,
    "start_time": "2022-02-25T11:45:59.383Z"
   },
   {
    "duration": 5,
    "start_time": "2022-02-25T11:45:59.398Z"
   },
   {
    "duration": 76251,
    "start_time": "2022-02-25T11:45:59.405Z"
   },
   {
    "duration": 11,
    "start_time": "2022-02-25T11:47:15.659Z"
   },
   {
    "duration": 27,
    "start_time": "2022-02-25T11:47:15.673Z"
   },
   {
    "duration": 164,
    "start_time": "2022-02-25T11:47:15.703Z"
   },
   {
    "duration": 6,
    "start_time": "2022-02-25T11:47:15.870Z"
   },
   {
    "duration": 99,
    "start_time": "2022-02-25T11:47:15.879Z"
   },
   {
    "duration": 30,
    "start_time": "2022-02-25T11:47:15.981Z"
   },
   {
    "duration": 4,
    "start_time": "2022-02-25T11:47:16.016Z"
   },
   {
    "duration": 11,
    "start_time": "2022-02-25T11:47:16.022Z"
   },
   {
    "duration": 239,
    "start_time": "2022-02-25T11:47:16.035Z"
   },
   {
    "duration": -16,
    "start_time": "2022-02-25T11:47:16.293Z"
   },
   {
    "duration": -19,
    "start_time": "2022-02-25T11:47:16.297Z"
   },
   {
    "duration": 14,
    "start_time": "2022-02-25T11:49:19.028Z"
   },
   {
    "duration": 745,
    "start_time": "2022-02-25T11:49:19.045Z"
   },
   {
    "duration": 10,
    "start_time": "2022-02-25T11:49:19.794Z"
   },
   {
    "duration": 8,
    "start_time": "2022-02-25T11:49:19.806Z"
   },
   {
    "duration": 29,
    "start_time": "2022-02-25T11:49:19.817Z"
   },
   {
    "duration": 58,
    "start_time": "2022-02-25T11:49:19.848Z"
   },
   {
    "duration": 311,
    "start_time": "2022-02-25T11:49:19.908Z"
   },
   {
    "duration": 366,
    "start_time": "2022-02-25T11:49:20.223Z"
   },
   {
    "duration": 16,
    "start_time": "2022-02-25T11:49:20.592Z"
   },
   {
    "duration": 292,
    "start_time": "2022-02-25T11:49:20.611Z"
   },
   {
    "duration": 397,
    "start_time": "2022-02-25T11:49:20.906Z"
   },
   {
    "duration": 292,
    "start_time": "2022-02-25T11:49:21.306Z"
   },
   {
    "duration": 281,
    "start_time": "2022-02-25T11:49:21.601Z"
   },
   {
    "duration": 9,
    "start_time": "2022-02-25T11:49:21.885Z"
   },
   {
    "duration": 4,
    "start_time": "2022-02-25T11:49:21.896Z"
   },
   {
    "duration": 76371,
    "start_time": "2022-02-25T11:49:21.902Z"
   },
   {
    "duration": 19,
    "start_time": "2022-02-25T11:50:38.276Z"
   },
   {
    "duration": 10,
    "start_time": "2022-02-25T11:50:38.298Z"
   },
   {
    "duration": 120,
    "start_time": "2022-02-25T11:50:38.311Z"
   },
   {
    "duration": 5,
    "start_time": "2022-02-25T11:50:38.434Z"
   },
   {
    "duration": 80,
    "start_time": "2022-02-25T11:50:38.441Z"
   },
   {
    "duration": 27,
    "start_time": "2022-02-25T11:50:38.524Z"
   },
   {
    "duration": 4,
    "start_time": "2022-02-25T11:50:38.555Z"
   },
   {
    "duration": 32,
    "start_time": "2022-02-25T11:50:38.561Z"
   },
   {
    "duration": 5,
    "start_time": "2022-02-25T11:50:38.596Z"
   },
   {
    "duration": 279,
    "start_time": "2022-02-25T11:50:38.604Z"
   },
   {
    "duration": -411,
    "start_time": "2022-02-25T11:50:39.297Z"
   },
   {
    "duration": 6,
    "start_time": "2022-02-25T11:58:34.314Z"
   },
   {
    "duration": 304,
    "start_time": "2022-02-25T11:58:39.539Z"
   },
   {
    "duration": 300,
    "start_time": "2022-02-25T11:59:09.198Z"
   },
   {
    "duration": 334,
    "start_time": "2022-02-25T12:00:14.956Z"
   },
   {
    "duration": 4,
    "start_time": "2022-02-25T12:01:25.431Z"
   },
   {
    "duration": 90,
    "start_time": "2022-02-25T12:01:27.352Z"
   },
   {
    "duration": 5,
    "start_time": "2022-02-25T12:01:29.822Z"
   },
   {
    "duration": 79,
    "start_time": "2022-02-25T12:03:11.523Z"
   },
   {
    "duration": 5,
    "start_time": "2022-02-25T12:03:12.119Z"
   },
   {
    "duration": 3,
    "start_time": "2022-02-25T12:03:12.617Z"
   },
   {
    "duration": 55,
    "start_time": "2022-02-25T12:03:15.179Z"
   },
   {
    "duration": 22,
    "start_time": "2022-02-25T12:03:15.515Z"
   },
   {
    "duration": 6,
    "start_time": "2022-02-25T12:03:15.866Z"
   },
   {
    "duration": 12,
    "start_time": "2022-02-25T12:03:18.534Z"
   },
   {
    "duration": 5,
    "start_time": "2022-02-25T12:03:19.178Z"
   },
   {
    "duration": 6,
    "start_time": "2022-02-25T12:03:20.715Z"
   },
   {
    "duration": 380,
    "start_time": "2022-02-25T12:03:21.672Z"
   },
   {
    "duration": 320,
    "start_time": "2022-02-25T12:23:41.964Z"
   },
   {
    "duration": 361,
    "start_time": "2022-02-25T12:23:48.985Z"
   },
   {
    "duration": 17,
    "start_time": "2022-02-25T12:26:55.093Z"
   },
   {
    "duration": 5,
    "start_time": "2022-02-25T12:27:33.014Z"
   },
   {
    "duration": 72,
    "start_time": "2022-02-25T12:27:37.378Z"
   },
   {
    "duration": 5,
    "start_time": "2022-02-25T12:27:39.168Z"
   },
   {
    "duration": 51,
    "start_time": "2022-02-25T12:27:46.102Z"
   },
   {
    "duration": 23,
    "start_time": "2022-02-25T12:27:47.659Z"
   },
   {
    "duration": 10,
    "start_time": "2022-02-25T12:27:50.476Z"
   },
   {
    "duration": 4,
    "start_time": "2022-02-25T12:28:01.895Z"
   },
   {
    "duration": 97,
    "start_time": "2022-02-25T12:29:34.506Z"
   },
   {
    "duration": 26,
    "start_time": "2022-02-25T12:29:39.182Z"
   },
   {
    "duration": 4,
    "start_time": "2022-02-25T12:29:41.097Z"
   },
   {
    "duration": 86,
    "start_time": "2022-02-25T12:29:55.002Z"
   },
   {
    "duration": 5,
    "start_time": "2022-02-25T12:29:55.485Z"
   },
   {
    "duration": 5,
    "start_time": "2022-02-25T12:29:55.699Z"
   },
   {
    "duration": 49,
    "start_time": "2022-02-25T12:29:57.611Z"
   },
   {
    "duration": 34,
    "start_time": "2022-02-25T12:29:58.296Z"
   },
   {
    "duration": 5,
    "start_time": "2022-02-25T12:29:58.659Z"
   },
   {
    "duration": 12,
    "start_time": "2022-02-25T12:30:01.188Z"
   },
   {
    "duration": 5,
    "start_time": "2022-02-25T12:30:01.762Z"
   },
   {
    "duration": 6,
    "start_time": "2022-02-25T12:30:02.223Z"
   },
   {
    "duration": 295,
    "start_time": "2022-02-25T12:30:02.729Z"
   },
   {
    "duration": 4,
    "start_time": "2022-02-25T12:30:29.220Z"
   },
   {
    "duration": 5,
    "start_time": "2022-02-25T12:31:09.208Z"
   },
   {
    "duration": 78,
    "start_time": "2022-02-25T12:31:57.309Z"
   },
   {
    "duration": 866,
    "start_time": "2022-02-25T13:08:44.244Z"
   },
   {
    "duration": 1244,
    "start_time": "2022-02-25T13:08:51.102Z"
   },
   {
    "duration": 249,
    "start_time": "2022-02-25T13:09:08.444Z"
   },
   {
    "duration": 319,
    "start_time": "2022-02-25T13:09:30.503Z"
   },
   {
    "duration": 308,
    "start_time": "2022-02-25T14:36:57.338Z"
   },
   {
    "duration": 1365,
    "start_time": "2022-02-25T14:36:57.649Z"
   },
   {
    "duration": 9,
    "start_time": "2022-02-25T14:36:59.018Z"
   },
   {
    "duration": 9,
    "start_time": "2022-02-25T14:36:59.029Z"
   },
   {
    "duration": 55,
    "start_time": "2022-02-25T14:36:59.041Z"
   },
   {
    "duration": 29,
    "start_time": "2022-02-25T14:36:59.099Z"
   },
   {
    "duration": 318,
    "start_time": "2022-02-25T14:36:59.130Z"
   },
   {
    "duration": 399,
    "start_time": "2022-02-25T14:36:59.453Z"
   },
   {
    "duration": 18,
    "start_time": "2022-02-25T14:36:59.855Z"
   },
   {
    "duration": 300,
    "start_time": "2022-02-25T14:36:59.895Z"
   },
   {
    "duration": 364,
    "start_time": "2022-02-25T14:37:00.199Z"
   },
   {
    "duration": 306,
    "start_time": "2022-02-25T14:37:00.567Z"
   },
   {
    "duration": 300,
    "start_time": "2022-02-25T14:37:00.876Z"
   },
   {
    "duration": 6,
    "start_time": "2022-02-25T14:37:01.179Z"
   },
   {
    "duration": 6,
    "start_time": "2022-02-25T14:37:01.188Z"
   },
   {
    "duration": 85488,
    "start_time": "2022-02-25T14:37:01.196Z"
   },
   {
    "duration": 15,
    "start_time": "2022-02-25T14:38:26.686Z"
   },
   {
    "duration": 13,
    "start_time": "2022-02-25T14:38:26.705Z"
   },
   {
    "duration": 131,
    "start_time": "2022-02-25T14:38:26.720Z"
   },
   {
    "duration": 5,
    "start_time": "2022-02-25T14:38:26.854Z"
   },
   {
    "duration": 4,
    "start_time": "2022-02-25T14:38:26.861Z"
   },
   {
    "duration": 81,
    "start_time": "2022-02-25T14:38:26.867Z"
   },
   {
    "duration": 73,
    "start_time": "2022-02-25T14:38:26.953Z"
   },
   {
    "duration": 9,
    "start_time": "2022-02-25T14:38:27.029Z"
   },
   {
    "duration": 14,
    "start_time": "2022-02-25T14:38:27.040Z"
   },
   {
    "duration": 6,
    "start_time": "2022-02-25T14:38:27.057Z"
   },
   {
    "duration": 30,
    "start_time": "2022-02-25T14:38:27.066Z"
   },
   {
    "duration": 348,
    "start_time": "2022-02-25T14:38:27.099Z"
   },
   {
    "duration": 6,
    "start_time": "2022-02-25T14:43:13.318Z"
   },
   {
    "duration": 336,
    "start_time": "2022-02-25T14:43:14.952Z"
   },
   {
    "duration": 291,
    "start_time": "2022-02-25T14:45:14.216Z"
   },
   {
    "duration": 77,
    "start_time": "2022-02-25T14:53:46.696Z"
   },
   {
    "duration": 4,
    "start_time": "2022-02-25T14:53:47.135Z"
   },
   {
    "duration": 4,
    "start_time": "2022-02-25T14:53:47.452Z"
   },
   {
    "duration": 3,
    "start_time": "2022-02-25T14:53:47.742Z"
   },
   {
    "duration": 83,
    "start_time": "2022-02-25T14:53:48.032Z"
   },
   {
    "duration": 11569,
    "start_time": "2022-02-25T14:54:01.300Z"
   },
   {
    "duration": 5,
    "start_time": "2022-02-25T14:54:12.872Z"
   },
   {
    "duration": 49,
    "start_time": "2022-02-25T14:54:15.960Z"
   },
   {
    "duration": 23,
    "start_time": "2022-02-25T14:54:16.981Z"
   },
   {
    "duration": 5,
    "start_time": "2022-02-25T14:54:18.125Z"
   },
   {
    "duration": 10,
    "start_time": "2022-02-25T14:54:23.657Z"
   },
   {
    "duration": 4,
    "start_time": "2022-02-25T14:54:24.274Z"
   },
   {
    "duration": 6,
    "start_time": "2022-02-25T14:54:25.907Z"
   },
   {
    "duration": 284,
    "start_time": "2022-02-25T14:54:26.678Z"
   },
   {
    "duration": 9662,
    "start_time": "2022-03-01T09:47:28.171Z"
   },
   {
    "duration": 3783,
    "start_time": "2022-03-01T09:47:37.836Z"
   },
   {
    "duration": -1871,
    "start_time": "2022-03-01T09:47:43.495Z"
   },
   {
    "duration": -1873,
    "start_time": "2022-03-01T09:47:43.498Z"
   },
   {
    "duration": -1877,
    "start_time": "2022-03-01T09:47:43.503Z"
   },
   {
    "duration": -1885,
    "start_time": "2022-03-01T09:47:43.513Z"
   },
   {
    "duration": -1888,
    "start_time": "2022-03-01T09:47:43.517Z"
   },
   {
    "duration": -1897,
    "start_time": "2022-03-01T09:47:43.528Z"
   },
   {
    "duration": -1900,
    "start_time": "2022-03-01T09:47:43.532Z"
   },
   {
    "duration": -1904,
    "start_time": "2022-03-01T09:47:43.537Z"
   },
   {
    "duration": -1907,
    "start_time": "2022-03-01T09:47:43.541Z"
   },
   {
    "duration": -1908,
    "start_time": "2022-03-01T09:47:43.544Z"
   },
   {
    "duration": -1911,
    "start_time": "2022-03-01T09:47:43.548Z"
   },
   {
    "duration": -1913,
    "start_time": "2022-03-01T09:47:43.551Z"
   },
   {
    "duration": -1915,
    "start_time": "2022-03-01T09:47:43.554Z"
   },
   {
    "duration": -1917,
    "start_time": "2022-03-01T09:47:43.557Z"
   },
   {
    "duration": -1918,
    "start_time": "2022-03-01T09:47:43.560Z"
   },
   {
    "duration": -1920,
    "start_time": "2022-03-01T09:47:43.563Z"
   },
   {
    "duration": -1922,
    "start_time": "2022-03-01T09:47:43.566Z"
   },
   {
    "duration": -1923,
    "start_time": "2022-03-01T09:47:43.569Z"
   },
   {
    "duration": -1925,
    "start_time": "2022-03-01T09:47:43.572Z"
   },
   {
    "duration": -1926,
    "start_time": "2022-03-01T09:47:43.575Z"
   },
   {
    "duration": -1927,
    "start_time": "2022-03-01T09:47:43.577Z"
   },
   {
    "duration": -1929,
    "start_time": "2022-03-01T09:47:43.580Z"
   },
   {
    "duration": -1930,
    "start_time": "2022-03-01T09:47:43.583Z"
   },
   {
    "duration": -1932,
    "start_time": "2022-03-01T09:47:43.586Z"
   },
   {
    "duration": -1934,
    "start_time": "2022-03-01T09:47:43.589Z"
   },
   {
    "duration": -1934,
    "start_time": "2022-03-01T09:47:43.591Z"
   },
   {
    "duration": -1937,
    "start_time": "2022-03-01T09:47:43.595Z"
   },
   {
    "duration": -1939,
    "start_time": "2022-03-01T09:47:43.598Z"
   },
   {
    "duration": -1941,
    "start_time": "2022-03-01T09:47:43.601Z"
   },
   {
    "duration": -1930,
    "start_time": "2022-03-01T09:47:43.603Z"
   },
   {
    "duration": -1931,
    "start_time": "2022-03-01T09:47:43.606Z"
   },
   {
    "duration": -1932,
    "start_time": "2022-03-01T09:47:43.609Z"
   },
   {
    "duration": -1942,
    "start_time": "2022-03-01T09:47:43.621Z"
   },
   {
    "duration": -1944,
    "start_time": "2022-03-01T09:47:43.624Z"
   },
   {
    "duration": -1945,
    "start_time": "2022-03-01T09:47:43.627Z"
   },
   {
    "duration": -1947,
    "start_time": "2022-03-01T09:47:43.631Z"
   },
   {
    "duration": -1950,
    "start_time": "2022-03-01T09:47:43.635Z"
   },
   {
    "duration": -1952,
    "start_time": "2022-03-01T09:47:43.638Z"
   },
   {
    "duration": -1954,
    "start_time": "2022-03-01T09:47:43.642Z"
   },
   {
    "duration": -1955,
    "start_time": "2022-03-01T09:47:43.644Z"
   },
   {
    "duration": -1960,
    "start_time": "2022-03-01T09:47:43.651Z"
   },
   {
    "duration": -1962,
    "start_time": "2022-03-01T09:47:43.654Z"
   },
   {
    "duration": -1980,
    "start_time": "2022-03-01T09:47:43.673Z"
   },
   {
    "duration": -1981,
    "start_time": "2022-03-01T09:47:43.675Z"
   },
   {
    "duration": 86,
    "start_time": "2022-03-01T09:47:54.261Z"
   },
   {
    "duration": 3151,
    "start_time": "2022-03-01T09:47:54.350Z"
   },
   {
    "duration": 70,
    "start_time": "2022-03-01T09:47:57.505Z"
   },
   {
    "duration": 12,
    "start_time": "2022-03-01T09:47:57.579Z"
   },
   {
    "duration": 80,
    "start_time": "2022-03-01T09:47:57.593Z"
   },
   {
    "duration": 29,
    "start_time": "2022-03-01T09:47:57.676Z"
   },
   {
    "duration": 365,
    "start_time": "2022-03-01T09:47:57.707Z"
   },
   {
    "duration": 359,
    "start_time": "2022-03-01T09:47:58.075Z"
   },
   {
    "duration": 35,
    "start_time": "2022-03-01T09:47:58.440Z"
   },
   {
    "duration": 277,
    "start_time": "2022-03-01T09:47:58.479Z"
   },
   {
    "duration": 352,
    "start_time": "2022-03-01T09:47:58.759Z"
   },
   {
    "duration": 300,
    "start_time": "2022-03-01T09:47:59.114Z"
   },
   {
    "duration": 295,
    "start_time": "2022-03-01T09:47:59.417Z"
   },
   {
    "duration": 5,
    "start_time": "2022-03-01T09:47:59.715Z"
   },
   {
    "duration": 7,
    "start_time": "2022-03-01T09:47:59.723Z"
   },
   {
    "duration": 73701,
    "start_time": "2022-03-01T09:47:59.733Z"
   },
   {
    "duration": 10,
    "start_time": "2022-03-01T09:49:13.436Z"
   },
   {
    "duration": 31,
    "start_time": "2022-03-01T09:49:13.448Z"
   },
   {
    "duration": 102,
    "start_time": "2022-03-01T09:49:13.481Z"
   },
   {
    "duration": 5,
    "start_time": "2022-03-01T09:49:13.586Z"
   },
   {
    "duration": 13,
    "start_time": "2022-03-01T09:49:13.593Z"
   },
   {
    "duration": 8,
    "start_time": "2022-03-01T09:49:13.609Z"
   },
   {
    "duration": 12297,
    "start_time": "2022-03-01T09:49:13.619Z"
   },
   {
    "duration": 4,
    "start_time": "2022-03-01T09:49:25.918Z"
   },
   {
    "duration": 57,
    "start_time": "2022-03-01T09:49:25.924Z"
   },
   {
    "duration": 24,
    "start_time": "2022-03-01T09:49:25.983Z"
   },
   {
    "duration": 8,
    "start_time": "2022-03-01T09:49:26.012Z"
   },
   {
    "duration": 6,
    "start_time": "2022-03-01T09:49:26.023Z"
   },
   {
    "duration": 284,
    "start_time": "2022-03-01T09:49:26.032Z"
   },
   {
    "duration": 257,
    "start_time": "2022-03-01T09:49:26.318Z"
   },
   {
    "duration": -1936,
    "start_time": "2022-03-01T09:49:28.513Z"
   },
   {
    "duration": -1938,
    "start_time": "2022-03-01T09:49:28.516Z"
   },
   {
    "duration": -1939,
    "start_time": "2022-03-01T09:49:28.519Z"
   },
   {
    "duration": -1941,
    "start_time": "2022-03-01T09:49:28.522Z"
   },
   {
    "duration": -1943,
    "start_time": "2022-03-01T09:49:28.525Z"
   },
   {
    "duration": -1944,
    "start_time": "2022-03-01T09:49:28.528Z"
   },
   {
    "duration": -1947,
    "start_time": "2022-03-01T09:49:28.532Z"
   },
   {
    "duration": -1948,
    "start_time": "2022-03-01T09:49:28.535Z"
   },
   {
    "duration": -1950,
    "start_time": "2022-03-01T09:49:28.538Z"
   },
   {
    "duration": -1966,
    "start_time": "2022-03-01T09:49:28.555Z"
   },
   {
    "duration": -1991,
    "start_time": "2022-03-01T09:49:28.582Z"
   },
   {
    "duration": -1992,
    "start_time": "2022-03-01T09:49:28.584Z"
   },
   {
    "duration": -1994,
    "start_time": "2022-03-01T09:49:28.587Z"
   },
   {
    "duration": -1997,
    "start_time": "2022-03-01T09:49:28.591Z"
   },
   {
    "duration": -2000,
    "start_time": "2022-03-01T09:49:28.595Z"
   },
   {
    "duration": -2001,
    "start_time": "2022-03-01T09:49:28.597Z"
   },
   {
    "duration": 160,
    "start_time": "2022-03-01T10:47:25.601Z"
   },
   {
    "duration": 165,
    "start_time": "2022-03-01T10:56:07.403Z"
   },
   {
    "duration": 268,
    "start_time": "2022-03-01T10:56:19.339Z"
   }
  ],
  "kernelspec": {
   "display_name": "Python 3 (ipykernel)",
   "language": "python",
   "name": "python3"
  },
  "language_info": {
   "codemirror_mode": {
    "name": "ipython",
    "version": 3
   },
   "file_extension": ".py",
   "mimetype": "text/x-python",
   "name": "python",
   "nbconvert_exporter": "python",
   "pygments_lexer": "ipython3",
   "version": "3.9.5"
  },
  "toc": {
   "base_numbering": 1,
   "nav_menu": {},
   "number_sections": true,
   "sideBar": true,
   "skip_h1_title": true,
   "title_cell": "Содержание",
   "title_sidebar": "Contents",
   "toc_cell": true,
   "toc_position": {
    "height": "calc(100% - 180px)",
    "left": "10px",
    "top": "150px",
    "width": "302.375px"
   },
   "toc_section_display": true,
   "toc_window_display": false
  }
 },
 "nbformat": 4,
 "nbformat_minor": 2
}
